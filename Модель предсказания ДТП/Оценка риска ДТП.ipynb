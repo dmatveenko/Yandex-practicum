{
 "cells": [
  {
   "cell_type": "markdown",
   "id": "4855ac8a",
   "metadata": {},
   "source": [
    "**Задача**: нужно создать систему, которая могла бы оценить риск ДТП по выбранному маршруту движения. Под риском понимается вероятность ДТП с любым повреждением транспортного средства. Как только водитель забронировал автомобиль, сел за руль и выбрал маршрут, система должна оценить уровень риска. Если уровень риска высок, водитель увидит предупреждение и рекомендации по маршруту. \\\n",
    "Для анализа риска создается модель, предсказывающая возможность попадания водителя в аварию. Модель бинарной классификации. Отбираются и анализируются основные факторы, влияющие на модель."
   ]
  },
  {
   "cell_type": "markdown",
   "id": "abb5012a",
   "metadata": {
    "ExecuteTime": {
     "end_time": "2022-05-05T04:58:05.692448Z",
     "start_time": "2022-05-05T04:58:05.688565Z"
    }
   },
   "source": [
    "## Подключение к базе. Загрузка таблиц sql"
   ]
  },
  {
   "cell_type": "markdown",
   "id": "cb464d0e",
   "metadata": {},
   "source": [
    "Импорт необходимых библиотек"
   ]
  },
  {
   "cell_type": "code",
   "execution_count": 1,
   "id": "5f17e095",
   "metadata": {},
   "outputs": [],
   "source": [
    "import pandas as pd\n",
    "import matplotlib.pyplot as plt\n",
    "from sqlalchemy import create_engine\n",
    "from sklearn.model_selection import (train_test_split, GridSearchCV)\n",
    "from sklearn.preprocessing import OrdinalEncoder\n",
    "from sklearn.preprocessing import StandardScaler\n",
    "from sklearn.linear_model import LogisticRegression\n",
    "from sklearn.metrics import accuracy_score\n",
    "from sklearn.metrics import f1_score\n",
    "from sklearn.metrics import confusion_matrix\n",
    "from sklearn.metrics import precision_recall_curve\n",
    "from sklearn.tree import DecisionTreeClassifier\n",
    "from sklearn.ensemble import RandomForestClassifier\n",
    "from sklearn.model_selection import cross_val_score\n",
    "from catboost import CatBoostClassifier\n",
    "import lightgbm as gbm\n",
    "from pprint import pprint\n",
    "import numpy as np\n",
    "import xgboost as xgb\n",
    "import seaborn as sns\n",
    "import matplotlib.pyplot as plt"
   ]
  },
  {
   "cell_type": "markdown",
   "id": "c3864fa2",
   "metadata": {},
   "source": [
    "Создание словаря с параметрами подключения к базе данных"
   ]
  },
  {
   "cell_type": "code",
   "execution_count": 2,
   "id": "314a5292",
   "metadata": {},
   "outputs": [],
   "source": [
    "db_config = {\n",
    "    'user': 'praktikum_student', # имя пользователя\n",
    "    'pwd': 'Sdf4$2;d-d30pp', # пароль\n",
    "    'host': 'rc1b-wcoijxj3yxfsf3fs.mdb.yandexcloud.net',\n",
    "    'port': 6432, # порт подключения\n",
    "    'db': 'data-science-vehicle-db' # название базы данных\n",
    "}"
   ]
  },
  {
   "cell_type": "markdown",
   "id": "0b0907e1",
   "metadata": {},
   "source": [
    "Создание строки подключения"
   ]
  },
  {
   "cell_type": "code",
   "execution_count": 3,
   "id": "0a383e8f",
   "metadata": {},
   "outputs": [],
   "source": [
    "connection_string = 'postgresql://{}:{}@{}:{}/{}'.format(\n",
    "    db_config['user'],\n",
    "    db_config['pwd'],\n",
    "    db_config['host'],\n",
    "    db_config['port'],\n",
    "    db_config['db'],\n",
    ")"
   ]
  },
  {
   "cell_type": "markdown",
   "id": "f7e9ed79",
   "metadata": {},
   "source": [
    "создать \"движок\""
   ]
  },
  {
   "cell_type": "code",
   "execution_count": 4,
   "id": "e18efe47",
   "metadata": {},
   "outputs": [],
   "source": [
    "engine = create_engine(connection_string)"
   ]
  },
  {
   "cell_type": "raw",
   "id": "2289758c",
   "metadata": {},
   "source": [
    "Функция: на входе sql-запрос, на выходе - датасет с результатом запроса"
   ]
  },
  {
   "cell_type": "code",
   "execution_count": 5,
   "id": "99eb4d35",
   "metadata": {},
   "outputs": [],
   "source": [
    "def query_execution(query: str):\n",
    "    try:\n",
    "        data = pd.read_sql_query(query, con = engine) \n",
    "    except Exception as e:\n",
    "        print(e)\n",
    "        return None\n",
    "    return data"
   ]
  },
  {
   "cell_type": "markdown",
   "id": "c6fc6e96",
   "metadata": {},
   "source": [
    "Проверка таблиц из описания к задаче:"
   ]
  },
  {
   "cell_type": "code",
   "execution_count": 6,
   "id": "98ba8928",
   "metadata": {},
   "outputs": [
    {
     "name": "stdout",
     "output_type": "stream",
     "text": [
      "   case_id county_city_location county_location  distance direction  \\\n",
      "0  4083072                 1942     los angeles     528.0     north   \n",
      "1  4083075                 4313     santa clara       0.0      None   \n",
      "2  4083073                 0109         alameda       0.0      None   \n",
      "3  4083077                 0109         alameda       0.0      None   \n",
      "4  4083087                 4313     santa clara       0.0      None   \n",
      "\n",
      "   intersection weather_1 location_type collision_damage  party_count  \\\n",
      "0           0.0    cloudy       highway     small damage            2   \n",
      "1           1.0     clear          None     small damage            1   \n",
      "2           1.0     clear          None          scratch            2   \n",
      "3           1.0     clear          None          scratch            2   \n",
      "4           1.0     clear          None          scratch            2   \n",
      "\n",
      "  primary_collision_factor   pcf_violation_category type_of_collision  \\\n",
      "0   vehicle code violation       unsafe lane change         sideswipe   \n",
      "1   vehicle code violation         improper passing        hit object   \n",
      "2   vehicle code violation         improper turning         broadside   \n",
      "3   vehicle code violation  automobile right of way         broadside   \n",
      "4   vehicle code violation                 speeding          rear end   \n",
      "\n",
      "  motor_vehicle_involved_with road_surface road_condition_1  \\\n",
      "0         other motor vehicle          wet           normal   \n",
      "1                fixed object          dry           normal   \n",
      "2         other motor vehicle          dry           normal   \n",
      "3         other motor vehicle          dry           normal   \n",
      "4         other motor vehicle          dry             None   \n",
      "\n",
      "                  lighting control_device collision_date collision_time  \n",
      "0                 daylight           none     2009-01-22       07:25:00  \n",
      "1  dark with street lights    functioning     2009-01-03       02:26:00  \n",
      "2  dark with street lights    functioning     2009-01-11       03:32:00  \n",
      "3                 daylight    functioning     2009-01-11       10:35:00  \n",
      "4  dark with street lights    functioning     2009-01-02       22:43:00  \n"
     ]
    }
   ],
   "source": [
    "query = '''\n",
    "SELECT * FROM collisions;\n",
    "'''\n",
    "data_collisions = query_execution(query)\n",
    "print(data_collisions.head())\n",
    "data_collisions.to_csv('data_collisions.csv')"
   ]
  },
  {
   "cell_type": "code",
   "execution_count": 7,
   "id": "37b01d4f",
   "metadata": {},
   "outputs": [
    {
     "name": "stdout",
     "output_type": "stream",
     "text": [
      "   id  case_id  party_number   party_type  at_fault  insurance_premium  \\\n",
      "0  22  3899454             1   road signs         1               29.0   \n",
      "1  23  3899454             2   road signs         0                7.0   \n",
      "2  29  3899462             2          car         0               21.0   \n",
      "3  31  3899465             2   road signs         0               24.0   \n",
      "4  41  3899478             2  road bumper         0                NaN   \n",
      "\n",
      "          party_sobriety party_drug_physical  cellphone_in_use  \n",
      "0  had not been drinking                None               0.0  \n",
      "1  had not been drinking                None               0.0  \n",
      "2  had not been drinking                None               0.0  \n",
      "3  had not been drinking                None               0.0  \n",
      "4         not applicable      not applicable               0.0  \n"
     ]
    }
   ],
   "source": [
    "query = '''\n",
    "SELECT * FROM parties;\n",
    "'''\n",
    "data_parties = query_execution(query)\n",
    "print(data_parties.head())\n",
    "data_parties.to_csv('data_parties.csv')"
   ]
  },
  {
   "cell_type": "code",
   "execution_count": 8,
   "id": "0ff6affe",
   "metadata": {},
   "outputs": [
    {
     "name": "stdout",
     "output_type": "stream",
     "text": [
      "        id  case_id  party_number vehicle_type vehicle_transmission  \\\n",
      "0  1175713  5305032             2        sedan               manual   \n",
      "1        1  3858022             1        sedan                 auto   \n",
      "2  1175712  5305030             1        sedan                 auto   \n",
      "3  1175717  5305033             3        sedan                 auto   \n",
      "4  1175722  5305034             2        sedan                 auto   \n",
      "\n",
      "   vehicle_age  \n",
      "0          3.0  \n",
      "1          3.0  \n",
      "2          3.0  \n",
      "3          5.0  \n",
      "4          5.0  \n"
     ]
    }
   ],
   "source": [
    "query = '''\n",
    "SELECT * FROM vehicles;\n",
    "'''\n",
    "data_vehicles = query_execution(query)\n",
    "print(data_vehicles.head())\n",
    "data_vehicles.to_csv('data_vehicles.csv')"
   ]
  },
  {
   "cell_type": "code",
   "execution_count": 9,
   "id": "ddad5c39",
   "metadata": {},
   "outputs": [
    {
     "name": "stdout",
     "output_type": "stream",
     "text": [
      "   case_id county_city_location county_location  distance direction  \\\n",
      "0  4083072                 1942     los angeles     528.0     north   \n",
      "1  4083075                 4313     santa clara       0.0      None   \n",
      "2  4083073                 0109         alameda       0.0      None   \n",
      "3  4083077                 0109         alameda       0.0      None   \n",
      "4  4083087                 4313     santa clara       0.0      None   \n",
      "\n",
      "   intersection weather_1 location_type collision_damage  party_count  \\\n",
      "0           0.0    cloudy       highway     small damage            2   \n",
      "1           1.0     clear          None     small damage            1   \n",
      "2           1.0     clear          None          scratch            2   \n",
      "3           1.0     clear          None          scratch            2   \n",
      "4           1.0     clear          None          scratch            2   \n",
      "\n",
      "  primary_collision_factor   pcf_violation_category type_of_collision  \\\n",
      "0   vehicle code violation       unsafe lane change         sideswipe   \n",
      "1   vehicle code violation         improper passing        hit object   \n",
      "2   vehicle code violation         improper turning         broadside   \n",
      "3   vehicle code violation  automobile right of way         broadside   \n",
      "4   vehicle code violation                 speeding          rear end   \n",
      "\n",
      "  motor_vehicle_involved_with road_surface road_condition_1  \\\n",
      "0         other motor vehicle          wet           normal   \n",
      "1                fixed object          dry           normal   \n",
      "2         other motor vehicle          dry           normal   \n",
      "3         other motor vehicle          dry           normal   \n",
      "4         other motor vehicle          dry             None   \n",
      "\n",
      "                  lighting control_device collision_date collision_time  \n",
      "0                 daylight           none     2009-01-22       07:25:00  \n",
      "1  dark with street lights    functioning     2009-01-03       02:26:00  \n",
      "2  dark with street lights    functioning     2009-01-11       03:32:00  \n",
      "3                 daylight    functioning     2009-01-11       10:35:00  \n",
      "4  dark with street lights    functioning     2009-01-02       22:43:00  \n"
     ]
    }
   ],
   "source": [
    "query = '''\n",
    "SELECT * FROM case_ids;\n",
    "'''\n",
    "data_ids = query_execution(query)\n",
    "print(data_collisions.head())\n",
    "data_ids.to_csv('data_ids.csv')"
   ]
  },
  {
   "cell_type": "markdown",
   "id": "15508a3d",
   "metadata": {},
   "source": [
    "## Проведение первичного исследования таблиц"
   ]
  },
  {
   "cell_type": "markdown",
   "id": "1ee958e4",
   "metadata": {},
   "source": [
    "Для удобства исследование датасетов - через вызов вспомогательной функции:"
   ]
  },
  {
   "cell_type": "code",
   "execution_count": 10,
   "id": "a8d03bcc",
   "metadata": {},
   "outputs": [],
   "source": [
    "def primary_research(dataset):\n",
    "    print('----------------------------')\n",
    "    print('голова датасета:')\n",
    "    dataset.head()\n",
    "    print('----------------------------')\n",
    "    print('общая информация о датасете:')\n",
    "    dataset.info()\n",
    "    print('----------------------------')"
   ]
  },
  {
   "cell_type": "code",
   "execution_count": 11,
   "id": "d1321a81",
   "metadata": {
    "scrolled": false
   },
   "outputs": [
    {
     "name": "stdout",
     "output_type": "stream",
     "text": [
      "----------------------------\n",
      "голова датасета:\n",
      "----------------------------\n",
      "общая информация о датасете:\n",
      "<class 'pandas.core.frame.DataFrame'>\n",
      "RangeIndex: 1400000 entries, 0 to 1399999\n",
      "Data columns (total 20 columns):\n",
      " #   Column                       Non-Null Count    Dtype  \n",
      "---  ------                       --------------    -----  \n",
      " 0   case_id                      1400000 non-null  object \n",
      " 1   county_city_location         1400000 non-null  object \n",
      " 2   county_location              1400000 non-null  object \n",
      " 3   distance                     1400000 non-null  float64\n",
      " 4   direction                    1059358 non-null  object \n",
      " 5   intersection                 1387781 non-null  float64\n",
      " 6   weather_1                    1392741 non-null  object \n",
      " 7   location_type                518779 non-null   object \n",
      " 8   collision_damage             1400000 non-null  object \n",
      " 9   party_count                  1400000 non-null  int64  \n",
      " 10  primary_collision_factor     1391834 non-null  object \n",
      " 11  pcf_violation_category       1372046 non-null  object \n",
      " 12  type_of_collision            1388176 non-null  object \n",
      " 13  motor_vehicle_involved_with  1393181 non-null  object \n",
      " 14  road_surface                 1386907 non-null  object \n",
      " 15  road_condition_1             1388012 non-null  object \n",
      " 16  lighting                     1391407 non-null  object \n",
      " 17  control_device               1391593 non-null  object \n",
      " 18  collision_date               1400000 non-null  object \n",
      " 19  collision_time               1387692 non-null  object \n",
      "dtypes: float64(2), int64(1), object(17)\n",
      "memory usage: 213.6+ MB\n",
      "----------------------------\n"
     ]
    }
   ],
   "source": [
    "primary_research(data_collisions)"
   ]
  },
  {
   "cell_type": "code",
   "execution_count": 12,
   "id": "d17feb04",
   "metadata": {},
   "outputs": [
    {
     "name": "stdout",
     "output_type": "stream",
     "text": [
      "----------------------------\n",
      "голова датасета:\n",
      "----------------------------\n",
      "общая информация о датасете:\n",
      "<class 'pandas.core.frame.DataFrame'>\n",
      "RangeIndex: 2752408 entries, 0 to 2752407\n",
      "Data columns (total 9 columns):\n",
      " #   Column               Dtype  \n",
      "---  ------               -----  \n",
      " 0   id                   int64  \n",
      " 1   case_id              object \n",
      " 2   party_number         int64  \n",
      " 3   party_type           object \n",
      " 4   at_fault             int64  \n",
      " 5   insurance_premium    float64\n",
      " 6   party_sobriety       object \n",
      " 7   party_drug_physical  object \n",
      " 8   cellphone_in_use     float64\n",
      "dtypes: float64(2), int64(3), object(4)\n",
      "memory usage: 189.0+ MB\n",
      "----------------------------\n"
     ]
    }
   ],
   "source": [
    "primary_research(data_parties)"
   ]
  },
  {
   "cell_type": "code",
   "execution_count": 13,
   "id": "8702b1fe",
   "metadata": {},
   "outputs": [
    {
     "name": "stdout",
     "output_type": "stream",
     "text": [
      "----------------------------\n",
      "голова датасета:\n",
      "----------------------------\n",
      "общая информация о датасете:\n",
      "<class 'pandas.core.frame.DataFrame'>\n",
      "RangeIndex: 1021234 entries, 0 to 1021233\n",
      "Data columns (total 6 columns):\n",
      " #   Column                Non-Null Count    Dtype  \n",
      "---  ------                --------------    -----  \n",
      " 0   id                    1021234 non-null  int64  \n",
      " 1   case_id               1021234 non-null  object \n",
      " 2   party_number          1021234 non-null  int64  \n",
      " 3   vehicle_type          1021234 non-null  object \n",
      " 4   vehicle_transmission  997575 non-null   object \n",
      " 5   vehicle_age           996652 non-null   float64\n",
      "dtypes: float64(1), int64(2), object(3)\n",
      "memory usage: 46.7+ MB\n",
      "----------------------------\n"
     ]
    }
   ],
   "source": [
    "primary_research(data_vehicles)"
   ]
  },
  {
   "cell_type": "code",
   "execution_count": 14,
   "id": "83aaaab8",
   "metadata": {},
   "outputs": [
    {
     "name": "stdout",
     "output_type": "stream",
     "text": [
      "----------------------------\n",
      "голова датасета:\n",
      "----------------------------\n",
      "общая информация о датасете:\n",
      "<class 'pandas.core.frame.DataFrame'>\n",
      "RangeIndex: 1400000 entries, 0 to 1399999\n",
      "Data columns (total 2 columns):\n",
      " #   Column   Non-Null Count    Dtype \n",
      "---  ------   --------------    ----- \n",
      " 0   case_id  1400000 non-null  object\n",
      " 1   db_year  1400000 non-null  object\n",
      "dtypes: object(2)\n",
      "memory usage: 21.4+ MB\n",
      "----------------------------\n"
     ]
    }
   ],
   "source": [
    "primary_research(data_ids)"
   ]
  },
  {
   "cell_type": "markdown",
   "id": "c92de5aa",
   "metadata": {},
   "source": [
    "##  Проведение статистического анализа факторов ДТП"
   ]
  },
  {
   "cell_type": "markdown",
   "id": "a08c7541",
   "metadata": {},
   "source": [
    "<b>1. В какие месяцы происходит наибольшее количество аварий за весь период наблюдений (таблица collisions). </b>\\\n",
    "Фактически надо создать сводную таблицу, столбцы которой - годы из таблицы, строки - месяцы, значения - количество ДТП."
   ]
  },
  {
   "cell_type": "markdown",
   "id": "31985ad8",
   "metadata": {},
   "source": [
    "Сначала необходимо выяснить, по каким годам хранится статистика ДТП в таблице коллизий:"
   ]
  },
  {
   "cell_type": "code",
   "execution_count": 15,
   "id": "76738cc1",
   "metadata": {},
   "outputs": [],
   "source": [
    "query = '''\n",
    "SELECT DISTINCT CAST(EXTRACT(YEAR FROM collisions.collision_date) AS integer) AS YY\n",
    "FROM collisions\n",
    "ORDER BY YY;\n",
    "'''"
   ]
  },
  {
   "cell_type": "code",
   "execution_count": 16,
   "id": "57b6396e",
   "metadata": {},
   "outputs": [
    {
     "name": "stdout",
     "output_type": "stream",
     "text": [
      "     yy\n",
      "0  2009\n",
      "1  2010\n",
      "2  2011\n",
      "3  2012\n",
      "4  2013\n"
     ]
    }
   ],
   "source": [
    "data_years = query_execution(query)\n",
    "print(data_years.head())"
   ]
  },
  {
   "cell_type": "code",
   "execution_count": 17,
   "id": "7af280d5",
   "metadata": {},
   "outputs": [],
   "source": [
    "query = '''\n",
    "WITH collisions_2009 AS\n",
    "(\n",
    "    SELECT \n",
    "    CAST(EXTRACT(MONTH FROM collisions.collision_date) AS integer) AS month,\n",
    "    COUNT(case_id) as collisions_month_2009\n",
    "    FROM collisions\n",
    "    WHERE CAST(EXTRACT(YEAR FROM collisions.collision_date) AS integer) = 2009\n",
    "    GROUP BY CAST(EXTRACT(MONTH FROM collisions.collision_date) AS integer)\n",
    "    ORDER BY CAST(EXTRACT(MONTH FROM collisions.collision_date) AS integer)\n",
    "),\n",
    "collisions_2010 AS\n",
    "(\n",
    "    SELECT \n",
    "    CAST(EXTRACT(MONTH FROM collisions.collision_date) AS integer) AS month,\n",
    "    COUNT(case_id) as collisions_month_2010\n",
    "    FROM collisions\n",
    "    WHERE CAST(EXTRACT(YEAR FROM collisions.collision_date) AS integer) = 2010\n",
    "    GROUP BY CAST(EXTRACT(MONTH FROM collisions.collision_date) AS integer)\n",
    "    ORDER BY CAST(EXTRACT(MONTH FROM collisions.collision_date) AS integer)\n",
    "),\n",
    "collisions_2011 AS\n",
    "(\n",
    "    SELECT \n",
    "    CAST(EXTRACT(MONTH FROM collisions.collision_date) AS integer) AS month,\n",
    "    COUNT(case_id) as collisions_month_2011\n",
    "    FROM collisions\n",
    "    WHERE CAST(EXTRACT(YEAR FROM collisions.collision_date) AS integer) = 2011\n",
    "    GROUP BY CAST(EXTRACT(MONTH FROM collisions.collision_date) AS integer)\n",
    "    ORDER BY CAST(EXTRACT(MONTH FROM collisions.collision_date) AS integer)\n",
    "),\n",
    "collisions_2012 AS\n",
    "(\n",
    "    SELECT \n",
    "    CAST(EXTRACT(MONTH FROM collisions.collision_date) AS integer) AS month,\n",
    "    COUNT(case_id) as collisions_month_2012\n",
    "    FROM collisions\n",
    "    WHERE CAST(EXTRACT(YEAR FROM collisions.collision_date) AS integer) = 2012\n",
    "    GROUP BY CAST(EXTRACT(MONTH FROM collisions.collision_date) AS integer)\n",
    "    ORDER BY CAST(EXTRACT(MONTH FROM collisions.collision_date) AS integer)\n",
    "),\n",
    "collisions_2013 AS\n",
    "(\n",
    "    SELECT \n",
    "    CAST(EXTRACT(MONTH FROM collisions.collision_date) AS integer) AS month,\n",
    "    COUNT(case_id) as collisions_month_2013\n",
    "    FROM collisions\n",
    "    WHERE CAST(EXTRACT(YEAR FROM collisions.collision_date) AS integer) = 2013\n",
    "    GROUP BY CAST(EXTRACT(MONTH FROM collisions.collision_date) AS integer)\n",
    "    ORDER BY CAST(EXTRACT(MONTH FROM collisions.collision_date) AS integer)\n",
    "),\n",
    "collisions_2020 AS\n",
    "(\n",
    "    SELECT \n",
    "    CAST(EXTRACT(MONTH FROM collisions.collision_date) AS integer) AS month,\n",
    "    COUNT(case_id) as collisions_month_2020\n",
    "    FROM collisions\n",
    "    WHERE CAST(EXTRACT(YEAR FROM collisions.collision_date) AS integer) = 2020\n",
    "    GROUP BY CAST(EXTRACT(MONTH FROM collisions.collision_date) AS integer)\n",
    "    ORDER BY CAST(EXTRACT(MONTH FROM collisions.collision_date) AS integer)\n",
    ")\n",
    "SELECT\n",
    "collisions_2009.month, \n",
    "collisions_2009.collisions_month_2009 AS coll_2009, \n",
    "collisions_2010.collisions_month_2010 AS coll_2010,\n",
    "collisions_2011.collisions_month_2011 AS coll_2011,\n",
    "collisions_2012.collisions_month_2012 AS coll_2012,\n",
    "collisions_2013.collisions_month_2013 AS coll_2013,\n",
    "collisions_2020.collisions_month_2020 AS coll_2020\n",
    "\n",
    "FROM\n",
    "collisions_2009 \n",
    "LEFT JOIN collisions_2010 ON collisions_2009.month = collisions_2010.month\n",
    "LEFT JOIN collisions_2011 ON collisions_2009.month = collisions_2011.month\n",
    "LEFT JOIN collisions_2012 ON collisions_2009.month = collisions_2012.month\n",
    "LEFT JOIN collisions_2013 ON collisions_2009.month = collisions_2013.month\n",
    "LEFT JOIN collisions_2020 ON collisions_2009.month = collisions_2020.month\n",
    "\n",
    "ORDER BY month;\n",
    "'''"
   ]
  },
  {
   "cell_type": "code",
   "execution_count": 18,
   "id": "4d9f861b",
   "metadata": {
    "scrolled": true
   },
   "outputs": [
    {
     "name": "stdout",
     "output_type": "stream",
     "text": [
      "    month  coll_2009  coll_2010  coll_2011  coll_2012  coll_2013  coll_2020\n",
      "0       1      35062      32892      31926      32020      144.0        NaN\n",
      "1       2      34480      31918      31975      30377      108.0        NaN\n",
      "2       3      36648      35803      34585      32498       46.0        1.0\n",
      "3       4      35239      34416      31377      29143        5.0        NaN\n",
      "4       5      36916      34862      33370      25168        NaN        NaN\n",
      "5       6      34202      33367      31962       3062        1.0        NaN\n",
      "6       7      35161      33645      33029        390        1.0        1.0\n",
      "7       8      34508      34620      34339        622        NaN        NaN\n",
      "8       9      35555      34957      34137        510        NaN        NaN\n",
      "9      10      37835      37480      36618        304        NaN        NaN\n",
      "10     11      34562      35460      34495        253        NaN        NaN\n",
      "11     12      36060      37070      34615        200        NaN        NaN\n"
     ]
    }
   ],
   "source": [
    "data_years_month_collisions = query_execution(query)\n",
    "print(data_years_month_collisions)"
   ]
  },
  {
   "cell_type": "markdown",
   "id": "36f03ec9",
   "metadata": {},
   "source": [
    "Из таблицы видно, что в целом количество аварий по месяцам каждого года находится примерно на одном уровне. В 2010-2011гг.аварий в среднем меньше, чем в 2009. По 2012, 2013, 2020 гг. данные неполные."
   ]
  },
  {
   "cell_type": "code",
   "execution_count": 19,
   "id": "e70f2bfd",
   "metadata": {},
   "outputs": [
    {
     "data": {
      "text/plain": [
       "0     35062\n",
       "1     34480\n",
       "2     36648\n",
       "3     35239\n",
       "4     36916\n",
       "5     34202\n",
       "6     35161\n",
       "7     34508\n",
       "8     35555\n",
       "9     37835\n",
       "10    34562\n",
       "11    36060\n",
       "Name: coll_2009, dtype: int64"
      ]
     },
     "execution_count": 19,
     "metadata": {},
     "output_type": "execute_result"
    }
   ],
   "source": [
    "data_years_month_collisions['coll_2009']"
   ]
  },
  {
   "cell_type": "code",
   "execution_count": 20,
   "id": "917ffd8a",
   "metadata": {},
   "outputs": [
    {
     "data": {
      "image/png": "[encoded data removed]",
      "text/plain": [
       "<Figure size 432x288 with 1 Axes>"
      ]
     },
     "metadata": {
      "needs_background": "light"
     },
     "output_type": "display_data"
    }
   ],
   "source": [
    "# Data for plotting\n",
    "\n",
    "coll2009 = data_years_month_collisions['coll_2009']\n",
    "coll2010 = data_years_month_collisions['coll_2010']\n",
    "coll2011 = data_years_month_collisions['coll_2011']\n",
    "coll2012 = data_years_month_collisions['coll_2012']\n",
    "coll2013 = data_years_month_collisions['coll_2013']\n",
    "coll2020 = data_years_month_collisions['coll_2020']\n",
    "  \n",
    "# Plotting both the curves simultaneously\n",
    "plt.plot(data_years_month_collisions['month'], coll2009, color='r', label='y2009')\n",
    "plt.plot(data_years_month_collisions['month'], coll2010, color='g', label='y2010')\n",
    "plt.plot(data_years_month_collisions['month'], coll2011, color='b', label='y2011')\n",
    "plt.plot(data_years_month_collisions['month'], coll2012, color='c', label='y2012')\n",
    "plt.plot(data_years_month_collisions['month'], coll2013, color='y', label='y2013')\n",
    "plt.plot(data_years_month_collisions['month'], coll2020, color='m', label='y2020')\n",
    "\n",
    "plt.xlabel(\"month\")\n",
    "plt.ylabel(\"collisions\")\n",
    "plt.title(\"collisions by month\")\n",
    "\n",
    "plt.legend()\n",
    "\n",
    "plt.show()"
   ]
  },
  {
   "cell_type": "markdown",
   "id": "d5f559d6",
   "metadata": {},
   "source": [
    "<b>2. Анализ серьёзности повреждений транспортного средства исходя из состояния дороги в момент ДТП (связь collisions и parties). </b>\\\n",
    "Здесь сводная таблица на основе таблицы коллизий. По строкам - степень повреждения, по столбцам - состояние дороги. Значение - количество ДТП. Непонятно, зачем связывать ее с таблицей parties."
   ]
  },
  {
   "cell_type": "code",
   "execution_count": 21,
   "id": "7d8db1af",
   "metadata": {},
   "outputs": [],
   "source": [
    "query = '''\n",
    "WITH collisions_dry AS\n",
    "(\n",
    "    SELECT collision_damage, COUNT(case_id) \n",
    "    FROM collisions\n",
    "    WHERE road_surface = 'dry'\n",
    "    GROUP BY collision_damage\n",
    "),\n",
    "collisions_wet AS\n",
    "(\n",
    "    SELECT collision_damage, COUNT(case_id) \n",
    "    FROM collisions\n",
    "    WHERE road_surface = 'wet'\n",
    "    GROUP BY collision_damage\n",
    "),\n",
    "collisions_slippery AS\n",
    "(\n",
    "    SELECT collision_damage, COUNT(case_id) \n",
    "    FROM collisions\n",
    "    WHERE road_surface = 'slippery'\n",
    "    GROUP BY collision_damage\n",
    "),\n",
    "collisions_none AS\n",
    "(\n",
    "    SELECT collision_damage, COUNT(case_id) \n",
    "    FROM collisions\n",
    "    WHERE road_surface = 'none'\n",
    "    GROUP BY collision_damage\n",
    "),\n",
    "collisions_snowy AS\n",
    "(\n",
    "    SELECT collision_damage, COUNT(case_id) \n",
    "    FROM collisions\n",
    "    WHERE road_surface = 'snowy'\n",
    "    GROUP BY collision_damage\n",
    ")\n",
    "SELECT \n",
    "collisions_dry.collision_damage, \n",
    "collisions_dry.count AS collision_dry,\n",
    "collisions_wet.count AS collision_wet,\n",
    "collisions_slippery.count AS collision_slippery,\n",
    "collisions_none.count AS collision_none,\n",
    "collisions_snowy.count AS collision_snowy\n",
    "FROM collisions_dry\n",
    "LEFT JOIN collisions_wet ON collisions_dry.collision_damage = collisions_wet.collision_damage\n",
    "LEFT JOIN collisions_slippery ON collisions_dry.collision_damage = collisions_slippery.collision_damage\n",
    "LEFT JOIN collisions_none ON collisions_dry.collision_damage = collisions_none.collision_damage\n",
    "LEFT JOIN collisions_snowy ON collisions_dry.collision_damage = collisions_snowy.collision_damage;\n",
    "'''"
   ]
  },
  {
   "cell_type": "code",
   "execution_count": 22,
   "id": "3866edb7",
   "metadata": {
    "scrolled": true
   },
   "outputs": [
    {
     "name": "stdout",
     "output_type": "stream",
     "text": [
      "  collision_damage  collision_dry  collision_wet  collision_slippery  \\\n",
      "0            fatal           9823            857                  12   \n",
      "1    middle damage         151015          13190                 238   \n",
      "2          scratch         307963          33301                 308   \n",
      "3    severe damage          27827           2470                  64   \n",
      "4     small damage         745398          86418                 762   \n",
      "\n",
      "  collision_none  collision_snowy  \n",
      "0           None               46  \n",
      "1           None              762  \n",
      "2           None             1259  \n",
      "3           None              157  \n",
      "4           None             5037  \n"
     ]
    }
   ],
   "source": [
    "data_collisions_surface = query_execution(query)\n",
    "print(data_collisions_surface)"
   ]
  },
  {
   "cell_type": "markdown",
   "id": "69318181",
   "metadata": {},
   "source": [
    "Самое большое количество ДТП - на сухой поверхности дороги."
   ]
  },
  {
   "cell_type": "markdown",
   "id": "4befd104",
   "metadata": {},
   "source": [
    "<b>3. Поиск самых частых причины ДТП (таблица parties)</b> \\\n",
    "Основные факторы (т.е. причины ДТП) в таблице коллизий - primary_collision_factor \\\n",
    "Распределение количества ДТП из таблицы коллизий по типам ДТП:"
   ]
  },
  {
   "cell_type": "code",
   "execution_count": 23,
   "id": "a463954a",
   "metadata": {},
   "outputs": [],
   "source": [
    "query = '''\n",
    "SELECT \n",
    "primary_collision_factor,\n",
    "COUNT(case_id)\n",
    "FROM\n",
    "collisions\n",
    "GROUP BY primary_collision_factor;\n",
    "'''"
   ]
  },
  {
   "cell_type": "code",
   "execution_count": 24,
   "id": "9be1d8a2",
   "metadata": {},
   "outputs": [
    {
     "name": "stdout",
     "output_type": "stream",
     "text": [
      "  primary_collision_factor    count\n",
      "0              fell asleep      117\n",
      "1   other improper driving     8470\n",
      "2        other than driver    29780\n",
      "3                  unknown    37014\n",
      "4   vehicle code violation  1316453\n",
      "5                     None     8166\n"
     ]
    }
   ],
   "source": [
    "data_collisions_surface = query_execution(query)\n",
    "print(data_collisions_surface)"
   ]
  },
  {
   "cell_type": "markdown",
   "id": "25c94fda",
   "metadata": {},
   "source": [
    "<b>Еще задачи:</b> \\\n",
    "Все задачи разделил на группы: \n",
    "1. Анализ причин ДТП в зависимости от состояния транспортного средства \n",
    "2. Анализ причин ДТП в зависимости от факторов внешней среды \n",
    "3. Анализ причин ДТП в зависимости от участников ДТП "
   ]
  },
  {
   "cell_type": "markdown",
   "id": "368617c0",
   "metadata": {},
   "source": [
    "<b>1. Анализ причин ДТП в зависимости от состояния транспортного средства </b> \\\n",
    "Необходимо объединить таблицу коллизий и таблицу vehicles по case_id. Рассмотреть распределение количества аварий в зависимости от  \n",
    "1.1 возраста автомобиля (основное), \\\n",
    "1.2 типа трансмиссии, \\\n",
    "1.3 типа автомобиля."
   ]
  },
  {
   "cell_type": "markdown",
   "id": "8cf110d7",
   "metadata": {},
   "source": [
    "<b>2. Анализ причин ДТП в зависимости от состояния внешней среды </b> \\\n",
    "Необходимо использовать таблицу коллизий. Рассмотреть распределение количества аварий в зависимости от  \n",
    "2.1 типа освещения, \\\n",
    "2.2 типа дороги, \\\n",
    "2.3 состояния дороги, \\\n",
    "2.4 погоды и др."
   ]
  },
  {
   "cell_type": "markdown",
   "id": "d112af5a",
   "metadata": {},
   "source": [
    "В рамках поставленных задач я решил сделать хитмэп с количеством аварий по дням недели в 2009 году (в 2009 данные полные). Можно в принципе и по другому году, и за несколько лет, и по всем данным. Но поскольку в 2012-2020 данные не полные, бююсь, к искажению картины может привести, если по всем данным делать. \\\n",
    "Использовал sql и pandas, чтобы построить сводную таблицу. С одним только sql запрос сильно усложняется."
   ]
  },
  {
   "cell_type": "code",
   "execution_count": 25,
   "id": "728167a1",
   "metadata": {},
   "outputs": [],
   "source": [
    "query = '''\n",
    "SELECT \n",
    "CAST(EXTRACT(day FROM collision_date) AS integer) AS day,\n",
    "CAST(EXTRACT(MONTH FROM collision_date) AS integer) AS month,\n",
    "COUNT(case_id)\n",
    "FROM collisions\n",
    "WHERE CAST(EXTRACT(YEAR FROM collision_date) AS integer) = 2009\n",
    "GROUP BY \n",
    "CAST(EXTRACT(day FROM collision_date) AS integer),\n",
    "CAST(EXTRACT(MONTH FROM collision_date) AS integer)\n",
    "'''"
   ]
  },
  {
   "cell_type": "code",
   "execution_count": 26,
   "id": "1fe8f362",
   "metadata": {},
   "outputs": [
    {
     "name": "stdout",
     "output_type": "stream",
     "text": [
      "     day  month  count\n",
      "0      1      1   1001\n",
      "1      1      2    991\n",
      "2      1      3   1035\n",
      "3      1      4   1284\n",
      "4      1      5   1636\n",
      "..   ...    ...    ...\n",
      "360   31      5    952\n",
      "361   31      7   1271\n",
      "362   31      8   1211\n",
      "363   31     10   1172\n",
      "364   31     12    997\n",
      "\n",
      "[365 rows x 3 columns]\n"
     ]
    }
   ],
   "source": [
    "data_collisions_day_month = query_execution(query)\n",
    "print(data_collisions_day_month)"
   ]
  },
  {
   "cell_type": "code",
   "execution_count": 27,
   "id": "c6cf975b",
   "metadata": {
    "scrolled": true
   },
   "outputs": [],
   "source": [
    "data_pivot = data_collisions_day_month.pivot_table(index = 'month', columns = 'day', values = 'count')"
   ]
  },
  {
   "cell_type": "code",
   "execution_count": 28,
   "id": "1acdf06f",
   "metadata": {
    "scrolled": false
   },
   "outputs": [
    {
     "data": {
      "image/png": "[encoded data removed]",
      "text/plain": [
       "<Figure size 1080x360 with 2 Axes>"
      ]
     },
     "metadata": {
      "needs_background": "light"
     },
     "output_type": "display_data"
    }
   ],
   "source": [
    "fig, ax = plt.subplots(figsize=(15, 5))\n",
    "ax.set_title('Heatmap with collisions days by month in 2009')\n",
    "sns.heatmap(data_pivot);"
   ]
  },
  {
   "cell_type": "markdown",
   "id": "146b6ff7",
   "metadata": {},
   "source": [
    "Тут трудно выявить какие-либо тенденции. Понамешано."
   ]
  },
  {
   "cell_type": "markdown",
   "id": "c2fb35e1",
   "metadata": {},
   "source": [
    "То же самое для количества аварий по часам дня"
   ]
  },
  {
   "cell_type": "code",
   "execution_count": 29,
   "id": "a854bc7c",
   "metadata": {},
   "outputs": [],
   "source": [
    "query = '''\n",
    "SELECT \n",
    "CAST(EXTRACT(day FROM collision_date) AS integer) AS day,\n",
    "CAST(EXTRACT(HOUR FROM collision_time) AS integer) AS hour,\n",
    "COUNT(case_id)\n",
    "FROM collisions\n",
    "WHERE CAST(EXTRACT(YEAR FROM collision_date) AS integer) = 2009\n",
    "GROUP BY \n",
    "CAST(EXTRACT(day FROM collision_date) AS integer),\n",
    "CAST(EXTRACT(HOUR FROM collision_time) AS integer)\n",
    "'''"
   ]
  },
  {
   "cell_type": "code",
   "execution_count": 30,
   "id": "a702f0a2",
   "metadata": {},
   "outputs": [
    {
     "name": "stdout",
     "output_type": "stream",
     "text": [
      "     day  hour  count\n",
      "0      1   0.0    340\n",
      "1      1   1.0    399\n",
      "2      1   2.0    412\n",
      "3      1   3.0    245\n",
      "4      1   4.0    207\n",
      "..   ...   ...    ...\n",
      "770   31  20.0    320\n",
      "771   31  21.0    273\n",
      "772   31  22.0    291\n",
      "773   31  23.0    226\n",
      "774   31   NaN     82\n",
      "\n",
      "[775 rows x 3 columns]\n"
     ]
    }
   ],
   "source": [
    "data_collisions_day_hour = query_execution(query)\n",
    "print(data_collisions_day_hour)"
   ]
  },
  {
   "cell_type": "code",
   "execution_count": 31,
   "id": "8b4b6367",
   "metadata": {},
   "outputs": [],
   "source": [
    "data_pivot = data_collisions_day_hour.pivot_table(index = 'day', columns = 'hour', values = 'count')"
   ]
  },
  {
   "cell_type": "code",
   "execution_count": 32,
   "id": "e9d6f8a6",
   "metadata": {
    "scrolled": true
   },
   "outputs": [
    {
     "data": {
      "image/png": "[encoded data removed]",
      "text/plain": [
       "<Figure size 1080x360 with 2 Axes>"
      ]
     },
     "metadata": {
      "needs_background": "light"
     },
     "output_type": "display_data"
    }
   ],
   "source": [
    "fig, ax = plt.subplots(figsize=(15, 5))\n",
    "ax.set_title('Heatmap with collisions hours by days in 2009')\n",
    "sns.heatmap(data_pivot);"
   ]
  },
  {
   "cell_type": "markdown",
   "id": "556aa9c5",
   "metadata": {},
   "source": [
    "А вот тут ясно видно, что в дневные часы аварий больше, чем в ночные. Больше всего с 15 до 17 часов дня. Час пик видимо."
   ]
  },
  {
   "cell_type": "markdown",
   "id": "80b5c205",
   "metadata": {},
   "source": [
    "<b>3. Анализ причин ДТП в зависимости от участников ДТП </b> \\\n",
    "Здесь не требуется объединять таблицу коллизий и таблицу parties через case_ids (многие ко многим). Аварии как case_ids уже присутствуют в parties. Рассмотреть распределение количества аварий (используя DISTINCT) в зависимости от \\\n",
    "3.1 фактора алкогольного опъянения, \\\n",
    "3.2 воздействия лекарств, \\\n",
    "3.3 пользования мобильным телефоном."
   ]
  },
  {
   "cell_type": "markdown",
   "id": "9d103af7",
   "metadata": {},
   "source": [
    "Распределение аварий в зависимости от фактора алкогольного опъянения"
   ]
  },
  {
   "cell_type": "code",
   "execution_count": 33,
   "id": "5ee78e8f",
   "metadata": {},
   "outputs": [
    {
     "name": "stdout",
     "output_type": "stream",
     "text": [
      "     count                          party_sobriety\n",
      "0    20975   had been drinking, impairment unknown\n",
      "1    15967  had been drinking, not under influence\n",
      "2   111559      had been drinking, under influence\n",
      "3  1185724                   had not been drinking\n",
      "4   224079                      impairment unknown\n",
      "5   129640                          not applicable\n",
      "6    57946                                    None\n"
     ]
    }
   ],
   "source": [
    "query = '''\n",
    "SELECT \n",
    "COUNT(DISTINCT case_id),\n",
    "party_sobriety\n",
    "FROM\n",
    "parties\n",
    "GROUP BY party_sobriety;\n",
    "'''\n",
    "data_collisions_alcohol = query_execution(query)\n",
    "print(data_collisions_alcohol)"
   ]
  },
  {
   "cell_type": "markdown",
   "id": "8a5774d6",
   "metadata": {},
   "source": [
    "Распределение аварий в зависимости от воздействия лекарств"
   ]
  },
  {
   "cell_type": "code",
   "execution_count": 34,
   "id": "4900a22d",
   "metadata": {},
   "outputs": [
    {
     "name": "stdout",
     "output_type": "stream",
     "text": [
      "     count    party_drug_physical\n",
      "0   224079                      G\n",
      "1     4179  impairment - physical\n",
      "2   129640         not applicable\n",
      "3    12627        sleepy/fatigued\n",
      "4    13117   under drug influence\n",
      "5  1287180                   None\n"
     ]
    }
   ],
   "source": [
    "query = '''\n",
    "SELECT \n",
    "COUNT(DISTINCT case_id),\n",
    "party_drug_physical\n",
    "FROM\n",
    "parties\n",
    "GROUP BY party_drug_physical;\n",
    "'''\n",
    "data_collisions_drug_factor = query_execution(query)\n",
    "print(data_collisions_drug_factor)"
   ]
  },
  {
   "cell_type": "markdown",
   "id": "3c527162",
   "metadata": {},
   "source": [
    "Распределение аварий в зависимости от пользования мобильником:"
   ]
  },
  {
   "cell_type": "code",
   "execution_count": 35,
   "id": "fbf1d6db",
   "metadata": {},
   "outputs": [
    {
     "name": "stdout",
     "output_type": "stream",
     "text": [
      "     count  cellphone_in_use\n",
      "0  1179284               0.0\n",
      "1    32506               1.0\n",
      "2   306134               NaN\n"
     ]
    }
   ],
   "source": [
    "query = '''\n",
    "SELECT \n",
    "COUNT(DISTINCT case_id),\n",
    "cellphone_in_use\n",
    "FROM\n",
    "parties\n",
    "GROUP BY cellphone_in_use;\n",
    "'''\n",
    "data_collisions_cellphone = query_execution(query)\n",
    "print(data_collisions_cellphone)"
   ]
  },
  {
   "cell_type": "markdown",
   "id": "e748b48f",
   "metadata": {},
   "source": [
    "## Модель для оценки водительского риска"
   ]
  },
  {
   "cell_type": "markdown",
   "id": "8865ca70",
   "metadata": {},
   "source": [
    "Данные, содержащиеся в таблицах базы данных, предлагается разбить на 2 группы пре- и пост- факторы. Пре-факторы - те, которыми мы можем оперировать, которые становятся нам известными, когда человек садится в машину и выбирает маршрут (например, возраст авто, тип коробки, погода, состояние покрытия. По пъянству - спорно (кто же признается?), но я все равно и его включил (самый влияющий фактор оказался!). "
   ]
  },
  {
   "cell_type": "markdown",
   "id": "f68d988e",
   "metadata": {},
   "source": [
    "Запрос для построения датасета, по которому будем строить модель. \\\n",
    "Объединение всех таблиц, с выбором необходимых факторов, за 2012 год, где участвует машина."
   ]
  },
  {
   "cell_type": "code",
   "execution_count": 36,
   "id": "5402dbb4",
   "metadata": {},
   "outputs": [],
   "source": [
    "query = '''\n",
    "SELECT\n",
    "vehicles.vehicle_type,\n",
    "vehicles.vehicle_transmission,\n",
    "vehicles.vehicle_age,\n",
    "collisions.county_city_location,\n",
    "collisions.county_location,\n",
    "collisions.weather_1,\n",
    "collisions.location_type,\n",
    "collisions.road_surface,\n",
    "collisions.road_condition_1,\n",
    "collisions.lighting,\n",
    "collisions.control_device,\n",
    "collisions.collision_date,\n",
    "collisions.collision_time,\n",
    "parties.at_fault,\n",
    "parties.party_sobriety,\n",
    "parties.party_drug_physical,\n",
    "parties.cellphone_in_use\n",
    "FROM\n",
    "case_ids \n",
    "INNER JOIN vehicles ON case_ids.case_id = vehicles.case_id\n",
    "INNER JOIN collisions ON case_ids.case_id = collisions.case_id\n",
    "INNER JOIN parties ON case_ids.case_id = parties.case_id\n",
    "WHERE collisions.collision_damage != 'scratch' \n",
    "AND CAST(EXTRACT(YEAR FROM collisions.collision_date) AS INTEGER) = '2012' \n",
    "AND parties.party_type = 'car'\n",
    "AND vehicles.party_number = parties.party_number;\n",
    "'''"
   ]
  },
  {
   "cell_type": "code",
   "execution_count": 37,
   "id": "602bd9d7",
   "metadata": {
    "scrolled": true
   },
   "outputs": [
    {
     "data": {
      "text/html": [
       "<div>\n",
       "<style scoped>\n",
       "    .dataframe tbody tr th:only-of-type {\n",
       "        vertical-align: middle;\n",
       "    }\n",
       "\n",
       "    .dataframe tbody tr th {\n",
       "        vertical-align: top;\n",
       "    }\n",
       "\n",
       "    .dataframe thead th {\n",
       "        text-align: right;\n",
       "    }\n",
       "</style>\n",
       "<table border=\"1\" class=\"dataframe\">\n",
       "  <thead>\n",
       "    <tr style=\"text-align: right;\">\n",
       "      <th></th>\n",
       "      <th>vehicle_type</th>\n",
       "      <th>vehicle_transmission</th>\n",
       "      <th>vehicle_age</th>\n",
       "      <th>county_city_location</th>\n",
       "      <th>county_location</th>\n",
       "      <th>weather_1</th>\n",
       "      <th>location_type</th>\n",
       "      <th>road_surface</th>\n",
       "      <th>road_condition_1</th>\n",
       "      <th>lighting</th>\n",
       "      <th>control_device</th>\n",
       "      <th>collision_date</th>\n",
       "      <th>collision_time</th>\n",
       "      <th>at_fault</th>\n",
       "      <th>party_sobriety</th>\n",
       "      <th>party_drug_physical</th>\n",
       "      <th>cellphone_in_use</th>\n",
       "    </tr>\n",
       "  </thead>\n",
       "  <tbody>\n",
       "    <tr>\n",
       "      <th>0</th>\n",
       "      <td>sedan</td>\n",
       "      <td>auto</td>\n",
       "      <td>3.0</td>\n",
       "      <td>3010</td>\n",
       "      <td>orange</td>\n",
       "      <td>clear</td>\n",
       "      <td>None</td>\n",
       "      <td>dry</td>\n",
       "      <td>normal</td>\n",
       "      <td>daylight</td>\n",
       "      <td>none</td>\n",
       "      <td>2012-04-17</td>\n",
       "      <td>17:09:00</td>\n",
       "      <td>1</td>\n",
       "      <td>impairment unknown</td>\n",
       "      <td>G</td>\n",
       "      <td>NaN</td>\n",
       "    </tr>\n",
       "    <tr>\n",
       "      <th>1</th>\n",
       "      <td>sedan</td>\n",
       "      <td>manual</td>\n",
       "      <td>3.0</td>\n",
       "      <td>4806</td>\n",
       "      <td>solano</td>\n",
       "      <td>cloudy</td>\n",
       "      <td>ramp</td>\n",
       "      <td>dry</td>\n",
       "      <td>normal</td>\n",
       "      <td>daylight</td>\n",
       "      <td>none</td>\n",
       "      <td>2012-01-02</td>\n",
       "      <td>15:32:00</td>\n",
       "      <td>1</td>\n",
       "      <td>had not been drinking</td>\n",
       "      <td>None</td>\n",
       "      <td>0.0</td>\n",
       "    </tr>\n",
       "    <tr>\n",
       "      <th>2</th>\n",
       "      <td>sedan</td>\n",
       "      <td>manual</td>\n",
       "      <td>NaN</td>\n",
       "      <td>3001</td>\n",
       "      <td>orange</td>\n",
       "      <td>clear</td>\n",
       "      <td>None</td>\n",
       "      <td>dry</td>\n",
       "      <td>normal</td>\n",
       "      <td>dark with street lights</td>\n",
       "      <td>functioning</td>\n",
       "      <td>2012-01-01</td>\n",
       "      <td>22:06:00</td>\n",
       "      <td>0</td>\n",
       "      <td>had not been drinking</td>\n",
       "      <td>None</td>\n",
       "      <td>0.0</td>\n",
       "    </tr>\n",
       "    <tr>\n",
       "      <th>3</th>\n",
       "      <td>sedan</td>\n",
       "      <td>manual</td>\n",
       "      <td>3.0</td>\n",
       "      <td>3906</td>\n",
       "      <td>san joaquin</td>\n",
       "      <td>fog</td>\n",
       "      <td>highway</td>\n",
       "      <td>dry</td>\n",
       "      <td>normal</td>\n",
       "      <td>dark with no street lights</td>\n",
       "      <td>functioning</td>\n",
       "      <td>2012-01-01</td>\n",
       "      <td>03:00:00</td>\n",
       "      <td>1</td>\n",
       "      <td>had not been drinking</td>\n",
       "      <td>None</td>\n",
       "      <td>0.0</td>\n",
       "    </tr>\n",
       "    <tr>\n",
       "      <th>4</th>\n",
       "      <td>sedan</td>\n",
       "      <td>manual</td>\n",
       "      <td>4.0</td>\n",
       "      <td>4200</td>\n",
       "      <td>santa barbara</td>\n",
       "      <td>clear</td>\n",
       "      <td>None</td>\n",
       "      <td>dry</td>\n",
       "      <td>normal</td>\n",
       "      <td>dusk or dawn</td>\n",
       "      <td>none</td>\n",
       "      <td>2012-01-02</td>\n",
       "      <td>17:08:00</td>\n",
       "      <td>1</td>\n",
       "      <td>had not been drinking</td>\n",
       "      <td>None</td>\n",
       "      <td>0.0</td>\n",
       "    </tr>\n",
       "  </tbody>\n",
       "</table>\n",
       "</div>"
      ],
      "text/plain": [
       "  vehicle_type vehicle_transmission  vehicle_age county_city_location  \\\n",
       "0        sedan                 auto          3.0                 3010   \n",
       "1        sedan               manual          3.0                 4806   \n",
       "2        sedan               manual          NaN                 3001   \n",
       "3        sedan               manual          3.0                 3906   \n",
       "4        sedan               manual          4.0                 4200   \n",
       "\n",
       "  county_location weather_1 location_type road_surface road_condition_1  \\\n",
       "0          orange     clear          None          dry           normal   \n",
       "1          solano    cloudy          ramp          dry           normal   \n",
       "2          orange     clear          None          dry           normal   \n",
       "3     san joaquin       fog       highway          dry           normal   \n",
       "4   santa barbara     clear          None          dry           normal   \n",
       "\n",
       "                     lighting control_device collision_date collision_time  \\\n",
       "0                    daylight           none     2012-04-17       17:09:00   \n",
       "1                    daylight           none     2012-01-02       15:32:00   \n",
       "2     dark with street lights    functioning     2012-01-01       22:06:00   \n",
       "3  dark with no street lights    functioning     2012-01-01       03:00:00   \n",
       "4                dusk or dawn           none     2012-01-02       17:08:00   \n",
       "\n",
       "   at_fault         party_sobriety party_drug_physical  cellphone_in_use  \n",
       "0         1     impairment unknown                   G               NaN  \n",
       "1         1  had not been drinking                None               0.0  \n",
       "2         0  had not been drinking                None               0.0  \n",
       "3         1  had not been drinking                None               0.0  \n",
       "4         1  had not been drinking                None               0.0  "
      ]
     },
     "execution_count": 37,
     "metadata": {},
     "output_type": "execute_result"
    }
   ],
   "source": [
    "data = query_execution(query)\n",
    "data.head()"
   ]
  },
  {
   "cell_type": "markdown",
   "id": "0fb52af8",
   "metadata": {},
   "source": [
    "Первичная информация о получившемся датасете. Почти все признаки - категориальные. Только возраст - числовой. \\\n",
    "Таргетом будет признак 'at_fault'."
   ]
  },
  {
   "cell_type": "code",
   "execution_count": 38,
   "id": "7be19255",
   "metadata": {
    "scrolled": true
   },
   "outputs": [
    {
     "name": "stdout",
     "output_type": "stream",
     "text": [
      "<class 'pandas.core.frame.DataFrame'>\n",
      "RangeIndex: 56248 entries, 0 to 56247\n",
      "Data columns (total 17 columns):\n",
      " #   Column                Non-Null Count  Dtype  \n",
      "---  ------                --------------  -----  \n",
      " 0   vehicle_type          56248 non-null  object \n",
      " 1   vehicle_transmission  55389 non-null  object \n",
      " 2   vehicle_age           54554 non-null  float64\n",
      " 3   county_city_location  56248 non-null  object \n",
      " 4   county_location       56248 non-null  object \n",
      " 5   weather_1             56080 non-null  object \n",
      " 6   location_type         25932 non-null  object \n",
      " 7   road_surface          55900 non-null  object \n",
      " 8   road_condition_1      55999 non-null  object \n",
      " 9   lighting              56094 non-null  object \n",
      " 10  control_device        56033 non-null  object \n",
      " 11  collision_date        56248 non-null  object \n",
      " 12  collision_time        56160 non-null  object \n",
      " 13  at_fault              56248 non-null  int64  \n",
      " 14  party_sobriety        55376 non-null  object \n",
      " 15  party_drug_physical   2857 non-null   object \n",
      " 16  cellphone_in_use      51777 non-null  float64\n",
      "dtypes: float64(2), int64(1), object(14)\n",
      "memory usage: 7.3+ MB\n"
     ]
    }
   ],
   "source": [
    "data.info()"
   ]
  },
  {
   "cell_type": "markdown",
   "id": "01965a37",
   "metadata": {},
   "source": [
    "Первичный анализ указывает на наличие пропуской в признаках. Пропуски меняю на 'not_stated'."
   ]
  },
  {
   "cell_type": "code",
   "execution_count": 39,
   "id": "8c89c771",
   "metadata": {
    "scrolled": true
   },
   "outputs": [
    {
     "data": {
      "text/plain": [
       "array([  3.,  nan,   4.,   1.,   8.,  12.,   7.,  11.,   6.,  13.,   5.,\n",
       "         9.,   2.,  10.,   0.,  17.,  14.,  16.,  15., 161.,  19.])"
      ]
     },
     "execution_count": 39,
     "metadata": {},
     "output_type": "execute_result"
    }
   ],
   "source": [
    "data['vehicle_age'].unique()"
   ]
  },
  {
   "cell_type": "code",
   "execution_count": 40,
   "id": "3a682332",
   "metadata": {
    "scrolled": true
   },
   "outputs": [
    {
     "data": {
      "text/plain": [
       "array(['auto', 'manual', None], dtype=object)"
      ]
     },
     "execution_count": 40,
     "metadata": {},
     "output_type": "execute_result"
    }
   ],
   "source": [
    "data['vehicle_transmission'].unique()"
   ]
  },
  {
   "cell_type": "code",
   "execution_count": 41,
   "id": "c17174c1",
   "metadata": {},
   "outputs": [],
   "source": [
    "data['vehicle_transmission'] = data['vehicle_transmission'].fillna('not_stated')"
   ]
  },
  {
   "cell_type": "code",
   "execution_count": 42,
   "id": "9ec1957a",
   "metadata": {},
   "outputs": [],
   "source": [
    "data['weather_1'] = data['weather_1'].fillna('not_stated')"
   ]
  },
  {
   "cell_type": "code",
   "execution_count": 43,
   "id": "f789a8c3",
   "metadata": {},
   "outputs": [],
   "source": [
    "data['location_type'] = data['location_type'].fillna('not_stated')"
   ]
  },
  {
   "cell_type": "code",
   "execution_count": 44,
   "id": "87d8686f",
   "metadata": {},
   "outputs": [],
   "source": [
    "data['road_surface'] = data['road_surface'].fillna('not_stated')"
   ]
  },
  {
   "cell_type": "code",
   "execution_count": 45,
   "id": "d735b778",
   "metadata": {},
   "outputs": [],
   "source": [
    "data['road_condition_1'] = data['road_condition_1'].fillna('not_stated')"
   ]
  },
  {
   "cell_type": "code",
   "execution_count": 46,
   "id": "18950042",
   "metadata": {},
   "outputs": [],
   "source": [
    "data['lighting'] = data['lighting'].fillna('not_stated')"
   ]
  },
  {
   "cell_type": "code",
   "execution_count": 47,
   "id": "10e6d13d",
   "metadata": {},
   "outputs": [],
   "source": [
    "data.loc[data['control_device'] == 'none', 'control_device'] = 'not_stated'"
   ]
  },
  {
   "cell_type": "code",
   "execution_count": 48,
   "id": "d3d58c61",
   "metadata": {},
   "outputs": [],
   "source": [
    "data['control_device'] = data['control_device'].fillna('not_stated')"
   ]
  },
  {
   "cell_type": "code",
   "execution_count": 49,
   "id": "8923b4fb",
   "metadata": {},
   "outputs": [],
   "source": [
    "data['party_sobriety'] = data['party_sobriety'].fillna('not_stated')"
   ]
  },
  {
   "cell_type": "code",
   "execution_count": 50,
   "id": "249b9a11",
   "metadata": {},
   "outputs": [],
   "source": [
    "data['party_drug_physical'] = data['party_drug_physical'].fillna('not_stated')"
   ]
  },
  {
   "cell_type": "code",
   "execution_count": 51,
   "id": "0552bc1b",
   "metadata": {},
   "outputs": [],
   "source": [
    "data['cellphone_in_use'] = data['cellphone_in_use'].fillna('not_stated')"
   ]
  },
  {
   "cell_type": "code",
   "execution_count": 52,
   "id": "62e6d5e3",
   "metadata": {},
   "outputs": [],
   "source": [
    "data.dropna(subset = ['vehicle_age'], inplace = True)"
   ]
  },
  {
   "cell_type": "code",
   "execution_count": 53,
   "id": "efe7d751",
   "metadata": {},
   "outputs": [],
   "source": [
    "data.dropna(subset = ['collision_time'], inplace = True)"
   ]
  },
  {
   "cell_type": "code",
   "execution_count": 54,
   "id": "93079655",
   "metadata": {},
   "outputs": [],
   "source": [
    "data.reset_index(inplace = True)"
   ]
  },
  {
   "cell_type": "markdown",
   "id": "a02f458b",
   "metadata": {},
   "source": [
    "Результат:"
   ]
  },
  {
   "cell_type": "code",
   "execution_count": 55,
   "id": "54934da2",
   "metadata": {
    "scrolled": true
   },
   "outputs": [
    {
     "name": "stdout",
     "output_type": "stream",
     "text": [
      "<class 'pandas.core.frame.DataFrame'>\n",
      "RangeIndex: 54470 entries, 0 to 54469\n",
      "Data columns (total 18 columns):\n",
      " #   Column                Non-Null Count  Dtype  \n",
      "---  ------                --------------  -----  \n",
      " 0   index                 54470 non-null  int64  \n",
      " 1   vehicle_type          54470 non-null  object \n",
      " 2   vehicle_transmission  54470 non-null  object \n",
      " 3   vehicle_age           54470 non-null  float64\n",
      " 4   county_city_location  54470 non-null  object \n",
      " 5   county_location       54470 non-null  object \n",
      " 6   weather_1             54470 non-null  object \n",
      " 7   location_type         54470 non-null  object \n",
      " 8   road_surface          54470 non-null  object \n",
      " 9   road_condition_1      54470 non-null  object \n",
      " 10  lighting              54470 non-null  object \n",
      " 11  control_device        54470 non-null  object \n",
      " 12  collision_date        54470 non-null  object \n",
      " 13  collision_time        54470 non-null  object \n",
      " 14  at_fault              54470 non-null  int64  \n",
      " 15  party_sobriety        54470 non-null  object \n",
      " 16  party_drug_physical   54470 non-null  object \n",
      " 17  cellphone_in_use      54470 non-null  object \n",
      "dtypes: float64(1), int64(2), object(15)\n",
      "memory usage: 7.5+ MB\n"
     ]
    }
   ],
   "source": [
    "data.info()"
   ]
  },
  {
   "cell_type": "markdown",
   "id": "7334c8c6",
   "metadata": {},
   "source": [
    "Нулей и единиц в таргете практически поровну (сбалансированные)."
   ]
  },
  {
   "cell_type": "code",
   "execution_count": 56,
   "id": "b9c030e2",
   "metadata": {
    "scrolled": true
   },
   "outputs": [
    {
     "data": {
      "text/html": [
       "<div>\n",
       "<style scoped>\n",
       "    .dataframe tbody tr th:only-of-type {\n",
       "        vertical-align: middle;\n",
       "    }\n",
       "\n",
       "    .dataframe tbody tr th {\n",
       "        vertical-align: top;\n",
       "    }\n",
       "\n",
       "    .dataframe thead th {\n",
       "        text-align: right;\n",
       "    }\n",
       "</style>\n",
       "<table border=\"1\" class=\"dataframe\">\n",
       "  <thead>\n",
       "    <tr style=\"text-align: right;\">\n",
       "      <th></th>\n",
       "      <th>index</th>\n",
       "      <th>vehicle_type</th>\n",
       "      <th>vehicle_transmission</th>\n",
       "      <th>vehicle_age</th>\n",
       "      <th>county_city_location</th>\n",
       "      <th>county_location</th>\n",
       "      <th>weather_1</th>\n",
       "      <th>location_type</th>\n",
       "      <th>road_surface</th>\n",
       "      <th>road_condition_1</th>\n",
       "      <th>lighting</th>\n",
       "      <th>control_device</th>\n",
       "      <th>collision_date</th>\n",
       "      <th>collision_time</th>\n",
       "      <th>party_sobriety</th>\n",
       "      <th>party_drug_physical</th>\n",
       "      <th>cellphone_in_use</th>\n",
       "    </tr>\n",
       "    <tr>\n",
       "      <th>at_fault</th>\n",
       "      <th></th>\n",
       "      <th></th>\n",
       "      <th></th>\n",
       "      <th></th>\n",
       "      <th></th>\n",
       "      <th></th>\n",
       "      <th></th>\n",
       "      <th></th>\n",
       "      <th></th>\n",
       "      <th></th>\n",
       "      <th></th>\n",
       "      <th></th>\n",
       "      <th></th>\n",
       "      <th></th>\n",
       "      <th></th>\n",
       "      <th></th>\n",
       "      <th></th>\n",
       "    </tr>\n",
       "  </thead>\n",
       "  <tbody>\n",
       "    <tr>\n",
       "      <th>0</th>\n",
       "      <td>26999</td>\n",
       "      <td>26999</td>\n",
       "      <td>26999</td>\n",
       "      <td>26999</td>\n",
       "      <td>26999</td>\n",
       "      <td>26999</td>\n",
       "      <td>26999</td>\n",
       "      <td>26999</td>\n",
       "      <td>26999</td>\n",
       "      <td>26999</td>\n",
       "      <td>26999</td>\n",
       "      <td>26999</td>\n",
       "      <td>26999</td>\n",
       "      <td>26999</td>\n",
       "      <td>26999</td>\n",
       "      <td>26999</td>\n",
       "      <td>26999</td>\n",
       "    </tr>\n",
       "    <tr>\n",
       "      <th>1</th>\n",
       "      <td>27471</td>\n",
       "      <td>27471</td>\n",
       "      <td>27471</td>\n",
       "      <td>27471</td>\n",
       "      <td>27471</td>\n",
       "      <td>27471</td>\n",
       "      <td>27471</td>\n",
       "      <td>27471</td>\n",
       "      <td>27471</td>\n",
       "      <td>27471</td>\n",
       "      <td>27471</td>\n",
       "      <td>27471</td>\n",
       "      <td>27471</td>\n",
       "      <td>27471</td>\n",
       "      <td>27471</td>\n",
       "      <td>27471</td>\n",
       "      <td>27471</td>\n",
       "    </tr>\n",
       "  </tbody>\n",
       "</table>\n",
       "</div>"
      ],
      "text/plain": [
       "          index  vehicle_type  vehicle_transmission  vehicle_age  \\\n",
       "at_fault                                                           \n",
       "0         26999         26999                 26999        26999   \n",
       "1         27471         27471                 27471        27471   \n",
       "\n",
       "          county_city_location  county_location  weather_1  location_type  \\\n",
       "at_fault                                                                    \n",
       "0                        26999            26999      26999          26999   \n",
       "1                        27471            27471      27471          27471   \n",
       "\n",
       "          road_surface  road_condition_1  lighting  control_device  \\\n",
       "at_fault                                                             \n",
       "0                26999             26999     26999           26999   \n",
       "1                27471             27471     27471           27471   \n",
       "\n",
       "          collision_date  collision_time  party_sobriety  party_drug_physical  \\\n",
       "at_fault                                                                        \n",
       "0                  26999           26999           26999                26999   \n",
       "1                  27471           27471           27471                27471   \n",
       "\n",
       "          cellphone_in_use  \n",
       "at_fault                    \n",
       "0                    26999  \n",
       "1                    27471  "
      ]
     },
     "execution_count": 56,
     "metadata": {},
     "output_type": "execute_result"
    }
   ],
   "source": [
    "data.groupby(['at_fault']).count()"
   ]
  },
  {
   "cell_type": "markdown",
   "id": "b8590f5c",
   "metadata": {},
   "source": [
    "Дату и время ДТП превращаю в день, месяц, час:"
   ]
  },
  {
   "cell_type": "code",
   "execution_count": 57,
   "id": "fbcd6e1b",
   "metadata": {},
   "outputs": [],
   "source": [
    "data['collision_date'] = pd.to_datetime(data['collision_date'])"
   ]
  },
  {
   "cell_type": "code",
   "execution_count": 58,
   "id": "4072c1bd",
   "metadata": {},
   "outputs": [],
   "source": [
    "data['collision_time'] = pd.to_datetime(data['collision_time'], format='%H:%M:%S')"
   ]
  },
  {
   "cell_type": "code",
   "execution_count": 59,
   "id": "d7bdc572",
   "metadata": {},
   "outputs": [],
   "source": [
    "data['month'] = data['collision_date'].dt.month"
   ]
  },
  {
   "cell_type": "code",
   "execution_count": 60,
   "id": "eb1475f3",
   "metadata": {},
   "outputs": [],
   "source": [
    "data['day'] = data['collision_date'].dt.day"
   ]
  },
  {
   "cell_type": "code",
   "execution_count": 61,
   "id": "1afe32d6",
   "metadata": {},
   "outputs": [],
   "source": [
    "data['hour'] = data['collision_time'].dt.hour"
   ]
  },
  {
   "cell_type": "code",
   "execution_count": 62,
   "id": "6a12472a",
   "metadata": {},
   "outputs": [
    {
     "data": {
      "text/html": [
       "<div>\n",
       "<style scoped>\n",
       "    .dataframe tbody tr th:only-of-type {\n",
       "        vertical-align: middle;\n",
       "    }\n",
       "\n",
       "    .dataframe tbody tr th {\n",
       "        vertical-align: top;\n",
       "    }\n",
       "\n",
       "    .dataframe thead th {\n",
       "        text-align: right;\n",
       "    }\n",
       "</style>\n",
       "<table border=\"1\" class=\"dataframe\">\n",
       "  <thead>\n",
       "    <tr style=\"text-align: right;\">\n",
       "      <th></th>\n",
       "      <th>index</th>\n",
       "      <th>vehicle_type</th>\n",
       "      <th>vehicle_transmission</th>\n",
       "      <th>vehicle_age</th>\n",
       "      <th>county_city_location</th>\n",
       "      <th>county_location</th>\n",
       "      <th>weather_1</th>\n",
       "      <th>location_type</th>\n",
       "      <th>road_surface</th>\n",
       "      <th>road_condition_1</th>\n",
       "      <th>...</th>\n",
       "      <th>control_device</th>\n",
       "      <th>collision_date</th>\n",
       "      <th>collision_time</th>\n",
       "      <th>at_fault</th>\n",
       "      <th>party_sobriety</th>\n",
       "      <th>party_drug_physical</th>\n",
       "      <th>cellphone_in_use</th>\n",
       "      <th>month</th>\n",
       "      <th>day</th>\n",
       "      <th>hour</th>\n",
       "    </tr>\n",
       "  </thead>\n",
       "  <tbody>\n",
       "    <tr>\n",
       "      <th>0</th>\n",
       "      <td>0</td>\n",
       "      <td>sedan</td>\n",
       "      <td>auto</td>\n",
       "      <td>3.0</td>\n",
       "      <td>3010</td>\n",
       "      <td>orange</td>\n",
       "      <td>clear</td>\n",
       "      <td>not_stated</td>\n",
       "      <td>dry</td>\n",
       "      <td>normal</td>\n",
       "      <td>...</td>\n",
       "      <td>not_stated</td>\n",
       "      <td>2012-04-17</td>\n",
       "      <td>1900-01-01 17:09:00</td>\n",
       "      <td>1</td>\n",
       "      <td>impairment unknown</td>\n",
       "      <td>G</td>\n",
       "      <td>not_stated</td>\n",
       "      <td>4</td>\n",
       "      <td>17</td>\n",
       "      <td>17</td>\n",
       "    </tr>\n",
       "    <tr>\n",
       "      <th>1</th>\n",
       "      <td>1</td>\n",
       "      <td>sedan</td>\n",
       "      <td>manual</td>\n",
       "      <td>3.0</td>\n",
       "      <td>4806</td>\n",
       "      <td>solano</td>\n",
       "      <td>cloudy</td>\n",
       "      <td>ramp</td>\n",
       "      <td>dry</td>\n",
       "      <td>normal</td>\n",
       "      <td>...</td>\n",
       "      <td>not_stated</td>\n",
       "      <td>2012-01-02</td>\n",
       "      <td>1900-01-01 15:32:00</td>\n",
       "      <td>1</td>\n",
       "      <td>had not been drinking</td>\n",
       "      <td>not_stated</td>\n",
       "      <td>0.0</td>\n",
       "      <td>1</td>\n",
       "      <td>2</td>\n",
       "      <td>15</td>\n",
       "    </tr>\n",
       "    <tr>\n",
       "      <th>2</th>\n",
       "      <td>3</td>\n",
       "      <td>sedan</td>\n",
       "      <td>manual</td>\n",
       "      <td>3.0</td>\n",
       "      <td>3906</td>\n",
       "      <td>san joaquin</td>\n",
       "      <td>fog</td>\n",
       "      <td>highway</td>\n",
       "      <td>dry</td>\n",
       "      <td>normal</td>\n",
       "      <td>...</td>\n",
       "      <td>functioning</td>\n",
       "      <td>2012-01-01</td>\n",
       "      <td>1900-01-01 03:00:00</td>\n",
       "      <td>1</td>\n",
       "      <td>had not been drinking</td>\n",
       "      <td>not_stated</td>\n",
       "      <td>0.0</td>\n",
       "      <td>1</td>\n",
       "      <td>1</td>\n",
       "      <td>3</td>\n",
       "    </tr>\n",
       "    <tr>\n",
       "      <th>3</th>\n",
       "      <td>4</td>\n",
       "      <td>sedan</td>\n",
       "      <td>manual</td>\n",
       "      <td>4.0</td>\n",
       "      <td>4200</td>\n",
       "      <td>santa barbara</td>\n",
       "      <td>clear</td>\n",
       "      <td>not_stated</td>\n",
       "      <td>dry</td>\n",
       "      <td>normal</td>\n",
       "      <td>...</td>\n",
       "      <td>not_stated</td>\n",
       "      <td>2012-01-02</td>\n",
       "      <td>1900-01-01 17:08:00</td>\n",
       "      <td>1</td>\n",
       "      <td>had not been drinking</td>\n",
       "      <td>not_stated</td>\n",
       "      <td>0.0</td>\n",
       "      <td>1</td>\n",
       "      <td>2</td>\n",
       "      <td>17</td>\n",
       "    </tr>\n",
       "    <tr>\n",
       "      <th>4</th>\n",
       "      <td>5</td>\n",
       "      <td>sedan</td>\n",
       "      <td>auto</td>\n",
       "      <td>4.0</td>\n",
       "      <td>1901</td>\n",
       "      <td>los angeles</td>\n",
       "      <td>clear</td>\n",
       "      <td>highway</td>\n",
       "      <td>dry</td>\n",
       "      <td>normal</td>\n",
       "      <td>...</td>\n",
       "      <td>not_stated</td>\n",
       "      <td>2012-04-07</td>\n",
       "      <td>1900-01-01 11:40:00</td>\n",
       "      <td>0</td>\n",
       "      <td>had not been drinking</td>\n",
       "      <td>not_stated</td>\n",
       "      <td>0.0</td>\n",
       "      <td>4</td>\n",
       "      <td>7</td>\n",
       "      <td>11</td>\n",
       "    </tr>\n",
       "  </tbody>\n",
       "</table>\n",
       "<p>5 rows × 21 columns</p>\n",
       "</div>"
      ],
      "text/plain": [
       "   index vehicle_type vehicle_transmission  vehicle_age county_city_location  \\\n",
       "0      0        sedan                 auto          3.0                 3010   \n",
       "1      1        sedan               manual          3.0                 4806   \n",
       "2      3        sedan               manual          3.0                 3906   \n",
       "3      4        sedan               manual          4.0                 4200   \n",
       "4      5        sedan                 auto          4.0                 1901   \n",
       "\n",
       "  county_location weather_1 location_type road_surface road_condition_1  ...  \\\n",
       "0          orange     clear    not_stated          dry           normal  ...   \n",
       "1          solano    cloudy          ramp          dry           normal  ...   \n",
       "2     san joaquin       fog       highway          dry           normal  ...   \n",
       "3   santa barbara     clear    not_stated          dry           normal  ...   \n",
       "4     los angeles     clear       highway          dry           normal  ...   \n",
       "\n",
       "  control_device collision_date      collision_time at_fault  \\\n",
       "0     not_stated     2012-04-17 1900-01-01 17:09:00        1   \n",
       "1     not_stated     2012-01-02 1900-01-01 15:32:00        1   \n",
       "2    functioning     2012-01-01 1900-01-01 03:00:00        1   \n",
       "3     not_stated     2012-01-02 1900-01-01 17:08:00        1   \n",
       "4     not_stated     2012-04-07 1900-01-01 11:40:00        0   \n",
       "\n",
       "          party_sobriety party_drug_physical cellphone_in_use month  day  hour  \n",
       "0     impairment unknown                   G       not_stated     4   17    17  \n",
       "1  had not been drinking          not_stated              0.0     1    2    15  \n",
       "2  had not been drinking          not_stated              0.0     1    1     3  \n",
       "3  had not been drinking          not_stated              0.0     1    2    17  \n",
       "4  had not been drinking          not_stated              0.0     4    7    11  \n",
       "\n",
       "[5 rows x 21 columns]"
      ]
     },
     "execution_count": 62,
     "metadata": {},
     "output_type": "execute_result"
    }
   ],
   "source": [
    "data.head()"
   ]
  },
  {
   "cell_type": "code",
   "execution_count": 63,
   "id": "f04ff3bb",
   "metadata": {},
   "outputs": [
    {
     "data": {
      "text/html": [
       "<div>\n",
       "<style scoped>\n",
       "    .dataframe tbody tr th:only-of-type {\n",
       "        vertical-align: middle;\n",
       "    }\n",
       "\n",
       "    .dataframe tbody tr th {\n",
       "        vertical-align: top;\n",
       "    }\n",
       "\n",
       "    .dataframe thead th {\n",
       "        text-align: right;\n",
       "    }\n",
       "</style>\n",
       "<table border=\"1\" class=\"dataframe\">\n",
       "  <thead>\n",
       "    <tr style=\"text-align: right;\">\n",
       "      <th></th>\n",
       "      <th>index</th>\n",
       "      <th>vehicle_type</th>\n",
       "      <th>vehicle_transmission</th>\n",
       "      <th>vehicle_age</th>\n",
       "      <th>county_city_location</th>\n",
       "      <th>county_location</th>\n",
       "      <th>weather_1</th>\n",
       "      <th>location_type</th>\n",
       "      <th>road_surface</th>\n",
       "      <th>road_condition_1</th>\n",
       "      <th>...</th>\n",
       "      <th>control_device</th>\n",
       "      <th>collision_date</th>\n",
       "      <th>collision_time</th>\n",
       "      <th>at_fault</th>\n",
       "      <th>party_sobriety</th>\n",
       "      <th>party_drug_physical</th>\n",
       "      <th>cellphone_in_use</th>\n",
       "      <th>month</th>\n",
       "      <th>day</th>\n",
       "      <th>hour</th>\n",
       "    </tr>\n",
       "  </thead>\n",
       "  <tbody>\n",
       "    <tr>\n",
       "      <th>0</th>\n",
       "      <td>0</td>\n",
       "      <td>sedan</td>\n",
       "      <td>auto</td>\n",
       "      <td>3.0</td>\n",
       "      <td>3010</td>\n",
       "      <td>orange</td>\n",
       "      <td>clear</td>\n",
       "      <td>not_stated</td>\n",
       "      <td>dry</td>\n",
       "      <td>normal</td>\n",
       "      <td>...</td>\n",
       "      <td>not_stated</td>\n",
       "      <td>2012-04-17</td>\n",
       "      <td>1900-01-01 17:09:00</td>\n",
       "      <td>1</td>\n",
       "      <td>impairment unknown</td>\n",
       "      <td>G</td>\n",
       "      <td>not_stated</td>\n",
       "      <td>4</td>\n",
       "      <td>17</td>\n",
       "      <td>17</td>\n",
       "    </tr>\n",
       "    <tr>\n",
       "      <th>1</th>\n",
       "      <td>1</td>\n",
       "      <td>sedan</td>\n",
       "      <td>manual</td>\n",
       "      <td>3.0</td>\n",
       "      <td>4806</td>\n",
       "      <td>solano</td>\n",
       "      <td>cloudy</td>\n",
       "      <td>ramp</td>\n",
       "      <td>dry</td>\n",
       "      <td>normal</td>\n",
       "      <td>...</td>\n",
       "      <td>not_stated</td>\n",
       "      <td>2012-01-02</td>\n",
       "      <td>1900-01-01 15:32:00</td>\n",
       "      <td>1</td>\n",
       "      <td>had not been drinking</td>\n",
       "      <td>not_stated</td>\n",
       "      <td>0.0</td>\n",
       "      <td>1</td>\n",
       "      <td>2</td>\n",
       "      <td>15</td>\n",
       "    </tr>\n",
       "    <tr>\n",
       "      <th>2</th>\n",
       "      <td>3</td>\n",
       "      <td>sedan</td>\n",
       "      <td>manual</td>\n",
       "      <td>3.0</td>\n",
       "      <td>3906</td>\n",
       "      <td>san joaquin</td>\n",
       "      <td>fog</td>\n",
       "      <td>highway</td>\n",
       "      <td>dry</td>\n",
       "      <td>normal</td>\n",
       "      <td>...</td>\n",
       "      <td>functioning</td>\n",
       "      <td>2012-01-01</td>\n",
       "      <td>1900-01-01 03:00:00</td>\n",
       "      <td>1</td>\n",
       "      <td>had not been drinking</td>\n",
       "      <td>not_stated</td>\n",
       "      <td>0.0</td>\n",
       "      <td>1</td>\n",
       "      <td>1</td>\n",
       "      <td>3</td>\n",
       "    </tr>\n",
       "    <tr>\n",
       "      <th>3</th>\n",
       "      <td>4</td>\n",
       "      <td>sedan</td>\n",
       "      <td>manual</td>\n",
       "      <td>4.0</td>\n",
       "      <td>4200</td>\n",
       "      <td>santa barbara</td>\n",
       "      <td>clear</td>\n",
       "      <td>not_stated</td>\n",
       "      <td>dry</td>\n",
       "      <td>normal</td>\n",
       "      <td>...</td>\n",
       "      <td>not_stated</td>\n",
       "      <td>2012-01-02</td>\n",
       "      <td>1900-01-01 17:08:00</td>\n",
       "      <td>1</td>\n",
       "      <td>had not been drinking</td>\n",
       "      <td>not_stated</td>\n",
       "      <td>0.0</td>\n",
       "      <td>1</td>\n",
       "      <td>2</td>\n",
       "      <td>17</td>\n",
       "    </tr>\n",
       "    <tr>\n",
       "      <th>4</th>\n",
       "      <td>5</td>\n",
       "      <td>sedan</td>\n",
       "      <td>auto</td>\n",
       "      <td>4.0</td>\n",
       "      <td>1901</td>\n",
       "      <td>los angeles</td>\n",
       "      <td>clear</td>\n",
       "      <td>highway</td>\n",
       "      <td>dry</td>\n",
       "      <td>normal</td>\n",
       "      <td>...</td>\n",
       "      <td>not_stated</td>\n",
       "      <td>2012-04-07</td>\n",
       "      <td>1900-01-01 11:40:00</td>\n",
       "      <td>0</td>\n",
       "      <td>had not been drinking</td>\n",
       "      <td>not_stated</td>\n",
       "      <td>0.0</td>\n",
       "      <td>4</td>\n",
       "      <td>7</td>\n",
       "      <td>11</td>\n",
       "    </tr>\n",
       "  </tbody>\n",
       "</table>\n",
       "<p>5 rows × 21 columns</p>\n",
       "</div>"
      ],
      "text/plain": [
       "   index vehicle_type vehicle_transmission  vehicle_age county_city_location  \\\n",
       "0      0        sedan                 auto          3.0                 3010   \n",
       "1      1        sedan               manual          3.0                 4806   \n",
       "2      3        sedan               manual          3.0                 3906   \n",
       "3      4        sedan               manual          4.0                 4200   \n",
       "4      5        sedan                 auto          4.0                 1901   \n",
       "\n",
       "  county_location weather_1 location_type road_surface road_condition_1  ...  \\\n",
       "0          orange     clear    not_stated          dry           normal  ...   \n",
       "1          solano    cloudy          ramp          dry           normal  ...   \n",
       "2     san joaquin       fog       highway          dry           normal  ...   \n",
       "3   santa barbara     clear    not_stated          dry           normal  ...   \n",
       "4     los angeles     clear       highway          dry           normal  ...   \n",
       "\n",
       "  control_device collision_date      collision_time at_fault  \\\n",
       "0     not_stated     2012-04-17 1900-01-01 17:09:00        1   \n",
       "1     not_stated     2012-01-02 1900-01-01 15:32:00        1   \n",
       "2    functioning     2012-01-01 1900-01-01 03:00:00        1   \n",
       "3     not_stated     2012-01-02 1900-01-01 17:08:00        1   \n",
       "4     not_stated     2012-04-07 1900-01-01 11:40:00        0   \n",
       "\n",
       "          party_sobriety party_drug_physical cellphone_in_use month  day  hour  \n",
       "0     impairment unknown                   G       not_stated     4   17    17  \n",
       "1  had not been drinking          not_stated              0.0     1    2    15  \n",
       "2  had not been drinking          not_stated              0.0     1    1     3  \n",
       "3  had not been drinking          not_stated              0.0     1    2    17  \n",
       "4  had not been drinking          not_stated              0.0     4    7    11  \n",
       "\n",
       "[5 rows x 21 columns]"
      ]
     },
     "execution_count": 63,
     "metadata": {},
     "output_type": "execute_result"
    }
   ],
   "source": [
    "data.head()"
   ]
  },
  {
   "cell_type": "code",
   "execution_count": 64,
   "id": "deb11876",
   "metadata": {},
   "outputs": [],
   "source": [
    "data = data.drop(['index'], axis = 1)"
   ]
  },
  {
   "cell_type": "markdown",
   "id": "c72d73ae",
   "metadata": {},
   "source": [
    "Категориальный признак 'использование_мобильника' приводим также к формату str."
   ]
  },
  {
   "cell_type": "code",
   "execution_count": 65,
   "id": "c04c3989",
   "metadata": {},
   "outputs": [],
   "source": [
    "data['cellphone_in_use'] = data['cellphone_in_use'].astype(str)"
   ]
  },
  {
   "cell_type": "markdown",
   "id": "a4ee50ef",
   "metadata": {},
   "source": [
    "## Анализ важности факторов ДТП"
   ]
  },
  {
   "cell_type": "code",
   "execution_count": 66,
   "id": "08594c1a",
   "metadata": {
    "scrolled": false
   },
   "outputs": [
    {
     "data": {
      "text/html": [
       "<div>\n",
       "<style scoped>\n",
       "    .dataframe tbody tr th:only-of-type {\n",
       "        vertical-align: middle;\n",
       "    }\n",
       "\n",
       "    .dataframe tbody tr th {\n",
       "        vertical-align: top;\n",
       "    }\n",
       "\n",
       "    .dataframe thead th {\n",
       "        text-align: right;\n",
       "    }\n",
       "</style>\n",
       "<table border=\"1\" class=\"dataframe\">\n",
       "  <thead>\n",
       "    <tr style=\"text-align: right;\">\n",
       "      <th></th>\n",
       "      <th>vehicle_type</th>\n",
       "      <th>vehicle_transmission</th>\n",
       "      <th>vehicle_age</th>\n",
       "      <th>county_city_location</th>\n",
       "      <th>county_location</th>\n",
       "      <th>weather_1</th>\n",
       "      <th>location_type</th>\n",
       "      <th>road_surface</th>\n",
       "      <th>road_condition_1</th>\n",
       "      <th>lighting</th>\n",
       "      <th>control_device</th>\n",
       "      <th>collision_date</th>\n",
       "      <th>collision_time</th>\n",
       "      <th>at_fault</th>\n",
       "      <th>party_sobriety</th>\n",
       "      <th>party_drug_physical</th>\n",
       "      <th>cellphone_in_use</th>\n",
       "      <th>month</th>\n",
       "      <th>day</th>\n",
       "      <th>hour</th>\n",
       "    </tr>\n",
       "  </thead>\n",
       "  <tbody>\n",
       "    <tr>\n",
       "      <th>0</th>\n",
       "      <td>sedan</td>\n",
       "      <td>auto</td>\n",
       "      <td>3.0</td>\n",
       "      <td>3010</td>\n",
       "      <td>orange</td>\n",
       "      <td>clear</td>\n",
       "      <td>not_stated</td>\n",
       "      <td>dry</td>\n",
       "      <td>normal</td>\n",
       "      <td>daylight</td>\n",
       "      <td>not_stated</td>\n",
       "      <td>2012-04-17</td>\n",
       "      <td>1900-01-01 17:09:00</td>\n",
       "      <td>1</td>\n",
       "      <td>impairment unknown</td>\n",
       "      <td>G</td>\n",
       "      <td>not_stated</td>\n",
       "      <td>4</td>\n",
       "      <td>17</td>\n",
       "      <td>17</td>\n",
       "    </tr>\n",
       "    <tr>\n",
       "      <th>1</th>\n",
       "      <td>sedan</td>\n",
       "      <td>manual</td>\n",
       "      <td>3.0</td>\n",
       "      <td>4806</td>\n",
       "      <td>solano</td>\n",
       "      <td>cloudy</td>\n",
       "      <td>ramp</td>\n",
       "      <td>dry</td>\n",
       "      <td>normal</td>\n",
       "      <td>daylight</td>\n",
       "      <td>not_stated</td>\n",
       "      <td>2012-01-02</td>\n",
       "      <td>1900-01-01 15:32:00</td>\n",
       "      <td>1</td>\n",
       "      <td>had not been drinking</td>\n",
       "      <td>not_stated</td>\n",
       "      <td>0.0</td>\n",
       "      <td>1</td>\n",
       "      <td>2</td>\n",
       "      <td>15</td>\n",
       "    </tr>\n",
       "    <tr>\n",
       "      <th>2</th>\n",
       "      <td>sedan</td>\n",
       "      <td>manual</td>\n",
       "      <td>3.0</td>\n",
       "      <td>3906</td>\n",
       "      <td>san joaquin</td>\n",
       "      <td>fog</td>\n",
       "      <td>highway</td>\n",
       "      <td>dry</td>\n",
       "      <td>normal</td>\n",
       "      <td>dark with no street lights</td>\n",
       "      <td>functioning</td>\n",
       "      <td>2012-01-01</td>\n",
       "      <td>1900-01-01 03:00:00</td>\n",
       "      <td>1</td>\n",
       "      <td>had not been drinking</td>\n",
       "      <td>not_stated</td>\n",
       "      <td>0.0</td>\n",
       "      <td>1</td>\n",
       "      <td>1</td>\n",
       "      <td>3</td>\n",
       "    </tr>\n",
       "    <tr>\n",
       "      <th>3</th>\n",
       "      <td>sedan</td>\n",
       "      <td>manual</td>\n",
       "      <td>4.0</td>\n",
       "      <td>4200</td>\n",
       "      <td>santa barbara</td>\n",
       "      <td>clear</td>\n",
       "      <td>not_stated</td>\n",
       "      <td>dry</td>\n",
       "      <td>normal</td>\n",
       "      <td>dusk or dawn</td>\n",
       "      <td>not_stated</td>\n",
       "      <td>2012-01-02</td>\n",
       "      <td>1900-01-01 17:08:00</td>\n",
       "      <td>1</td>\n",
       "      <td>had not been drinking</td>\n",
       "      <td>not_stated</td>\n",
       "      <td>0.0</td>\n",
       "      <td>1</td>\n",
       "      <td>2</td>\n",
       "      <td>17</td>\n",
       "    </tr>\n",
       "    <tr>\n",
       "      <th>4</th>\n",
       "      <td>sedan</td>\n",
       "      <td>auto</td>\n",
       "      <td>4.0</td>\n",
       "      <td>1901</td>\n",
       "      <td>los angeles</td>\n",
       "      <td>clear</td>\n",
       "      <td>highway</td>\n",
       "      <td>dry</td>\n",
       "      <td>normal</td>\n",
       "      <td>daylight</td>\n",
       "      <td>not_stated</td>\n",
       "      <td>2012-04-07</td>\n",
       "      <td>1900-01-01 11:40:00</td>\n",
       "      <td>0</td>\n",
       "      <td>had not been drinking</td>\n",
       "      <td>not_stated</td>\n",
       "      <td>0.0</td>\n",
       "      <td>4</td>\n",
       "      <td>7</td>\n",
       "      <td>11</td>\n",
       "    </tr>\n",
       "  </tbody>\n",
       "</table>\n",
       "</div>"
      ],
      "text/plain": [
       "  vehicle_type vehicle_transmission  vehicle_age county_city_location  \\\n",
       "0        sedan                 auto          3.0                 3010   \n",
       "1        sedan               manual          3.0                 4806   \n",
       "2        sedan               manual          3.0                 3906   \n",
       "3        sedan               manual          4.0                 4200   \n",
       "4        sedan                 auto          4.0                 1901   \n",
       "\n",
       "  county_location weather_1 location_type road_surface road_condition_1  \\\n",
       "0          orange     clear    not_stated          dry           normal   \n",
       "1          solano    cloudy          ramp          dry           normal   \n",
       "2     san joaquin       fog       highway          dry           normal   \n",
       "3   santa barbara     clear    not_stated          dry           normal   \n",
       "4     los angeles     clear       highway          dry           normal   \n",
       "\n",
       "                     lighting control_device collision_date  \\\n",
       "0                    daylight     not_stated     2012-04-17   \n",
       "1                    daylight     not_stated     2012-01-02   \n",
       "2  dark with no street lights    functioning     2012-01-01   \n",
       "3                dusk or dawn     not_stated     2012-01-02   \n",
       "4                    daylight     not_stated     2012-04-07   \n",
       "\n",
       "       collision_time  at_fault         party_sobriety party_drug_physical  \\\n",
       "0 1900-01-01 17:09:00         1     impairment unknown                   G   \n",
       "1 1900-01-01 15:32:00         1  had not been drinking          not_stated   \n",
       "2 1900-01-01 03:00:00         1  had not been drinking          not_stated   \n",
       "3 1900-01-01 17:08:00         1  had not been drinking          not_stated   \n",
       "4 1900-01-01 11:40:00         0  had not been drinking          not_stated   \n",
       "\n",
       "  cellphone_in_use  month  day  hour  \n",
       "0       not_stated      4   17    17  \n",
       "1              0.0      1    2    15  \n",
       "2              0.0      1    1     3  \n",
       "3              0.0      1    2    17  \n",
       "4              0.0      4    7    11  "
      ]
     },
     "execution_count": 66,
     "metadata": {},
     "output_type": "execute_result"
    }
   ],
   "source": [
    "data.head()"
   ]
  },
  {
   "cell_type": "markdown",
   "id": "fa44fa73",
   "metadata": {},
   "source": [
    "Признаки разбиваем на категориальные и количественные."
   ]
  },
  {
   "cell_type": "code",
   "execution_count": 67,
   "id": "d978c435",
   "metadata": {},
   "outputs": [],
   "source": [
    "categorical = ['vehicle_type', 'vehicle_transmission', 'county_city_location', 'county_location', 'weather_1', 'location_type', 'road_surface', 'road_condition_1', 'lighting', 'control_device', 'party_sobriety', 'party_drug_physical', 'cellphone_in_use', 'month', 'day', 'hour']\n",
    "numeric = ['vehicle_age']"
   ]
  },
  {
   "cell_type": "code",
   "execution_count": 68,
   "id": "d8d7a033",
   "metadata": {},
   "outputs": [],
   "source": [
    "encoder = OrdinalEncoder() \n",
    "encoder.fit(data[categorical])\n",
    "data_ordinal = pd.DataFrame(encoder.transform(data[categorical]), columns=categorical)"
   ]
  },
  {
   "cell_type": "code",
   "execution_count": 69,
   "id": "bf897970",
   "metadata": {},
   "outputs": [],
   "source": [
    "features = pd.concat([data_ordinal, data[numeric]], axis = 1)"
   ]
  },
  {
   "cell_type": "code",
   "execution_count": 70,
   "id": "311a07dd",
   "metadata": {},
   "outputs": [],
   "source": [
    "target = data['at_fault']"
   ]
  },
  {
   "cell_type": "code",
   "execution_count": 71,
   "id": "0eab313b",
   "metadata": {},
   "outputs": [],
   "source": [
    "features_train, features_test, target_train, target_test = train_test_split(features, target, test_size = .25, random_state = 12345)"
   ]
  },
  {
   "cell_type": "code",
   "execution_count": 72,
   "id": "f9e29b7f",
   "metadata": {},
   "outputs": [
    {
     "data": {
      "text/html": [
       "<div>\n",
       "<style scoped>\n",
       "    .dataframe tbody tr th:only-of-type {\n",
       "        vertical-align: middle;\n",
       "    }\n",
       "\n",
       "    .dataframe tbody tr th {\n",
       "        vertical-align: top;\n",
       "    }\n",
       "\n",
       "    .dataframe thead th {\n",
       "        text-align: right;\n",
       "    }\n",
       "</style>\n",
       "<table border=\"1\" class=\"dataframe\">\n",
       "  <thead>\n",
       "    <tr style=\"text-align: right;\">\n",
       "      <th></th>\n",
       "      <th>vehicle_type</th>\n",
       "      <th>vehicle_transmission</th>\n",
       "      <th>county_city_location</th>\n",
       "      <th>county_location</th>\n",
       "      <th>weather_1</th>\n",
       "      <th>location_type</th>\n",
       "      <th>road_surface</th>\n",
       "      <th>road_condition_1</th>\n",
       "      <th>lighting</th>\n",
       "      <th>control_device</th>\n",
       "      <th>party_sobriety</th>\n",
       "      <th>party_drug_physical</th>\n",
       "      <th>cellphone_in_use</th>\n",
       "      <th>month</th>\n",
       "      <th>day</th>\n",
       "      <th>hour</th>\n",
       "      <th>vehicle_age</th>\n",
       "    </tr>\n",
       "  </thead>\n",
       "  <tbody>\n",
       "    <tr>\n",
       "      <th>0</th>\n",
       "      <td>2.0</td>\n",
       "      <td>0.0</td>\n",
       "      <td>245.0</td>\n",
       "      <td>29.0</td>\n",
       "      <td>0.0</td>\n",
       "      <td>2.0</td>\n",
       "      <td>0.0</td>\n",
       "      <td>4.0</td>\n",
       "      <td>3.0</td>\n",
       "      <td>2.0</td>\n",
       "      <td>4.0</td>\n",
       "      <td>0.0</td>\n",
       "      <td>2.0</td>\n",
       "      <td>3.0</td>\n",
       "      <td>16.0</td>\n",
       "      <td>17.0</td>\n",
       "      <td>3.0</td>\n",
       "    </tr>\n",
       "    <tr>\n",
       "      <th>1</th>\n",
       "      <td>2.0</td>\n",
       "      <td>1.0</td>\n",
       "      <td>438.0</td>\n",
       "      <td>47.0</td>\n",
       "      <td>1.0</td>\n",
       "      <td>3.0</td>\n",
       "      <td>0.0</td>\n",
       "      <td>4.0</td>\n",
       "      <td>3.0</td>\n",
       "      <td>2.0</td>\n",
       "      <td>3.0</td>\n",
       "      <td>3.0</td>\n",
       "      <td>0.0</td>\n",
       "      <td>0.0</td>\n",
       "      <td>1.0</td>\n",
       "      <td>15.0</td>\n",
       "      <td>3.0</td>\n",
       "    </tr>\n",
       "    <tr>\n",
       "      <th>2</th>\n",
       "      <td>2.0</td>\n",
       "      <td>1.0</td>\n",
       "      <td>366.0</td>\n",
       "      <td>38.0</td>\n",
       "      <td>2.0</td>\n",
       "      <td>0.0</td>\n",
       "      <td>0.0</td>\n",
       "      <td>4.0</td>\n",
       "      <td>0.0</td>\n",
       "      <td>0.0</td>\n",
       "      <td>3.0</td>\n",
       "      <td>3.0</td>\n",
       "      <td>0.0</td>\n",
       "      <td>0.0</td>\n",
       "      <td>0.0</td>\n",
       "      <td>3.0</td>\n",
       "      <td>3.0</td>\n",
       "    </tr>\n",
       "    <tr>\n",
       "      <th>3</th>\n",
       "      <td>2.0</td>\n",
       "      <td>1.0</td>\n",
       "      <td>396.0</td>\n",
       "      <td>41.0</td>\n",
       "      <td>0.0</td>\n",
       "      <td>2.0</td>\n",
       "      <td>0.0</td>\n",
       "      <td>4.0</td>\n",
       "      <td>4.0</td>\n",
       "      <td>2.0</td>\n",
       "      <td>3.0</td>\n",
       "      <td>3.0</td>\n",
       "      <td>0.0</td>\n",
       "      <td>0.0</td>\n",
       "      <td>1.0</td>\n",
       "      <td>17.0</td>\n",
       "      <td>4.0</td>\n",
       "    </tr>\n",
       "    <tr>\n",
       "      <th>4</th>\n",
       "      <td>2.0</td>\n",
       "      <td>0.0</td>\n",
       "      <td>104.0</td>\n",
       "      <td>18.0</td>\n",
       "      <td>0.0</td>\n",
       "      <td>0.0</td>\n",
       "      <td>0.0</td>\n",
       "      <td>4.0</td>\n",
       "      <td>3.0</td>\n",
       "      <td>2.0</td>\n",
       "      <td>3.0</td>\n",
       "      <td>3.0</td>\n",
       "      <td>0.0</td>\n",
       "      <td>3.0</td>\n",
       "      <td>6.0</td>\n",
       "      <td>11.0</td>\n",
       "      <td>4.0</td>\n",
       "    </tr>\n",
       "    <tr>\n",
       "      <th>...</th>\n",
       "      <td>...</td>\n",
       "      <td>...</td>\n",
       "      <td>...</td>\n",
       "      <td>...</td>\n",
       "      <td>...</td>\n",
       "      <td>...</td>\n",
       "      <td>...</td>\n",
       "      <td>...</td>\n",
       "      <td>...</td>\n",
       "      <td>...</td>\n",
       "      <td>...</td>\n",
       "      <td>...</td>\n",
       "      <td>...</td>\n",
       "      <td>...</td>\n",
       "      <td>...</td>\n",
       "      <td>...</td>\n",
       "      <td>...</td>\n",
       "    </tr>\n",
       "    <tr>\n",
       "      <th>54465</th>\n",
       "      <td>0.0</td>\n",
       "      <td>0.0</td>\n",
       "      <td>315.0</td>\n",
       "      <td>35.0</td>\n",
       "      <td>0.0</td>\n",
       "      <td>0.0</td>\n",
       "      <td>0.0</td>\n",
       "      <td>4.0</td>\n",
       "      <td>3.0</td>\n",
       "      <td>2.0</td>\n",
       "      <td>2.0</td>\n",
       "      <td>3.0</td>\n",
       "      <td>0.0</td>\n",
       "      <td>4.0</td>\n",
       "      <td>27.0</td>\n",
       "      <td>15.0</td>\n",
       "      <td>10.0</td>\n",
       "    </tr>\n",
       "    <tr>\n",
       "      <th>54466</th>\n",
       "      <td>0.0</td>\n",
       "      <td>1.0</td>\n",
       "      <td>142.0</td>\n",
       "      <td>18.0</td>\n",
       "      <td>0.0</td>\n",
       "      <td>2.0</td>\n",
       "      <td>0.0</td>\n",
       "      <td>4.0</td>\n",
       "      <td>3.0</td>\n",
       "      <td>0.0</td>\n",
       "      <td>3.0</td>\n",
       "      <td>3.0</td>\n",
       "      <td>0.0</td>\n",
       "      <td>2.0</td>\n",
       "      <td>29.0</td>\n",
       "      <td>13.0</td>\n",
       "      <td>3.0</td>\n",
       "    </tr>\n",
       "    <tr>\n",
       "      <th>54467</th>\n",
       "      <td>0.0</td>\n",
       "      <td>0.0</td>\n",
       "      <td>142.0</td>\n",
       "      <td>18.0</td>\n",
       "      <td>0.0</td>\n",
       "      <td>2.0</td>\n",
       "      <td>0.0</td>\n",
       "      <td>4.0</td>\n",
       "      <td>3.0</td>\n",
       "      <td>2.0</td>\n",
       "      <td>3.0</td>\n",
       "      <td>3.0</td>\n",
       "      <td>0.0</td>\n",
       "      <td>4.0</td>\n",
       "      <td>28.0</td>\n",
       "      <td>10.0</td>\n",
       "      <td>3.0</td>\n",
       "    </tr>\n",
       "    <tr>\n",
       "      <th>54468</th>\n",
       "      <td>0.0</td>\n",
       "      <td>0.0</td>\n",
       "      <td>142.0</td>\n",
       "      <td>18.0</td>\n",
       "      <td>0.0</td>\n",
       "      <td>2.0</td>\n",
       "      <td>0.0</td>\n",
       "      <td>4.0</td>\n",
       "      <td>3.0</td>\n",
       "      <td>0.0</td>\n",
       "      <td>3.0</td>\n",
       "      <td>3.0</td>\n",
       "      <td>0.0</td>\n",
       "      <td>4.0</td>\n",
       "      <td>23.0</td>\n",
       "      <td>17.0</td>\n",
       "      <td>3.0</td>\n",
       "    </tr>\n",
       "    <tr>\n",
       "      <th>54469</th>\n",
       "      <td>0.0</td>\n",
       "      <td>1.0</td>\n",
       "      <td>9.0</td>\n",
       "      <td>0.0</td>\n",
       "      <td>0.0</td>\n",
       "      <td>2.0</td>\n",
       "      <td>0.0</td>\n",
       "      <td>4.0</td>\n",
       "      <td>3.0</td>\n",
       "      <td>0.0</td>\n",
       "      <td>3.0</td>\n",
       "      <td>3.0</td>\n",
       "      <td>2.0</td>\n",
       "      <td>4.0</td>\n",
       "      <td>20.0</td>\n",
       "      <td>11.0</td>\n",
       "      <td>11.0</td>\n",
       "    </tr>\n",
       "  </tbody>\n",
       "</table>\n",
       "<p>54470 rows × 17 columns</p>\n",
       "</div>"
      ],
      "text/plain": [
       "       vehicle_type  vehicle_transmission  county_city_location  \\\n",
       "0               2.0                   0.0                 245.0   \n",
       "1               2.0                   1.0                 438.0   \n",
       "2               2.0                   1.0                 366.0   \n",
       "3               2.0                   1.0                 396.0   \n",
       "4               2.0                   0.0                 104.0   \n",
       "...             ...                   ...                   ...   \n",
       "54465           0.0                   0.0                 315.0   \n",
       "54466           0.0                   1.0                 142.0   \n",
       "54467           0.0                   0.0                 142.0   \n",
       "54468           0.0                   0.0                 142.0   \n",
       "54469           0.0                   1.0                   9.0   \n",
       "\n",
       "       county_location  weather_1  location_type  road_surface  \\\n",
       "0                 29.0        0.0            2.0           0.0   \n",
       "1                 47.0        1.0            3.0           0.0   \n",
       "2                 38.0        2.0            0.0           0.0   \n",
       "3                 41.0        0.0            2.0           0.0   \n",
       "4                 18.0        0.0            0.0           0.0   \n",
       "...                ...        ...            ...           ...   \n",
       "54465             35.0        0.0            0.0           0.0   \n",
       "54466             18.0        0.0            2.0           0.0   \n",
       "54467             18.0        0.0            2.0           0.0   \n",
       "54468             18.0        0.0            2.0           0.0   \n",
       "54469              0.0        0.0            2.0           0.0   \n",
       "\n",
       "       road_condition_1  lighting  control_device  party_sobriety  \\\n",
       "0                   4.0       3.0             2.0             4.0   \n",
       "1                   4.0       3.0             2.0             3.0   \n",
       "2                   4.0       0.0             0.0             3.0   \n",
       "3                   4.0       4.0             2.0             3.0   \n",
       "4                   4.0       3.0             2.0             3.0   \n",
       "...                 ...       ...             ...             ...   \n",
       "54465               4.0       3.0             2.0             2.0   \n",
       "54466               4.0       3.0             0.0             3.0   \n",
       "54467               4.0       3.0             2.0             3.0   \n",
       "54468               4.0       3.0             0.0             3.0   \n",
       "54469               4.0       3.0             0.0             3.0   \n",
       "\n",
       "       party_drug_physical  cellphone_in_use  month   day  hour  vehicle_age  \n",
       "0                      0.0               2.0    3.0  16.0  17.0          3.0  \n",
       "1                      3.0               0.0    0.0   1.0  15.0          3.0  \n",
       "2                      3.0               0.0    0.0   0.0   3.0          3.0  \n",
       "3                      3.0               0.0    0.0   1.0  17.0          4.0  \n",
       "4                      3.0               0.0    3.0   6.0  11.0          4.0  \n",
       "...                    ...               ...    ...   ...   ...          ...  \n",
       "54465                  3.0               0.0    4.0  27.0  15.0         10.0  \n",
       "54466                  3.0               0.0    2.0  29.0  13.0          3.0  \n",
       "54467                  3.0               0.0    4.0  28.0  10.0          3.0  \n",
       "54468                  3.0               0.0    4.0  23.0  17.0          3.0  \n",
       "54469                  3.0               2.0    4.0  20.0  11.0         11.0  \n",
       "\n",
       "[54470 rows x 17 columns]"
      ]
     },
     "execution_count": 72,
     "metadata": {},
     "output_type": "execute_result"
    }
   ],
   "source": [
    "features"
   ]
  },
  {
   "cell_type": "code",
   "execution_count": 73,
   "id": "1da2e6dd",
   "metadata": {},
   "outputs": [],
   "source": [
    "scaler = StandardScaler()\n",
    "scaler.fit(features_train)\n",
    "features_train = pd.DataFrame(scaler.transform(features_train), columns = features.columns)\n",
    "#\n",
    "features_test = pd.DataFrame(scaler.transform(features_test), columns = features.columns)"
   ]
  },
  {
   "cell_type": "markdown",
   "id": "1f662f66",
   "metadata": {},
   "source": [
    "Для оценки точности предсказания используется метрика f1, т.к. включает в себя precision и recall"
   ]
  },
  {
   "cell_type": "markdown",
   "id": "af36aeff",
   "metadata": {},
   "source": [
    "Модель логистической регрессии:"
   ]
  },
  {
   "cell_type": "code",
   "execution_count": 74,
   "id": "58a4f03e",
   "metadata": {},
   "outputs": [
    {
     "name": "stdout",
     "output_type": "stream",
     "text": [
      "temp_score (trained data)=0.5895124173582081:f1 on predicted values=0.594151695106367\n",
      "confusion matrix: [[0.63365013 0.36634987]\n",
      " [0.42591517 0.57408483]]\n"
     ]
    }
   ],
   "source": [
    "model_log_re = LogisticRegression(random_state = 12345)\n",
    "model_log_re.fit(features_train, target_train)\n",
    "#\n",
    "scores = cross_val_score(model_log_re, features_train, target_train, cv=5, scoring = 'f1')\n",
    "temp_score = sum(scores)/len(scores)\n",
    "#\n",
    "predicted_test = model_log_re.predict(features_test)\n",
    "f1 = f1_score(target_test, predicted_test)\n",
    "#\n",
    "print(f'temp_score (trained data)={temp_score}:f1 on predicted values={f1}')\n",
    "print('confusion matrix:', confusion_matrix(target_test, predicted_test, normalize = 'true'))"
   ]
  },
  {
   "cell_type": "markdown",
   "id": "f8c91d25",
   "metadata": {},
   "source": [
    "Применение модели случайного дерева:"
   ]
  },
  {
   "cell_type": "code",
   "execution_count": 75,
   "id": "c6e03453",
   "metadata": {
    "scrolled": true
   },
   "outputs": [
    {
     "name": "stdout",
     "output_type": "stream",
     "text": [
      "for depth = 1 : leaves = 5 : f1_temp_score (trained data)=0.2905961695064744 : f1 on predicted values=0.30054844606946984\n",
      "for depth = 1 : leaves = 10 : f1_temp_score (trained data)=0.2905961695064744 : f1 on predicted values=0.30054844606946984\n",
      "for depth = 1 : leaves = 20 : f1_temp_score (trained data)=0.2905961695064744 : f1 on predicted values=0.30054844606946984\n",
      "for depth = 1 : leaves = 30 : f1_temp_score (trained data)=0.2905961695064744 : f1 on predicted values=0.30054844606946984\n",
      "for depth = 1 : leaves = 40 : f1_temp_score (trained data)=0.2905961695064744 : f1 on predicted values=0.30054844606946984\n",
      "for depth = 1 : leaves = 50 : f1_temp_score (trained data)=0.2905961695064744 : f1 on predicted values=0.30054844606946984\n",
      "for depth = 2 : leaves = 5 : f1_temp_score (trained data)=0.3333356453069196 : f1 on predicted values=0.34281650071123754\n",
      "for depth = 2 : leaves = 10 : f1_temp_score (trained data)=0.3333356453069196 : f1 on predicted values=0.34281650071123754\n",
      "for depth = 2 : leaves = 20 : f1_temp_score (trained data)=0.3333356453069196 : f1 on predicted values=0.34281650071123754\n",
      "for depth = 2 : leaves = 30 : f1_temp_score (trained data)=0.3333356453069196 : f1 on predicted values=0.34281650071123754\n",
      "for depth = 2 : leaves = 40 : f1_temp_score (trained data)=0.3333356453069196 : f1 on predicted values=0.34281650071123754\n",
      "for depth = 2 : leaves = 50 : f1_temp_score (trained data)=0.3333356453069196 : f1 on predicted values=0.34281650071123754\n",
      "for depth = 3 : leaves = 5 : f1_temp_score (trained data)=0.5622557803689974 : f1 on predicted values=0.5665405494324725\n",
      "for depth = 3 : leaves = 10 : f1_temp_score (trained data)=0.5621129067613408 : f1 on predicted values=0.5665405494324725\n",
      "for depth = 3 : leaves = 20 : f1_temp_score (trained data)=0.5621129067613408 : f1 on predicted values=0.5665405494324725\n",
      "for depth = 3 : leaves = 30 : f1_temp_score (trained data)=0.5621129067613408 : f1 on predicted values=0.5665405494324725\n",
      "for depth = 3 : leaves = 40 : f1_temp_score (trained data)=0.5621129067613408 : f1 on predicted values=0.5665405494324725\n",
      "for depth = 3 : leaves = 50 : f1_temp_score (trained data)=0.5621129067613408 : f1 on predicted values=0.5665405494324725\n",
      "for depth = 4 : leaves = 5 : f1_temp_score (trained data)=0.5622557803689974 : f1 on predicted values=0.5665405494324725\n",
      "for depth = 4 : leaves = 10 : f1_temp_score (trained data)=0.49788330156679556 : f1 on predicted values=0.5227719068549519\n",
      "for depth = 4 : leaves = 20 : f1_temp_score (trained data)=0.4972779785107724 : f1 on predicted values=0.5227719068549519\n",
      "for depth = 4 : leaves = 30 : f1_temp_score (trained data)=0.4972779785107724 : f1 on predicted values=0.5227719068549519\n",
      "for depth = 4 : leaves = 40 : f1_temp_score (trained data)=0.4972779785107724 : f1 on predicted values=0.5227719068549519\n",
      "for depth = 4 : leaves = 50 : f1_temp_score (trained data)=0.4972779785107724 : f1 on predicted values=0.5227719068549519\n",
      "for depth = 5 : leaves = 5 : f1_temp_score (trained data)=0.5622557803689974 : f1 on predicted values=0.5665405494324725\n",
      "for depth = 5 : leaves = 10 : f1_temp_score (trained data)=0.5439710701432733 : f1 on predicted values=0.5554663096831771\n",
      "for depth = 5 : leaves = 20 : f1_temp_score (trained data)=0.5513639892626511 : f1 on predicted values=0.554453676404896\n",
      "for depth = 5 : leaves = 30 : f1_temp_score (trained data)=0.5500085821321052 : f1 on predicted values=0.5541156492984181\n",
      "for depth = 5 : leaves = 40 : f1_temp_score (trained data)=0.5500085821321052 : f1 on predicted values=0.5541156492984181\n",
      "for depth = 5 : leaves = 50 : f1_temp_score (trained data)=0.5500085821321052 : f1 on predicted values=0.5541156492984181\n",
      "for depth = 6 : leaves = 5 : f1_temp_score (trained data)=0.5622557803689974 : f1 on predicted values=0.5665405494324725\n",
      "for depth = 6 : leaves = 10 : f1_temp_score (trained data)=0.5608283684958602 : f1 on predicted values=0.5408435174124783\n",
      "for depth = 6 : leaves = 20 : f1_temp_score (trained data)=0.5959236404274106 : f1 on predicted values=0.5609325326739667\n",
      "for depth = 6 : leaves = 30 : f1_temp_score (trained data)=0.5949613272794905 : f1 on predicted values=0.561186650185414\n",
      "for depth = 6 : leaves = 40 : f1_temp_score (trained data)=0.5940630410330695 : f1 on predicted values=0.5608549726196785\n",
      "for depth = 6 : leaves = 50 : f1_temp_score (trained data)=0.5934124783091754 : f1 on predicted values=0.5602191393478837\n",
      "for depth = 7 : leaves = 5 : f1_temp_score (trained data)=0.5622557803689974 : f1 on predicted values=0.5665405494324725\n",
      "for depth = 7 : leaves = 10 : f1_temp_score (trained data)=0.5608283684958602 : f1 on predicted values=0.5408435174124783\n",
      "for depth = 7 : leaves = 20 : f1_temp_score (trained data)=0.5758472060003647 : f1 on predicted values=0.5831912717354246\n",
      "for depth = 7 : leaves = 30 : f1_temp_score (trained data)=0.5779556730821894 : f1 on predicted values=0.5829994031886777\n",
      "for depth = 7 : leaves = 40 : f1_temp_score (trained data)=0.5768392831560768 : f1 on predicted values=0.5814549180327869\n",
      "for depth = 7 : leaves = 50 : f1_temp_score (trained data)=0.5764713987406902 : f1 on predicted values=0.5821379781420766\n",
      "for depth = 8 : leaves = 5 : f1_temp_score (trained data)=0.5622557803689974 : f1 on predicted values=0.5665405494324725\n",
      "for depth = 8 : leaves = 10 : f1_temp_score (trained data)=0.5608283684958602 : f1 on predicted values=0.5408435174124783\n",
      "for depth = 8 : leaves = 20 : f1_temp_score (trained data)=0.6249974312563882 : f1 on predicted values=0.6328942416258939\n",
      "for depth = 8 : leaves = 30 : f1_temp_score (trained data)=0.6185476719848901 : f1 on predicted values=0.6355798785516156\n",
      "for depth = 8 : leaves = 40 : f1_temp_score (trained data)=0.6164482357515538 : f1 on predicted values=0.6354158853971349\n",
      "for depth = 8 : leaves = 50 : f1_temp_score (trained data)=0.6129737173871985 : f1 on predicted values=0.6306429548563611\n",
      "for depth = 9 : leaves = 5 : f1_temp_score (trained data)=0.5622557803689974 : f1 on predicted values=0.5665405494324725\n",
      "for depth = 9 : leaves = 10 : f1_temp_score (trained data)=0.5608283684958602 : f1 on predicted values=0.5408435174124783\n",
      "for depth = 9 : leaves = 20 : f1_temp_score (trained data)=0.6249974312563882 : f1 on predicted values=0.6328942416258939\n",
      "for depth = 9 : leaves = 30 : f1_temp_score (trained data)=0.60541114340671 : f1 on predicted values=0.6139008448908019\n",
      "for depth = 9 : leaves = 40 : f1_temp_score (trained data)=0.6078480205569349 : f1 on predicted values=0.6137287730208084\n",
      "for depth = 9 : leaves = 50 : f1_temp_score (trained data)=0.6073047654182704 : f1 on predicted values=0.6141958097665897\n",
      "for depth = 10 : leaves = 5 : f1_temp_score (trained data)=0.5622557803689974 : f1 on predicted values=0.5665405494324725\n",
      "for depth = 10 : leaves = 10 : f1_temp_score (trained data)=0.5608283684958602 : f1 on predicted values=0.5408435174124783\n",
      "for depth = 10 : leaves = 20 : f1_temp_score (trained data)=0.6249974312563882 : f1 on predicted values=0.6328942416258939\n",
      "for depth = 10 : leaves = 30 : f1_temp_score (trained data)=0.5976247373934661 : f1 on predicted values=0.6059315090938883\n",
      "for depth = 10 : leaves = 40 : f1_temp_score (trained data)=0.6012946375682955 : f1 on predicted values=0.6054549922188549\n",
      "for depth = 10 : leaves = 50 : f1_temp_score (trained data)=0.604637334377285 : f1 on predicted values=0.6061447949011275\n",
      "for depth = 11 : leaves = 5 : f1_temp_score (trained data)=0.5622557803689974 : f1 on predicted values=0.5665405494324725\n",
      "for depth = 11 : leaves = 10 : f1_temp_score (trained data)=0.5608283684958602 : f1 on predicted values=0.5408435174124783\n",
      "for depth = 11 : leaves = 20 : f1_temp_score (trained data)=0.6249974312563882 : f1 on predicted values=0.6328942416258939\n",
      "for depth = 11 : leaves = 30 : f1_temp_score (trained data)=0.5993093702850232 : f1 on predicted values=0.6059315090938883\n",
      "for depth = 11 : leaves = 40 : f1_temp_score (trained data)=0.6011388255184047 : f1 on predicted values=0.6107551301808744\n",
      "for depth = 11 : leaves = 50 : f1_temp_score (trained data)=0.6056711487663993 : f1 on predicted values=0.6115381503357876\n",
      "for depth = 12 : leaves = 5 : f1_temp_score (trained data)=0.5622557803689974 : f1 on predicted values=0.5665405494324725\n",
      "for depth = 12 : leaves = 10 : f1_temp_score (trained data)=0.5608283684958602 : f1 on predicted values=0.5408435174124783\n"
     ]
    },
    {
     "name": "stdout",
     "output_type": "stream",
     "text": [
      "for depth = 12 : leaves = 20 : f1_temp_score (trained data)=0.6249974312563882 : f1 on predicted values=0.6328942416258939\n",
      "for depth = 12 : leaves = 30 : f1_temp_score (trained data)=0.5993093702850232 : f1 on predicted values=0.6059315090938883\n",
      "for depth = 12 : leaves = 40 : f1_temp_score (trained data)=0.6000950885702073 : f1 on predicted values=0.6107551301808744\n",
      "for depth = 12 : leaves = 50 : f1_temp_score (trained data)=0.6046463235328471 : f1 on predicted values=0.6115381503357876\n",
      "for depth = 13 : leaves = 5 : f1_temp_score (trained data)=0.5622557803689974 : f1 on predicted values=0.5665405494324725\n",
      "for depth = 13 : leaves = 10 : f1_temp_score (trained data)=0.5608283684958602 : f1 on predicted values=0.5408435174124783\n",
      "for depth = 13 : leaves = 20 : f1_temp_score (trained data)=0.6249974312563882 : f1 on predicted values=0.6328942416258939\n",
      "for depth = 13 : leaves = 30 : f1_temp_score (trained data)=0.5993093702850232 : f1 on predicted values=0.6059315090938883\n",
      "for depth = 13 : leaves = 40 : f1_temp_score (trained data)=0.6000950885702073 : f1 on predicted values=0.6107551301808744\n",
      "for depth = 13 : leaves = 50 : f1_temp_score (trained data)=0.6047212075425454 : f1 on predicted values=0.6115381503357876\n",
      "for depth = 14 : leaves = 5 : f1_temp_score (trained data)=0.5622557803689974 : f1 on predicted values=0.5665405494324725\n",
      "for depth = 14 : leaves = 10 : f1_temp_score (trained data)=0.5608283684958602 : f1 on predicted values=0.5408435174124783\n",
      "for depth = 14 : leaves = 20 : f1_temp_score (trained data)=0.6249974312563882 : f1 on predicted values=0.6328942416258939\n",
      "for depth = 14 : leaves = 30 : f1_temp_score (trained data)=0.5993093702850232 : f1 on predicted values=0.6059315090938883\n",
      "for depth = 14 : leaves = 40 : f1_temp_score (trained data)=0.6000950885702073 : f1 on predicted values=0.6107551301808744\n",
      "for depth = 14 : leaves = 50 : f1_temp_score (trained data)=0.6047212075425454 : f1 on predicted values=0.6115381503357876\n",
      "Optimal tree model: depth=8 : leaves = 30\n",
      "optimal f1 = 0.6355798785516156\n",
      "optimal accuracy = 0.6430459685710089\n",
      "confusion matrix: [[0.67092367 0.32907633]\n",
      " [0.38422429 0.61577571]]\n"
     ]
    },
    {
     "data": {
      "text/plain": [
       "array([0.07643933, 0.00311013, 0.        , 0.        , 0.        ,\n",
       "       0.00437912, 0.02380542, 0.        , 0.        , 0.04991466,\n",
       "       0.52673498, 0.16123656, 0.        , 0.00197757, 0.        ,\n",
       "       0.01107714, 0.14132511])"
      ]
     },
     "execution_count": 75,
     "metadata": {},
     "output_type": "execute_result"
    }
   ],
   "source": [
    "optimal_model_tree = None\n",
    "optimal_depth = -1\n",
    "optimal_leaves = -1\n",
    "optimal_f1 = -1\n",
    "for depth in range(1,15, 1):\n",
    "    for leaves in [5,10,20,30,40,50]:\n",
    "        model_tree = DecisionTreeClassifier(random_state = 12345, max_depth = depth, max_leaf_nodes = leaves)\n",
    "        model_tree.fit(features_train, target_train)\n",
    "        #\n",
    "        scores = cross_val_score(model_tree, features_train, target_train, cv=5, scoring = 'f1')\n",
    "        temp_score = sum(scores)/len(scores)\n",
    "        #\n",
    "        predicted_test = model_tree.predict(features_test)\n",
    "        f1 = f1_score(target_test, predicted_test)\n",
    "        #\n",
    "        print(f'for depth = {depth} : leaves = {leaves} : f1_temp_score (trained data)={temp_score} : f1 on predicted values={f1}')\n",
    "        #\n",
    "        if f1 > optimal_f1:\n",
    "            optimal_model_tree = model_tree\n",
    "            optimal_f1 = f1\n",
    "            optimal_depth = depth\n",
    "            optimal_leaves = leaves\n",
    "print(f'Optimal tree model: depth={optimal_depth} : leaves = {optimal_leaves}')\n",
    "predicted_test = optimal_model_tree.predict(features_test)\n",
    "f1 = f1_score(target_test, predicted_test)\n",
    "accuracy = accuracy_score(target_test, predicted_test)\n",
    "print(f'optimal f1 = {f1}')\n",
    "print(f'optimal accuracy = {accuracy}')\n",
    "print('confusion matrix:', confusion_matrix(target_test, predicted_test, normalize = 'true'))\n",
    "optimal_model_tree.feature_importances_"
   ]
  },
  {
   "cell_type": "markdown",
   "id": "f123fa30",
   "metadata": {},
   "source": [
    "Применение модели случайного леса перебором (ВНИМАНИЕ! Считает приличное количество времени):"
   ]
  },
  {
   "cell_type": "code",
   "execution_count": 76,
   "id": "66622923",
   "metadata": {
    "scrolled": true
   },
   "outputs": [
    {
     "name": "stdout",
     "output_type": "stream",
     "text": [
      "estimators=10:depth=1:leaves=5:acuracy=0.6088265530914966:f1 on train:0.5718394620921665:f1=0.5740785160310227\n",
      "estimators=10:depth=1:leaves=10:acuracy=0.6088265530914966:f1 on train:0.5718394620921665:f1=0.5740785160310227\n",
      "estimators=10:depth=1:leaves=20:acuracy=0.6088265530914966:f1 on train:0.5718394620921665:f1=0.5740785160310227\n",
      "estimators=10:depth=1:leaves=30:acuracy=0.6088265530914966:f1 on train:0.5718394620921665:f1=0.5740785160310227\n",
      "estimators=10:depth=1:leaves=40:acuracy=0.6088265530914966:f1 on train:0.5718394620921665:f1=0.5740785160310227\n",
      "estimators=20:depth=1:leaves=5:acuracy=0.6163166397415186:f1 on train:0.5434436554940923:f1=0.5130021437226209\n",
      "estimators=20:depth=1:leaves=10:acuracy=0.6163166397415186:f1 on train:0.5434436554940923:f1=0.5130021437226209\n",
      "estimators=20:depth=1:leaves=20:acuracy=0.6163166397415186:f1 on train:0.5434436554940923:f1=0.5130021437226209\n",
      "estimators=20:depth=1:leaves=30:acuracy=0.6163166397415186:f1 on train:0.5434436554940923:f1=0.5130021437226209\n",
      "estimators=20:depth=1:leaves=40:acuracy=0.6163166397415186:f1 on train:0.5434436554940923:f1=0.5130021437226209\n",
      "estimators=30:depth=1:leaves=5:acuracy=0.6118372741959172:f1 on train:0.5730898067773575:f1=0.5789389835908875\n",
      "estimators=30:depth=1:leaves=10:acuracy=0.6118372741959172:f1 on train:0.5730898067773575:f1=0.5789389835908875\n",
      "estimators=30:depth=1:leaves=20:acuracy=0.6118372741959172:f1 on train:0.5730898067773575:f1=0.5789389835908875\n",
      "estimators=30:depth=1:leaves=30:acuracy=0.6118372741959172:f1 on train:0.5730898067773575:f1=0.5789389835908875\n",
      "estimators=30:depth=1:leaves=40:acuracy=0.6118372741959172:f1 on train:0.5730898067773575:f1=0.5789389835908875\n",
      "estimators=40:depth=1:leaves=5:acuracy=0.6116169775297401:f1 on train:0.5730065917600948:f1=0.5779940955876486\n",
      "estimators=40:depth=1:leaves=10:acuracy=0.6116169775297401:f1 on train:0.5730065917600948:f1=0.5779940955876486\n",
      "estimators=40:depth=1:leaves=20:acuracy=0.6116169775297401:f1 on train:0.5730065917600948:f1=0.5779940955876486\n",
      "estimators=40:depth=1:leaves=30:acuracy=0.6116169775297401:f1 on train:0.5730065917600948:f1=0.5779940955876486\n",
      "estimators=40:depth=1:leaves=40:acuracy=0.6116169775297401:f1 on train:0.5730065917600948:f1=0.5779940955876486\n",
      "estimators=50:depth=1:leaves=5:acuracy=0.611543545307681:f1 on train:0.5730812126656772:f1=0.578015315890236\n",
      "estimators=50:depth=1:leaves=10:acuracy=0.611543545307681:f1 on train:0.5730812126656772:f1=0.578015315890236\n",
      "estimators=50:depth=1:leaves=20:acuracy=0.611543545307681:f1 on train:0.5730812126656772:f1=0.578015315890236\n",
      "estimators=50:depth=1:leaves=30:acuracy=0.611543545307681:f1 on train:0.5730812126656772:f1=0.578015315890236\n",
      "estimators=50:depth=1:leaves=40:acuracy=0.611543545307681:f1 on train:0.5730812126656772:f1=0.578015315890236\n",
      "estimators=60:depth=1:leaves=5:acuracy=0.6113966808635629:f1 on train:0.5735565518689054:f1=0.578057726040504\n",
      "estimators=60:depth=1:leaves=10:acuracy=0.6113966808635629:f1 on train:0.5735565518689054:f1=0.578057726040504\n",
      "estimators=60:depth=1:leaves=20:acuracy=0.6113966808635629:f1 on train:0.5735565518689054:f1=0.578057726040504\n",
      "estimators=60:depth=1:leaves=30:acuracy=0.6113966808635629:f1 on train:0.5735565518689054:f1=0.578057726040504\n",
      "estimators=60:depth=1:leaves=40:acuracy=0.6113966808635629:f1 on train:0.5735565518689054:f1=0.578057726040504\n",
      "estimators=70:depth=1:leaves=5:acuracy=0.6138199441915112:f1 on train:0.5695720185958122:f1=0.5701675521046179\n",
      "estimators=70:depth=1:leaves=10:acuracy=0.6138199441915112:f1 on train:0.5695720185958122:f1=0.5701675521046179\n",
      "estimators=70:depth=1:leaves=20:acuracy=0.6138199441915112:f1 on train:0.5695720185958122:f1=0.5701675521046179\n",
      "estimators=70:depth=1:leaves=30:acuracy=0.6138199441915112:f1 on train:0.5695720185958122:f1=0.5701675521046179\n",
      "estimators=70:depth=1:leaves=40:acuracy=0.6138199441915112:f1 on train:0.5695720185958122:f1=0.5701675521046179\n",
      "estimators=80:depth=1:leaves=5:acuracy=0.6118372741959172:f1 on train:0.5731206973963517:f1=0.5779303736825295\n",
      "estimators=80:depth=1:leaves=10:acuracy=0.6118372741959172:f1 on train:0.5731206973963517:f1=0.5779303736825295\n",
      "estimators=80:depth=1:leaves=20:acuracy=0.6118372741959172:f1 on train:0.5731206973963517:f1=0.5779303736825295\n",
      "estimators=80:depth=1:leaves=30:acuracy=0.6118372741959172:f1 on train:0.5731206973963517:f1=0.5779303736825295\n",
      "estimators=80:depth=1:leaves=40:acuracy=0.6118372741959172:f1 on train:0.5731206973963517:f1=0.5779303736825295\n",
      "estimators=90:depth=1:leaves=5:acuracy=0.6117638419738581:f1 on train:0.5731889099378134:f1=0.577884231536926\n",
      "estimators=90:depth=1:leaves=10:acuracy=0.6117638419738581:f1 on train:0.5731889099378134:f1=0.577884231536926\n",
      "estimators=90:depth=1:leaves=20:acuracy=0.6117638419738581:f1 on train:0.5731889099378134:f1=0.577884231536926\n",
      "estimators=90:depth=1:leaves=30:acuracy=0.6117638419738581:f1 on train:0.5731889099378134:f1=0.577884231536926\n",
      "estimators=90:depth=1:leaves=40:acuracy=0.6117638419738581:f1 on train:0.5731889099378134:f1=0.577884231536926\n",
      "estimators=100:depth=1:leaves=5:acuracy=0.6119107064179762:f1 on train:0.5729992294467977:f1=0.5779765231973168\n",
      "estimators=100:depth=1:leaves=10:acuracy=0.6119107064179762:f1 on train:0.5729992294467977:f1=0.5779765231973168\n",
      "estimators=100:depth=1:leaves=20:acuracy=0.6119107064179762:f1 on train:0.5729992294467977:f1=0.5779765231973168\n",
      "estimators=100:depth=1:leaves=30:acuracy=0.6119107064179762:f1 on train:0.5729992294467977:f1=0.5779765231973168\n",
      "estimators=100:depth=1:leaves=40:acuracy=0.6119107064179762:f1 on train:0.5729992294467977:f1=0.5779765231973168\n",
      "estimators=10:depth=2:leaves=5:acuracy=0.6254956674988985:f1 on train:0.5357271472558232:f1=0.5444801714898178\n",
      "estimators=10:depth=2:leaves=10:acuracy=0.6254956674988985:f1 on train:0.5357271472558232:f1=0.5444801714898178\n",
      "estimators=10:depth=2:leaves=20:acuracy=0.6254956674988985:f1 on train:0.5357271472558232:f1=0.5444801714898178\n",
      "estimators=10:depth=2:leaves=30:acuracy=0.6254956674988985:f1 on train:0.5357271472558232:f1=0.5444801714898178\n",
      "estimators=10:depth=2:leaves=40:acuracy=0.6254956674988985:f1 on train:0.5357271472558232:f1=0.5444801714898178\n",
      "estimators=20:depth=2:leaves=5:acuracy=0.6254222352768395:f1 on train:0.5476915719890407:f1=0.5490230748828574\n",
      "estimators=20:depth=2:leaves=10:acuracy=0.6254222352768395:f1 on train:0.5476915719890407:f1=0.5490230748828574\n",
      "estimators=20:depth=2:leaves=20:acuracy=0.6254222352768395:f1 on train:0.5476915719890407:f1=0.5490230748828574\n",
      "estimators=20:depth=2:leaves=30:acuracy=0.6254222352768395:f1 on train:0.5476915719890407:f1=0.5490230748828574\n",
      "estimators=20:depth=2:leaves=40:acuracy=0.6254222352768395:f1 on train:0.5476915719890407:f1=0.5490230748828574\n",
      "estimators=30:depth=2:leaves=5:acuracy=0.6231458363930092:f1 on train:0.5620091005007667:f1=0.5581955922865014\n",
      "estimators=30:depth=2:leaves=10:acuracy=0.6231458363930092:f1 on train:0.5620091005007667:f1=0.5581955922865014\n",
      "estimators=30:depth=2:leaves=20:acuracy=0.6231458363930092:f1 on train:0.5620091005007667:f1=0.5581955922865014\n",
      "estimators=30:depth=2:leaves=30:acuracy=0.6231458363930092:f1 on train:0.5620091005007667:f1=0.5581955922865014\n",
      "estimators=30:depth=2:leaves=40:acuracy=0.6231458363930092:f1 on train:0.5620091005007667:f1=0.5581955922865014\n",
      "estimators=40:depth=2:leaves=5:acuracy=0.6261565574974298:f1 on train:0.5617532074776007:f1=0.559792477302205\n",
      "estimators=40:depth=2:leaves=10:acuracy=0.6261565574974298:f1 on train:0.5617532074776007:f1=0.559792477302205\n",
      "estimators=40:depth=2:leaves=20:acuracy=0.6261565574974298:f1 on train:0.5617532074776007:f1=0.559792477302205\n",
      "estimators=40:depth=2:leaves=30:acuracy=0.6261565574974298:f1 on train:0.5617532074776007:f1=0.559792477302205\n",
      "estimators=40:depth=2:leaves=40:acuracy=0.6261565574974298:f1 on train:0.5617532074776007:f1=0.559792477302205\n",
      "estimators=50:depth=2:leaves=5:acuracy=0.6266705830518432:f1 on train:0.56286994948059:f1=0.5630049853876568\n",
      "estimators=50:depth=2:leaves=10:acuracy=0.6266705830518432:f1 on train:0.56286994948059:f1=0.5630049853876568\n",
      "estimators=50:depth=2:leaves=20:acuracy=0.6266705830518432:f1 on train:0.56286994948059:f1=0.5630049853876568\n",
      "estimators=50:depth=2:leaves=30:acuracy=0.6266705830518432:f1 on train:0.56286994948059:f1=0.5630049853876568\n"
     ]
    },
    {
     "name": "stdout",
     "output_type": "stream",
     "text": [
      "estimators=50:depth=2:leaves=40:acuracy=0.6266705830518432:f1 on train:0.56286994948059:f1=0.5630049853876568\n",
      "estimators=60:depth=2:leaves=5:acuracy=0.6254956674988985:f1 on train:0.5635790762238709:f1=0.5633561643835617\n",
      "estimators=60:depth=2:leaves=10:acuracy=0.6254956674988985:f1 on train:0.5635790762238709:f1=0.5633561643835617\n",
      "estimators=60:depth=2:leaves=20:acuracy=0.6254956674988985:f1 on train:0.5635790762238709:f1=0.5633561643835617\n",
      "estimators=60:depth=2:leaves=30:acuracy=0.6254956674988985:f1 on train:0.5635790762238709:f1=0.5633561643835617\n",
      "estimators=60:depth=2:leaves=40:acuracy=0.6254956674988985:f1 on train:0.5635790762238709:f1=0.5633561643835617\n",
      "estimators=70:depth=2:leaves=5:acuracy=0.6254956674988985:f1 on train:0.5621952917532591:f1=0.5622317596566523\n",
      "estimators=70:depth=2:leaves=10:acuracy=0.6254956674988985:f1 on train:0.5621952917532591:f1=0.5622317596566523\n",
      "estimators=70:depth=2:leaves=20:acuracy=0.6254956674988985:f1 on train:0.5621952917532591:f1=0.5622317596566523\n",
      "estimators=70:depth=2:leaves=30:acuracy=0.6254956674988985:f1 on train:0.5621952917532591:f1=0.5622317596566523\n",
      "estimators=70:depth=2:leaves=40:acuracy=0.6254956674988985:f1 on train:0.5621952917532591:f1=0.5622317596566523\n",
      "estimators=80:depth=2:leaves=5:acuracy=0.6240270230577177:f1 on train:0.5647475019700042:f1=0.5629161686870411\n",
      "estimators=80:depth=2:leaves=10:acuracy=0.6240270230577177:f1 on train:0.5647475019700042:f1=0.5629161686870411\n",
      "estimators=80:depth=2:leaves=20:acuracy=0.6240270230577177:f1 on train:0.5647475019700042:f1=0.5629161686870411\n",
      "estimators=80:depth=2:leaves=30:acuracy=0.6240270230577177:f1 on train:0.5647475019700042:f1=0.5629161686870411\n",
      "estimators=80:depth=2:leaves=40:acuracy=0.6240270230577177:f1 on train:0.5647475019700042:f1=0.5629161686870411\n",
      "estimators=90:depth=2:leaves=5:acuracy=0.6232927008371273:f1 on train:0.5649763741119612:f1=0.5634042553191488\n",
      "estimators=90:depth=2:leaves=10:acuracy=0.6232927008371273:f1 on train:0.5649763741119612:f1=0.5634042553191488\n",
      "estimators=90:depth=2:leaves=20:acuracy=0.6232927008371273:f1 on train:0.5649763741119612:f1=0.5634042553191488\n",
      "estimators=90:depth=2:leaves=30:acuracy=0.6232927008371273:f1 on train:0.5649763741119612:f1=0.5634042553191488\n",
      "estimators=90:depth=2:leaves=40:acuracy=0.6232927008371273:f1 on train:0.5649763741119612:f1=0.5634042553191488\n",
      "estimators=100:depth=2:leaves=5:acuracy=0.6237332941694815:f1 on train:0.564568635911028:f1=0.5651731160896131\n",
      "estimators=100:depth=2:leaves=10:acuracy=0.6237332941694815:f1 on train:0.564568635911028:f1=0.5651731160896131\n",
      "estimators=100:depth=2:leaves=20:acuracy=0.6237332941694815:f1 on train:0.564568635911028:f1=0.5651731160896131\n",
      "estimators=100:depth=2:leaves=30:acuracy=0.6237332941694815:f1 on train:0.564568635911028:f1=0.5651731160896131\n",
      "estimators=100:depth=2:leaves=40:acuracy=0.6237332941694815:f1 on train:0.564568635911028:f1=0.5651731160896131\n",
      "estimators=10:depth=3:leaves=5:acuracy=0.6184461741812307:f1 on train:0.503390365725859:f1=0.5028702640642939\n",
      "estimators=10:depth=3:leaves=10:acuracy=0.6221912175062417:f1 on train:0.49822258694057986:f1=0.500436935624818\n",
      "estimators=10:depth=3:leaves=20:acuracy=0.6221912175062417:f1 on train:0.49822258694057986:f1=0.500436935624818\n",
      "estimators=10:depth=3:leaves=30:acuracy=0.6221912175062417:f1 on train:0.49822258694057986:f1=0.500436935624818\n",
      "estimators=10:depth=3:leaves=40:acuracy=0.6221912175062417:f1 on train:0.49822258694057986:f1=0.500436935624818\n",
      "estimators=20:depth=3:leaves=5:acuracy=0.6290204141577325:f1 on train:0.554769989236588:f1=0.5570752235665439\n",
      "estimators=20:depth=3:leaves=10:acuracy=0.630121897488618:f1 on train:0.5567699686698162:f1=0.5536552946389012\n",
      "estimators=20:depth=3:leaves=20:acuracy=0.630121897488618:f1 on train:0.5567699686698162:f1=0.5536552946389012\n",
      "estimators=20:depth=3:leaves=30:acuracy=0.630121897488618:f1 on train:0.5567699686698162:f1=0.5536552946389012\n",
      "estimators=20:depth=3:leaves=40:acuracy=0.630121897488618:f1 on train:0.5567699686698162:f1=0.5536552946389012\n",
      "estimators=30:depth=3:leaves=5:acuracy=0.6291672786018505:f1 on train:0.5605601346833625:f1=0.5526222537207656\n",
      "estimators=30:depth=3:leaves=10:acuracy=0.6312233808195036:f1 on train:0.5559198225246689:f1=0.5508853514576999\n",
      "estimators=30:depth=3:leaves=20:acuracy=0.6312233808195036:f1 on train:0.5559198225246689:f1=0.5508853514576999\n",
      "estimators=30:depth=3:leaves=30:acuracy=0.6312233808195036:f1 on train:0.5559198225246689:f1=0.5508853514576999\n",
      "estimators=30:depth=3:leaves=40:acuracy=0.6312233808195036:f1 on train:0.5559198225246689:f1=0.5508853514576999\n",
      "estimators=40:depth=3:leaves=5:acuracy=0.631957703040094:f1 on train:0.559483937608839:f1=0.5544096728307254\n",
      "estimators=40:depth=3:leaves=10:acuracy=0.6327654574827434:f1 on train:0.5557151555430974:f1=0.5521626220112833\n",
      "estimators=40:depth=3:leaves=20:acuracy=0.6327654574827434:f1 on train:0.5557151555430974:f1=0.5521626220112833\n",
      "estimators=40:depth=3:leaves=30:acuracy=0.6327654574827434:f1 on train:0.5557151555430974:f1=0.5521626220112833\n",
      "estimators=40:depth=3:leaves=40:acuracy=0.6327654574827434:f1 on train:0.5557151555430974:f1=0.5521626220112833\n",
      "estimators=50:depth=3:leaves=5:acuracy=0.6312233808195036:f1 on train:0.5637142183579396:f1=0.5610139860139861\n",
      "estimators=50:depth=3:leaves=10:acuracy=0.631884270818035:f1 on train:0.5578295386856149:f1=0.5567247325139271\n",
      "estimators=50:depth=3:leaves=20:acuracy=0.631884270818035:f1 on train:0.5578295386856149:f1=0.5567247325139271\n",
      "estimators=50:depth=3:leaves=30:acuracy=0.631884270818035:f1 on train:0.5578295386856149:f1=0.5567247325139271\n",
      "estimators=50:depth=3:leaves=40:acuracy=0.631884270818035:f1 on train:0.5578295386856149:f1=0.5567247325139271\n",
      "estimators=60:depth=3:leaves=5:acuracy=0.6314436774856808:f1 on train:0.5642265197410695:f1=0.562003665241295\n",
      "estimators=60:depth=3:leaves=10:acuracy=0.6325451608165663:f1 on train:0.5589199535340333:f1=0.5584965590259398\n",
      "estimators=60:depth=3:leaves=20:acuracy=0.6325451608165663:f1 on train:0.5589199535340333:f1=0.5584965590259398\n",
      "estimators=60:depth=3:leaves=30:acuracy=0.6325451608165663:f1 on train:0.5589199535340333:f1=0.5584965590259398\n",
      "estimators=60:depth=3:leaves=40:acuracy=0.6325451608165663:f1 on train:0.5589199535340333:f1=0.5584965590259398\n",
      "estimators=70:depth=3:leaves=5:acuracy=0.631957703040094:f1 on train:0.5615557427718803:f1=0.5607361963190185\n",
      "estimators=70:depth=3:leaves=10:acuracy=0.6329857541489206:f1 on train:0.5576509979981916:f1=0.5587923728813559\n",
      "estimators=70:depth=3:leaves=20:acuracy=0.6329857541489206:f1 on train:0.5576509979981916:f1=0.5587923728813559\n",
      "estimators=70:depth=3:leaves=30:acuracy=0.6329857541489206:f1 on train:0.5576509979981916:f1=0.5587923728813559\n",
      "estimators=70:depth=3:leaves=40:acuracy=0.6329857541489206:f1 on train:0.5576509979981916:f1=0.5587923728813559\n",
      "estimators=80:depth=3:leaves=5:acuracy=0.630048465266559:f1 on train:0.5654559294156734:f1=0.5656147611657183\n",
      "estimators=80:depth=3:leaves=10:acuracy=0.6329857541489206:f1 on train:0.5634269697082107:f1=0.5638743455497381\n",
      "estimators=80:depth=3:leaves=20:acuracy=0.6329857541489206:f1 on train:0.5634269697082107:f1=0.5638743455497381\n",
      "estimators=80:depth=3:leaves=30:acuracy=0.6329857541489206:f1 on train:0.5634269697082107:f1=0.5638743455497381\n",
      "estimators=80:depth=3:leaves=40:acuracy=0.6329857541489206:f1 on train:0.5634269697082107:f1=0.5638743455497381\n",
      "estimators=90:depth=3:leaves=5:acuracy=0.6292407108239095:f1 on train:0.5665089689886578:f1=0.5669439917660176\n",
      "estimators=90:depth=3:leaves=10:acuracy=0.6313702452636217:f1 on train:0.5645909548501891:f1=0.5657439446366782\n",
      "estimators=90:depth=3:leaves=20:acuracy=0.6313702452636217:f1 on train:0.5645909548501891:f1=0.5657439446366782\n",
      "estimators=90:depth=3:leaves=30:acuracy=0.6313702452636217:f1 on train:0.5645909548501891:f1=0.5657439446366782\n",
      "estimators=90:depth=3:leaves=40:acuracy=0.6313702452636217:f1 on train:0.5645909548501891:f1=0.5657439446366782\n",
      "estimators=100:depth=3:leaves=5:acuracy=0.630195329710677:f1 on train:0.5667601796755926:f1=0.5669074647402821\n",
      "estimators=100:depth=3:leaves=10:acuracy=0.6327654574827434:f1 on train:0.564182194409732:f1=0.566299540369439\n",
      "estimators=100:depth=3:leaves=20:acuracy=0.6327654574827434:f1 on train:0.564182194409732:f1=0.566299540369439\n"
     ]
    },
    {
     "name": "stdout",
     "output_type": "stream",
     "text": [
      "estimators=100:depth=3:leaves=30:acuracy=0.6327654574827434:f1 on train:0.564182194409732:f1=0.566299540369439\n",
      "estimators=100:depth=3:leaves=40:acuracy=0.6327654574827434:f1 on train:0.564182194409732:f1=0.566299540369439\n",
      "estimators=10:depth=4:leaves=5:acuracy=0.6180055808488765:f1 on train:0.504939397614778:f1=0.4972941631233088\n",
      "estimators=10:depth=4:leaves=10:acuracy=0.6307093552650903:f1 on train:0.5361945360446072:f1=0.5408563863781612\n",
      "estimators=10:depth=4:leaves=20:acuracy=0.6312968130415626:f1 on train:0.532256185105568:f1=0.5402435674388792\n",
      "estimators=10:depth=4:leaves=30:acuracy=0.6312968130415626:f1 on train:0.532256185105568:f1=0.5402435674388792\n",
      "estimators=10:depth=4:leaves=40:acuracy=0.6312968130415626:f1 on train:0.532256185105568:f1=0.5402435674388792\n",
      "estimators=20:depth=4:leaves=5:acuracy=0.6288735497136143:f1 on train:0.5613381065596785:f1=0.557210443315227\n",
      "estimators=20:depth=4:leaves=10:acuracy=0.6330591863709796:f1 on train:0.5553142792124725:f1=0.5579049809785014\n",
      "estimators=20:depth=4:leaves=20:acuracy=0.6324717285945073:f1 on train:0.5536356021992672:f1=0.5552297165200392\n",
      "estimators=20:depth=4:leaves=30:acuracy=0.6324717285945073:f1 on train:0.5536356021992672:f1=0.5552297165200392\n",
      "estimators=20:depth=4:leaves=40:acuracy=0.6324717285945073:f1 on train:0.5536356021992672:f1=0.5552297165200392\n",
      "estimators=30:depth=4:leaves=5:acuracy=0.6295344397121457:f1 on train:0.5644277092050665:f1=0.5549969127635177\n",
      "estimators=30:depth=4:leaves=10:acuracy=0.6335732119253928:f1 on train:0.5582893358834491:f1=0.5551791763237655\n",
      "estimators=30:depth=4:leaves=20:acuracy=0.6330591863709796:f1 on train:0.5576704044516323:f1=0.5529211774179118\n",
      "estimators=30:depth=4:leaves=30:acuracy=0.6330591863709796:f1 on train:0.5576704044516323:f1=0.5529211774179118\n",
      "estimators=30:depth=4:leaves=40:acuracy=0.6330591863709796:f1 on train:0.5576704044516323:f1=0.5529211774179118\n",
      "estimators=40:depth=4:leaves=5:acuracy=0.6321779997062711:f1 on train:0.5662734003619395:f1=0.5578603583723188\n",
      "estimators=40:depth=4:leaves=10:acuracy=0.6348215597003966:f1 on train:0.5597156035500912:f1=0.5561802766622043\n",
      "estimators=40:depth=4:leaves=20:acuracy=0.6347481274783375:f1 on train:0.5594899997946956:f1=0.5552575107296138\n",
      "estimators=40:depth=4:leaves=30:acuracy=0.6347481274783375:f1 on train:0.5594899997946956:f1=0.5552575107296138\n",
      "estimators=40:depth=4:leaves=40:acuracy=0.6347481274783375:f1 on train:0.5594899997946956:f1=0.5552575107296138\n",
      "estimators=50:depth=4:leaves=5:acuracy=0.6324717285945073:f1 on train:0.5661616822158348:f1=0.5652740380439503\n",
      "estimators=50:depth=4:leaves=10:acuracy=0.6346746952562785:f1 on train:0.5576817990565675:f1=0.5603181617322139\n",
      "estimators=50:depth=4:leaves=20:acuracy=0.6346012630342194:f1 on train:0.5585716890291116:f1=0.557058928253516\n",
      "estimators=50:depth=4:leaves=30:acuracy=0.6346012630342194:f1 on train:0.5585716890291116:f1=0.557058928253516\n",
      "estimators=50:depth=4:leaves=40:acuracy=0.6346012630342194:f1 on train:0.5585716890291116:f1=0.557058928253516\n",
      "estimators=60:depth=4:leaves=5:acuracy=0.6299750330445:f1 on train:0.5669167475144986:f1=0.5651911295193719\n",
      "estimators=60:depth=4:leaves=10:acuracy=0.6351887208106918:f1 on train:0.5638418332555529:f1=0.5647450499386718\n",
      "estimators=60:depth=4:leaves=20:acuracy=0.635702746365105:f1 on train:0.5643907491799712:f1=0.5634843818741752\n",
      "estimators=60:depth=4:leaves=30:acuracy=0.635702746365105:f1 on train:0.5643907491799712:f1=0.5634843818741752\n",
      "estimators=60:depth=4:leaves=40:acuracy=0.635702746365105:f1 on train:0.5643907491799712:f1=0.5634843818741752\n",
      "estimators=70:depth=4:leaves=5:acuracy=0.6315171097077398:f1 on train:0.5650140896195142:f1=0.563272410791993\n",
      "estimators=70:depth=4:leaves=10:acuracy=0.635702746365105:f1 on train:0.5614655991406522:f1=0.5659287776708374\n",
      "estimators=70:depth=4:leaves=20:acuracy=0.6363636363636364:f1 on train:0.5605673320552247:f1=0.5625441696113075\n",
      "estimators=70:depth=4:leaves=30:acuracy=0.6363636363636364:f1 on train:0.5605673320552247:f1=0.5625441696113075\n",
      "estimators=70:depth=4:leaves=40:acuracy=0.6363636363636364:f1 on train:0.5605673320552247:f1=0.5625441696113075\n",
      "estimators=80:depth=4:leaves=5:acuracy=0.630048465266559:f1 on train:0.5670800673105804:f1=0.5668099742046432\n",
      "estimators=80:depth=4:leaves=10:acuracy=0.6353355852548098:f1 on train:0.5702960038662654:f1=0.5744644387317909\n",
      "estimators=80:depth=4:leaves=20:acuracy=0.6373182552504039:f1 on train:0.5693740656462595:f1=0.5718248807975725\n",
      "estimators=80:depth=4:leaves=30:acuracy=0.6373182552504039:f1 on train:0.5693740656462595:f1=0.5718248807975725\n",
      "estimators=80:depth=4:leaves=40:acuracy=0.6373182552504039:f1 on train:0.5693740656462595:f1=0.5718248807975725\n",
      "estimators=90:depth=4:leaves=5:acuracy=0.6297547363783228:f1 on train:0.5673746203705481:f1=0.5691334814561614\n",
      "estimators=90:depth=4:leaves=10:acuracy=0.6359230430312821:f1 on train:0.5713581890220284:f1=0.5723650163877868\n",
      "estimators=90:depth=4:leaves=20:acuracy=0.6358496108092231:f1 on train:0.5712390818704188:f1=0.5709836491045939\n",
      "estimators=90:depth=4:leaves=30:acuracy=0.6358496108092231:f1 on train:0.5712390818704188:f1=0.5709836491045939\n",
      "estimators=90:depth=4:leaves=40:acuracy=0.6358496108092231:f1 on train:0.5712390818704188:f1=0.5709836491045939\n",
      "estimators=100:depth=4:leaves=5:acuracy=0.6299750330445:f1 on train:0.5673973829521926:f1=0.5682460800274184\n",
      "estimators=100:depth=4:leaves=10:acuracy=0.6348215597003966:f1 on train:0.5678474147595954:f1=0.5699213007005103\n",
      "estimators=100:depth=4:leaves=20:acuracy=0.635629314143046:f1 on train:0.5683780017903264:f1=0.5696444058976583\n",
      "estimators=100:depth=4:leaves=30:acuracy=0.635629314143046:f1 on train:0.5683780017903264:f1=0.5696444058976583\n",
      "estimators=100:depth=4:leaves=40:acuracy=0.635629314143046:f1 on train:0.5683780017903264:f1=0.5696444058976583\n",
      "estimators=10:depth=5:leaves=5:acuracy=0.6180055808488765:f1 on train:0.504939397614778:f1=0.4972941631233088\n",
      "estimators=10:depth=5:leaves=10:acuracy=0.6309296519312675:f1 on train:0.5562011139946129:f1=0.5445813700616164\n",
      "estimators=10:depth=5:leaves=20:acuracy=0.6316639741518578:f1 on train:0.557108494130278:f1=0.5286600263108437\n",
      "estimators=10:depth=5:leaves=30:acuracy=0.6321045674842121:f1 on train:0.5574980037404382:f1=0.5304592314901593\n",
      "estimators=10:depth=5:leaves=40:acuracy=0.6321045674842121:f1 on train:0.5574881252807067:f1=0.5304592314901593\n",
      "estimators=20:depth=5:leaves=5:acuracy=0.6288735497136143:f1 on train:0.5613381065596785:f1=0.557210443315227\n",
      "estimators=20:depth=5:leaves=10:acuracy=0.6315905419297988:f1 on train:0.5715382692663429:f1=0.5714529768514565\n",
      "estimators=20:depth=5:leaves=20:acuracy=0.6367307974739316:f1 on train:0.5706425897029492:f1=0.5726133909287258\n",
      "estimators=20:depth=5:leaves=30:acuracy=0.6370979585842268:f1 on train:0.5708767502913112:f1=0.5704102920723226\n",
      "estimators=20:depth=5:leaves=40:acuracy=0.6369510941401086:f1 on train:0.5708767502913112:f1=0.5702364394993047\n",
      "estimators=30:depth=5:leaves=5:acuracy=0.6295344397121457:f1 on train:0.5644277092050665:f1=0.5549969127635177\n",
      "estimators=30:depth=5:leaves=10:acuracy=0.6337200763695109:f1 on train:0.5715022573082671:f1=0.5725792630676949\n",
      "estimators=30:depth=5:leaves=20:acuracy=0.6404024085768836:f1 on train:0.5744097937530632:f1=0.5781721078473598\n",
      "estimators=30:depth=5:leaves=30:acuracy=0.6405492730210016:f1 on train:0.573523218377551:f1=0.5767401642888025\n",
      "estimators=30:depth=5:leaves=40:acuracy=0.6405492730210016:f1 on train:0.5734902139458453:f1=0.5767401642888025\n",
      "estimators=40:depth=5:leaves=5:acuracy=0.6321779997062711:f1 on train:0.5662734003619395:f1=0.5578603583723188\n",
      "estimators=40:depth=5:leaves=10:acuracy=0.6367307974739316:f1 on train:0.5713735477338601:f1=0.5740118832343064\n",
      "estimators=40:depth=5:leaves=20:acuracy=0.6391540608018799:f1 on train:0.5709890320619999:f1=0.5715033135681897\n",
      "estimators=40:depth=5:leaves=30:acuracy=0.6399618152445293:f1 on train:0.5701652022768172:f1=0.5721267126276289\n",
      "estimators=40:depth=5:leaves=40:acuracy=0.6399618152445293:f1 on train:0.5701240686506839:f1=0.5721267126276289\n",
      "estimators=50:depth=5:leaves=5:acuracy=0.6324717285945073:f1 on train:0.5661616822158348:f1=0.5652740380439503\n",
      "estimators=50:depth=5:leaves=10:acuracy=0.6370979585842268:f1 on train:0.5729479911669779:f1=0.5777511961722488\n"
     ]
    },
    {
     "name": "stdout",
     "output_type": "stream",
     "text": [
      "estimators=50:depth=5:leaves=20:acuracy=0.6401086796886474:f1 on train:0.5729171025544669:f1=0.5760747340195485\n",
      "estimators=50:depth=5:leaves=30:acuracy=0.6398149508004112:f1 on train:0.5719481854905004:f1=0.5749198370742699\n",
      "estimators=50:depth=5:leaves=40:acuracy=0.6398149508004112:f1 on train:0.5719481854905004:f1=0.5749198370742699\n",
      "estimators=60:depth=5:leaves=5:acuracy=0.6299750330445:f1 on train:0.5669167475144986:f1=0.5651911295193719\n",
      "estimators=60:depth=5:leaves=10:acuracy=0.6379791452489353:f1 on train:0.5767836570722675:f1=0.5804969366916269\n",
      "estimators=60:depth=5:leaves=20:acuracy=0.6387868996915846:f1 on train:0.5738749607043292:f1=0.5778769415601133\n",
      "estimators=60:depth=5:leaves=30:acuracy=0.6387868996915846:f1 on train:0.5733121618994641:f1=0.5773691897929376\n",
      "estimators=60:depth=5:leaves=40:acuracy=0.6387868996915846:f1 on train:0.5733697521871601:f1=0.5773691897929376\n",
      "estimators=70:depth=5:leaves=5:acuracy=0.6315171097077398:f1 on train:0.5650140896195142:f1=0.563272410791993\n",
      "estimators=70:depth=5:leaves=10:acuracy=0.6380525774709943:f1 on train:0.5760581415849352:f1=0.5816854790800305\n",
      "estimators=70:depth=5:leaves=20:acuracy=0.6398883830224703:f1 on train:0.5729606326668921:f1=0.5759986166349645\n",
      "estimators=70:depth=5:leaves=30:acuracy=0.6397415185783522:f1 on train:0.5719383790509065:f1=0.5755320989790621\n",
      "estimators=70:depth=5:leaves=40:acuracy=0.6397415185783522:f1 on train:0.5719218702961788:f1=0.5755320989790621\n",
      "estimators=80:depth=5:leaves=5:acuracy=0.630048465266559:f1 on train:0.5670800673105804:f1=0.5668099742046432\n",
      "estimators=80:depth=5:leaves=10:acuracy=0.6384197385812894:f1 on train:0.5793422929650778:f1=0.5844725738396626\n",
      "estimators=80:depth=5:leaves=20:acuracy=0.6402555441327654:f1 on train:0.5767657830196089:f1=0.5813893873365804\n",
      "estimators=80:depth=5:leaves=30:acuracy=0.6407695696871787:f1 on train:0.5762118323667129:f1=0.5816658115272789\n",
      "estimators=80:depth=5:leaves=40:acuracy=0.6407695696871787:f1 on train:0.5761880110111066:f1=0.5816658115272789\n",
      "estimators=90:depth=5:leaves=5:acuracy=0.6297547363783228:f1 on train:0.5673746203705481:f1=0.5691334814561614\n",
      "estimators=90:depth=5:leaves=10:acuracy=0.6379791452489353:f1 on train:0.5799993765628506:f1=0.5821325648414986\n",
      "estimators=90:depth=5:leaves=20:acuracy=0.6393743574680569:f1 on train:0.5779986969159797:f1=0.5785634600532052\n",
      "estimators=90:depth=5:leaves=30:acuracy=0.6399618152445293:f1 on train:0.577322446106948:f1=0.5791777529825767\n",
      "estimators=90:depth=5:leaves=40:acuracy=0.6399618152445293:f1 on train:0.577322446106948:f1=0.5791777529825767\n",
      "estimators=100:depth=5:leaves=5:acuracy=0.6299750330445:f1 on train:0.5673973829521926:f1=0.5682460800274184\n",
      "estimators=100:depth=5:leaves=10:acuracy=0.6379791452489353:f1 on train:0.5787804631866178:f1=0.5806396733582851\n",
      "estimators=100:depth=5:leaves=20:acuracy=0.6386400352474666:f1 on train:0.5767594653712068:f1=0.5767609873570139\n",
      "estimators=100:depth=5:leaves=30:acuracy=0.6387868996915846:f1 on train:0.5766851423852304:f1=0.5768602150537635\n",
      "estimators=100:depth=5:leaves=40:acuracy=0.6387868996915846:f1 on train:0.57666135122874:f1=0.5768602150537635\n",
      "estimators=10:depth=6:leaves=5:acuracy=0.6180055808488765:f1 on train:0.504939397614778:f1=0.4972941631233088\n",
      "estimators=10:depth=6:leaves=10:acuracy=0.6340872374798061:f1 on train:0.5655362840855874:f1=0.5571847507331379\n",
      "estimators=10:depth=6:leaves=20:acuracy=0.6373916874724629:f1 on train:0.5666079710267564:f1=0.5551351351351351\n",
      "estimators=10:depth=6:leaves=30:acuracy=0.6392274930239389:f1 on train:0.566197705435435:f1=0.5579847053531263\n",
      "estimators=10:depth=6:leaves=40:acuracy=0.6401821119107064:f1 on train:0.5664521061838269:f1=0.559985632183908\n",
      "estimators=20:depth=6:leaves=5:acuracy=0.6288735497136143:f1 on train:0.5613381065596785:f1=0.557210443315227\n",
      "estimators=20:depth=6:leaves=10:acuracy=0.6323982963724483:f1 on train:0.5706871692202174:f1=0.5735945485519591\n",
      "estimators=20:depth=6:leaves=20:acuracy=0.6379791452489353:f1 on train:0.5717231324193215:f1=0.5794950528829751\n",
      "estimators=20:depth=6:leaves=30:acuracy=0.6380525774709943:f1 on train:0.5717314385146604:f1=0.5769461848768346\n",
      "estimators=20:depth=6:leaves=40:acuracy=0.6390806285798208:f1 on train:0.5715773410586718:f1=0.5781477984722342\n",
      "estimators=30:depth=6:leaves=5:acuracy=0.6295344397121457:f1 on train:0.5644277092050665:f1=0.5549969127635177\n",
      "estimators=30:depth=6:leaves=10:acuracy=0.6339403730356881:f1 on train:0.5733711058767701:f1=0.5751299752833887\n",
      "estimators=30:depth=6:leaves=20:acuracy=0.6377588485827581:f1 on train:0.5765248780286545:f1=0.5788440194655511\n",
      "estimators=30:depth=6:leaves=30:acuracy=0.6387868996915846:f1 on train:0.5753435989908098:f1=0.5785279753234513\n",
      "estimators=30:depth=6:leaves=40:acuracy=0.6393009252459979:f1 on train:0.5751865948259638:f1=0.5782242830156277\n",
      "estimators=40:depth=6:leaves=5:acuracy=0.6321779997062711:f1 on train:0.5662734003619395:f1=0.5578603583723188\n",
      "estimators=40:depth=6:leaves=10:acuracy=0.6365839330298135:f1 on train:0.5740924372402056:f1=0.577261467498078\n",
      "estimators=40:depth=6:leaves=20:acuracy=0.6389337641357028:f1 on train:0.5761007040555013:f1=0.5779761393871771\n",
      "estimators=40:depth=6:leaves=30:acuracy=0.6401821119107064:f1 on train:0.5740873173152504:f1=0.5761978896384709\n",
      "estimators=40:depth=6:leaves=40:acuracy=0.6404024085768836:f1 on train:0.5732541398944592:f1=0.5763474348992127\n",
      "estimators=50:depth=6:leaves=5:acuracy=0.6324717285945073:f1 on train:0.5661616822158348:f1=0.5652740380439503\n",
      "estimators=50:depth=6:leaves=10:acuracy=0.6365839330298135:f1 on train:0.5730263391036927:f1=0.5750107342206956\n",
      "estimators=50:depth=6:leaves=20:acuracy=0.6387868996915846:f1 on train:0.5756726217756782:f1=0.5769330007740604\n",
      "estimators=50:depth=6:leaves=30:acuracy=0.6390071963577618:f1 on train:0.5736265859712981:f1=0.576644850155012\n",
      "estimators=50:depth=6:leaves=40:acuracy=0.6391540608018799:f1 on train:0.5735340743769866:f1=0.5763793103448276\n",
      "estimators=60:depth=6:leaves=5:acuracy=0.6299750330445:f1 on train:0.5669167475144986:f1=0.5651911295193719\n",
      "estimators=60:depth=6:leaves=10:acuracy=0.6376119841386401:f1 on train:0.5770209676032045:f1=0.5811051693404634\n",
      "estimators=60:depth=6:leaves=20:acuracy=0.6400352474665884:f1 on train:0.5767948696516795:f1=0.5825242718446603\n",
      "estimators=60:depth=6:leaves=30:acuracy=0.6400352474665884:f1 on train:0.5754744829091353:f1=0.581811977478246\n",
      "estimators=60:depth=6:leaves=40:acuracy=0.6404024085768836:f1 on train:0.5751065674644292:f1=0.5827724290704609\n",
      "estimators=70:depth=6:leaves=5:acuracy=0.6315171097077398:f1 on train:0.5650140896195142:f1=0.563272410791993\n",
      "estimators=70:depth=6:leaves=10:acuracy=0.6369510941401086:f1 on train:0.576619542001394:f1=0.5804480651731162\n",
      "estimators=70:depth=6:leaves=20:acuracy=0.6398883830224703:f1 on train:0.576041228996717:f1=0.5813556428205566\n",
      "estimators=70:depth=6:leaves=30:acuracy=0.6400352474665884:f1 on train:0.5742420304670051:f1=0.5800925132773685\n",
      "estimators=70:depth=6:leaves=40:acuracy=0.6408430019092378:f1 on train:0.5743128046632188:f1=0.5808552575199245\n",
      "estimators=80:depth=6:leaves=5:acuracy=0.630048465266559:f1 on train:0.5670800673105804:f1=0.5668099742046432\n",
      "estimators=80:depth=6:leaves=10:acuracy=0.6369510941401086:f1 on train:0.5804798113177502:f1=0.5817258883248732\n",
      "estimators=80:depth=6:leaves=20:acuracy=0.6405492730210016:f1 on train:0.5792079192249016:f1=0.5859064376956264\n",
      "estimators=80:depth=6:leaves=30:acuracy=0.6402555441327654:f1 on train:0.5777959430332174:f1=0.5839490445859873\n",
      "estimators=80:depth=6:leaves=40:acuracy=0.6398149508004112:f1 on train:0.5770941079025917:f1=0.5835102318077608\n",
      "estimators=90:depth=6:leaves=5:acuracy=0.6297547363783228:f1 on train:0.5673746203705481:f1=0.5691334814561614\n",
      "estimators=90:depth=6:leaves=10:acuracy=0.6368042296959906:f1 on train:0.5793835574795254:f1=0.5811314363143631\n",
      "estimators=90:depth=6:leaves=20:acuracy=0.6391540608018799:f1 on train:0.5797773820552456:f1=0.584404600811908\n",
      "estimators=90:depth=6:leaves=30:acuracy=0.6401821119107064:f1 on train:0.5778697853350028:f1=0.5840407470288624\n",
      "estimators=90:depth=6:leaves=40:acuracy=0.6405492730210016:f1 on train:0.577187795897345:f1=0.5844299176500551\n",
      "estimators=100:depth=6:leaves=5:acuracy=0.6299750330445:f1 on train:0.5673973829521926:f1=0.5682460800274184\n"
     ]
    },
    {
     "name": "stdout",
     "output_type": "stream",
     "text": [
      "estimators=100:depth=6:leaves=10:acuracy=0.637538551916581:f1 on train:0.5788886447854434:f1=0.5816949152542373\n",
      "estimators=100:depth=6:leaves=20:acuracy=0.6396680863562931:f1 on train:0.5794387088288262:f1=0.5843286742905548\n",
      "estimators=100:depth=6:leaves=30:acuracy=0.6401821119107064:f1 on train:0.57775639001739:f1=0.5831206397822019\n",
      "estimators=100:depth=6:leaves=40:acuracy=0.6395946541342341:f1 on train:0.577362192034594:f1=0.5821556274476417\n",
      "estimators=10:depth=7:leaves=5:acuracy=0.6180055808488765:f1 on train:0.504939397614778:f1=0.4972941631233088\n",
      "estimators=10:depth=7:leaves=10:acuracy=0.6321045674842121:f1 on train:0.5648034221638276:f1=0.5517981749865807\n",
      "estimators=10:depth=7:leaves=20:acuracy=0.637538551916581:f1 on train:0.569031309709812:f1=0.5577060931899642\n",
      "estimators=10:depth=7:leaves=30:acuracy=0.6389337641357028:f1 on train:0.5719589651325785:f1=0.5523896222121075\n",
      "estimators=10:depth=7:leaves=40:acuracy=0.6398149508004112:f1 on train:0.5713127336262198:f1=0.5575899702354109\n",
      "estimators=20:depth=7:leaves=5:acuracy=0.6288735497136143:f1 on train:0.5613381065596785:f1=0.557210443315227\n",
      "estimators=20:depth=7:leaves=10:acuracy=0.6314436774856808:f1 on train:0.570744946954883:f1=0.571794215510622\n",
      "estimators=20:depth=7:leaves=20:acuracy=0.6365839330298135:f1 on train:0.5760257329837353:f1=0.5762479664354825\n",
      "estimators=20:depth=7:leaves=30:acuracy=0.6398883830224703:f1 on train:0.5765987131540271:f1=0.5728222996515678\n",
      "estimators=20:depth=7:leaves=40:acuracy=0.6396680863562931:f1 on train:0.5743532610549309:f1=0.5753353526611856\n",
      "estimators=30:depth=7:leaves=5:acuracy=0.6295344397121457:f1 on train:0.5644277092050665:f1=0.5549969127635177\n",
      "estimators=30:depth=7:leaves=10:acuracy=0.6350418563665736:f1 on train:0.5718493645244082:f1=0.5754314026994705\n",
      "estimators=30:depth=7:leaves=20:acuracy=0.6381260096930533:f1 on train:0.5798639039784546:f1=0.580952380952381\n",
      "estimators=30:depth=7:leaves=30:acuracy=0.6383463063592304:f1 on train:0.5791186360676355:f1=0.5770717045942465\n",
      "estimators=30:depth=7:leaves=40:acuracy=0.6386400352474666:f1 on train:0.5780238884611876:f1=0.5767609873570139\n",
      "estimators=40:depth=7:leaves=5:acuracy=0.6321779997062711:f1 on train:0.5662734003619395:f1=0.5578603583723188\n",
      "estimators=40:depth=7:leaves=10:acuracy=0.635702746365105:f1 on train:0.573693208811019:f1=0.5754385964912281\n",
      "estimators=40:depth=7:leaves=20:acuracy=0.6390071963577618:f1 on train:0.5799016671254605:f1=0.5799008716458726\n",
      "estimators=40:depth=7:leaves=30:acuracy=0.6387134674695256:f1 on train:0.5786249085654986:f1=0.5764462809917356\n",
      "estimators=40:depth=7:leaves=40:acuracy=0.6398883830224703:f1 on train:0.5781405004861353:f1=0.5779690189328743\n",
      "estimators=50:depth=7:leaves=5:acuracy=0.6324717285945073:f1 on train:0.5661616822158348:f1=0.5652740380439503\n",
      "estimators=50:depth=7:leaves=10:acuracy=0.6367307974739316:f1 on train:0.5730607200206894:f1=0.5788712011577424\n",
      "estimators=50:depth=7:leaves=20:acuracy=0.6394477896901161:f1 on train:0.5796449306416482:f1=0.5824119748256505\n",
      "estimators=50:depth=7:leaves=30:acuracy=0.6397415185783522:f1 on train:0.5791190222991041:f1=0.5806837606837607\n",
      "estimators=50:depth=7:leaves=40:acuracy=0.6402555441327654:f1 on train:0.5784717245497343:f1=0.5805291548933984\n",
      "estimators=60:depth=7:leaves=5:acuracy=0.6299750330445:f1 on train:0.5669167475144986:f1=0.5651911295193719\n",
      "estimators=60:depth=7:leaves=10:acuracy=0.6371713908062858:f1 on train:0.5769103577889088:f1=0.5818735719725819\n",
      "estimators=60:depth=7:leaves=20:acuracy=0.6383463063592304:f1 on train:0.5798439043816858:f1=0.5822376791924676\n",
      "estimators=60:depth=7:leaves=30:acuracy=0.6403289763548244:f1 on train:0.5791025020482813:f1=0.583219877467665\n",
      "estimators=60:depth=7:leaves=40:acuracy=0.6391540608018799:f1 on train:0.5785732923242775:f1=0.5808597748208801\n",
      "estimators=70:depth=7:leaves=5:acuracy=0.6315171097077398:f1 on train:0.5650140896195142:f1=0.563272410791993\n",
      "estimators=70:depth=7:leaves=10:acuracy=0.6370979585842268:f1 on train:0.5758276018873463:f1=0.5818950930626058\n",
      "estimators=70:depth=7:leaves=20:acuracy=0.6393743574680569:f1 on train:0.5804312478867202:f1=0.5830007642014094\n",
      "estimators=70:depth=7:leaves=30:acuracy=0.6397415185783522:f1 on train:0.5798811969076737:f1=0.5823258981781032\n",
      "estimators=70:depth=7:leaves=40:acuracy=0.6401086796886474:f1 on train:0.5791929606434599:f1=0.5822892695815222\n",
      "estimators=80:depth=7:leaves=5:acuracy=0.630048465266559:f1 on train:0.5670800673105804:f1=0.5668099742046432\n",
      "estimators=80:depth=7:leaves=10:acuracy=0.6374651196945219:f1 on train:0.5804315240490147:f1=0.5830588632716832\n",
      "estimators=80:depth=7:leaves=20:acuracy=0.6401821119107064:f1 on train:0.5831348522019049:f1=0.5856587180788093\n",
      "estimators=80:depth=7:leaves=30:acuracy=0.6408430019092378:f1 on train:0.5812629744631979:f1=0.5850513277339441\n",
      "estimators=80:depth=7:leaves=40:acuracy=0.6407695696871787:f1 on train:0.5811434363504572:f1=0.584578804347826\n",
      "estimators=90:depth=7:leaves=5:acuracy=0.6297547363783228:f1 on train:0.5673746203705481:f1=0.5691334814561614\n",
      "estimators=90:depth=7:leaves=10:acuracy=0.6367307974739316:f1 on train:0.5792549538920228:f1=0.5813658288905813\n",
      "estimators=90:depth=7:leaves=20:acuracy=0.6391540608018799:f1 on train:0.5831065794126672:f1=0.584755788406287\n",
      "estimators=90:depth=7:leaves=30:acuracy=0.6404024085768836:f1 on train:0.5818591120545928:f1=0.5846127746204088\n",
      "estimators=90:depth=7:leaves=40:acuracy=0.6405492730210016:f1 on train:0.5807020617855617:f1=0.5844299176500551\n",
      "estimators=100:depth=7:leaves=5:acuracy=0.6299750330445:f1 on train:0.5673973829521926:f1=0.5682460800274184\n",
      "estimators=100:depth=7:leaves=10:acuracy=0.6376854163606991:f1 on train:0.5791882868599738:f1=0.581864406779661\n",
      "estimators=100:depth=7:leaves=20:acuracy=0.6394477896901161:f1 on train:0.5821122971100371:f1=0.5846023688663283\n",
      "estimators=100:depth=7:leaves=30:acuracy=0.6399618152445293:f1 on train:0.5810550774976166:f1=0.5833970600730733\n",
      "estimators=100:depth=7:leaves=40:acuracy=0.6399618152445293:f1 on train:0.5799102398143939:f1=0.5829718465594964\n",
      "estimators=10:depth=8:leaves=5:acuracy=0.6180055808488765:f1 on train:0.504939397614778:f1=0.4972941631233088\n",
      "estimators=10:depth=8:leaves=10:acuracy=0.6316639741518578:f1 on train:0.5647677877302126:f1=0.5502152080344334\n",
      "estimators=10:depth=8:leaves=20:acuracy=0.6396680863562931:f1 on train:0.5766682437473466:f1=0.5638609901342103\n",
      "estimators=10:depth=8:leaves=30:acuracy=0.6423850785724776:f1 on train:0.5758848686530025:f1=0.5637764242207094\n",
      "estimators=10:depth=8:leaves=40:acuracy=0.6418710530180644:f1 on train:0.5778510519292414:f1=0.5599566904267798\n",
      "estimators=20:depth=8:leaves=5:acuracy=0.6288735497136143:f1 on train:0.5613381065596785:f1=0.557210443315227\n",
      "estimators=20:depth=8:leaves=10:acuracy=0.6317374063739168:f1 on train:0.5724109020454364:f1=0.5724273169068121\n",
      "estimators=20:depth=8:leaves=20:acuracy=0.6392274930239389:f1 on train:0.5787552939978411:f1=0.5805515239477503\n",
      "estimators=20:depth=8:leaves=30:acuracy=0.6415038919077691:f1 on train:0.5785263268134289:f1=0.582235153174739\n",
      "estimators=20:depth=8:leaves=40:acuracy=0.6412101630195329:f1 on train:0.5795683730220997:f1=0.5785751250646886\n",
      "estimators=30:depth=8:leaves=5:acuracy=0.6295344397121457:f1 on train:0.5644277092050665:f1=0.5549969127635177\n",
      "estimators=30:depth=8:leaves=10:acuracy=0.6341606697018651:f1 on train:0.5734130126504373:f1=0.5737508555783709\n",
      "estimators=30:depth=8:leaves=20:acuracy=0.6396680863562931:f1 on train:0.5808415302408965:f1=0.5846804909013965\n",
      "estimators=30:depth=8:leaves=30:acuracy=0.6428256719048319:f1 on train:0.5822992475330925:f1=0.5838466803559206\n",
      "estimators=30:depth=8:leaves=40:acuracy=0.6428991041268909:f1 on train:0.5819770188528633:f1=0.5811008700146438\n",
      "estimators=40:depth=8:leaves=5:acuracy=0.6321779997062711:f1 on train:0.5662734003619395:f1=0.5578603583723188\n",
      "estimators=40:depth=8:leaves=10:acuracy=0.6369510941401086:f1 on train:0.5749511923044046:f1=0.5781569965870308\n",
      "estimators=40:depth=8:leaves=20:acuracy=0.6385666030254076:f1 on train:0.5809791444180978:f1=0.5834461746784021\n",
      "estimators=40:depth=8:leaves=30:acuracy=0.6428991041268909:f1 on train:0.5822341674065418:f1=0.5846074997864525\n",
      "estimators=40:depth=8:leaves=40:acuracy=0.6431928330151271:f1 on train:0.582519692578692:f1=0.5825959969074821\n"
     ]
    },
    {
     "name": "stdout",
     "output_type": "stream",
     "text": [
      "estimators=50:depth=8:leaves=5:acuracy=0.6324717285945073:f1 on train:0.5661616822158348:f1=0.5652740380439503\n",
      "estimators=50:depth=8:leaves=10:acuracy=0.6372448230283448:f1 on train:0.5738024409286193:f1=0.5800034007821799\n",
      "estimators=50:depth=8:leaves=20:acuracy=0.6388603319136437:f1 on train:0.5808596411624698:f1=0.5860966167311902\n",
      "estimators=50:depth=8:leaves=30:acuracy=0.6415773241298282:f1 on train:0.5833523539476602:f1=0.5852663777721131\n",
      "estimators=50:depth=8:leaves=40:acuracy=0.6431928330151271:f1 on train:0.5836172771391708:f1=0.584949175706842\n",
      "estimators=60:depth=8:leaves=5:acuracy=0.6299750330445:f1 on train:0.5669167475144986:f1=0.5651911295193719\n",
      "estimators=60:depth=8:leaves=10:acuracy=0.6365105008077544:f1 on train:0.5770294110400597:f1=0.5816430020283976\n",
      "estimators=60:depth=8:leaves=20:acuracy=0.6396680863562931:f1 on train:0.5811632433179399:f1=0.5861516403812095\n",
      "estimators=60:depth=8:leaves=30:acuracy=0.6409898663533559:f1 on train:0.5827398939122836:f1=0.5859937335930223\n",
      "estimators=60:depth=8:leaves=40:acuracy=0.6434865619033632:f1 on train:0.5826614125816771:f1=0.5864213306073771\n",
      "estimators=70:depth=8:leaves=5:acuracy=0.6315171097077398:f1 on train:0.5650140896195142:f1=0.563272410791993\n",
      "estimators=70:depth=8:leaves=10:acuracy=0.6373182552504039:f1 on train:0.5767385119383736:f1=0.5824668188350663\n",
      "estimators=70:depth=8:leaves=20:acuracy=0.6394477896901161:f1 on train:0.5815692353380284:f1=0.586561131694173\n",
      "estimators=70:depth=8:leaves=30:acuracy=0.6427522396827728:f1 on train:0.5831848630111283:f1=0.5881655802928977\n",
      "estimators=70:depth=8:leaves=40:acuracy=0.6442943163460126:f1 on train:0.5828105798691972:f1=0.58837525492862\n",
      "estimators=80:depth=8:leaves=5:acuracy=0.630048465266559:f1 on train:0.5670800673105804:f1=0.5668099742046432\n",
      "estimators=80:depth=8:leaves=10:acuracy=0.6370979585842268:f1 on train:0.5801959037241737:f1=0.5833052276559865\n",
      "estimators=80:depth=8:leaves=20:acuracy=0.6405492730210016:f1 on train:0.5839175693850436:f1=0.5887591363521801\n",
      "estimators=80:depth=8:leaves=30:acuracy=0.6415773241298282:f1 on train:0.5849346171635447:f1=0.5884832644802293\n",
      "estimators=80:depth=8:leaves=40:acuracy=0.6428991041268909:f1 on train:0.5849237527870716:f1=0.5877066553624418\n",
      "estimators=90:depth=8:leaves=5:acuracy=0.6297547363783228:f1 on train:0.5673746203705481:f1=0.5691334814561614\n",
      "estimators=90:depth=8:leaves=10:acuracy=0.6370979585842268:f1 on train:0.5794737427401986:f1=0.5823191345503719\n",
      "estimators=90:depth=8:leaves=20:acuracy=0.6395946541342341:f1 on train:0.5841237931859424:f1=0.5867991244317226\n",
      "estimators=90:depth=8:leaves=30:acuracy=0.6410632985754149:f1 on train:0.5844689652736552:f1=0.5881361644759016\n",
      "estimators=90:depth=8:leaves=40:acuracy=0.643119400793068:f1 on train:0.58469922379573:f1=0.5876463600882403\n",
      "estimators=100:depth=8:leaves=5:acuracy=0.6299750330445:f1 on train:0.5673973829521926:f1=0.5682460800274184\n",
      "estimators=100:depth=8:leaves=10:acuracy=0.6377588485827581:f1 on train:0.5790182700852095:f1=0.5827624122473145\n",
      "estimators=100:depth=8:leaves=20:acuracy=0.6400352474665884:f1 on train:0.5835509161657734:f1=0.5867475973697521\n",
      "estimators=100:depth=8:leaves=30:acuracy=0.643119400793068:f1 on train:0.5839549073584255:f1=0.5896656534954406\n",
      "estimators=100:depth=8:leaves=40:acuracy=0.6426788074607137:f1 on train:0.5843107041741454:f1=0.5866462793068297\n",
      "estimators=10:depth=9:leaves=5:acuracy=0.6180055808488765:f1 on train:0.504939397614778:f1=0.4972941631233088\n",
      "estimators=10:depth=9:leaves=10:acuracy=0.6316639741518578:f1 on train:0.5647677877302126:f1=0.5502152080344334\n",
      "estimators=10:depth=9:leaves=20:acuracy=0.6378322808048171:f1 on train:0.575924799868716:f1=0.5607410046312788\n",
      "estimators=10:depth=9:leaves=30:acuracy=0.6411367307974739:f1 on train:0.5777948923029308:f1=0.5577775766898924\n",
      "estimators=10:depth=9:leaves=40:acuracy=0.6423116463504186:f1 on train:0.5786834263898722:f1=0.5593848937132518\n",
      "estimators=20:depth=9:leaves=5:acuracy=0.6288735497136143:f1 on train:0.5613381065596785:f1=0.557210443315227\n",
      "estimators=20:depth=9:leaves=10:acuracy=0.6317374063739168:f1 on train:0.5724109020454364:f1=0.5724273169068121\n",
      "estimators=20:depth=9:leaves=20:acuracy=0.6387134674695256:f1 on train:0.5785007138765336:f1=0.5792714212416623\n",
      "estimators=20:depth=9:leaves=30:acuracy=0.6408430019092378:f1 on train:0.5809968266922951:f1=0.5759125986300183\n",
      "estimators=20:depth=9:leaves=40:acuracy=0.6426788074607137:f1 on train:0.5825573916831551:f1=0.5788471525012981\n",
      "estimators=30:depth=9:leaves=5:acuracy=0.6295344397121457:f1 on train:0.5644277092050665:f1=0.5549969127635177\n",
      "estimators=30:depth=9:leaves=10:acuracy=0.6341606697018651:f1 on train:0.5734130126504373:f1=0.5737508555783709\n",
      "estimators=30:depth=9:leaves=20:acuracy=0.6390071963577618:f1 on train:0.5810701468014556:f1=0.5829657278588394\n",
      "estimators=30:depth=9:leaves=30:acuracy=0.6433396974592451:f1 on train:0.5837451819055038:f1=0.5803887688984881\n",
      "estimators=30:depth=9:leaves=40:acuracy=0.6440740196798355:f1 on train:0.5846444723638768:f1=0.5812526997840173\n",
      "estimators=40:depth=9:leaves=5:acuracy=0.6321779997062711:f1 on train:0.5662734003619395:f1=0.5578603583723188\n",
      "estimators=40:depth=9:leaves=10:acuracy=0.6369510941401086:f1 on train:0.5749511923044046:f1=0.5781569965870308\n",
      "estimators=40:depth=9:leaves=20:acuracy=0.6390071963577618:f1 on train:0.5810333609583447:f1=0.5806891845786422\n",
      "estimators=40:depth=9:leaves=30:acuracy=0.6429725363489499:f1 on train:0.5839563030606463:f1=0.5813673153091097\n",
      "estimators=40:depth=9:leaves=40:acuracy=0.6442943163460126:f1 on train:0.5840237234085908:f1=0.5833476690177188\n",
      "estimators=50:depth=9:leaves=5:acuracy=0.6324717285945073:f1 on train:0.5661616822158348:f1=0.5652740380439503\n",
      "estimators=50:depth=9:leaves=10:acuracy=0.6372448230283448:f1 on train:0.5738024409286193:f1=0.5800034007821799\n",
      "estimators=50:depth=9:leaves=20:acuracy=0.6393009252459979:f1 on train:0.5809726482541338:f1=0.5823839483081109\n",
      "estimators=50:depth=9:leaves=30:acuracy=0.6427522396827728:f1 on train:0.5844087678416605:f1=0.5845076436928857\n",
      "estimators=50:depth=9:leaves=40:acuracy=0.6430459685710089:f1 on train:0.5841603099146797:f1=0.5847073900042716\n",
      "estimators=60:depth=9:leaves=5:acuracy=0.6299750330445:f1 on train:0.5669167475144986:f1=0.5651911295193719\n",
      "estimators=60:depth=9:leaves=10:acuracy=0.6365105008077544:f1 on train:0.5770294110400597:f1=0.5816430020283976\n",
      "estimators=60:depth=9:leaves=20:acuracy=0.6404024085768836:f1 on train:0.5812773189874236:f1=0.5851054816572059\n",
      "estimators=60:depth=9:leaves=30:acuracy=0.6428991041268909:f1 on train:0.5829189158050263:f1=0.5869362099719697\n",
      "estimators=60:depth=9:leaves=40:acuracy=0.6434131296813042:f1 on train:0.5835916936803834:f1=0.5877758913412563\n",
      "estimators=70:depth=9:leaves=5:acuracy=0.6315171097077398:f1 on train:0.5650140896195142:f1=0.563272410791993\n",
      "estimators=70:depth=9:leaves=10:acuracy=0.6373182552504039:f1 on train:0.5767385119383736:f1=0.5824668188350663\n",
      "estimators=70:depth=9:leaves=20:acuracy=0.6400352474665884:f1 on train:0.5820838053142143:f1=0.5872347591781745\n",
      "estimators=70:depth=9:leaves=30:acuracy=0.6436334263474813:f1 on train:0.5836256897043152:f1=0.588763664096263\n",
      "estimators=70:depth=9:leaves=40:acuracy=0.6460566896754296:f1 on train:0.585069692618534:f1=0.5911096029860874\n",
      "estimators=80:depth=9:leaves=5:acuracy=0.630048465266559:f1 on train:0.5670800673105804:f1=0.5668099742046432\n",
      "estimators=80:depth=9:leaves=10:acuracy=0.6370979585842268:f1 on train:0.5801959037241737:f1=0.5833052276559865\n",
      "estimators=80:depth=9:leaves=20:acuracy=0.6401821119107064:f1 on train:0.5842197984013688:f1=0.5870554525535143\n",
      "estimators=80:depth=9:leaves=30:acuracy=0.6430459685710089:f1 on train:0.5859184197783468:f1=0.589962041332771\n",
      "estimators=80:depth=9:leaves=40:acuracy=0.6440740196798355:f1 on train:0.5865270067269631:f1=0.5903135829600202\n",
      "estimators=90:depth=9:leaves=5:acuracy=0.6297547363783228:f1 on train:0.5673746203705481:f1=0.5691334814561614\n",
      "estimators=90:depth=9:leaves=10:acuracy=0.6370979585842268:f1 on train:0.5794737427401986:f1=0.5823191345503719\n",
      "estimators=90:depth=9:leaves=20:acuracy=0.6404758407989426:f1 on train:0.5847709385783535:f1=0.5870445344129556\n",
      "estimators=90:depth=9:leaves=30:acuracy=0.6443677485680717:f1 on train:0.5853682176834613:f1=0.592237096909994\n"
     ]
    },
    {
     "name": "stdout",
     "output_type": "stream",
     "text": [
      "estimators=90:depth=9:leaves=40:acuracy=0.6445146130121897:f1 on train:0.5868766160506882:f1=0.5909590198563582\n",
      "estimators=100:depth=9:leaves=5:acuracy=0.6299750330445:f1 on train:0.5673973829521926:f1=0.5682460800274184\n",
      "estimators=100:depth=9:leaves=10:acuracy=0.6377588485827581:f1 on train:0.5790182700852095:f1=0.5827624122473145\n",
      "estimators=100:depth=9:leaves=20:acuracy=0.6403289763548244:f1 on train:0.5842473328297537:f1=0.5868758434547908\n",
      "estimators=100:depth=9:leaves=30:acuracy=0.6438537230136584:f1 on train:0.5844349117973995:f1=0.5913380519042805\n",
      "estimators=100:depth=9:leaves=40:acuracy=0.6448083419004259:f1 on train:0.5862287326045988:f1=0.591504095937843\n",
      "estimators=10:depth=10:leaves=5:acuracy=0.6180055808488765:f1 on train:0.504939397614778:f1=0.4972941631233088\n",
      "estimators=10:depth=10:leaves=10:acuracy=0.6316639741518578:f1 on train:0.5647677877302126:f1=0.5502152080344334\n",
      "estimators=10:depth=10:leaves=20:acuracy=0.6378322808048171:f1 on train:0.5763493368100016:f1=0.5608974358974358\n",
      "estimators=10:depth=10:leaves=30:acuracy=0.6431928330151271:f1 on train:0.5799392751283872:f1=0.5674352354669279\n",
      "estimators=10:depth=10:leaves=40:acuracy=0.6418710530180644:f1 on train:0.5797975458547887:f1=0.5615391531061763\n",
      "estimators=20:depth=10:leaves=5:acuracy=0.6288735497136143:f1 on train:0.5613381065596785:f1=0.557210443315227\n",
      "estimators=20:depth=10:leaves=10:acuracy=0.6317374063739168:f1 on train:0.5724109020454364:f1=0.5724273169068121\n",
      "estimators=20:depth=10:leaves=20:acuracy=0.6391540608018799:f1 on train:0.5781943048108438:f1=0.5795687885010268\n",
      "estimators=20:depth=10:leaves=30:acuracy=0.6413570274636511:f1 on train:0.5835089880798874:f1=0.5786749482401656\n",
      "estimators=20:depth=10:leaves=40:acuracy=0.6439271552357174:f1 on train:0.5866656662084844:f1=0.5815859867115367\n",
      "estimators=30:depth=10:leaves=5:acuracy=0.6295344397121457:f1 on train:0.5644277092050665:f1=0.5549969127635177\n",
      "estimators=30:depth=10:leaves=10:acuracy=0.6341606697018651:f1 on train:0.5734130126504373:f1=0.5737508555783709\n",
      "estimators=30:depth=10:leaves=20:acuracy=0.6390806285798208:f1 on train:0.5811472969425882:f1=0.5815953009278965\n",
      "estimators=30:depth=10:leaves=30:acuracy=0.6428256719048319:f1 on train:0.5856408656320463:f1=0.5844865880744917\n",
      "estimators=30:depth=10:leaves=40:acuracy=0.643119400793068:f1 on train:0.5907235781167023:f1=0.5841177477323293\n",
      "estimators=40:depth=10:leaves=5:acuracy=0.6321779997062711:f1 on train:0.5662734003619395:f1=0.5578603583723188\n",
      "estimators=40:depth=10:leaves=10:acuracy=0.6369510941401086:f1 on train:0.5749511923044046:f1=0.5781569965870308\n",
      "estimators=40:depth=10:leaves=20:acuracy=0.6390806285798208:f1 on train:0.58102504416227:f1=0.5792312302028937\n",
      "estimators=40:depth=10:leaves=30:acuracy=0.6423116463504186:f1 on train:0.5850300641654578:f1=0.5876576652840091\n",
      "estimators=40:depth=10:leaves=40:acuracy=0.6434131296813042:f1 on train:0.5887725832037158:f1=0.5879158180583842\n",
      "estimators=50:depth=10:leaves=5:acuracy=0.6324717285945073:f1 on train:0.5661616822158348:f1=0.5652740380439503\n",
      "estimators=50:depth=10:leaves=10:acuracy=0.6372448230283448:f1 on train:0.5738024409286193:f1=0.5800034007821799\n",
      "estimators=50:depth=10:leaves=20:acuracy=0.6388603319136437:f1 on train:0.5807005552438147:f1=0.5804470226923732\n",
      "estimators=50:depth=10:leaves=30:acuracy=0.6409898663533559:f1 on train:0.5857438169955337:f1=0.5881560104456237\n",
      "estimators=50:depth=10:leaves=40:acuracy=0.6422382141283596:f1 on train:0.5883923754290719:f1=0.5889301383732704\n",
      "estimators=60:depth=10:leaves=5:acuracy=0.6299750330445:f1 on train:0.5669167475144986:f1=0.5651911295193719\n",
      "estimators=60:depth=10:leaves=10:acuracy=0.6365105008077544:f1 on train:0.5770294110400597:f1=0.5816430020283976\n",
      "estimators=60:depth=10:leaves=20:acuracy=0.6389337641357028:f1 on train:0.5811853148740517:f1=0.5832697686244597\n",
      "estimators=60:depth=10:leaves=30:acuracy=0.6412835952415921:f1 on train:0.5852395349021269:f1=0.5887008503830934\n",
      "estimators=60:depth=10:leaves=40:acuracy=0.6429725363489499:f1 on train:0.5879952695521663:f1=0.5894967916244511\n",
      "estimators=70:depth=10:leaves=5:acuracy=0.6315171097077398:f1 on train:0.5650140896195142:f1=0.563272410791993\n",
      "estimators=70:depth=10:leaves=10:acuracy=0.6373182552504039:f1 on train:0.5767385119383736:f1=0.5824668188350663\n",
      "estimators=70:depth=10:leaves=20:acuracy=0.6398149508004112:f1 on train:0.5815557304338411:f1=0.585130677493022\n",
      "estimators=70:depth=10:leaves=30:acuracy=0.6433396974592451:f1 on train:0.5862116017332611:f1=0.5910583480676939\n",
      "estimators=70:depth=10:leaves=40:acuracy=0.6439271552357174:f1 on train:0.5888069446099374:f1=0.5915255665066128\n",
      "estimators=80:depth=10:leaves=5:acuracy=0.630048465266559:f1 on train:0.5670800673105804:f1=0.5668099742046432\n",
      "estimators=80:depth=10:leaves=10:acuracy=0.6370979585842268:f1 on train:0.5801959037241737:f1=0.5833052276559865\n",
      "estimators=80:depth=10:leaves=20:acuracy=0.6408430019092378:f1 on train:0.5837396363914659:f1=0.5870134256522841\n",
      "estimators=80:depth=10:leaves=30:acuracy=0.6421647819063004:f1 on train:0.5873731685986645:f1=0.5910883611647226\n",
      "estimators=80:depth=10:leaves=40:acuracy=0.6420913496842414:f1 on train:0.58965593952188:f1=0.5899377418812047\n",
      "estimators=90:depth=10:leaves=5:acuracy=0.6297547363783228:f1 on train:0.5673746203705481:f1=0.5691334814561614\n",
      "estimators=90:depth=10:leaves=10:acuracy=0.6370979585842268:f1 on train:0.5794737427401986:f1=0.5823191345503719\n",
      "estimators=90:depth=10:leaves=20:acuracy=0.6404024085768836:f1 on train:0.584367509967457:f1=0.5862272919307139\n",
      "estimators=90:depth=10:leaves=30:acuracy=0.6419444852401234:f1 on train:0.5864258229622136:f1=0.5905273765535773\n",
      "estimators=90:depth=10:leaves=40:acuracy=0.6429725363489499:f1 on train:0.5896646308161251:f1=0.5919086788652006\n",
      "estimators=100:depth=10:leaves=5:acuracy=0.6299750330445:f1 on train:0.5673973829521926:f1=0.5682460800274184\n",
      "estimators=100:depth=10:leaves=10:acuracy=0.6377588485827581:f1 on train:0.5790182700852095:f1=0.5827624122473145\n",
      "estimators=100:depth=10:leaves=20:acuracy=0.6405492730210016:f1 on train:0.5835514179435102:f1=0.5861864908276271\n",
      "estimators=100:depth=10:leaves=30:acuracy=0.6426788074607137:f1 on train:0.5854341862741266:f1=0.5901280323450137\n",
      "estimators=100:depth=10:leaves=40:acuracy=0.6427522396827728:f1 on train:0.5883055876690892:f1=0.5902467784047839\n",
      "estimators=10:depth=11:leaves=5:acuracy=0.6180055808488765:f1 on train:0.504939397614778:f1=0.4972941631233088\n",
      "estimators=10:depth=11:leaves=10:acuracy=0.6316639741518578:f1 on train:0.5647677877302126:f1=0.5502152080344334\n",
      "estimators=10:depth=11:leaves=20:acuracy=0.6378322808048171:f1 on train:0.5763493368100016:f1=0.5608974358974358\n",
      "estimators=10:depth=11:leaves=30:acuracy=0.6406961374651197:f1 on train:0.579585862158468:f1=0.5592288982974507\n",
      "estimators=10:depth=11:leaves=40:acuracy=0.6412101630195329:f1 on train:0.5777714978561304:f1=0.5602951763858891\n",
      "estimators=20:depth=11:leaves=5:acuracy=0.6288735497136143:f1 on train:0.5613381065596785:f1=0.557210443315227\n",
      "estimators=20:depth=11:leaves=10:acuracy=0.6317374063739168:f1 on train:0.5724109020454364:f1=0.5724273169068121\n",
      "estimators=20:depth=11:leaves=20:acuracy=0.6392274930239389:f1 on train:0.5782338965882567:f1=0.5799059427105601\n",
      "estimators=20:depth=11:leaves=30:acuracy=0.6415038919077691:f1 on train:0.5833020895397892:f1=0.5802957359009628\n",
      "estimators=20:depth=11:leaves=40:acuracy=0.6426053752386547:f1 on train:0.5856500815111904:f1=0.5811892264004819\n",
      "estimators=30:depth=11:leaves=5:acuracy=0.6295344397121457:f1 on train:0.5644277092050665:f1=0.5549969127635177\n",
      "estimators=30:depth=11:leaves=10:acuracy=0.6341606697018651:f1 on train:0.5734130126504373:f1=0.5737508555783709\n",
      "estimators=30:depth=11:leaves=20:acuracy=0.6390806285798208:f1 on train:0.5812039683670018:f1=0.5820933594082136\n",
      "estimators=30:depth=11:leaves=30:acuracy=0.6423850785724776:f1 on train:0.5846878539506211:f1=0.5826906598114825\n",
      "estimators=30:depth=11:leaves=40:acuracy=0.6433396974592451:f1 on train:0.5887563088394439:f1=0.5869546730164129\n",
      "estimators=40:depth=11:leaves=5:acuracy=0.6321779997062711:f1 on train:0.5662734003619395:f1=0.5578603583723188\n",
      "estimators=40:depth=11:leaves=10:acuracy=0.6369510941401086:f1 on train:0.5749511923044046:f1=0.5781569965870308\n"
     ]
    },
    {
     "name": "stdout",
     "output_type": "stream",
     "text": [
      "estimators=40:depth=11:leaves=20:acuracy=0.6392274930239389:f1 on train:0.5810408134311843:f1=0.5794024484205119\n",
      "estimators=40:depth=11:leaves=30:acuracy=0.6409898663533559:f1 on train:0.5853499702441708:f1=0.5844453888652784\n",
      "estimators=40:depth=11:leaves=40:acuracy=0.6421647819063004:f1 on train:0.5880894640831068:f1=0.5872787329550266\n",
      "estimators=50:depth=11:leaves=5:acuracy=0.6324717285945073:f1 on train:0.5661616822158348:f1=0.5652740380439503\n",
      "estimators=50:depth=11:leaves=10:acuracy=0.6372448230283448:f1 on train:0.5738024409286193:f1=0.5800034007821799\n",
      "estimators=50:depth=11:leaves=20:acuracy=0.6387868996915846:f1 on train:0.5807320888791969:f1=0.5804690831556503\n",
      "estimators=50:depth=11:leaves=30:acuracy=0.6406227052430606:f1 on train:0.5861777095085072:f1=0.5858859367067185\n",
      "estimators=50:depth=11:leaves=40:acuracy=0.6426788074607137:f1 on train:0.5884789720535164:f1=0.590886161089625\n",
      "estimators=60:depth=11:leaves=5:acuracy=0.6299750330445:f1 on train:0.5669167475144986:f1=0.5651911295193719\n",
      "estimators=60:depth=11:leaves=10:acuracy=0.6365105008077544:f1 on train:0.5770294110400597:f1=0.5816430020283976\n",
      "estimators=60:depth=11:leaves=20:acuracy=0.6390806285798208:f1 on train:0.5820018855483344:f1=0.5834392745147894\n",
      "estimators=60:depth=11:leaves=30:acuracy=0.6416507563518872:f1 on train:0.585741976801668:f1=0.5877682040885284\n",
      "estimators=60:depth=11:leaves=40:acuracy=0.6430459685710089:f1 on train:0.5868424741018086:f1=0.5908593552731252\n",
      "estimators=70:depth=11:leaves=5:acuracy=0.6315171097077398:f1 on train:0.5650140896195142:f1=0.563272410791993\n",
      "estimators=70:depth=11:leaves=10:acuracy=0.6373182552504039:f1 on train:0.5767385119383736:f1=0.5824668188350663\n",
      "estimators=70:depth=11:leaves=20:acuracy=0.6398883830224703:f1 on train:0.5817132680473843:f1=0.5853905985796416\n",
      "estimators=70:depth=11:leaves=30:acuracy=0.6434131296813042:f1 on train:0.5863611863699858:f1=0.5905564924114671\n",
      "estimators=70:depth=11:leaves=40:acuracy=0.6446614774563079:f1 on train:0.5886643019874869:f1=0.5928481278923011\n",
      "estimators=80:depth=11:leaves=5:acuracy=0.630048465266559:f1 on train:0.5670800673105804:f1=0.5668099742046432\n",
      "estimators=80:depth=11:leaves=10:acuracy=0.6370979585842268:f1 on train:0.5801959037241737:f1=0.5833052276559865\n",
      "estimators=80:depth=11:leaves=20:acuracy=0.6412101630195329:f1 on train:0.5838032592807975:f1=0.5876097231600269\n",
      "estimators=80:depth=11:leaves=30:acuracy=0.6419444852401234:f1 on train:0.587360571983435:f1=0.5899074852817494\n",
      "estimators=80:depth=11:leaves=40:acuracy=0.6439271552357174:f1 on train:0.5892370563265894:f1=0.5929656677579115\n",
      "estimators=90:depth=11:leaves=5:acuracy=0.6297547363783228:f1 on train:0.5673746203705481:f1=0.5691334814561614\n",
      "estimators=90:depth=11:leaves=10:acuracy=0.6370979585842268:f1 on train:0.5794737427401986:f1=0.5823191345503719\n",
      "estimators=90:depth=11:leaves=20:acuracy=0.6406227052430606:f1 on train:0.5843999711506639:f1=0.5865855718871431\n",
      "estimators=90:depth=11:leaves=30:acuracy=0.6426788074607137:f1 on train:0.5866203591335768:f1=0.59109243697479\n",
      "estimators=90:depth=11:leaves=40:acuracy=0.6436334263474813:f1 on train:0.588623181716747:f1=0.5929715675585003\n",
      "estimators=100:depth=11:leaves=5:acuracy=0.6299750330445:f1 on train:0.5673973829521926:f1=0.5682460800274184\n",
      "estimators=100:depth=11:leaves=10:acuracy=0.6377588485827581:f1 on train:0.5790182700852095:f1=0.5827624122473145\n",
      "estimators=100:depth=11:leaves=20:acuracy=0.6406227052430606:f1 on train:0.5836637329756477:f1=0.5865855718871431\n",
      "estimators=100:depth=11:leaves=30:acuracy=0.6433396974592451:f1 on train:0.585835527403894:f1=0.5905067026389005\n",
      "estimators=100:depth=11:leaves=40:acuracy=0.6442208841239536:f1 on train:0.5873530183158628:f1=0.5929597580441905\n",
      "Optimal forest model: estimators = 100 : depth=11 : leaves = 40\n",
      "optimal f1 = 0.5929597580441905\n",
      "optimal accuracy = 0.6442208841239536\n",
      "confusion matrix: [[0.77873478 0.22126522]\n",
      " [0.487362   0.512638  ]]\n"
     ]
    },
    {
     "data": {
      "text/plain": [
       "array([0.1452128 , 0.01789633, 0.01318628, 0.0067906 , 0.00430851,\n",
       "       0.00932457, 0.02240513, 0.0009554 , 0.01127574, 0.0449872 ,\n",
       "       0.45608045, 0.09223024, 0.00072603, 0.00196473, 0.00435106,\n",
       "       0.0599889 , 0.10831606])"
      ]
     },
     "execution_count": 76,
     "metadata": {},
     "output_type": "execute_result"
    }
   ],
   "source": [
    "optimal_model_forest = None\n",
    "optimal_estimators = -1\n",
    "optimal_depth = -1\n",
    "optimal_leaves = -1\n",
    "optimal_f1 = -1\n",
    "for depth in range(1, 12, 1):\n",
    "    for estimators in [10,20,30,40,50,60,70,80,90,100]:\n",
    "        for leaves in [5,10,20,30,40]:\n",
    "            model_forest = RandomForestClassifier(random_state = 12345, n_estimators = estimators, max_depth = depth, max_leaf_nodes = leaves, n_jobs = -1)\n",
    "            model_forest.fit(features_train, target_train)\n",
    "            #\n",
    "            scores = cross_val_score(model_forest, features_train, target_train, cv=5, scoring = 'f1')\n",
    "            temp_score = sum(scores)/len(scores)\n",
    "            #\n",
    "            predicted_test = model_forest.predict(features_test)\n",
    "            accuracy = accuracy_score(target_test, predicted_test)\n",
    "            f1 = f1_score(target_test, predicted_test)\n",
    "            print(f'estimators={estimators}:depth={depth}:leaves={leaves}:acuracy={accuracy}:f1 on train:{temp_score}:f1={f1}')\n",
    "            #\n",
    "            if f1 > optimal_f1:\n",
    "                optimal_model_forest = model_forest\n",
    "                optimal_estimators = estimators\n",
    "                optimal_depth = depth\n",
    "                optimal_leaves = leaves\n",
    "print(f'Optimal forest model: estimators = {optimal_estimators} : depth={optimal_depth} : leaves = {optimal_leaves}')\n",
    "predicted_test = optimal_model_forest.predict(features_test)\n",
    "f1 = f1_score(target_test, predicted_test)\n",
    "accuracy = accuracy_score(target_test, predicted_test)\n",
    "print(f'optimal f1 = {f1}')\n",
    "print(f'optimal accuracy = {accuracy}')\n",
    "print('confusion matrix:', confusion_matrix(target_test, predicted_test, normalize = 'true'))\n",
    "optimal_model_forest.feature_importances_"
   ]
  },
  {
   "cell_type": "markdown",
   "id": "8500f366",
   "metadata": {},
   "source": [
    "Использование библиотеки lightgbm"
   ]
  },
  {
   "cell_type": "code",
   "execution_count": 77,
   "id": "f7ec3081",
   "metadata": {},
   "outputs": [
    {
     "name": "stdout",
     "output_type": "stream",
     "text": [
      "[LightGBM] [Warning] feature_fraction is set=0.9, colsample_bytree=1.0 will be ignored. Current value: feature_fraction=0.9\n",
      "[LightGBM] [Warning] bagging_fraction is set=0.9, subsample=1.0 will be ignored. Current value: bagging_fraction=0.9\n",
      "[LightGBM] [Warning] feature_fraction is set=0.9, colsample_bytree=1.0 will be ignored. Current value: feature_fraction=0.9\n",
      "[LightGBM] [Warning] bagging_fraction is set=0.9, subsample=1.0 will be ignored. Current value: bagging_fraction=0.9\n",
      "[LightGBM] [Warning] feature_fraction is set=0.9, colsample_bytree=1.0 will be ignored. Current value: feature_fraction=0.9\n",
      "[LightGBM] [Warning] bagging_fraction is set=0.9, subsample=1.0 will be ignored. Current value: bagging_fraction=0.9\n",
      "[LightGBM] [Warning] feature_fraction is set=0.9, colsample_bytree=1.0 will be ignored. Current value: feature_fraction=0.9\n",
      "[LightGBM] [Warning] bagging_fraction is set=0.9, subsample=1.0 will be ignored. Current value: bagging_fraction=0.9\n",
      "[LightGBM] [Warning] feature_fraction is set=0.9, colsample_bytree=1.0 will be ignored. Current value: feature_fraction=0.9\n",
      "[LightGBM] [Warning] bagging_fraction is set=0.9, subsample=1.0 will be ignored. Current value: bagging_fraction=0.9\n",
      "[LightGBM] [Warning] feature_fraction is set=0.9, colsample_bytree=1.0 will be ignored. Current value: feature_fraction=0.9\n",
      "[LightGBM] [Warning] bagging_fraction is set=0.9, subsample=1.0 will be ignored. Current value: bagging_fraction=0.9\n",
      "Optimal lgbm: accuracy = 0.6514172418857395, f1 = 0.6086884840491303\n",
      "confusion matrix: [[0.76908227 0.23091773]\n",
      " [0.4636839  0.5363161 ]]\n"
     ]
    },
    {
     "data": {
      "text/plain": [
       "array([ 83,  63, 322,  31,  20,  97,  98,  18,  77, 113, 197, 168,  16,\n",
       "        94,  67, 139, 297], dtype=int32)"
      ]
     },
     "execution_count": 77,
     "metadata": {},
     "output_type": "execute_result"
    }
   ],
   "source": [
    "model_gbm = gbm.LGBMClassifier(boosting_type='gbdt', objective='binary', num_leaves=20,\n",
    "                                learning_rate=0.05, n_estimators=100, max_depth=11,\n",
    "                                bagging_fraction=0.9, feature_fraction=0.9, reg_lambda=0.2, n_jobs = -1)\n",
    "\n",
    "scores = cross_val_score(model_gbm, features_train, target_train, cv=5, scoring = 'f1')\n",
    "temp_score = sum(scores)/len(scores)\n",
    "model_gbm.fit(features_train, target_train)\n",
    "predicted_test = model_gbm.predict(features_test)\n",
    "accuracy = accuracy_score(target_test, predicted_test)\n",
    "f1 = f1_score(target_test, predicted_test)\n",
    "print(f'Optimal lgbm: accuracy = {accuracy}, f1 = {f1}')\n",
    "print('confusion matrix:', confusion_matrix(target_test, predicted_test, normalize = 'true'))\n",
    "model_gbm.feature_importances_"
   ]
  },
  {
   "cell_type": "markdown",
   "id": "ee350c51",
   "metadata": {},
   "source": [
    "Использование библиотеки XGBoost:"
   ]
  },
  {
   "cell_type": "code",
   "execution_count": 78,
   "id": "533473c7",
   "metadata": {},
   "outputs": [
    {
     "name": "stderr",
     "output_type": "stream",
     "text": [
      "/opt/conda/lib/python3.9/site-packages/xgboost/sklearn.py:1224: UserWarning: The use of label encoder in XGBClassifier is deprecated and will be removed in a future release. To remove this warning, do the following: 1) Pass option use_label_encoder=False when constructing XGBClassifier object; and 2) Encode your labels (y) as integers starting with 0, i.e. 0, 1, 2, ..., [num_class - 1].\n",
      "  warnings.warn(label_encoder_deprecation_msg, UserWarning)\n"
     ]
    },
    {
     "name": "stdout",
     "output_type": "stream",
     "text": [
      "[08:45:13] WARNING: ../src/learner.cc:1115: Starting in XGBoost 1.3.0, the default evaluation metric used with the objective 'binary:logistic' was changed from 'error' to 'logloss'. Explicitly set eval_metric if you'd like to restore the old behavior.\n"
     ]
    },
    {
     "name": "stderr",
     "output_type": "stream",
     "text": [
      "/opt/conda/lib/python3.9/site-packages/xgboost/sklearn.py:1224: UserWarning: The use of label encoder in XGBClassifier is deprecated and will be removed in a future release. To remove this warning, do the following: 1) Pass option use_label_encoder=False when constructing XGBClassifier object; and 2) Encode your labels (y) as integers starting with 0, i.e. 0, 1, 2, ..., [num_class - 1].\n",
      "  warnings.warn(label_encoder_deprecation_msg, UserWarning)\n"
     ]
    },
    {
     "name": "stdout",
     "output_type": "stream",
     "text": [
      "[08:45:28] WARNING: ../src/learner.cc:1115: Starting in XGBoost 1.3.0, the default evaluation metric used with the objective 'binary:logistic' was changed from 'error' to 'logloss'. Explicitly set eval_metric if you'd like to restore the old behavior.\n"
     ]
    },
    {
     "name": "stderr",
     "output_type": "stream",
     "text": [
      "/opt/conda/lib/python3.9/site-packages/xgboost/sklearn.py:1224: UserWarning: The use of label encoder in XGBClassifier is deprecated and will be removed in a future release. To remove this warning, do the following: 1) Pass option use_label_encoder=False when constructing XGBClassifier object; and 2) Encode your labels (y) as integers starting with 0, i.e. 0, 1, 2, ..., [num_class - 1].\n",
      "  warnings.warn(label_encoder_deprecation_msg, UserWarning)\n"
     ]
    },
    {
     "name": "stdout",
     "output_type": "stream",
     "text": [
      "[08:45:39] WARNING: ../src/learner.cc:1115: Starting in XGBoost 1.3.0, the default evaluation metric used with the objective 'binary:logistic' was changed from 'error' to 'logloss'. Explicitly set eval_metric if you'd like to restore the old behavior.\n"
     ]
    },
    {
     "name": "stderr",
     "output_type": "stream",
     "text": [
      "/opt/conda/lib/python3.9/site-packages/xgboost/sklearn.py:1224: UserWarning: The use of label encoder in XGBClassifier is deprecated and will be removed in a future release. To remove this warning, do the following: 1) Pass option use_label_encoder=False when constructing XGBClassifier object; and 2) Encode your labels (y) as integers starting with 0, i.e. 0, 1, 2, ..., [num_class - 1].\n",
      "  warnings.warn(label_encoder_deprecation_msg, UserWarning)\n"
     ]
    },
    {
     "name": "stdout",
     "output_type": "stream",
     "text": [
      "[08:45:50] WARNING: ../src/learner.cc:1115: Starting in XGBoost 1.3.0, the default evaluation metric used with the objective 'binary:logistic' was changed from 'error' to 'logloss'. Explicitly set eval_metric if you'd like to restore the old behavior.\n"
     ]
    },
    {
     "name": "stderr",
     "output_type": "stream",
     "text": [
      "/opt/conda/lib/python3.9/site-packages/xgboost/sklearn.py:1224: UserWarning: The use of label encoder in XGBClassifier is deprecated and will be removed in a future release. To remove this warning, do the following: 1) Pass option use_label_encoder=False when constructing XGBClassifier object; and 2) Encode your labels (y) as integers starting with 0, i.e. 0, 1, 2, ..., [num_class - 1].\n",
      "  warnings.warn(label_encoder_deprecation_msg, UserWarning)\n"
     ]
    },
    {
     "name": "stdout",
     "output_type": "stream",
     "text": [
      "[08:46:00] WARNING: ../src/learner.cc:1115: Starting in XGBoost 1.3.0, the default evaluation metric used with the objective 'binary:logistic' was changed from 'error' to 'logloss'. Explicitly set eval_metric if you'd like to restore the old behavior.\n"
     ]
    },
    {
     "name": "stderr",
     "output_type": "stream",
     "text": [
      "/opt/conda/lib/python3.9/site-packages/xgboost/sklearn.py:1224: UserWarning: The use of label encoder in XGBClassifier is deprecated and will be removed in a future release. To remove this warning, do the following: 1) Pass option use_label_encoder=False when constructing XGBClassifier object; and 2) Encode your labels (y) as integers starting with 0, i.e. 0, 1, 2, ..., [num_class - 1].\n",
      "  warnings.warn(label_encoder_deprecation_msg, UserWarning)\n"
     ]
    },
    {
     "name": "stdout",
     "output_type": "stream",
     "text": [
      "[08:46:11] WARNING: ../src/learner.cc:1115: Starting in XGBoost 1.3.0, the default evaluation metric used with the objective 'binary:logistic' was changed from 'error' to 'logloss'. Explicitly set eval_metric if you'd like to restore the old behavior.\n",
      "Optimal xgb: accuracy = 0.6344543985901013, f1 = 0.5987425439303563\n",
      "confusion matrix: [[0.73151173 0.26848827]\n",
      " [0.46048809 0.53951191]]\n"
     ]
    },
    {
     "data": {
      "text/plain": [
       "array([0.06900239, 0.02133423, 0.01948749, 0.        , 0.02002038,\n",
       "       0.02243201, 0.05844189, 0.01648889, 0.02196516, 0.04727299,\n",
       "       0.4139965 , 0.18305641, 0.01720102, 0.01636701, 0.01729125,\n",
       "       0.01812363, 0.03751871], dtype=float32)"
      ]
     },
     "execution_count": 78,
     "metadata": {},
     "output_type": "execute_result"
    }
   ],
   "source": [
    "xgb_cl = xgb.XGBClassifier()\n",
    "xgb_cl.fit(features_train, target_train)\n",
    "scores = cross_val_score(xgb_cl, features_train, target_train, cv=5, scoring = 'f1')\n",
    "temp_score = sum(scores)/len(scores)\n",
    "predicted_test = xgb_cl.predict(features_test)\n",
    "accuracy = accuracy_score(target_test, predicted_test)\n",
    "f1 = f1_score(target_test, predicted_test)\n",
    "print(f'Optimal xgb: accuracy = {accuracy}, f1 = {f1}')\n",
    "print('confusion matrix:', confusion_matrix(target_test, predicted_test, normalize = 'true'))\n",
    "xgb_cl.feature_importances_"
   ]
  },
  {
   "cell_type": "markdown",
   "id": "077dc372",
   "metadata": {},
   "source": [
    "Использование GridSearchCV на заданных значениях параметров (ВНИМАНИЕ! считает долго):"
   ]
  },
  {
   "cell_type": "code",
   "execution_count": 79,
   "id": "b2adcfbc",
   "metadata": {},
   "outputs": [],
   "source": [
    "model = gbm.LGBMClassifier()\n",
    "gridParams = {\n",
    "    'learning_rate': [0.05],\n",
    "    'n_estimators': [10,20,30,40,50,60,70,80,90,100],\n",
    "    'max_depth': [1,2,3,4,5,6,7,8,9,10,12,15,20],\n",
    "    'num_leaves': [10,20,30,40,50],\n",
    "    'boosting_type' : ['rf'],\n",
    "    'bagging_freq' : [1],\n",
    "    'bagging_fraction' : [.5]\n",
    "    }"
   ]
  },
  {
   "cell_type": "code",
   "execution_count": 80,
   "id": "3a18755a",
   "metadata": {},
   "outputs": [
    {
     "name": "stdout",
     "output_type": "stream",
     "text": [
      "Fitting 3 folds for each of 650 candidates, totalling 1950 fits\n",
      "[LightGBM] [Warning] bagging_freq is set=1, subsample_freq=0 will be ignored. Current value: bagging_freq=1\n",
      "[LightGBM] [Warning] bagging_fraction is set=0.5, subsample=1.0 will be ignored. Current value: bagging_fraction=0.5\n",
      "[LightGBM] [Warning] bagging_freq is set=1, subsample_freq=0 will be ignored. Current value: bagging_freq=1\n",
      "[LightGBM] [Warning] bagging_fraction is set=0.5, subsample=1.0 will be ignored. Current value: bagging_fraction=0.5\n",
      "[LightGBM] [Warning] bagging_freq is set=1, subsample_freq=0 will be ignored. Current value: bagging_freq=1\n",
      "[LightGBM] [Warning] bagging_fraction is set=0.5, subsample=1.0 will be ignored. Current value: bagging_fraction=0.5\n",
      "[LightGBM] [Warning] bagging_freq is set=1, subsample_freq=0 will be ignored. Current value: bagging_freq=1\n",
      "[LightGBM] [Warning] bagging_fraction is set=0.5, subsample=1.0 will be ignored. Current value: bagging_fraction=0.5\n",
      "[LightGBM] [Warning] bagging_freq is set=1, subsample_freq=0 will be ignored. Current value: bagging_freq=1\n",
      "[LightGBM] [Warning] bagging_fraction is set=0.5, subsample=1.0 will be ignored. Current value: bagging_fraction=0.5\n",
      "[LightGBM] [Warning] bagging_freq is set=1, subsample_freq=0 will be ignored. Current value: bagging_freq=1\n",
      "[LightGBM] [Warning] bagging_fraction is set=0.5, subsample=1.0 will be ignored. Current value: bagging_fraction=0.5\n",
      "[LightGBM] [Warning] bagging_freq is set=1, subsample_freq=0 will be ignored. Current value: bagging_freq=1\n",
      "[LightGBM] [Warning] bagging_fraction is set=0.5, subsample=1.0 will be ignored. Current value: bagging_fraction=0.5\n",
      "[LightGBM] [Warning] bagging_freq is set=1, subsample_freq=0 will be ignored. Current value: bagging_freq=1\n",
      "[LightGBM] [Warning] bagging_fraction is set=0.5, subsample=1.0 will be ignored. Current value: bagging_fraction=0.5\n",
      "[LightGBM] [Warning] bagging_freq is set=1, subsample_freq=0 will be ignored. Current value: bagging_freq=1\n",
      "[LightGBM] [Warning] bagging_fraction is set=0.5, subsample=1.0 will be ignored. Current value: bagging_fraction=0.5\n",
      "[LightGBM] [Warning] bagging_freq is set=1, subsample_freq=0 will be ignored. Current value: bagging_freq=1\n",
      "[LightGBM] [Warning] bagging_fraction is set=0.5, subsample=1.0 will be ignored. Current value: bagging_fraction=0.5\n",
      "[LightGBM] [Warning] bagging_freq is set=1, subsample_freq=0 will be ignored. Current value: bagging_freq=1\n",
      "[LightGBM] [Warning] bagging_fraction is set=0.5, subsample=1.0 will be ignored. Current value: bagging_fraction=0.5\n",
      "[LightGBM] [Warning] bagging_freq is set=1, subsample_freq=0 will be ignored. Current value: bagging_freq=1\n",
      "[LightGBM] [Warning] bagging_fraction is set=0.5, subsample=1.0 will be ignored. Current value: bagging_fraction=0.5\n",
      "[LightGBM] [Warning] bagging_freq is set=1, subsample_freq=0 will be ignored. Current value: bagging_freq=1\n",
      "[LightGBM] [Warning] bagging_fraction is set=0.5, subsample=1.0 will be ignored. Current value: bagging_fraction=0.5\n",
      "[LightGBM] [Warning] bagging_freq is set=1, subsample_freq=0 will be ignored. Current value: bagging_freq=1\n",
      "[LightGBM] [Warning] bagging_fraction is set=0.5, subsample=1.0 will be ignored. Current value: bagging_fraction=0.5\n",
      "[LightGBM] [Warning] bagging_freq is set=1, subsample_freq=0 will be ignored. Current value: bagging_freq=1\n",
      "[LightGBM] [Warning] bagging_fraction is set=0.5, subsample=1.0 will be ignored. Current value: bagging_fraction=0.5\n",
      "[LightGBM] [Warning] bagging_freq is set=1, subsample_freq=0 will be ignored. Current value: bagging_freq=1\n",
      "[LightGBM] [Warning] bagging_fraction is set=0.5, subsample=1.0 will be ignored. Current value: bagging_fraction=0.5\n",
      "[LightGBM] [Warning] bagging_freq is set=1, subsample_freq=0 will be ignored. Current value: bagging_freq=1\n",
      "[LightGBM] [Warning] bagging_fraction is set=0.5, subsample=1.0 will be ignored. Current value: bagging_fraction=0.5\n",
      "[LightGBM] [Warning] bagging_freq is set=1, subsample_freq=0 will be ignored. Current value: bagging_freq=1\n",
      "[LightGBM] [Warning] bagging_fraction is set=0.5, subsample=1.0 will be ignored. Current value: bagging_fraction=0.5\n",
      "[LightGBM] [Warning] bagging_freq is set=1, subsample_freq=0 will be ignored. Current value: bagging_freq=1\n",
      "[LightGBM] [Warning] bagging_fraction is set=0.5, subsample=1.0 will be ignored. Current value: bagging_fraction=0.5\n",
      "[LightGBM] [Warning] bagging_freq is set=1, subsample_freq=0 will be ignored. Current value: bagging_freq=1\n",
      "[LightGBM] [Warning] bagging_fraction is set=0.5, subsample=1.0 will be ignored. Current value: bagging_fraction=0.5\n",
      "[LightGBM] [Warning] bagging_freq is set=1, subsample_freq=0 will be ignored. Current value: bagging_freq=1\n",
      "[LightGBM] [Warning] bagging_fraction is set=0.5, subsample=1.0 will be ignored. Current value: bagging_fraction=0.5\n",
      "[LightGBM] [Warning] bagging_freq is set=1, subsample_freq=0 will be ignored. Current value: bagging_freq=1\n",
      "[LightGBM] [Warning] bagging_fraction is set=0.5, subsample=1.0 will be ignored. Current value: bagging_fraction=0.5\n",
      "[LightGBM] [Warning] bagging_freq is set=1, subsample_freq=0 will be ignored. Current value: bagging_freq=1\n",
      "[LightGBM] [Warning] bagging_fraction is set=0.5, subsample=1.0 will be ignored. Current value: bagging_fraction=0.5\n",
      "[LightGBM] [Warning] bagging_freq is set=1, subsample_freq=0 will be ignored. Current value: bagging_freq=1\n",
      "[LightGBM] [Warning] bagging_fraction is set=0.5, subsample=1.0 will be ignored. Current value: bagging_fraction=0.5\n",
      "[LightGBM] [Warning] bagging_freq is set=1, subsample_freq=0 will be ignored. Current value: bagging_freq=1\n",
      "[LightGBM] [Warning] bagging_fraction is set=0.5, subsample=1.0 will be ignored. Current value: bagging_fraction=0.5\n",
      "[LightGBM] [Warning] bagging_freq is set=1, subsample_freq=0 will be ignored. Current value: bagging_freq=1\n",
      "[LightGBM] [Warning] bagging_fraction is set=0.5, subsample=1.0 will be ignored. Current value: bagging_fraction=0.5\n",
      "[LightGBM] [Warning] bagging_freq is set=1, subsample_freq=0 will be ignored. Current value: bagging_freq=1\n",
      "[LightGBM] [Warning] bagging_fraction is set=0.5, subsample=1.0 will be ignored. Current value: bagging_fraction=0.5\n",
      "[LightGBM] [Warning] bagging_freq is set=1, subsample_freq=0 will be ignored. Current value: bagging_freq=1\n",
      "[LightGBM] [Warning] bagging_fraction is set=0.5, subsample=1.0 will be ignored. Current value: bagging_fraction=0.5\n",
      "[LightGBM] [Warning] bagging_freq is set=1, subsample_freq=0 will be ignored. Current value: bagging_freq=1\n",
      "[LightGBM] [Warning] bagging_fraction is set=0.5, subsample=1.0 will be ignored. Current value: bagging_fraction=0.5\n",
      "[LightGBM] [Warning] bagging_freq is set=1, subsample_freq=0 will be ignored. Current value: bagging_freq=1\n",
      "[LightGBM] [Warning] bagging_fraction is set=0.5, subsample=1.0 will be ignored. Current value: bagging_fraction=0.5\n",
      "[LightGBM] [Warning] bagging_freq is set=1, subsample_freq=0 will be ignored. Current value: bagging_freq=1\n",
      "[LightGBM] [Warning] bagging_fraction is set=0.5, subsample=1.0 will be ignored. Current value: bagging_fraction=0.5\n",
      "[LightGBM] [Warning] bagging_freq is set=1, subsample_freq=0 will be ignored. Current value: bagging_freq=1\n",
      "[LightGBM] [Warning] bagging_fraction is set=0.5, subsample=1.0 will be ignored. Current value: bagging_fraction=0.5\n",
      "[LightGBM] [Warning] bagging_freq is set=1, subsample_freq=0 will be ignored. Current value: bagging_freq=1\n",
      "[LightGBM] [Warning] bagging_fraction is set=0.5, subsample=1.0 will be ignored. Current value: bagging_fraction=0.5\n",
      "[LightGBM] [Warning] bagging_freq is set=1, subsample_freq=0 will be ignored. Current value: bagging_freq=1\n",
      "[LightGBM] [Warning] bagging_fraction is set=0.5, subsample=1.0 will be ignored. Current value: bagging_fraction=0.5\n",
      "[LightGBM] [Warning] bagging_freq is set=1, subsample_freq=0 will be ignored. Current value: bagging_freq=1\n",
      "[LightGBM] [Warning] bagging_fraction is set=0.5, subsample=1.0 will be ignored. Current value: bagging_fraction=0.5\n",
      "[LightGBM] [Warning] bagging_freq is set=1, subsample_freq=0 will be ignored. Current value: bagging_freq=1\n",
      "[LightGBM] [Warning] bagging_fraction is set=0.5, subsample=1.0 will be ignored. Current value: bagging_fraction=0.5\n",
      "[LightGBM] [Warning] bagging_freq is set=1, subsample_freq=0 will be ignored. Current value: bagging_freq=1\n",
      "[LightGBM] [Warning] bagging_fraction is set=0.5, subsample=1.0 will be ignored. Current value: bagging_fraction=0.5\n"
     ]
    },
    {
     "name": "stdout",
     "output_type": "stream",
     "text": [
      "[LightGBM] [Warning] bagging_freq is set=1, subsample_freq=0 will be ignored. Current value: bagging_freq=1\n",
      "[LightGBM] [Warning] bagging_fraction is set=0.5, subsample=1.0 will be ignored. Current value: bagging_fraction=0.5\n",
      "[LightGBM] [Warning] bagging_freq is set=1, subsample_freq=0 will be ignored. Current value: bagging_freq=1\n",
      "[LightGBM] [Warning] bagging_fraction is set=0.5, subsample=1.0 will be ignored. Current value: bagging_fraction=0.5\n",
      "[LightGBM] [Warning] bagging_freq is set=1, subsample_freq=0 will be ignored. Current value: bagging_freq=1\n",
      "[LightGBM] [Warning] bagging_fraction is set=0.5, subsample=1.0 will be ignored. Current value: bagging_fraction=0.5\n",
      "[LightGBM] [Warning] bagging_freq is set=1, subsample_freq=0 will be ignored. Current value: bagging_freq=1\n",
      "[LightGBM] [Warning] bagging_fraction is set=0.5, subsample=1.0 will be ignored. Current value: bagging_fraction=0.5\n",
      "[LightGBM] [Warning] bagging_freq is set=1, subsample_freq=0 will be ignored. Current value: bagging_freq=1\n",
      "[LightGBM] [Warning] bagging_fraction is set=0.5, subsample=1.0 will be ignored. Current value: bagging_fraction=0.5\n",
      "[LightGBM] [Warning] bagging_freq is set=1, subsample_freq=0 will be ignored. Current value: bagging_freq=1\n",
      "[LightGBM] [Warning] bagging_fraction is set=0.5, subsample=1.0 will be ignored. Current value: bagging_fraction=0.5\n",
      "[LightGBM] [Warning] bagging_freq is set=1, subsample_freq=0 will be ignored. Current value: bagging_freq=1\n",
      "[LightGBM] [Warning] bagging_fraction is set=0.5, subsample=1.0 will be ignored. Current value: bagging_fraction=0.5\n",
      "[LightGBM] [Warning] bagging_freq is set=1, subsample_freq=0 will be ignored. Current value: bagging_freq=1\n",
      "[LightGBM] [Warning] bagging_fraction is set=0.5, subsample=1.0 will be ignored. Current value: bagging_fraction=0.5\n",
      "[LightGBM] [Warning] bagging_freq is set=1, subsample_freq=0 will be ignored. Current value: bagging_freq=1\n",
      "[LightGBM] [Warning] bagging_fraction is set=0.5, subsample=1.0 will be ignored. Current value: bagging_fraction=0.5\n",
      "[LightGBM] [Warning] bagging_freq is set=1, subsample_freq=0 will be ignored. Current value: bagging_freq=1\n",
      "[LightGBM] [Warning] bagging_fraction is set=0.5, subsample=1.0 will be ignored. Current value: bagging_fraction=0.5\n",
      "[LightGBM] [Warning] bagging_freq is set=1, subsample_freq=0 will be ignored. Current value: bagging_freq=1\n",
      "[LightGBM] [Warning] bagging_fraction is set=0.5, subsample=1.0 will be ignored. Current value: bagging_fraction=0.5\n",
      "[LightGBM] [Warning] bagging_freq is set=1, subsample_freq=0 will be ignored. Current value: bagging_freq=1\n",
      "[LightGBM] [Warning] bagging_fraction is set=0.5, subsample=1.0 will be ignored. Current value: bagging_fraction=0.5\n",
      "[LightGBM] [Warning] bagging_freq is set=1, subsample_freq=0 will be ignored. Current value: bagging_freq=1\n",
      "[LightGBM] [Warning] bagging_fraction is set=0.5, subsample=1.0 will be ignored. Current value: bagging_fraction=0.5\n",
      "[LightGBM] [Warning] bagging_freq is set=1, subsample_freq=0 will be ignored. Current value: bagging_freq=1\n",
      "[LightGBM] [Warning] bagging_fraction is set=0.5, subsample=1.0 will be ignored. Current value: bagging_fraction=0.5\n",
      "[LightGBM] [Warning] bagging_freq is set=1, subsample_freq=0 will be ignored. Current value: bagging_freq=1\n",
      "[LightGBM] [Warning] bagging_fraction is set=0.5, subsample=1.0 will be ignored. Current value: bagging_fraction=0.5\n",
      "[LightGBM] [Warning] bagging_freq is set=1, subsample_freq=0 will be ignored. Current value: bagging_freq=1\n",
      "[LightGBM] [Warning] bagging_fraction is set=0.5, subsample=1.0 will be ignored. Current value: bagging_fraction=0.5\n",
      "[LightGBM] [Warning] bagging_freq is set=1, subsample_freq=0 will be ignored. Current value: bagging_freq=1\n",
      "[LightGBM] [Warning] bagging_fraction is set=0.5, subsample=1.0 will be ignored. Current value: bagging_fraction=0.5\n",
      "[LightGBM] [Warning] bagging_freq is set=1, subsample_freq=0 will be ignored. Current value: bagging_freq=1\n",
      "[LightGBM] [Warning] bagging_fraction is set=0.5, subsample=1.0 will be ignored. Current value: bagging_fraction=0.5\n",
      "[LightGBM] [Warning] bagging_freq is set=1, subsample_freq=0 will be ignored. Current value: bagging_freq=1\n",
      "[LightGBM] [Warning] bagging_fraction is set=0.5, subsample=1.0 will be ignored. Current value: bagging_fraction=0.5\n",
      "[LightGBM] [Warning] bagging_freq is set=1, subsample_freq=0 will be ignored. Current value: bagging_freq=1\n",
      "[LightGBM] [Warning] bagging_fraction is set=0.5, subsample=1.0 will be ignored. Current value: bagging_fraction=0.5\n",
      "[LightGBM] [Warning] bagging_freq is set=1, subsample_freq=0 will be ignored. Current value: bagging_freq=1\n",
      "[LightGBM] [Warning] bagging_fraction is set=0.5, subsample=1.0 will be ignored. Current value: bagging_fraction=0.5\n",
      "[LightGBM] [Warning] bagging_freq is set=1, subsample_freq=0 will be ignored. Current value: bagging_freq=1\n",
      "[LightGBM] [Warning] bagging_fraction is set=0.5, subsample=1.0 will be ignored. Current value: bagging_fraction=0.5\n",
      "[LightGBM] [Warning] bagging_freq is set=1, subsample_freq=0 will be ignored. Current value: bagging_freq=1\n",
      "[LightGBM] [Warning] bagging_fraction is set=0.5, subsample=1.0 will be ignored. Current value: bagging_fraction=0.5\n",
      "[LightGBM] [Warning] bagging_freq is set=1, subsample_freq=0 will be ignored. Current value: bagging_freq=1\n",
      "[LightGBM] [Warning] bagging_fraction is set=0.5, subsample=1.0 will be ignored. Current value: bagging_fraction=0.5\n",
      "[LightGBM] [Warning] bagging_freq is set=1, subsample_freq=0 will be ignored. Current value: bagging_freq=1\n",
      "[LightGBM] [Warning] bagging_fraction is set=0.5, subsample=1.0 will be ignored. Current value: bagging_fraction=0.5\n",
      "[LightGBM] [Warning] bagging_freq is set=1, subsample_freq=0 will be ignored. Current value: bagging_freq=1\n",
      "[LightGBM] [Warning] bagging_fraction is set=0.5, subsample=1.0 will be ignored. Current value: bagging_fraction=0.5\n",
      "[LightGBM] [Warning] bagging_freq is set=1, subsample_freq=0 will be ignored. Current value: bagging_freq=1\n",
      "[LightGBM] [Warning] bagging_fraction is set=0.5, subsample=1.0 will be ignored. Current value: bagging_fraction=0.5\n",
      "[LightGBM] [Warning] bagging_freq is set=1, subsample_freq=0 will be ignored. Current value: bagging_freq=1\n",
      "[LightGBM] [Warning] bagging_fraction is set=0.5, subsample=1.0 will be ignored. Current value: bagging_fraction=0.5\n",
      "[LightGBM] [Warning] bagging_freq is set=1, subsample_freq=0 will be ignored. Current value: bagging_freq=1\n",
      "[LightGBM] [Warning] bagging_fraction is set=0.5, subsample=1.0 will be ignored. Current value: bagging_fraction=0.5\n",
      "[LightGBM] [Warning] bagging_freq is set=1, subsample_freq=0 will be ignored. Current value: bagging_freq=1\n",
      "[LightGBM] [Warning] bagging_fraction is set=0.5, subsample=1.0 will be ignored. Current value: bagging_fraction=0.5\n",
      "[LightGBM] [Warning] bagging_freq is set=1, subsample_freq=0 will be ignored. Current value: bagging_freq=1\n",
      "[LightGBM] [Warning] bagging_fraction is set=0.5, subsample=1.0 will be ignored. Current value: bagging_fraction=0.5\n",
      "[LightGBM] [Warning] bagging_freq is set=1, subsample_freq=0 will be ignored. Current value: bagging_freq=1\n",
      "[LightGBM] [Warning] bagging_fraction is set=0.5, subsample=1.0 will be ignored. Current value: bagging_fraction=0.5\n",
      "[LightGBM] [Warning] bagging_freq is set=1, subsample_freq=0 will be ignored. Current value: bagging_freq=1\n",
      "[LightGBM] [Warning] bagging_fraction is set=0.5, subsample=1.0 will be ignored. Current value: bagging_fraction=0.5\n",
      "[LightGBM] [Warning] bagging_freq is set=1, subsample_freq=0 will be ignored. Current value: bagging_freq=1\n",
      "[LightGBM] [Warning] bagging_fraction is set=0.5, subsample=1.0 will be ignored. Current value: bagging_fraction=0.5\n",
      "[LightGBM] [Warning] bagging_freq is set=1, subsample_freq=0 will be ignored. Current value: bagging_freq=1\n",
      "[LightGBM] [Warning] bagging_fraction is set=0.5, subsample=1.0 will be ignored. Current value: bagging_fraction=0.5\n",
      "[LightGBM] [Warning] bagging_freq is set=1, subsample_freq=0 will be ignored. Current value: bagging_freq=1\n",
      "[LightGBM] [Warning] bagging_fraction is set=0.5, subsample=1.0 will be ignored. Current value: bagging_fraction=0.5\n",
      "[LightGBM] [Warning] bagging_freq is set=1, subsample_freq=0 will be ignored. Current value: bagging_freq=1\n",
      "[LightGBM] [Warning] bagging_fraction is set=0.5, subsample=1.0 will be ignored. Current value: bagging_fraction=0.5\n"
     ]
    },
    {
     "name": "stdout",
     "output_type": "stream",
     "text": [
      "[LightGBM] [Warning] bagging_freq is set=1, subsample_freq=0 will be ignored. Current value: bagging_freq=1\n",
      "[LightGBM] [Warning] bagging_fraction is set=0.5, subsample=1.0 will be ignored. Current value: bagging_fraction=0.5\n",
      "[LightGBM] [Warning] bagging_freq is set=1, subsample_freq=0 will be ignored. Current value: bagging_freq=1\n",
      "[LightGBM] [Warning] bagging_fraction is set=0.5, subsample=1.0 will be ignored. Current value: bagging_fraction=0.5\n",
      "[LightGBM] [Warning] bagging_freq is set=1, subsample_freq=0 will be ignored. Current value: bagging_freq=1\n",
      "[LightGBM] [Warning] bagging_fraction is set=0.5, subsample=1.0 will be ignored. Current value: bagging_fraction=0.5\n",
      "[LightGBM] [Warning] bagging_freq is set=1, subsample_freq=0 will be ignored. Current value: bagging_freq=1\n",
      "[LightGBM] [Warning] bagging_fraction is set=0.5, subsample=1.0 will be ignored. Current value: bagging_fraction=0.5\n",
      "[LightGBM] [Warning] bagging_freq is set=1, subsample_freq=0 will be ignored. Current value: bagging_freq=1\n",
      "[LightGBM] [Warning] bagging_fraction is set=0.5, subsample=1.0 will be ignored. Current value: bagging_fraction=0.5\n",
      "[LightGBM] [Warning] bagging_freq is set=1, subsample_freq=0 will be ignored. Current value: bagging_freq=1\n",
      "[LightGBM] [Warning] bagging_fraction is set=0.5, subsample=1.0 will be ignored. Current value: bagging_fraction=0.5\n",
      "[LightGBM] [Warning] bagging_freq is set=1, subsample_freq=0 will be ignored. Current value: bagging_freq=1\n",
      "[LightGBM] [Warning] bagging_fraction is set=0.5, subsample=1.0 will be ignored. Current value: bagging_fraction=0.5\n",
      "[LightGBM] [Warning] bagging_freq is set=1, subsample_freq=0 will be ignored. Current value: bagging_freq=1\n",
      "[LightGBM] [Warning] bagging_fraction is set=0.5, subsample=1.0 will be ignored. Current value: bagging_fraction=0.5\n",
      "[LightGBM] [Warning] bagging_freq is set=1, subsample_freq=0 will be ignored. Current value: bagging_freq=1\n",
      "[LightGBM] [Warning] bagging_fraction is set=0.5, subsample=1.0 will be ignored. Current value: bagging_fraction=0.5\n",
      "[LightGBM] [Warning] bagging_freq is set=1, subsample_freq=0 will be ignored. Current value: bagging_freq=1\n",
      "[LightGBM] [Warning] bagging_fraction is set=0.5, subsample=1.0 will be ignored. Current value: bagging_fraction=0.5\n",
      "[LightGBM] [Warning] bagging_freq is set=1, subsample_freq=0 will be ignored. Current value: bagging_freq=1\n",
      "[LightGBM] [Warning] bagging_fraction is set=0.5, subsample=1.0 will be ignored. Current value: bagging_fraction=0.5\n"
     ]
    },
    {
     "ename": "KeyboardInterrupt",
     "evalue": "",
     "output_type": "error",
     "traceback": [
      "\u001b[0;31m---------------------------------------------------------------------------\u001b[0m",
      "\u001b[0;31mKeyboardInterrupt\u001b[0m                         Traceback (most recent call last)",
      "\u001b[0;32m/tmp/ipykernel_71/1167612448.py\u001b[0m in \u001b[0;36m<module>\u001b[0;34m\u001b[0m\n\u001b[1;32m      1\u001b[0m \u001b[0mgrid\u001b[0m \u001b[0;34m=\u001b[0m \u001b[0mGridSearchCV\u001b[0m\u001b[0;34m(\u001b[0m\u001b[0mmodel\u001b[0m\u001b[0;34m,\u001b[0m \u001b[0mgridParams\u001b[0m\u001b[0;34m,\u001b[0m \u001b[0mverbose\u001b[0m\u001b[0;34m=\u001b[0m\u001b[0;36m1\u001b[0m\u001b[0;34m,\u001b[0m \u001b[0mcv\u001b[0m\u001b[0;34m=\u001b[0m\u001b[0;36m3\u001b[0m\u001b[0;34m,\u001b[0m \u001b[0mn_jobs\u001b[0m\u001b[0;34m=\u001b[0m\u001b[0;34m-\u001b[0m\u001b[0;36m1\u001b[0m\u001b[0;34m)\u001b[0m\u001b[0;34m\u001b[0m\u001b[0;34m\u001b[0m\u001b[0m\n\u001b[0;32m----> 2\u001b[0;31m \u001b[0mgrid\u001b[0m\u001b[0;34m.\u001b[0m\u001b[0mfit\u001b[0m\u001b[0;34m(\u001b[0m\u001b[0mfeatures_train\u001b[0m\u001b[0;34m,\u001b[0m \u001b[0mtarget_train\u001b[0m\u001b[0;34m)\u001b[0m\u001b[0;34m\u001b[0m\u001b[0;34m\u001b[0m\u001b[0m\n\u001b[0m\u001b[1;32m      3\u001b[0m \u001b[0mprint\u001b[0m\u001b[0;34m(\u001b[0m\u001b[0mgrid\u001b[0m\u001b[0;34m.\u001b[0m\u001b[0mbest_params_\u001b[0m\u001b[0;34m)\u001b[0m\u001b[0;34m\u001b[0m\u001b[0;34m\u001b[0m\u001b[0m\n\u001b[1;32m      4\u001b[0m \u001b[0mprint\u001b[0m\u001b[0;34m(\u001b[0m\u001b[0mgrid\u001b[0m\u001b[0;34m.\u001b[0m\u001b[0mbest_score_\u001b[0m\u001b[0;34m)\u001b[0m\u001b[0;34m\u001b[0m\u001b[0;34m\u001b[0m\u001b[0m\n\u001b[1;32m      5\u001b[0m \u001b[0mpredicted_test\u001b[0m \u001b[0;34m=\u001b[0m \u001b[0mgrid\u001b[0m\u001b[0;34m.\u001b[0m\u001b[0mpredict\u001b[0m\u001b[0;34m(\u001b[0m\u001b[0mfeatures_test\u001b[0m\u001b[0;34m)\u001b[0m\u001b[0;34m\u001b[0m\u001b[0;34m\u001b[0m\u001b[0m\n",
      "\u001b[0;32m/opt/conda/lib/python3.9/site-packages/sklearn/utils/validation.py\u001b[0m in \u001b[0;36minner_f\u001b[0;34m(*args, **kwargs)\u001b[0m\n\u001b[1;32m     61\u001b[0m             \u001b[0mextra_args\u001b[0m \u001b[0;34m=\u001b[0m \u001b[0mlen\u001b[0m\u001b[0;34m(\u001b[0m\u001b[0margs\u001b[0m\u001b[0;34m)\u001b[0m \u001b[0;34m-\u001b[0m \u001b[0mlen\u001b[0m\u001b[0;34m(\u001b[0m\u001b[0mall_args\u001b[0m\u001b[0;34m)\u001b[0m\u001b[0;34m\u001b[0m\u001b[0;34m\u001b[0m\u001b[0m\n\u001b[1;32m     62\u001b[0m             \u001b[0;32mif\u001b[0m \u001b[0mextra_args\u001b[0m \u001b[0;34m<=\u001b[0m \u001b[0;36m0\u001b[0m\u001b[0;34m:\u001b[0m\u001b[0;34m\u001b[0m\u001b[0;34m\u001b[0m\u001b[0m\n\u001b[0;32m---> 63\u001b[0;31m                 \u001b[0;32mreturn\u001b[0m \u001b[0mf\u001b[0m\u001b[0;34m(\u001b[0m\u001b[0;34m*\u001b[0m\u001b[0margs\u001b[0m\u001b[0;34m,\u001b[0m \u001b[0;34m**\u001b[0m\u001b[0mkwargs\u001b[0m\u001b[0;34m)\u001b[0m\u001b[0;34m\u001b[0m\u001b[0;34m\u001b[0m\u001b[0m\n\u001b[0m\u001b[1;32m     64\u001b[0m \u001b[0;34m\u001b[0m\u001b[0m\n\u001b[1;32m     65\u001b[0m             \u001b[0;31m# extra_args > 0\u001b[0m\u001b[0;34m\u001b[0m\u001b[0;34m\u001b[0m\u001b[0;34m\u001b[0m\u001b[0m\n",
      "\u001b[0;32m/opt/conda/lib/python3.9/site-packages/sklearn/model_selection/_search.py\u001b[0m in \u001b[0;36mfit\u001b[0;34m(self, X, y, groups, **fit_params)\u001b[0m\n\u001b[1;32m    839\u001b[0m                 \u001b[0;32mreturn\u001b[0m \u001b[0mresults\u001b[0m\u001b[0;34m\u001b[0m\u001b[0;34m\u001b[0m\u001b[0m\n\u001b[1;32m    840\u001b[0m \u001b[0;34m\u001b[0m\u001b[0m\n\u001b[0;32m--> 841\u001b[0;31m             \u001b[0mself\u001b[0m\u001b[0;34m.\u001b[0m\u001b[0m_run_search\u001b[0m\u001b[0;34m(\u001b[0m\u001b[0mevaluate_candidates\u001b[0m\u001b[0;34m)\u001b[0m\u001b[0;34m\u001b[0m\u001b[0;34m\u001b[0m\u001b[0m\n\u001b[0m\u001b[1;32m    842\u001b[0m \u001b[0;34m\u001b[0m\u001b[0m\n\u001b[1;32m    843\u001b[0m             \u001b[0;31m# multimetric is determined here because in the case of a callable\u001b[0m\u001b[0;34m\u001b[0m\u001b[0;34m\u001b[0m\u001b[0;34m\u001b[0m\u001b[0m\n",
      "\u001b[0;32m/opt/conda/lib/python3.9/site-packages/sklearn/model_selection/_search.py\u001b[0m in \u001b[0;36m_run_search\u001b[0;34m(self, evaluate_candidates)\u001b[0m\n\u001b[1;32m   1286\u001b[0m     \u001b[0;32mdef\u001b[0m \u001b[0m_run_search\u001b[0m\u001b[0;34m(\u001b[0m\u001b[0mself\u001b[0m\u001b[0;34m,\u001b[0m \u001b[0mevaluate_candidates\u001b[0m\u001b[0;34m)\u001b[0m\u001b[0;34m:\u001b[0m\u001b[0;34m\u001b[0m\u001b[0;34m\u001b[0m\u001b[0m\n\u001b[1;32m   1287\u001b[0m         \u001b[0;34m\"\"\"Search all candidates in param_grid\"\"\"\u001b[0m\u001b[0;34m\u001b[0m\u001b[0;34m\u001b[0m\u001b[0m\n\u001b[0;32m-> 1288\u001b[0;31m         \u001b[0mevaluate_candidates\u001b[0m\u001b[0;34m(\u001b[0m\u001b[0mParameterGrid\u001b[0m\u001b[0;34m(\u001b[0m\u001b[0mself\u001b[0m\u001b[0;34m.\u001b[0m\u001b[0mparam_grid\u001b[0m\u001b[0;34m)\u001b[0m\u001b[0;34m)\u001b[0m\u001b[0;34m\u001b[0m\u001b[0;34m\u001b[0m\u001b[0m\n\u001b[0m\u001b[1;32m   1289\u001b[0m \u001b[0;34m\u001b[0m\u001b[0m\n\u001b[1;32m   1290\u001b[0m \u001b[0;34m\u001b[0m\u001b[0m\n",
      "\u001b[0;32m/opt/conda/lib/python3.9/site-packages/sklearn/model_selection/_search.py\u001b[0m in \u001b[0;36mevaluate_candidates\u001b[0;34m(candidate_params, cv, more_results)\u001b[0m\n\u001b[1;32m    793\u001b[0m                               n_splits, n_candidates, n_candidates * n_splits))\n\u001b[1;32m    794\u001b[0m \u001b[0;34m\u001b[0m\u001b[0m\n\u001b[0;32m--> 795\u001b[0;31m                 out = parallel(delayed(_fit_and_score)(clone(base_estimator),\n\u001b[0m\u001b[1;32m    796\u001b[0m                                                        \u001b[0mX\u001b[0m\u001b[0;34m,\u001b[0m \u001b[0my\u001b[0m\u001b[0;34m,\u001b[0m\u001b[0;34m\u001b[0m\u001b[0;34m\u001b[0m\u001b[0m\n\u001b[1;32m    797\u001b[0m                                                        \u001b[0mtrain\u001b[0m\u001b[0;34m=\u001b[0m\u001b[0mtrain\u001b[0m\u001b[0;34m,\u001b[0m \u001b[0mtest\u001b[0m\u001b[0;34m=\u001b[0m\u001b[0mtest\u001b[0m\u001b[0;34m,\u001b[0m\u001b[0;34m\u001b[0m\u001b[0;34m\u001b[0m\u001b[0m\n",
      "\u001b[0;32m/opt/conda/lib/python3.9/site-packages/joblib/parallel.py\u001b[0m in \u001b[0;36m__call__\u001b[0;34m(self, iterable)\u001b[0m\n\u001b[1;32m   1044\u001b[0m                 \u001b[0mself\u001b[0m\u001b[0;34m.\u001b[0m\u001b[0m_iterating\u001b[0m \u001b[0;34m=\u001b[0m \u001b[0mself\u001b[0m\u001b[0;34m.\u001b[0m\u001b[0m_original_iterator\u001b[0m \u001b[0;32mis\u001b[0m \u001b[0;32mnot\u001b[0m \u001b[0;32mNone\u001b[0m\u001b[0;34m\u001b[0m\u001b[0;34m\u001b[0m\u001b[0m\n\u001b[1;32m   1045\u001b[0m \u001b[0;34m\u001b[0m\u001b[0m\n\u001b[0;32m-> 1046\u001b[0;31m             \u001b[0;32mwhile\u001b[0m \u001b[0mself\u001b[0m\u001b[0;34m.\u001b[0m\u001b[0mdispatch_one_batch\u001b[0m\u001b[0;34m(\u001b[0m\u001b[0miterator\u001b[0m\u001b[0;34m)\u001b[0m\u001b[0;34m:\u001b[0m\u001b[0;34m\u001b[0m\u001b[0;34m\u001b[0m\u001b[0m\n\u001b[0m\u001b[1;32m   1047\u001b[0m                 \u001b[0;32mpass\u001b[0m\u001b[0;34m\u001b[0m\u001b[0;34m\u001b[0m\u001b[0m\n\u001b[1;32m   1048\u001b[0m \u001b[0;34m\u001b[0m\u001b[0m\n",
      "\u001b[0;32m/opt/conda/lib/python3.9/site-packages/joblib/parallel.py\u001b[0m in \u001b[0;36mdispatch_one_batch\u001b[0;34m(self, iterator)\u001b[0m\n\u001b[1;32m    859\u001b[0m                 \u001b[0;32mreturn\u001b[0m \u001b[0;32mFalse\u001b[0m\u001b[0;34m\u001b[0m\u001b[0;34m\u001b[0m\u001b[0m\n\u001b[1;32m    860\u001b[0m             \u001b[0;32melse\u001b[0m\u001b[0;34m:\u001b[0m\u001b[0;34m\u001b[0m\u001b[0;34m\u001b[0m\u001b[0m\n\u001b[0;32m--> 861\u001b[0;31m                 \u001b[0mself\u001b[0m\u001b[0;34m.\u001b[0m\u001b[0m_dispatch\u001b[0m\u001b[0;34m(\u001b[0m\u001b[0mtasks\u001b[0m\u001b[0;34m)\u001b[0m\u001b[0;34m\u001b[0m\u001b[0;34m\u001b[0m\u001b[0m\n\u001b[0m\u001b[1;32m    862\u001b[0m                 \u001b[0;32mreturn\u001b[0m \u001b[0;32mTrue\u001b[0m\u001b[0;34m\u001b[0m\u001b[0;34m\u001b[0m\u001b[0m\n\u001b[1;32m    863\u001b[0m \u001b[0;34m\u001b[0m\u001b[0m\n",
      "\u001b[0;32m/opt/conda/lib/python3.9/site-packages/joblib/parallel.py\u001b[0m in \u001b[0;36m_dispatch\u001b[0;34m(self, batch)\u001b[0m\n\u001b[1;32m    777\u001b[0m         \u001b[0;32mwith\u001b[0m \u001b[0mself\u001b[0m\u001b[0;34m.\u001b[0m\u001b[0m_lock\u001b[0m\u001b[0;34m:\u001b[0m\u001b[0;34m\u001b[0m\u001b[0;34m\u001b[0m\u001b[0m\n\u001b[1;32m    778\u001b[0m             \u001b[0mjob_idx\u001b[0m \u001b[0;34m=\u001b[0m \u001b[0mlen\u001b[0m\u001b[0;34m(\u001b[0m\u001b[0mself\u001b[0m\u001b[0;34m.\u001b[0m\u001b[0m_jobs\u001b[0m\u001b[0;34m)\u001b[0m\u001b[0;34m\u001b[0m\u001b[0;34m\u001b[0m\u001b[0m\n\u001b[0;32m--> 779\u001b[0;31m             \u001b[0mjob\u001b[0m \u001b[0;34m=\u001b[0m \u001b[0mself\u001b[0m\u001b[0;34m.\u001b[0m\u001b[0m_backend\u001b[0m\u001b[0;34m.\u001b[0m\u001b[0mapply_async\u001b[0m\u001b[0;34m(\u001b[0m\u001b[0mbatch\u001b[0m\u001b[0;34m,\u001b[0m \u001b[0mcallback\u001b[0m\u001b[0;34m=\u001b[0m\u001b[0mcb\u001b[0m\u001b[0;34m)\u001b[0m\u001b[0;34m\u001b[0m\u001b[0;34m\u001b[0m\u001b[0m\n\u001b[0m\u001b[1;32m    780\u001b[0m             \u001b[0;31m# A job can complete so quickly than its callback is\u001b[0m\u001b[0;34m\u001b[0m\u001b[0;34m\u001b[0m\u001b[0;34m\u001b[0m\u001b[0m\n\u001b[1;32m    781\u001b[0m             \u001b[0;31m# called before we get here, causing self._jobs to\u001b[0m\u001b[0;34m\u001b[0m\u001b[0;34m\u001b[0m\u001b[0;34m\u001b[0m\u001b[0m\n",
      "\u001b[0;32m/opt/conda/lib/python3.9/site-packages/joblib/_parallel_backends.py\u001b[0m in \u001b[0;36mapply_async\u001b[0;34m(self, func, callback)\u001b[0m\n\u001b[1;32m    206\u001b[0m     \u001b[0;32mdef\u001b[0m \u001b[0mapply_async\u001b[0m\u001b[0;34m(\u001b[0m\u001b[0mself\u001b[0m\u001b[0;34m,\u001b[0m \u001b[0mfunc\u001b[0m\u001b[0;34m,\u001b[0m \u001b[0mcallback\u001b[0m\u001b[0;34m=\u001b[0m\u001b[0;32mNone\u001b[0m\u001b[0;34m)\u001b[0m\u001b[0;34m:\u001b[0m\u001b[0;34m\u001b[0m\u001b[0;34m\u001b[0m\u001b[0m\n\u001b[1;32m    207\u001b[0m         \u001b[0;34m\"\"\"Schedule a func to be run\"\"\"\u001b[0m\u001b[0;34m\u001b[0m\u001b[0;34m\u001b[0m\u001b[0m\n\u001b[0;32m--> 208\u001b[0;31m         \u001b[0mresult\u001b[0m \u001b[0;34m=\u001b[0m \u001b[0mImmediateResult\u001b[0m\u001b[0;34m(\u001b[0m\u001b[0mfunc\u001b[0m\u001b[0;34m)\u001b[0m\u001b[0;34m\u001b[0m\u001b[0;34m\u001b[0m\u001b[0m\n\u001b[0m\u001b[1;32m    209\u001b[0m         \u001b[0;32mif\u001b[0m \u001b[0mcallback\u001b[0m\u001b[0;34m:\u001b[0m\u001b[0;34m\u001b[0m\u001b[0;34m\u001b[0m\u001b[0m\n\u001b[1;32m    210\u001b[0m             \u001b[0mcallback\u001b[0m\u001b[0;34m(\u001b[0m\u001b[0mresult\u001b[0m\u001b[0;34m)\u001b[0m\u001b[0;34m\u001b[0m\u001b[0;34m\u001b[0m\u001b[0m\n",
      "\u001b[0;32m/opt/conda/lib/python3.9/site-packages/joblib/_parallel_backends.py\u001b[0m in \u001b[0;36m__init__\u001b[0;34m(self, batch)\u001b[0m\n\u001b[1;32m    570\u001b[0m         \u001b[0;31m# Don't delay the application, to avoid keeping the input\u001b[0m\u001b[0;34m\u001b[0m\u001b[0;34m\u001b[0m\u001b[0;34m\u001b[0m\u001b[0m\n\u001b[1;32m    571\u001b[0m         \u001b[0;31m# arguments in memory\u001b[0m\u001b[0;34m\u001b[0m\u001b[0;34m\u001b[0m\u001b[0;34m\u001b[0m\u001b[0m\n\u001b[0;32m--> 572\u001b[0;31m         \u001b[0mself\u001b[0m\u001b[0;34m.\u001b[0m\u001b[0mresults\u001b[0m \u001b[0;34m=\u001b[0m \u001b[0mbatch\u001b[0m\u001b[0;34m(\u001b[0m\u001b[0;34m)\u001b[0m\u001b[0;34m\u001b[0m\u001b[0;34m\u001b[0m\u001b[0m\n\u001b[0m\u001b[1;32m    573\u001b[0m \u001b[0;34m\u001b[0m\u001b[0m\n\u001b[1;32m    574\u001b[0m     \u001b[0;32mdef\u001b[0m \u001b[0mget\u001b[0m\u001b[0;34m(\u001b[0m\u001b[0mself\u001b[0m\u001b[0;34m)\u001b[0m\u001b[0;34m:\u001b[0m\u001b[0;34m\u001b[0m\u001b[0;34m\u001b[0m\u001b[0m\n",
      "\u001b[0;32m/opt/conda/lib/python3.9/site-packages/joblib/parallel.py\u001b[0m in \u001b[0;36m__call__\u001b[0;34m(self)\u001b[0m\n\u001b[1;32m    260\u001b[0m         \u001b[0;31m# change the default number of processes to -1\u001b[0m\u001b[0;34m\u001b[0m\u001b[0;34m\u001b[0m\u001b[0;34m\u001b[0m\u001b[0m\n\u001b[1;32m    261\u001b[0m         \u001b[0;32mwith\u001b[0m \u001b[0mparallel_backend\u001b[0m\u001b[0;34m(\u001b[0m\u001b[0mself\u001b[0m\u001b[0;34m.\u001b[0m\u001b[0m_backend\u001b[0m\u001b[0;34m,\u001b[0m \u001b[0mn_jobs\u001b[0m\u001b[0;34m=\u001b[0m\u001b[0mself\u001b[0m\u001b[0;34m.\u001b[0m\u001b[0m_n_jobs\u001b[0m\u001b[0;34m)\u001b[0m\u001b[0;34m:\u001b[0m\u001b[0;34m\u001b[0m\u001b[0;34m\u001b[0m\u001b[0m\n\u001b[0;32m--> 262\u001b[0;31m             return [func(*args, **kwargs)\n\u001b[0m\u001b[1;32m    263\u001b[0m                     for func, args, kwargs in self.items]\n\u001b[1;32m    264\u001b[0m \u001b[0;34m\u001b[0m\u001b[0m\n",
      "\u001b[0;32m/opt/conda/lib/python3.9/site-packages/joblib/parallel.py\u001b[0m in \u001b[0;36m<listcomp>\u001b[0;34m(.0)\u001b[0m\n\u001b[1;32m    260\u001b[0m         \u001b[0;31m# change the default number of processes to -1\u001b[0m\u001b[0;34m\u001b[0m\u001b[0;34m\u001b[0m\u001b[0;34m\u001b[0m\u001b[0m\n\u001b[1;32m    261\u001b[0m         \u001b[0;32mwith\u001b[0m \u001b[0mparallel_backend\u001b[0m\u001b[0;34m(\u001b[0m\u001b[0mself\u001b[0m\u001b[0;34m.\u001b[0m\u001b[0m_backend\u001b[0m\u001b[0;34m,\u001b[0m \u001b[0mn_jobs\u001b[0m\u001b[0;34m=\u001b[0m\u001b[0mself\u001b[0m\u001b[0;34m.\u001b[0m\u001b[0m_n_jobs\u001b[0m\u001b[0;34m)\u001b[0m\u001b[0;34m:\u001b[0m\u001b[0;34m\u001b[0m\u001b[0;34m\u001b[0m\u001b[0m\n\u001b[0;32m--> 262\u001b[0;31m             return [func(*args, **kwargs)\n\u001b[0m\u001b[1;32m    263\u001b[0m                     for func, args, kwargs in self.items]\n\u001b[1;32m    264\u001b[0m \u001b[0;34m\u001b[0m\u001b[0m\n",
      "\u001b[0;32m/opt/conda/lib/python3.9/site-packages/sklearn/utils/fixes.py\u001b[0m in \u001b[0;36m__call__\u001b[0;34m(self, *args, **kwargs)\u001b[0m\n\u001b[1;32m    220\u001b[0m     \u001b[0;32mdef\u001b[0m \u001b[0m__call__\u001b[0m\u001b[0;34m(\u001b[0m\u001b[0mself\u001b[0m\u001b[0;34m,\u001b[0m \u001b[0;34m*\u001b[0m\u001b[0margs\u001b[0m\u001b[0;34m,\u001b[0m \u001b[0;34m**\u001b[0m\u001b[0mkwargs\u001b[0m\u001b[0;34m)\u001b[0m\u001b[0;34m:\u001b[0m\u001b[0;34m\u001b[0m\u001b[0;34m\u001b[0m\u001b[0m\n\u001b[1;32m    221\u001b[0m         \u001b[0;32mwith\u001b[0m \u001b[0mconfig_context\u001b[0m\u001b[0;34m(\u001b[0m\u001b[0;34m**\u001b[0m\u001b[0mself\u001b[0m\u001b[0;34m.\u001b[0m\u001b[0mconfig\u001b[0m\u001b[0;34m)\u001b[0m\u001b[0;34m:\u001b[0m\u001b[0;34m\u001b[0m\u001b[0;34m\u001b[0m\u001b[0m\n\u001b[0;32m--> 222\u001b[0;31m             \u001b[0;32mreturn\u001b[0m \u001b[0mself\u001b[0m\u001b[0;34m.\u001b[0m\u001b[0mfunction\u001b[0m\u001b[0;34m(\u001b[0m\u001b[0;34m*\u001b[0m\u001b[0margs\u001b[0m\u001b[0;34m,\u001b[0m \u001b[0;34m**\u001b[0m\u001b[0mkwargs\u001b[0m\u001b[0;34m)\u001b[0m\u001b[0;34m\u001b[0m\u001b[0;34m\u001b[0m\u001b[0m\n\u001b[0m",
      "\u001b[0;32m/opt/conda/lib/python3.9/site-packages/sklearn/model_selection/_validation.py\u001b[0m in \u001b[0;36m_fit_and_score\u001b[0;34m(estimator, X, y, scorer, train, test, verbose, parameters, fit_params, return_train_score, return_parameters, return_n_test_samples, return_times, return_estimator, split_progress, candidate_progress, error_score)\u001b[0m\n\u001b[1;32m    591\u001b[0m             \u001b[0mestimator\u001b[0m\u001b[0;34m.\u001b[0m\u001b[0mfit\u001b[0m\u001b[0;34m(\u001b[0m\u001b[0mX_train\u001b[0m\u001b[0;34m,\u001b[0m \u001b[0;34m**\u001b[0m\u001b[0mfit_params\u001b[0m\u001b[0;34m)\u001b[0m\u001b[0;34m\u001b[0m\u001b[0;34m\u001b[0m\u001b[0m\n\u001b[1;32m    592\u001b[0m         \u001b[0;32melse\u001b[0m\u001b[0;34m:\u001b[0m\u001b[0;34m\u001b[0m\u001b[0;34m\u001b[0m\u001b[0m\n\u001b[0;32m--> 593\u001b[0;31m             \u001b[0mestimator\u001b[0m\u001b[0;34m.\u001b[0m\u001b[0mfit\u001b[0m\u001b[0;34m(\u001b[0m\u001b[0mX_train\u001b[0m\u001b[0;34m,\u001b[0m \u001b[0my_train\u001b[0m\u001b[0;34m,\u001b[0m \u001b[0;34m**\u001b[0m\u001b[0mfit_params\u001b[0m\u001b[0;34m)\u001b[0m\u001b[0;34m\u001b[0m\u001b[0;34m\u001b[0m\u001b[0m\n\u001b[0m\u001b[1;32m    594\u001b[0m \u001b[0;34m\u001b[0m\u001b[0m\n\u001b[1;32m    595\u001b[0m     \u001b[0;32mexcept\u001b[0m \u001b[0mException\u001b[0m \u001b[0;32mas\u001b[0m \u001b[0me\u001b[0m\u001b[0;34m:\u001b[0m\u001b[0;34m\u001b[0m\u001b[0;34m\u001b[0m\u001b[0m\n",
      "\u001b[0;32m/opt/conda/lib/python3.9/site-packages/lightgbm/sklearn.py\u001b[0m in \u001b[0;36mfit\u001b[0;34m(self, X, y, sample_weight, init_score, eval_set, eval_names, eval_sample_weight, eval_class_weight, eval_init_score, eval_metric, early_stopping_rounds, verbose, feature_name, categorical_feature, callbacks, init_model)\u001b[0m\n\u001b[1;32m    923\u001b[0m         \u001b[0m_LGBMCheckClassificationTargets\u001b[0m\u001b[0;34m(\u001b[0m\u001b[0my\u001b[0m\u001b[0;34m)\u001b[0m\u001b[0;34m\u001b[0m\u001b[0;34m\u001b[0m\u001b[0m\n\u001b[1;32m    924\u001b[0m         \u001b[0mself\u001b[0m\u001b[0;34m.\u001b[0m\u001b[0m_le\u001b[0m \u001b[0;34m=\u001b[0m \u001b[0m_LGBMLabelEncoder\u001b[0m\u001b[0;34m(\u001b[0m\u001b[0;34m)\u001b[0m\u001b[0;34m.\u001b[0m\u001b[0mfit\u001b[0m\u001b[0;34m(\u001b[0m\u001b[0my\u001b[0m\u001b[0;34m)\u001b[0m\u001b[0;34m\u001b[0m\u001b[0;34m\u001b[0m\u001b[0m\n\u001b[0;32m--> 925\u001b[0;31m         \u001b[0m_y\u001b[0m \u001b[0;34m=\u001b[0m \u001b[0mself\u001b[0m\u001b[0;34m.\u001b[0m\u001b[0m_le\u001b[0m\u001b[0;34m.\u001b[0m\u001b[0mtransform\u001b[0m\u001b[0;34m(\u001b[0m\u001b[0my\u001b[0m\u001b[0;34m)\u001b[0m\u001b[0;34m\u001b[0m\u001b[0;34m\u001b[0m\u001b[0m\n\u001b[0m\u001b[1;32m    926\u001b[0m         \u001b[0mself\u001b[0m\u001b[0;34m.\u001b[0m\u001b[0m_class_map\u001b[0m \u001b[0;34m=\u001b[0m \u001b[0mdict\u001b[0m\u001b[0;34m(\u001b[0m\u001b[0mzip\u001b[0m\u001b[0;34m(\u001b[0m\u001b[0mself\u001b[0m\u001b[0;34m.\u001b[0m\u001b[0m_le\u001b[0m\u001b[0;34m.\u001b[0m\u001b[0mclasses_\u001b[0m\u001b[0;34m,\u001b[0m \u001b[0mself\u001b[0m\u001b[0;34m.\u001b[0m\u001b[0m_le\u001b[0m\u001b[0;34m.\u001b[0m\u001b[0mtransform\u001b[0m\u001b[0;34m(\u001b[0m\u001b[0mself\u001b[0m\u001b[0;34m.\u001b[0m\u001b[0m_le\u001b[0m\u001b[0;34m.\u001b[0m\u001b[0mclasses_\u001b[0m\u001b[0;34m)\u001b[0m\u001b[0;34m)\u001b[0m\u001b[0;34m)\u001b[0m\u001b[0;34m\u001b[0m\u001b[0;34m\u001b[0m\u001b[0m\n\u001b[1;32m    927\u001b[0m         \u001b[0;32mif\u001b[0m \u001b[0misinstance\u001b[0m\u001b[0;34m(\u001b[0m\u001b[0mself\u001b[0m\u001b[0;34m.\u001b[0m\u001b[0mclass_weight\u001b[0m\u001b[0;34m,\u001b[0m \u001b[0mdict\u001b[0m\u001b[0;34m)\u001b[0m\u001b[0;34m:\u001b[0m\u001b[0;34m\u001b[0m\u001b[0;34m\u001b[0m\u001b[0m\n",
      "\u001b[0;32m/opt/conda/lib/python3.9/site-packages/sklearn/preprocessing/_label.py\u001b[0m in \u001b[0;36mtransform\u001b[0;34m(self, y)\u001b[0m\n\u001b[1;32m    131\u001b[0m         \"\"\"\n\u001b[1;32m    132\u001b[0m         \u001b[0mcheck_is_fitted\u001b[0m\u001b[0;34m(\u001b[0m\u001b[0mself\u001b[0m\u001b[0;34m)\u001b[0m\u001b[0;34m\u001b[0m\u001b[0;34m\u001b[0m\u001b[0m\n\u001b[0;32m--> 133\u001b[0;31m         \u001b[0my\u001b[0m \u001b[0;34m=\u001b[0m \u001b[0mcolumn_or_1d\u001b[0m\u001b[0;34m(\u001b[0m\u001b[0my\u001b[0m\u001b[0;34m,\u001b[0m \u001b[0mwarn\u001b[0m\u001b[0;34m=\u001b[0m\u001b[0;32mTrue\u001b[0m\u001b[0;34m)\u001b[0m\u001b[0;34m\u001b[0m\u001b[0;34m\u001b[0m\u001b[0m\n\u001b[0m\u001b[1;32m    134\u001b[0m         \u001b[0;31m# transform of empty array is empty array\u001b[0m\u001b[0;34m\u001b[0m\u001b[0;34m\u001b[0m\u001b[0;34m\u001b[0m\u001b[0m\n\u001b[1;32m    135\u001b[0m         \u001b[0;32mif\u001b[0m \u001b[0m_num_samples\u001b[0m\u001b[0;34m(\u001b[0m\u001b[0my\u001b[0m\u001b[0;34m)\u001b[0m \u001b[0;34m==\u001b[0m \u001b[0;36m0\u001b[0m\u001b[0;34m:\u001b[0m\u001b[0;34m\u001b[0m\u001b[0;34m\u001b[0m\u001b[0m\n",
      "\u001b[0;32m/opt/conda/lib/python3.9/site-packages/sklearn/utils/validation.py\u001b[0m in \u001b[0;36minner_f\u001b[0;34m(*args, **kwargs)\u001b[0m\n\u001b[1;32m     61\u001b[0m             \u001b[0mextra_args\u001b[0m \u001b[0;34m=\u001b[0m \u001b[0mlen\u001b[0m\u001b[0;34m(\u001b[0m\u001b[0margs\u001b[0m\u001b[0;34m)\u001b[0m \u001b[0;34m-\u001b[0m \u001b[0mlen\u001b[0m\u001b[0;34m(\u001b[0m\u001b[0mall_args\u001b[0m\u001b[0;34m)\u001b[0m\u001b[0;34m\u001b[0m\u001b[0;34m\u001b[0m\u001b[0m\n\u001b[1;32m     62\u001b[0m             \u001b[0;32mif\u001b[0m \u001b[0mextra_args\u001b[0m \u001b[0;34m<=\u001b[0m \u001b[0;36m0\u001b[0m\u001b[0;34m:\u001b[0m\u001b[0;34m\u001b[0m\u001b[0;34m\u001b[0m\u001b[0m\n\u001b[0;32m---> 63\u001b[0;31m                 \u001b[0;32mreturn\u001b[0m \u001b[0mf\u001b[0m\u001b[0;34m(\u001b[0m\u001b[0;34m*\u001b[0m\u001b[0margs\u001b[0m\u001b[0;34m,\u001b[0m \u001b[0;34m**\u001b[0m\u001b[0mkwargs\u001b[0m\u001b[0;34m)\u001b[0m\u001b[0;34m\u001b[0m\u001b[0;34m\u001b[0m\u001b[0m\n\u001b[0m\u001b[1;32m     64\u001b[0m \u001b[0;34m\u001b[0m\u001b[0m\n\u001b[1;32m     65\u001b[0m             \u001b[0;31m# extra_args > 0\u001b[0m\u001b[0;34m\u001b[0m\u001b[0;34m\u001b[0m\u001b[0;34m\u001b[0m\u001b[0m\n",
      "\u001b[0;32m/opt/conda/lib/python3.9/site-packages/sklearn/utils/validation.py\u001b[0m in \u001b[0;36mcolumn_or_1d\u001b[0;34m(y, warn)\u001b[0m\n\u001b[1;32m    851\u001b[0m     \"\"\"\n\u001b[1;32m    852\u001b[0m     \u001b[0my\u001b[0m \u001b[0;34m=\u001b[0m \u001b[0mnp\u001b[0m\u001b[0;34m.\u001b[0m\u001b[0masarray\u001b[0m\u001b[0;34m(\u001b[0m\u001b[0my\u001b[0m\u001b[0;34m)\u001b[0m\u001b[0;34m\u001b[0m\u001b[0;34m\u001b[0m\u001b[0m\n\u001b[0;32m--> 853\u001b[0;31m     \u001b[0mshape\u001b[0m \u001b[0;34m=\u001b[0m \u001b[0mnp\u001b[0m\u001b[0;34m.\u001b[0m\u001b[0mshape\u001b[0m\u001b[0;34m(\u001b[0m\u001b[0my\u001b[0m\u001b[0;34m)\u001b[0m\u001b[0;34m\u001b[0m\u001b[0;34m\u001b[0m\u001b[0m\n\u001b[0m\u001b[1;32m    854\u001b[0m     \u001b[0;32mif\u001b[0m \u001b[0mlen\u001b[0m\u001b[0;34m(\u001b[0m\u001b[0mshape\u001b[0m\u001b[0;34m)\u001b[0m \u001b[0;34m==\u001b[0m \u001b[0;36m1\u001b[0m\u001b[0;34m:\u001b[0m\u001b[0;34m\u001b[0m\u001b[0;34m\u001b[0m\u001b[0m\n\u001b[1;32m    855\u001b[0m         \u001b[0;32mreturn\u001b[0m \u001b[0mnp\u001b[0m\u001b[0;34m.\u001b[0m\u001b[0mravel\u001b[0m\u001b[0;34m(\u001b[0m\u001b[0my\u001b[0m\u001b[0;34m)\u001b[0m\u001b[0;34m\u001b[0m\u001b[0;34m\u001b[0m\u001b[0m\n",
      "\u001b[0;32m<__array_function__ internals>\u001b[0m in \u001b[0;36mshape\u001b[0;34m(*args, **kwargs)\u001b[0m\n",
      "\u001b[0;31mKeyboardInterrupt\u001b[0m: "
     ]
    }
   ],
   "source": [
    "grid = GridSearchCV(model, gridParams, verbose=1, cv=3, n_jobs=-1)\n",
    "grid.fit(features_train, target_train)\n",
    "print(grid.best_params_)\n",
    "print(grid.best_score_)\n",
    "predicted_test = grid.predict(features_test)\n",
    "print(predicted_test)\n",
    "accuracy = accuracy_score(target_test, predicted_test)\n",
    "f1 = f1_score(target_test, predicted_test)\n",
    "print(f'acuracy={accuracy}:f1={f1}')\n",
    "print(confusion_matrix(target_test, predicted_test, normalize = 'true'))\n",
    "grid.best_estimator_.feature_importances_"
   ]
  },
  {
   "cell_type": "markdown",
   "id": "6c7f6d13",
   "metadata": {},
   "source": [
    "## Проверка лучшей модели в работе"
   ]
  },
  {
   "cell_type": "markdown",
   "id": "e706c91c",
   "metadata": {},
   "source": [
    "Наилучший показатель метрики f1 дает модель случайного дерева с глубиной 6 и числом листьев = 20."
   ]
  },
  {
   "cell_type": "markdown",
   "id": "4247b8ee",
   "metadata": {},
   "source": [
    "Расчет показателей:"
   ]
  },
  {
   "cell_type": "code",
   "execution_count": 81,
   "id": "33081bfe",
   "metadata": {
    "scrolled": true
   },
   "outputs": [
    {
     "name": "stdout",
     "output_type": "stream",
     "text": [
      "optimal f1 = 0.6355798785516156\n",
      "optimal accuracy = 0.6430459685710089\n",
      "confusion matrix:\n",
      " [[0.67092367 0.32907633]\n",
      " [0.38422429 0.61577571]]\n",
      "influence of factors:\n",
      " [('vehicle_type', 0.07643932506734648), ('vehicle_transmission', 0.0031101258664416945), ('county_city_location', 0.0), ('county_location', 0.0), ('weather_1', 0.0), ('location_type', 0.004379116344885776), ('road_surface', 0.023805424807588717), ('road_condition_1', 0.0), ('lighting', 0.0), ('control_device', 0.049914656982261996), ('party_sobriety', 0.5267349796261502), ('party_drug_physical', 0.1612365624433405), ('cellphone_in_use', 0.0), ('month', 0.001977567076537936), ('day', 0.0), ('hour', 0.011077136650586277), ('vehicle_age', 0.1413251051348604)]\n"
     ]
    }
   ],
   "source": [
    "predicted_test = optimal_model_tree.predict(features_test)\n",
    "f1 = f1_score(target_test, predicted_test)\n",
    "accuracy = accuracy_score(target_test, predicted_test)\n",
    "print(f'optimal f1 = {f1}')\n",
    "print(f'optimal accuracy = {accuracy}')\n",
    "conf_mat = confusion_matrix(target_test, predicted_test, normalize = 'true')\n",
    "print('confusion matrix:\\n', conf_mat)\n",
    "factor_influences = zip(features_test.columns, optimal_model_tree.feature_importances_)\n",
    "print('influence of factors:\\n', list(factor_influences))"
   ]
  },
  {
   "cell_type": "markdown",
   "id": "41f2f0a7",
   "metadata": {},
   "source": [
    "Оценка важности факторов показывает, что самый важный фактор, влияющий на возможность аварии - состояние алкогольного опъянения (56%). Затем - воздействие лекарств (16%) и возраст автомобиля (14%). Тип автомобиля можно еще добавить (7,5%). Остальные факторы вносят незначительный вклад в прогноз."
   ]
  },
  {
   "cell_type": "markdown",
   "id": "a581979d",
   "metadata": {},
   "source": [
    "Вывод матрицы ошибок:"
   ]
  },
  {
   "cell_type": "code",
   "execution_count": 82,
   "id": "d6cfbad0",
   "metadata": {},
   "outputs": [
    {
     "data": {
      "image/png": "[encoded data removed]",
      "text/plain": [
       "<Figure size 432x288 with 2 Axes>"
      ]
     },
     "metadata": {
      "needs_background": "light"
     },
     "output_type": "display_data"
    }
   ],
   "source": [
    "sns.heatmap(conf_mat, annot = True);"
   ]
  },
  {
   "cell_type": "markdown",
   "id": "625c6fd9",
   "metadata": {},
   "source": [
    "Вывод графика \"полнота-точность\":"
   ]
  },
  {
   "cell_type": "code",
   "execution_count": 83,
   "id": "6b1f9b0f",
   "metadata": {},
   "outputs": [],
   "source": [
    "probabilities = optimal_model_tree.predict_proba(features_test)\n",
    "probabilities_one = probabilities[:, 1]\n",
    "p,r,t = precision_recall_curve(target_test, probabilities_one)"
   ]
  },
  {
   "cell_type": "code",
   "execution_count": 84,
   "id": "37078a4b",
   "metadata": {},
   "outputs": [
    {
     "data": {
      "image/png": "[encoded data removed]",
      "text/plain": [
       "<Figure size 432x288 with 1 Axes>"
      ]
     },
     "metadata": {
      "needs_background": "light"
     },
     "output_type": "display_data"
    }
   ],
   "source": [
    "# Data for plotting\n",
    "fig, ax = plt.subplots()\n",
    "ax.plot(r, p)\n",
    "\n",
    "ax.set(xlabel='recall', ylabel='precision',\n",
    "       title='precision-recall graph')\n",
    "ax.grid()\n",
    "\n",
    "plt.show()"
   ]
  },
  {
   "cell_type": "markdown",
   "id": "c700fe26",
   "metadata": {},
   "source": [
    "Анализ влияния фактора алкогольного опъянения на количество аварий (sql-запрос выполнен ранее):"
   ]
  },
  {
   "cell_type": "code",
   "execution_count": 85,
   "id": "98ce4541",
   "metadata": {
    "scrolled": true
   },
   "outputs": [
    {
     "data": {
      "text/html": [
       "<div>\n",
       "<style scoped>\n",
       "    .dataframe tbody tr th:only-of-type {\n",
       "        vertical-align: middle;\n",
       "    }\n",
       "\n",
       "    .dataframe tbody tr th {\n",
       "        vertical-align: top;\n",
       "    }\n",
       "\n",
       "    .dataframe thead th {\n",
       "        text-align: right;\n",
       "    }\n",
       "</style>\n",
       "<table border=\"1\" class=\"dataframe\">\n",
       "  <thead>\n",
       "    <tr style=\"text-align: right;\">\n",
       "      <th></th>\n",
       "      <th>count</th>\n",
       "      <th>party_sobriety</th>\n",
       "    </tr>\n",
       "  </thead>\n",
       "  <tbody>\n",
       "    <tr>\n",
       "      <th>0</th>\n",
       "      <td>20975</td>\n",
       "      <td>had been drinking, impairment unknown</td>\n",
       "    </tr>\n",
       "    <tr>\n",
       "      <th>1</th>\n",
       "      <td>15967</td>\n",
       "      <td>had been drinking, not under influence</td>\n",
       "    </tr>\n",
       "    <tr>\n",
       "      <th>2</th>\n",
       "      <td>111559</td>\n",
       "      <td>had been drinking, under influence</td>\n",
       "    </tr>\n",
       "    <tr>\n",
       "      <th>3</th>\n",
       "      <td>1185724</td>\n",
       "      <td>had not been drinking</td>\n",
       "    </tr>\n",
       "    <tr>\n",
       "      <th>4</th>\n",
       "      <td>224079</td>\n",
       "      <td>impairment unknown</td>\n",
       "    </tr>\n",
       "    <tr>\n",
       "      <th>5</th>\n",
       "      <td>129640</td>\n",
       "      <td>not applicable</td>\n",
       "    </tr>\n",
       "    <tr>\n",
       "      <th>6</th>\n",
       "      <td>57946</td>\n",
       "      <td>None</td>\n",
       "    </tr>\n",
       "  </tbody>\n",
       "</table>\n",
       "</div>"
      ],
      "text/plain": [
       "     count                          party_sobriety\n",
       "0    20975   had been drinking, impairment unknown\n",
       "1    15967  had been drinking, not under influence\n",
       "2   111559      had been drinking, under influence\n",
       "3  1185724                   had not been drinking\n",
       "4   224079                      impairment unknown\n",
       "5   129640                          not applicable\n",
       "6    57946                                    None"
      ]
     },
     "execution_count": 85,
     "metadata": {},
     "output_type": "execute_result"
    }
   ],
   "source": [
    "data_collisions_alcohol"
   ]
  },
  {
   "cell_type": "code",
   "execution_count": 86,
   "id": "18cfe2e8",
   "metadata": {
    "scrolled": true
   },
   "outputs": [
    {
     "data": {
      "image/png": "[encoded data removed]",
      "text/plain": [
       "<Figure size 1296x360 with 1 Axes>"
      ]
     },
     "metadata": {
      "needs_background": "light"
     },
     "output_type": "display_data"
    }
   ],
   "source": [
    "fig = plt.figure(figsize=(18,5))\n",
    "ax = fig.add_axes([0,0,1,1])\n",
    "alcohol_factor = data_collisions_alcohol['party_sobriety'].astype(str)\n",
    "collisions = data_collisions_alcohol['count']\n",
    "ax.bar(alcohol_factor, collisions)\n",
    "plt.show()"
   ]
  },
  {
   "cell_type": "markdown",
   "id": "f94a7db7",
   "metadata": {},
   "source": [
    "Диаграмма показывает, что если сложить пъяных водителей вместе, то они внесут существенный вклад в статистику ДТП. Но трезвых водителей попадает в ДТП все равно больше."
   ]
  },
  {
   "cell_type": "markdown",
   "id": "fcbad681",
   "metadata": {},
   "source": [
    "## Выводы"
   ]
  },
  {
   "cell_type": "markdown",
   "id": "87ef9d1d",
   "metadata": {},
   "source": [
    "Для построения модели были отобраны пре-факторы, возможность которых можно оценить, когда водитель садится за руль. \\\n",
    "Вероятность попасть в аварию была заменена бинарной классификацией (прогноз попадет/не попадет). \\\n",
    "Наилучший показатель метрики f1 (64,4%) на бинарной класификации дает модель случайного дерева с глубиной 6 и числом листьев = 20. \\ \n",
    "Самый важный фактор, влияющий на возможность аварии - состояние алкогольного опъянения (55%). Затем - воздействие лекарств (16%) и возраст автомобиля (14%). Тип автомобиля (7,5%). \\\n",
    "Состояние алкогольного опъянения водителя определить трудно. Необходимо проводить тест на алкоголь до начала движения. \n",
    "Для улучшения модели предлагается добавить статистику ДТП оцениваемого водителя, его возраст, стаж, заболевания, влияющие на реакцию."
   ]
  }
 ],
 "metadata": {
  "ExecuteTimeLog": [
   {
    "duration": 884,
    "start_time": "2022-11-12T11:25:30.820Z"
   },
   {
    "duration": 3,
    "start_time": "2022-11-12T11:25:31.706Z"
   },
   {
    "duration": 25,
    "start_time": "2022-11-12T11:25:31.711Z"
   },
   {
    "duration": 4639,
    "start_time": "2022-11-12T11:25:31.738Z"
   },
   {
    "duration": 3,
    "start_time": "2022-11-12T11:25:36.379Z"
   },
   {
    "duration": 1482,
    "start_time": "2022-11-12T11:25:36.384Z"
   },
   {
    "duration": 8,
    "start_time": "2022-11-12T11:25:37.869Z"
   },
   {
    "duration": 688,
    "start_time": "2022-11-12T11:32:19.961Z"
   },
   {
    "duration": 3,
    "start_time": "2022-11-12T11:32:20.651Z"
   },
   {
    "duration": 24,
    "start_time": "2022-11-12T11:32:20.655Z"
   },
   {
    "duration": 4895,
    "start_time": "2022-11-12T11:32:20.681Z"
   },
   {
    "duration": 2,
    "start_time": "2022-11-12T11:32:25.578Z"
   },
   {
    "duration": 16908,
    "start_time": "2022-11-12T11:32:25.582Z"
   },
   {
    "duration": 16,
    "start_time": "2022-11-12T11:32:42.492Z"
   },
   {
    "duration": 2554,
    "start_time": "2022-11-12T11:33:06.121Z"
   },
   {
    "duration": 3,
    "start_time": "2022-11-12T12:09:14.675Z"
   },
   {
    "duration": 10714,
    "start_time": "2022-11-12T12:09:15.748Z"
   },
   {
    "duration": 8,
    "start_time": "2022-11-12T12:09:29.336Z"
   },
   {
    "duration": 3,
    "start_time": "2022-11-12T12:12:12.271Z"
   },
   {
    "duration": 3398,
    "start_time": "2022-11-12T12:12:12.951Z"
   },
   {
    "duration": 6,
    "start_time": "2022-11-12T12:12:18.821Z"
   },
   {
    "duration": 4,
    "start_time": "2022-11-12T12:14:52.435Z"
   },
   {
    "duration": 3864,
    "start_time": "2022-11-12T12:14:53.132Z"
   },
   {
    "duration": 6,
    "start_time": "2022-11-12T12:14:57.964Z"
   },
   {
    "duration": 78,
    "start_time": "2022-11-12T12:21:25.862Z"
   },
   {
    "duration": 9,
    "start_time": "2022-11-12T12:21:55.151Z"
   },
   {
    "duration": 10,
    "start_time": "2022-11-12T12:22:08.808Z"
   },
   {
    "duration": 235,
    "start_time": "2022-11-12T12:23:41.445Z"
   },
   {
    "duration": 210,
    "start_time": "2022-11-12T12:23:55.425Z"
   },
   {
    "duration": 697,
    "start_time": "2022-11-12T12:25:15.401Z"
   },
   {
    "duration": 3,
    "start_time": "2022-11-12T12:25:16.100Z"
   },
   {
    "duration": 15,
    "start_time": "2022-11-12T12:25:16.105Z"
   },
   {
    "duration": 4843,
    "start_time": "2022-11-12T12:25:16.122Z"
   },
   {
    "duration": 3,
    "start_time": "2022-11-12T12:25:20.966Z"
   },
   {
    "duration": 17369,
    "start_time": "2022-11-12T12:25:20.971Z"
   },
   {
    "duration": 12,
    "start_time": "2022-11-12T12:25:38.342Z"
   },
   {
    "duration": 7,
    "start_time": "2022-11-12T12:25:38.355Z"
   },
   {
    "duration": 10736,
    "start_time": "2022-11-12T12:25:38.363Z"
   },
   {
    "duration": 8,
    "start_time": "2022-11-12T12:25:49.102Z"
   },
   {
    "duration": 11,
    "start_time": "2022-11-12T12:25:49.113Z"
   },
   {
    "duration": 3604,
    "start_time": "2022-11-12T12:25:49.126Z"
   },
   {
    "duration": 7,
    "start_time": "2022-11-12T12:25:52.732Z"
   },
   {
    "duration": 43,
    "start_time": "2022-11-12T12:25:52.741Z"
   },
   {
    "duration": 3591,
    "start_time": "2022-11-12T12:25:52.786Z"
   },
   {
    "duration": 6,
    "start_time": "2022-11-12T12:25:56.379Z"
   },
   {
    "duration": 2917,
    "start_time": "2022-11-12T12:25:56.386Z"
   },
   {
    "duration": 9,
    "start_time": "2022-11-12T12:25:59.305Z"
   },
   {
    "duration": 269,
    "start_time": "2022-11-12T12:25:59.316Z"
   },
   {
    "duration": 235,
    "start_time": "2022-11-12T12:25:59.587Z"
   },
   {
    "duration": 88,
    "start_time": "2022-11-12T14:25:15.343Z"
   },
   {
    "duration": 20,
    "start_time": "2022-11-12T14:25:24.292Z"
   },
   {
    "duration": 11,
    "start_time": "2022-11-12T14:26:03.244Z"
   },
   {
    "duration": 9,
    "start_time": "2022-11-12T14:27:03.034Z"
   },
   {
    "duration": 7,
    "start_time": "2022-11-12T14:27:23.827Z"
   },
   {
    "duration": 10,
    "start_time": "2022-11-12T14:28:21.721Z"
   },
   {
    "duration": 192,
    "start_time": "2022-11-12T14:28:26.098Z"
   },
   {
    "duration": 3,
    "start_time": "2022-11-12T14:43:10.812Z"
   },
   {
    "duration": 769,
    "start_time": "2022-11-12T14:43:28.154Z"
   },
   {
    "duration": 2,
    "start_time": "2022-11-12T14:43:28.925Z"
   },
   {
    "duration": 7,
    "start_time": "2022-11-12T14:43:28.929Z"
   },
   {
    "duration": 5187,
    "start_time": "2022-11-12T14:43:28.938Z"
   },
   {
    "duration": 3,
    "start_time": "2022-11-12T14:43:34.127Z"
   },
   {
    "duration": 18089,
    "start_time": "2022-11-12T14:43:34.131Z"
   },
   {
    "duration": 13,
    "start_time": "2022-11-12T14:43:52.222Z"
   },
   {
    "duration": 5,
    "start_time": "2022-11-12T14:43:52.237Z"
   },
   {
    "duration": 11091,
    "start_time": "2022-11-12T14:43:52.244Z"
   },
   {
    "duration": 7,
    "start_time": "2022-11-12T14:44:03.338Z"
   },
   {
    "duration": 10,
    "start_time": "2022-11-12T14:44:03.347Z"
   },
   {
    "duration": 3587,
    "start_time": "2022-11-12T14:44:03.358Z"
   },
   {
    "duration": 7,
    "start_time": "2022-11-12T14:44:06.948Z"
   },
   {
    "duration": 25,
    "start_time": "2022-11-12T14:44:06.956Z"
   },
   {
    "duration": 3388,
    "start_time": "2022-11-12T14:44:06.983Z"
   },
   {
    "duration": 9,
    "start_time": "2022-11-12T14:44:10.372Z"
   },
   {
    "duration": 2811,
    "start_time": "2022-11-12T14:44:10.382Z"
   },
   {
    "duration": 20,
    "start_time": "2022-11-12T14:44:13.195Z"
   },
   {
    "duration": 58,
    "start_time": "2022-11-12T14:44:13.217Z"
   },
   {
    "duration": 65,
    "start_time": "2022-11-12T14:44:13.277Z"
   },
   {
    "duration": 276,
    "start_time": "2022-11-12T14:44:13.343Z"
   },
   {
    "duration": 11,
    "start_time": "2022-11-12T14:44:13.621Z"
   },
   {
    "duration": 251,
    "start_time": "2022-11-12T14:44:13.633Z"
   },
   {
    "duration": 17,
    "start_time": "2022-11-12T14:44:13.885Z"
   },
   {
    "duration": 18,
    "start_time": "2022-11-12T14:44:13.904Z"
   },
   {
    "duration": 49,
    "start_time": "2022-11-12T14:44:38.374Z"
   },
   {
    "duration": 3,
    "start_time": "2022-11-12T14:44:46.666Z"
   },
   {
    "duration": 7,
    "start_time": "2022-11-12T14:44:47.354Z"
   },
   {
    "duration": 693,
    "start_time": "2022-11-12T14:45:09.436Z"
   },
   {
    "duration": 3,
    "start_time": "2022-11-12T14:45:10.131Z"
   },
   {
    "duration": 15,
    "start_time": "2022-11-12T14:45:10.135Z"
   },
   {
    "duration": 4831,
    "start_time": "2022-11-12T14:45:10.152Z"
   },
   {
    "duration": 2,
    "start_time": "2022-11-12T14:45:14.985Z"
   },
   {
    "duration": 17646,
    "start_time": "2022-11-12T14:45:14.989Z"
   },
   {
    "duration": 17,
    "start_time": "2022-11-12T14:45:32.637Z"
   },
   {
    "duration": 26,
    "start_time": "2022-11-12T14:45:32.656Z"
   },
   {
    "duration": 11372,
    "start_time": "2022-11-12T14:45:32.685Z"
   },
   {
    "duration": 7,
    "start_time": "2022-11-12T14:45:44.060Z"
   },
   {
    "duration": 12,
    "start_time": "2022-11-12T14:45:44.068Z"
   },
   {
    "duration": 3567,
    "start_time": "2022-11-12T14:45:44.082Z"
   },
   {
    "duration": 6,
    "start_time": "2022-11-12T14:45:47.651Z"
   },
   {
    "duration": 19,
    "start_time": "2022-11-12T14:45:47.659Z"
   },
   {
    "duration": 3520,
    "start_time": "2022-11-12T14:45:47.680Z"
   },
   {
    "duration": 5,
    "start_time": "2022-11-12T14:45:51.202Z"
   },
   {
    "duration": 2843,
    "start_time": "2022-11-12T14:45:51.209Z"
   },
   {
    "duration": 32,
    "start_time": "2022-11-12T14:45:54.054Z"
   },
   {
    "duration": 7,
    "start_time": "2022-11-12T14:45:54.088Z"
   },
   {
    "duration": 14,
    "start_time": "2022-11-12T14:45:54.097Z"
   },
   {
    "duration": 259,
    "start_time": "2022-11-12T14:45:54.112Z"
   },
   {
    "duration": 13,
    "start_time": "2022-11-12T14:45:54.373Z"
   },
   {
    "duration": 223,
    "start_time": "2022-11-12T14:45:54.387Z"
   },
   {
    "duration": 6,
    "start_time": "2022-11-12T14:45:54.612Z"
   },
   {
    "duration": 7,
    "start_time": "2022-11-12T14:45:54.619Z"
   },
   {
    "duration": 7,
    "start_time": "2022-11-12T16:34:27.622Z"
   },
   {
    "duration": 42,
    "start_time": "2022-11-12T16:34:28.259Z"
   },
   {
    "duration": 684,
    "start_time": "2022-11-12T16:34:36.321Z"
   },
   {
    "duration": 3,
    "start_time": "2022-11-12T16:34:37.007Z"
   },
   {
    "duration": 8,
    "start_time": "2022-11-12T16:34:37.011Z"
   },
   {
    "duration": 4440,
    "start_time": "2022-11-12T16:34:37.021Z"
   },
   {
    "duration": 3,
    "start_time": "2022-11-12T16:34:41.463Z"
   },
   {
    "duration": 16867,
    "start_time": "2022-11-12T16:34:41.468Z"
   },
   {
    "duration": 11,
    "start_time": "2022-11-12T16:34:58.337Z"
   },
   {
    "duration": 8,
    "start_time": "2022-11-12T16:34:58.350Z"
   },
   {
    "duration": 10727,
    "start_time": "2022-11-12T16:34:58.360Z"
   },
   {
    "duration": 6,
    "start_time": "2022-11-12T16:35:09.090Z"
   },
   {
    "duration": 12,
    "start_time": "2022-11-12T16:35:09.097Z"
   },
   {
    "duration": 3450,
    "start_time": "2022-11-12T16:35:09.110Z"
   },
   {
    "duration": 8,
    "start_time": "2022-11-12T16:35:12.562Z"
   },
   {
    "duration": 14,
    "start_time": "2022-11-12T16:35:12.571Z"
   },
   {
    "duration": 3369,
    "start_time": "2022-11-12T16:35:12.587Z"
   },
   {
    "duration": 5,
    "start_time": "2022-11-12T16:35:15.958Z"
   },
   {
    "duration": 2578,
    "start_time": "2022-11-12T16:35:15.964Z"
   },
   {
    "duration": 20,
    "start_time": "2022-11-12T16:35:18.544Z"
   },
   {
    "duration": 23,
    "start_time": "2022-11-12T16:35:18.565Z"
   },
   {
    "duration": 13,
    "start_time": "2022-11-12T16:35:18.590Z"
   },
   {
    "duration": 268,
    "start_time": "2022-11-12T16:35:18.605Z"
   },
   {
    "duration": 10,
    "start_time": "2022-11-12T16:35:18.879Z"
   },
   {
    "duration": 247,
    "start_time": "2022-11-12T16:35:18.890Z"
   },
   {
    "duration": 33,
    "start_time": "2022-11-12T16:35:19.138Z"
   },
   {
    "duration": 21,
    "start_time": "2022-11-12T16:35:19.173Z"
   },
   {
    "duration": 3470,
    "start_time": "2022-11-12T16:35:19.196Z"
   },
   {
    "duration": 5,
    "start_time": "2022-11-12T16:35:22.668Z"
   },
   {
    "duration": 82,
    "start_time": "2022-11-12T16:36:08.588Z"
   },
   {
    "duration": 9,
    "start_time": "2022-11-12T16:36:12.180Z"
   },
   {
    "duration": 2,
    "start_time": "2022-11-12T16:37:38.500Z"
   },
   {
    "duration": 5785,
    "start_time": "2022-11-12T16:37:39.915Z"
   },
   {
    "duration": 5,
    "start_time": "2022-11-12T16:37:48.353Z"
   },
   {
    "duration": 9,
    "start_time": "2022-11-12T16:37:56.369Z"
   },
   {
    "duration": 3,
    "start_time": "2022-11-12T16:38:48.880Z"
   },
   {
    "duration": 4209,
    "start_time": "2022-11-12T16:38:49.737Z"
   },
   {
    "duration": 5,
    "start_time": "2022-11-12T16:38:55.970Z"
   },
   {
    "duration": 8,
    "start_time": "2022-11-12T16:39:00.880Z"
   },
   {
    "duration": 8,
    "start_time": "2022-11-12T16:39:09.825Z"
   },
   {
    "duration": 11,
    "start_time": "2022-11-12T16:39:22.646Z"
   },
   {
    "duration": 16,
    "start_time": "2022-11-12T16:42:56.273Z"
   },
   {
    "duration": 2,
    "start_time": "2022-11-12T16:49:18.072Z"
   },
   {
    "duration": 3780,
    "start_time": "2022-11-12T16:49:19.511Z"
   },
   {
    "duration": 4,
    "start_time": "2022-11-12T16:49:24.876Z"
   },
   {
    "duration": 12,
    "start_time": "2022-11-12T16:49:27.802Z"
   },
   {
    "duration": 2,
    "start_time": "2022-11-12T16:55:48.304Z"
   },
   {
    "duration": 2,
    "start_time": "2022-11-12T16:56:06.762Z"
   },
   {
    "duration": 5695,
    "start_time": "2022-11-12T16:56:07.194Z"
   },
   {
    "duration": 4,
    "start_time": "2022-11-12T16:56:14.466Z"
   },
   {
    "duration": 2,
    "start_time": "2022-11-12T16:57:25.173Z"
   },
   {
    "duration": 6389,
    "start_time": "2022-11-12T16:57:25.600Z"
   },
   {
    "duration": 5,
    "start_time": "2022-11-12T16:57:31.991Z"
   },
   {
    "duration": 5,
    "start_time": "2022-11-12T16:57:46.593Z"
   },
   {
    "duration": 4,
    "start_time": "2022-11-12T16:58:22.505Z"
   },
   {
    "duration": 8,
    "start_time": "2022-11-12T16:58:39.680Z"
   },
   {
    "duration": 43,
    "start_time": "2022-11-12T16:58:40.280Z"
   },
   {
    "duration": 754,
    "start_time": "2022-11-12T16:58:51.567Z"
   },
   {
    "duration": 2,
    "start_time": "2022-11-12T16:58:52.323Z"
   },
   {
    "duration": 26,
    "start_time": "2022-11-12T16:58:52.327Z"
   },
   {
    "duration": 4554,
    "start_time": "2022-11-12T16:58:52.356Z"
   },
   {
    "duration": 3,
    "start_time": "2022-11-12T16:58:56.912Z"
   },
   {
    "duration": 16624,
    "start_time": "2022-11-12T16:58:56.917Z"
   },
   {
    "duration": 12,
    "start_time": "2022-11-12T16:59:13.542Z"
   },
   {
    "duration": 11,
    "start_time": "2022-11-12T16:59:13.555Z"
   },
   {
    "duration": 10786,
    "start_time": "2022-11-12T16:59:13.567Z"
   },
   {
    "duration": 8,
    "start_time": "2022-11-12T16:59:24.355Z"
   },
   {
    "duration": 14,
    "start_time": "2022-11-12T16:59:24.365Z"
   },
   {
    "duration": 3436,
    "start_time": "2022-11-12T16:59:24.381Z"
   },
   {
    "duration": 6,
    "start_time": "2022-11-12T16:59:27.819Z"
   },
   {
    "duration": 13,
    "start_time": "2022-11-12T16:59:27.827Z"
   },
   {
    "duration": 3284,
    "start_time": "2022-11-12T16:59:27.841Z"
   },
   {
    "duration": 5,
    "start_time": "2022-11-12T16:59:31.126Z"
   },
   {
    "duration": 2680,
    "start_time": "2022-11-12T16:59:31.133Z"
   },
   {
    "duration": 20,
    "start_time": "2022-11-12T16:59:33.814Z"
   },
   {
    "duration": 23,
    "start_time": "2022-11-12T16:59:33.836Z"
   },
   {
    "duration": 33,
    "start_time": "2022-11-12T16:59:33.861Z"
   },
   {
    "duration": 253,
    "start_time": "2022-11-12T16:59:33.896Z"
   },
   {
    "duration": 10,
    "start_time": "2022-11-12T16:59:34.151Z"
   },
   {
    "duration": 260,
    "start_time": "2022-11-12T16:59:34.163Z"
   },
   {
    "duration": 37,
    "start_time": "2022-11-12T16:59:34.425Z"
   },
   {
    "duration": 7,
    "start_time": "2022-11-12T16:59:34.464Z"
   },
   {
    "duration": 11,
    "start_time": "2022-11-12T16:59:34.473Z"
   },
   {
    "duration": 3236,
    "start_time": "2022-11-12T16:59:34.486Z"
   },
   {
    "duration": 4,
    "start_time": "2022-11-12T16:59:37.726Z"
   },
   {
    "duration": 16,
    "start_time": "2022-11-12T16:59:37.732Z"
   },
   {
    "duration": 3,
    "start_time": "2022-11-12T16:59:37.750Z"
   },
   {
    "duration": 8618,
    "start_time": "2022-11-12T16:59:37.755Z"
   },
   {
    "duration": 5,
    "start_time": "2022-11-12T16:59:46.375Z"
   },
   {
    "duration": 96,
    "start_time": "2022-11-12T17:00:48.458Z"
   },
   {
    "duration": 349,
    "start_time": "2022-11-12T17:00:52.501Z"
   },
   {
    "duration": 13,
    "start_time": "2022-11-12T17:03:01.018Z"
   },
   {
    "duration": 590,
    "start_time": "2022-11-12T17:03:13.736Z"
   },
   {
    "duration": 3,
    "start_time": "2022-11-12T17:05:06.125Z"
   },
   {
    "duration": 718,
    "start_time": "2022-11-12T17:05:20.075Z"
   },
   {
    "duration": 3,
    "start_time": "2022-11-12T17:05:20.795Z"
   },
   {
    "duration": 5,
    "start_time": "2022-11-12T17:05:20.800Z"
   },
   {
    "duration": 4750,
    "start_time": "2022-11-12T17:05:20.807Z"
   },
   {
    "duration": 3,
    "start_time": "2022-11-12T17:05:25.558Z"
   },
   {
    "duration": 16657,
    "start_time": "2022-11-12T17:05:25.562Z"
   },
   {
    "duration": 11,
    "start_time": "2022-11-12T17:05:42.221Z"
   },
   {
    "duration": 3,
    "start_time": "2022-11-12T17:05:42.233Z"
   },
   {
    "duration": 10825,
    "start_time": "2022-11-12T17:05:42.237Z"
   },
   {
    "duration": 6,
    "start_time": "2022-11-12T17:05:53.065Z"
   },
   {
    "duration": 13,
    "start_time": "2022-11-12T17:05:53.079Z"
   },
   {
    "duration": 3431,
    "start_time": "2022-11-12T17:05:53.094Z"
   },
   {
    "duration": 6,
    "start_time": "2022-11-12T17:05:56.526Z"
   },
   {
    "duration": 22,
    "start_time": "2022-11-12T17:05:56.533Z"
   },
   {
    "duration": 3518,
    "start_time": "2022-11-12T17:05:56.557Z"
   },
   {
    "duration": 4,
    "start_time": "2022-11-12T17:06:00.079Z"
   },
   {
    "duration": 2688,
    "start_time": "2022-11-12T17:06:00.085Z"
   },
   {
    "duration": 19,
    "start_time": "2022-11-12T17:06:02.779Z"
   },
   {
    "duration": 24,
    "start_time": "2022-11-12T17:06:02.800Z"
   },
   {
    "duration": 14,
    "start_time": "2022-11-12T17:06:02.826Z"
   },
   {
    "duration": 260,
    "start_time": "2022-11-12T17:06:02.842Z"
   },
   {
    "duration": 8,
    "start_time": "2022-11-12T17:06:03.104Z"
   },
   {
    "duration": 230,
    "start_time": "2022-11-12T17:06:03.113Z"
   },
   {
    "duration": 23,
    "start_time": "2022-11-12T17:06:03.345Z"
   },
   {
    "duration": 20,
    "start_time": "2022-11-12T17:06:03.370Z"
   },
   {
    "duration": 13,
    "start_time": "2022-11-12T17:06:03.392Z"
   },
   {
    "duration": 3345,
    "start_time": "2022-11-12T17:06:03.407Z"
   },
   {
    "duration": 4,
    "start_time": "2022-11-12T17:06:06.755Z"
   },
   {
    "duration": 24,
    "start_time": "2022-11-12T17:06:06.761Z"
   },
   {
    "duration": 3,
    "start_time": "2022-11-12T17:06:06.786Z"
   },
   {
    "duration": 9059,
    "start_time": "2022-11-12T17:06:06.790Z"
   },
   {
    "duration": 5,
    "start_time": "2022-11-12T17:06:15.851Z"
   },
   {
    "duration": 323,
    "start_time": "2022-11-12T17:06:15.857Z"
   },
   {
    "duration": 639,
    "start_time": "2022-11-12T17:06:16.181Z"
   },
   {
    "duration": 3,
    "start_time": "2022-11-12T17:06:50.578Z"
   },
   {
    "duration": 743,
    "start_time": "2022-11-12T17:07:06.195Z"
   },
   {
    "duration": 3,
    "start_time": "2022-11-12T17:07:06.941Z"
   },
   {
    "duration": 13,
    "start_time": "2022-11-12T17:07:06.946Z"
   },
   {
    "duration": 4936,
    "start_time": "2022-11-12T17:07:06.961Z"
   },
   {
    "duration": 4,
    "start_time": "2022-11-12T17:07:11.899Z"
   },
   {
    "duration": 16158,
    "start_time": "2022-11-12T17:07:11.905Z"
   },
   {
    "duration": 15,
    "start_time": "2022-11-12T17:07:28.065Z"
   },
   {
    "duration": 31,
    "start_time": "2022-11-12T17:07:28.082Z"
   },
   {
    "duration": 10673,
    "start_time": "2022-11-12T17:07:28.115Z"
   },
   {
    "duration": 7,
    "start_time": "2022-11-12T17:07:38.790Z"
   },
   {
    "duration": 15,
    "start_time": "2022-11-12T17:07:38.799Z"
   },
   {
    "duration": 3426,
    "start_time": "2022-11-12T17:07:38.815Z"
   },
   {
    "duration": 6,
    "start_time": "2022-11-12T17:07:42.243Z"
   },
   {
    "duration": 12,
    "start_time": "2022-11-12T17:07:42.250Z"
   },
   {
    "duration": 3380,
    "start_time": "2022-11-12T17:07:42.263Z"
   },
   {
    "duration": 4,
    "start_time": "2022-11-12T17:07:45.645Z"
   },
   {
    "duration": 2623,
    "start_time": "2022-11-12T17:07:45.651Z"
   },
   {
    "duration": 20,
    "start_time": "2022-11-12T17:07:48.279Z"
   },
   {
    "duration": 9,
    "start_time": "2022-11-12T17:07:48.301Z"
   },
   {
    "duration": 25,
    "start_time": "2022-11-12T17:07:48.312Z"
   },
   {
    "duration": 255,
    "start_time": "2022-11-12T17:07:48.338Z"
   },
   {
    "duration": 10,
    "start_time": "2022-11-12T17:07:48.595Z"
   },
   {
    "duration": 264,
    "start_time": "2022-11-12T17:07:48.607Z"
   },
   {
    "duration": 28,
    "start_time": "2022-11-12T17:07:48.872Z"
   },
   {
    "duration": 22,
    "start_time": "2022-11-12T17:07:48.902Z"
   },
   {
    "duration": 23,
    "start_time": "2022-11-12T17:07:48.926Z"
   },
   {
    "duration": 3199,
    "start_time": "2022-11-12T17:07:48.951Z"
   },
   {
    "duration": 5,
    "start_time": "2022-11-12T17:07:52.153Z"
   },
   {
    "duration": 29,
    "start_time": "2022-11-12T17:07:52.159Z"
   },
   {
    "duration": 19,
    "start_time": "2022-11-12T17:07:52.189Z"
   },
   {
    "duration": 8261,
    "start_time": "2022-11-12T17:07:52.210Z"
   },
   {
    "duration": 8,
    "start_time": "2022-11-12T17:08:00.473Z"
   },
   {
    "duration": 352,
    "start_time": "2022-11-12T17:08:00.483Z"
   },
   {
    "duration": 621,
    "start_time": "2022-11-12T17:08:00.837Z"
   },
   {
    "duration": 3,
    "start_time": "2022-11-12T17:11:01.355Z"
   },
   {
    "duration": 4553,
    "start_time": "2022-11-12T17:11:01.936Z"
   },
   {
    "duration": 7,
    "start_time": "2022-11-12T17:11:07.241Z"
   },
   {
    "duration": 3,
    "start_time": "2022-11-12T17:38:10.170Z"
   },
   {
    "duration": 760,
    "start_time": "2022-11-12T17:38:32.958Z"
   },
   {
    "duration": 3,
    "start_time": "2022-11-12T17:38:33.720Z"
   },
   {
    "duration": 9,
    "start_time": "2022-11-12T17:38:33.724Z"
   },
   {
    "duration": 4801,
    "start_time": "2022-11-12T17:38:33.735Z"
   },
   {
    "duration": 3,
    "start_time": "2022-11-12T17:38:38.537Z"
   },
   {
    "duration": 16917,
    "start_time": "2022-11-12T17:38:38.542Z"
   },
   {
    "duration": 20,
    "start_time": "2022-11-12T17:38:55.461Z"
   },
   {
    "duration": 24,
    "start_time": "2022-11-12T17:38:55.483Z"
   },
   {
    "duration": 11219,
    "start_time": "2022-11-12T17:38:55.508Z"
   },
   {
    "duration": 7,
    "start_time": "2022-11-12T17:39:06.730Z"
   },
   {
    "duration": 17,
    "start_time": "2022-11-12T17:39:06.739Z"
   },
   {
    "duration": 3469,
    "start_time": "2022-11-12T17:39:06.758Z"
   },
   {
    "duration": 6,
    "start_time": "2022-11-12T17:39:10.229Z"
   },
   {
    "duration": 49,
    "start_time": "2022-11-12T17:39:10.238Z"
   },
   {
    "duration": 3546,
    "start_time": "2022-11-12T17:39:10.289Z"
   },
   {
    "duration": 5,
    "start_time": "2022-11-12T17:39:13.837Z"
   },
   {
    "duration": 2755,
    "start_time": "2022-11-12T17:39:13.844Z"
   },
   {
    "duration": 19,
    "start_time": "2022-11-12T17:39:16.601Z"
   },
   {
    "duration": 27,
    "start_time": "2022-11-12T17:39:16.621Z"
   },
   {
    "duration": 37,
    "start_time": "2022-11-12T17:39:16.650Z"
   },
   {
    "duration": 284,
    "start_time": "2022-11-12T17:39:16.689Z"
   },
   {
    "duration": 10,
    "start_time": "2022-11-12T17:39:16.979Z"
   },
   {
    "duration": 247,
    "start_time": "2022-11-12T17:39:16.991Z"
   },
   {
    "duration": 33,
    "start_time": "2022-11-12T17:39:17.239Z"
   },
   {
    "duration": 35,
    "start_time": "2022-11-12T17:39:17.274Z"
   },
   {
    "duration": 24,
    "start_time": "2022-11-12T17:39:17.312Z"
   },
   {
    "duration": 3401,
    "start_time": "2022-11-12T17:39:17.338Z"
   },
   {
    "duration": 5,
    "start_time": "2022-11-12T17:39:20.742Z"
   },
   {
    "duration": 31,
    "start_time": "2022-11-12T17:39:20.749Z"
   },
   {
    "duration": 3,
    "start_time": "2022-11-12T17:39:20.782Z"
   },
   {
    "duration": 693,
    "start_time": "2022-11-12T17:45:09.318Z"
   },
   {
    "duration": 3,
    "start_time": "2022-11-12T17:45:10.013Z"
   },
   {
    "duration": 24,
    "start_time": "2022-11-12T17:45:10.017Z"
   },
   {
    "duration": 8950,
    "start_time": "2022-11-12T17:45:10.043Z"
   },
   {
    "duration": 4,
    "start_time": "2022-11-12T17:45:18.994Z"
   },
   {
    "duration": 16688,
    "start_time": "2022-11-12T17:45:18.999Z"
   },
   {
    "duration": 13,
    "start_time": "2022-11-12T17:45:35.688Z"
   },
   {
    "duration": 5,
    "start_time": "2022-11-12T17:45:35.703Z"
   },
   {
    "duration": 10919,
    "start_time": "2022-11-12T17:45:35.710Z"
   },
   {
    "duration": 7,
    "start_time": "2022-11-12T17:45:46.632Z"
   },
   {
    "duration": 10,
    "start_time": "2022-11-12T17:45:46.640Z"
   },
   {
    "duration": 3502,
    "start_time": "2022-11-12T17:45:46.651Z"
   },
   {
    "duration": 6,
    "start_time": "2022-11-12T17:45:50.155Z"
   },
   {
    "duration": 8,
    "start_time": "2022-11-12T17:45:50.163Z"
   },
   {
    "duration": 3392,
    "start_time": "2022-11-12T17:45:50.173Z"
   },
   {
    "duration": 4,
    "start_time": "2022-11-12T17:45:53.567Z"
   },
   {
    "duration": 2607,
    "start_time": "2022-11-12T17:45:53.579Z"
   },
   {
    "duration": 20,
    "start_time": "2022-11-12T17:45:56.188Z"
   },
   {
    "duration": 9,
    "start_time": "2022-11-12T17:45:56.210Z"
   },
   {
    "duration": 19,
    "start_time": "2022-11-12T17:45:56.220Z"
   },
   {
    "duration": 242,
    "start_time": "2022-11-12T17:45:56.241Z"
   },
   {
    "duration": 8,
    "start_time": "2022-11-12T17:45:56.485Z"
   },
   {
    "duration": 223,
    "start_time": "2022-11-12T17:45:56.494Z"
   },
   {
    "duration": 6,
    "start_time": "2022-11-12T17:45:56.719Z"
   },
   {
    "duration": 6,
    "start_time": "2022-11-12T17:45:56.727Z"
   },
   {
    "duration": 8,
    "start_time": "2022-11-12T17:45:56.734Z"
   },
   {
    "duration": 3259,
    "start_time": "2022-11-12T17:45:56.743Z"
   },
   {
    "duration": 5,
    "start_time": "2022-11-12T17:46:00.005Z"
   },
   {
    "duration": 33,
    "start_time": "2022-11-12T17:46:00.011Z"
   },
   {
    "duration": 10,
    "start_time": "2022-11-12T17:46:00.046Z"
   },
   {
    "duration": 7,
    "start_time": "2022-11-12T17:46:35.495Z"
   },
   {
    "duration": 42,
    "start_time": "2022-11-12T17:46:36.022Z"
   },
   {
    "duration": 6,
    "start_time": "2022-11-12T17:46:44.337Z"
   },
   {
    "duration": 56,
    "start_time": "2022-11-15T18:43:27.610Z"
   },
   {
    "duration": 3,
    "start_time": "2022-11-15T18:43:31.664Z"
   },
   {
    "duration": 872,
    "start_time": "2022-11-15T18:43:39.249Z"
   },
   {
    "duration": 5,
    "start_time": "2022-11-15T18:43:40.124Z"
   },
   {
    "duration": 8,
    "start_time": "2022-11-15T18:43:40.130Z"
   },
   {
    "duration": 6013,
    "start_time": "2022-11-15T18:43:40.140Z"
   },
   {
    "duration": 3,
    "start_time": "2022-11-15T18:43:46.155Z"
   },
   {
    "duration": 17293,
    "start_time": "2022-11-15T18:43:46.160Z"
   },
   {
    "duration": 13,
    "start_time": "2022-11-15T18:44:03.455Z"
   },
   {
    "duration": 6,
    "start_time": "2022-11-15T18:44:03.469Z"
   },
   {
    "duration": 11886,
    "start_time": "2022-11-15T18:44:03.476Z"
   },
   {
    "duration": 7,
    "start_time": "2022-11-15T18:44:15.366Z"
   },
   {
    "duration": 26,
    "start_time": "2022-11-15T18:44:15.375Z"
   },
   {
    "duration": 3808,
    "start_time": "2022-11-15T18:44:15.403Z"
   },
   {
    "duration": 14,
    "start_time": "2022-11-15T18:44:19.213Z"
   },
   {
    "duration": 26,
    "start_time": "2022-11-15T18:44:19.231Z"
   },
   {
    "duration": 3689,
    "start_time": "2022-11-15T18:44:19.260Z"
   },
   {
    "duration": 5,
    "start_time": "2022-11-15T18:44:22.951Z"
   },
   {
    "duration": 2832,
    "start_time": "2022-11-15T18:44:22.957Z"
   },
   {
    "duration": 32,
    "start_time": "2022-11-15T18:44:25.791Z"
   },
   {
    "duration": 25,
    "start_time": "2022-11-15T18:44:25.826Z"
   },
   {
    "duration": 16,
    "start_time": "2022-11-15T18:44:25.853Z"
   },
   {
    "duration": 272,
    "start_time": "2022-11-15T18:44:25.871Z"
   },
   {
    "duration": 9,
    "start_time": "2022-11-15T18:44:26.145Z"
   },
   {
    "duration": 253,
    "start_time": "2022-11-15T18:44:26.156Z"
   },
   {
    "duration": 34,
    "start_time": "2022-11-15T18:44:26.411Z"
   },
   {
    "duration": 6,
    "start_time": "2022-11-15T18:44:26.447Z"
   },
   {
    "duration": 10,
    "start_time": "2022-11-15T18:44:26.454Z"
   },
   {
    "duration": 3469,
    "start_time": "2022-11-15T18:44:26.467Z"
   },
   {
    "duration": 5,
    "start_time": "2022-11-15T18:44:29.940Z"
   },
   {
    "duration": 24,
    "start_time": "2022-11-15T18:44:29.947Z"
   },
   {
    "duration": 3,
    "start_time": "2022-11-15T18:44:29.973Z"
   },
   {
    "duration": 770,
    "start_time": "2022-11-15T18:45:28.221Z"
   },
   {
    "duration": 3,
    "start_time": "2022-11-15T18:45:28.993Z"
   },
   {
    "duration": 6,
    "start_time": "2022-11-15T18:45:28.998Z"
   },
   {
    "duration": 5596,
    "start_time": "2022-11-15T18:45:29.005Z"
   },
   {
    "duration": 3,
    "start_time": "2022-11-15T18:45:34.602Z"
   },
   {
    "duration": 17020,
    "start_time": "2022-11-15T18:45:34.606Z"
   },
   {
    "duration": 13,
    "start_time": "2022-11-15T18:45:51.629Z"
   },
   {
    "duration": 5,
    "start_time": "2022-11-15T18:45:51.643Z"
   },
   {
    "duration": 11707,
    "start_time": "2022-11-15T18:45:51.649Z"
   },
   {
    "duration": 7,
    "start_time": "2022-11-15T18:46:03.359Z"
   },
   {
    "duration": 7,
    "start_time": "2022-11-15T18:46:03.368Z"
   },
   {
    "duration": 3656,
    "start_time": "2022-11-15T18:46:03.377Z"
   },
   {
    "duration": 8,
    "start_time": "2022-11-15T18:46:07.035Z"
   },
   {
    "duration": 7,
    "start_time": "2022-11-15T18:46:07.045Z"
   },
   {
    "duration": 3536,
    "start_time": "2022-11-15T18:46:07.054Z"
   },
   {
    "duration": 5,
    "start_time": "2022-11-15T18:46:10.592Z"
   },
   {
    "duration": 2725,
    "start_time": "2022-11-15T18:46:10.598Z"
   },
   {
    "duration": 21,
    "start_time": "2022-11-15T18:46:13.326Z"
   },
   {
    "duration": 12,
    "start_time": "2022-11-15T18:46:13.348Z"
   },
   {
    "duration": 13,
    "start_time": "2022-11-15T18:46:13.362Z"
   },
   {
    "duration": 267,
    "start_time": "2022-11-15T18:46:13.376Z"
   },
   {
    "duration": 10,
    "start_time": "2022-11-15T18:46:13.644Z"
   },
   {
    "duration": 236,
    "start_time": "2022-11-15T18:46:13.656Z"
   },
   {
    "duration": 14,
    "start_time": "2022-11-15T18:46:13.894Z"
   },
   {
    "duration": 14,
    "start_time": "2022-11-15T18:46:13.916Z"
   },
   {
    "duration": 3640,
    "start_time": "2022-11-15T18:46:13.931Z"
   },
   {
    "duration": 6,
    "start_time": "2022-11-15T18:46:17.573Z"
   },
   {
    "duration": 15,
    "start_time": "2022-11-15T18:46:17.582Z"
   },
   {
    "duration": 3842,
    "start_time": "2022-11-15T18:46:17.598Z"
   },
   {
    "duration": 3,
    "start_time": "2022-11-15T18:48:32.459Z"
   },
   {
    "duration": 1622,
    "start_time": "2022-11-15T18:48:33.388Z"
   },
   {
    "duration": 178,
    "start_time": "2022-11-15T18:48:58.159Z"
   },
   {
    "duration": 100,
    "start_time": "2022-11-15T18:56:46.402Z"
   },
   {
    "duration": 38,
    "start_time": "2022-11-15T18:56:50.914Z"
   },
   {
    "duration": 20,
    "start_time": "2022-11-15T18:57:42.465Z"
   },
   {
    "duration": 20,
    "start_time": "2022-11-15T18:58:01.576Z"
   },
   {
    "duration": 41,
    "start_time": "2022-11-15T18:58:29.656Z"
   },
   {
    "duration": 45,
    "start_time": "2022-11-15T18:58:46.099Z"
   },
   {
    "duration": 22,
    "start_time": "2022-11-15T19:01:19.440Z"
   },
   {
    "duration": 9,
    "start_time": "2022-11-15T19:01:33.542Z"
   },
   {
    "duration": 4,
    "start_time": "2022-11-15T19:02:04.897Z"
   },
   {
    "duration": 1737,
    "start_time": "2022-11-15T19:02:05.470Z"
   },
   {
    "duration": 231,
    "start_time": "2022-11-15T19:02:07.755Z"
   },
   {
    "duration": 49,
    "start_time": "2022-11-15T19:02:13.139Z"
   },
   {
    "duration": 41,
    "start_time": "2022-11-15T19:02:14.128Z"
   },
   {
    "duration": 239,
    "start_time": "2022-11-15T19:02:15.353Z"
   },
   {
    "duration": 28,
    "start_time": "2022-11-15T19:03:01.086Z"
   },
   {
    "duration": 9,
    "start_time": "2022-11-15T19:03:37.644Z"
   },
   {
    "duration": 6,
    "start_time": "2022-11-15T19:03:41.182Z"
   },
   {
    "duration": 17,
    "start_time": "2022-11-15T19:05:45.987Z"
   },
   {
    "duration": 3,
    "start_time": "2022-11-15T19:10:51.195Z"
   },
   {
    "duration": 1834,
    "start_time": "2022-11-15T19:10:51.836Z"
   },
   {
    "duration": 221,
    "start_time": "2022-11-15T19:10:55.014Z"
   },
   {
    "duration": 40,
    "start_time": "2022-11-15T19:10:59.653Z"
   },
   {
    "duration": 55,
    "start_time": "2022-11-15T19:11:00.716Z"
   },
   {
    "duration": 205,
    "start_time": "2022-11-15T19:11:01.500Z"
   },
   {
    "duration": 28,
    "start_time": "2022-11-15T19:11:06.741Z"
   },
   {
    "duration": 4,
    "start_time": "2022-11-15T19:12:44.768Z"
   },
   {
    "duration": 2029,
    "start_time": "2022-11-15T19:12:45.343Z"
   },
   {
    "duration": 175,
    "start_time": "2022-11-15T19:12:47.373Z"
   },
   {
    "duration": 49,
    "start_time": "2022-11-15T19:12:51.289Z"
   },
   {
    "duration": 34,
    "start_time": "2022-11-15T19:12:54.369Z"
   },
   {
    "duration": 184,
    "start_time": "2022-11-15T19:12:55.095Z"
   },
   {
    "duration": 34,
    "start_time": "2022-11-15T19:12:57.110Z"
   },
   {
    "duration": 7,
    "start_time": "2022-11-15T19:13:02.602Z"
   },
   {
    "duration": 18,
    "start_time": "2022-11-15T19:13:05.882Z"
   },
   {
    "duration": 3,
    "start_time": "2022-11-15T19:15:14.660Z"
   },
   {
    "duration": 6057,
    "start_time": "2022-11-15T19:15:15.293Z"
   },
   {
    "duration": 183,
    "start_time": "2022-11-15T19:15:22.191Z"
   },
   {
    "duration": 45,
    "start_time": "2022-11-15T19:15:26.111Z"
   },
   {
    "duration": 35,
    "start_time": "2022-11-15T19:15:26.639Z"
   },
   {
    "duration": 197,
    "start_time": "2022-11-15T19:15:27.176Z"
   },
   {
    "duration": 48,
    "start_time": "2022-11-15T19:15:29.498Z"
   },
   {
    "duration": 7,
    "start_time": "2022-11-15T19:15:32.473Z"
   },
   {
    "duration": 24,
    "start_time": "2022-11-15T19:15:33.330Z"
   },
   {
    "duration": 3,
    "start_time": "2022-11-15T19:21:51.356Z"
   },
   {
    "duration": 21347,
    "start_time": "2022-11-15T19:21:52.482Z"
   },
   {
    "duration": 107,
    "start_time": "2022-11-15T19:22:13.831Z"
   },
   {
    "duration": 24,
    "start_time": "2022-11-15T19:22:37.651Z"
   },
   {
    "duration": 22,
    "start_time": "2022-11-15T19:22:39.007Z"
   },
   {
    "duration": 97,
    "start_time": "2022-11-15T19:22:39.880Z"
   },
   {
    "duration": 35,
    "start_time": "2022-11-15T19:22:46.133Z"
   },
   {
    "duration": 5,
    "start_time": "2022-11-15T19:22:50.640Z"
   },
   {
    "duration": 23,
    "start_time": "2022-11-15T19:22:51.298Z"
   },
   {
    "duration": 3,
    "start_time": "2022-11-15T19:24:15.079Z"
   },
   {
    "duration": 1989,
    "start_time": "2022-11-15T19:24:18.915Z"
   },
   {
    "duration": 161,
    "start_time": "2022-11-15T19:24:24.263Z"
   },
   {
    "duration": 38,
    "start_time": "2022-11-15T19:24:28.391Z"
   },
   {
    "duration": 30,
    "start_time": "2022-11-15T19:24:29.967Z"
   },
   {
    "duration": 187,
    "start_time": "2022-11-15T19:24:30.831Z"
   },
   {
    "duration": 40,
    "start_time": "2022-11-15T19:24:33.828Z"
   },
   {
    "duration": 8,
    "start_time": "2022-11-15T19:24:37.417Z"
   },
   {
    "duration": 22,
    "start_time": "2022-11-15T19:27:44.742Z"
   },
   {
    "duration": 37,
    "start_time": "2022-11-15T19:32:35.117Z"
   },
   {
    "duration": 40,
    "start_time": "2022-11-15T19:32:50.868Z"
   },
   {
    "duration": 3,
    "start_time": "2022-11-15T19:35:21.607Z"
   },
   {
    "duration": 18984,
    "start_time": "2022-11-15T19:35:26.383Z"
   },
   {
    "duration": 94,
    "start_time": "2022-11-15T19:35:48.683Z"
   },
   {
    "duration": 18,
    "start_time": "2022-11-15T19:35:56.364Z"
   },
   {
    "duration": 18,
    "start_time": "2022-11-15T19:35:57.053Z"
   },
   {
    "duration": 105,
    "start_time": "2022-11-15T19:35:57.600Z"
   },
   {
    "duration": 44,
    "start_time": "2022-11-15T19:36:01.306Z"
   },
   {
    "duration": 5,
    "start_time": "2022-11-15T19:36:05.691Z"
   },
   {
    "duration": 20,
    "start_time": "2022-11-15T19:36:08.839Z"
   },
   {
    "duration": 39,
    "start_time": "2022-11-15T19:36:25.200Z"
   },
   {
    "duration": 6,
    "start_time": "2022-11-15T19:37:20.107Z"
   },
   {
    "duration": 26,
    "start_time": "2022-11-15T19:38:02.817Z"
   },
   {
    "duration": 21,
    "start_time": "2022-11-15T19:38:14.682Z"
   },
   {
    "duration": 19,
    "start_time": "2022-11-15T19:45:25.138Z"
   },
   {
    "duration": 865,
    "start_time": "2022-11-15T19:48:46.208Z"
   },
   {
    "duration": 14,
    "start_time": "2022-11-15T19:48:55.880Z"
   },
   {
    "duration": 17,
    "start_time": "2022-11-15T19:51:29.862Z"
   },
   {
    "duration": 18,
    "start_time": "2022-11-15T19:54:17.727Z"
   },
   {
    "duration": 1166,
    "start_time": "2022-11-15T20:00:14.368Z"
   },
   {
    "duration": 18,
    "start_time": "2022-11-15T20:00:40.400Z"
   },
   {
    "duration": 125,
    "start_time": "2022-11-15T20:01:56.870Z"
   },
   {
    "duration": 62,
    "start_time": "2022-11-15T20:02:28.438Z"
   },
   {
    "duration": 10,
    "start_time": "2022-11-15T20:05:39.451Z"
   },
   {
    "duration": 13,
    "start_time": "2022-11-15T20:06:25.363Z"
   },
   {
    "duration": 3,
    "start_time": "2022-11-15T20:08:56.230Z"
   },
   {
    "duration": 20861,
    "start_time": "2022-11-15T20:08:58.108Z"
   },
   {
    "duration": 94,
    "start_time": "2022-11-15T20:09:20.606Z"
   },
   {
    "duration": 19,
    "start_time": "2022-11-15T20:09:25.006Z"
   },
   {
    "duration": 18,
    "start_time": "2022-11-15T20:09:27.285Z"
   },
   {
    "duration": 14,
    "start_time": "2022-11-15T20:09:28.221Z"
   },
   {
    "duration": 18,
    "start_time": "2022-11-15T20:09:28.791Z"
   },
   {
    "duration": 17,
    "start_time": "2022-11-15T20:09:29.302Z"
   },
   {
    "duration": 18,
    "start_time": "2022-11-15T20:09:29.799Z"
   },
   {
    "duration": 140,
    "start_time": "2022-11-15T20:09:32.017Z"
   },
   {
    "duration": 62,
    "start_time": "2022-11-15T20:09:32.467Z"
   },
   {
    "duration": 12,
    "start_time": "2022-11-15T20:09:33.079Z"
   },
   {
    "duration": 8,
    "start_time": "2022-11-15T20:09:33.750Z"
   },
   {
    "duration": 11,
    "start_time": "2022-11-15T20:09:34.639Z"
   },
   {
    "duration": 84,
    "start_time": "2022-11-15T20:09:35.542Z"
   },
   {
    "duration": 31,
    "start_time": "2022-11-15T20:10:25.304Z"
   },
   {
    "duration": 12,
    "start_time": "2022-11-15T20:12:14.675Z"
   },
   {
    "duration": 35,
    "start_time": "2022-11-15T20:12:33.750Z"
   },
   {
    "duration": 45,
    "start_time": "2022-11-15T20:12:58.819Z"
   },
   {
    "duration": 82,
    "start_time": "2022-11-15T20:13:00.404Z"
   },
   {
    "duration": 755,
    "start_time": "2022-11-15T20:14:01.706Z"
   },
   {
    "duration": 3,
    "start_time": "2022-11-15T20:14:02.463Z"
   },
   {
    "duration": 6,
    "start_time": "2022-11-15T20:14:02.468Z"
   },
   {
    "duration": 5211,
    "start_time": "2022-11-15T20:14:02.477Z"
   },
   {
    "duration": 3,
    "start_time": "2022-11-15T20:14:07.690Z"
   },
   {
    "duration": 17050,
    "start_time": "2022-11-15T20:14:07.695Z"
   },
   {
    "duration": 13,
    "start_time": "2022-11-15T20:14:24.747Z"
   },
   {
    "duration": 6,
    "start_time": "2022-11-15T20:14:24.761Z"
   },
   {
    "duration": 11159,
    "start_time": "2022-11-15T20:14:24.768Z"
   },
   {
    "duration": 7,
    "start_time": "2022-11-15T20:14:35.930Z"
   },
   {
    "duration": 16,
    "start_time": "2022-11-15T20:14:35.938Z"
   },
   {
    "duration": 3659,
    "start_time": "2022-11-15T20:14:35.956Z"
   },
   {
    "duration": 6,
    "start_time": "2022-11-15T20:14:39.618Z"
   },
   {
    "duration": 6,
    "start_time": "2022-11-15T20:14:39.626Z"
   },
   {
    "duration": 3428,
    "start_time": "2022-11-15T20:14:39.633Z"
   },
   {
    "duration": 5,
    "start_time": "2022-11-15T20:14:43.063Z"
   },
   {
    "duration": 2760,
    "start_time": "2022-11-15T20:14:43.069Z"
   },
   {
    "duration": 19,
    "start_time": "2022-11-15T20:14:45.831Z"
   },
   {
    "duration": 8,
    "start_time": "2022-11-15T20:14:45.852Z"
   },
   {
    "duration": 21,
    "start_time": "2022-11-15T20:14:45.862Z"
   },
   {
    "duration": 302,
    "start_time": "2022-11-15T20:14:45.885Z"
   },
   {
    "duration": 9,
    "start_time": "2022-11-15T20:14:46.189Z"
   },
   {
    "duration": 256,
    "start_time": "2022-11-15T20:14:46.200Z"
   },
   {
    "duration": 10,
    "start_time": "2022-11-15T20:14:46.458Z"
   },
   {
    "duration": 9,
    "start_time": "2022-11-15T20:14:46.470Z"
   },
   {
    "duration": 3524,
    "start_time": "2022-11-15T20:14:46.481Z"
   },
   {
    "duration": 9,
    "start_time": "2022-11-15T20:14:50.007Z"
   },
   {
    "duration": 14,
    "start_time": "2022-11-15T20:14:50.020Z"
   },
   {
    "duration": 26,
    "start_time": "2022-11-15T20:14:50.036Z"
   },
   {
    "duration": 21356,
    "start_time": "2022-11-15T20:14:50.069Z"
   },
   {
    "duration": 74,
    "start_time": "2022-11-15T20:15:11.426Z"
   },
   {
    "duration": 24,
    "start_time": "2022-11-15T20:15:11.502Z"
   },
   {
    "duration": 14,
    "start_time": "2022-11-15T20:15:11.527Z"
   },
   {
    "duration": 11,
    "start_time": "2022-11-15T20:15:11.543Z"
   },
   {
    "duration": 12,
    "start_time": "2022-11-15T20:15:11.556Z"
   },
   {
    "duration": 17,
    "start_time": "2022-11-15T20:15:11.570Z"
   },
   {
    "duration": 34,
    "start_time": "2022-11-15T20:15:11.589Z"
   },
   {
    "duration": 95,
    "start_time": "2022-11-15T20:15:11.624Z"
   },
   {
    "duration": 10,
    "start_time": "2022-11-15T20:15:11.720Z"
   },
   {
    "duration": 10,
    "start_time": "2022-11-15T20:15:11.732Z"
   },
   {
    "duration": 8,
    "start_time": "2022-11-15T20:15:11.744Z"
   },
   {
    "duration": 10,
    "start_time": "2022-11-15T20:15:11.754Z"
   },
   {
    "duration": 80,
    "start_time": "2022-11-15T20:15:11.766Z"
   },
   {
    "duration": 36,
    "start_time": "2022-11-15T20:15:11.847Z"
   },
   {
    "duration": 74,
    "start_time": "2022-11-15T20:15:11.885Z"
   },
   {
    "duration": 12,
    "start_time": "2022-11-15T20:15:11.961Z"
   },
   {
    "duration": 39,
    "start_time": "2022-11-15T20:15:11.975Z"
   },
   {
    "duration": 13,
    "start_time": "2022-11-15T20:15:12.016Z"
   },
   {
    "duration": 18,
    "start_time": "2022-11-15T20:15:12.030Z"
   },
   {
    "duration": 8,
    "start_time": "2022-11-15T20:15:12.049Z"
   },
   {
    "duration": 18,
    "start_time": "2022-11-15T20:15:12.059Z"
   },
   {
    "duration": 27,
    "start_time": "2022-11-15T20:15:12.079Z"
   },
   {
    "duration": 18,
    "start_time": "2022-11-15T20:15:12.108Z"
   },
   {
    "duration": 10,
    "start_time": "2022-11-15T20:15:12.128Z"
   },
   {
    "duration": 34,
    "start_time": "2022-11-15T20:15:12.139Z"
   },
   {
    "duration": 1022,
    "start_time": "2022-11-15T20:15:12.175Z"
   },
   {
    "duration": 3,
    "start_time": "2022-11-15T20:16:24.522Z"
   },
   {
    "duration": 20098,
    "start_time": "2022-11-15T20:16:25.794Z"
   },
   {
    "duration": 110,
    "start_time": "2022-11-15T20:16:47.385Z"
   },
   {
    "duration": 4,
    "start_time": "2022-11-15T20:16:52.448Z"
   },
   {
    "duration": 16,
    "start_time": "2022-11-15T20:16:58.512Z"
   },
   {
    "duration": 23,
    "start_time": "2022-11-15T20:16:58.878Z"
   },
   {
    "duration": 14,
    "start_time": "2022-11-15T20:16:59.225Z"
   },
   {
    "duration": 19,
    "start_time": "2022-11-15T20:16:59.584Z"
   },
   {
    "duration": 17,
    "start_time": "2022-11-15T20:16:59.966Z"
   },
   {
    "duration": 19,
    "start_time": "2022-11-15T20:17:00.744Z"
   },
   {
    "duration": 114,
    "start_time": "2022-11-15T20:17:01.217Z"
   },
   {
    "duration": 12,
    "start_time": "2022-11-15T20:17:01.665Z"
   },
   {
    "duration": 12,
    "start_time": "2022-11-15T20:17:02.468Z"
   },
   {
    "duration": 7,
    "start_time": "2022-11-15T20:17:04.280Z"
   },
   {
    "duration": 10,
    "start_time": "2022-11-15T20:17:07.504Z"
   },
   {
    "duration": 88,
    "start_time": "2022-11-15T20:17:08.009Z"
   },
   {
    "duration": 44,
    "start_time": "2022-11-15T20:17:09.303Z"
   },
   {
    "duration": 86,
    "start_time": "2022-11-15T20:17:12.162Z"
   },
   {
    "duration": 13,
    "start_time": "2022-11-15T20:17:16.720Z"
   },
   {
    "duration": 14,
    "start_time": "2022-11-15T20:17:21.186Z"
   },
   {
    "duration": 10,
    "start_time": "2022-11-15T20:17:24.009Z"
   },
   {
    "duration": 17,
    "start_time": "2022-11-15T20:17:30.232Z"
   },
   {
    "duration": 26,
    "start_time": "2022-11-15T20:17:58.290Z"
   },
   {
    "duration": 3,
    "start_time": "2022-11-15T20:20:14.319Z"
   },
   {
    "duration": 21738,
    "start_time": "2022-11-15T20:20:15.507Z"
   },
   {
    "duration": 108,
    "start_time": "2022-11-15T20:20:37.247Z"
   },
   {
    "duration": 5,
    "start_time": "2022-11-15T20:20:38.649Z"
   },
   {
    "duration": 18,
    "start_time": "2022-11-15T20:20:42.534Z"
   },
   {
    "duration": 20,
    "start_time": "2022-11-15T20:20:43.175Z"
   },
   {
    "duration": 15,
    "start_time": "2022-11-15T20:20:43.680Z"
   },
   {
    "duration": 19,
    "start_time": "2022-11-15T20:20:44.111Z"
   },
   {
    "duration": 18,
    "start_time": "2022-11-15T20:20:44.543Z"
   },
   {
    "duration": 19,
    "start_time": "2022-11-15T20:20:45.028Z"
   },
   {
    "duration": 125,
    "start_time": "2022-11-15T20:20:45.527Z"
   },
   {
    "duration": 13,
    "start_time": "2022-11-15T20:20:46.006Z"
   },
   {
    "duration": 10,
    "start_time": "2022-11-15T20:20:46.794Z"
   },
   {
    "duration": 7,
    "start_time": "2022-11-15T20:20:46.997Z"
   },
   {
    "duration": 11,
    "start_time": "2022-11-15T20:20:47.546Z"
   },
   {
    "duration": 98,
    "start_time": "2022-11-15T20:20:47.998Z"
   },
   {
    "duration": 8,
    "start_time": "2022-11-15T20:20:48.791Z"
   },
   {
    "duration": 7,
    "start_time": "2022-11-15T20:20:49.992Z"
   },
   {
    "duration": 8,
    "start_time": "2022-11-15T20:21:14.483Z"
   },
   {
    "duration": 3,
    "start_time": "2022-11-15T20:22:08.949Z"
   },
   {
    "duration": 19665,
    "start_time": "2022-11-15T20:22:10.032Z"
   },
   {
    "duration": 123,
    "start_time": "2022-11-15T20:22:30.645Z"
   },
   {
    "duration": 5,
    "start_time": "2022-11-15T20:22:33.656Z"
   },
   {
    "duration": 22,
    "start_time": "2022-11-15T20:22:36.660Z"
   },
   {
    "duration": 21,
    "start_time": "2022-11-15T20:22:36.972Z"
   },
   {
    "duration": 15,
    "start_time": "2022-11-15T20:22:37.165Z"
   },
   {
    "duration": 21,
    "start_time": "2022-11-15T20:22:37.462Z"
   },
   {
    "duration": 22,
    "start_time": "2022-11-15T20:22:38.032Z"
   },
   {
    "duration": 20,
    "start_time": "2022-11-15T20:22:38.235Z"
   },
   {
    "duration": 127,
    "start_time": "2022-11-15T20:22:38.733Z"
   },
   {
    "duration": 13,
    "start_time": "2022-11-15T20:22:39.282Z"
   },
   {
    "duration": 10,
    "start_time": "2022-11-15T20:22:40.078Z"
   },
   {
    "duration": 6,
    "start_time": "2022-11-15T20:22:41.275Z"
   },
   {
    "duration": 11,
    "start_time": "2022-11-15T20:22:41.930Z"
   },
   {
    "duration": 78,
    "start_time": "2022-11-15T20:22:42.486Z"
   },
   {
    "duration": 45,
    "start_time": "2022-11-15T20:22:44.367Z"
   },
   {
    "duration": 93,
    "start_time": "2022-11-15T20:22:46.032Z"
   },
   {
    "duration": 14,
    "start_time": "2022-11-15T20:22:50.237Z"
   },
   {
    "duration": 18,
    "start_time": "2022-11-15T20:22:51.239Z"
   },
   {
    "duration": 14,
    "start_time": "2022-11-15T20:22:55.031Z"
   },
   {
    "duration": 27,
    "start_time": "2022-11-15T20:22:56.201Z"
   },
   {
    "duration": 4,
    "start_time": "2022-11-15T20:24:12.300Z"
   },
   {
    "duration": 21596,
    "start_time": "2022-11-15T20:24:13.484Z"
   },
   {
    "duration": 123,
    "start_time": "2022-11-15T20:24:35.082Z"
   },
   {
    "duration": 5,
    "start_time": "2022-11-15T20:24:38.437Z"
   },
   {
    "duration": 21,
    "start_time": "2022-11-15T20:24:41.699Z"
   },
   {
    "duration": 39,
    "start_time": "2022-11-15T20:24:42.571Z"
   },
   {
    "duration": 25,
    "start_time": "2022-11-15T20:28:02.193Z"
   },
   {
    "duration": 36,
    "start_time": "2022-11-15T20:28:02.745Z"
   },
   {
    "duration": 18,
    "start_time": "2022-11-15T20:29:08.771Z"
   },
   {
    "duration": 131,
    "start_time": "2022-11-15T20:29:09.321Z"
   },
   {
    "duration": 894,
    "start_time": "2022-11-17T18:23:56.221Z"
   },
   {
    "duration": 3,
    "start_time": "2022-11-17T18:23:57.118Z"
   },
   {
    "duration": 31,
    "start_time": "2022-11-17T18:23:57.122Z"
   },
   {
    "duration": 4785,
    "start_time": "2022-11-17T18:23:57.155Z"
   },
   {
    "duration": 3,
    "start_time": "2022-11-17T18:24:01.941Z"
   },
   {
    "duration": 16883,
    "start_time": "2022-11-17T18:24:01.946Z"
   },
   {
    "duration": 12,
    "start_time": "2022-11-17T18:24:18.831Z"
   },
   {
    "duration": 10,
    "start_time": "2022-11-17T18:24:18.845Z"
   },
   {
    "duration": 11177,
    "start_time": "2022-11-17T18:24:18.857Z"
   },
   {
    "duration": 7,
    "start_time": "2022-11-17T18:24:30.037Z"
   },
   {
    "duration": 13,
    "start_time": "2022-11-17T18:24:30.054Z"
   },
   {
    "duration": 3503,
    "start_time": "2022-11-17T18:24:30.069Z"
   },
   {
    "duration": 6,
    "start_time": "2022-11-17T18:24:33.573Z"
   },
   {
    "duration": 14,
    "start_time": "2022-11-17T18:24:33.581Z"
   },
   {
    "duration": 3370,
    "start_time": "2022-11-17T18:24:33.597Z"
   },
   {
    "duration": 6,
    "start_time": "2022-11-17T18:24:36.968Z"
   },
   {
    "duration": 2714,
    "start_time": "2022-11-17T18:24:36.976Z"
   },
   {
    "duration": 21,
    "start_time": "2022-11-17T18:24:39.692Z"
   },
   {
    "duration": 50,
    "start_time": "2022-11-17T18:24:39.714Z"
   },
   {
    "duration": 60,
    "start_time": "2022-11-17T18:24:39.766Z"
   },
   {
    "duration": 305,
    "start_time": "2022-11-17T18:24:39.828Z"
   },
   {
    "duration": 9,
    "start_time": "2022-11-17T18:24:40.135Z"
   },
   {
    "duration": 233,
    "start_time": "2022-11-17T18:24:40.155Z"
   },
   {
    "duration": 10,
    "start_time": "2022-11-17T18:24:40.390Z"
   },
   {
    "duration": 19,
    "start_time": "2022-11-17T18:24:40.402Z"
   },
   {
    "duration": 3590,
    "start_time": "2022-11-17T18:24:40.423Z"
   },
   {
    "duration": 7,
    "start_time": "2022-11-17T18:24:44.014Z"
   },
   {
    "duration": 4,
    "start_time": "2022-11-17T18:24:44.025Z"
   },
   {
    "duration": 7,
    "start_time": "2022-11-17T18:24:44.030Z"
   },
   {
    "duration": 18494,
    "start_time": "2022-11-17T18:24:44.038Z"
   },
   {
    "duration": 100,
    "start_time": "2022-11-17T18:25:02.533Z"
   },
   {
    "duration": 19,
    "start_time": "2022-11-17T18:25:02.634Z"
   },
   {
    "duration": 99,
    "start_time": "2022-11-17T18:25:02.655Z"
   },
   {
    "duration": 0,
    "start_time": "2022-11-17T18:25:02.756Z"
   },
   {
    "duration": 0,
    "start_time": "2022-11-17T18:25:02.758Z"
   },
   {
    "duration": 0,
    "start_time": "2022-11-17T18:25:02.759Z"
   },
   {
    "duration": 0,
    "start_time": "2022-11-17T18:25:02.761Z"
   },
   {
    "duration": 0,
    "start_time": "2022-11-17T18:25:02.762Z"
   },
   {
    "duration": 0,
    "start_time": "2022-11-17T18:25:02.764Z"
   },
   {
    "duration": 0,
    "start_time": "2022-11-17T18:25:02.765Z"
   },
   {
    "duration": 0,
    "start_time": "2022-11-17T18:25:02.767Z"
   },
   {
    "duration": 0,
    "start_time": "2022-11-17T18:25:02.768Z"
   },
   {
    "duration": 0,
    "start_time": "2022-11-17T18:25:02.770Z"
   },
   {
    "duration": 0,
    "start_time": "2022-11-17T18:25:02.771Z"
   },
   {
    "duration": 0,
    "start_time": "2022-11-17T18:25:02.772Z"
   },
   {
    "duration": 0,
    "start_time": "2022-11-17T18:25:02.774Z"
   },
   {
    "duration": 0,
    "start_time": "2022-11-17T18:25:02.775Z"
   },
   {
    "duration": 0,
    "start_time": "2022-11-17T18:25:02.777Z"
   },
   {
    "duration": 0,
    "start_time": "2022-11-17T18:25:02.779Z"
   },
   {
    "duration": 0,
    "start_time": "2022-11-17T18:25:02.780Z"
   },
   {
    "duration": 0,
    "start_time": "2022-11-17T18:25:02.781Z"
   },
   {
    "duration": 0,
    "start_time": "2022-11-17T18:25:02.782Z"
   },
   {
    "duration": 0,
    "start_time": "2022-11-17T18:25:02.783Z"
   },
   {
    "duration": 0,
    "start_time": "2022-11-17T18:25:02.784Z"
   },
   {
    "duration": 0,
    "start_time": "2022-11-17T18:25:02.785Z"
   },
   {
    "duration": 0,
    "start_time": "2022-11-17T18:25:02.787Z"
   },
   {
    "duration": 0,
    "start_time": "2022-11-17T18:25:02.788Z"
   },
   {
    "duration": 0,
    "start_time": "2022-11-17T18:25:02.789Z"
   },
   {
    "duration": 0,
    "start_time": "2022-11-17T18:25:02.790Z"
   },
   {
    "duration": 0,
    "start_time": "2022-11-17T18:25:02.791Z"
   },
   {
    "duration": 0,
    "start_time": "2022-11-17T18:25:02.792Z"
   },
   {
    "duration": 0,
    "start_time": "2022-11-17T18:25:02.793Z"
   },
   {
    "duration": 20,
    "start_time": "2022-11-17T18:25:17.681Z"
   },
   {
    "duration": 17,
    "start_time": "2022-11-17T18:25:29.725Z"
   },
   {
    "duration": 20,
    "start_time": "2022-11-17T18:25:30.438Z"
   },
   {
    "duration": 34,
    "start_time": "2022-11-17T18:25:51.494Z"
   },
   {
    "duration": 17,
    "start_time": "2022-11-17T18:25:59.964Z"
   },
   {
    "duration": 37,
    "start_time": "2022-11-17T18:26:00.400Z"
   },
   {
    "duration": 14,
    "start_time": "2022-11-17T18:26:13.437Z"
   },
   {
    "duration": 15,
    "start_time": "2022-11-17T18:26:14.135Z"
   },
   {
    "duration": 16,
    "start_time": "2022-11-17T18:26:14.681Z"
   },
   {
    "duration": 17,
    "start_time": "2022-11-17T18:26:18.093Z"
   },
   {
    "duration": 43,
    "start_time": "2022-11-17T18:26:40.682Z"
   },
   {
    "duration": 96,
    "start_time": "2022-11-17T18:27:46.671Z"
   },
   {
    "duration": 11,
    "start_time": "2022-11-17T18:27:47.318Z"
   },
   {
    "duration": 10,
    "start_time": "2022-11-17T18:27:48.016Z"
   },
   {
    "duration": 7,
    "start_time": "2022-11-17T18:27:48.576Z"
   },
   {
    "duration": 11,
    "start_time": "2022-11-17T18:27:49.846Z"
   },
   {
    "duration": 66,
    "start_time": "2022-11-17T18:27:51.424Z"
   },
   {
    "duration": 739,
    "start_time": "2022-11-17T18:29:50.991Z"
   },
   {
    "duration": 3,
    "start_time": "2022-11-17T18:29:51.732Z"
   },
   {
    "duration": 27,
    "start_time": "2022-11-17T18:29:51.737Z"
   },
   {
    "duration": 4945,
    "start_time": "2022-11-17T18:29:51.767Z"
   },
   {
    "duration": 3,
    "start_time": "2022-11-17T18:29:56.714Z"
   },
   {
    "duration": 18072,
    "start_time": "2022-11-17T18:29:56.719Z"
   },
   {
    "duration": 12,
    "start_time": "2022-11-17T18:30:14.794Z"
   },
   {
    "duration": 2,
    "start_time": "2022-11-17T18:30:14.808Z"
   },
   {
    "duration": 12223,
    "start_time": "2022-11-17T18:30:14.812Z"
   },
   {
    "duration": 8,
    "start_time": "2022-11-17T18:30:27.038Z"
   },
   {
    "duration": 3,
    "start_time": "2022-11-17T18:30:27.054Z"
   },
   {
    "duration": 3871,
    "start_time": "2022-11-17T18:30:27.059Z"
   },
   {
    "duration": 6,
    "start_time": "2022-11-17T18:30:30.932Z"
   },
   {
    "duration": 26,
    "start_time": "2022-11-17T18:30:30.940Z"
   },
   {
    "duration": 3623,
    "start_time": "2022-11-17T18:30:30.968Z"
   },
   {
    "duration": 7,
    "start_time": "2022-11-17T18:30:34.593Z"
   },
   {
    "duration": 2758,
    "start_time": "2022-11-17T18:30:34.602Z"
   },
   {
    "duration": 20,
    "start_time": "2022-11-17T18:30:37.362Z"
   },
   {
    "duration": 10,
    "start_time": "2022-11-17T18:30:37.384Z"
   },
   {
    "duration": 24,
    "start_time": "2022-11-17T18:30:37.396Z"
   },
   {
    "duration": 276,
    "start_time": "2022-11-17T18:30:37.422Z"
   },
   {
    "duration": 9,
    "start_time": "2022-11-17T18:30:37.700Z"
   },
   {
    "duration": 247,
    "start_time": "2022-11-17T18:30:37.711Z"
   },
   {
    "duration": 23,
    "start_time": "2022-11-17T18:30:37.960Z"
   },
   {
    "duration": 34,
    "start_time": "2022-11-17T18:30:37.985Z"
   },
   {
    "duration": 3771,
    "start_time": "2022-11-17T18:30:38.021Z"
   },
   {
    "duration": 6,
    "start_time": "2022-11-17T18:30:41.794Z"
   },
   {
    "duration": 19,
    "start_time": "2022-11-17T18:30:41.804Z"
   },
   {
    "duration": 12,
    "start_time": "2022-11-17T18:30:41.825Z"
   },
   {
    "duration": 23017,
    "start_time": "2022-11-17T18:30:41.838Z"
   },
   {
    "duration": 85,
    "start_time": "2022-11-17T18:31:04.857Z"
   },
   {
    "duration": 6,
    "start_time": "2022-11-17T18:31:04.955Z"
   },
   {
    "duration": 27,
    "start_time": "2022-11-17T18:31:04.963Z"
   },
   {
    "duration": 15,
    "start_time": "2022-11-17T18:31:04.992Z"
   },
   {
    "duration": 15,
    "start_time": "2022-11-17T18:31:05.009Z"
   },
   {
    "duration": 56,
    "start_time": "2022-11-17T18:31:05.026Z"
   },
   {
    "duration": 16,
    "start_time": "2022-11-17T18:31:05.084Z"
   },
   {
    "duration": 31,
    "start_time": "2022-11-17T18:31:05.101Z"
   },
   {
    "duration": 30,
    "start_time": "2022-11-17T18:31:05.134Z"
   },
   {
    "duration": 16,
    "start_time": "2022-11-17T18:31:05.166Z"
   },
   {
    "duration": 14,
    "start_time": "2022-11-17T18:31:05.184Z"
   },
   {
    "duration": 23,
    "start_time": "2022-11-17T18:31:05.199Z"
   },
   {
    "duration": 58,
    "start_time": "2022-11-17T18:31:05.224Z"
   },
   {
    "duration": 117,
    "start_time": "2022-11-17T18:31:05.284Z"
   },
   {
    "duration": 77,
    "start_time": "2022-11-17T18:31:05.402Z"
   },
   {
    "duration": 82,
    "start_time": "2022-11-17T18:31:05.480Z"
   },
   {
    "duration": 0,
    "start_time": "2022-11-17T18:31:05.564Z"
   },
   {
    "duration": 0,
    "start_time": "2022-11-17T18:31:05.565Z"
   },
   {
    "duration": 0,
    "start_time": "2022-11-17T18:31:05.567Z"
   },
   {
    "duration": 0,
    "start_time": "2022-11-17T18:31:05.568Z"
   },
   {
    "duration": 0,
    "start_time": "2022-11-17T18:31:05.569Z"
   },
   {
    "duration": 0,
    "start_time": "2022-11-17T18:31:05.570Z"
   },
   {
    "duration": 0,
    "start_time": "2022-11-17T18:31:05.572Z"
   },
   {
    "duration": 0,
    "start_time": "2022-11-17T18:31:05.572Z"
   },
   {
    "duration": 0,
    "start_time": "2022-11-17T18:31:05.574Z"
   },
   {
    "duration": 0,
    "start_time": "2022-11-17T18:31:05.575Z"
   },
   {
    "duration": 0,
    "start_time": "2022-11-17T18:31:05.576Z"
   },
   {
    "duration": 0,
    "start_time": "2022-11-17T18:31:05.577Z"
   },
   {
    "duration": 0,
    "start_time": "2022-11-17T18:31:05.578Z"
   },
   {
    "duration": 0,
    "start_time": "2022-11-17T18:31:05.579Z"
   },
   {
    "duration": 0,
    "start_time": "2022-11-17T18:31:05.580Z"
   },
   {
    "duration": 0,
    "start_time": "2022-11-17T18:31:05.582Z"
   },
   {
    "duration": 0,
    "start_time": "2022-11-17T18:31:05.584Z"
   },
   {
    "duration": 0,
    "start_time": "2022-11-17T18:31:05.585Z"
   },
   {
    "duration": 0,
    "start_time": "2022-11-17T18:31:05.587Z"
   },
   {
    "duration": 0,
    "start_time": "2022-11-17T18:31:05.589Z"
   },
   {
    "duration": 800,
    "start_time": "2022-11-17T18:32:20.085Z"
   },
   {
    "duration": 3,
    "start_time": "2022-11-17T18:32:20.887Z"
   },
   {
    "duration": 14,
    "start_time": "2022-11-17T18:32:20.892Z"
   },
   {
    "duration": 5114,
    "start_time": "2022-11-17T18:32:20.908Z"
   },
   {
    "duration": 3,
    "start_time": "2022-11-17T18:32:26.024Z"
   },
   {
    "duration": 17561,
    "start_time": "2022-11-17T18:32:26.029Z"
   },
   {
    "duration": 15,
    "start_time": "2022-11-17T18:32:43.592Z"
   },
   {
    "duration": 3,
    "start_time": "2022-11-17T18:32:43.609Z"
   },
   {
    "duration": 11315,
    "start_time": "2022-11-17T18:32:43.614Z"
   },
   {
    "duration": 8,
    "start_time": "2022-11-17T18:32:54.932Z"
   },
   {
    "duration": 23,
    "start_time": "2022-11-17T18:32:54.942Z"
   },
   {
    "duration": 3508,
    "start_time": "2022-11-17T18:32:54.967Z"
   },
   {
    "duration": 7,
    "start_time": "2022-11-17T18:32:58.476Z"
   },
   {
    "duration": 27,
    "start_time": "2022-11-17T18:32:58.484Z"
   },
   {
    "duration": 3368,
    "start_time": "2022-11-17T18:32:58.513Z"
   },
   {
    "duration": 5,
    "start_time": "2022-11-17T18:33:01.883Z"
   },
   {
    "duration": 2702,
    "start_time": "2022-11-17T18:33:01.889Z"
   },
   {
    "duration": 20,
    "start_time": "2022-11-17T18:33:04.592Z"
   },
   {
    "duration": 9,
    "start_time": "2022-11-17T18:33:04.613Z"
   },
   {
    "duration": 33,
    "start_time": "2022-11-17T18:33:04.623Z"
   },
   {
    "duration": 272,
    "start_time": "2022-11-17T18:33:04.658Z"
   },
   {
    "duration": 13,
    "start_time": "2022-11-17T18:33:04.932Z"
   },
   {
    "duration": 262,
    "start_time": "2022-11-17T18:33:04.947Z"
   },
   {
    "duration": 7,
    "start_time": "2022-11-17T18:33:05.211Z"
   },
   {
    "duration": 5,
    "start_time": "2022-11-17T18:33:05.219Z"
   },
   {
    "duration": 3497,
    "start_time": "2022-11-17T18:33:05.226Z"
   },
   {
    "duration": 7,
    "start_time": "2022-11-17T18:33:08.725Z"
   },
   {
    "duration": 25,
    "start_time": "2022-11-17T18:33:08.736Z"
   },
   {
    "duration": 22,
    "start_time": "2022-11-17T18:33:08.763Z"
   },
   {
    "duration": 21305,
    "start_time": "2022-11-17T18:33:08.787Z"
   },
   {
    "duration": 108,
    "start_time": "2022-11-17T18:33:30.094Z"
   },
   {
    "duration": 18,
    "start_time": "2022-11-17T18:33:30.204Z"
   },
   {
    "duration": 32,
    "start_time": "2022-11-17T18:33:30.224Z"
   },
   {
    "duration": 38,
    "start_time": "2022-11-17T18:33:30.257Z"
   },
   {
    "duration": 46,
    "start_time": "2022-11-17T18:33:30.297Z"
   },
   {
    "duration": 37,
    "start_time": "2022-11-17T18:33:30.345Z"
   },
   {
    "duration": 18,
    "start_time": "2022-11-17T18:33:30.384Z"
   },
   {
    "duration": 38,
    "start_time": "2022-11-17T18:33:30.403Z"
   },
   {
    "duration": 25,
    "start_time": "2022-11-17T18:33:30.442Z"
   },
   {
    "duration": 26,
    "start_time": "2022-11-17T18:33:30.469Z"
   },
   {
    "duration": 33,
    "start_time": "2022-11-17T18:33:30.497Z"
   },
   {
    "duration": 35,
    "start_time": "2022-11-17T18:33:30.532Z"
   },
   {
    "duration": 62,
    "start_time": "2022-11-17T18:33:30.568Z"
   },
   {
    "duration": 20,
    "start_time": "2022-11-17T18:33:30.632Z"
   },
   {
    "duration": 61,
    "start_time": "2022-11-17T18:33:30.654Z"
   },
   {
    "duration": 49,
    "start_time": "2022-11-17T18:33:30.717Z"
   },
   {
    "duration": 0,
    "start_time": "2022-11-17T18:33:30.768Z"
   },
   {
    "duration": 0,
    "start_time": "2022-11-17T18:33:30.769Z"
   },
   {
    "duration": 0,
    "start_time": "2022-11-17T18:33:30.771Z"
   },
   {
    "duration": 0,
    "start_time": "2022-11-17T18:33:30.772Z"
   },
   {
    "duration": 0,
    "start_time": "2022-11-17T18:33:30.773Z"
   },
   {
    "duration": 0,
    "start_time": "2022-11-17T18:33:30.774Z"
   },
   {
    "duration": 0,
    "start_time": "2022-11-17T18:33:30.775Z"
   },
   {
    "duration": 0,
    "start_time": "2022-11-17T18:33:30.776Z"
   },
   {
    "duration": 0,
    "start_time": "2022-11-17T18:33:30.777Z"
   },
   {
    "duration": 0,
    "start_time": "2022-11-17T18:33:30.778Z"
   },
   {
    "duration": 0,
    "start_time": "2022-11-17T18:33:30.779Z"
   },
   {
    "duration": 0,
    "start_time": "2022-11-17T18:33:30.780Z"
   },
   {
    "duration": 0,
    "start_time": "2022-11-17T18:33:30.781Z"
   },
   {
    "duration": 0,
    "start_time": "2022-11-17T18:33:30.782Z"
   },
   {
    "duration": 0,
    "start_time": "2022-11-17T18:33:30.783Z"
   },
   {
    "duration": 0,
    "start_time": "2022-11-17T18:33:30.784Z"
   },
   {
    "duration": 0,
    "start_time": "2022-11-17T18:33:30.785Z"
   },
   {
    "duration": 0,
    "start_time": "2022-11-17T18:33:30.786Z"
   },
   {
    "duration": 0,
    "start_time": "2022-11-17T18:33:30.787Z"
   },
   {
    "duration": 0,
    "start_time": "2022-11-17T18:33:30.788Z"
   },
   {
    "duration": 14,
    "start_time": "2022-11-17T18:38:28.303Z"
   },
   {
    "duration": 10,
    "start_time": "2022-11-17T18:38:29.045Z"
   },
   {
    "duration": 7,
    "start_time": "2022-11-17T18:38:29.158Z"
   },
   {
    "duration": 12,
    "start_time": "2022-11-17T18:38:29.788Z"
   },
   {
    "duration": 78,
    "start_time": "2022-11-17T18:38:29.860Z"
   },
   {
    "duration": 67,
    "start_time": "2022-11-17T18:38:30.200Z"
   },
   {
    "duration": 58,
    "start_time": "2022-11-17T18:38:33.670Z"
   },
   {
    "duration": 99,
    "start_time": "2022-11-17T18:38:34.315Z"
   },
   {
    "duration": 11,
    "start_time": "2022-11-17T18:38:43.256Z"
   },
   {
    "duration": 16,
    "start_time": "2022-11-17T18:38:44.195Z"
   },
   {
    "duration": 6,
    "start_time": "2022-11-17T18:38:44.737Z"
   },
   {
    "duration": 15,
    "start_time": "2022-11-17T18:38:45.220Z"
   },
   {
    "duration": 28,
    "start_time": "2022-11-17T18:38:52.405Z"
   },
   {
    "duration": 22,
    "start_time": "2022-11-17T18:38:52.854Z"
   },
   {
    "duration": 19,
    "start_time": "2022-11-17T18:38:53.726Z"
   },
   {
    "duration": 17,
    "start_time": "2022-11-17T18:38:54.212Z"
   },
   {
    "duration": 19,
    "start_time": "2022-11-17T18:39:02.986Z"
   },
   {
    "duration": 16,
    "start_time": "2022-11-17T18:39:03.437Z"
   },
   {
    "duration": 24,
    "start_time": "2022-11-17T18:39:04.051Z"
   },
   {
    "duration": 908,
    "start_time": "2022-11-17T18:39:07.744Z"
   },
   {
    "duration": 5,
    "start_time": "2022-11-17T18:43:55.533Z"
   },
   {
    "duration": 13,
    "start_time": "2022-11-17T18:46:41.235Z"
   },
   {
    "duration": 44,
    "start_time": "2022-11-17T18:49:34.918Z"
   },
   {
    "duration": 9,
    "start_time": "2022-11-17T18:49:38.277Z"
   },
   {
    "duration": 18,
    "start_time": "2022-11-17T18:49:45.603Z"
   },
   {
    "duration": 780,
    "start_time": "2022-11-17T18:50:43.801Z"
   },
   {
    "duration": 48,
    "start_time": "2022-11-17T18:52:39.746Z"
   },
   {
    "duration": 10,
    "start_time": "2022-11-17T18:53:04.575Z"
   },
   {
    "duration": 20,
    "start_time": "2022-11-17T18:53:07.097Z"
   },
   {
    "duration": 10,
    "start_time": "2022-11-17T18:53:44.583Z"
   },
   {
    "duration": 21,
    "start_time": "2022-11-17T18:53:47.284Z"
   },
   {
    "duration": 44,
    "start_time": "2022-11-17T18:55:53.019Z"
   },
   {
    "duration": 20,
    "start_time": "2022-11-17T18:56:00.950Z"
   },
   {
    "duration": 24,
    "start_time": "2022-11-17T18:56:11.830Z"
   },
   {
    "duration": 17,
    "start_time": "2022-11-17T18:56:14.148Z"
   },
   {
    "duration": 3,
    "start_time": "2022-11-17T19:43:23.594Z"
   },
   {
    "duration": 4,
    "start_time": "2022-11-17T19:44:13.023Z"
   },
   {
    "duration": 9,
    "start_time": "2022-11-17T19:44:19.270Z"
   },
   {
    "duration": 639,
    "start_time": "2022-11-17T19:46:35.171Z"
   },
   {
    "duration": 3,
    "start_time": "2022-11-17T19:47:20.915Z"
   },
   {
    "duration": 6,
    "start_time": "2022-11-17T19:47:33.043Z"
   },
   {
    "duration": 4,
    "start_time": "2022-11-17T19:48:51.714Z"
   },
   {
    "duration": 11,
    "start_time": "2022-11-17T19:50:32.128Z"
   },
   {
    "duration": 6,
    "start_time": "2022-11-17T19:50:52.074Z"
   },
   {
    "duration": 3,
    "start_time": "2022-11-17T19:51:33.806Z"
   },
   {
    "duration": 5,
    "start_time": "2022-11-17T19:51:34.271Z"
   },
   {
    "duration": 6,
    "start_time": "2022-11-17T19:51:34.508Z"
   },
   {
    "duration": 13,
    "start_time": "2022-11-17T19:51:35.279Z"
   },
   {
    "duration": 52,
    "start_time": "2022-11-17T19:51:37.510Z"
   },
   {
    "duration": 5,
    "start_time": "2022-11-17T19:53:54.124Z"
   },
   {
    "duration": 7,
    "start_time": "2022-11-17T19:54:09.037Z"
   },
   {
    "duration": 10,
    "start_time": "2022-11-17T19:56:21.677Z"
   },
   {
    "duration": 10,
    "start_time": "2022-11-17T19:56:36.193Z"
   },
   {
    "duration": 10,
    "start_time": "2022-11-17T19:56:48.037Z"
   },
   {
    "duration": 14,
    "start_time": "2022-11-17T19:57:04.444Z"
   },
   {
    "duration": 3,
    "start_time": "2022-11-17T19:58:02.617Z"
   },
   {
    "duration": 2,
    "start_time": "2022-11-17T19:58:03.190Z"
   },
   {
    "duration": 6,
    "start_time": "2022-11-17T19:58:03.689Z"
   },
   {
    "duration": 5,
    "start_time": "2022-11-17T19:58:04.485Z"
   },
   {
    "duration": 9,
    "start_time": "2022-11-17T19:58:05.098Z"
   },
   {
    "duration": 4,
    "start_time": "2022-11-17T19:59:24.591Z"
   },
   {
    "duration": 2,
    "start_time": "2022-11-17T19:59:25.016Z"
   },
   {
    "duration": 5,
    "start_time": "2022-11-17T19:59:25.446Z"
   },
   {
    "duration": 4,
    "start_time": "2022-11-17T19:59:25.944Z"
   },
   {
    "duration": 9,
    "start_time": "2022-11-17T19:59:26.754Z"
   },
   {
    "duration": 8,
    "start_time": "2022-11-17T19:59:29.788Z"
   },
   {
    "duration": 5,
    "start_time": "2022-11-17T19:59:30.687Z"
   },
   {
    "duration": 12,
    "start_time": "2022-11-17T19:59:39.137Z"
   },
   {
    "duration": 8,
    "start_time": "2022-11-17T19:59:55.001Z"
   },
   {
    "duration": 11,
    "start_time": "2022-11-17T19:59:55.981Z"
   },
   {
    "duration": 4,
    "start_time": "2022-11-17T20:00:21.768Z"
   },
   {
    "duration": 3,
    "start_time": "2022-11-17T20:00:22.155Z"
   },
   {
    "duration": 5,
    "start_time": "2022-11-17T20:00:22.503Z"
   },
   {
    "duration": 4,
    "start_time": "2022-11-17T20:00:22.978Z"
   },
   {
    "duration": 9,
    "start_time": "2022-11-17T20:00:23.386Z"
   },
   {
    "duration": 7,
    "start_time": "2022-11-17T20:00:23.928Z"
   },
   {
    "duration": 6,
    "start_time": "2022-11-17T20:00:26.913Z"
   },
   {
    "duration": 16,
    "start_time": "2022-11-17T20:07:45.595Z"
   },
   {
    "duration": 23,
    "start_time": "2022-11-17T20:08:30.997Z"
   },
   {
    "duration": 6,
    "start_time": "2022-11-17T20:08:39.956Z"
   },
   {
    "duration": 16,
    "start_time": "2022-11-17T20:08:48.901Z"
   },
   {
    "duration": 903,
    "start_time": "2022-11-19T10:14:34.380Z"
   },
   {
    "duration": 4,
    "start_time": "2022-11-19T10:14:35.285Z"
   },
   {
    "duration": 8,
    "start_time": "2022-11-19T10:14:35.291Z"
   },
   {
    "duration": 4972,
    "start_time": "2022-11-19T10:14:35.302Z"
   },
   {
    "duration": 3,
    "start_time": "2022-11-19T10:14:40.276Z"
   },
   {
    "duration": 17001,
    "start_time": "2022-11-19T10:14:40.280Z"
   },
   {
    "duration": 21,
    "start_time": "2022-11-19T10:14:57.282Z"
   },
   {
    "duration": 3,
    "start_time": "2022-11-19T10:14:57.304Z"
   },
   {
    "duration": 10562,
    "start_time": "2022-11-19T10:14:57.308Z"
   },
   {
    "duration": 7,
    "start_time": "2022-11-19T10:15:07.873Z"
   },
   {
    "duration": 11,
    "start_time": "2022-11-19T10:15:07.881Z"
   },
   {
    "duration": 3390,
    "start_time": "2022-11-19T10:15:07.893Z"
   },
   {
    "duration": 6,
    "start_time": "2022-11-19T10:15:11.285Z"
   },
   {
    "duration": 3,
    "start_time": "2022-11-19T10:15:11.296Z"
   },
   {
    "duration": 3247,
    "start_time": "2022-11-19T10:15:11.301Z"
   },
   {
    "duration": 5,
    "start_time": "2022-11-19T10:15:14.549Z"
   },
   {
    "duration": 2597,
    "start_time": "2022-11-19T10:15:14.556Z"
   },
   {
    "duration": 20,
    "start_time": "2022-11-19T10:15:17.155Z"
   },
   {
    "duration": 20,
    "start_time": "2022-11-19T10:15:17.177Z"
   },
   {
    "duration": 13,
    "start_time": "2022-11-19T10:15:17.198Z"
   },
   {
    "duration": 232,
    "start_time": "2022-11-19T10:15:17.213Z"
   },
   {
    "duration": 11,
    "start_time": "2022-11-19T10:15:17.447Z"
   },
   {
    "duration": 219,
    "start_time": "2022-11-19T10:15:17.460Z"
   },
   {
    "duration": 7,
    "start_time": "2022-11-19T10:15:17.680Z"
   },
   {
    "duration": 9,
    "start_time": "2022-11-19T10:15:17.688Z"
   },
   {
    "duration": 3270,
    "start_time": "2022-11-19T10:15:17.699Z"
   },
   {
    "duration": 6,
    "start_time": "2022-11-19T10:15:20.971Z"
   },
   {
    "duration": 16,
    "start_time": "2022-11-19T10:15:20.980Z"
   },
   {
    "duration": 8,
    "start_time": "2022-11-19T10:15:20.997Z"
   },
   {
    "duration": 21807,
    "start_time": "2022-11-19T10:15:21.007Z"
   },
   {
    "duration": 90,
    "start_time": "2022-11-19T10:15:42.815Z"
   },
   {
    "duration": 5,
    "start_time": "2022-11-19T10:15:42.907Z"
   },
   {
    "duration": 19,
    "start_time": "2022-11-19T10:15:42.913Z"
   },
   {
    "duration": 17,
    "start_time": "2022-11-19T10:15:42.933Z"
   },
   {
    "duration": 14,
    "start_time": "2022-11-19T10:15:42.952Z"
   },
   {
    "duration": 35,
    "start_time": "2022-11-19T10:15:42.967Z"
   },
   {
    "duration": 14,
    "start_time": "2022-11-19T10:15:43.004Z"
   },
   {
    "duration": 14,
    "start_time": "2022-11-19T10:15:43.020Z"
   },
   {
    "duration": 13,
    "start_time": "2022-11-19T10:15:43.036Z"
   },
   {
    "duration": 30,
    "start_time": "2022-11-19T10:15:43.051Z"
   },
   {
    "duration": 21,
    "start_time": "2022-11-19T10:15:43.082Z"
   },
   {
    "duration": 13,
    "start_time": "2022-11-19T10:15:43.104Z"
   },
   {
    "duration": 9,
    "start_time": "2022-11-19T10:15:43.119Z"
   },
   {
    "duration": 25,
    "start_time": "2022-11-19T10:15:43.130Z"
   },
   {
    "duration": 97,
    "start_time": "2022-11-19T10:15:43.157Z"
   },
   {
    "duration": 54,
    "start_time": "2022-11-19T10:15:43.256Z"
   },
   {
    "duration": 75,
    "start_time": "2022-11-19T10:15:43.312Z"
   },
   {
    "duration": 51,
    "start_time": "2022-11-19T10:15:43.396Z"
   },
   {
    "duration": 70,
    "start_time": "2022-11-19T10:15:43.449Z"
   },
   {
    "duration": 10,
    "start_time": "2022-11-19T10:15:43.521Z"
   },
   {
    "duration": 10,
    "start_time": "2022-11-19T10:15:43.532Z"
   },
   {
    "duration": 8,
    "start_time": "2022-11-19T10:15:43.543Z"
   },
   {
    "duration": 17,
    "start_time": "2022-11-19T10:15:43.553Z"
   },
   {
    "duration": 22,
    "start_time": "2022-11-19T10:15:43.597Z"
   },
   {
    "duration": 16,
    "start_time": "2022-11-19T10:15:43.620Z"
   },
   {
    "duration": 4,
    "start_time": "2022-11-19T10:15:43.638Z"
   },
   {
    "duration": 6,
    "start_time": "2022-11-19T10:15:43.643Z"
   },
   {
    "duration": 11,
    "start_time": "2022-11-19T10:15:43.651Z"
   },
   {
    "duration": 712,
    "start_time": "2022-11-19T10:15:43.664Z"
   },
   {
    "duration": 3,
    "start_time": "2022-11-19T10:15:44.378Z"
   },
   {
    "duration": 9,
    "start_time": "2022-11-19T10:15:44.382Z"
   },
   {
    "duration": 4,
    "start_time": "2022-11-19T10:15:44.393Z"
   },
   {
    "duration": 12,
    "start_time": "2022-11-19T10:15:44.398Z"
   },
   {
    "duration": 11,
    "start_time": "2022-11-19T10:15:44.411Z"
   },
   {
    "duration": 7,
    "start_time": "2022-11-19T10:15:44.423Z"
   },
   {
    "duration": 20,
    "start_time": "2022-11-19T10:15:44.431Z"
   },
   {
    "duration": 46,
    "start_time": "2022-11-19T10:15:44.453Z"
   },
   {
    "duration": 8,
    "start_time": "2022-11-19T10:15:44.501Z"
   },
   {
    "duration": 28,
    "start_time": "2022-11-19T10:15:44.511Z"
   },
   {
    "duration": 153,
    "start_time": "2022-11-19T10:15:44.541Z"
   },
   {
    "duration": 18,
    "start_time": "2022-11-19T10:19:37.656Z"
   },
   {
    "duration": 51,
    "start_time": "2022-11-19T10:19:45.397Z"
   },
   {
    "duration": 12,
    "start_time": "2022-11-19T10:19:55.313Z"
   },
   {
    "duration": 15,
    "start_time": "2022-11-19T10:20:03.013Z"
   },
   {
    "duration": 3,
    "start_time": "2022-11-19T10:52:24.944Z"
   },
   {
    "duration": 163,
    "start_time": "2022-11-19T10:56:46.936Z"
   },
   {
    "duration": 1381,
    "start_time": "2022-11-19T10:57:44.837Z"
   },
   {
    "duration": 3,
    "start_time": "2022-11-19T10:57:46.220Z"
   },
   {
    "duration": 5,
    "start_time": "2022-11-19T10:57:46.226Z"
   },
   {
    "duration": 4931,
    "start_time": "2022-11-19T10:57:46.233Z"
   },
   {
    "duration": 3,
    "start_time": "2022-11-19T10:57:51.165Z"
   },
   {
    "duration": 16487,
    "start_time": "2022-11-19T10:57:51.169Z"
   },
   {
    "duration": 12,
    "start_time": "2022-11-19T10:58:07.658Z"
   },
   {
    "duration": 3,
    "start_time": "2022-11-19T10:58:07.671Z"
   },
   {
    "duration": 9956,
    "start_time": "2022-11-19T10:58:07.675Z"
   },
   {
    "duration": 7,
    "start_time": "2022-11-19T10:58:17.633Z"
   },
   {
    "duration": 7,
    "start_time": "2022-11-19T10:58:17.642Z"
   },
   {
    "duration": 3040,
    "start_time": "2022-11-19T10:58:17.650Z"
   },
   {
    "duration": 8,
    "start_time": "2022-11-19T10:58:20.692Z"
   },
   {
    "duration": 12,
    "start_time": "2022-11-19T10:58:20.701Z"
   },
   {
    "duration": 3331,
    "start_time": "2022-11-19T10:58:20.715Z"
   },
   {
    "duration": 5,
    "start_time": "2022-11-19T10:58:24.048Z"
   },
   {
    "duration": 2625,
    "start_time": "2022-11-19T10:58:24.054Z"
   },
   {
    "duration": 28,
    "start_time": "2022-11-19T10:58:26.681Z"
   },
   {
    "duration": 8,
    "start_time": "2022-11-19T10:58:26.711Z"
   },
   {
    "duration": 16,
    "start_time": "2022-11-19T10:58:26.721Z"
   },
   {
    "duration": 245,
    "start_time": "2022-11-19T10:58:26.739Z"
   },
   {
    "duration": 17,
    "start_time": "2022-11-19T10:58:26.986Z"
   },
   {
    "duration": 213,
    "start_time": "2022-11-19T10:58:27.005Z"
   },
   {
    "duration": 7,
    "start_time": "2022-11-19T10:58:27.220Z"
   },
   {
    "duration": 4,
    "start_time": "2022-11-19T10:58:27.229Z"
   },
   {
    "duration": 3589,
    "start_time": "2022-11-19T10:58:27.234Z"
   },
   {
    "duration": 7,
    "start_time": "2022-11-19T10:58:30.825Z"
   },
   {
    "duration": 21,
    "start_time": "2022-11-19T10:58:30.836Z"
   },
   {
    "duration": 13,
    "start_time": "2022-11-19T10:58:30.859Z"
   },
   {
    "duration": 22899,
    "start_time": "2022-11-19T10:58:30.874Z"
   },
   {
    "duration": 90,
    "start_time": "2022-11-19T10:58:53.775Z"
   },
   {
    "duration": 8,
    "start_time": "2022-11-19T10:58:53.866Z"
   },
   {
    "duration": 35,
    "start_time": "2022-11-19T10:58:53.876Z"
   },
   {
    "duration": 20,
    "start_time": "2022-11-19T10:58:53.913Z"
   },
   {
    "duration": 19,
    "start_time": "2022-11-19T10:58:53.935Z"
   },
   {
    "duration": 16,
    "start_time": "2022-11-19T10:58:53.955Z"
   },
   {
    "duration": 24,
    "start_time": "2022-11-19T10:58:53.973Z"
   },
   {
    "duration": 15,
    "start_time": "2022-11-19T10:58:53.999Z"
   },
   {
    "duration": 14,
    "start_time": "2022-11-19T10:58:54.015Z"
   },
   {
    "duration": 18,
    "start_time": "2022-11-19T10:58:54.030Z"
   },
   {
    "duration": 8,
    "start_time": "2022-11-19T10:58:54.049Z"
   },
   {
    "duration": 10,
    "start_time": "2022-11-19T10:58:54.059Z"
   },
   {
    "duration": 29,
    "start_time": "2022-11-19T10:58:54.070Z"
   },
   {
    "duration": 10,
    "start_time": "2022-11-19T10:58:54.101Z"
   },
   {
    "duration": 102,
    "start_time": "2022-11-19T10:58:54.112Z"
   },
   {
    "duration": 47,
    "start_time": "2022-11-19T10:58:54.216Z"
   },
   {
    "duration": 93,
    "start_time": "2022-11-19T10:58:54.264Z"
   },
   {
    "duration": 60,
    "start_time": "2022-11-19T10:58:54.358Z"
   },
   {
    "duration": 53,
    "start_time": "2022-11-19T10:58:54.420Z"
   },
   {
    "duration": 21,
    "start_time": "2022-11-19T10:58:54.475Z"
   },
   {
    "duration": 8,
    "start_time": "2022-11-19T10:58:54.498Z"
   },
   {
    "duration": 8,
    "start_time": "2022-11-19T10:58:54.507Z"
   },
   {
    "duration": 17,
    "start_time": "2022-11-19T10:58:54.516Z"
   },
   {
    "duration": 22,
    "start_time": "2022-11-19T10:58:54.535Z"
   },
   {
    "duration": 38,
    "start_time": "2022-11-19T10:58:54.559Z"
   },
   {
    "duration": 6,
    "start_time": "2022-11-19T10:58:54.599Z"
   },
   {
    "duration": 13,
    "start_time": "2022-11-19T10:58:54.607Z"
   },
   {
    "duration": 15,
    "start_time": "2022-11-19T10:58:54.621Z"
   },
   {
    "duration": 5,
    "start_time": "2022-11-19T10:58:54.637Z"
   },
   {
    "duration": 6,
    "start_time": "2022-11-19T10:58:54.644Z"
   },
   {
    "duration": 7,
    "start_time": "2022-11-19T10:58:54.651Z"
   },
   {
    "duration": 5,
    "start_time": "2022-11-19T10:58:54.660Z"
   },
   {
    "duration": 9,
    "start_time": "2022-11-19T10:58:54.666Z"
   },
   {
    "duration": 26,
    "start_time": "2022-11-19T10:58:54.677Z"
   },
   {
    "duration": 9,
    "start_time": "2022-11-19T10:58:54.705Z"
   },
   {
    "duration": 16,
    "start_time": "2022-11-19T10:58:54.716Z"
   },
   {
    "duration": 20,
    "start_time": "2022-11-19T10:58:54.734Z"
   },
   {
    "duration": 5,
    "start_time": "2022-11-19T10:58:54.756Z"
   },
   {
    "duration": 6,
    "start_time": "2022-11-19T10:58:54.762Z"
   },
   {
    "duration": 281,
    "start_time": "2022-11-19T10:58:54.769Z"
   },
   {
    "duration": 0,
    "start_time": "2022-11-19T10:58:55.052Z"
   },
   {
    "duration": 0,
    "start_time": "2022-11-19T10:58:55.053Z"
   },
   {
    "duration": 0,
    "start_time": "2022-11-19T10:58:55.054Z"
   },
   {
    "duration": 70,
    "start_time": "2022-11-19T11:01:09.028Z"
   },
   {
    "duration": 90,
    "start_time": "2022-11-19T11:01:17.983Z"
   },
   {
    "duration": 3,
    "start_time": "2022-11-19T11:21:24.188Z"
   },
   {
    "duration": 3,
    "start_time": "2022-11-19T11:21:26.709Z"
   },
   {
    "duration": 93,
    "start_time": "2022-11-19T11:21:28.723Z"
   },
   {
    "duration": 119,
    "start_time": "2022-11-19T11:21:31.590Z"
   },
   {
    "duration": 3,
    "start_time": "2022-11-19T11:26:35.108Z"
   },
   {
    "duration": 2,
    "start_time": "2022-11-19T11:26:37.734Z"
   },
   {
    "duration": 3,
    "start_time": "2022-11-19T11:26:37.870Z"
   },
   {
    "duration": 104,
    "start_time": "2022-11-19T11:26:38.610Z"
   },
   {
    "duration": 133,
    "start_time": "2022-11-19T11:26:42.013Z"
   },
   {
    "duration": 126,
    "start_time": "2022-11-19T11:30:31.438Z"
   },
   {
    "duration": 28,
    "start_time": "2022-11-19T11:32:10.453Z"
   },
   {
    "duration": 3,
    "start_time": "2022-11-19T11:32:54.924Z"
   },
   {
    "duration": 2,
    "start_time": "2022-11-19T11:32:55.418Z"
   },
   {
    "duration": 148,
    "start_time": "2022-11-19T11:32:56.002Z"
   },
   {
    "duration": 31,
    "start_time": "2022-11-19T11:32:59.890Z"
   },
   {
    "duration": 123,
    "start_time": "2022-11-19T11:33:01.947Z"
   },
   {
    "duration": 3,
    "start_time": "2022-11-19T11:34:56.838Z"
   },
   {
    "duration": 2,
    "start_time": "2022-11-19T11:34:57.000Z"
   },
   {
    "duration": 86,
    "start_time": "2022-11-19T11:34:57.520Z"
   },
   {
    "duration": 28,
    "start_time": "2022-11-19T11:35:00.379Z"
   },
   {
    "duration": 2,
    "start_time": "2022-11-19T11:35:31.985Z"
   },
   {
    "duration": 2,
    "start_time": "2022-11-19T11:35:32.668Z"
   },
   {
    "duration": 29,
    "start_time": "2022-11-19T11:35:32.905Z"
   },
   {
    "duration": 12,
    "start_time": "2022-11-19T11:35:35.225Z"
   },
   {
    "duration": 117,
    "start_time": "2022-11-19T11:35:36.327Z"
   },
   {
    "duration": 2,
    "start_time": "2022-11-19T11:35:55.129Z"
   },
   {
    "duration": 3,
    "start_time": "2022-11-19T11:35:55.659Z"
   },
   {
    "duration": 27,
    "start_time": "2022-11-19T11:35:56.335Z"
   },
   {
    "duration": 10,
    "start_time": "2022-11-19T11:35:58.915Z"
   },
   {
    "duration": 138,
    "start_time": "2022-11-19T11:36:00.184Z"
   },
   {
    "duration": 54,
    "start_time": "2022-11-19T11:36:35.276Z"
   },
   {
    "duration": 15,
    "start_time": "2022-11-19T11:36:38.919Z"
   },
   {
    "duration": 2,
    "start_time": "2022-11-19T11:36:45.630Z"
   },
   {
    "duration": 3,
    "start_time": "2022-11-19T11:36:46.120Z"
   },
   {
    "duration": 10,
    "start_time": "2022-11-19T11:36:46.643Z"
   },
   {
    "duration": 8,
    "start_time": "2022-11-19T11:36:47.440Z"
   },
   {
    "duration": 16,
    "start_time": "2022-11-19T11:36:49.728Z"
   },
   {
    "duration": 1586,
    "start_time": "2022-11-19T11:37:09.724Z"
   },
   {
    "duration": 3,
    "start_time": "2022-11-19T11:37:11.312Z"
   },
   {
    "duration": 16,
    "start_time": "2022-11-19T11:37:11.317Z"
   },
   {
    "duration": 4598,
    "start_time": "2022-11-19T11:37:11.335Z"
   },
   {
    "duration": 7,
    "start_time": "2022-11-19T11:37:15.935Z"
   },
   {
    "duration": 17093,
    "start_time": "2022-11-19T11:37:15.943Z"
   },
   {
    "duration": 13,
    "start_time": "2022-11-19T11:37:33.038Z"
   },
   {
    "duration": 8,
    "start_time": "2022-11-19T11:37:33.053Z"
   },
   {
    "duration": 10605,
    "start_time": "2022-11-19T11:37:33.063Z"
   },
   {
    "duration": 7,
    "start_time": "2022-11-19T11:37:43.670Z"
   },
   {
    "duration": 6,
    "start_time": "2022-11-19T11:37:43.679Z"
   },
   {
    "duration": 3446,
    "start_time": "2022-11-19T11:37:43.686Z"
   },
   {
    "duration": 6,
    "start_time": "2022-11-19T11:37:47.134Z"
   },
   {
    "duration": 6,
    "start_time": "2022-11-19T11:37:47.142Z"
   },
   {
    "duration": 3361,
    "start_time": "2022-11-19T11:37:47.150Z"
   },
   {
    "duration": 5,
    "start_time": "2022-11-19T11:37:50.513Z"
   },
   {
    "duration": 2569,
    "start_time": "2022-11-19T11:37:50.519Z"
   },
   {
    "duration": 23,
    "start_time": "2022-11-19T11:37:53.090Z"
   },
   {
    "duration": 17,
    "start_time": "2022-11-19T11:37:53.115Z"
   },
   {
    "duration": 14,
    "start_time": "2022-11-19T11:37:53.134Z"
   },
   {
    "duration": 240,
    "start_time": "2022-11-19T11:37:53.150Z"
   },
   {
    "duration": 12,
    "start_time": "2022-11-19T11:37:53.392Z"
   },
   {
    "duration": 210,
    "start_time": "2022-11-19T11:37:53.406Z"
   },
   {
    "duration": 6,
    "start_time": "2022-11-19T11:37:53.618Z"
   },
   {
    "duration": 6,
    "start_time": "2022-11-19T11:37:53.626Z"
   },
   {
    "duration": 3554,
    "start_time": "2022-11-19T11:37:53.633Z"
   },
   {
    "duration": 10,
    "start_time": "2022-11-19T11:37:57.189Z"
   },
   {
    "duration": 4,
    "start_time": "2022-11-19T11:37:57.203Z"
   },
   {
    "duration": 6,
    "start_time": "2022-11-19T11:37:57.208Z"
   },
   {
    "duration": 21544,
    "start_time": "2022-11-19T11:37:57.215Z"
   },
   {
    "duration": 86,
    "start_time": "2022-11-19T11:38:18.761Z"
   },
   {
    "duration": 5,
    "start_time": "2022-11-19T11:38:18.849Z"
   },
   {
    "duration": 23,
    "start_time": "2022-11-19T11:38:18.856Z"
   },
   {
    "duration": 19,
    "start_time": "2022-11-19T11:38:18.896Z"
   },
   {
    "duration": 20,
    "start_time": "2022-11-19T11:38:18.917Z"
   },
   {
    "duration": 12,
    "start_time": "2022-11-19T11:38:18.939Z"
   },
   {
    "duration": 14,
    "start_time": "2022-11-19T11:38:18.953Z"
   },
   {
    "duration": 34,
    "start_time": "2022-11-19T11:38:18.969Z"
   },
   {
    "duration": 25,
    "start_time": "2022-11-19T11:38:19.005Z"
   },
   {
    "duration": 29,
    "start_time": "2022-11-19T11:38:19.033Z"
   },
   {
    "duration": 10,
    "start_time": "2022-11-19T11:38:19.065Z"
   },
   {
    "duration": 21,
    "start_time": "2022-11-19T11:38:19.076Z"
   },
   {
    "duration": 14,
    "start_time": "2022-11-19T11:38:19.099Z"
   },
   {
    "duration": 19,
    "start_time": "2022-11-19T11:38:19.115Z"
   },
   {
    "duration": 100,
    "start_time": "2022-11-19T11:38:19.136Z"
   },
   {
    "duration": 65,
    "start_time": "2022-11-19T11:38:19.239Z"
   },
   {
    "duration": 94,
    "start_time": "2022-11-19T11:38:19.306Z"
   },
   {
    "duration": 50,
    "start_time": "2022-11-19T11:38:19.402Z"
   },
   {
    "duration": 71,
    "start_time": "2022-11-19T11:38:19.454Z"
   },
   {
    "duration": 8,
    "start_time": "2022-11-19T11:38:19.527Z"
   },
   {
    "duration": 12,
    "start_time": "2022-11-19T11:38:19.536Z"
   },
   {
    "duration": 9,
    "start_time": "2022-11-19T11:38:19.550Z"
   },
   {
    "duration": 36,
    "start_time": "2022-11-19T11:38:19.561Z"
   },
   {
    "duration": 25,
    "start_time": "2022-11-19T11:38:19.599Z"
   },
   {
    "duration": 16,
    "start_time": "2022-11-19T11:38:19.627Z"
   },
   {
    "duration": 8,
    "start_time": "2022-11-19T11:38:19.645Z"
   },
   {
    "duration": 8,
    "start_time": "2022-11-19T11:38:19.654Z"
   },
   {
    "duration": 11,
    "start_time": "2022-11-19T11:38:19.663Z"
   },
   {
    "duration": 20,
    "start_time": "2022-11-19T11:38:19.676Z"
   },
   {
    "duration": 7,
    "start_time": "2022-11-19T11:38:19.698Z"
   },
   {
    "duration": 10,
    "start_time": "2022-11-19T11:38:19.707Z"
   },
   {
    "duration": 15,
    "start_time": "2022-11-19T11:38:19.719Z"
   },
   {
    "duration": 18,
    "start_time": "2022-11-19T11:38:19.736Z"
   },
   {
    "duration": 12,
    "start_time": "2022-11-19T11:38:19.756Z"
   },
   {
    "duration": 16,
    "start_time": "2022-11-19T11:38:19.770Z"
   },
   {
    "duration": 27,
    "start_time": "2022-11-19T11:38:19.797Z"
   },
   {
    "duration": 22,
    "start_time": "2022-11-19T11:38:19.826Z"
   },
   {
    "duration": 4,
    "start_time": "2022-11-19T11:38:19.850Z"
   },
   {
    "duration": 10,
    "start_time": "2022-11-19T11:38:19.856Z"
   },
   {
    "duration": 5,
    "start_time": "2022-11-19T11:38:19.868Z"
   },
   {
    "duration": 46,
    "start_time": "2022-11-19T11:38:19.875Z"
   },
   {
    "duration": 12,
    "start_time": "2022-11-19T11:38:19.924Z"
   },
   {
    "duration": 75,
    "start_time": "2022-11-19T11:38:19.939Z"
   },
   {
    "duration": 16,
    "start_time": "2022-11-19T11:38:20.016Z"
   },
   {
    "duration": 52,
    "start_time": "2022-11-19T11:38:20.033Z"
   },
   {
    "duration": 17,
    "start_time": "2022-11-19T11:38:20.096Z"
   },
   {
    "duration": 113,
    "start_time": "2022-11-19T11:39:54.081Z"
   },
   {
    "duration": 9,
    "start_time": "2022-11-19T11:40:10.524Z"
   },
   {
    "duration": 14,
    "start_time": "2022-11-19T11:43:18.091Z"
   },
   {
    "duration": 1313,
    "start_time": "2022-11-19T11:43:27.452Z"
   },
   {
    "duration": 3,
    "start_time": "2022-11-19T11:43:28.767Z"
   },
   {
    "duration": 8,
    "start_time": "2022-11-19T11:43:28.771Z"
   },
   {
    "duration": 4896,
    "start_time": "2022-11-19T11:43:28.780Z"
   },
   {
    "duration": 3,
    "start_time": "2022-11-19T11:43:33.677Z"
   },
   {
    "duration": 16507,
    "start_time": "2022-11-19T11:43:33.682Z"
   },
   {
    "duration": 15,
    "start_time": "2022-11-19T11:43:50.191Z"
   },
   {
    "duration": 7,
    "start_time": "2022-11-19T11:43:50.207Z"
   },
   {
    "duration": 10016,
    "start_time": "2022-11-19T11:43:50.216Z"
   },
   {
    "duration": 7,
    "start_time": "2022-11-19T11:44:00.234Z"
   },
   {
    "duration": 15,
    "start_time": "2022-11-19T11:44:00.243Z"
   },
   {
    "duration": 3165,
    "start_time": "2022-11-19T11:44:00.260Z"
   },
   {
    "duration": 7,
    "start_time": "2022-11-19T11:44:03.426Z"
   },
   {
    "duration": 6,
    "start_time": "2022-11-19T11:44:03.434Z"
   },
   {
    "duration": 3423,
    "start_time": "2022-11-19T11:44:03.441Z"
   },
   {
    "duration": 4,
    "start_time": "2022-11-19T11:44:06.866Z"
   },
   {
    "duration": 2565,
    "start_time": "2022-11-19T11:44:06.872Z"
   },
   {
    "duration": 19,
    "start_time": "2022-11-19T11:44:09.438Z"
   },
   {
    "duration": 22,
    "start_time": "2022-11-19T11:44:09.458Z"
   },
   {
    "duration": 20,
    "start_time": "2022-11-19T11:44:09.481Z"
   },
   {
    "duration": 235,
    "start_time": "2022-11-19T11:44:09.502Z"
   },
   {
    "duration": 9,
    "start_time": "2022-11-19T11:44:09.738Z"
   },
   {
    "duration": 222,
    "start_time": "2022-11-19T11:44:09.748Z"
   },
   {
    "duration": 6,
    "start_time": "2022-11-19T11:44:09.972Z"
   },
   {
    "duration": 16,
    "start_time": "2022-11-19T11:44:09.980Z"
   },
   {
    "duration": 3428,
    "start_time": "2022-11-19T11:44:09.997Z"
   },
   {
    "duration": 6,
    "start_time": "2022-11-19T11:44:13.427Z"
   },
   {
    "duration": 19,
    "start_time": "2022-11-19T11:44:13.436Z"
   },
   {
    "duration": 19,
    "start_time": "2022-11-19T11:44:13.457Z"
   },
   {
    "duration": 34691,
    "start_time": "2022-11-19T11:44:13.477Z"
   },
   {
    "duration": 89,
    "start_time": "2022-11-19T11:44:48.169Z"
   },
   {
    "duration": 5,
    "start_time": "2022-11-19T11:44:48.259Z"
   },
   {
    "duration": 32,
    "start_time": "2022-11-19T11:44:48.265Z"
   },
   {
    "duration": 16,
    "start_time": "2022-11-19T11:44:48.299Z"
   },
   {
    "duration": 13,
    "start_time": "2022-11-19T11:44:48.317Z"
   },
   {
    "duration": 12,
    "start_time": "2022-11-19T11:44:48.332Z"
   },
   {
    "duration": 16,
    "start_time": "2022-11-19T11:44:48.345Z"
   },
   {
    "duration": 13,
    "start_time": "2022-11-19T11:44:48.362Z"
   },
   {
    "duration": 14,
    "start_time": "2022-11-19T11:44:48.397Z"
   },
   {
    "duration": 22,
    "start_time": "2022-11-19T11:44:48.413Z"
   },
   {
    "duration": 8,
    "start_time": "2022-11-19T11:44:48.437Z"
   },
   {
    "duration": 10,
    "start_time": "2022-11-19T11:44:48.447Z"
   },
   {
    "duration": 10,
    "start_time": "2022-11-19T11:44:48.458Z"
   },
   {
    "duration": 27,
    "start_time": "2022-11-19T11:44:48.469Z"
   },
   {
    "duration": 88,
    "start_time": "2022-11-19T11:44:48.498Z"
   },
   {
    "duration": 54,
    "start_time": "2022-11-19T11:44:48.587Z"
   },
   {
    "duration": 88,
    "start_time": "2022-11-19T11:44:48.643Z"
   },
   {
    "duration": 45,
    "start_time": "2022-11-19T11:44:48.732Z"
   },
   {
    "duration": 58,
    "start_time": "2022-11-19T11:44:48.779Z"
   },
   {
    "duration": 7,
    "start_time": "2022-11-19T11:44:48.839Z"
   },
   {
    "duration": 8,
    "start_time": "2022-11-19T11:44:48.848Z"
   },
   {
    "duration": 8,
    "start_time": "2022-11-19T11:44:48.857Z"
   },
   {
    "duration": 42,
    "start_time": "2022-11-19T11:44:48.866Z"
   },
   {
    "duration": 22,
    "start_time": "2022-11-19T11:44:48.910Z"
   },
   {
    "duration": 15,
    "start_time": "2022-11-19T11:44:48.934Z"
   },
   {
    "duration": 6,
    "start_time": "2022-11-19T11:44:48.950Z"
   },
   {
    "duration": 8,
    "start_time": "2022-11-19T11:44:48.957Z"
   },
   {
    "duration": 31,
    "start_time": "2022-11-19T11:44:48.966Z"
   },
   {
    "duration": 3,
    "start_time": "2022-11-19T11:44:48.999Z"
   },
   {
    "duration": 5,
    "start_time": "2022-11-19T11:44:49.004Z"
   },
   {
    "duration": 8,
    "start_time": "2022-11-19T11:44:49.011Z"
   },
   {
    "duration": 4,
    "start_time": "2022-11-19T11:44:49.021Z"
   },
   {
    "duration": 19,
    "start_time": "2022-11-19T11:44:49.026Z"
   },
   {
    "duration": 14,
    "start_time": "2022-11-19T11:44:49.046Z"
   },
   {
    "duration": 6,
    "start_time": "2022-11-19T11:44:49.062Z"
   },
   {
    "duration": 37,
    "start_time": "2022-11-19T11:44:49.070Z"
   },
   {
    "duration": 23,
    "start_time": "2022-11-19T11:44:49.109Z"
   },
   {
    "duration": 4,
    "start_time": "2022-11-19T11:44:49.134Z"
   },
   {
    "duration": 5,
    "start_time": "2022-11-19T11:44:49.140Z"
   },
   {
    "duration": 5,
    "start_time": "2022-11-19T11:44:49.147Z"
   },
   {
    "duration": 22,
    "start_time": "2022-11-19T11:44:49.153Z"
   },
   {
    "duration": 10,
    "start_time": "2022-11-19T11:44:49.196Z"
   },
   {
    "duration": 238,
    "start_time": "2022-11-19T11:44:49.208Z"
   },
   {
    "duration": 0,
    "start_time": "2022-11-19T11:44:49.447Z"
   },
   {
    "duration": 0,
    "start_time": "2022-11-19T11:44:49.449Z"
   },
   {
    "duration": 0,
    "start_time": "2022-11-19T11:44:49.450Z"
   },
   {
    "duration": 11,
    "start_time": "2022-11-19T11:45:30.715Z"
   },
   {
    "duration": 15,
    "start_time": "2022-11-19T11:45:47.782Z"
   },
   {
    "duration": 16,
    "start_time": "2022-11-19T11:46:21.984Z"
   },
   {
    "duration": 35,
    "start_time": "2022-11-19T11:46:43.610Z"
   },
   {
    "duration": 7,
    "start_time": "2022-11-19T11:47:00.073Z"
   },
   {
    "duration": 2,
    "start_time": "2022-11-19T11:49:30.686Z"
   },
   {
    "duration": 2,
    "start_time": "2022-11-19T11:49:31.376Z"
   },
   {
    "duration": 27,
    "start_time": "2022-11-19T11:49:33.285Z"
   },
   {
    "duration": 11,
    "start_time": "2022-11-19T11:49:36.684Z"
   },
   {
    "duration": 13,
    "start_time": "2022-11-19T11:49:39.553Z"
   },
   {
    "duration": 15,
    "start_time": "2022-11-19T11:49:43.410Z"
   },
   {
    "duration": 96,
    "start_time": "2022-11-19T11:49:46.140Z"
   },
   {
    "duration": 8,
    "start_time": "2022-11-19T11:49:47.626Z"
   },
   {
    "duration": 2,
    "start_time": "2022-11-19T11:50:51.448Z"
   },
   {
    "duration": 3,
    "start_time": "2022-11-19T11:50:51.955Z"
   },
   {
    "duration": 35,
    "start_time": "2022-11-19T11:50:52.427Z"
   },
   {
    "duration": 20,
    "start_time": "2022-11-19T11:50:53.235Z"
   },
   {
    "duration": 17,
    "start_time": "2022-11-19T11:50:55.411Z"
   },
   {
    "duration": 16,
    "start_time": "2022-11-19T11:50:57.995Z"
   },
   {
    "duration": 111,
    "start_time": "2022-11-19T11:50:58.872Z"
   },
   {
    "duration": 8,
    "start_time": "2022-11-19T11:50:59.736Z"
   },
   {
    "duration": 20,
    "start_time": "2022-11-19T11:51:46.166Z"
   },
   {
    "duration": 47,
    "start_time": "2022-11-19T11:51:49.791Z"
   },
   {
    "duration": 16,
    "start_time": "2022-11-19T11:51:50.354Z"
   },
   {
    "duration": 2,
    "start_time": "2022-11-19T11:52:14.993Z"
   },
   {
    "duration": 2,
    "start_time": "2022-11-19T11:52:15.385Z"
   },
   {
    "duration": 44,
    "start_time": "2022-11-19T11:52:15.918Z"
   },
   {
    "duration": 17,
    "start_time": "2022-11-19T11:52:19.507Z"
   },
   {
    "duration": 19,
    "start_time": "2022-11-19T11:52:20.411Z"
   },
   {
    "duration": 16,
    "start_time": "2022-11-19T11:52:23.301Z"
   },
   {
    "duration": 146,
    "start_time": "2022-11-19T11:52:23.904Z"
   },
   {
    "duration": 10,
    "start_time": "2022-11-19T11:52:24.802Z"
   },
   {
    "duration": 15,
    "start_time": "2022-11-19T11:52:26.835Z"
   },
   {
    "duration": 59,
    "start_time": "2022-11-19T11:52:29.303Z"
   },
   {
    "duration": 16,
    "start_time": "2022-11-19T11:52:29.941Z"
   },
   {
    "duration": 2,
    "start_time": "2022-11-19T11:53:02.086Z"
   },
   {
    "duration": 3,
    "start_time": "2022-11-19T11:53:02.727Z"
   },
   {
    "duration": 96,
    "start_time": "2022-11-19T11:53:03.300Z"
   },
   {
    "duration": 31,
    "start_time": "2022-11-19T11:53:07.055Z"
   },
   {
    "duration": 36,
    "start_time": "2022-11-19T11:53:09.199Z"
   },
   {
    "duration": 18,
    "start_time": "2022-11-19T11:53:12.136Z"
   },
   {
    "duration": 144,
    "start_time": "2022-11-19T11:53:12.994Z"
   },
   {
    "duration": 4,
    "start_time": "2022-11-19T11:53:38.790Z"
   },
   {
    "duration": 3,
    "start_time": "2022-11-19T11:53:39.299Z"
   },
   {
    "duration": 104,
    "start_time": "2022-11-19T11:53:39.846Z"
   },
   {
    "duration": 29,
    "start_time": "2022-11-19T11:53:42.393Z"
   },
   {
    "duration": 35,
    "start_time": "2022-11-19T11:53:44.721Z"
   },
   {
    "duration": 19,
    "start_time": "2022-11-19T11:53:51.030Z"
   },
   {
    "duration": 147,
    "start_time": "2022-11-19T11:53:54.213Z"
   },
   {
    "duration": 3,
    "start_time": "2022-11-19T11:55:39.007Z"
   },
   {
    "duration": 206,
    "start_time": "2022-11-19T11:55:39.838Z"
   },
   {
    "duration": 17,
    "start_time": "2022-11-19T11:55:43.247Z"
   },
   {
    "duration": 3,
    "start_time": "2022-11-19T11:55:55.116Z"
   },
   {
    "duration": 228,
    "start_time": "2022-11-19T11:55:55.730Z"
   },
   {
    "duration": 12,
    "start_time": "2022-11-19T11:55:56.586Z"
   },
   {
    "duration": 2,
    "start_time": "2022-11-19T11:56:12.692Z"
   },
   {
    "duration": 265,
    "start_time": "2022-11-19T11:56:13.731Z"
   },
   {
    "duration": 24,
    "start_time": "2022-11-19T11:56:15.794Z"
   },
   {
    "duration": 4,
    "start_time": "2022-11-19T11:56:29.052Z"
   },
   {
    "duration": 308,
    "start_time": "2022-11-19T11:56:29.621Z"
   },
   {
    "duration": 14,
    "start_time": "2022-11-19T11:56:30.991Z"
   },
   {
    "duration": 3,
    "start_time": "2022-11-19T11:56:41.644Z"
   },
   {
    "duration": 311,
    "start_time": "2022-11-19T11:56:42.235Z"
   },
   {
    "duration": 16,
    "start_time": "2022-11-19T11:56:43.698Z"
   },
   {
    "duration": 4,
    "start_time": "2022-11-19T11:56:54.746Z"
   },
   {
    "duration": 376,
    "start_time": "2022-11-19T11:56:55.381Z"
   },
   {
    "duration": 15,
    "start_time": "2022-11-19T11:56:56.368Z"
   },
   {
    "duration": 3,
    "start_time": "2022-11-19T11:57:21.881Z"
   },
   {
    "duration": 354,
    "start_time": "2022-11-19T11:57:22.625Z"
   },
   {
    "duration": 15,
    "start_time": "2022-11-19T11:57:23.888Z"
   },
   {
    "duration": 3,
    "start_time": "2022-11-19T11:57:38.798Z"
   },
   {
    "duration": 373,
    "start_time": "2022-11-19T11:57:39.451Z"
   },
   {
    "duration": 16,
    "start_time": "2022-11-19T11:57:40.380Z"
   },
   {
    "duration": 3,
    "start_time": "2022-11-19T11:57:57.427Z"
   },
   {
    "duration": 131,
    "start_time": "2022-11-19T11:57:57.998Z"
   },
   {
    "duration": 3,
    "start_time": "2022-11-19T11:58:12.101Z"
   },
   {
    "duration": 386,
    "start_time": "2022-11-19T11:58:12.649Z"
   },
   {
    "duration": 19,
    "start_time": "2022-11-19T11:58:15.189Z"
   },
   {
    "duration": 781,
    "start_time": "2022-11-19T12:01:47.945Z"
   },
   {
    "duration": 8,
    "start_time": "2022-11-19T12:02:12.551Z"
   },
   {
    "duration": 21,
    "start_time": "2022-11-19T12:51:41.280Z"
   },
   {
    "duration": 10,
    "start_time": "2022-11-19T12:53:26.601Z"
   },
   {
    "duration": 343,
    "start_time": "2022-11-19T12:53:27.240Z"
   },
   {
    "duration": 3,
    "start_time": "2022-11-19T12:53:40.778Z"
   },
   {
    "duration": 15,
    "start_time": "2022-11-19T12:53:41.702Z"
   },
   {
    "duration": 10,
    "start_time": "2022-11-19T12:53:42.426Z"
   },
   {
    "duration": 408,
    "start_time": "2022-11-19T12:53:43.270Z"
   },
   {
    "duration": 18,
    "start_time": "2022-11-19T12:53:46.017Z"
   },
   {
    "duration": 3,
    "start_time": "2022-11-19T12:58:21.836Z"
   },
   {
    "duration": 14,
    "start_time": "2022-11-19T12:58:22.588Z"
   },
   {
    "duration": 10,
    "start_time": "2022-11-19T12:58:24.066Z"
   },
   {
    "duration": 417,
    "start_time": "2022-11-19T12:58:24.737Z"
   },
   {
    "duration": 26,
    "start_time": "2022-11-19T12:58:26.122Z"
   },
   {
    "duration": 10,
    "start_time": "2022-11-19T13:03:17.727Z"
   },
   {
    "duration": 11,
    "start_time": "2022-11-19T13:03:23.680Z"
   },
   {
    "duration": 10,
    "start_time": "2022-11-19T13:04:48.224Z"
   },
   {
    "duration": 12,
    "start_time": "2022-11-19T13:04:54.273Z"
   },
   {
    "duration": 15,
    "start_time": "2022-11-19T13:05:17.594Z"
   },
   {
    "duration": 21,
    "start_time": "2022-11-19T13:05:29.910Z"
   },
   {
    "duration": 1369,
    "start_time": "2022-11-19T13:06:01.010Z"
   },
   {
    "duration": 3,
    "start_time": "2022-11-19T13:06:02.381Z"
   },
   {
    "duration": 7,
    "start_time": "2022-11-19T13:06:02.385Z"
   },
   {
    "duration": 5437,
    "start_time": "2022-11-19T13:06:02.395Z"
   },
   {
    "duration": 3,
    "start_time": "2022-11-19T13:06:07.833Z"
   },
   {
    "duration": 16611,
    "start_time": "2022-11-19T13:06:07.837Z"
   },
   {
    "duration": 13,
    "start_time": "2022-11-19T13:06:24.449Z"
   },
   {
    "duration": 3,
    "start_time": "2022-11-19T13:06:24.463Z"
   },
   {
    "duration": 10265,
    "start_time": "2022-11-19T13:06:24.467Z"
   },
   {
    "duration": 7,
    "start_time": "2022-11-19T13:06:34.735Z"
   },
   {
    "duration": 8,
    "start_time": "2022-11-19T13:06:34.743Z"
   },
   {
    "duration": 3214,
    "start_time": "2022-11-19T13:06:34.752Z"
   },
   {
    "duration": 6,
    "start_time": "2022-11-19T13:06:37.967Z"
   },
   {
    "duration": 7,
    "start_time": "2022-11-19T13:06:37.974Z"
   },
   {
    "duration": 3448,
    "start_time": "2022-11-19T13:06:37.982Z"
   },
   {
    "duration": 5,
    "start_time": "2022-11-19T13:06:41.432Z"
   },
   {
    "duration": 2652,
    "start_time": "2022-11-19T13:06:41.439Z"
   },
   {
    "duration": 19,
    "start_time": "2022-11-19T13:06:44.096Z"
   },
   {
    "duration": 8,
    "start_time": "2022-11-19T13:06:44.116Z"
   },
   {
    "duration": 12,
    "start_time": "2022-11-19T13:06:44.125Z"
   },
   {
    "duration": 258,
    "start_time": "2022-11-19T13:06:44.139Z"
   },
   {
    "duration": 9,
    "start_time": "2022-11-19T13:06:44.399Z"
   },
   {
    "duration": 229,
    "start_time": "2022-11-19T13:06:44.410Z"
   },
   {
    "duration": 6,
    "start_time": "2022-11-19T13:06:44.641Z"
   },
   {
    "duration": 4,
    "start_time": "2022-11-19T13:06:44.649Z"
   },
   {
    "duration": 3592,
    "start_time": "2022-11-19T13:06:44.655Z"
   },
   {
    "duration": 7,
    "start_time": "2022-11-19T13:06:48.249Z"
   },
   {
    "duration": 12,
    "start_time": "2022-11-19T13:06:48.260Z"
   },
   {
    "duration": 10,
    "start_time": "2022-11-19T13:06:48.274Z"
   },
   {
    "duration": 22596,
    "start_time": "2022-11-19T13:06:48.286Z"
   },
   {
    "duration": 91,
    "start_time": "2022-11-19T13:07:10.884Z"
   },
   {
    "duration": 21,
    "start_time": "2022-11-19T13:07:10.977Z"
   },
   {
    "duration": 24,
    "start_time": "2022-11-19T13:07:10.999Z"
   },
   {
    "duration": 23,
    "start_time": "2022-11-19T13:07:11.024Z"
   },
   {
    "duration": 25,
    "start_time": "2022-11-19T13:07:11.049Z"
   },
   {
    "duration": 20,
    "start_time": "2022-11-19T13:07:11.076Z"
   },
   {
    "duration": 19,
    "start_time": "2022-11-19T13:07:11.099Z"
   },
   {
    "duration": 17,
    "start_time": "2022-11-19T13:07:11.119Z"
   },
   {
    "duration": 13,
    "start_time": "2022-11-19T13:07:11.138Z"
   },
   {
    "duration": 19,
    "start_time": "2022-11-19T13:07:11.153Z"
   },
   {
    "duration": 8,
    "start_time": "2022-11-19T13:07:11.174Z"
   },
   {
    "duration": 8,
    "start_time": "2022-11-19T13:07:11.196Z"
   },
   {
    "duration": 7,
    "start_time": "2022-11-19T13:07:11.206Z"
   },
   {
    "duration": 15,
    "start_time": "2022-11-19T13:07:11.214Z"
   },
   {
    "duration": 102,
    "start_time": "2022-11-19T13:07:11.231Z"
   },
   {
    "duration": 49,
    "start_time": "2022-11-19T13:07:11.335Z"
   },
   {
    "duration": 77,
    "start_time": "2022-11-19T13:07:11.396Z"
   },
   {
    "duration": 55,
    "start_time": "2022-11-19T13:07:11.475Z"
   },
   {
    "duration": 50,
    "start_time": "2022-11-19T13:07:11.532Z"
   },
   {
    "duration": 8,
    "start_time": "2022-11-19T13:07:11.597Z"
   },
   {
    "duration": 9,
    "start_time": "2022-11-19T13:07:11.606Z"
   },
   {
    "duration": 7,
    "start_time": "2022-11-19T13:07:11.616Z"
   },
   {
    "duration": 18,
    "start_time": "2022-11-19T13:07:11.624Z"
   },
   {
    "duration": 25,
    "start_time": "2022-11-19T13:07:11.644Z"
   },
   {
    "duration": 40,
    "start_time": "2022-11-19T13:07:11.670Z"
   },
   {
    "duration": 7,
    "start_time": "2022-11-19T13:07:11.712Z"
   },
   {
    "duration": 7,
    "start_time": "2022-11-19T13:07:11.721Z"
   },
   {
    "duration": 10,
    "start_time": "2022-11-19T13:07:11.730Z"
   },
   {
    "duration": 10,
    "start_time": "2022-11-19T13:07:11.742Z"
   },
   {
    "duration": 5,
    "start_time": "2022-11-19T13:07:11.753Z"
   },
   {
    "duration": 7,
    "start_time": "2022-11-19T13:07:11.759Z"
   },
   {
    "duration": 5,
    "start_time": "2022-11-19T13:07:11.768Z"
   },
   {
    "duration": 27,
    "start_time": "2022-11-19T13:07:11.774Z"
   },
   {
    "duration": 10,
    "start_time": "2022-11-19T13:07:11.802Z"
   },
   {
    "duration": 7,
    "start_time": "2022-11-19T13:07:11.813Z"
   },
   {
    "duration": 20,
    "start_time": "2022-11-19T13:07:11.821Z"
   },
   {
    "duration": 5,
    "start_time": "2022-11-19T13:07:11.843Z"
   },
   {
    "duration": 276,
    "start_time": "2022-11-19T13:07:11.850Z"
   },
   {
    "duration": 0,
    "start_time": "2022-11-19T13:07:12.128Z"
   },
   {
    "duration": 0,
    "start_time": "2022-11-19T13:07:12.130Z"
   },
   {
    "duration": 0,
    "start_time": "2022-11-19T13:07:12.131Z"
   },
   {
    "duration": 0,
    "start_time": "2022-11-19T13:07:12.132Z"
   },
   {
    "duration": 0,
    "start_time": "2022-11-19T13:07:12.133Z"
   },
   {
    "duration": 0,
    "start_time": "2022-11-19T13:07:12.135Z"
   },
   {
    "duration": 0,
    "start_time": "2022-11-19T13:07:12.136Z"
   },
   {
    "duration": 23,
    "start_time": "2022-11-19T13:11:23.246Z"
   },
   {
    "duration": 13,
    "start_time": "2022-11-19T13:11:25.963Z"
   },
   {
    "duration": 3,
    "start_time": "2022-11-19T13:11:26.380Z"
   },
   {
    "duration": 443,
    "start_time": "2022-11-19T13:11:27.514Z"
   },
   {
    "duration": 18,
    "start_time": "2022-11-19T13:11:30.605Z"
   },
   {
    "duration": 18,
    "start_time": "2022-11-19T13:11:32.098Z"
   },
   {
    "duration": 5,
    "start_time": "2022-11-19T13:13:29.060Z"
   },
   {
    "duration": 12,
    "start_time": "2022-11-19T13:13:43.033Z"
   },
   {
    "duration": 11,
    "start_time": "2022-11-19T13:13:56.601Z"
   },
   {
    "duration": 20,
    "start_time": "2022-11-19T13:13:57.050Z"
   },
   {
    "duration": 19,
    "start_time": "2022-11-19T13:14:00.042Z"
   },
   {
    "duration": 17,
    "start_time": "2022-11-19T13:14:07.617Z"
   },
   {
    "duration": 728,
    "start_time": "2022-11-19T13:14:35.760Z"
   },
   {
    "duration": 3,
    "start_time": "2022-11-19T13:14:53.358Z"
   },
   {
    "duration": 18,
    "start_time": "2022-11-19T13:15:59.608Z"
   },
   {
    "duration": 14,
    "start_time": "2022-11-19T13:16:00.150Z"
   },
   {
    "duration": 2,
    "start_time": "2022-11-19T13:16:02.033Z"
   },
   {
    "duration": 13,
    "start_time": "2022-11-19T13:16:02.703Z"
   },
   {
    "duration": 1380,
    "start_time": "2022-11-19T13:16:46.618Z"
   },
   {
    "duration": 3,
    "start_time": "2022-11-19T13:16:48.000Z"
   },
   {
    "duration": 6,
    "start_time": "2022-11-19T13:16:48.005Z"
   },
   {
    "duration": 4582,
    "start_time": "2022-11-19T13:16:48.014Z"
   },
   {
    "duration": 3,
    "start_time": "2022-11-19T13:16:52.597Z"
   },
   {
    "duration": 17495,
    "start_time": "2022-11-19T13:16:52.602Z"
   },
   {
    "duration": 13,
    "start_time": "2022-11-19T13:17:10.099Z"
   },
   {
    "duration": 12,
    "start_time": "2022-11-19T13:17:10.113Z"
   },
   {
    "duration": 10357,
    "start_time": "2022-11-19T13:17:10.127Z"
   },
   {
    "duration": 10,
    "start_time": "2022-11-19T13:17:20.487Z"
   },
   {
    "duration": 10,
    "start_time": "2022-11-19T13:17:20.499Z"
   },
   {
    "duration": 3281,
    "start_time": "2022-11-19T13:17:20.511Z"
   },
   {
    "duration": 8,
    "start_time": "2022-11-19T13:17:23.794Z"
   },
   {
    "duration": 8,
    "start_time": "2022-11-19T13:17:23.803Z"
   },
   {
    "duration": 3584,
    "start_time": "2022-11-19T13:17:23.813Z"
   },
   {
    "duration": 5,
    "start_time": "2022-11-19T13:17:27.399Z"
   },
   {
    "duration": 2643,
    "start_time": "2022-11-19T13:17:27.405Z"
   },
   {
    "duration": 20,
    "start_time": "2022-11-19T13:17:30.051Z"
   },
   {
    "duration": 24,
    "start_time": "2022-11-19T13:17:30.073Z"
   },
   {
    "duration": 56,
    "start_time": "2022-11-19T13:17:30.099Z"
   },
   {
    "duration": 278,
    "start_time": "2022-11-19T13:17:30.157Z"
   },
   {
    "duration": 9,
    "start_time": "2022-11-19T13:17:30.437Z"
   },
   {
    "duration": 243,
    "start_time": "2022-11-19T13:17:30.448Z"
   },
   {
    "duration": 8,
    "start_time": "2022-11-19T13:17:30.696Z"
   },
   {
    "duration": 19,
    "start_time": "2022-11-19T13:17:30.705Z"
   },
   {
    "duration": 3603,
    "start_time": "2022-11-19T13:17:30.727Z"
   },
   {
    "duration": 7,
    "start_time": "2022-11-19T13:17:34.332Z"
   },
   {
    "duration": 7,
    "start_time": "2022-11-19T13:17:34.343Z"
   },
   {
    "duration": 5,
    "start_time": "2022-11-19T13:17:34.351Z"
   },
   {
    "duration": 22408,
    "start_time": "2022-11-19T13:17:34.358Z"
   },
   {
    "duration": 85,
    "start_time": "2022-11-19T13:17:56.768Z"
   },
   {
    "duration": 4,
    "start_time": "2022-11-19T13:17:56.855Z"
   },
   {
    "duration": 36,
    "start_time": "2022-11-19T13:17:56.861Z"
   },
   {
    "duration": 19,
    "start_time": "2022-11-19T13:17:56.899Z"
   },
   {
    "duration": 15,
    "start_time": "2022-11-19T13:17:56.919Z"
   },
   {
    "duration": 11,
    "start_time": "2022-11-19T13:17:56.936Z"
   },
   {
    "duration": 16,
    "start_time": "2022-11-19T13:17:56.948Z"
   },
   {
    "duration": 36,
    "start_time": "2022-11-19T13:17:56.965Z"
   },
   {
    "duration": 15,
    "start_time": "2022-11-19T13:17:57.002Z"
   },
   {
    "duration": 21,
    "start_time": "2022-11-19T13:17:57.018Z"
   },
   {
    "duration": 9,
    "start_time": "2022-11-19T13:17:57.042Z"
   },
   {
    "duration": 11,
    "start_time": "2022-11-19T13:17:57.052Z"
   },
   {
    "duration": 11,
    "start_time": "2022-11-19T13:17:57.064Z"
   },
   {
    "duration": 25,
    "start_time": "2022-11-19T13:17:57.076Z"
   },
   {
    "duration": 98,
    "start_time": "2022-11-19T13:17:57.103Z"
   },
   {
    "duration": 49,
    "start_time": "2022-11-19T13:17:57.203Z"
   },
   {
    "duration": 95,
    "start_time": "2022-11-19T13:17:57.253Z"
   },
   {
    "duration": 56,
    "start_time": "2022-11-19T13:17:57.350Z"
   },
   {
    "duration": 52,
    "start_time": "2022-11-19T13:17:57.407Z"
   },
   {
    "duration": 9,
    "start_time": "2022-11-19T13:17:57.460Z"
   },
   {
    "duration": 26,
    "start_time": "2022-11-19T13:17:57.470Z"
   },
   {
    "duration": 10,
    "start_time": "2022-11-19T13:17:57.498Z"
   },
   {
    "duration": 48,
    "start_time": "2022-11-19T13:17:57.510Z"
   },
   {
    "duration": 31,
    "start_time": "2022-11-19T13:17:57.559Z"
   },
   {
    "duration": 15,
    "start_time": "2022-11-19T13:17:57.592Z"
   },
   {
    "duration": 10,
    "start_time": "2022-11-19T13:17:57.609Z"
   },
   {
    "duration": 22,
    "start_time": "2022-11-19T13:17:57.621Z"
   },
   {
    "duration": 20,
    "start_time": "2022-11-19T13:17:57.644Z"
   },
   {
    "duration": 16,
    "start_time": "2022-11-19T13:17:57.666Z"
   },
   {
    "duration": 18,
    "start_time": "2022-11-19T13:17:57.684Z"
   },
   {
    "duration": 19,
    "start_time": "2022-11-19T13:17:57.704Z"
   },
   {
    "duration": 19,
    "start_time": "2022-11-19T13:17:57.725Z"
   },
   {
    "duration": 19,
    "start_time": "2022-11-19T13:17:57.745Z"
   },
   {
    "duration": 11,
    "start_time": "2022-11-19T13:17:57.765Z"
   },
   {
    "duration": 10,
    "start_time": "2022-11-19T13:17:57.778Z"
   },
   {
    "duration": 35,
    "start_time": "2022-11-19T13:17:57.790Z"
   },
   {
    "duration": 39,
    "start_time": "2022-11-19T13:17:57.827Z"
   },
   {
    "duration": 24,
    "start_time": "2022-11-19T13:17:57.868Z"
   },
   {
    "duration": 483,
    "start_time": "2022-11-19T13:17:57.893Z"
   },
   {
    "duration": 23,
    "start_time": "2022-11-19T13:17:58.377Z"
   },
   {
    "duration": 19,
    "start_time": "2022-11-19T13:17:58.402Z"
   },
   {
    "duration": 3,
    "start_time": "2022-11-19T13:17:58.423Z"
   },
   {
    "duration": 127,
    "start_time": "2022-11-19T13:17:58.427Z"
   },
   {
    "duration": 0,
    "start_time": "2022-11-19T13:17:58.555Z"
   },
   {
    "duration": 12,
    "start_time": "2022-11-19T13:18:30.928Z"
   },
   {
    "duration": 13,
    "start_time": "2022-11-19T13:18:38.510Z"
   },
   {
    "duration": 10,
    "start_time": "2022-11-19T13:18:42.487Z"
   },
   {
    "duration": 3,
    "start_time": "2022-11-19T13:18:52.190Z"
   },
   {
    "duration": 6,
    "start_time": "2022-11-19T13:18:54.397Z"
   },
   {
    "duration": 10,
    "start_time": "2022-11-19T13:19:34.727Z"
   },
   {
    "duration": 14,
    "start_time": "2022-11-19T13:19:43.405Z"
   },
   {
    "duration": 1403,
    "start_time": "2022-11-19T13:20:12.370Z"
   },
   {
    "duration": 4,
    "start_time": "2022-11-19T13:20:13.775Z"
   },
   {
    "duration": 18,
    "start_time": "2022-11-19T13:20:13.781Z"
   },
   {
    "duration": 5517,
    "start_time": "2022-11-19T13:20:13.802Z"
   },
   {
    "duration": 3,
    "start_time": "2022-11-19T13:20:19.321Z"
   },
   {
    "duration": 17183,
    "start_time": "2022-11-19T13:20:19.326Z"
   },
   {
    "duration": 13,
    "start_time": "2022-11-19T13:20:36.511Z"
   },
   {
    "duration": 6,
    "start_time": "2022-11-19T13:20:36.526Z"
   },
   {
    "duration": 10536,
    "start_time": "2022-11-19T13:20:36.533Z"
   },
   {
    "duration": 7,
    "start_time": "2022-11-19T13:20:47.070Z"
   },
   {
    "duration": 16,
    "start_time": "2022-11-19T13:20:47.079Z"
   },
   {
    "duration": 3277,
    "start_time": "2022-11-19T13:20:47.097Z"
   },
   {
    "duration": 7,
    "start_time": "2022-11-19T13:20:50.376Z"
   },
   {
    "duration": 5,
    "start_time": "2022-11-19T13:20:50.396Z"
   },
   {
    "duration": 3499,
    "start_time": "2022-11-19T13:20:50.402Z"
   },
   {
    "duration": 6,
    "start_time": "2022-11-19T13:20:53.903Z"
   },
   {
    "duration": 2708,
    "start_time": "2022-11-19T13:20:53.911Z"
   },
   {
    "duration": 21,
    "start_time": "2022-11-19T13:20:56.621Z"
   },
   {
    "duration": 14,
    "start_time": "2022-11-19T13:20:56.644Z"
   },
   {
    "duration": 15,
    "start_time": "2022-11-19T13:20:56.659Z"
   },
   {
    "duration": 266,
    "start_time": "2022-11-19T13:20:56.675Z"
   },
   {
    "duration": 12,
    "start_time": "2022-11-19T13:20:56.943Z"
   },
   {
    "duration": 240,
    "start_time": "2022-11-19T13:20:56.957Z"
   },
   {
    "duration": 7,
    "start_time": "2022-11-19T13:20:57.199Z"
   },
   {
    "duration": 5,
    "start_time": "2022-11-19T13:20:57.208Z"
   },
   {
    "duration": 3511,
    "start_time": "2022-11-19T13:20:57.215Z"
   },
   {
    "duration": 7,
    "start_time": "2022-11-19T13:21:00.728Z"
   },
   {
    "duration": 11,
    "start_time": "2022-11-19T13:21:00.737Z"
   },
   {
    "duration": 20,
    "start_time": "2022-11-19T13:21:00.750Z"
   },
   {
    "duration": 21034,
    "start_time": "2022-11-19T13:21:00.771Z"
   },
   {
    "duration": 92,
    "start_time": "2022-11-19T13:21:21.807Z"
   },
   {
    "duration": 6,
    "start_time": "2022-11-19T13:21:21.901Z"
   },
   {
    "duration": 26,
    "start_time": "2022-11-19T13:21:21.909Z"
   },
   {
    "duration": 19,
    "start_time": "2022-11-19T13:21:21.938Z"
   },
   {
    "duration": 32,
    "start_time": "2022-11-19T13:21:21.959Z"
   },
   {
    "duration": 13,
    "start_time": "2022-11-19T13:21:21.995Z"
   },
   {
    "duration": 18,
    "start_time": "2022-11-19T13:21:22.010Z"
   },
   {
    "duration": 22,
    "start_time": "2022-11-19T13:21:22.029Z"
   },
   {
    "duration": 15,
    "start_time": "2022-11-19T13:21:22.053Z"
   },
   {
    "duration": 38,
    "start_time": "2022-11-19T13:21:22.069Z"
   },
   {
    "duration": 10,
    "start_time": "2022-11-19T13:21:22.112Z"
   },
   {
    "duration": 14,
    "start_time": "2022-11-19T13:21:22.124Z"
   },
   {
    "duration": 13,
    "start_time": "2022-11-19T13:21:22.140Z"
   },
   {
    "duration": 11,
    "start_time": "2022-11-19T13:21:22.155Z"
   },
   {
    "duration": 114,
    "start_time": "2022-11-19T13:21:22.168Z"
   },
   {
    "duration": 55,
    "start_time": "2022-11-19T13:21:22.284Z"
   },
   {
    "duration": 87,
    "start_time": "2022-11-19T13:21:22.341Z"
   },
   {
    "duration": 49,
    "start_time": "2022-11-19T13:21:22.430Z"
   },
   {
    "duration": 68,
    "start_time": "2022-11-19T13:21:22.481Z"
   },
   {
    "duration": 8,
    "start_time": "2022-11-19T13:21:22.551Z"
   },
   {
    "duration": 8,
    "start_time": "2022-11-19T13:21:22.561Z"
   },
   {
    "duration": 34,
    "start_time": "2022-11-19T13:21:22.570Z"
   },
   {
    "duration": 25,
    "start_time": "2022-11-19T13:21:22.606Z"
   },
   {
    "duration": 35,
    "start_time": "2022-11-19T13:21:22.633Z"
   },
   {
    "duration": 33,
    "start_time": "2022-11-19T13:21:22.670Z"
   },
   {
    "duration": 9,
    "start_time": "2022-11-19T13:21:22.705Z"
   },
   {
    "duration": 11,
    "start_time": "2022-11-19T13:21:22.715Z"
   },
   {
    "duration": 13,
    "start_time": "2022-11-19T13:21:22.729Z"
   },
   {
    "duration": 13,
    "start_time": "2022-11-19T13:21:22.744Z"
   },
   {
    "duration": 15,
    "start_time": "2022-11-19T13:21:22.759Z"
   },
   {
    "duration": 14,
    "start_time": "2022-11-19T13:21:22.776Z"
   },
   {
    "duration": 7,
    "start_time": "2022-11-19T13:21:22.792Z"
   },
   {
    "duration": 11,
    "start_time": "2022-11-19T13:21:22.801Z"
   },
   {
    "duration": 10,
    "start_time": "2022-11-19T13:21:22.813Z"
   },
   {
    "duration": 8,
    "start_time": "2022-11-19T13:21:22.825Z"
   },
   {
    "duration": 22,
    "start_time": "2022-11-19T13:21:22.835Z"
   },
   {
    "duration": 46,
    "start_time": "2022-11-19T13:21:22.859Z"
   },
   {
    "duration": 3,
    "start_time": "2022-11-19T13:21:22.908Z"
   },
   {
    "duration": 531,
    "start_time": "2022-11-19T13:21:22.914Z"
   },
   {
    "duration": 21,
    "start_time": "2022-11-19T13:21:23.447Z"
   },
   {
    "duration": 13,
    "start_time": "2022-11-19T13:21:23.469Z"
   },
   {
    "duration": 3,
    "start_time": "2022-11-19T13:21:23.496Z"
   },
   {
    "duration": 8,
    "start_time": "2022-11-19T13:21:23.501Z"
   },
   {
    "duration": 15,
    "start_time": "2022-11-19T13:21:23.512Z"
   },
   {
    "duration": 140,
    "start_time": "2022-11-19T13:21:23.529Z"
   },
   {
    "duration": 0,
    "start_time": "2022-11-19T13:21:23.670Z"
   },
   {
    "duration": 43,
    "start_time": "2022-11-19T13:26:23.141Z"
   },
   {
    "duration": 1384,
    "start_time": "2022-11-19T13:26:36.421Z"
   },
   {
    "duration": 2,
    "start_time": "2022-11-19T13:26:37.807Z"
   },
   {
    "duration": 5,
    "start_time": "2022-11-19T13:26:37.811Z"
   },
   {
    "duration": 4627,
    "start_time": "2022-11-19T13:26:37.818Z"
   },
   {
    "duration": 3,
    "start_time": "2022-11-19T13:26:42.448Z"
   },
   {
    "duration": 16658,
    "start_time": "2022-11-19T13:26:42.453Z"
   },
   {
    "duration": 13,
    "start_time": "2022-11-19T13:26:59.113Z"
   },
   {
    "duration": 3,
    "start_time": "2022-11-19T13:26:59.127Z"
   },
   {
    "duration": 10443,
    "start_time": "2022-11-19T13:26:59.131Z"
   },
   {
    "duration": 7,
    "start_time": "2022-11-19T13:27:09.576Z"
   },
   {
    "duration": 3,
    "start_time": "2022-11-19T13:27:09.597Z"
   },
   {
    "duration": 3173,
    "start_time": "2022-11-19T13:27:09.602Z"
   },
   {
    "duration": 6,
    "start_time": "2022-11-19T13:27:12.776Z"
   },
   {
    "duration": 2,
    "start_time": "2022-11-19T13:27:12.796Z"
   },
   {
    "duration": 3569,
    "start_time": "2022-11-19T13:27:12.800Z"
   },
   {
    "duration": 6,
    "start_time": "2022-11-19T13:27:16.371Z"
   },
   {
    "duration": 2646,
    "start_time": "2022-11-19T13:27:16.378Z"
   },
   {
    "duration": 21,
    "start_time": "2022-11-19T13:27:19.026Z"
   },
   {
    "duration": 13,
    "start_time": "2022-11-19T13:27:19.049Z"
   },
   {
    "duration": 34,
    "start_time": "2022-11-19T13:27:19.064Z"
   },
   {
    "duration": 248,
    "start_time": "2022-11-19T13:27:19.100Z"
   },
   {
    "duration": 9,
    "start_time": "2022-11-19T13:27:19.349Z"
   },
   {
    "duration": 231,
    "start_time": "2022-11-19T13:27:19.359Z"
   },
   {
    "duration": 6,
    "start_time": "2022-11-19T13:27:19.592Z"
   },
   {
    "duration": 5,
    "start_time": "2022-11-19T13:27:19.600Z"
   },
   {
    "duration": 3591,
    "start_time": "2022-11-19T13:27:19.606Z"
   },
   {
    "duration": 7,
    "start_time": "2022-11-19T13:27:23.199Z"
   },
   {
    "duration": 15,
    "start_time": "2022-11-19T13:27:23.207Z"
   },
   {
    "duration": 27,
    "start_time": "2022-11-19T13:27:23.224Z"
   },
   {
    "duration": 22954,
    "start_time": "2022-11-19T13:27:23.253Z"
   },
   {
    "duration": 92,
    "start_time": "2022-11-19T13:27:46.209Z"
   },
   {
    "duration": 5,
    "start_time": "2022-11-19T13:27:46.303Z"
   },
   {
    "duration": 20,
    "start_time": "2022-11-19T13:27:46.309Z"
   },
   {
    "duration": 16,
    "start_time": "2022-11-19T13:27:46.331Z"
   },
   {
    "duration": 15,
    "start_time": "2022-11-19T13:27:46.349Z"
   },
   {
    "duration": 30,
    "start_time": "2022-11-19T13:27:46.366Z"
   },
   {
    "duration": 15,
    "start_time": "2022-11-19T13:27:46.398Z"
   },
   {
    "duration": 17,
    "start_time": "2022-11-19T13:27:46.414Z"
   },
   {
    "duration": 13,
    "start_time": "2022-11-19T13:27:46.433Z"
   },
   {
    "duration": 15,
    "start_time": "2022-11-19T13:27:46.448Z"
   },
   {
    "duration": 28,
    "start_time": "2022-11-19T13:27:46.468Z"
   },
   {
    "duration": 10,
    "start_time": "2022-11-19T13:27:46.498Z"
   },
   {
    "duration": 10,
    "start_time": "2022-11-19T13:27:46.509Z"
   },
   {
    "duration": 12,
    "start_time": "2022-11-19T13:27:46.520Z"
   },
   {
    "duration": 110,
    "start_time": "2022-11-19T13:27:46.533Z"
   },
   {
    "duration": 55,
    "start_time": "2022-11-19T13:27:46.645Z"
   },
   {
    "duration": 40,
    "start_time": "2022-11-19T13:27:46.702Z"
   },
   {
    "duration": 98,
    "start_time": "2022-11-19T13:27:46.743Z"
   },
   {
    "duration": 64,
    "start_time": "2022-11-19T13:27:46.843Z"
   },
   {
    "duration": 53,
    "start_time": "2022-11-19T13:27:46.909Z"
   },
   {
    "duration": 8,
    "start_time": "2022-11-19T13:27:46.964Z"
   },
   {
    "duration": 23,
    "start_time": "2022-11-19T13:27:46.974Z"
   },
   {
    "duration": 8,
    "start_time": "2022-11-19T13:27:46.998Z"
   },
   {
    "duration": 17,
    "start_time": "2022-11-19T13:27:47.007Z"
   },
   {
    "duration": 24,
    "start_time": "2022-11-19T13:27:47.026Z"
   },
   {
    "duration": 15,
    "start_time": "2022-11-19T13:27:47.052Z"
   },
   {
    "duration": 29,
    "start_time": "2022-11-19T13:27:47.069Z"
   },
   {
    "duration": 7,
    "start_time": "2022-11-19T13:27:47.099Z"
   },
   {
    "duration": 11,
    "start_time": "2022-11-19T13:27:47.107Z"
   },
   {
    "duration": 4,
    "start_time": "2022-11-19T13:27:47.119Z"
   },
   {
    "duration": 6,
    "start_time": "2022-11-19T13:27:47.125Z"
   },
   {
    "duration": 9,
    "start_time": "2022-11-19T13:27:47.132Z"
   },
   {
    "duration": 6,
    "start_time": "2022-11-19T13:27:47.142Z"
   },
   {
    "duration": 10,
    "start_time": "2022-11-19T13:27:47.149Z"
   },
   {
    "duration": 10,
    "start_time": "2022-11-19T13:27:47.161Z"
   },
   {
    "duration": 25,
    "start_time": "2022-11-19T13:27:47.172Z"
   },
   {
    "duration": 17,
    "start_time": "2022-11-19T13:27:47.199Z"
   },
   {
    "duration": 25,
    "start_time": "2022-11-19T13:27:47.217Z"
   },
   {
    "duration": 3,
    "start_time": "2022-11-19T13:27:47.244Z"
   },
   {
    "duration": 463,
    "start_time": "2022-11-19T13:27:47.249Z"
   },
   {
    "duration": 19,
    "start_time": "2022-11-19T13:27:47.714Z"
   },
   {
    "duration": 12,
    "start_time": "2022-11-19T13:27:47.735Z"
   },
   {
    "duration": 3,
    "start_time": "2022-11-19T13:27:47.749Z"
   },
   {
    "duration": 7,
    "start_time": "2022-11-19T13:27:47.753Z"
   },
   {
    "duration": 41,
    "start_time": "2022-11-19T13:27:47.762Z"
   },
   {
    "duration": 116,
    "start_time": "2022-11-19T13:27:47.805Z"
   },
   {
    "duration": 0,
    "start_time": "2022-11-19T13:27:47.923Z"
   },
   {
    "duration": 12,
    "start_time": "2022-11-19T13:31:25.380Z"
   },
   {
    "duration": 78,
    "start_time": "2022-11-19T13:32:59.189Z"
   },
   {
    "duration": 39,
    "start_time": "2022-11-19T13:33:08.397Z"
   },
   {
    "duration": 79,
    "start_time": "2022-11-19T13:33:09.033Z"
   },
   {
    "duration": 4,
    "start_time": "2022-11-19T13:39:00.800Z"
   },
   {
    "duration": 4,
    "start_time": "2022-11-19T13:39:07.733Z"
   },
   {
    "duration": 77,
    "start_time": "2022-11-19T13:39:09.388Z"
   },
   {
    "duration": 1322,
    "start_time": "2022-11-19T13:39:28.023Z"
   },
   {
    "duration": 2,
    "start_time": "2022-11-19T13:39:29.347Z"
   },
   {
    "duration": 7,
    "start_time": "2022-11-19T13:39:29.351Z"
   },
   {
    "duration": 6063,
    "start_time": "2022-11-19T13:39:29.360Z"
   },
   {
    "duration": 2,
    "start_time": "2022-11-19T13:39:35.425Z"
   },
   {
    "duration": 16731,
    "start_time": "2022-11-19T13:39:35.429Z"
   },
   {
    "duration": 12,
    "start_time": "2022-11-19T13:39:52.162Z"
   },
   {
    "duration": 13,
    "start_time": "2022-11-19T13:39:52.176Z"
   },
   {
    "duration": 10210,
    "start_time": "2022-11-19T13:39:52.191Z"
   },
   {
    "duration": 7,
    "start_time": "2022-11-19T13:40:02.403Z"
   },
   {
    "duration": 24,
    "start_time": "2022-11-19T13:40:02.412Z"
   },
   {
    "duration": 3209,
    "start_time": "2022-11-19T13:40:02.437Z"
   },
   {
    "duration": 7,
    "start_time": "2022-11-19T13:40:05.648Z"
   },
   {
    "duration": 9,
    "start_time": "2022-11-19T13:40:05.657Z"
   },
   {
    "duration": 3536,
    "start_time": "2022-11-19T13:40:05.667Z"
   },
   {
    "duration": 5,
    "start_time": "2022-11-19T13:40:09.205Z"
   },
   {
    "duration": 2696,
    "start_time": "2022-11-19T13:40:09.212Z"
   },
   {
    "duration": 21,
    "start_time": "2022-11-19T13:40:11.911Z"
   },
   {
    "duration": 10,
    "start_time": "2022-11-19T13:40:11.934Z"
   },
   {
    "duration": 13,
    "start_time": "2022-11-19T13:40:11.946Z"
   },
   {
    "duration": 265,
    "start_time": "2022-11-19T13:40:11.960Z"
   },
   {
    "duration": 8,
    "start_time": "2022-11-19T13:40:12.227Z"
   },
   {
    "duration": 229,
    "start_time": "2022-11-19T13:40:12.237Z"
   },
   {
    "duration": 6,
    "start_time": "2022-11-19T13:40:12.468Z"
   },
   {
    "duration": 5,
    "start_time": "2022-11-19T13:40:12.475Z"
   },
   {
    "duration": 3461,
    "start_time": "2022-11-19T13:40:12.481Z"
   },
   {
    "duration": 7,
    "start_time": "2022-11-19T13:40:15.944Z"
   },
   {
    "duration": 18,
    "start_time": "2022-11-19T13:40:15.956Z"
   },
   {
    "duration": 30,
    "start_time": "2022-11-19T13:40:15.975Z"
   },
   {
    "duration": 22635,
    "start_time": "2022-11-19T13:40:16.007Z"
   },
   {
    "duration": 93,
    "start_time": "2022-11-19T13:40:38.644Z"
   },
   {
    "duration": 5,
    "start_time": "2022-11-19T13:40:38.738Z"
   },
   {
    "duration": 24,
    "start_time": "2022-11-19T13:40:38.745Z"
   },
   {
    "duration": 31,
    "start_time": "2022-11-19T13:40:38.771Z"
   },
   {
    "duration": 14,
    "start_time": "2022-11-19T13:40:38.805Z"
   },
   {
    "duration": 14,
    "start_time": "2022-11-19T13:40:38.821Z"
   },
   {
    "duration": 20,
    "start_time": "2022-11-19T13:40:38.837Z"
   },
   {
    "duration": 14,
    "start_time": "2022-11-19T13:40:38.859Z"
   },
   {
    "duration": 36,
    "start_time": "2022-11-19T13:40:38.875Z"
   },
   {
    "duration": 21,
    "start_time": "2022-11-19T13:40:38.913Z"
   },
   {
    "duration": 12,
    "start_time": "2022-11-19T13:40:38.936Z"
   },
   {
    "duration": 13,
    "start_time": "2022-11-19T13:40:38.950Z"
   },
   {
    "duration": 8,
    "start_time": "2022-11-19T13:40:38.965Z"
   },
   {
    "duration": 24,
    "start_time": "2022-11-19T13:40:38.974Z"
   },
   {
    "duration": 98,
    "start_time": "2022-11-19T13:40:39.000Z"
   },
   {
    "duration": 48,
    "start_time": "2022-11-19T13:40:39.100Z"
   },
   {
    "duration": 4,
    "start_time": "2022-11-19T13:40:39.150Z"
   },
   {
    "duration": 111,
    "start_time": "2022-11-19T13:40:39.156Z"
   },
   {
    "duration": 58,
    "start_time": "2022-11-19T13:40:39.269Z"
   },
   {
    "duration": 54,
    "start_time": "2022-11-19T13:40:39.329Z"
   },
   {
    "duration": 9,
    "start_time": "2022-11-19T13:40:39.396Z"
   },
   {
    "duration": 9,
    "start_time": "2022-11-19T13:40:39.407Z"
   },
   {
    "duration": 9,
    "start_time": "2022-11-19T13:40:39.417Z"
   },
   {
    "duration": 24,
    "start_time": "2022-11-19T13:40:39.428Z"
   },
   {
    "duration": 55,
    "start_time": "2022-11-19T13:40:39.454Z"
   },
   {
    "duration": 17,
    "start_time": "2022-11-19T13:40:39.511Z"
   },
   {
    "duration": 6,
    "start_time": "2022-11-19T13:40:39.530Z"
   },
   {
    "duration": 9,
    "start_time": "2022-11-19T13:40:39.538Z"
   },
   {
    "duration": 9,
    "start_time": "2022-11-19T13:40:39.549Z"
   },
   {
    "duration": 8,
    "start_time": "2022-11-19T13:40:39.560Z"
   },
   {
    "duration": 8,
    "start_time": "2022-11-19T13:40:39.569Z"
   },
   {
    "duration": 9,
    "start_time": "2022-11-19T13:40:39.597Z"
   },
   {
    "duration": 6,
    "start_time": "2022-11-19T13:40:39.608Z"
   },
   {
    "duration": 11,
    "start_time": "2022-11-19T13:40:39.615Z"
   },
   {
    "duration": 9,
    "start_time": "2022-11-19T13:40:39.628Z"
   },
   {
    "duration": 8,
    "start_time": "2022-11-19T13:40:39.638Z"
   },
   {
    "duration": 20,
    "start_time": "2022-11-19T13:40:39.647Z"
   },
   {
    "duration": 40,
    "start_time": "2022-11-19T13:40:39.668Z"
   },
   {
    "duration": 6,
    "start_time": "2022-11-19T13:40:39.710Z"
   },
   {
    "duration": 458,
    "start_time": "2022-11-19T13:40:39.718Z"
   },
   {
    "duration": 21,
    "start_time": "2022-11-19T13:40:40.177Z"
   },
   {
    "duration": 9,
    "start_time": "2022-11-19T13:40:40.199Z"
   },
   {
    "duration": 13,
    "start_time": "2022-11-19T13:40:40.209Z"
   },
   {
    "duration": 3,
    "start_time": "2022-11-19T13:40:40.223Z"
   },
   {
    "duration": 9,
    "start_time": "2022-11-19T13:40:40.228Z"
   },
   {
    "duration": 17,
    "start_time": "2022-11-19T13:40:40.238Z"
   },
   {
    "duration": 42,
    "start_time": "2022-11-19T13:40:40.257Z"
   },
   {
    "duration": 20,
    "start_time": "2022-11-19T13:40:40.300Z"
   },
   {
    "duration": 3,
    "start_time": "2022-11-19T13:54:56.233Z"
   },
   {
    "duration": 17,
    "start_time": "2022-11-19T13:56:10.920Z"
   },
   {
    "duration": 99,
    "start_time": "2022-11-19T13:56:24.484Z"
   },
   {
    "duration": 5,
    "start_time": "2022-11-19T13:56:58.830Z"
   },
   {
    "duration": 5,
    "start_time": "2022-11-19T13:59:32.636Z"
   },
   {
    "duration": 15,
    "start_time": "2022-11-19T14:00:10.718Z"
   },
   {
    "duration": 20,
    "start_time": "2022-11-19T14:00:13.311Z"
   },
   {
    "duration": 20,
    "start_time": "2022-11-19T14:00:44.986Z"
   },
   {
    "duration": 19,
    "start_time": "2022-11-19T14:00:47.874Z"
   },
   {
    "duration": 20,
    "start_time": "2022-11-19T14:00:48.403Z"
   },
   {
    "duration": 22,
    "start_time": "2022-11-19T14:00:49.181Z"
   },
   {
    "duration": 21,
    "start_time": "2022-11-19T14:44:48.801Z"
   },
   {
    "duration": 12,
    "start_time": "2022-11-19T14:50:12.210Z"
   },
   {
    "duration": 3,
    "start_time": "2022-11-19T14:50:17.389Z"
   },
   {
    "duration": 9,
    "start_time": "2022-11-19T14:51:20.577Z"
   },
   {
    "duration": 3,
    "start_time": "2022-11-19T14:51:45.193Z"
   },
   {
    "duration": 502,
    "start_time": "2022-11-19T14:51:50.895Z"
   },
   {
    "duration": 42,
    "start_time": "2022-11-19T14:53:01.503Z"
   },
   {
    "duration": 10,
    "start_time": "2022-11-19T14:53:06.450Z"
   },
   {
    "duration": 21,
    "start_time": "2022-11-19T14:53:52.672Z"
   },
   {
    "duration": 216,
    "start_time": "2022-11-19T14:54:45.613Z"
   },
   {
    "duration": 11,
    "start_time": "2022-11-19T14:56:46.372Z"
   },
   {
    "duration": 13363,
    "start_time": "2022-11-19T14:57:31.924Z"
   },
   {
    "duration": 12938,
    "start_time": "2022-11-19T14:58:41.071Z"
   },
   {
    "duration": 232,
    "start_time": "2022-11-19T14:59:19.602Z"
   },
   {
    "duration": 4,
    "start_time": "2022-11-19T14:59:41.235Z"
   },
   {
    "duration": 5132,
    "start_time": "2022-11-19T14:59:46.579Z"
   },
   {
    "duration": 1506,
    "start_time": "2022-11-19T15:01:23.619Z"
   },
   {
    "duration": 3,
    "start_time": "2022-11-19T15:01:25.128Z"
   },
   {
    "duration": 12,
    "start_time": "2022-11-19T15:01:25.135Z"
   },
   {
    "duration": 6729,
    "start_time": "2022-11-19T15:01:25.149Z"
   },
   {
    "duration": 3,
    "start_time": "2022-11-19T15:01:31.879Z"
   },
   {
    "duration": 16933,
    "start_time": "2022-11-19T15:01:31.883Z"
   },
   {
    "duration": 14,
    "start_time": "2022-11-19T15:01:48.817Z"
   },
   {
    "duration": 4,
    "start_time": "2022-11-19T15:01:48.833Z"
   },
   {
    "duration": 10783,
    "start_time": "2022-11-19T15:01:48.841Z"
   },
   {
    "duration": 7,
    "start_time": "2022-11-19T15:01:59.626Z"
   },
   {
    "duration": 6,
    "start_time": "2022-11-19T15:01:59.635Z"
   },
   {
    "duration": 2924,
    "start_time": "2022-11-19T15:01:59.643Z"
   },
   {
    "duration": 5,
    "start_time": "2022-11-19T15:02:02.569Z"
   },
   {
    "duration": 9,
    "start_time": "2022-11-19T15:02:02.576Z"
   },
   {
    "duration": 3795,
    "start_time": "2022-11-19T15:02:02.587Z"
   },
   {
    "duration": 4,
    "start_time": "2022-11-19T15:02:06.384Z"
   },
   {
    "duration": 2685,
    "start_time": "2022-11-19T15:02:06.389Z"
   },
   {
    "duration": 25,
    "start_time": "2022-11-19T15:02:09.076Z"
   },
   {
    "duration": 10,
    "start_time": "2022-11-19T15:02:09.103Z"
   },
   {
    "duration": 12,
    "start_time": "2022-11-19T15:02:09.114Z"
   },
   {
    "duration": 258,
    "start_time": "2022-11-19T15:02:09.127Z"
   },
   {
    "duration": 13,
    "start_time": "2022-11-19T15:02:09.386Z"
   },
   {
    "duration": 230,
    "start_time": "2022-11-19T15:02:09.400Z"
   },
   {
    "duration": 6,
    "start_time": "2022-11-19T15:02:09.632Z"
   },
   {
    "duration": 11,
    "start_time": "2022-11-19T15:02:09.639Z"
   },
   {
    "duration": 3608,
    "start_time": "2022-11-19T15:02:09.652Z"
   },
   {
    "duration": 7,
    "start_time": "2022-11-19T15:02:13.264Z"
   },
   {
    "duration": 5,
    "start_time": "2022-11-19T15:02:13.272Z"
   },
   {
    "duration": 17,
    "start_time": "2022-11-19T15:02:13.279Z"
   },
   {
    "duration": 17358,
    "start_time": "2022-11-19T15:02:13.298Z"
   },
   {
    "duration": 99,
    "start_time": "2022-11-19T15:02:30.658Z"
   },
   {
    "duration": 8,
    "start_time": "2022-11-19T15:02:30.759Z"
   },
   {
    "duration": 31,
    "start_time": "2022-11-19T15:02:30.769Z"
   },
   {
    "duration": 29,
    "start_time": "2022-11-19T15:02:30.802Z"
   },
   {
    "duration": 28,
    "start_time": "2022-11-19T15:02:30.833Z"
   },
   {
    "duration": 21,
    "start_time": "2022-11-19T15:02:30.863Z"
   },
   {
    "duration": 23,
    "start_time": "2022-11-19T15:02:30.886Z"
   },
   {
    "duration": 16,
    "start_time": "2022-11-19T15:02:30.911Z"
   },
   {
    "duration": 26,
    "start_time": "2022-11-19T15:02:30.929Z"
   },
   {
    "duration": 38,
    "start_time": "2022-11-19T15:02:30.956Z"
   },
   {
    "duration": 27,
    "start_time": "2022-11-19T15:02:30.996Z"
   },
   {
    "duration": 13,
    "start_time": "2022-11-19T15:02:31.025Z"
   },
   {
    "duration": 28,
    "start_time": "2022-11-19T15:02:31.039Z"
   },
   {
    "duration": 24,
    "start_time": "2022-11-19T15:02:31.068Z"
   },
   {
    "duration": 106,
    "start_time": "2022-11-19T15:02:31.094Z"
   },
   {
    "duration": 50,
    "start_time": "2022-11-19T15:02:31.202Z"
   },
   {
    "duration": 5,
    "start_time": "2022-11-19T15:02:31.253Z"
   },
   {
    "duration": 105,
    "start_time": "2022-11-19T15:02:31.259Z"
   },
   {
    "duration": 53,
    "start_time": "2022-11-19T15:02:31.366Z"
   },
   {
    "duration": 59,
    "start_time": "2022-11-19T15:02:31.421Z"
   },
   {
    "duration": 15,
    "start_time": "2022-11-19T15:02:31.481Z"
   },
   {
    "duration": 11,
    "start_time": "2022-11-19T15:02:31.498Z"
   },
   {
    "duration": 7,
    "start_time": "2022-11-19T15:02:31.511Z"
   },
   {
    "duration": 25,
    "start_time": "2022-11-19T15:02:31.520Z"
   },
   {
    "duration": 21,
    "start_time": "2022-11-19T15:02:31.546Z"
   },
   {
    "duration": 37,
    "start_time": "2022-11-19T15:02:31.568Z"
   },
   {
    "duration": 4,
    "start_time": "2022-11-19T15:02:31.607Z"
   },
   {
    "duration": 6,
    "start_time": "2022-11-19T15:02:31.612Z"
   },
   {
    "duration": 10,
    "start_time": "2022-11-19T15:02:31.620Z"
   },
   {
    "duration": 9,
    "start_time": "2022-11-19T15:02:31.632Z"
   },
   {
    "duration": 6,
    "start_time": "2022-11-19T15:02:31.642Z"
   },
   {
    "duration": 8,
    "start_time": "2022-11-19T15:02:31.650Z"
   },
   {
    "duration": 5,
    "start_time": "2022-11-19T15:02:31.659Z"
   },
   {
    "duration": 30,
    "start_time": "2022-11-19T15:02:31.666Z"
   },
   {
    "duration": 6,
    "start_time": "2022-11-19T15:02:31.698Z"
   },
   {
    "duration": 14,
    "start_time": "2022-11-19T15:02:31.706Z"
   },
   {
    "duration": 20,
    "start_time": "2022-11-19T15:02:31.721Z"
   },
   {
    "duration": 39,
    "start_time": "2022-11-19T15:02:31.743Z"
   },
   {
    "duration": 26,
    "start_time": "2022-11-19T15:02:31.783Z"
   },
   {
    "duration": 457,
    "start_time": "2022-11-19T15:02:31.811Z"
   },
   {
    "duration": 12,
    "start_time": "2022-11-19T15:02:32.270Z"
   },
   {
    "duration": 15,
    "start_time": "2022-11-19T15:02:32.284Z"
   },
   {
    "duration": 12,
    "start_time": "2022-11-19T15:02:32.300Z"
   },
   {
    "duration": 3,
    "start_time": "2022-11-19T15:02:32.313Z"
   },
   {
    "duration": 11,
    "start_time": "2022-11-19T15:02:32.318Z"
   },
   {
    "duration": 22,
    "start_time": "2022-11-19T15:02:32.330Z"
   },
   {
    "duration": 144,
    "start_time": "2022-11-19T15:02:32.354Z"
   },
   {
    "duration": 0,
    "start_time": "2022-11-19T15:02:32.500Z"
   },
   {
    "duration": 0,
    "start_time": "2022-11-19T15:02:32.501Z"
   },
   {
    "duration": 0,
    "start_time": "2022-11-19T15:02:32.502Z"
   },
   {
    "duration": 0,
    "start_time": "2022-11-19T15:02:32.503Z"
   },
   {
    "duration": 0,
    "start_time": "2022-11-19T15:02:32.504Z"
   },
   {
    "duration": 0,
    "start_time": "2022-11-19T15:02:32.505Z"
   },
   {
    "duration": 0,
    "start_time": "2022-11-19T15:02:32.506Z"
   },
   {
    "duration": 12,
    "start_time": "2022-11-19T15:03:44.002Z"
   },
   {
    "duration": 1468,
    "start_time": "2022-11-19T15:04:14.671Z"
   },
   {
    "duration": 3,
    "start_time": "2022-11-19T15:04:16.142Z"
   },
   {
    "duration": 6,
    "start_time": "2022-11-19T15:04:16.150Z"
   },
   {
    "duration": 5141,
    "start_time": "2022-11-19T15:04:16.159Z"
   },
   {
    "duration": 2,
    "start_time": "2022-11-19T15:04:21.302Z"
   },
   {
    "duration": 17057,
    "start_time": "2022-11-19T15:04:21.306Z"
   },
   {
    "duration": 12,
    "start_time": "2022-11-19T15:04:38.365Z"
   },
   {
    "duration": 6,
    "start_time": "2022-11-19T15:04:38.378Z"
   },
   {
    "duration": 10897,
    "start_time": "2022-11-19T15:04:38.397Z"
   },
   {
    "duration": 7,
    "start_time": "2022-11-19T15:04:49.296Z"
   },
   {
    "duration": 16,
    "start_time": "2022-11-19T15:04:49.305Z"
   },
   {
    "duration": 2964,
    "start_time": "2022-11-19T15:04:49.323Z"
   },
   {
    "duration": 10,
    "start_time": "2022-11-19T15:04:52.290Z"
   },
   {
    "duration": 8,
    "start_time": "2022-11-19T15:04:52.302Z"
   },
   {
    "duration": 3753,
    "start_time": "2022-11-19T15:04:52.311Z"
   },
   {
    "duration": 6,
    "start_time": "2022-11-19T15:04:56.066Z"
   },
   {
    "duration": 2715,
    "start_time": "2022-11-19T15:04:56.073Z"
   },
   {
    "duration": 23,
    "start_time": "2022-11-19T15:04:58.789Z"
   },
   {
    "duration": 26,
    "start_time": "2022-11-19T15:04:58.814Z"
   },
   {
    "duration": 31,
    "start_time": "2022-11-19T15:04:58.841Z"
   },
   {
    "duration": 246,
    "start_time": "2022-11-19T15:04:58.874Z"
   },
   {
    "duration": 10,
    "start_time": "2022-11-19T15:04:59.122Z"
   },
   {
    "duration": 239,
    "start_time": "2022-11-19T15:04:59.134Z"
   },
   {
    "duration": 13,
    "start_time": "2022-11-19T15:04:59.374Z"
   },
   {
    "duration": 23,
    "start_time": "2022-11-19T15:04:59.389Z"
   },
   {
    "duration": 3739,
    "start_time": "2022-11-19T15:04:59.414Z"
   },
   {
    "duration": 7,
    "start_time": "2022-11-19T15:05:03.155Z"
   },
   {
    "duration": 21,
    "start_time": "2022-11-19T15:05:03.164Z"
   },
   {
    "duration": 18,
    "start_time": "2022-11-19T15:05:03.187Z"
   },
   {
    "duration": 22127,
    "start_time": "2022-11-19T15:05:03.207Z"
   },
   {
    "duration": 88,
    "start_time": "2022-11-19T15:05:25.335Z"
   },
   {
    "duration": 5,
    "start_time": "2022-11-19T15:05:25.425Z"
   },
   {
    "duration": 18,
    "start_time": "2022-11-19T15:05:25.431Z"
   },
   {
    "duration": 17,
    "start_time": "2022-11-19T15:05:25.451Z"
   },
   {
    "duration": 32,
    "start_time": "2022-11-19T15:05:25.470Z"
   },
   {
    "duration": 10,
    "start_time": "2022-11-19T15:05:25.503Z"
   },
   {
    "duration": 15,
    "start_time": "2022-11-19T15:05:25.515Z"
   },
   {
    "duration": 13,
    "start_time": "2022-11-19T15:05:25.531Z"
   },
   {
    "duration": 13,
    "start_time": "2022-11-19T15:05:25.546Z"
   },
   {
    "duration": 41,
    "start_time": "2022-11-19T15:05:25.563Z"
   },
   {
    "duration": 8,
    "start_time": "2022-11-19T15:05:25.606Z"
   },
   {
    "duration": 13,
    "start_time": "2022-11-19T15:05:25.615Z"
   },
   {
    "duration": 13,
    "start_time": "2022-11-19T15:05:25.629Z"
   },
   {
    "duration": 10,
    "start_time": "2022-11-19T15:05:25.643Z"
   },
   {
    "duration": 100,
    "start_time": "2022-11-19T15:05:25.655Z"
   },
   {
    "duration": 55,
    "start_time": "2022-11-19T15:05:25.757Z"
   },
   {
    "duration": 4,
    "start_time": "2022-11-19T15:05:25.813Z"
   },
   {
    "duration": 92,
    "start_time": "2022-11-19T15:05:25.819Z"
   },
   {
    "duration": 48,
    "start_time": "2022-11-19T15:05:25.913Z"
   },
   {
    "duration": 68,
    "start_time": "2022-11-19T15:05:25.963Z"
   },
   {
    "duration": 9,
    "start_time": "2022-11-19T15:05:26.035Z"
   },
   {
    "duration": 34,
    "start_time": "2022-11-19T15:05:26.046Z"
   },
   {
    "duration": 8,
    "start_time": "2022-11-19T15:05:26.082Z"
   },
   {
    "duration": 33,
    "start_time": "2022-11-19T15:05:26.091Z"
   },
   {
    "duration": 33,
    "start_time": "2022-11-19T15:05:26.126Z"
   },
   {
    "duration": 20,
    "start_time": "2022-11-19T15:05:26.161Z"
   },
   {
    "duration": 12,
    "start_time": "2022-11-19T15:05:26.184Z"
   },
   {
    "duration": 6,
    "start_time": "2022-11-19T15:05:26.200Z"
   },
   {
    "duration": 17,
    "start_time": "2022-11-19T15:05:26.207Z"
   },
   {
    "duration": 5,
    "start_time": "2022-11-19T15:05:26.226Z"
   },
   {
    "duration": 6,
    "start_time": "2022-11-19T15:05:26.233Z"
   },
   {
    "duration": 13,
    "start_time": "2022-11-19T15:05:26.241Z"
   },
   {
    "duration": 9,
    "start_time": "2022-11-19T15:05:26.256Z"
   },
   {
    "duration": 31,
    "start_time": "2022-11-19T15:05:26.267Z"
   },
   {
    "duration": 14,
    "start_time": "2022-11-19T15:05:26.300Z"
   },
   {
    "duration": 7,
    "start_time": "2022-11-19T15:05:26.316Z"
   },
   {
    "duration": 18,
    "start_time": "2022-11-19T15:05:26.324Z"
   },
   {
    "duration": 25,
    "start_time": "2022-11-19T15:05:26.343Z"
   },
   {
    "duration": 3,
    "start_time": "2022-11-19T15:05:26.370Z"
   },
   {
    "duration": 459,
    "start_time": "2022-11-19T15:05:26.375Z"
   },
   {
    "duration": 13,
    "start_time": "2022-11-19T15:05:26.835Z"
   },
   {
    "duration": 7,
    "start_time": "2022-11-19T15:05:26.850Z"
   },
   {
    "duration": 11,
    "start_time": "2022-11-19T15:05:26.859Z"
   },
   {
    "duration": 2,
    "start_time": "2022-11-19T15:05:26.872Z"
   },
   {
    "duration": 4,
    "start_time": "2022-11-19T15:05:26.896Z"
   },
   {
    "duration": 14,
    "start_time": "2022-11-19T15:05:26.901Z"
   },
   {
    "duration": 12,
    "start_time": "2022-11-19T15:05:26.917Z"
   },
   {
    "duration": 11,
    "start_time": "2022-11-19T15:05:26.930Z"
   },
   {
    "duration": 15,
    "start_time": "2022-11-19T15:05:26.943Z"
   },
   {
    "duration": 49,
    "start_time": "2022-11-19T15:05:26.960Z"
   },
   {
    "duration": 17,
    "start_time": "2022-11-19T15:05:27.011Z"
   },
   {
    "duration": 577,
    "start_time": "2022-11-19T15:05:27.029Z"
   },
   {
    "duration": 240,
    "start_time": "2022-11-19T15:05:27.698Z"
   },
   {
    "duration": 3862,
    "start_time": "2022-11-19T15:05:27.940Z"
   },
   {
    "duration": 5,
    "start_time": "2022-11-19T15:33:09.188Z"
   },
   {
    "duration": 4,
    "start_time": "2022-11-19T15:33:18.912Z"
   },
   {
    "duration": 4,
    "start_time": "2022-11-19T15:38:17.245Z"
   },
   {
    "duration": 119,
    "start_time": "2022-11-19T15:40:35.146Z"
   },
   {
    "duration": 1381,
    "start_time": "2022-11-19T15:40:51.501Z"
   },
   {
    "duration": 3,
    "start_time": "2022-11-19T15:40:52.884Z"
   },
   {
    "duration": 9,
    "start_time": "2022-11-19T15:40:52.889Z"
   },
   {
    "duration": 4823,
    "start_time": "2022-11-19T15:40:52.900Z"
   },
   {
    "duration": 3,
    "start_time": "2022-11-19T15:40:57.724Z"
   },
   {
    "duration": 17104,
    "start_time": "2022-11-19T15:40:57.729Z"
   },
   {
    "duration": 13,
    "start_time": "2022-11-19T15:41:14.835Z"
   },
   {
    "duration": 3,
    "start_time": "2022-11-19T15:41:14.850Z"
   },
   {
    "duration": 11273,
    "start_time": "2022-11-19T15:41:14.855Z"
   },
   {
    "duration": 9,
    "start_time": "2022-11-19T15:41:26.132Z"
   },
   {
    "duration": 13,
    "start_time": "2022-11-19T15:41:26.143Z"
   },
   {
    "duration": 3029,
    "start_time": "2022-11-19T15:41:26.159Z"
   },
   {
    "duration": 10,
    "start_time": "2022-11-19T15:41:29.190Z"
   },
   {
    "duration": 5,
    "start_time": "2022-11-19T15:41:29.202Z"
   },
   {
    "duration": 3802,
    "start_time": "2022-11-19T15:41:29.209Z"
   },
   {
    "duration": 6,
    "start_time": "2022-11-19T15:41:33.012Z"
   },
   {
    "duration": 2800,
    "start_time": "2022-11-19T15:41:33.020Z"
   },
   {
    "duration": 20,
    "start_time": "2022-11-19T15:41:35.822Z"
   },
   {
    "duration": 11,
    "start_time": "2022-11-19T15:41:35.844Z"
   },
   {
    "duration": 13,
    "start_time": "2022-11-19T15:41:35.857Z"
   },
   {
    "duration": 300,
    "start_time": "2022-11-19T15:41:35.871Z"
   },
   {
    "duration": 16,
    "start_time": "2022-11-19T15:41:36.173Z"
   },
   {
    "duration": 238,
    "start_time": "2022-11-19T15:41:36.197Z"
   },
   {
    "duration": 8,
    "start_time": "2022-11-19T15:41:36.437Z"
   },
   {
    "duration": 4,
    "start_time": "2022-11-19T15:41:36.447Z"
   },
   {
    "duration": 3752,
    "start_time": "2022-11-19T15:41:36.453Z"
   },
   {
    "duration": 7,
    "start_time": "2022-11-19T15:41:40.207Z"
   },
   {
    "duration": 9,
    "start_time": "2022-11-19T15:41:40.218Z"
   },
   {
    "duration": 9,
    "start_time": "2022-11-19T15:41:40.229Z"
   },
   {
    "duration": 22894,
    "start_time": "2022-11-19T15:41:40.239Z"
   },
   {
    "duration": 106,
    "start_time": "2022-11-19T15:42:03.135Z"
   },
   {
    "duration": 7,
    "start_time": "2022-11-19T15:42:03.243Z"
   },
   {
    "duration": 44,
    "start_time": "2022-11-19T15:42:03.253Z"
   },
   {
    "duration": 30,
    "start_time": "2022-11-19T15:42:03.300Z"
   },
   {
    "duration": 20,
    "start_time": "2022-11-19T15:42:03.332Z"
   },
   {
    "duration": 17,
    "start_time": "2022-11-19T15:42:03.354Z"
   },
   {
    "duration": 18,
    "start_time": "2022-11-19T15:42:03.372Z"
   },
   {
    "duration": 18,
    "start_time": "2022-11-19T15:42:03.392Z"
   },
   {
    "duration": 16,
    "start_time": "2022-11-19T15:42:03.412Z"
   },
   {
    "duration": 21,
    "start_time": "2022-11-19T15:42:03.429Z"
   },
   {
    "duration": 9,
    "start_time": "2022-11-19T15:42:03.451Z"
   },
   {
    "duration": 20,
    "start_time": "2022-11-19T15:42:03.462Z"
   },
   {
    "duration": 7,
    "start_time": "2022-11-19T15:42:03.497Z"
   },
   {
    "duration": 18,
    "start_time": "2022-11-19T15:42:03.505Z"
   },
   {
    "duration": 107,
    "start_time": "2022-11-19T15:42:03.525Z"
   },
   {
    "duration": 51,
    "start_time": "2022-11-19T15:42:03.634Z"
   },
   {
    "duration": 5,
    "start_time": "2022-11-19T15:42:03.695Z"
   },
   {
    "duration": 105,
    "start_time": "2022-11-19T15:42:03.701Z"
   },
   {
    "duration": 129,
    "start_time": "2022-11-19T15:42:03.808Z"
   },
   {
    "duration": 0,
    "start_time": "2022-11-19T15:42:03.939Z"
   },
   {
    "duration": 0,
    "start_time": "2022-11-19T15:42:03.940Z"
   },
   {
    "duration": 0,
    "start_time": "2022-11-19T15:42:03.942Z"
   },
   {
    "duration": 0,
    "start_time": "2022-11-19T15:42:03.943Z"
   },
   {
    "duration": 0,
    "start_time": "2022-11-19T15:42:03.944Z"
   },
   {
    "duration": 0,
    "start_time": "2022-11-19T15:42:03.945Z"
   },
   {
    "duration": 0,
    "start_time": "2022-11-19T15:42:03.946Z"
   },
   {
    "duration": 0,
    "start_time": "2022-11-19T15:42:03.947Z"
   },
   {
    "duration": 0,
    "start_time": "2022-11-19T15:42:03.948Z"
   },
   {
    "duration": 0,
    "start_time": "2022-11-19T15:42:03.950Z"
   },
   {
    "duration": 0,
    "start_time": "2022-11-19T15:42:03.951Z"
   },
   {
    "duration": 0,
    "start_time": "2022-11-19T15:42:03.952Z"
   },
   {
    "duration": 0,
    "start_time": "2022-11-19T15:42:03.953Z"
   },
   {
    "duration": 0,
    "start_time": "2022-11-19T15:42:03.954Z"
   },
   {
    "duration": 0,
    "start_time": "2022-11-19T15:42:03.955Z"
   },
   {
    "duration": 0,
    "start_time": "2022-11-19T15:42:03.956Z"
   },
   {
    "duration": 0,
    "start_time": "2022-11-19T15:42:03.957Z"
   },
   {
    "duration": 0,
    "start_time": "2022-11-19T15:42:03.959Z"
   },
   {
    "duration": 0,
    "start_time": "2022-11-19T15:42:03.960Z"
   },
   {
    "duration": 0,
    "start_time": "2022-11-19T15:42:03.997Z"
   },
   {
    "duration": 0,
    "start_time": "2022-11-19T15:42:03.998Z"
   },
   {
    "duration": 0,
    "start_time": "2022-11-19T15:42:03.999Z"
   },
   {
    "duration": 0,
    "start_time": "2022-11-19T15:42:04.000Z"
   },
   {
    "duration": 0,
    "start_time": "2022-11-19T15:42:04.001Z"
   },
   {
    "duration": 0,
    "start_time": "2022-11-19T15:42:04.002Z"
   },
   {
    "duration": 0,
    "start_time": "2022-11-19T15:42:04.004Z"
   },
   {
    "duration": 0,
    "start_time": "2022-11-19T15:42:04.005Z"
   },
   {
    "duration": 0,
    "start_time": "2022-11-19T15:42:04.006Z"
   },
   {
    "duration": 0,
    "start_time": "2022-11-19T15:42:04.007Z"
   },
   {
    "duration": 0,
    "start_time": "2022-11-19T15:42:04.008Z"
   },
   {
    "duration": 0,
    "start_time": "2022-11-19T15:42:04.009Z"
   },
   {
    "duration": 0,
    "start_time": "2022-11-19T15:42:04.010Z"
   },
   {
    "duration": 0,
    "start_time": "2022-11-19T15:42:04.011Z"
   },
   {
    "duration": 0,
    "start_time": "2022-11-19T15:42:04.012Z"
   },
   {
    "duration": 0,
    "start_time": "2022-11-19T15:42:04.013Z"
   },
   {
    "duration": 0,
    "start_time": "2022-11-19T15:42:04.015Z"
   },
   {
    "duration": 0,
    "start_time": "2022-11-19T15:42:04.016Z"
   },
   {
    "duration": 0,
    "start_time": "2022-11-19T15:42:04.017Z"
   },
   {
    "duration": 125,
    "start_time": "2022-11-19T15:42:46.737Z"
   },
   {
    "duration": 10,
    "start_time": "2022-11-19T17:50:32.031Z"
   },
   {
    "duration": 1352,
    "start_time": "2022-11-19T17:50:42.848Z"
   },
   {
    "duration": 3,
    "start_time": "2022-11-19T17:50:44.202Z"
   },
   {
    "duration": 9,
    "start_time": "2022-11-19T17:50:44.206Z"
   },
   {
    "duration": 5446,
    "start_time": "2022-11-19T17:50:44.217Z"
   },
   {
    "duration": 3,
    "start_time": "2022-11-19T17:50:49.664Z"
   },
   {
    "duration": 17522,
    "start_time": "2022-11-19T17:50:49.668Z"
   },
   {
    "duration": 14,
    "start_time": "2022-11-19T17:51:07.192Z"
   },
   {
    "duration": 11,
    "start_time": "2022-11-19T17:51:07.208Z"
   },
   {
    "duration": 11308,
    "start_time": "2022-11-19T17:51:07.221Z"
   },
   {
    "duration": 8,
    "start_time": "2022-11-19T17:51:18.532Z"
   },
   {
    "duration": 6,
    "start_time": "2022-11-19T17:51:18.541Z"
   },
   {
    "duration": 2938,
    "start_time": "2022-11-19T17:51:18.549Z"
   },
   {
    "duration": 8,
    "start_time": "2022-11-19T17:51:21.489Z"
   },
   {
    "duration": 5,
    "start_time": "2022-11-19T17:51:21.498Z"
   },
   {
    "duration": 3808,
    "start_time": "2022-11-19T17:51:21.505Z"
   },
   {
    "duration": 5,
    "start_time": "2022-11-19T17:51:25.315Z"
   },
   {
    "duration": 2854,
    "start_time": "2022-11-19T17:51:25.321Z"
   },
   {
    "duration": 23,
    "start_time": "2022-11-19T17:51:28.176Z"
   },
   {
    "duration": 10,
    "start_time": "2022-11-19T17:51:28.201Z"
   },
   {
    "duration": 16,
    "start_time": "2022-11-19T17:51:28.213Z"
   },
   {
    "duration": 271,
    "start_time": "2022-11-19T17:51:28.230Z"
   },
   {
    "duration": 10,
    "start_time": "2022-11-19T17:51:28.502Z"
   },
   {
    "duration": 231,
    "start_time": "2022-11-19T17:51:28.514Z"
   },
   {
    "duration": 6,
    "start_time": "2022-11-19T17:51:28.746Z"
   },
   {
    "duration": 4,
    "start_time": "2022-11-19T17:51:28.754Z"
   },
   {
    "duration": 3744,
    "start_time": "2022-11-19T17:51:28.760Z"
   },
   {
    "duration": 7,
    "start_time": "2022-11-19T17:51:32.506Z"
   },
   {
    "duration": 3,
    "start_time": "2022-11-19T17:51:32.517Z"
   },
   {
    "duration": 6,
    "start_time": "2022-11-19T17:51:32.522Z"
   },
   {
    "duration": 22535,
    "start_time": "2022-11-19T17:51:32.529Z"
   },
   {
    "duration": 100,
    "start_time": "2022-11-19T17:51:55.066Z"
   },
   {
    "duration": 12,
    "start_time": "2022-11-19T17:51:55.168Z"
   },
   {
    "duration": 38,
    "start_time": "2022-11-19T17:51:55.181Z"
   },
   {
    "duration": 27,
    "start_time": "2022-11-19T17:51:55.220Z"
   },
   {
    "duration": 19,
    "start_time": "2022-11-19T17:51:55.249Z"
   },
   {
    "duration": 23,
    "start_time": "2022-11-19T17:51:55.269Z"
   },
   {
    "duration": 15,
    "start_time": "2022-11-19T17:51:55.293Z"
   },
   {
    "duration": 20,
    "start_time": "2022-11-19T17:51:55.310Z"
   },
   {
    "duration": 16,
    "start_time": "2022-11-19T17:51:55.332Z"
   },
   {
    "duration": 19,
    "start_time": "2022-11-19T17:51:55.350Z"
   },
   {
    "duration": 31,
    "start_time": "2022-11-19T17:51:55.370Z"
   },
   {
    "duration": 9,
    "start_time": "2022-11-19T17:51:55.403Z"
   },
   {
    "duration": 9,
    "start_time": "2022-11-19T17:51:55.414Z"
   },
   {
    "duration": 12,
    "start_time": "2022-11-19T17:51:55.424Z"
   },
   {
    "duration": 110,
    "start_time": "2022-11-19T17:51:55.438Z"
   },
   {
    "duration": 56,
    "start_time": "2022-11-19T17:51:55.550Z"
   },
   {
    "duration": 4,
    "start_time": "2022-11-19T17:51:55.607Z"
   },
   {
    "duration": 93,
    "start_time": "2022-11-19T17:51:55.613Z"
   },
   {
    "duration": 120,
    "start_time": "2022-11-19T17:51:55.708Z"
   },
   {
    "duration": 48,
    "start_time": "2022-11-19T17:51:55.830Z"
   },
   {
    "duration": 69,
    "start_time": "2022-11-19T17:51:55.879Z"
   },
   {
    "duration": 9,
    "start_time": "2022-11-19T17:51:55.950Z"
   },
   {
    "duration": 12,
    "start_time": "2022-11-19T17:51:55.961Z"
   },
   {
    "duration": 25,
    "start_time": "2022-11-19T17:51:55.974Z"
   },
   {
    "duration": 29,
    "start_time": "2022-11-19T17:51:56.001Z"
   },
   {
    "duration": 30,
    "start_time": "2022-11-19T17:51:56.033Z"
   },
   {
    "duration": 37,
    "start_time": "2022-11-19T17:51:56.065Z"
   },
   {
    "duration": 3,
    "start_time": "2022-11-19T17:51:56.104Z"
   },
   {
    "duration": 5,
    "start_time": "2022-11-19T17:51:56.109Z"
   },
   {
    "duration": 8,
    "start_time": "2022-11-19T17:51:56.116Z"
   },
   {
    "duration": 4,
    "start_time": "2022-11-19T17:51:56.125Z"
   },
   {
    "duration": 4,
    "start_time": "2022-11-19T17:51:56.131Z"
   },
   {
    "duration": 7,
    "start_time": "2022-11-19T17:51:56.136Z"
   },
   {
    "duration": 4,
    "start_time": "2022-11-19T17:51:56.144Z"
   },
   {
    "duration": 9,
    "start_time": "2022-11-19T17:51:56.150Z"
   },
   {
    "duration": 41,
    "start_time": "2022-11-19T17:51:56.161Z"
   },
   {
    "duration": 7,
    "start_time": "2022-11-19T17:51:56.204Z"
   },
   {
    "duration": 17,
    "start_time": "2022-11-19T17:51:56.212Z"
   },
   {
    "duration": 26,
    "start_time": "2022-11-19T17:51:56.231Z"
   },
   {
    "duration": 4,
    "start_time": "2022-11-19T17:51:56.258Z"
   },
   {
    "duration": 466,
    "start_time": "2022-11-19T17:51:56.263Z"
   },
   {
    "duration": 12,
    "start_time": "2022-11-19T17:51:56.731Z"
   },
   {
    "duration": 8,
    "start_time": "2022-11-19T17:51:56.744Z"
   },
   {
    "duration": 12,
    "start_time": "2022-11-19T17:51:56.753Z"
   },
   {
    "duration": 2,
    "start_time": "2022-11-19T17:51:56.767Z"
   },
   {
    "duration": 4,
    "start_time": "2022-11-19T17:51:56.796Z"
   },
   {
    "duration": 5,
    "start_time": "2022-11-19T17:51:56.801Z"
   },
   {
    "duration": 13,
    "start_time": "2022-11-19T17:51:56.808Z"
   },
   {
    "duration": 10,
    "start_time": "2022-11-19T17:51:56.822Z"
   },
   {
    "duration": 10,
    "start_time": "2022-11-19T17:51:56.834Z"
   },
   {
    "duration": 15,
    "start_time": "2022-11-19T17:51:56.845Z"
   },
   {
    "duration": 47,
    "start_time": "2022-11-19T17:51:56.865Z"
   },
   {
    "duration": 18,
    "start_time": "2022-11-19T17:51:56.914Z"
   },
   {
    "duration": 563,
    "start_time": "2022-11-19T17:51:56.934Z"
   },
   {
    "duration": 1403,
    "start_time": "2022-11-19T17:51:57.499Z"
   },
   {
    "duration": 153,
    "start_time": "2022-11-19T17:51:58.904Z"
   },
   {
    "duration": 3888,
    "start_time": "2022-11-19T17:51:59.058Z"
   },
   {
    "duration": 455,
    "start_time": "2022-11-19T17:53:50.249Z"
   },
   {
    "duration": 19482,
    "start_time": "2022-11-19T17:57:18.043Z"
   },
   {
    "duration": 195591,
    "start_time": "2022-11-19T17:58:27.311Z"
   },
   {
    "duration": 9730,
    "start_time": "2022-11-19T18:04:12.285Z"
   },
   {
    "duration": 28370,
    "start_time": "2022-11-19T18:04:28.801Z"
   },
   {
    "duration": 28554,
    "start_time": "2022-11-19T18:05:49.974Z"
   },
   {
    "duration": 4,
    "start_time": "2022-11-19T18:11:15.312Z"
   },
   {
    "duration": 10,
    "start_time": "2022-11-19T18:17:25.659Z"
   },
   {
    "duration": 3,
    "start_time": "2022-11-19T18:17:32.180Z"
   },
   {
    "duration": 593,
    "start_time": "2022-11-19T18:19:02.203Z"
   },
   {
    "duration": 474,
    "start_time": "2022-11-19T18:20:07.053Z"
   },
   {
    "duration": 27916,
    "start_time": "2022-11-19T18:25:09.716Z"
   },
   {
    "duration": 1333,
    "start_time": "2022-11-19T18:28:21.340Z"
   },
   {
    "duration": 3,
    "start_time": "2022-11-19T18:28:22.675Z"
   },
   {
    "duration": 11,
    "start_time": "2022-11-19T18:28:22.679Z"
   },
   {
    "duration": 4766,
    "start_time": "2022-11-19T18:28:22.692Z"
   },
   {
    "duration": 2,
    "start_time": "2022-11-19T18:28:27.460Z"
   },
   {
    "duration": 17852,
    "start_time": "2022-11-19T18:28:27.464Z"
   },
   {
    "duration": 11,
    "start_time": "2022-11-19T18:28:45.318Z"
   },
   {
    "duration": 7,
    "start_time": "2022-11-19T18:28:45.330Z"
   },
   {
    "duration": 10947,
    "start_time": "2022-11-19T18:28:45.338Z"
   },
   {
    "duration": 11,
    "start_time": "2022-11-19T18:28:56.288Z"
   },
   {
    "duration": 8,
    "start_time": "2022-11-19T18:28:56.301Z"
   },
   {
    "duration": 2882,
    "start_time": "2022-11-19T18:28:56.311Z"
   },
   {
    "duration": 6,
    "start_time": "2022-11-19T18:28:59.195Z"
   },
   {
    "duration": 5,
    "start_time": "2022-11-19T18:28:59.203Z"
   },
   {
    "duration": 3805,
    "start_time": "2022-11-19T18:28:59.209Z"
   },
   {
    "duration": 5,
    "start_time": "2022-11-19T18:29:03.015Z"
   },
   {
    "duration": 2868,
    "start_time": "2022-11-19T18:29:03.022Z"
   },
   {
    "duration": 22,
    "start_time": "2022-11-19T18:29:05.896Z"
   },
   {
    "duration": 9,
    "start_time": "2022-11-19T18:29:05.920Z"
   },
   {
    "duration": 38,
    "start_time": "2022-11-19T18:29:05.931Z"
   },
   {
    "duration": 278,
    "start_time": "2022-11-19T18:29:05.971Z"
   },
   {
    "duration": 9,
    "start_time": "2022-11-19T18:29:06.250Z"
   },
   {
    "duration": 240,
    "start_time": "2022-11-19T18:29:06.261Z"
   },
   {
    "duration": 7,
    "start_time": "2022-11-19T18:29:06.503Z"
   },
   {
    "duration": 19,
    "start_time": "2022-11-19T18:29:06.511Z"
   },
   {
    "duration": 3748,
    "start_time": "2022-11-19T18:29:06.532Z"
   },
   {
    "duration": 7,
    "start_time": "2022-11-19T18:29:10.282Z"
   },
   {
    "duration": 8,
    "start_time": "2022-11-19T18:29:10.300Z"
   },
   {
    "duration": 29,
    "start_time": "2022-11-19T18:29:10.310Z"
   },
   {
    "duration": 21319,
    "start_time": "2022-11-19T18:29:10.341Z"
   },
   {
    "duration": 91,
    "start_time": "2022-11-19T18:29:31.662Z"
   },
   {
    "duration": 4,
    "start_time": "2022-11-19T18:29:31.755Z"
   },
   {
    "duration": 37,
    "start_time": "2022-11-19T18:29:31.761Z"
   },
   {
    "duration": 22,
    "start_time": "2022-11-19T18:29:31.799Z"
   },
   {
    "duration": 23,
    "start_time": "2022-11-19T18:29:31.822Z"
   },
   {
    "duration": 14,
    "start_time": "2022-11-19T18:29:31.847Z"
   },
   {
    "duration": 28,
    "start_time": "2022-11-19T18:29:31.862Z"
   },
   {
    "duration": 16,
    "start_time": "2022-11-19T18:29:31.892Z"
   },
   {
    "duration": 16,
    "start_time": "2022-11-19T18:29:31.910Z"
   },
   {
    "duration": 20,
    "start_time": "2022-11-19T18:29:31.928Z"
   },
   {
    "duration": 8,
    "start_time": "2022-11-19T18:29:31.950Z"
   },
   {
    "duration": 11,
    "start_time": "2022-11-19T18:29:31.959Z"
   },
   {
    "duration": 31,
    "start_time": "2022-11-19T18:29:31.971Z"
   },
   {
    "duration": 11,
    "start_time": "2022-11-19T18:29:32.004Z"
   },
   {
    "duration": 98,
    "start_time": "2022-11-19T18:29:32.016Z"
   },
   {
    "duration": 48,
    "start_time": "2022-11-19T18:29:32.116Z"
   },
   {
    "duration": 4,
    "start_time": "2022-11-19T18:29:32.165Z"
   },
   {
    "duration": 95,
    "start_time": "2022-11-19T18:29:32.171Z"
   },
   {
    "duration": 134,
    "start_time": "2022-11-19T18:29:32.268Z"
   },
   {
    "duration": 47,
    "start_time": "2022-11-19T18:29:32.404Z"
   },
   {
    "duration": 67,
    "start_time": "2022-11-19T18:29:32.453Z"
   },
   {
    "duration": 8,
    "start_time": "2022-11-19T18:29:32.522Z"
   },
   {
    "duration": 8,
    "start_time": "2022-11-19T18:29:32.531Z"
   },
   {
    "duration": 7,
    "start_time": "2022-11-19T18:29:32.540Z"
   },
   {
    "duration": 21,
    "start_time": "2022-11-19T18:29:32.549Z"
   },
   {
    "duration": 26,
    "start_time": "2022-11-19T18:29:32.571Z"
   },
   {
    "duration": 24,
    "start_time": "2022-11-19T18:29:32.598Z"
   },
   {
    "duration": 3,
    "start_time": "2022-11-19T18:29:32.623Z"
   },
   {
    "duration": 6,
    "start_time": "2022-11-19T18:29:32.628Z"
   },
   {
    "duration": 13,
    "start_time": "2022-11-19T18:29:32.635Z"
   },
   {
    "duration": 4,
    "start_time": "2022-11-19T18:29:32.649Z"
   },
   {
    "duration": 4,
    "start_time": "2022-11-19T18:29:32.654Z"
   },
   {
    "duration": 9,
    "start_time": "2022-11-19T18:29:32.660Z"
   },
   {
    "duration": 25,
    "start_time": "2022-11-19T18:29:32.671Z"
   },
   {
    "duration": 8,
    "start_time": "2022-11-19T18:29:32.698Z"
   },
   {
    "duration": 9,
    "start_time": "2022-11-19T18:29:32.708Z"
   },
   {
    "duration": 13,
    "start_time": "2022-11-19T18:29:32.718Z"
   },
   {
    "duration": 26,
    "start_time": "2022-11-19T18:29:32.733Z"
   },
   {
    "duration": 22,
    "start_time": "2022-11-19T18:29:32.760Z"
   },
   {
    "duration": 12,
    "start_time": "2022-11-19T18:29:32.784Z"
   },
   {
    "duration": 462,
    "start_time": "2022-11-19T18:29:32.798Z"
   },
   {
    "duration": 12,
    "start_time": "2022-11-19T18:29:33.262Z"
   },
   {
    "duration": 21,
    "start_time": "2022-11-19T18:29:33.275Z"
   },
   {
    "duration": 13,
    "start_time": "2022-11-19T18:29:33.298Z"
   },
   {
    "duration": 3,
    "start_time": "2022-11-19T18:29:33.313Z"
   },
   {
    "duration": 10,
    "start_time": "2022-11-19T18:29:33.318Z"
   },
   {
    "duration": 10,
    "start_time": "2022-11-19T18:29:33.329Z"
   },
   {
    "duration": 14,
    "start_time": "2022-11-19T18:29:33.340Z"
   },
   {
    "duration": 12,
    "start_time": "2022-11-19T18:29:33.355Z"
   },
   {
    "duration": 34,
    "start_time": "2022-11-19T18:29:33.369Z"
   },
   {
    "duration": 16,
    "start_time": "2022-11-19T18:29:33.405Z"
   },
   {
    "duration": 16,
    "start_time": "2022-11-19T18:29:33.426Z"
   },
   {
    "duration": 18,
    "start_time": "2022-11-19T18:29:33.444Z"
   },
   {
    "duration": 735,
    "start_time": "2022-11-19T18:29:33.463Z"
   },
   {
    "duration": 551,
    "start_time": "2022-11-19T18:29:34.200Z"
   },
   {
    "duration": 145,
    "start_time": "2022-11-19T18:29:34.752Z"
   },
   {
    "duration": 3822,
    "start_time": "2022-11-19T18:29:34.899Z"
   },
   {
    "duration": 66095,
    "start_time": "2022-11-19T18:29:38.723Z"
   },
   {
    "duration": 28259,
    "start_time": "2022-11-19T18:30:44.820Z"
   },
   {
    "duration": 49,
    "start_time": "2022-11-19T18:38:48.156Z"
   },
   {
    "duration": 534,
    "start_time": "2022-11-19T19:22:35.659Z"
   },
   {
    "duration": 2538,
    "start_time": "2022-11-19T19:23:31.602Z"
   },
   {
    "duration": 1403,
    "start_time": "2022-11-19T19:24:56.023Z"
   },
   {
    "duration": 3,
    "start_time": "2022-11-19T19:24:57.428Z"
   },
   {
    "duration": 7,
    "start_time": "2022-11-19T19:24:57.432Z"
   },
   {
    "duration": 5569,
    "start_time": "2022-11-19T19:24:57.441Z"
   },
   {
    "duration": 3,
    "start_time": "2022-11-19T19:25:03.011Z"
   },
   {
    "duration": 17762,
    "start_time": "2022-11-19T19:25:03.015Z"
   },
   {
    "duration": 17,
    "start_time": "2022-11-19T19:25:20.779Z"
   },
   {
    "duration": 2,
    "start_time": "2022-11-19T19:25:20.798Z"
   },
   {
    "duration": 10903,
    "start_time": "2022-11-19T19:25:20.802Z"
   },
   {
    "duration": 8,
    "start_time": "2022-11-19T19:25:31.708Z"
   },
   {
    "duration": 9,
    "start_time": "2022-11-19T19:25:31.718Z"
   },
   {
    "duration": 3136,
    "start_time": "2022-11-19T19:25:31.729Z"
   },
   {
    "duration": 7,
    "start_time": "2022-11-19T19:25:34.866Z"
   },
   {
    "duration": 5,
    "start_time": "2022-11-19T19:25:34.875Z"
   },
   {
    "duration": 3677,
    "start_time": "2022-11-19T19:25:34.882Z"
   },
   {
    "duration": 5,
    "start_time": "2022-11-19T19:25:38.561Z"
   },
   {
    "duration": 2918,
    "start_time": "2022-11-19T19:25:38.567Z"
   },
   {
    "duration": 28,
    "start_time": "2022-11-19T19:25:41.487Z"
   },
   {
    "duration": 14,
    "start_time": "2022-11-19T19:25:41.516Z"
   },
   {
    "duration": 14,
    "start_time": "2022-11-19T19:25:41.532Z"
   },
   {
    "duration": 259,
    "start_time": "2022-11-19T19:25:41.548Z"
   },
   {
    "duration": 9,
    "start_time": "2022-11-19T19:25:41.808Z"
   },
   {
    "duration": 229,
    "start_time": "2022-11-19T19:25:41.819Z"
   },
   {
    "duration": 6,
    "start_time": "2022-11-19T19:25:42.050Z"
   },
   {
    "duration": 3,
    "start_time": "2022-11-19T19:25:42.058Z"
   },
   {
    "duration": 3759,
    "start_time": "2022-11-19T19:25:42.062Z"
   },
   {
    "duration": 6,
    "start_time": "2022-11-19T19:25:45.823Z"
   },
   {
    "duration": 3,
    "start_time": "2022-11-19T19:25:45.833Z"
   },
   {
    "duration": 9,
    "start_time": "2022-11-19T19:25:45.838Z"
   },
   {
    "duration": 21240,
    "start_time": "2022-11-19T19:25:45.848Z"
   },
   {
    "duration": 96,
    "start_time": "2022-11-19T19:26:07.089Z"
   },
   {
    "duration": 12,
    "start_time": "2022-11-19T19:26:07.187Z"
   },
   {
    "duration": 19,
    "start_time": "2022-11-19T19:26:07.201Z"
   },
   {
    "duration": 16,
    "start_time": "2022-11-19T19:26:07.222Z"
   },
   {
    "duration": 15,
    "start_time": "2022-11-19T19:26:07.240Z"
   },
   {
    "duration": 39,
    "start_time": "2022-11-19T19:26:07.257Z"
   },
   {
    "duration": 15,
    "start_time": "2022-11-19T19:26:07.298Z"
   },
   {
    "duration": 15,
    "start_time": "2022-11-19T19:26:07.315Z"
   },
   {
    "duration": 15,
    "start_time": "2022-11-19T19:26:07.331Z"
   },
   {
    "duration": 17,
    "start_time": "2022-11-19T19:26:07.347Z"
   },
   {
    "duration": 34,
    "start_time": "2022-11-19T19:26:07.366Z"
   },
   {
    "duration": 11,
    "start_time": "2022-11-19T19:26:07.401Z"
   },
   {
    "duration": 16,
    "start_time": "2022-11-19T19:26:07.413Z"
   },
   {
    "duration": 12,
    "start_time": "2022-11-19T19:26:07.431Z"
   },
   {
    "duration": 99,
    "start_time": "2022-11-19T19:26:07.444Z"
   },
   {
    "duration": 55,
    "start_time": "2022-11-19T19:26:07.545Z"
   },
   {
    "duration": 4,
    "start_time": "2022-11-19T19:26:07.602Z"
   },
   {
    "duration": 88,
    "start_time": "2022-11-19T19:26:07.608Z"
   },
   {
    "duration": 118,
    "start_time": "2022-11-19T19:26:07.698Z"
   },
   {
    "duration": 48,
    "start_time": "2022-11-19T19:26:07.818Z"
   },
   {
    "duration": 67,
    "start_time": "2022-11-19T19:26:07.867Z"
   },
   {
    "duration": 8,
    "start_time": "2022-11-19T19:26:07.935Z"
   },
   {
    "duration": 8,
    "start_time": "2022-11-19T19:26:07.945Z"
   },
   {
    "duration": 11,
    "start_time": "2022-11-19T19:26:07.954Z"
   },
   {
    "duration": 44,
    "start_time": "2022-11-19T19:26:07.967Z"
   },
   {
    "duration": 3,
    "start_time": "2022-11-19T19:26:08.012Z"
   },
   {
    "duration": 26,
    "start_time": "2022-11-19T19:26:08.016Z"
   },
   {
    "duration": 3,
    "start_time": "2022-11-19T19:26:08.044Z"
   },
   {
    "duration": 5,
    "start_time": "2022-11-19T19:26:08.049Z"
   },
   {
    "duration": 15,
    "start_time": "2022-11-19T19:26:08.055Z"
   },
   {
    "duration": 7,
    "start_time": "2022-11-19T19:26:08.071Z"
   },
   {
    "duration": 2,
    "start_time": "2022-11-19T19:26:08.097Z"
   },
   {
    "duration": 9,
    "start_time": "2022-11-19T19:26:08.101Z"
   },
   {
    "duration": 4,
    "start_time": "2022-11-19T19:26:08.112Z"
   },
   {
    "duration": 10,
    "start_time": "2022-11-19T19:26:08.118Z"
   },
   {
    "duration": 8,
    "start_time": "2022-11-19T19:26:08.129Z"
   },
   {
    "duration": 12,
    "start_time": "2022-11-19T19:26:08.138Z"
   },
   {
    "duration": 46,
    "start_time": "2022-11-19T19:26:08.152Z"
   },
   {
    "duration": 24,
    "start_time": "2022-11-19T19:26:08.200Z"
   },
   {
    "duration": 6,
    "start_time": "2022-11-19T19:26:08.225Z"
   },
   {
    "duration": 190,
    "start_time": "2022-11-19T19:26:08.232Z"
   },
   {
    "duration": 11,
    "start_time": "2022-11-19T19:26:08.424Z"
   },
   {
    "duration": 4,
    "start_time": "2022-11-19T19:26:08.437Z"
   },
   {
    "duration": 10,
    "start_time": "2022-11-19T19:26:08.443Z"
   },
   {
    "duration": 3,
    "start_time": "2022-11-19T19:26:08.455Z"
   },
   {
    "duration": 6,
    "start_time": "2022-11-19T19:26:08.459Z"
   },
   {
    "duration": 29,
    "start_time": "2022-11-19T19:26:08.467Z"
   },
   {
    "duration": 22,
    "start_time": "2022-11-19T19:26:08.498Z"
   },
   {
    "duration": 117,
    "start_time": "2022-11-19T19:26:08.521Z"
   },
   {
    "duration": 0,
    "start_time": "2022-11-19T19:26:08.640Z"
   },
   {
    "duration": 0,
    "start_time": "2022-11-19T19:26:08.641Z"
   },
   {
    "duration": 0,
    "start_time": "2022-11-19T19:26:08.642Z"
   },
   {
    "duration": 0,
    "start_time": "2022-11-19T19:26:08.643Z"
   },
   {
    "duration": 0,
    "start_time": "2022-11-19T19:26:08.643Z"
   },
   {
    "duration": 0,
    "start_time": "2022-11-19T19:26:08.645Z"
   },
   {
    "duration": 0,
    "start_time": "2022-11-19T19:26:08.646Z"
   },
   {
    "duration": 0,
    "start_time": "2022-11-19T19:26:08.646Z"
   },
   {
    "duration": 0,
    "start_time": "2022-11-19T19:26:08.647Z"
   },
   {
    "duration": 0,
    "start_time": "2022-11-19T19:26:08.648Z"
   },
   {
    "duration": 0,
    "start_time": "2022-11-19T19:26:08.649Z"
   },
   {
    "duration": 1465,
    "start_time": "2022-11-19T19:26:30.173Z"
   },
   {
    "duration": 3,
    "start_time": "2022-11-19T19:26:31.639Z"
   },
   {
    "duration": 4,
    "start_time": "2022-11-19T19:26:31.644Z"
   },
   {
    "duration": 4717,
    "start_time": "2022-11-19T19:26:31.650Z"
   },
   {
    "duration": 2,
    "start_time": "2022-11-19T19:26:36.369Z"
   },
   {
    "duration": 17762,
    "start_time": "2022-11-19T19:26:36.373Z"
   },
   {
    "duration": 12,
    "start_time": "2022-11-19T19:26:54.137Z"
   },
   {
    "duration": 6,
    "start_time": "2022-11-19T19:26:54.151Z"
   },
   {
    "duration": 10803,
    "start_time": "2022-11-19T19:26:54.158Z"
   },
   {
    "duration": 7,
    "start_time": "2022-11-19T19:27:04.964Z"
   },
   {
    "duration": 4,
    "start_time": "2022-11-19T19:27:04.972Z"
   },
   {
    "duration": 3050,
    "start_time": "2022-11-19T19:27:04.977Z"
   },
   {
    "duration": 6,
    "start_time": "2022-11-19T19:27:08.029Z"
   },
   {
    "duration": 5,
    "start_time": "2022-11-19T19:27:08.036Z"
   },
   {
    "duration": 3710,
    "start_time": "2022-11-19T19:27:08.043Z"
   },
   {
    "duration": 5,
    "start_time": "2022-11-19T19:27:11.754Z"
   },
   {
    "duration": 2848,
    "start_time": "2022-11-19T19:27:11.760Z"
   },
   {
    "duration": 19,
    "start_time": "2022-11-19T19:27:14.610Z"
   },
   {
    "duration": 11,
    "start_time": "2022-11-19T19:27:14.631Z"
   },
   {
    "duration": 13,
    "start_time": "2022-11-19T19:27:14.643Z"
   },
   {
    "duration": 273,
    "start_time": "2022-11-19T19:27:14.657Z"
   },
   {
    "duration": 9,
    "start_time": "2022-11-19T19:27:14.931Z"
   },
   {
    "duration": 234,
    "start_time": "2022-11-19T19:27:14.942Z"
   },
   {
    "duration": 7,
    "start_time": "2022-11-19T19:27:15.178Z"
   },
   {
    "duration": 12,
    "start_time": "2022-11-19T19:27:15.187Z"
   },
   {
    "duration": 3771,
    "start_time": "2022-11-19T19:27:15.202Z"
   },
   {
    "duration": 7,
    "start_time": "2022-11-19T19:27:18.974Z"
   },
   {
    "duration": 12,
    "start_time": "2022-11-19T19:27:18.984Z"
   },
   {
    "duration": 4,
    "start_time": "2022-11-19T19:27:18.998Z"
   },
   {
    "duration": 21307,
    "start_time": "2022-11-19T19:27:19.003Z"
   },
   {
    "duration": 91,
    "start_time": "2022-11-19T19:27:40.312Z"
   },
   {
    "duration": 4,
    "start_time": "2022-11-19T19:27:40.405Z"
   },
   {
    "duration": 24,
    "start_time": "2022-11-19T19:27:40.411Z"
   },
   {
    "duration": 17,
    "start_time": "2022-11-19T19:27:40.437Z"
   },
   {
    "duration": 15,
    "start_time": "2022-11-19T19:27:40.456Z"
   },
   {
    "duration": 23,
    "start_time": "2022-11-19T19:27:40.473Z"
   },
   {
    "duration": 15,
    "start_time": "2022-11-19T19:27:40.498Z"
   },
   {
    "duration": 20,
    "start_time": "2022-11-19T19:27:40.515Z"
   },
   {
    "duration": 19,
    "start_time": "2022-11-19T19:27:40.536Z"
   },
   {
    "duration": 24,
    "start_time": "2022-11-19T19:27:40.556Z"
   },
   {
    "duration": 16,
    "start_time": "2022-11-19T19:27:40.581Z"
   },
   {
    "duration": 8,
    "start_time": "2022-11-19T19:27:40.598Z"
   },
   {
    "duration": 15,
    "start_time": "2022-11-19T19:27:40.607Z"
   },
   {
    "duration": 14,
    "start_time": "2022-11-19T19:27:40.623Z"
   },
   {
    "duration": 91,
    "start_time": "2022-11-19T19:27:40.638Z"
   },
   {
    "duration": 49,
    "start_time": "2022-11-19T19:27:40.731Z"
   },
   {
    "duration": 14,
    "start_time": "2022-11-19T19:27:40.782Z"
   },
   {
    "duration": 87,
    "start_time": "2022-11-19T19:27:40.798Z"
   },
   {
    "duration": 122,
    "start_time": "2022-11-19T19:27:40.887Z"
   },
   {
    "duration": 49,
    "start_time": "2022-11-19T19:27:41.011Z"
   },
   {
    "duration": 63,
    "start_time": "2022-11-19T19:27:41.062Z"
   },
   {
    "duration": 8,
    "start_time": "2022-11-19T19:27:41.126Z"
   },
   {
    "duration": 8,
    "start_time": "2022-11-19T19:27:41.136Z"
   },
   {
    "duration": 7,
    "start_time": "2022-11-19T19:27:41.146Z"
   },
   {
    "duration": 46,
    "start_time": "2022-11-19T19:27:41.155Z"
   },
   {
    "duration": 3,
    "start_time": "2022-11-19T19:27:41.202Z"
   },
   {
    "duration": 24,
    "start_time": "2022-11-19T19:27:41.206Z"
   },
   {
    "duration": 3,
    "start_time": "2022-11-19T19:27:41.231Z"
   },
   {
    "duration": 7,
    "start_time": "2022-11-19T19:27:41.235Z"
   },
   {
    "duration": 9,
    "start_time": "2022-11-19T19:27:41.244Z"
   },
   {
    "duration": 3,
    "start_time": "2022-11-19T19:27:41.255Z"
   },
   {
    "duration": 4,
    "start_time": "2022-11-19T19:27:41.259Z"
   },
   {
    "duration": 33,
    "start_time": "2022-11-19T19:27:41.265Z"
   },
   {
    "duration": 7,
    "start_time": "2022-11-19T19:27:41.300Z"
   },
   {
    "duration": 14,
    "start_time": "2022-11-19T19:27:41.308Z"
   },
   {
    "duration": 15,
    "start_time": "2022-11-19T19:27:41.323Z"
   },
   {
    "duration": 9,
    "start_time": "2022-11-19T19:27:41.339Z"
   },
   {
    "duration": 27,
    "start_time": "2022-11-19T19:27:41.350Z"
   },
   {
    "duration": 36,
    "start_time": "2022-11-19T19:27:41.378Z"
   },
   {
    "duration": 7,
    "start_time": "2022-11-19T19:27:41.416Z"
   },
   {
    "duration": 184,
    "start_time": "2022-11-19T19:27:41.425Z"
   },
   {
    "duration": 10,
    "start_time": "2022-11-19T19:27:41.611Z"
   },
   {
    "duration": 4,
    "start_time": "2022-11-19T19:27:41.623Z"
   },
   {
    "duration": 12,
    "start_time": "2022-11-19T19:27:41.629Z"
   },
   {
    "duration": 4,
    "start_time": "2022-11-19T19:27:41.642Z"
   },
   {
    "duration": 10,
    "start_time": "2022-11-19T19:27:41.647Z"
   },
   {
    "duration": 9,
    "start_time": "2022-11-19T19:27:41.658Z"
   },
   {
    "duration": 33,
    "start_time": "2022-11-19T19:27:41.669Z"
   },
   {
    "duration": 2,
    "start_time": "2022-11-19T19:27:41.704Z"
   },
   {
    "duration": 16,
    "start_time": "2022-11-19T19:27:41.708Z"
   },
   {
    "duration": 13,
    "start_time": "2022-11-19T19:27:41.726Z"
   },
   {
    "duration": 13,
    "start_time": "2022-11-19T19:27:41.745Z"
   },
   {
    "duration": 36,
    "start_time": "2022-11-19T19:27:41.760Z"
   },
   {
    "duration": 210,
    "start_time": "2022-11-19T19:27:41.798Z"
   },
   {
    "duration": 418,
    "start_time": "2022-11-19T19:27:42.010Z"
   },
   {
    "duration": 36,
    "start_time": "2022-11-19T19:27:42.430Z"
   },
   {
    "duration": 1449,
    "start_time": "2022-11-19T19:27:42.467Z"
   },
   {
    "duration": 48255,
    "start_time": "2022-11-19T19:27:43.917Z"
   },
   {
    "duration": 17568,
    "start_time": "2022-11-19T19:28:32.174Z"
   },
   {
    "duration": 2259,
    "start_time": "2022-11-19T19:28:49.743Z"
   },
   {
    "duration": 1676,
    "start_time": "2022-11-19T19:30:24.138Z"
   },
   {
    "duration": 412,
    "start_time": "2022-11-19T19:32:18.561Z"
   },
   {
    "duration": 2198,
    "start_time": "2022-11-19T19:32:35.893Z"
   },
   {
    "duration": 2178,
    "start_time": "2022-11-19T19:33:28.477Z"
   },
   {
    "duration": 1809,
    "start_time": "2022-11-20T11:43:45.743Z"
   },
   {
    "duration": 4,
    "start_time": "2022-11-20T11:43:47.557Z"
   },
   {
    "duration": 17,
    "start_time": "2022-11-20T11:43:47.563Z"
   },
   {
    "duration": 7412,
    "start_time": "2022-11-20T11:43:47.583Z"
   },
   {
    "duration": 2,
    "start_time": "2022-11-20T11:43:54.997Z"
   },
   {
    "duration": 37044,
    "start_time": "2022-11-20T11:43:55.002Z"
   },
   {
    "duration": 11,
    "start_time": "2022-11-20T11:44:32.047Z"
   },
   {
    "duration": 2,
    "start_time": "2022-11-20T11:44:32.060Z"
   },
   {
    "duration": 10957,
    "start_time": "2022-11-20T11:44:32.064Z"
   },
   {
    "duration": 6,
    "start_time": "2022-11-20T11:44:43.024Z"
   },
   {
    "duration": 13,
    "start_time": "2022-11-20T11:44:43.032Z"
   },
   {
    "duration": 6479,
    "start_time": "2022-11-20T11:44:43.046Z"
   },
   {
    "duration": 6,
    "start_time": "2022-11-20T11:44:49.526Z"
   },
   {
    "duration": 10,
    "start_time": "2022-11-20T11:44:49.534Z"
   },
   {
    "duration": 7230,
    "start_time": "2022-11-20T11:44:49.545Z"
   },
   {
    "duration": 4,
    "start_time": "2022-11-20T11:44:56.777Z"
   },
   {
    "duration": 2604,
    "start_time": "2022-11-20T11:44:56.782Z"
   },
   {
    "duration": 28,
    "start_time": "2022-11-20T11:44:59.388Z"
   },
   {
    "duration": 9,
    "start_time": "2022-11-20T11:44:59.417Z"
   },
   {
    "duration": 13,
    "start_time": "2022-11-20T11:44:59.428Z"
   },
   {
    "duration": 255,
    "start_time": "2022-11-20T11:44:59.443Z"
   },
   {
    "duration": 13,
    "start_time": "2022-11-20T11:44:59.699Z"
   },
   {
    "duration": 212,
    "start_time": "2022-11-20T11:44:59.713Z"
   },
   {
    "duration": 6,
    "start_time": "2022-11-20T11:44:59.926Z"
   },
   {
    "duration": 7,
    "start_time": "2022-11-20T11:44:59.933Z"
   },
   {
    "duration": 3563,
    "start_time": "2022-11-20T11:44:59.942Z"
   },
   {
    "duration": 6,
    "start_time": "2022-11-20T11:45:03.507Z"
   },
   {
    "duration": 3,
    "start_time": "2022-11-20T11:45:03.517Z"
   },
   {
    "duration": 9,
    "start_time": "2022-11-20T11:45:03.521Z"
   },
   {
    "duration": 21747,
    "start_time": "2022-11-20T11:45:03.532Z"
   },
   {
    "duration": 82,
    "start_time": "2022-11-20T11:45:25.280Z"
   },
   {
    "duration": 5,
    "start_time": "2022-11-20T11:45:25.364Z"
   },
   {
    "duration": 16,
    "start_time": "2022-11-20T11:45:25.371Z"
   },
   {
    "duration": 16,
    "start_time": "2022-11-20T11:45:25.404Z"
   },
   {
    "duration": 16,
    "start_time": "2022-11-20T11:45:25.422Z"
   },
   {
    "duration": 15,
    "start_time": "2022-11-20T11:45:25.440Z"
   },
   {
    "duration": 20,
    "start_time": "2022-11-20T11:45:25.456Z"
   },
   {
    "duration": 30,
    "start_time": "2022-11-20T11:45:25.477Z"
   },
   {
    "duration": 22,
    "start_time": "2022-11-20T11:45:25.509Z"
   },
   {
    "duration": 28,
    "start_time": "2022-11-20T11:45:25.532Z"
   },
   {
    "duration": 12,
    "start_time": "2022-11-20T11:45:25.561Z"
   },
   {
    "duration": 17,
    "start_time": "2022-11-20T11:45:25.574Z"
   },
   {
    "duration": 18,
    "start_time": "2022-11-20T11:45:25.593Z"
   },
   {
    "duration": 19,
    "start_time": "2022-11-20T11:45:25.612Z"
   },
   {
    "duration": 97,
    "start_time": "2022-11-20T11:45:25.632Z"
   },
   {
    "duration": 42,
    "start_time": "2022-11-20T11:45:25.730Z"
   },
   {
    "duration": 3,
    "start_time": "2022-11-20T11:45:25.774Z"
   },
   {
    "duration": 93,
    "start_time": "2022-11-20T11:45:25.778Z"
   },
   {
    "duration": 114,
    "start_time": "2022-11-20T11:45:25.872Z"
   },
   {
    "duration": 52,
    "start_time": "2022-11-20T11:45:25.988Z"
   },
   {
    "duration": 64,
    "start_time": "2022-11-20T11:45:26.042Z"
   },
   {
    "duration": 8,
    "start_time": "2022-11-20T11:45:26.108Z"
   },
   {
    "duration": 7,
    "start_time": "2022-11-20T11:45:26.118Z"
   },
   {
    "duration": 8,
    "start_time": "2022-11-20T11:45:26.127Z"
   },
   {
    "duration": 26,
    "start_time": "2022-11-20T11:45:26.136Z"
   },
   {
    "duration": 3,
    "start_time": "2022-11-20T11:45:26.164Z"
   },
   {
    "duration": 54,
    "start_time": "2022-11-20T11:45:26.169Z"
   },
   {
    "duration": 3,
    "start_time": "2022-11-20T11:45:26.224Z"
   },
   {
    "duration": 8,
    "start_time": "2022-11-20T11:45:26.229Z"
   },
   {
    "duration": 10,
    "start_time": "2022-11-20T11:45:26.239Z"
   },
   {
    "duration": 5,
    "start_time": "2022-11-20T11:45:26.250Z"
   },
   {
    "duration": 6,
    "start_time": "2022-11-20T11:45:26.256Z"
   },
   {
    "duration": 9,
    "start_time": "2022-11-20T11:45:26.263Z"
   },
   {
    "duration": 4,
    "start_time": "2022-11-20T11:45:26.274Z"
   },
   {
    "duration": 28,
    "start_time": "2022-11-20T11:45:26.279Z"
   },
   {
    "duration": 10,
    "start_time": "2022-11-20T11:45:26.309Z"
   },
   {
    "duration": 7,
    "start_time": "2022-11-20T11:45:26.320Z"
   },
   {
    "duration": 26,
    "start_time": "2022-11-20T11:45:26.328Z"
   },
   {
    "duration": 27,
    "start_time": "2022-11-20T11:45:26.355Z"
   },
   {
    "duration": 6,
    "start_time": "2022-11-20T11:45:26.384Z"
   },
   {
    "duration": 316,
    "start_time": "2022-11-20T11:45:26.406Z"
   },
   {
    "duration": 11,
    "start_time": "2022-11-20T11:45:26.723Z"
   },
   {
    "duration": 5,
    "start_time": "2022-11-20T11:45:26.735Z"
   },
   {
    "duration": 11,
    "start_time": "2022-11-20T11:45:26.742Z"
   },
   {
    "duration": 3,
    "start_time": "2022-11-20T11:45:26.754Z"
   },
   {
    "duration": 7,
    "start_time": "2022-11-20T11:45:26.758Z"
   },
   {
    "duration": 8,
    "start_time": "2022-11-20T11:45:26.766Z"
   },
   {
    "duration": 34,
    "start_time": "2022-11-20T11:45:26.776Z"
   },
   {
    "duration": 3,
    "start_time": "2022-11-20T11:45:26.811Z"
   },
   {
    "duration": 20,
    "start_time": "2022-11-20T11:45:26.815Z"
   },
   {
    "duration": 14,
    "start_time": "2022-11-20T11:45:26.836Z"
   },
   {
    "duration": 16,
    "start_time": "2022-11-20T11:45:26.855Z"
   },
   {
    "duration": 38,
    "start_time": "2022-11-20T11:45:26.872Z"
   },
   {
    "duration": 795,
    "start_time": "2022-11-20T11:45:26.911Z"
   },
   {
    "duration": 481,
    "start_time": "2022-11-20T11:45:27.707Z"
   },
   {
    "duration": 132,
    "start_time": "2022-11-20T11:45:28.190Z"
   },
   {
    "duration": 3614,
    "start_time": "2022-11-20T11:45:28.323Z"
   },
   {
    "duration": 70647,
    "start_time": "2022-11-20T11:45:31.939Z"
   },
   {
    "duration": 29854,
    "start_time": "2022-11-20T11:46:42.587Z"
   },
   {
    "duration": 2640,
    "start_time": "2022-11-20T11:47:12.443Z"
   },
   {
    "duration": 18,
    "start_time": "2022-11-20T11:54:48.396Z"
   },
   {
    "duration": 1533,
    "start_time": "2022-11-20T12:22:45.680Z"
   },
   {
    "duration": 3,
    "start_time": "2022-11-20T12:22:47.215Z"
   },
   {
    "duration": 19,
    "start_time": "2022-11-20T12:22:47.220Z"
   },
   {
    "duration": 7673,
    "start_time": "2022-11-20T12:22:47.241Z"
   },
   {
    "duration": 4,
    "start_time": "2022-11-20T12:22:54.916Z"
   },
   {
    "duration": 16171,
    "start_time": "2022-11-20T12:22:54.922Z"
   },
   {
    "duration": 16,
    "start_time": "2022-11-20T12:23:11.095Z"
   },
   {
    "duration": 22,
    "start_time": "2022-11-20T12:23:11.113Z"
   },
   {
    "duration": 10774,
    "start_time": "2022-11-20T12:23:11.137Z"
   },
   {
    "duration": 7,
    "start_time": "2022-11-20T12:23:21.914Z"
   },
   {
    "duration": 7,
    "start_time": "2022-11-20T12:23:21.922Z"
   },
   {
    "duration": 3017,
    "start_time": "2022-11-20T12:23:21.930Z"
   },
   {
    "duration": 7,
    "start_time": "2022-11-20T12:23:24.949Z"
   },
   {
    "duration": 6,
    "start_time": "2022-11-20T12:23:24.957Z"
   },
   {
    "duration": 3513,
    "start_time": "2022-11-20T12:23:24.965Z"
   },
   {
    "duration": 5,
    "start_time": "2022-11-20T12:23:28.480Z"
   },
   {
    "duration": 2528,
    "start_time": "2022-11-20T12:23:28.486Z"
   },
   {
    "duration": 20,
    "start_time": "2022-11-20T12:23:31.016Z"
   },
   {
    "duration": 31,
    "start_time": "2022-11-20T12:23:31.038Z"
   },
   {
    "duration": 38,
    "start_time": "2022-11-20T12:23:31.071Z"
   },
   {
    "duration": 268,
    "start_time": "2022-11-20T12:23:31.111Z"
   },
   {
    "duration": 9,
    "start_time": "2022-11-20T12:23:31.381Z"
   },
   {
    "duration": 219,
    "start_time": "2022-11-20T12:23:31.391Z"
   },
   {
    "duration": 8,
    "start_time": "2022-11-20T12:23:31.612Z"
   },
   {
    "duration": 11,
    "start_time": "2022-11-20T12:23:31.621Z"
   },
   {
    "duration": 3639,
    "start_time": "2022-11-20T12:23:31.633Z"
   },
   {
    "duration": 7,
    "start_time": "2022-11-20T12:23:35.273Z"
   },
   {
    "duration": 4,
    "start_time": "2022-11-20T12:23:35.283Z"
   },
   {
    "duration": 17,
    "start_time": "2022-11-20T12:23:35.288Z"
   },
   {
    "duration": 21740,
    "start_time": "2022-11-20T12:23:35.306Z"
   },
   {
    "duration": 95,
    "start_time": "2022-11-20T12:23:57.048Z"
   },
   {
    "duration": 5,
    "start_time": "2022-11-20T12:23:57.144Z"
   },
   {
    "duration": 23,
    "start_time": "2022-11-20T12:23:57.151Z"
   },
   {
    "duration": 37,
    "start_time": "2022-11-20T12:23:57.176Z"
   },
   {
    "duration": 15,
    "start_time": "2022-11-20T12:23:57.215Z"
   },
   {
    "duration": 19,
    "start_time": "2022-11-20T12:23:57.232Z"
   },
   {
    "duration": 16,
    "start_time": "2022-11-20T12:23:57.253Z"
   },
   {
    "duration": 16,
    "start_time": "2022-11-20T12:23:57.270Z"
   },
   {
    "duration": 22,
    "start_time": "2022-11-20T12:23:57.287Z"
   },
   {
    "duration": 16,
    "start_time": "2022-11-20T12:23:57.311Z"
   },
   {
    "duration": 27,
    "start_time": "2022-11-20T12:23:57.329Z"
   },
   {
    "duration": 14,
    "start_time": "2022-11-20T12:23:57.357Z"
   },
   {
    "duration": 10,
    "start_time": "2022-11-20T12:23:57.372Z"
   },
   {
    "duration": 17,
    "start_time": "2022-11-20T12:23:57.383Z"
   },
   {
    "duration": 109,
    "start_time": "2022-11-20T12:23:57.401Z"
   },
   {
    "duration": 56,
    "start_time": "2022-11-20T12:23:57.513Z"
   },
   {
    "duration": 4,
    "start_time": "2022-11-20T12:23:57.571Z"
   },
   {
    "duration": 128,
    "start_time": "2022-11-20T12:23:57.577Z"
   },
   {
    "duration": 122,
    "start_time": "2022-11-20T12:23:57.707Z"
   },
   {
    "duration": 49,
    "start_time": "2022-11-20T12:23:57.831Z"
   },
   {
    "duration": 67,
    "start_time": "2022-11-20T12:23:57.882Z"
   },
   {
    "duration": 11,
    "start_time": "2022-11-20T12:23:57.950Z"
   },
   {
    "duration": 9,
    "start_time": "2022-11-20T12:23:57.963Z"
   },
   {
    "duration": 31,
    "start_time": "2022-11-20T12:23:57.974Z"
   },
   {
    "duration": 30,
    "start_time": "2022-11-20T12:23:58.007Z"
   },
   {
    "duration": 2,
    "start_time": "2022-11-20T12:23:58.039Z"
   },
   {
    "duration": 40,
    "start_time": "2022-11-20T12:23:58.043Z"
   },
   {
    "duration": 4,
    "start_time": "2022-11-20T12:23:58.085Z"
   },
   {
    "duration": 16,
    "start_time": "2022-11-20T12:23:58.090Z"
   },
   {
    "duration": 10,
    "start_time": "2022-11-20T12:23:58.107Z"
   },
   {
    "duration": 14,
    "start_time": "2022-11-20T12:23:58.119Z"
   },
   {
    "duration": 22,
    "start_time": "2022-11-20T12:23:58.134Z"
   },
   {
    "duration": 19,
    "start_time": "2022-11-20T12:23:58.158Z"
   },
   {
    "duration": 25,
    "start_time": "2022-11-20T12:23:58.179Z"
   },
   {
    "duration": 23,
    "start_time": "2022-11-20T12:23:58.205Z"
   },
   {
    "duration": 29,
    "start_time": "2022-11-20T12:23:58.230Z"
   },
   {
    "duration": 8,
    "start_time": "2022-11-20T12:23:58.260Z"
   },
   {
    "duration": 24,
    "start_time": "2022-11-20T12:23:58.270Z"
   },
   {
    "duration": 25,
    "start_time": "2022-11-20T12:23:58.295Z"
   },
   {
    "duration": 16,
    "start_time": "2022-11-20T12:23:58.321Z"
   },
   {
    "duration": 443,
    "start_time": "2022-11-20T12:23:58.338Z"
   },
   {
    "duration": 11,
    "start_time": "2022-11-20T12:23:58.783Z"
   },
   {
    "duration": 14,
    "start_time": "2022-11-20T12:23:58.795Z"
   },
   {
    "duration": 32,
    "start_time": "2022-11-20T12:23:58.811Z"
   },
   {
    "duration": 13,
    "start_time": "2022-11-20T12:23:58.844Z"
   },
   {
    "duration": 11,
    "start_time": "2022-11-20T12:23:58.859Z"
   },
   {
    "duration": 13,
    "start_time": "2022-11-20T12:23:58.872Z"
   },
   {
    "duration": 21,
    "start_time": "2022-11-20T12:23:58.887Z"
   },
   {
    "duration": 5,
    "start_time": "2022-11-20T12:23:58.910Z"
   },
   {
    "duration": 21,
    "start_time": "2022-11-20T12:23:58.917Z"
   },
   {
    "duration": 25,
    "start_time": "2022-11-20T12:23:58.940Z"
   },
   {
    "duration": 17,
    "start_time": "2022-11-20T12:23:58.970Z"
   },
   {
    "duration": 21,
    "start_time": "2022-11-20T12:23:58.988Z"
   },
   {
    "duration": 894,
    "start_time": "2022-11-20T12:23:59.011Z"
   },
   {
    "duration": 520,
    "start_time": "2022-11-20T12:23:59.906Z"
   },
   {
    "duration": 161,
    "start_time": "2022-11-20T12:24:00.428Z"
   },
   {
    "duration": 3807,
    "start_time": "2022-11-20T12:24:00.590Z"
   },
   {
    "duration": 67430,
    "start_time": "2022-11-20T12:24:04.399Z"
   },
   {
    "duration": 28383,
    "start_time": "2022-11-20T12:25:11.831Z"
   },
   {
    "duration": 2629,
    "start_time": "2022-11-20T12:25:40.216Z"
   },
   {
    "duration": 16,
    "start_time": "2022-11-20T12:25:42.847Z"
   },
   {
    "duration": 5855,
    "start_time": "2022-11-20T12:32:58.853Z"
   },
   {
    "duration": 3790,
    "start_time": "2022-11-20T12:33:16.325Z"
   },
   {
    "duration": 5827,
    "start_time": "2022-11-20T12:34:27.779Z"
   },
   {
    "duration": 49014,
    "start_time": "2022-11-20T12:36:53.991Z"
   },
   {
    "duration": 2525,
    "start_time": "2022-11-20T12:38:15.414Z"
   },
   {
    "duration": 2464,
    "start_time": "2022-11-20T12:39:07.894Z"
   },
   {
    "duration": 11,
    "start_time": "2022-11-20T12:54:49.146Z"
   },
   {
    "duration": 4,
    "start_time": "2022-11-20T12:54:58.863Z"
   },
   {
    "duration": 5,
    "start_time": "2022-11-20T12:55:18.176Z"
   },
   {
    "duration": 6,
    "start_time": "2022-11-20T12:55:24.153Z"
   },
   {
    "duration": 7,
    "start_time": "2022-11-20T12:55:47.838Z"
   },
   {
    "duration": 10,
    "start_time": "2022-11-20T13:20:10.982Z"
   },
   {
    "duration": 5,
    "start_time": "2022-11-20T13:20:25.550Z"
   },
   {
    "duration": 14,
    "start_time": "2022-11-20T13:20:37.356Z"
   },
   {
    "duration": 1523,
    "start_time": "2022-11-20T15:21:35.086Z"
   },
   {
    "duration": 2,
    "start_time": "2022-11-20T15:21:36.612Z"
   },
   {
    "duration": 9,
    "start_time": "2022-11-20T15:21:36.616Z"
   },
   {
    "duration": 8543,
    "start_time": "2022-11-20T15:21:36.627Z"
   },
   {
    "duration": 3,
    "start_time": "2022-11-20T15:21:45.172Z"
   },
   {
    "duration": 16624,
    "start_time": "2022-11-20T15:21:45.176Z"
   },
   {
    "duration": 14,
    "start_time": "2022-11-20T15:22:01.801Z"
   },
   {
    "duration": 6,
    "start_time": "2022-11-20T15:22:01.817Z"
   },
   {
    "duration": 10911,
    "start_time": "2022-11-20T15:22:01.825Z"
   },
   {
    "duration": 8,
    "start_time": "2022-11-20T15:22:12.738Z"
   },
   {
    "duration": 5,
    "start_time": "2022-11-20T15:22:12.747Z"
   },
   {
    "duration": 3039,
    "start_time": "2022-11-20T15:22:12.753Z"
   },
   {
    "duration": 12,
    "start_time": "2022-11-20T15:22:15.793Z"
   },
   {
    "duration": 5,
    "start_time": "2022-11-20T15:22:15.808Z"
   },
   {
    "duration": 3504,
    "start_time": "2022-11-20T15:22:15.815Z"
   },
   {
    "duration": 5,
    "start_time": "2022-11-20T15:22:19.321Z"
   },
   {
    "duration": 2506,
    "start_time": "2022-11-20T15:22:19.327Z"
   },
   {
    "duration": 20,
    "start_time": "2022-11-20T15:22:21.834Z"
   },
   {
    "duration": 15,
    "start_time": "2022-11-20T15:22:21.856Z"
   },
   {
    "duration": 20,
    "start_time": "2022-11-20T15:22:21.873Z"
   },
   {
    "duration": 232,
    "start_time": "2022-11-20T15:22:21.895Z"
   },
   {
    "duration": 9,
    "start_time": "2022-11-20T15:22:22.129Z"
   },
   {
    "duration": 206,
    "start_time": "2022-11-20T15:22:22.140Z"
   },
   {
    "duration": 7,
    "start_time": "2022-11-20T15:22:22.348Z"
   },
   {
    "duration": 16,
    "start_time": "2022-11-20T15:22:22.357Z"
   },
   {
    "duration": 3611,
    "start_time": "2022-11-20T15:22:22.375Z"
   },
   {
    "duration": 6,
    "start_time": "2022-11-20T15:22:25.987Z"
   },
   {
    "duration": 10,
    "start_time": "2022-11-20T15:22:25.994Z"
   },
   {
    "duration": 5,
    "start_time": "2022-11-20T15:22:26.006Z"
   },
   {
    "duration": 21595,
    "start_time": "2022-11-20T15:22:26.013Z"
   },
   {
    "duration": 79,
    "start_time": "2022-11-20T15:22:47.610Z"
   },
   {
    "duration": 18,
    "start_time": "2022-11-20T15:22:47.690Z"
   },
   {
    "duration": 21,
    "start_time": "2022-11-20T15:22:47.709Z"
   },
   {
    "duration": 19,
    "start_time": "2022-11-20T15:22:47.731Z"
   },
   {
    "duration": 14,
    "start_time": "2022-11-20T15:22:47.752Z"
   },
   {
    "duration": 11,
    "start_time": "2022-11-20T15:22:47.768Z"
   },
   {
    "duration": 34,
    "start_time": "2022-11-20T15:22:47.781Z"
   },
   {
    "duration": 16,
    "start_time": "2022-11-20T15:22:47.817Z"
   },
   {
    "duration": 16,
    "start_time": "2022-11-20T15:22:47.835Z"
   },
   {
    "duration": 18,
    "start_time": "2022-11-20T15:22:47.852Z"
   },
   {
    "duration": 9,
    "start_time": "2022-11-20T15:22:47.876Z"
   },
   {
    "duration": 28,
    "start_time": "2022-11-20T15:22:47.886Z"
   },
   {
    "duration": 8,
    "start_time": "2022-11-20T15:22:47.915Z"
   },
   {
    "duration": 16,
    "start_time": "2022-11-20T15:22:47.924Z"
   },
   {
    "duration": 93,
    "start_time": "2022-11-20T15:22:47.941Z"
   },
   {
    "duration": 45,
    "start_time": "2022-11-20T15:22:48.036Z"
   },
   {
    "duration": 3,
    "start_time": "2022-11-20T15:22:48.083Z"
   },
   {
    "duration": 106,
    "start_time": "2022-11-20T15:22:48.088Z"
   },
   {
    "duration": 131,
    "start_time": "2022-11-20T15:22:48.195Z"
   },
   {
    "duration": 48,
    "start_time": "2022-11-20T15:22:48.328Z"
   },
   {
    "duration": 68,
    "start_time": "2022-11-20T15:22:48.377Z"
   },
   {
    "duration": 8,
    "start_time": "2022-11-20T15:22:48.447Z"
   },
   {
    "duration": 21,
    "start_time": "2022-11-20T15:22:48.457Z"
   },
   {
    "duration": 24,
    "start_time": "2022-11-20T15:22:48.479Z"
   },
   {
    "duration": 25,
    "start_time": "2022-11-20T15:22:48.505Z"
   },
   {
    "duration": 2,
    "start_time": "2022-11-20T15:22:48.532Z"
   },
   {
    "duration": 26,
    "start_time": "2022-11-20T15:22:48.536Z"
   },
   {
    "duration": 4,
    "start_time": "2022-11-20T15:22:48.564Z"
   },
   {
    "duration": 5,
    "start_time": "2022-11-20T15:22:48.570Z"
   },
   {
    "duration": 31,
    "start_time": "2022-11-20T15:22:48.577Z"
   },
   {
    "duration": 7,
    "start_time": "2022-11-20T15:22:48.610Z"
   },
   {
    "duration": 6,
    "start_time": "2022-11-20T15:22:48.619Z"
   },
   {
    "duration": 11,
    "start_time": "2022-11-20T15:22:48.627Z"
   },
   {
    "duration": 6,
    "start_time": "2022-11-20T15:22:48.639Z"
   },
   {
    "duration": 19,
    "start_time": "2022-11-20T15:22:48.646Z"
   },
   {
    "duration": 11,
    "start_time": "2022-11-20T15:22:48.666Z"
   },
   {
    "duration": 6,
    "start_time": "2022-11-20T15:22:48.679Z"
   },
   {
    "duration": 34,
    "start_time": "2022-11-20T15:22:48.687Z"
   },
   {
    "duration": 35,
    "start_time": "2022-11-20T15:22:48.723Z"
   },
   {
    "duration": 9,
    "start_time": "2022-11-20T15:22:48.760Z"
   },
   {
    "duration": 450,
    "start_time": "2022-11-20T15:22:48.771Z"
   },
   {
    "duration": 12,
    "start_time": "2022-11-20T15:22:49.223Z"
   },
   {
    "duration": 7,
    "start_time": "2022-11-20T15:22:49.237Z"
   },
   {
    "duration": 12,
    "start_time": "2022-11-20T15:22:49.246Z"
   },
   {
    "duration": 5,
    "start_time": "2022-11-20T15:22:49.259Z"
   },
   {
    "duration": 7,
    "start_time": "2022-11-20T15:22:49.265Z"
   },
   {
    "duration": 32,
    "start_time": "2022-11-20T15:22:49.273Z"
   },
   {
    "duration": 17,
    "start_time": "2022-11-20T15:22:49.307Z"
   },
   {
    "duration": 3,
    "start_time": "2022-11-20T15:22:49.326Z"
   },
   {
    "duration": 19,
    "start_time": "2022-11-20T15:22:49.331Z"
   },
   {
    "duration": 17,
    "start_time": "2022-11-20T15:22:49.352Z"
   },
   {
    "duration": 45,
    "start_time": "2022-11-20T15:22:49.371Z"
   },
   {
    "duration": 18,
    "start_time": "2022-11-20T15:22:49.417Z"
   },
   {
    "duration": 4868,
    "start_time": "2022-11-20T15:22:49.437Z"
   },
   {
    "duration": 2511,
    "start_time": "2022-11-20T15:22:54.308Z"
   },
   {
    "duration": 157,
    "start_time": "2022-11-20T15:22:56.820Z"
   },
   {
    "duration": 3996,
    "start_time": "2022-11-20T15:22:56.979Z"
   },
   {
    "duration": 65844,
    "start_time": "2022-11-20T15:23:00.977Z"
   },
   {
    "duration": 27912,
    "start_time": "2022-11-20T15:24:06.823Z"
   },
   {
    "duration": 1476042,
    "start_time": "2022-11-20T15:24:34.736Z"
   },
   {
    "duration": 2822,
    "start_time": "2022-11-20T15:49:10.779Z"
   },
   {
    "duration": 21,
    "start_time": "2022-11-20T15:49:13.603Z"
   },
   {
    "duration": 5734,
    "start_time": "2022-11-20T15:53:07.845Z"
   },
   {
    "duration": 6297,
    "start_time": "2022-11-20T15:53:26.595Z"
   },
   {
    "duration": 4,
    "start_time": "2022-11-20T16:02:54.704Z"
   },
   {
    "duration": 12,
    "start_time": "2022-11-20T16:03:57.976Z"
   },
   {
    "duration": 16,
    "start_time": "2022-11-20T16:04:24.912Z"
   },
   {
    "duration": 9,
    "start_time": "2022-11-20T16:04:33.318Z"
   },
   {
    "duration": 12,
    "start_time": "2022-11-20T16:04:43.181Z"
   },
   {
    "duration": 12,
    "start_time": "2022-11-20T16:04:47.173Z"
   },
   {
    "duration": 8,
    "start_time": "2022-11-20T16:15:07.408Z"
   },
   {
    "duration": 4,
    "start_time": "2022-11-20T16:15:10.330Z"
   },
   {
    "duration": 1452,
    "start_time": "2022-11-20T16:21:15.861Z"
   },
   {
    "duration": 3,
    "start_time": "2022-11-20T16:21:17.314Z"
   },
   {
    "duration": 6,
    "start_time": "2022-11-20T16:21:17.318Z"
   },
   {
    "duration": 7616,
    "start_time": "2022-11-20T16:21:17.325Z"
   },
   {
    "duration": 3,
    "start_time": "2022-11-20T16:21:24.943Z"
   },
   {
    "duration": 16135,
    "start_time": "2022-11-20T16:21:24.948Z"
   },
   {
    "duration": 21,
    "start_time": "2022-11-20T16:21:41.084Z"
   },
   {
    "duration": 2,
    "start_time": "2022-11-20T16:21:41.107Z"
   },
   {
    "duration": 11080,
    "start_time": "2022-11-20T16:21:41.111Z"
   },
   {
    "duration": 12,
    "start_time": "2022-11-20T16:21:52.194Z"
   },
   {
    "duration": 10,
    "start_time": "2022-11-20T16:21:52.208Z"
   },
   {
    "duration": 2999,
    "start_time": "2022-11-20T16:21:52.219Z"
   },
   {
    "duration": 6,
    "start_time": "2022-11-20T16:21:55.220Z"
   },
   {
    "duration": 13,
    "start_time": "2022-11-20T16:21:55.227Z"
   },
   {
    "duration": 3547,
    "start_time": "2022-11-20T16:21:55.241Z"
   },
   {
    "duration": 4,
    "start_time": "2022-11-20T16:21:58.790Z"
   },
   {
    "duration": 2821,
    "start_time": "2022-11-20T16:21:58.804Z"
   },
   {
    "duration": 19,
    "start_time": "2022-11-20T16:22:01.627Z"
   },
   {
    "duration": 11,
    "start_time": "2022-11-20T16:22:01.648Z"
   },
   {
    "duration": 24,
    "start_time": "2022-11-20T16:22:01.661Z"
   },
   {
    "duration": 276,
    "start_time": "2022-11-20T16:22:01.686Z"
   },
   {
    "duration": 9,
    "start_time": "2022-11-20T16:22:01.963Z"
   },
   {
    "duration": 239,
    "start_time": "2022-11-20T16:22:01.974Z"
   },
   {
    "duration": 14,
    "start_time": "2022-11-20T16:22:02.214Z"
   },
   {
    "duration": 20,
    "start_time": "2022-11-20T16:22:02.229Z"
   },
   {
    "duration": 3704,
    "start_time": "2022-11-20T16:22:02.250Z"
   },
   {
    "duration": 7,
    "start_time": "2022-11-20T16:22:05.955Z"
   },
   {
    "duration": 24,
    "start_time": "2022-11-20T16:22:05.966Z"
   },
   {
    "duration": 37,
    "start_time": "2022-11-20T16:22:05.991Z"
   },
   {
    "duration": 21780,
    "start_time": "2022-11-20T16:22:06.030Z"
   },
   {
    "duration": 94,
    "start_time": "2022-11-20T16:22:27.812Z"
   },
   {
    "duration": 6,
    "start_time": "2022-11-20T16:22:27.907Z"
   },
   {
    "duration": 17,
    "start_time": "2022-11-20T16:22:27.915Z"
   },
   {
    "duration": 20,
    "start_time": "2022-11-20T16:22:27.935Z"
   },
   {
    "duration": 21,
    "start_time": "2022-11-20T16:22:27.957Z"
   },
   {
    "duration": 36,
    "start_time": "2022-11-20T16:22:27.981Z"
   },
   {
    "duration": 18,
    "start_time": "2022-11-20T16:22:28.019Z"
   },
   {
    "duration": 15,
    "start_time": "2022-11-20T16:22:28.039Z"
   },
   {
    "duration": 16,
    "start_time": "2022-11-20T16:22:28.056Z"
   },
   {
    "duration": 45,
    "start_time": "2022-11-20T16:22:28.074Z"
   },
   {
    "duration": 10,
    "start_time": "2022-11-20T16:22:28.121Z"
   },
   {
    "duration": 9,
    "start_time": "2022-11-20T16:22:28.133Z"
   },
   {
    "duration": 11,
    "start_time": "2022-11-20T16:22:28.144Z"
   },
   {
    "duration": 12,
    "start_time": "2022-11-20T16:22:28.156Z"
   },
   {
    "duration": 111,
    "start_time": "2022-11-20T16:22:28.170Z"
   },
   {
    "duration": 64,
    "start_time": "2022-11-20T16:22:28.283Z"
   },
   {
    "duration": 4,
    "start_time": "2022-11-20T16:22:28.348Z"
   },
   {
    "duration": 100,
    "start_time": "2022-11-20T16:22:28.354Z"
   },
   {
    "duration": 137,
    "start_time": "2022-11-20T16:22:28.456Z"
   },
   {
    "duration": 52,
    "start_time": "2022-11-20T16:22:28.595Z"
   },
   {
    "duration": 62,
    "start_time": "2022-11-20T16:22:28.648Z"
   },
   {
    "duration": 7,
    "start_time": "2022-11-20T16:22:28.712Z"
   },
   {
    "duration": 12,
    "start_time": "2022-11-20T16:22:28.721Z"
   },
   {
    "duration": 13,
    "start_time": "2022-11-20T16:22:28.734Z"
   },
   {
    "duration": 21,
    "start_time": "2022-11-20T16:22:28.749Z"
   },
   {
    "duration": 3,
    "start_time": "2022-11-20T16:22:28.772Z"
   },
   {
    "duration": 38,
    "start_time": "2022-11-20T16:22:28.776Z"
   },
   {
    "duration": 3,
    "start_time": "2022-11-20T16:22:28.815Z"
   },
   {
    "duration": 7,
    "start_time": "2022-11-20T16:22:28.820Z"
   },
   {
    "duration": 10,
    "start_time": "2022-11-20T16:22:28.828Z"
   },
   {
    "duration": 6,
    "start_time": "2022-11-20T16:22:28.839Z"
   },
   {
    "duration": 8,
    "start_time": "2022-11-20T16:22:28.846Z"
   },
   {
    "duration": 9,
    "start_time": "2022-11-20T16:22:28.855Z"
   },
   {
    "duration": 5,
    "start_time": "2022-11-20T16:22:28.865Z"
   },
   {
    "duration": 12,
    "start_time": "2022-11-20T16:22:28.871Z"
   },
   {
    "duration": 26,
    "start_time": "2022-11-20T16:22:28.884Z"
   },
   {
    "duration": 10,
    "start_time": "2022-11-20T16:22:28.911Z"
   },
   {
    "duration": 26,
    "start_time": "2022-11-20T16:22:28.922Z"
   },
   {
    "duration": 26,
    "start_time": "2022-11-20T16:22:28.949Z"
   },
   {
    "duration": 6,
    "start_time": "2022-11-20T16:22:28.977Z"
   },
   {
    "duration": 94,
    "start_time": "2022-11-20T16:22:28.985Z"
   },
   {
    "duration": 10,
    "start_time": "2022-11-20T16:22:29.081Z"
   },
   {
    "duration": 13,
    "start_time": "2022-11-20T16:22:29.092Z"
   },
   {
    "duration": 13,
    "start_time": "2022-11-20T16:22:29.107Z"
   },
   {
    "duration": 3,
    "start_time": "2022-11-20T16:22:29.122Z"
   },
   {
    "duration": 9,
    "start_time": "2022-11-20T16:22:29.127Z"
   },
   {
    "duration": 7,
    "start_time": "2022-11-20T16:22:29.138Z"
   },
   {
    "duration": 13,
    "start_time": "2022-11-20T16:22:29.146Z"
   },
   {
    "duration": 2,
    "start_time": "2022-11-20T16:22:29.161Z"
   },
   {
    "duration": 13,
    "start_time": "2022-11-20T16:22:29.164Z"
   },
   {
    "duration": 10,
    "start_time": "2022-11-20T16:22:29.205Z"
   },
   {
    "duration": 10,
    "start_time": "2022-11-20T16:22:29.220Z"
   },
   {
    "duration": 11,
    "start_time": "2022-11-20T16:22:29.232Z"
   },
   {
    "duration": 1962,
    "start_time": "2022-11-20T16:22:29.244Z"
   },
   {
    "duration": 1605,
    "start_time": "2022-11-20T16:22:31.209Z"
   },
   {
    "duration": 56,
    "start_time": "2022-11-20T16:22:32.816Z"
   },
   {
    "duration": 2849,
    "start_time": "2022-11-20T16:22:32.874Z"
   },
   {
    "duration": 65982,
    "start_time": "2022-11-20T16:22:35.724Z"
   },
   {
    "duration": 27678,
    "start_time": "2022-11-20T16:23:41.708Z"
   },
   {
    "duration": 1385555,
    "start_time": "2022-11-20T16:24:09.387Z"
   },
   {
    "duration": 5550,
    "start_time": "2022-11-20T16:47:14.944Z"
   },
   {
    "duration": 2454,
    "start_time": "2022-11-20T16:47:20.496Z"
   },
   {
    "duration": 15,
    "start_time": "2022-11-20T16:47:22.951Z"
   },
   {
    "duration": 11,
    "start_time": "2022-11-20T16:47:22.967Z"
   },
   {
    "duration": 4,
    "start_time": "2022-11-20T16:47:22.979Z"
   },
   {
    "duration": 2035,
    "start_time": "2022-11-21T18:54:06.266Z"
   },
   {
    "duration": 1711,
    "start_time": "2022-11-21T19:07:01.515Z"
   },
   {
    "duration": 3,
    "start_time": "2022-11-21T19:07:03.229Z"
   },
   {
    "duration": 20,
    "start_time": "2022-11-21T19:07:03.233Z"
   },
   {
    "duration": 5321,
    "start_time": "2022-11-21T19:07:03.255Z"
   },
   {
    "duration": 3,
    "start_time": "2022-11-21T19:07:08.578Z"
   },
   {
    "duration": 19223,
    "start_time": "2022-11-21T19:07:08.583Z"
   },
   {
    "duration": 14,
    "start_time": "2022-11-21T19:07:27.808Z"
   },
   {
    "duration": 10,
    "start_time": "2022-11-21T19:07:27.824Z"
   },
   {
    "duration": 12494,
    "start_time": "2022-11-21T19:07:27.836Z"
   },
   {
    "duration": 9,
    "start_time": "2022-11-21T19:07:40.335Z"
   },
   {
    "duration": 38,
    "start_time": "2022-11-21T19:07:40.347Z"
   },
   {
    "duration": 3214,
    "start_time": "2022-11-21T19:07:40.387Z"
   },
   {
    "duration": 8,
    "start_time": "2022-11-21T19:07:43.604Z"
   },
   {
    "duration": 25,
    "start_time": "2022-11-21T19:07:43.613Z"
   },
   {
    "duration": 3944,
    "start_time": "2022-11-21T19:07:43.640Z"
   },
   {
    "duration": 7,
    "start_time": "2022-11-21T19:07:47.586Z"
   },
   {
    "duration": 3227,
    "start_time": "2022-11-21T19:07:47.595Z"
   },
   {
    "duration": 24,
    "start_time": "2022-11-21T19:07:50.824Z"
   },
   {
    "duration": 12,
    "start_time": "2022-11-21T19:07:50.849Z"
   },
   {
    "duration": 14,
    "start_time": "2022-11-21T19:07:50.879Z"
   },
   {
    "duration": 293,
    "start_time": "2022-11-21T19:07:50.894Z"
   },
   {
    "duration": 11,
    "start_time": "2022-11-21T19:07:51.189Z"
   },
   {
    "duration": 260,
    "start_time": "2022-11-21T19:07:51.203Z"
   },
   {
    "duration": 14,
    "start_time": "2022-11-21T19:07:51.465Z"
   },
   {
    "duration": 13,
    "start_time": "2022-11-21T19:07:51.481Z"
   },
   {
    "duration": 3974,
    "start_time": "2022-11-21T19:07:51.497Z"
   },
   {
    "duration": 9,
    "start_time": "2022-11-21T19:07:55.474Z"
   },
   {
    "duration": 4,
    "start_time": "2022-11-21T19:07:55.489Z"
   },
   {
    "duration": 8,
    "start_time": "2022-11-21T19:07:55.495Z"
   },
   {
    "duration": 21487,
    "start_time": "2022-11-21T19:07:55.505Z"
   },
   {
    "duration": 114,
    "start_time": "2022-11-21T19:08:16.994Z"
   },
   {
    "duration": 93,
    "start_time": "2022-11-21T19:08:17.110Z"
   },
   {
    "duration": 76,
    "start_time": "2022-11-21T19:08:17.205Z"
   },
   {
    "duration": 39,
    "start_time": "2022-11-21T19:08:17.283Z"
   },
   {
    "duration": 38,
    "start_time": "2022-11-21T19:08:17.324Z"
   },
   {
    "duration": 17,
    "start_time": "2022-11-21T19:08:17.364Z"
   },
   {
    "duration": 31,
    "start_time": "2022-11-21T19:08:17.384Z"
   },
   {
    "duration": 27,
    "start_time": "2022-11-21T19:08:17.417Z"
   },
   {
    "duration": 26,
    "start_time": "2022-11-21T19:08:17.446Z"
   },
   {
    "duration": 36,
    "start_time": "2022-11-21T19:08:17.476Z"
   },
   {
    "duration": 17,
    "start_time": "2022-11-21T19:08:17.514Z"
   },
   {
    "duration": 14,
    "start_time": "2022-11-21T19:08:17.532Z"
   },
   {
    "duration": 12,
    "start_time": "2022-11-21T19:08:17.549Z"
   },
   {
    "duration": 22,
    "start_time": "2022-11-21T19:08:17.563Z"
   },
   {
    "duration": 124,
    "start_time": "2022-11-21T19:08:17.587Z"
   },
   {
    "duration": 77,
    "start_time": "2022-11-21T19:08:17.713Z"
   },
   {
    "duration": 6,
    "start_time": "2022-11-21T19:08:17.792Z"
   },
   {
    "duration": 127,
    "start_time": "2022-11-21T19:08:17.800Z"
   },
   {
    "duration": 162,
    "start_time": "2022-11-21T19:08:17.929Z"
   },
   {
    "duration": 63,
    "start_time": "2022-11-21T19:08:18.093Z"
   },
   {
    "duration": 83,
    "start_time": "2022-11-21T19:08:18.159Z"
   },
   {
    "duration": 21,
    "start_time": "2022-11-21T19:08:18.244Z"
   },
   {
    "duration": 75,
    "start_time": "2022-11-21T19:08:18.267Z"
   },
   {
    "duration": 33,
    "start_time": "2022-11-21T19:08:18.345Z"
   },
   {
    "duration": 42,
    "start_time": "2022-11-21T19:08:18.382Z"
   },
   {
    "duration": 38,
    "start_time": "2022-11-21T19:08:18.426Z"
   },
   {
    "duration": 168,
    "start_time": "2022-11-21T19:08:18.467Z"
   },
   {
    "duration": 160,
    "start_time": "2022-11-21T19:08:18.637Z"
   },
   {
    "duration": 24,
    "start_time": "2022-11-21T19:08:18.799Z"
   },
   {
    "duration": 21,
    "start_time": "2022-11-21T19:08:18.825Z"
   },
   {
    "duration": 22,
    "start_time": "2022-11-21T19:08:18.849Z"
   },
   {
    "duration": 6,
    "start_time": "2022-11-21T19:08:18.873Z"
   },
   {
    "duration": 11,
    "start_time": "2022-11-21T19:08:18.881Z"
   },
   {
    "duration": 65,
    "start_time": "2022-11-21T19:08:18.894Z"
   },
   {
    "duration": 20,
    "start_time": "2022-11-21T19:08:18.961Z"
   },
   {
    "duration": 191,
    "start_time": "2022-11-21T19:08:18.983Z"
   },
   {
    "duration": 35,
    "start_time": "2022-11-21T19:08:19.177Z"
   },
   {
    "duration": 36,
    "start_time": "2022-11-21T19:08:19.214Z"
   },
   {
    "duration": 52,
    "start_time": "2022-11-21T19:08:19.253Z"
   },
   {
    "duration": 11,
    "start_time": "2022-11-21T19:08:19.307Z"
   },
   {
    "duration": 111,
    "start_time": "2022-11-21T19:08:19.320Z"
   },
   {
    "duration": 12,
    "start_time": "2022-11-21T19:08:19.433Z"
   },
   {
    "duration": 17,
    "start_time": "2022-11-21T19:08:19.446Z"
   },
   {
    "duration": 40,
    "start_time": "2022-11-21T19:08:19.465Z"
   },
   {
    "duration": 40,
    "start_time": "2022-11-21T19:08:19.507Z"
   },
   {
    "duration": 29,
    "start_time": "2022-11-21T19:08:19.548Z"
   },
   {
    "duration": 16,
    "start_time": "2022-11-21T19:08:19.579Z"
   },
   {
    "duration": 15,
    "start_time": "2022-11-21T19:08:19.596Z"
   },
   {
    "duration": 3,
    "start_time": "2022-11-21T19:08:19.613Z"
   },
   {
    "duration": 15,
    "start_time": "2022-11-21T19:08:19.617Z"
   },
   {
    "duration": 14,
    "start_time": "2022-11-21T19:08:19.634Z"
   },
   {
    "duration": 16,
    "start_time": "2022-11-21T19:08:19.680Z"
   },
   {
    "duration": 43,
    "start_time": "2022-11-21T19:08:19.697Z"
   },
   {
    "duration": 2039,
    "start_time": "2022-11-21T19:08:19.742Z"
   },
   {
    "duration": 220,
    "start_time": "2022-11-21T19:08:21.783Z"
   },
   {
    "duration": 0,
    "start_time": "2022-11-21T19:08:22.005Z"
   },
   {
    "duration": 0,
    "start_time": "2022-11-21T19:08:22.006Z"
   },
   {
    "duration": 0,
    "start_time": "2022-11-21T19:08:22.008Z"
   },
   {
    "duration": 0,
    "start_time": "2022-11-21T19:08:22.009Z"
   },
   {
    "duration": 14,
    "start_time": "2022-11-21T19:09:12.955Z"
   },
   {
    "duration": 13,
    "start_time": "2022-11-21T19:09:13.630Z"
   },
   {
    "duration": 4,
    "start_time": "2022-11-21T19:09:23.799Z"
   },
   {
    "duration": 17879,
    "start_time": "2022-11-21T19:09:25.508Z"
   },
   {
    "duration": 14,
    "start_time": "2022-11-21T19:10:55.482Z"
   },
   {
    "duration": 14,
    "start_time": "2022-11-21T19:11:19.539Z"
   },
   {
    "duration": 14,
    "start_time": "2022-11-21T19:13:05.266Z"
   },
   {
    "duration": 17487,
    "start_time": "2022-11-21T19:13:12.020Z"
   },
   {
    "duration": 5,
    "start_time": "2022-11-21T19:15:51.675Z"
   },
   {
    "duration": 23,
    "start_time": "2022-11-21T19:15:59.653Z"
   },
   {
    "duration": 5,
    "start_time": "2022-11-21T19:17:00.047Z"
   },
   {
    "duration": 27,
    "start_time": "2022-11-21T19:17:02.016Z"
   },
   {
    "duration": 4,
    "start_time": "2022-11-21T19:17:23.937Z"
   },
   {
    "duration": 20,
    "start_time": "2022-11-21T19:17:25.800Z"
   },
   {
    "duration": 13,
    "start_time": "2022-11-21T19:17:42.625Z"
   },
   {
    "duration": 4,
    "start_time": "2022-11-21T19:17:54.672Z"
   },
   {
    "duration": 5,
    "start_time": "2022-11-21T19:17:57.451Z"
   },
   {
    "duration": 4,
    "start_time": "2022-11-21T19:18:04.595Z"
   },
   {
    "duration": 14,
    "start_time": "2022-11-21T19:18:05.649Z"
   },
   {
    "duration": 3,
    "start_time": "2022-11-21T19:18:37.524Z"
   },
   {
    "duration": 15,
    "start_time": "2022-11-21T19:18:39.116Z"
   },
   {
    "duration": 4,
    "start_time": "2022-11-21T19:20:26.465Z"
   },
   {
    "duration": 17,
    "start_time": "2022-11-21T19:20:27.790Z"
   },
   {
    "duration": 5,
    "start_time": "2022-11-21T19:21:29.030Z"
   },
   {
    "duration": 19,
    "start_time": "2022-11-21T19:21:30.268Z"
   },
   {
    "duration": 4,
    "start_time": "2022-11-21T19:21:41.602Z"
   },
   {
    "duration": 1170542,
    "start_time": "2022-11-21T19:21:41.846Z"
   },
   {
    "duration": 7,
    "start_time": "2022-11-21T19:41:30.929Z"
   },
   {
    "duration": 421538,
    "start_time": "2022-11-21T19:41:31.876Z"
   },
   {
    "duration": 4,
    "start_time": "2022-11-21T19:48:46.455Z"
   },
   {
    "duration": 106724,
    "start_time": "2022-11-21T19:48:47.656Z"
   },
   {
    "duration": 30,
    "start_time": "2022-11-21T19:52:06.600Z"
   },
   {
    "duration": 42,
    "start_time": "2022-11-21T19:52:38.119Z"
   },
   {
    "duration": 4,
    "start_time": "2022-11-21T19:53:09.633Z"
   },
   {
    "duration": 4,
    "start_time": "2022-11-21T19:53:22.934Z"
   },
   {
    "duration": 101128,
    "start_time": "2022-11-21T19:53:23.386Z"
   },
   {
    "duration": 3,
    "start_time": "2022-11-21T19:57:40.974Z"
   },
   {
    "duration": 50,
    "start_time": "2022-11-21T19:59:47.979Z"
   },
   {
    "duration": 27,
    "start_time": "2022-11-21T19:59:57.146Z"
   },
   {
    "duration": 18,
    "start_time": "2022-11-21T20:00:19.578Z"
   },
   {
    "duration": 6,
    "start_time": "2022-11-21T20:00:50.723Z"
   },
   {
    "duration": 21,
    "start_time": "2022-11-21T20:01:38.469Z"
   },
   {
    "duration": 15,
    "start_time": "2022-11-21T20:01:56.613Z"
   },
   {
    "duration": 194,
    "start_time": "2022-11-21T20:02:55.769Z"
   },
   {
    "duration": 8,
    "start_time": "2022-11-23T06:31:05.502Z"
   },
   {
    "duration": 44,
    "start_time": "2022-11-23T06:31:30.317Z"
   },
   {
    "duration": 8,
    "start_time": "2022-11-23T06:31:34.045Z"
   },
   {
    "duration": 1675,
    "start_time": "2022-11-23T06:31:42.763Z"
   },
   {
    "duration": 3,
    "start_time": "2022-11-23T06:32:07.854Z"
   },
   {
    "duration": 3,
    "start_time": "2022-11-23T06:32:09.165Z"
   },
   {
    "duration": 5200,
    "start_time": "2022-11-23T06:32:13.789Z"
   },
   {
    "duration": 3,
    "start_time": "2022-11-23T06:32:19.774Z"
   },
   {
    "duration": 4,
    "start_time": "2022-11-23T06:32:25.741Z"
   },
   {
    "duration": 20304,
    "start_time": "2022-11-23T06:32:26.518Z"
   },
   {
    "duration": 4,
    "start_time": "2022-11-23T06:34:57.789Z"
   },
   {
    "duration": 3,
    "start_time": "2022-11-23T06:37:27.836Z"
   },
   {
    "duration": 17064,
    "start_time": "2022-11-23T06:38:18.157Z"
   },
   {
    "duration": 12422,
    "start_time": "2022-11-23T06:41:08.004Z"
   },
   {
    "duration": 3488,
    "start_time": "2022-11-23T06:41:41.061Z"
   },
   {
    "duration": 3783,
    "start_time": "2022-11-23T06:42:03.725Z"
   },
   {
    "duration": 4,
    "start_time": "2022-11-23T06:43:13.563Z"
   },
   {
    "duration": 3,
    "start_time": "2022-11-23T06:43:15.133Z"
   },
   {
    "duration": 4,
    "start_time": "2022-11-23T06:43:16.227Z"
   },
   {
    "duration": 3,
    "start_time": "2022-11-23T06:43:17.573Z"
   },
   {
    "duration": 4,
    "start_time": "2022-11-23T06:43:20.067Z"
   },
   {
    "duration": 17900,
    "start_time": "2022-11-23T06:43:21.844Z"
   },
   {
    "duration": 10922,
    "start_time": "2022-11-23T06:43:41.596Z"
   },
   {
    "duration": 3414,
    "start_time": "2022-11-23T06:43:53.492Z"
   },
   {
    "duration": 3471,
    "start_time": "2022-11-23T06:43:58.005Z"
   },
   {
    "duration": 4,
    "start_time": "2022-11-23T06:51:26.116Z"
   },
   {
    "duration": 85,
    "start_time": "2022-11-23T06:52:08.259Z"
   },
   {
    "duration": 2902,
    "start_time": "2022-11-23T06:52:28.708Z"
   },
   {
    "duration": 3,
    "start_time": "2022-11-23T06:53:25.276Z"
   },
   {
    "duration": 3054,
    "start_time": "2022-11-23T06:53:25.612Z"
   },
   {
    "duration": 3,
    "start_time": "2022-11-23T06:54:04.213Z"
   },
   {
    "duration": 2942,
    "start_time": "2022-11-23T06:54:04.772Z"
   },
   {
    "duration": 13,
    "start_time": "2022-11-23T06:55:32.163Z"
   },
   {
    "duration": 265,
    "start_time": "2022-11-23T06:55:55.083Z"
   },
   {
    "duration": 11,
    "start_time": "2022-11-23T06:56:09.268Z"
   },
   {
    "duration": 222,
    "start_time": "2022-11-23T06:56:13.555Z"
   },
   {
    "duration": 1620,
    "start_time": "2022-11-23T07:08:47.601Z"
   },
   {
    "duration": 4,
    "start_time": "2022-11-23T07:08:49.223Z"
   },
   {
    "duration": 19,
    "start_time": "2022-11-23T07:08:49.229Z"
   },
   {
    "duration": 5667,
    "start_time": "2022-11-23T07:08:49.252Z"
   },
   {
    "duration": 4,
    "start_time": "2022-11-23T07:08:54.921Z"
   },
   {
    "duration": 18073,
    "start_time": "2022-11-23T07:08:54.930Z"
   },
   {
    "duration": 12022,
    "start_time": "2022-11-23T07:09:13.005Z"
   },
   {
    "duration": 3081,
    "start_time": "2022-11-23T07:09:25.029Z"
   },
   {
    "duration": 3618,
    "start_time": "2022-11-23T07:09:28.112Z"
   },
   {
    "duration": 3,
    "start_time": "2022-11-23T07:09:31.732Z"
   },
   {
    "duration": 2917,
    "start_time": "2022-11-23T07:09:31.737Z"
   },
   {
    "duration": 9,
    "start_time": "2022-11-23T07:09:34.656Z"
   },
   {
    "duration": 289,
    "start_time": "2022-11-23T07:09:34.667Z"
   },
   {
    "duration": 237,
    "start_time": "2022-11-23T07:09:34.958Z"
   },
   {
    "duration": 15,
    "start_time": "2022-11-23T07:09:35.197Z"
   },
   {
    "duration": 3727,
    "start_time": "2022-11-23T07:09:35.214Z"
   },
   {
    "duration": 7,
    "start_time": "2022-11-23T07:09:38.942Z"
   },
   {
    "duration": 5,
    "start_time": "2022-11-23T07:09:38.951Z"
   },
   {
    "duration": 6,
    "start_time": "2022-11-23T07:09:38.958Z"
   },
   {
    "duration": 23021,
    "start_time": "2022-11-23T07:09:38.967Z"
   },
   {
    "duration": 95,
    "start_time": "2022-11-23T07:10:01.990Z"
   },
   {
    "duration": 14,
    "start_time": "2022-11-23T07:10:02.087Z"
   },
   {
    "duration": 56,
    "start_time": "2022-11-23T07:10:02.103Z"
   },
   {
    "duration": 43,
    "start_time": "2022-11-23T07:10:02.161Z"
   },
   {
    "duration": 51,
    "start_time": "2022-11-23T07:10:02.206Z"
   },
   {
    "duration": 30,
    "start_time": "2022-11-23T07:10:02.259Z"
   },
   {
    "duration": 41,
    "start_time": "2022-11-23T07:10:02.291Z"
   },
   {
    "duration": 21,
    "start_time": "2022-11-23T07:10:02.337Z"
   },
   {
    "duration": 63,
    "start_time": "2022-11-23T07:10:02.360Z"
   },
   {
    "duration": 39,
    "start_time": "2022-11-23T07:10:02.425Z"
   },
   {
    "duration": 15,
    "start_time": "2022-11-23T07:10:02.466Z"
   },
   {
    "duration": 18,
    "start_time": "2022-11-23T07:10:02.483Z"
   },
   {
    "duration": 42,
    "start_time": "2022-11-23T07:10:02.503Z"
   },
   {
    "duration": 34,
    "start_time": "2022-11-23T07:10:02.546Z"
   },
   {
    "duration": 118,
    "start_time": "2022-11-23T07:10:02.581Z"
   },
   {
    "duration": 49,
    "start_time": "2022-11-23T07:10:02.701Z"
   },
   {
    "duration": 4,
    "start_time": "2022-11-23T07:10:02.752Z"
   },
   {
    "duration": 124,
    "start_time": "2022-11-23T07:10:02.758Z"
   },
   {
    "duration": 164,
    "start_time": "2022-11-23T07:10:02.883Z"
   },
   {
    "duration": 50,
    "start_time": "2022-11-23T07:10:03.049Z"
   },
   {
    "duration": 69,
    "start_time": "2022-11-23T07:10:03.101Z"
   },
   {
    "duration": 9,
    "start_time": "2022-11-23T07:10:03.172Z"
   },
   {
    "duration": 29,
    "start_time": "2022-11-23T07:10:03.183Z"
   },
   {
    "duration": 26,
    "start_time": "2022-11-23T07:10:03.213Z"
   },
   {
    "duration": 32,
    "start_time": "2022-11-23T07:10:03.241Z"
   },
   {
    "duration": 38,
    "start_time": "2022-11-23T07:10:03.275Z"
   },
   {
    "duration": 52,
    "start_time": "2022-11-23T07:10:03.314Z"
   },
   {
    "duration": 15,
    "start_time": "2022-11-23T07:10:03.368Z"
   },
   {
    "duration": 46,
    "start_time": "2022-11-23T07:10:03.385Z"
   },
   {
    "duration": 16,
    "start_time": "2022-11-23T07:10:03.433Z"
   },
   {
    "duration": 27,
    "start_time": "2022-11-23T07:10:03.450Z"
   },
   {
    "duration": 24,
    "start_time": "2022-11-23T07:10:03.479Z"
   },
   {
    "duration": 32,
    "start_time": "2022-11-23T07:10:03.505Z"
   },
   {
    "duration": 31,
    "start_time": "2022-11-23T07:10:03.539Z"
   },
   {
    "duration": 39,
    "start_time": "2022-11-23T07:10:03.572Z"
   },
   {
    "duration": 32,
    "start_time": "2022-11-23T07:10:03.613Z"
   },
   {
    "duration": 31,
    "start_time": "2022-11-23T07:10:03.647Z"
   },
   {
    "duration": 48,
    "start_time": "2022-11-23T07:10:03.680Z"
   },
   {
    "duration": 81,
    "start_time": "2022-11-23T07:10:03.729Z"
   },
   {
    "duration": 46,
    "start_time": "2022-11-23T07:10:03.812Z"
   },
   {
    "duration": 127,
    "start_time": "2022-11-23T07:10:03.860Z"
   },
   {
    "duration": 11,
    "start_time": "2022-11-23T07:10:03.989Z"
   },
   {
    "duration": 37,
    "start_time": "2022-11-23T07:10:04.001Z"
   },
   {
    "duration": 36,
    "start_time": "2022-11-23T07:10:04.040Z"
   },
   {
    "duration": 28,
    "start_time": "2022-11-23T07:10:04.077Z"
   },
   {
    "duration": 34,
    "start_time": "2022-11-23T07:10:04.107Z"
   },
   {
    "duration": 27,
    "start_time": "2022-11-23T07:10:04.143Z"
   },
   {
    "duration": 26,
    "start_time": "2022-11-23T07:10:04.172Z"
   },
   {
    "duration": 21,
    "start_time": "2022-11-23T07:10:04.200Z"
   },
   {
    "duration": 38,
    "start_time": "2022-11-23T07:10:04.223Z"
   },
   {
    "duration": 35,
    "start_time": "2022-11-23T07:10:04.263Z"
   },
   {
    "duration": 11,
    "start_time": "2022-11-23T07:10:04.300Z"
   },
   {
    "duration": 55,
    "start_time": "2022-11-23T07:10:04.312Z"
   },
   {
    "duration": 2154,
    "start_time": "2022-11-23T07:10:04.370Z"
   },
   {
    "duration": 88,
    "start_time": "2022-11-23T07:10:06.526Z"
   },
   {
    "duration": 119476,
    "start_time": "2022-11-23T07:10:06.616Z"
   },
   {
    "duration": 0,
    "start_time": "2022-11-23T07:12:06.094Z"
   },
   {
    "duration": 0,
    "start_time": "2022-11-23T07:12:06.095Z"
   },
   {
    "duration": 47,
    "start_time": "2022-11-23T07:13:04.151Z"
   },
   {
    "duration": 3,
    "start_time": "2022-11-23T07:17:00.883Z"
   },
   {
    "duration": 576,
    "start_time": "2022-11-23T07:17:01.654Z"
   },
   {
    "duration": 4,
    "start_time": "2022-11-23T07:19:24.880Z"
   },
   {
    "duration": 1321,
    "start_time": "2022-11-23T07:19:25.347Z"
   },
   {
    "duration": 1225,
    "start_time": "2022-11-23T07:19:37.455Z"
   },
   {
    "duration": 1273,
    "start_time": "2022-11-23T07:20:05.998Z"
   },
   {
    "duration": 3,
    "start_time": "2022-11-23T08:23:35.838Z"
   },
   {
    "duration": 683,
    "start_time": "2022-11-23T08:23:36.225Z"
   },
   {
    "duration": 3,
    "start_time": "2022-11-23T08:34:17.014Z"
   },
   {
    "duration": 206,
    "start_time": "2022-11-23T08:34:17.459Z"
   },
   {
    "duration": 43,
    "start_time": "2022-11-23T11:39:54.646Z"
   },
   {
    "duration": 1617,
    "start_time": "2022-11-23T13:35:45.556Z"
   },
   {
    "duration": 4,
    "start_time": "2022-11-23T13:35:47.176Z"
   },
   {
    "duration": 11,
    "start_time": "2022-11-23T13:35:47.185Z"
   },
   {
    "duration": 5768,
    "start_time": "2022-11-23T13:35:47.198Z"
   },
   {
    "duration": 4,
    "start_time": "2022-11-23T13:35:52.967Z"
   },
   {
    "duration": 18185,
    "start_time": "2022-11-23T13:35:52.972Z"
   },
   {
    "duration": 11771,
    "start_time": "2022-11-23T13:36:11.159Z"
   },
   {
    "duration": 3024,
    "start_time": "2022-11-23T13:36:22.931Z"
   },
   {
    "duration": 3560,
    "start_time": "2022-11-23T13:36:25.959Z"
   },
   {
    "duration": 3,
    "start_time": "2022-11-23T13:36:29.521Z"
   },
   {
    "duration": 2793,
    "start_time": "2022-11-23T13:36:29.526Z"
   },
   {
    "duration": 10,
    "start_time": "2022-11-23T13:36:32.321Z"
   },
   {
    "duration": 280,
    "start_time": "2022-11-23T13:36:32.332Z"
   },
   {
    "duration": 234,
    "start_time": "2022-11-23T13:36:32.614Z"
   },
   {
    "duration": 3,
    "start_time": "2022-11-23T13:36:32.849Z"
   },
   {
    "duration": 521,
    "start_time": "2022-11-23T13:36:32.854Z"
   },
   {
    "duration": 4,
    "start_time": "2022-11-23T13:36:33.377Z"
   },
   {
    "duration": 1074,
    "start_time": "2022-11-23T13:36:33.383Z"
   },
   {
    "duration": 3,
    "start_time": "2022-11-23T13:36:34.459Z"
   },
   {
    "duration": 616,
    "start_time": "2022-11-23T13:36:34.463Z"
   },
   {
    "duration": 2,
    "start_time": "2022-11-23T13:36:35.082Z"
   },
   {
    "duration": 199,
    "start_time": "2022-11-23T13:36:35.086Z"
   },
   {
    "duration": 4,
    "start_time": "2022-11-23T13:36:35.287Z"
   },
   {
    "duration": 16,
    "start_time": "2022-11-23T13:36:35.292Z"
   },
   {
    "duration": 26,
    "start_time": "2022-11-23T13:36:35.310Z"
   },
   {
    "duration": 21888,
    "start_time": "2022-11-23T13:36:35.337Z"
   },
   {
    "duration": 158,
    "start_time": "2022-11-23T13:36:57.230Z"
   },
   {
    "duration": 5,
    "start_time": "2022-11-23T13:36:57.389Z"
   },
   {
    "duration": 39,
    "start_time": "2022-11-23T13:36:57.396Z"
   },
   {
    "duration": 26,
    "start_time": "2022-11-23T13:36:57.437Z"
   },
   {
    "duration": 21,
    "start_time": "2022-11-23T13:36:57.465Z"
   },
   {
    "duration": 33,
    "start_time": "2022-11-23T13:36:57.488Z"
   },
   {
    "duration": 28,
    "start_time": "2022-11-23T13:36:57.523Z"
   },
   {
    "duration": 25,
    "start_time": "2022-11-23T13:36:57.553Z"
   },
   {
    "duration": 46,
    "start_time": "2022-11-23T13:36:57.580Z"
   },
   {
    "duration": 30,
    "start_time": "2022-11-23T13:36:57.628Z"
   },
   {
    "duration": 12,
    "start_time": "2022-11-23T13:36:57.660Z"
   },
   {
    "duration": 8,
    "start_time": "2022-11-23T13:36:57.674Z"
   },
   {
    "duration": 32,
    "start_time": "2022-11-23T13:36:57.684Z"
   },
   {
    "duration": 12,
    "start_time": "2022-11-23T13:36:57.718Z"
   },
   {
    "duration": 128,
    "start_time": "2022-11-23T13:36:57.732Z"
   },
   {
    "duration": 99,
    "start_time": "2022-11-23T13:36:57.862Z"
   },
   {
    "duration": 4,
    "start_time": "2022-11-23T13:36:57.963Z"
   },
   {
    "duration": 155,
    "start_time": "2022-11-23T13:36:57.969Z"
   },
   {
    "duration": 198,
    "start_time": "2022-11-23T13:36:58.126Z"
   },
   {
    "duration": 63,
    "start_time": "2022-11-23T13:36:58.326Z"
   },
   {
    "duration": 74,
    "start_time": "2022-11-23T13:36:58.391Z"
   },
   {
    "duration": 10,
    "start_time": "2022-11-23T13:36:58.466Z"
   },
   {
    "duration": 14,
    "start_time": "2022-11-23T13:36:58.478Z"
   },
   {
    "duration": 21,
    "start_time": "2022-11-23T13:36:58.495Z"
   },
   {
    "duration": 22,
    "start_time": "2022-11-23T13:36:58.518Z"
   },
   {
    "duration": 3,
    "start_time": "2022-11-23T13:36:58.542Z"
   },
   {
    "duration": 24,
    "start_time": "2022-11-23T13:36:58.546Z"
   },
   {
    "duration": 14,
    "start_time": "2022-11-23T13:36:58.571Z"
   },
   {
    "duration": 25,
    "start_time": "2022-11-23T13:36:58.587Z"
   },
   {
    "duration": 10,
    "start_time": "2022-11-23T13:36:58.615Z"
   },
   {
    "duration": 4,
    "start_time": "2022-11-23T13:36:58.627Z"
   },
   {
    "duration": 6,
    "start_time": "2022-11-23T13:36:58.633Z"
   },
   {
    "duration": 9,
    "start_time": "2022-11-23T13:36:58.640Z"
   },
   {
    "duration": 5,
    "start_time": "2022-11-23T13:36:58.651Z"
   },
   {
    "duration": 13,
    "start_time": "2022-11-23T13:36:58.658Z"
   },
   {
    "duration": 42,
    "start_time": "2022-11-23T13:36:58.673Z"
   },
   {
    "duration": 8,
    "start_time": "2022-11-23T13:36:58.717Z"
   },
   {
    "duration": 26,
    "start_time": "2022-11-23T13:36:58.727Z"
   },
   {
    "duration": 35,
    "start_time": "2022-11-23T13:36:58.755Z"
   },
   {
    "duration": 21,
    "start_time": "2022-11-23T13:36:58.791Z"
   },
   {
    "duration": 139,
    "start_time": "2022-11-23T13:36:58.814Z"
   },
   {
    "duration": 12,
    "start_time": "2022-11-23T13:36:58.955Z"
   },
   {
    "duration": 5,
    "start_time": "2022-11-23T13:36:58.968Z"
   },
   {
    "duration": 13,
    "start_time": "2022-11-23T13:36:58.975Z"
   },
   {
    "duration": 3,
    "start_time": "2022-11-23T13:36:59.012Z"
   },
   {
    "duration": 8,
    "start_time": "2022-11-23T13:36:59.017Z"
   },
   {
    "duration": 5,
    "start_time": "2022-11-23T13:36:59.027Z"
   },
   {
    "duration": 13,
    "start_time": "2022-11-23T13:36:59.034Z"
   },
   {
    "duration": 3,
    "start_time": "2022-11-23T13:36:59.049Z"
   },
   {
    "duration": 14,
    "start_time": "2022-11-23T13:36:59.053Z"
   },
   {
    "duration": 44,
    "start_time": "2022-11-23T13:36:59.068Z"
   },
   {
    "duration": 12,
    "start_time": "2022-11-23T13:36:59.114Z"
   },
   {
    "duration": 13,
    "start_time": "2022-11-23T13:36:59.127Z"
   },
   {
    "duration": 1773,
    "start_time": "2022-11-23T13:36:59.142Z"
   },
   {
    "duration": 4,
    "start_time": "2022-11-23T13:37:01.012Z"
   },
   {
    "duration": 1964,
    "start_time": "2022-11-23T13:37:01.018Z"
   },
   {
    "duration": 0,
    "start_time": "2022-11-23T13:37:02.984Z"
   },
   {
    "duration": 0,
    "start_time": "2022-11-23T13:37:02.985Z"
   },
   {
    "duration": 52,
    "start_time": "2022-11-23T13:50:40.556Z"
   },
   {
    "duration": 1586,
    "start_time": "2022-11-23T13:52:21.564Z"
   },
   {
    "duration": 3,
    "start_time": "2022-11-23T13:52:23.152Z"
   },
   {
    "duration": 9,
    "start_time": "2022-11-23T13:52:23.156Z"
   },
   {
    "duration": 5558,
    "start_time": "2022-11-23T13:52:23.167Z"
   },
   {
    "duration": 3,
    "start_time": "2022-11-23T13:52:28.726Z"
   },
   {
    "duration": 17945,
    "start_time": "2022-11-23T13:52:28.731Z"
   },
   {
    "duration": 11928,
    "start_time": "2022-11-23T13:52:46.681Z"
   },
   {
    "duration": 3003,
    "start_time": "2022-11-23T13:52:58.610Z"
   },
   {
    "duration": 3598,
    "start_time": "2022-11-23T13:53:01.614Z"
   },
   {
    "duration": 3,
    "start_time": "2022-11-23T13:53:05.216Z"
   },
   {
    "duration": 2779,
    "start_time": "2022-11-23T13:53:05.221Z"
   },
   {
    "duration": 19,
    "start_time": "2022-11-23T13:53:08.002Z"
   },
   {
    "duration": 275,
    "start_time": "2022-11-23T13:53:08.022Z"
   },
   {
    "duration": 229,
    "start_time": "2022-11-23T13:53:08.299Z"
   },
   {
    "duration": 14,
    "start_time": "2022-11-23T13:53:08.529Z"
   },
   {
    "duration": 602,
    "start_time": "2022-11-23T13:53:08.544Z"
   },
   {
    "duration": 3,
    "start_time": "2022-11-23T13:53:09.148Z"
   },
   {
    "duration": 1260,
    "start_time": "2022-11-23T13:53:09.153Z"
   },
   {
    "duration": 4,
    "start_time": "2022-11-23T13:53:10.414Z"
   },
   {
    "duration": 717,
    "start_time": "2022-11-23T13:53:10.419Z"
   },
   {
    "duration": 3,
    "start_time": "2022-11-23T13:53:11.138Z"
   },
   {
    "duration": 235,
    "start_time": "2022-11-23T13:53:11.142Z"
   },
   {
    "duration": 258,
    "start_time": "2022-11-23T13:53:11.379Z"
   },
   {
    "duration": 4,
    "start_time": "2022-11-23T13:53:11.639Z"
   },
   {
    "duration": 8,
    "start_time": "2022-11-23T13:53:11.645Z"
   },
   {
    "duration": 6,
    "start_time": "2022-11-23T13:53:11.655Z"
   },
   {
    "duration": 21615,
    "start_time": "2022-11-23T13:53:11.662Z"
   },
   {
    "duration": 147,
    "start_time": "2022-11-23T13:53:33.282Z"
   },
   {
    "duration": 5,
    "start_time": "2022-11-23T13:53:33.431Z"
   },
   {
    "duration": 28,
    "start_time": "2022-11-23T13:53:33.438Z"
   },
   {
    "duration": 54,
    "start_time": "2022-11-23T13:53:33.468Z"
   },
   {
    "duration": 23,
    "start_time": "2022-11-23T13:53:33.524Z"
   },
   {
    "duration": 16,
    "start_time": "2022-11-23T13:53:33.549Z"
   },
   {
    "duration": 46,
    "start_time": "2022-11-23T13:53:33.567Z"
   },
   {
    "duration": 29,
    "start_time": "2022-11-23T13:53:33.615Z"
   },
   {
    "duration": 25,
    "start_time": "2022-11-23T13:53:33.646Z"
   },
   {
    "duration": 51,
    "start_time": "2022-11-23T13:53:33.673Z"
   },
   {
    "duration": 13,
    "start_time": "2022-11-23T13:53:33.726Z"
   },
   {
    "duration": 10,
    "start_time": "2022-11-23T13:53:33.740Z"
   },
   {
    "duration": 10,
    "start_time": "2022-11-23T13:53:33.751Z"
   },
   {
    "duration": 13,
    "start_time": "2022-11-23T13:53:33.763Z"
   },
   {
    "duration": 143,
    "start_time": "2022-11-23T13:53:33.778Z"
   },
   {
    "duration": 64,
    "start_time": "2022-11-23T13:53:33.923Z"
   },
   {
    "duration": 4,
    "start_time": "2022-11-23T13:53:33.989Z"
   },
   {
    "duration": 145,
    "start_time": "2022-11-23T13:53:34.012Z"
   },
   {
    "duration": 205,
    "start_time": "2022-11-23T13:53:34.159Z"
   },
   {
    "duration": 74,
    "start_time": "2022-11-23T13:53:34.366Z"
   },
   {
    "duration": 78,
    "start_time": "2022-11-23T13:53:34.442Z"
   },
   {
    "duration": 9,
    "start_time": "2022-11-23T13:53:34.521Z"
   },
   {
    "duration": 8,
    "start_time": "2022-11-23T13:53:34.532Z"
   },
   {
    "duration": 8,
    "start_time": "2022-11-23T13:53:34.542Z"
   },
   {
    "duration": 24,
    "start_time": "2022-11-23T13:53:34.551Z"
   },
   {
    "duration": 3,
    "start_time": "2022-11-23T13:53:34.577Z"
   },
   {
    "duration": 49,
    "start_time": "2022-11-23T13:53:34.581Z"
   },
   {
    "duration": 5,
    "start_time": "2022-11-23T13:53:34.631Z"
   },
   {
    "duration": 13,
    "start_time": "2022-11-23T13:53:34.638Z"
   },
   {
    "duration": 12,
    "start_time": "2022-11-23T13:53:34.653Z"
   },
   {
    "duration": 5,
    "start_time": "2022-11-23T13:53:34.667Z"
   },
   {
    "duration": 7,
    "start_time": "2022-11-23T13:53:34.674Z"
   },
   {
    "duration": 29,
    "start_time": "2022-11-23T13:53:34.683Z"
   },
   {
    "duration": 4,
    "start_time": "2022-11-23T13:53:34.714Z"
   },
   {
    "duration": 13,
    "start_time": "2022-11-23T13:53:34.720Z"
   },
   {
    "duration": 25,
    "start_time": "2022-11-23T13:53:34.735Z"
   },
   {
    "duration": 8,
    "start_time": "2022-11-23T13:53:34.762Z"
   },
   {
    "duration": 24,
    "start_time": "2022-11-23T13:53:34.772Z"
   },
   {
    "duration": 47,
    "start_time": "2022-11-23T13:53:34.798Z"
   },
   {
    "duration": 6,
    "start_time": "2022-11-23T13:53:34.847Z"
   },
   {
    "duration": 147,
    "start_time": "2022-11-23T13:53:34.856Z"
   },
   {
    "duration": 15,
    "start_time": "2022-11-23T13:53:35.005Z"
   },
   {
    "duration": 4,
    "start_time": "2022-11-23T13:53:35.022Z"
   },
   {
    "duration": 14,
    "start_time": "2022-11-23T13:53:35.028Z"
   },
   {
    "duration": 3,
    "start_time": "2022-11-23T13:53:35.044Z"
   },
   {
    "duration": 13,
    "start_time": "2022-11-23T13:53:35.048Z"
   },
   {
    "duration": 7,
    "start_time": "2022-11-23T13:53:35.063Z"
   },
   {
    "duration": 15,
    "start_time": "2022-11-23T13:53:35.071Z"
   },
   {
    "duration": 3,
    "start_time": "2022-11-23T13:53:35.112Z"
   },
   {
    "duration": 12,
    "start_time": "2022-11-23T13:53:35.117Z"
   },
   {
    "duration": 15,
    "start_time": "2022-11-23T13:53:35.131Z"
   },
   {
    "duration": 13,
    "start_time": "2022-11-23T13:53:35.147Z"
   },
   {
    "duration": 12,
    "start_time": "2022-11-23T13:53:35.162Z"
   },
   {
    "duration": 1846,
    "start_time": "2022-11-23T13:53:35.176Z"
   },
   {
    "duration": 94,
    "start_time": "2022-11-23T13:53:37.119Z"
   },
   {
    "duration": 1936,
    "start_time": "2022-11-23T13:53:37.215Z"
   },
   {
    "duration": 0,
    "start_time": "2022-11-23T13:53:39.153Z"
   },
   {
    "duration": 0,
    "start_time": "2022-11-23T13:53:39.155Z"
   },
   {
    "duration": 8617,
    "start_time": "2022-11-23T13:53:47.504Z"
   },
   {
    "duration": 254,
    "start_time": "2022-11-23T13:54:13.645Z"
   },
   {
    "duration": 261,
    "start_time": "2022-11-23T13:57:45.426Z"
   },
   {
    "duration": 3,
    "start_time": "2022-11-23T13:59:18.565Z"
   },
   {
    "duration": 22703,
    "start_time": "2022-11-23T13:59:24.620Z"
   },
   {
    "duration": 17,
    "start_time": "2022-11-23T14:21:57.343Z"
   },
   {
    "duration": 1555,
    "start_time": "2022-11-23T14:22:49.955Z"
   },
   {
    "duration": 3,
    "start_time": "2022-11-23T14:22:51.512Z"
   },
   {
    "duration": 14,
    "start_time": "2022-11-23T14:22:51.516Z"
   },
   {
    "duration": 5983,
    "start_time": "2022-11-23T14:22:51.533Z"
   },
   {
    "duration": 4,
    "start_time": "2022-11-23T14:22:57.518Z"
   },
   {
    "duration": 17700,
    "start_time": "2022-11-23T14:22:57.524Z"
   },
   {
    "duration": 12058,
    "start_time": "2022-11-23T14:23:15.226Z"
   },
   {
    "duration": 3009,
    "start_time": "2022-11-23T14:23:27.286Z"
   },
   {
    "duration": 3574,
    "start_time": "2022-11-23T14:23:30.297Z"
   },
   {
    "duration": 3,
    "start_time": "2022-11-23T14:23:33.874Z"
   },
   {
    "duration": 2823,
    "start_time": "2022-11-23T14:23:33.879Z"
   },
   {
    "duration": 12,
    "start_time": "2022-11-23T14:23:36.711Z"
   },
   {
    "duration": 268,
    "start_time": "2022-11-23T14:23:36.725Z"
   },
   {
    "duration": 230,
    "start_time": "2022-11-23T14:23:36.995Z"
   },
   {
    "duration": 3,
    "start_time": "2022-11-23T14:23:37.226Z"
   },
   {
    "duration": 488,
    "start_time": "2022-11-23T14:23:37.230Z"
   },
   {
    "duration": 4,
    "start_time": "2022-11-23T14:23:37.720Z"
   },
   {
    "duration": 1096,
    "start_time": "2022-11-23T14:23:37.726Z"
   },
   {
    "duration": 4,
    "start_time": "2022-11-23T14:23:38.825Z"
   },
   {
    "duration": 618,
    "start_time": "2022-11-23T14:23:38.831Z"
   },
   {
    "duration": 3,
    "start_time": "2022-11-23T14:23:39.451Z"
   },
   {
    "duration": 207,
    "start_time": "2022-11-23T14:23:39.456Z"
   },
   {
    "duration": 5583,
    "start_time": "2022-11-23T14:23:39.665Z"
   },
   {
    "duration": 3,
    "start_time": "2022-11-23T14:23:45.249Z"
   },
   {
    "duration": 22386,
    "start_time": "2022-11-23T14:23:45.254Z"
   },
   {
    "duration": 147,
    "start_time": "2022-11-23T14:24:07.642Z"
   },
   {
    "duration": 5,
    "start_time": "2022-11-23T14:24:07.791Z"
   },
   {
    "duration": 30,
    "start_time": "2022-11-23T14:24:07.816Z"
   },
   {
    "duration": 32,
    "start_time": "2022-11-23T14:24:07.848Z"
   },
   {
    "duration": 40,
    "start_time": "2022-11-23T14:24:07.882Z"
   },
   {
    "duration": 19,
    "start_time": "2022-11-23T14:24:07.924Z"
   },
   {
    "duration": 24,
    "start_time": "2022-11-23T14:24:07.945Z"
   },
   {
    "duration": 50,
    "start_time": "2022-11-23T14:24:07.971Z"
   },
   {
    "duration": 25,
    "start_time": "2022-11-23T14:24:08.023Z"
   },
   {
    "duration": 34,
    "start_time": "2022-11-23T14:24:08.050Z"
   },
   {
    "duration": 32,
    "start_time": "2022-11-23T14:24:08.086Z"
   },
   {
    "duration": 11,
    "start_time": "2022-11-23T14:24:08.120Z"
   },
   {
    "duration": 10,
    "start_time": "2022-11-23T14:24:08.133Z"
   },
   {
    "duration": 12,
    "start_time": "2022-11-23T14:24:08.144Z"
   },
   {
    "duration": 151,
    "start_time": "2022-11-23T14:24:08.157Z"
   },
   {
    "duration": 62,
    "start_time": "2022-11-23T14:24:08.310Z"
   },
   {
    "duration": 4,
    "start_time": "2022-11-23T14:24:08.375Z"
   },
   {
    "duration": 178,
    "start_time": "2022-11-23T14:24:08.381Z"
   },
   {
    "duration": 202,
    "start_time": "2022-11-23T14:24:08.560Z"
   },
   {
    "duration": 81,
    "start_time": "2022-11-23T14:24:08.764Z"
   },
   {
    "duration": 89,
    "start_time": "2022-11-23T14:24:08.847Z"
   },
   {
    "duration": 9,
    "start_time": "2022-11-23T14:24:08.938Z"
   },
   {
    "duration": 8,
    "start_time": "2022-11-23T14:24:08.949Z"
   },
   {
    "duration": 8,
    "start_time": "2022-11-23T14:24:08.959Z"
   },
   {
    "duration": 55,
    "start_time": "2022-11-23T14:24:08.969Z"
   },
   {
    "duration": 26,
    "start_time": "2022-11-23T14:24:09.026Z"
   },
   {
    "duration": 32,
    "start_time": "2022-11-23T14:24:09.054Z"
   },
   {
    "duration": 41,
    "start_time": "2022-11-23T14:24:09.088Z"
   },
   {
    "duration": 31,
    "start_time": "2022-11-23T14:24:09.132Z"
   },
   {
    "duration": 5,
    "start_time": "2022-11-23T14:24:09.165Z"
   },
   {
    "duration": 151,
    "start_time": "2022-11-23T14:24:09.171Z"
   },
   {
    "duration": 0,
    "start_time": "2022-11-23T14:24:09.324Z"
   },
   {
    "duration": 0,
    "start_time": "2022-11-23T14:24:09.326Z"
   },
   {
    "duration": 0,
    "start_time": "2022-11-23T14:24:09.327Z"
   },
   {
    "duration": 0,
    "start_time": "2022-11-23T14:24:09.328Z"
   },
   {
    "duration": 0,
    "start_time": "2022-11-23T14:24:09.329Z"
   },
   {
    "duration": 0,
    "start_time": "2022-11-23T14:24:09.331Z"
   },
   {
    "duration": 0,
    "start_time": "2022-11-23T14:24:09.332Z"
   },
   {
    "duration": 0,
    "start_time": "2022-11-23T14:24:09.333Z"
   },
   {
    "duration": 0,
    "start_time": "2022-11-23T14:24:09.334Z"
   },
   {
    "duration": 0,
    "start_time": "2022-11-23T14:24:09.335Z"
   },
   {
    "duration": 0,
    "start_time": "2022-11-23T14:24:09.337Z"
   },
   {
    "duration": 0,
    "start_time": "2022-11-23T14:24:09.339Z"
   },
   {
    "duration": 0,
    "start_time": "2022-11-23T14:24:09.340Z"
   },
   {
    "duration": 0,
    "start_time": "2022-11-23T14:24:09.341Z"
   },
   {
    "duration": 0,
    "start_time": "2022-11-23T14:24:09.343Z"
   },
   {
    "duration": 0,
    "start_time": "2022-11-23T14:24:09.344Z"
   },
   {
    "duration": 0,
    "start_time": "2022-11-23T14:24:09.345Z"
   },
   {
    "duration": 11,
    "start_time": "2022-11-23T15:10:50.774Z"
   },
   {
    "duration": 20,
    "start_time": "2022-11-23T15:13:06.209Z"
   },
   {
    "duration": 4,
    "start_time": "2022-11-23T15:13:09.547Z"
   },
   {
    "duration": 11,
    "start_time": "2022-11-23T15:13:10.240Z"
   },
   {
    "duration": 58,
    "start_time": "2022-11-23T15:15:25.337Z"
   },
   {
    "duration": 11,
    "start_time": "2022-11-23T15:15:26.280Z"
   },
   {
    "duration": 2,
    "start_time": "2022-11-23T15:15:43.599Z"
   },
   {
    "duration": 60,
    "start_time": "2022-11-23T15:15:44.135Z"
   },
   {
    "duration": 101,
    "start_time": "2022-11-23T15:15:50.593Z"
   },
   {
    "duration": 14,
    "start_time": "2022-11-23T15:18:30.658Z"
   },
   {
    "duration": 20,
    "start_time": "2022-11-23T15:18:42.534Z"
   },
   {
    "duration": 11,
    "start_time": "2022-11-23T15:18:53.591Z"
   },
   {
    "duration": 101,
    "start_time": "2022-11-23T15:19:55.147Z"
   },
   {
    "duration": 10,
    "start_time": "2022-11-23T15:21:42.468Z"
   },
   {
    "duration": 4,
    "start_time": "2022-11-23T15:22:00.573Z"
   },
   {
    "duration": 11,
    "start_time": "2022-11-23T15:22:13.120Z"
   },
   {
    "duration": 5,
    "start_time": "2022-11-23T15:24:17.365Z"
   },
   {
    "duration": 647,
    "start_time": "2022-11-23T15:25:25.714Z"
   },
   {
    "duration": 9,
    "start_time": "2022-11-23T15:28:23.110Z"
   },
   {
    "duration": 6,
    "start_time": "2022-11-23T15:28:26.512Z"
   },
   {
    "duration": 4,
    "start_time": "2022-11-23T15:28:41.059Z"
   },
   {
    "duration": 1605,
    "start_time": "2022-11-23T15:29:41.924Z"
   },
   {
    "duration": 2,
    "start_time": "2022-11-23T15:29:43.531Z"
   },
   {
    "duration": 11,
    "start_time": "2022-11-23T15:29:43.535Z"
   },
   {
    "duration": 5314,
    "start_time": "2022-11-23T15:29:43.547Z"
   },
   {
    "duration": 3,
    "start_time": "2022-11-23T15:29:48.863Z"
   },
   {
    "duration": 17849,
    "start_time": "2022-11-23T15:29:48.868Z"
   },
   {
    "duration": 11748,
    "start_time": "2022-11-23T15:30:06.719Z"
   },
   {
    "duration": 3084,
    "start_time": "2022-11-23T15:30:18.468Z"
   },
   {
    "duration": 3713,
    "start_time": "2022-11-23T15:30:21.554Z"
   },
   {
    "duration": 4,
    "start_time": "2022-11-23T15:30:25.269Z"
   },
   {
    "duration": 2828,
    "start_time": "2022-11-23T15:30:25.274Z"
   },
   {
    "duration": 16,
    "start_time": "2022-11-23T15:30:28.104Z"
   },
   {
    "duration": 272,
    "start_time": "2022-11-23T15:30:28.121Z"
   },
   {
    "duration": 234,
    "start_time": "2022-11-23T15:30:28.396Z"
   },
   {
    "duration": 3,
    "start_time": "2022-11-23T15:30:28.632Z"
   },
   {
    "duration": 580,
    "start_time": "2022-11-23T15:30:28.636Z"
   },
   {
    "duration": 4,
    "start_time": "2022-11-23T15:30:29.218Z"
   },
   {
    "duration": 1544,
    "start_time": "2022-11-23T15:30:29.225Z"
   },
   {
    "duration": 3,
    "start_time": "2022-11-23T15:30:30.771Z"
   },
   {
    "duration": 717,
    "start_time": "2022-11-23T15:30:30.775Z"
   },
   {
    "duration": 3,
    "start_time": "2022-11-23T15:30:31.494Z"
   },
   {
    "duration": 208,
    "start_time": "2022-11-23T15:30:31.499Z"
   },
   {
    "duration": 6122,
    "start_time": "2022-11-23T15:30:31.709Z"
   },
   {
    "duration": 4,
    "start_time": "2022-11-23T15:30:37.832Z"
   },
   {
    "duration": 21653,
    "start_time": "2022-11-23T15:30:37.837Z"
   },
   {
    "duration": 148,
    "start_time": "2022-11-23T15:30:59.493Z"
   },
   {
    "duration": 6,
    "start_time": "2022-11-23T15:30:59.643Z"
   },
   {
    "duration": 30,
    "start_time": "2022-11-23T15:30:59.651Z"
   },
   {
    "duration": 55,
    "start_time": "2022-11-23T15:30:59.683Z"
   },
   {
    "duration": 28,
    "start_time": "2022-11-23T15:30:59.740Z"
   },
   {
    "duration": 21,
    "start_time": "2022-11-23T15:30:59.769Z"
   },
   {
    "duration": 27,
    "start_time": "2022-11-23T15:30:59.813Z"
   },
   {
    "duration": 31,
    "start_time": "2022-11-23T15:30:59.842Z"
   },
   {
    "duration": 39,
    "start_time": "2022-11-23T15:30:59.875Z"
   },
   {
    "duration": 31,
    "start_time": "2022-11-23T15:30:59.916Z"
   },
   {
    "duration": 14,
    "start_time": "2022-11-23T15:30:59.948Z"
   },
   {
    "duration": 12,
    "start_time": "2022-11-23T15:30:59.963Z"
   },
   {
    "duration": 9,
    "start_time": "2022-11-23T15:30:59.977Z"
   },
   {
    "duration": 33,
    "start_time": "2022-11-23T15:30:59.988Z"
   },
   {
    "duration": 131,
    "start_time": "2022-11-23T15:31:00.023Z"
   },
   {
    "duration": 69,
    "start_time": "2022-11-23T15:31:00.158Z"
   },
   {
    "duration": 4,
    "start_time": "2022-11-23T15:31:00.229Z"
   },
   {
    "duration": 155,
    "start_time": "2022-11-23T15:31:00.235Z"
   },
   {
    "duration": 214,
    "start_time": "2022-11-23T15:31:00.392Z"
   },
   {
    "duration": 74,
    "start_time": "2022-11-23T15:31:00.608Z"
   },
   {
    "duration": 79,
    "start_time": "2022-11-23T15:31:00.685Z"
   },
   {
    "duration": 9,
    "start_time": "2022-11-23T15:31:00.765Z"
   },
   {
    "duration": 32,
    "start_time": "2022-11-23T15:31:00.775Z"
   },
   {
    "duration": 37,
    "start_time": "2022-11-23T15:31:00.808Z"
   },
   {
    "duration": 34,
    "start_time": "2022-11-23T15:31:00.846Z"
   },
   {
    "duration": 47,
    "start_time": "2022-11-23T15:31:00.881Z"
   },
   {
    "duration": 32,
    "start_time": "2022-11-23T15:31:00.930Z"
   },
   {
    "duration": 36,
    "start_time": "2022-11-23T15:31:00.964Z"
   },
   {
    "duration": 39,
    "start_time": "2022-11-23T15:31:01.002Z"
   },
   {
    "duration": 23,
    "start_time": "2022-11-23T15:31:01.043Z"
   },
   {
    "duration": 762,
    "start_time": "2022-11-23T15:31:01.068Z"
   },
   {
    "duration": 66,
    "start_time": "2022-11-23T15:31:01.832Z"
   },
   {
    "duration": 3,
    "start_time": "2022-11-23T15:31:01.900Z"
   },
   {
    "duration": 67,
    "start_time": "2022-11-23T15:31:01.913Z"
   },
   {
    "duration": 230,
    "start_time": "2022-11-23T15:31:01.982Z"
   },
   {
    "duration": 0,
    "start_time": "2022-11-23T15:31:02.214Z"
   },
   {
    "duration": 0,
    "start_time": "2022-11-23T15:31:02.215Z"
   },
   {
    "duration": 0,
    "start_time": "2022-11-23T15:31:02.216Z"
   },
   {
    "duration": 0,
    "start_time": "2022-11-23T15:31:02.217Z"
   },
   {
    "duration": 0,
    "start_time": "2022-11-23T15:31:02.219Z"
   },
   {
    "duration": 0,
    "start_time": "2022-11-23T15:31:02.221Z"
   },
   {
    "duration": 0,
    "start_time": "2022-11-23T15:31:02.222Z"
   },
   {
    "duration": 0,
    "start_time": "2022-11-23T15:31:02.223Z"
   },
   {
    "duration": 0,
    "start_time": "2022-11-23T15:31:02.224Z"
   },
   {
    "duration": 0,
    "start_time": "2022-11-23T15:31:02.225Z"
   },
   {
    "duration": 0,
    "start_time": "2022-11-23T15:31:02.226Z"
   },
   {
    "duration": 0,
    "start_time": "2022-11-23T15:31:02.227Z"
   },
   {
    "duration": 0,
    "start_time": "2022-11-23T15:31:02.229Z"
   },
   {
    "duration": 0,
    "start_time": "2022-11-23T15:31:02.230Z"
   },
   {
    "duration": 0,
    "start_time": "2022-11-23T15:31:02.231Z"
   },
   {
    "duration": 0,
    "start_time": "2022-11-23T15:31:02.232Z"
   },
   {
    "duration": 0,
    "start_time": "2022-11-23T15:31:02.233Z"
   },
   {
    "duration": 0,
    "start_time": "2022-11-23T15:31:02.234Z"
   },
   {
    "duration": 28,
    "start_time": "2022-11-23T15:33:14.046Z"
   },
   {
    "duration": 30,
    "start_time": "2022-11-23T15:33:56.855Z"
   },
   {
    "duration": 2,
    "start_time": "2022-11-23T15:33:57.942Z"
   },
   {
    "duration": 22,
    "start_time": "2022-11-23T15:34:00.583Z"
   },
   {
    "duration": 27,
    "start_time": "2022-11-23T15:34:01.412Z"
   },
   {
    "duration": 5,
    "start_time": "2022-11-23T15:34:08.992Z"
   },
   {
    "duration": 27,
    "start_time": "2022-11-23T15:34:19.727Z"
   },
   {
    "duration": 16,
    "start_time": "2022-11-23T15:35:57.666Z"
   },
   {
    "duration": 24,
    "start_time": "2022-11-23T15:36:28.437Z"
   },
   {
    "duration": 16,
    "start_time": "2022-11-23T15:39:39.380Z"
   },
   {
    "duration": 12,
    "start_time": "2022-11-23T15:40:43.575Z"
   },
   {
    "duration": 18,
    "start_time": "2022-11-23T15:40:49.072Z"
   },
   {
    "duration": 18,
    "start_time": "2022-11-23T15:41:07.187Z"
   },
   {
    "duration": 22,
    "start_time": "2022-11-23T15:41:25.775Z"
   },
   {
    "duration": 17,
    "start_time": "2022-11-23T15:41:43.189Z"
   },
   {
    "duration": 29,
    "start_time": "2022-11-23T15:42:08.542Z"
   },
   {
    "duration": 93411,
    "start_time": "2022-11-23T15:42:14.336Z"
   },
   {
    "duration": 52,
    "start_time": "2022-11-23T15:47:54.211Z"
   },
   {
    "duration": 70,
    "start_time": "2022-11-23T15:48:10.218Z"
   },
   {
    "duration": 377437,
    "start_time": "2022-11-23T15:48:14.409Z"
   },
   {
    "duration": 20511,
    "start_time": "2022-11-23T15:57:23.601Z"
   },
   {
    "duration": 20,
    "start_time": "2022-11-23T15:57:52.865Z"
   },
   {
    "duration": 32,
    "start_time": "2022-11-23T15:57:56.326Z"
   },
   {
    "duration": 24,
    "start_time": "2022-11-23T15:57:57.022Z"
   },
   {
    "duration": 3604,
    "start_time": "2022-11-23T15:57:59.112Z"
   },
   {
    "duration": 3669,
    "start_time": "2022-11-23T16:02:44.044Z"
   },
   {
    "duration": 8868,
    "start_time": "2022-11-23T16:09:18.972Z"
   },
   {
    "duration": 18992,
    "start_time": "2022-11-23T16:09:58.926Z"
   },
   {
    "duration": 29981,
    "start_time": "2022-11-23T16:11:02.835Z"
   },
   {
    "duration": 4534,
    "start_time": "2022-11-23T16:12:38.986Z"
   },
   {
    "duration": 31,
    "start_time": "2022-11-23T16:13:10.477Z"
   },
   {
    "duration": 20,
    "start_time": "2022-11-23T16:13:19.888Z"
   },
   {
    "duration": 23,
    "start_time": "2022-11-23T16:13:42.805Z"
   },
   {
    "duration": 56,
    "start_time": "2022-11-23T16:40:34.490Z"
   },
   {
    "duration": 29352,
    "start_time": "2022-11-23T16:49:02.153Z"
   },
   {
    "duration": 29564,
    "start_time": "2022-11-23T16:51:01.668Z"
   },
   {
    "duration": 40,
    "start_time": "2022-11-23T16:52:37.165Z"
   },
   {
    "duration": 43157,
    "start_time": "2022-11-23T16:57:05.108Z"
   },
   {
    "duration": 1675,
    "start_time": "2022-11-23T17:02:15.429Z"
   },
   {
    "duration": 2,
    "start_time": "2022-11-23T17:02:17.106Z"
   },
   {
    "duration": 18,
    "start_time": "2022-11-23T17:02:17.110Z"
   },
   {
    "duration": 5774,
    "start_time": "2022-11-23T17:02:17.131Z"
   },
   {
    "duration": 4,
    "start_time": "2022-11-23T17:02:22.907Z"
   },
   {
    "duration": 18088,
    "start_time": "2022-11-23T17:02:22.913Z"
   },
   {
    "duration": 11462,
    "start_time": "2022-11-23T17:02:41.012Z"
   },
   {
    "duration": 3059,
    "start_time": "2022-11-23T17:02:52.476Z"
   },
   {
    "duration": 3686,
    "start_time": "2022-11-23T17:02:55.537Z"
   },
   {
    "duration": 4,
    "start_time": "2022-11-23T17:02:59.226Z"
   },
   {
    "duration": 3000,
    "start_time": "2022-11-23T17:02:59.232Z"
   },
   {
    "duration": 11,
    "start_time": "2022-11-23T17:03:02.234Z"
   },
   {
    "duration": 298,
    "start_time": "2022-11-23T17:03:02.246Z"
   },
   {
    "duration": 250,
    "start_time": "2022-11-23T17:03:02.546Z"
   },
   {
    "duration": 16,
    "start_time": "2022-11-23T17:03:02.798Z"
   },
   {
    "duration": 506,
    "start_time": "2022-11-23T17:03:02.815Z"
   },
   {
    "duration": 5,
    "start_time": "2022-11-23T17:03:03.322Z"
   },
   {
    "duration": 1101,
    "start_time": "2022-11-23T17:03:03.328Z"
   },
   {
    "duration": 3,
    "start_time": "2022-11-23T17:03:04.431Z"
   },
   {
    "duration": 619,
    "start_time": "2022-11-23T17:03:04.436Z"
   },
   {
    "duration": 3,
    "start_time": "2022-11-23T17:03:05.057Z"
   },
   {
    "duration": 201,
    "start_time": "2022-11-23T17:03:05.062Z"
   },
   {
    "duration": 10922,
    "start_time": "2022-11-23T17:03:05.265Z"
   },
   {
    "duration": 3,
    "start_time": "2022-11-23T17:03:16.189Z"
   },
   {
    "duration": 21771,
    "start_time": "2022-11-23T17:03:16.194Z"
   },
   {
    "duration": 156,
    "start_time": "2022-11-23T17:03:37.966Z"
   },
   {
    "duration": 5,
    "start_time": "2022-11-23T17:03:38.124Z"
   },
   {
    "duration": 29,
    "start_time": "2022-11-23T17:03:38.134Z"
   },
   {
    "duration": 62,
    "start_time": "2022-11-23T17:03:38.165Z"
   },
   {
    "duration": 26,
    "start_time": "2022-11-23T17:03:38.229Z"
   },
   {
    "duration": 23,
    "start_time": "2022-11-23T17:03:38.257Z"
   },
   {
    "duration": 51,
    "start_time": "2022-11-23T17:03:38.281Z"
   },
   {
    "duration": 26,
    "start_time": "2022-11-23T17:03:38.334Z"
   },
   {
    "duration": 50,
    "start_time": "2022-11-23T17:03:38.362Z"
   },
   {
    "duration": 32,
    "start_time": "2022-11-23T17:03:38.414Z"
   },
   {
    "duration": 18,
    "start_time": "2022-11-23T17:03:38.448Z"
   },
   {
    "duration": 12,
    "start_time": "2022-11-23T17:03:38.468Z"
   },
   {
    "duration": 11,
    "start_time": "2022-11-23T17:03:38.481Z"
   },
   {
    "duration": 12,
    "start_time": "2022-11-23T17:03:38.513Z"
   },
   {
    "duration": 141,
    "start_time": "2022-11-23T17:03:38.527Z"
   },
   {
    "duration": 69,
    "start_time": "2022-11-23T17:03:38.670Z"
   },
   {
    "duration": 4,
    "start_time": "2022-11-23T17:03:38.741Z"
   },
   {
    "duration": 156,
    "start_time": "2022-11-23T17:03:38.746Z"
   },
   {
    "duration": 188,
    "start_time": "2022-11-23T17:03:38.904Z"
   },
   {
    "duration": 70,
    "start_time": "2022-11-23T17:03:39.094Z"
   },
   {
    "duration": 80,
    "start_time": "2022-11-23T17:03:39.166Z"
   },
   {
    "duration": 8,
    "start_time": "2022-11-23T17:03:39.248Z"
   },
   {
    "duration": 9,
    "start_time": "2022-11-23T17:03:39.258Z"
   },
   {
    "duration": 8,
    "start_time": "2022-11-23T17:03:39.270Z"
   },
   {
    "duration": 56,
    "start_time": "2022-11-23T17:03:39.280Z"
   },
   {
    "duration": 27,
    "start_time": "2022-11-23T17:03:39.340Z"
   },
   {
    "duration": 61,
    "start_time": "2022-11-23T17:03:39.369Z"
   },
   {
    "duration": 31,
    "start_time": "2022-11-23T17:03:39.432Z"
   },
   {
    "duration": 48,
    "start_time": "2022-11-23T17:03:39.465Z"
   },
   {
    "duration": 3,
    "start_time": "2022-11-23T17:03:39.516Z"
   },
   {
    "duration": 750,
    "start_time": "2022-11-23T17:03:39.522Z"
   },
   {
    "duration": 9,
    "start_time": "2022-11-23T17:03:40.274Z"
   },
   {
    "duration": 3,
    "start_time": "2022-11-23T17:03:40.284Z"
   },
   {
    "duration": 32,
    "start_time": "2022-11-23T17:03:40.289Z"
   },
   {
    "duration": 30,
    "start_time": "2022-11-23T17:03:40.322Z"
   },
   {
    "duration": 22,
    "start_time": "2022-11-23T17:03:40.354Z"
   },
   {
    "duration": 3643,
    "start_time": "2022-11-23T17:03:40.378Z"
   },
   {
    "duration": 148,
    "start_time": "2022-11-23T17:03:44.113Z"
   },
   {
    "duration": 0,
    "start_time": "2022-11-23T17:03:44.263Z"
   },
   {
    "duration": 0,
    "start_time": "2022-11-23T17:03:44.264Z"
   },
   {
    "duration": 0,
    "start_time": "2022-11-23T17:03:44.265Z"
   },
   {
    "duration": 0,
    "start_time": "2022-11-23T17:03:44.266Z"
   },
   {
    "duration": 0,
    "start_time": "2022-11-23T17:03:44.267Z"
   },
   {
    "duration": 0,
    "start_time": "2022-11-23T17:03:44.268Z"
   },
   {
    "duration": 30710,
    "start_time": "2022-11-23T17:04:08.253Z"
   },
   {
    "duration": 1227941,
    "start_time": "2022-11-23T17:05:02.645Z"
   },
   {
    "duration": 5,
    "start_time": "2022-11-23T17:37:46.835Z"
   },
   {
    "duration": 4033567,
    "start_time": "2022-11-23T17:37:47.581Z"
   },
   {
    "duration": 5,
    "start_time": "2022-11-23T18:51:51.287Z"
   },
   {
    "duration": 9,
    "start_time": "2022-11-23T18:53:59.490Z"
   },
   {
    "duration": 48,
    "start_time": "2022-11-23T18:54:26.818Z"
   },
   {
    "duration": 5,
    "start_time": "2022-11-23T18:54:31.379Z"
   },
   {
    "duration": 19,
    "start_time": "2022-11-23T18:58:29.484Z"
   },
   {
    "duration": 15,
    "start_time": "2022-11-23T18:59:57.027Z"
   },
   {
    "duration": 182,
    "start_time": "2022-11-23T19:00:15.133Z"
   },
   {
    "duration": 15,
    "start_time": "2022-11-23T19:01:11.448Z"
   },
   {
    "duration": 16407,
    "start_time": "2022-11-23T19:01:41.014Z"
   },
   {
    "duration": 2347,
    "start_time": "2022-11-23T19:08:50.293Z"
   },
   {
    "duration": 13762,
    "start_time": "2022-11-23T19:09:04.862Z"
   },
   {
    "duration": 11093,
    "start_time": "2022-11-23T19:09:58.534Z"
   },
   {
    "duration": 10078,
    "start_time": "2022-11-23T19:13:42.253Z"
   },
   {
    "duration": 10355,
    "start_time": "2022-11-23T19:14:07.678Z"
   },
   {
    "duration": 12935,
    "start_time": "2022-11-23T19:15:21.126Z"
   },
   {
    "duration": 80548,
    "start_time": "2022-11-23T19:15:55.894Z"
   },
   {
    "duration": 14,
    "start_time": "2022-11-23T19:21:33.749Z"
   },
   {
    "duration": 4,
    "start_time": "2022-11-23T19:32:22.411Z"
   },
   {
    "duration": 1962,
    "start_time": "2022-11-25T18:15:41.936Z"
   },
   {
    "duration": 4,
    "start_time": "2022-11-25T18:15:43.900Z"
   },
   {
    "duration": 9,
    "start_time": "2022-11-25T18:15:43.905Z"
   },
   {
    "duration": 6448,
    "start_time": "2022-11-25T18:15:43.916Z"
   },
   {
    "duration": 4,
    "start_time": "2022-11-25T18:15:50.366Z"
   },
   {
    "duration": 19073,
    "start_time": "2022-11-25T18:15:50.372Z"
   },
   {
    "duration": 21881,
    "start_time": "2022-11-25T18:16:09.447Z"
   },
   {
    "duration": 5615,
    "start_time": "2022-11-25T18:16:31.330Z"
   },
   {
    "duration": 6171,
    "start_time": "2022-11-25T18:16:36.947Z"
   },
   {
    "duration": 7,
    "start_time": "2022-11-25T18:16:43.125Z"
   },
   {
    "duration": 3071,
    "start_time": "2022-11-25T18:16:43.134Z"
   },
   {
    "duration": 18,
    "start_time": "2022-11-25T18:16:46.212Z"
   },
   {
    "duration": 299,
    "start_time": "2022-11-25T18:16:46.238Z"
   },
   {
    "duration": 289,
    "start_time": "2022-11-25T18:16:46.540Z"
   },
   {
    "duration": 4,
    "start_time": "2022-11-25T18:16:46.832Z"
   },
   {
    "duration": 534,
    "start_time": "2022-11-25T18:16:46.837Z"
   },
   {
    "duration": 4,
    "start_time": "2022-11-25T18:16:47.373Z"
   },
   {
    "duration": 1102,
    "start_time": "2022-11-25T18:16:47.378Z"
   },
   {
    "duration": 3,
    "start_time": "2022-11-25T18:16:48.483Z"
   },
   {
    "duration": 648,
    "start_time": "2022-11-25T18:16:48.488Z"
   },
   {
    "duration": 3,
    "start_time": "2022-11-25T18:16:49.138Z"
   },
   {
    "duration": 203,
    "start_time": "2022-11-25T18:16:49.144Z"
   },
   {
    "duration": 5214,
    "start_time": "2022-11-25T18:16:49.349Z"
   },
   {
    "duration": 3,
    "start_time": "2022-11-25T18:16:54.565Z"
   },
   {
    "duration": 11737,
    "start_time": "2022-11-25T18:16:54.570Z"
   },
   {
    "duration": 148,
    "start_time": "2022-11-25T18:17:06.313Z"
   },
   {
    "duration": 5,
    "start_time": "2022-11-25T18:17:06.463Z"
   },
   {
    "duration": 59,
    "start_time": "2022-11-25T18:17:06.472Z"
   },
   {
    "duration": 49,
    "start_time": "2022-11-25T18:17:06.534Z"
   },
   {
    "duration": 27,
    "start_time": "2022-11-25T18:17:06.586Z"
   },
   {
    "duration": 50,
    "start_time": "2022-11-25T18:17:06.615Z"
   },
   {
    "duration": 26,
    "start_time": "2022-11-25T18:17:06.668Z"
   },
   {
    "duration": 83,
    "start_time": "2022-11-25T18:17:06.696Z"
   },
   {
    "duration": 45,
    "start_time": "2022-11-25T18:17:06.781Z"
   },
   {
    "duration": 46,
    "start_time": "2022-11-25T18:17:06.830Z"
   },
   {
    "duration": 13,
    "start_time": "2022-11-25T18:17:06.877Z"
   },
   {
    "duration": 17,
    "start_time": "2022-11-25T18:17:06.892Z"
   },
   {
    "duration": 26,
    "start_time": "2022-11-25T18:17:06.911Z"
   },
   {
    "duration": 14,
    "start_time": "2022-11-25T18:17:06.939Z"
   },
   {
    "duration": 127,
    "start_time": "2022-11-25T18:17:06.955Z"
   },
   {
    "duration": 73,
    "start_time": "2022-11-25T18:17:07.084Z"
   },
   {
    "duration": 4,
    "start_time": "2022-11-25T18:17:07.160Z"
   },
   {
    "duration": 156,
    "start_time": "2022-11-25T18:17:07.165Z"
   },
   {
    "duration": 192,
    "start_time": "2022-11-25T18:17:07.331Z"
   },
   {
    "duration": 64,
    "start_time": "2022-11-25T18:17:07.525Z"
   },
   {
    "duration": 72,
    "start_time": "2022-11-25T18:17:07.590Z"
   },
   {
    "duration": 10,
    "start_time": "2022-11-25T18:17:07.664Z"
   },
   {
    "duration": 11,
    "start_time": "2022-11-25T18:17:07.675Z"
   },
   {
    "duration": 30,
    "start_time": "2022-11-25T18:17:07.688Z"
   },
   {
    "duration": 26,
    "start_time": "2022-11-25T18:17:07.724Z"
   },
   {
    "duration": 24,
    "start_time": "2022-11-25T18:17:07.752Z"
   },
   {
    "duration": 50,
    "start_time": "2022-11-25T18:17:07.777Z"
   },
   {
    "duration": 28,
    "start_time": "2022-11-25T18:17:07.830Z"
   },
   {
    "duration": 22,
    "start_time": "2022-11-25T18:17:07.859Z"
   },
   {
    "duration": 5,
    "start_time": "2022-11-25T18:17:07.883Z"
   },
   {
    "duration": 725,
    "start_time": "2022-11-25T18:17:07.890Z"
   },
   {
    "duration": 12,
    "start_time": "2022-11-25T18:17:08.616Z"
   },
   {
    "duration": 23,
    "start_time": "2022-11-25T18:17:08.632Z"
   },
   {
    "duration": 21,
    "start_time": "2022-11-25T18:17:08.657Z"
   },
   {
    "duration": 88,
    "start_time": "2022-11-25T18:17:08.680Z"
   },
   {
    "duration": 38,
    "start_time": "2022-11-25T18:17:08.770Z"
   },
   {
    "duration": 4826,
    "start_time": "2022-11-25T18:17:08.810Z"
   },
   {
    "duration": 30948,
    "start_time": "2022-11-25T18:17:13.638Z"
   },
   {
    "duration": 5,
    "start_time": "2022-11-25T18:17:44.588Z"
   },
   {
    "duration": 1309033,
    "start_time": "2022-11-25T18:17:44.594Z"
   },
   {
    "duration": 1659307,
    "start_time": "2022-11-25T18:39:33.629Z"
   },
   {
    "duration": 734605,
    "start_time": "2022-11-25T19:07:12.938Z"
   },
   {
    "duration": 3,
    "start_time": "2022-11-25T19:19:27.545Z"
   },
   {
    "duration": 40,
    "start_time": "2022-11-25T19:19:27.550Z"
   },
   {
    "duration": 55153,
    "start_time": "2022-11-25T19:19:27.591Z"
   },
   {
    "duration": 0,
    "start_time": "2022-11-25T19:20:22.746Z"
   },
   {
    "duration": 1741,
    "start_time": "2022-11-25T19:22:14.616Z"
   },
   {
    "duration": 3,
    "start_time": "2022-11-25T19:22:16.359Z"
   },
   {
    "duration": 19,
    "start_time": "2022-11-25T19:22:16.364Z"
   },
   {
    "duration": 4984,
    "start_time": "2022-11-25T19:22:16.385Z"
   },
   {
    "duration": 4,
    "start_time": "2022-11-25T19:22:21.371Z"
   },
   {
    "duration": 17880,
    "start_time": "2022-11-25T19:22:21.377Z"
   },
   {
    "duration": 11284,
    "start_time": "2022-11-25T19:22:39.258Z"
   },
   {
    "duration": 3193,
    "start_time": "2022-11-25T19:22:50.544Z"
   },
   {
    "duration": 3482,
    "start_time": "2022-11-25T19:22:53.740Z"
   },
   {
    "duration": 3,
    "start_time": "2022-11-25T19:22:57.224Z"
   },
   {
    "duration": 2753,
    "start_time": "2022-11-25T19:22:57.229Z"
   },
   {
    "duration": 9,
    "start_time": "2022-11-25T19:22:59.984Z"
   },
   {
    "duration": 274,
    "start_time": "2022-11-25T19:22:59.994Z"
   },
   {
    "duration": 233,
    "start_time": "2022-11-25T19:23:00.270Z"
   },
   {
    "duration": 7,
    "start_time": "2022-11-25T19:23:00.512Z"
   },
   {
    "duration": 543,
    "start_time": "2022-11-25T19:23:00.521Z"
   },
   {
    "duration": 4,
    "start_time": "2022-11-25T19:23:01.066Z"
   },
   {
    "duration": 1154,
    "start_time": "2022-11-25T19:23:01.072Z"
   },
   {
    "duration": 3,
    "start_time": "2022-11-25T19:23:02.228Z"
   },
   {
    "duration": 624,
    "start_time": "2022-11-25T19:23:02.232Z"
   },
   {
    "duration": 3,
    "start_time": "2022-11-25T19:23:02.857Z"
   },
   {
    "duration": 195,
    "start_time": "2022-11-25T19:23:02.861Z"
   },
   {
    "duration": 8613,
    "start_time": "2022-11-25T19:23:03.057Z"
   },
   {
    "duration": 4,
    "start_time": "2022-11-25T19:23:11.671Z"
   },
   {
    "duration": 11383,
    "start_time": "2022-11-25T19:23:11.677Z"
   },
   {
    "duration": 149,
    "start_time": "2022-11-25T19:23:23.063Z"
   },
   {
    "duration": 6,
    "start_time": "2022-11-25T19:23:23.214Z"
   },
   {
    "duration": 27,
    "start_time": "2022-11-25T19:23:23.224Z"
   },
   {
    "duration": 24,
    "start_time": "2022-11-25T19:23:23.253Z"
   },
   {
    "duration": 42,
    "start_time": "2022-11-25T19:23:23.279Z"
   },
   {
    "duration": 14,
    "start_time": "2022-11-25T19:23:23.324Z"
   },
   {
    "duration": 26,
    "start_time": "2022-11-25T19:23:23.340Z"
   },
   {
    "duration": 23,
    "start_time": "2022-11-25T19:23:23.368Z"
   },
   {
    "duration": 40,
    "start_time": "2022-11-25T19:23:23.393Z"
   },
   {
    "duration": 31,
    "start_time": "2022-11-25T19:23:23.435Z"
   },
   {
    "duration": 12,
    "start_time": "2022-11-25T19:23:23.468Z"
   },
   {
    "duration": 32,
    "start_time": "2022-11-25T19:23:23.481Z"
   },
   {
    "duration": 8,
    "start_time": "2022-11-25T19:23:23.514Z"
   },
   {
    "duration": 12,
    "start_time": "2022-11-25T19:23:23.523Z"
   },
   {
    "duration": 130,
    "start_time": "2022-11-25T19:23:23.537Z"
   },
   {
    "duration": 63,
    "start_time": "2022-11-25T19:23:23.669Z"
   },
   {
    "duration": 4,
    "start_time": "2022-11-25T19:23:23.734Z"
   },
   {
    "duration": 143,
    "start_time": "2022-11-25T19:23:23.739Z"
   },
   {
    "duration": 163,
    "start_time": "2022-11-25T19:23:23.884Z"
   },
   {
    "duration": 64,
    "start_time": "2022-11-25T19:23:24.049Z"
   },
   {
    "duration": 67,
    "start_time": "2022-11-25T19:23:24.115Z"
   },
   {
    "duration": 9,
    "start_time": "2022-11-25T19:23:24.184Z"
   },
   {
    "duration": 23,
    "start_time": "2022-11-25T19:23:24.195Z"
   },
   {
    "duration": 10,
    "start_time": "2022-11-25T19:23:24.220Z"
   },
   {
    "duration": 25,
    "start_time": "2022-11-25T19:23:24.231Z"
   },
   {
    "duration": 21,
    "start_time": "2022-11-25T19:23:24.258Z"
   },
   {
    "duration": 59,
    "start_time": "2022-11-25T19:23:24.281Z"
   },
   {
    "duration": 28,
    "start_time": "2022-11-25T19:23:24.341Z"
   },
   {
    "duration": 19,
    "start_time": "2022-11-25T19:23:24.371Z"
   },
   {
    "duration": 22,
    "start_time": "2022-11-25T19:23:24.392Z"
   },
   {
    "duration": 664,
    "start_time": "2022-11-25T19:23:24.416Z"
   },
   {
    "duration": 8,
    "start_time": "2022-11-25T19:23:25.082Z"
   },
   {
    "duration": 2,
    "start_time": "2022-11-25T19:23:25.093Z"
   },
   {
    "duration": 25,
    "start_time": "2022-11-25T19:23:25.097Z"
   },
   {
    "duration": 26,
    "start_time": "2022-11-25T19:23:25.124Z"
   },
   {
    "duration": 19,
    "start_time": "2022-11-25T19:23:25.152Z"
   },
   {
    "duration": 3342,
    "start_time": "2022-11-25T19:23:25.173Z"
   },
   {
    "duration": 28641,
    "start_time": "2022-11-25T19:23:28.517Z"
   },
   {
    "duration": 44448,
    "start_time": "2022-11-25T19:23:57.160Z"
   },
   {
    "duration": 0,
    "start_time": "2022-11-25T19:24:41.611Z"
   },
   {
    "duration": 0,
    "start_time": "2022-11-25T19:24:41.613Z"
   },
   {
    "duration": 0,
    "start_time": "2022-11-25T19:24:41.615Z"
   },
   {
    "duration": 0,
    "start_time": "2022-11-25T19:24:41.616Z"
   },
   {
    "duration": 1691,
    "start_time": "2022-11-25T19:25:22.661Z"
   },
   {
    "duration": 3,
    "start_time": "2022-11-25T19:25:24.354Z"
   },
   {
    "duration": 12,
    "start_time": "2022-11-25T19:25:24.359Z"
   },
   {
    "duration": 4915,
    "start_time": "2022-11-25T19:25:24.373Z"
   },
   {
    "duration": 3,
    "start_time": "2022-11-25T19:25:29.291Z"
   },
   {
    "duration": 17989,
    "start_time": "2022-11-25T19:25:29.296Z"
   },
   {
    "duration": 11303,
    "start_time": "2022-11-25T19:25:47.286Z"
   },
   {
    "duration": 3333,
    "start_time": "2022-11-25T19:25:58.591Z"
   },
   {
    "duration": 3457,
    "start_time": "2022-11-25T19:26:01.925Z"
   },
   {
    "duration": 4,
    "start_time": "2022-11-25T19:26:05.385Z"
   },
   {
    "duration": 3029,
    "start_time": "2022-11-25T19:26:05.391Z"
   },
   {
    "duration": 10,
    "start_time": "2022-11-25T19:26:08.422Z"
   },
   {
    "duration": 281,
    "start_time": "2022-11-25T19:26:08.433Z"
   },
   {
    "duration": 239,
    "start_time": "2022-11-25T19:26:08.716Z"
   },
   {
    "duration": 3,
    "start_time": "2022-11-25T19:26:08.957Z"
   },
   {
    "duration": 539,
    "start_time": "2022-11-25T19:26:08.961Z"
   },
   {
    "duration": 4,
    "start_time": "2022-11-25T19:26:09.501Z"
   },
   {
    "duration": 1339,
    "start_time": "2022-11-25T19:26:09.507Z"
   },
   {
    "duration": 3,
    "start_time": "2022-11-25T19:26:10.848Z"
   },
   {
    "duration": 619,
    "start_time": "2022-11-25T19:26:10.853Z"
   },
   {
    "duration": 3,
    "start_time": "2022-11-25T19:26:11.473Z"
   },
   {
    "duration": 200,
    "start_time": "2022-11-25T19:26:11.478Z"
   },
   {
    "duration": 4589,
    "start_time": "2022-11-25T19:26:11.680Z"
   },
   {
    "duration": 3,
    "start_time": "2022-11-25T19:26:16.271Z"
   },
   {
    "duration": 11703,
    "start_time": "2022-11-25T19:26:16.276Z"
   },
   {
    "duration": 141,
    "start_time": "2022-11-25T19:26:27.981Z"
   },
   {
    "duration": 11,
    "start_time": "2022-11-25T19:26:28.123Z"
   },
   {
    "duration": 28,
    "start_time": "2022-11-25T19:26:28.138Z"
   },
   {
    "duration": 49,
    "start_time": "2022-11-25T19:26:28.169Z"
   },
   {
    "duration": 22,
    "start_time": "2022-11-25T19:26:28.220Z"
   },
   {
    "duration": 19,
    "start_time": "2022-11-25T19:26:28.244Z"
   },
   {
    "duration": 21,
    "start_time": "2022-11-25T19:26:28.265Z"
   },
   {
    "duration": 39,
    "start_time": "2022-11-25T19:26:28.288Z"
   },
   {
    "duration": 20,
    "start_time": "2022-11-25T19:26:28.328Z"
   },
   {
    "duration": 28,
    "start_time": "2022-11-25T19:26:28.350Z"
   },
   {
    "duration": 11,
    "start_time": "2022-11-25T19:26:28.379Z"
   },
   {
    "duration": 24,
    "start_time": "2022-11-25T19:26:28.392Z"
   },
   {
    "duration": 6,
    "start_time": "2022-11-25T19:26:28.418Z"
   },
   {
    "duration": 10,
    "start_time": "2022-11-25T19:26:28.426Z"
   },
   {
    "duration": 152,
    "start_time": "2022-11-25T19:26:28.438Z"
   },
   {
    "duration": 59,
    "start_time": "2022-11-25T19:26:28.591Z"
   },
   {
    "duration": 4,
    "start_time": "2022-11-25T19:26:28.651Z"
   },
   {
    "duration": 138,
    "start_time": "2022-11-25T19:26:28.656Z"
   },
   {
    "duration": 169,
    "start_time": "2022-11-25T19:26:28.795Z"
   },
   {
    "duration": 74,
    "start_time": "2022-11-25T19:26:28.966Z"
   },
   {
    "duration": 80,
    "start_time": "2022-11-25T19:26:29.042Z"
   },
   {
    "duration": 10,
    "start_time": "2022-11-25T19:26:29.124Z"
   },
   {
    "duration": 9,
    "start_time": "2022-11-25T19:26:29.136Z"
   },
   {
    "duration": 9,
    "start_time": "2022-11-25T19:26:29.147Z"
   },
   {
    "duration": 54,
    "start_time": "2022-11-25T19:26:29.159Z"
   },
   {
    "duration": 26,
    "start_time": "2022-11-25T19:26:29.216Z"
   },
   {
    "duration": 37,
    "start_time": "2022-11-25T19:26:29.245Z"
   },
   {
    "duration": 66,
    "start_time": "2022-11-25T19:26:29.284Z"
   },
   {
    "duration": 22,
    "start_time": "2022-11-25T19:26:29.353Z"
   },
   {
    "duration": 6,
    "start_time": "2022-11-25T19:26:29.377Z"
   },
   {
    "duration": 762,
    "start_time": "2022-11-25T19:26:29.385Z"
   },
   {
    "duration": 9,
    "start_time": "2022-11-25T19:26:30.149Z"
   },
   {
    "duration": 21,
    "start_time": "2022-11-25T19:26:30.160Z"
   },
   {
    "duration": 52,
    "start_time": "2022-11-25T19:26:30.183Z"
   },
   {
    "duration": 45,
    "start_time": "2022-11-25T19:26:30.236Z"
   },
   {
    "duration": 41,
    "start_time": "2022-11-25T19:26:30.283Z"
   },
   {
    "duration": 5894,
    "start_time": "2022-11-25T19:26:30.325Z"
   },
   {
    "duration": 29354,
    "start_time": "2022-11-25T19:26:36.221Z"
   },
   {
    "duration": 1143471,
    "start_time": "2022-11-25T19:27:05.576Z"
   },
   {
    "duration": 0,
    "start_time": "2022-11-25T19:46:09.048Z"
   },
   {
    "duration": 0,
    "start_time": "2022-11-25T19:46:09.050Z"
   },
   {
    "duration": 0,
    "start_time": "2022-11-25T19:46:09.051Z"
   },
   {
    "duration": 0,
    "start_time": "2022-11-25T19:46:09.052Z"
   },
   {
    "duration": 0,
    "start_time": "2022-11-25T19:46:09.053Z"
   },
   {
    "duration": 0,
    "start_time": "2022-11-25T19:46:09.053Z"
   },
   {
    "duration": 1,
    "start_time": "2022-11-25T19:46:09.054Z"
   },
   {
    "duration": 28602,
    "start_time": "2022-11-25T19:46:23.004Z"
   },
   {
    "duration": 23,
    "start_time": "2022-11-25T19:47:57.461Z"
   },
   {
    "duration": 263,
    "start_time": "2022-11-25T19:48:05.524Z"
   },
   {
    "duration": 275,
    "start_time": "2022-11-25T19:48:24.196Z"
   },
   {
    "duration": 280,
    "start_time": "2022-11-25T19:48:31.296Z"
   },
   {
    "duration": 13,
    "start_time": "2022-11-25T19:52:54.594Z"
   },
   {
    "duration": 16,
    "start_time": "2022-11-25T19:53:07.675Z"
   },
   {
    "duration": 7,
    "start_time": "2022-11-25T19:53:24.811Z"
   },
   {
    "duration": 7,
    "start_time": "2022-11-25T19:54:15.771Z"
   },
   {
    "duration": 28,
    "start_time": "2022-11-25T19:55:49.299Z"
   },
   {
    "duration": 6,
    "start_time": "2022-11-25T19:56:18.882Z"
   },
   {
    "duration": 11,
    "start_time": "2022-11-25T19:57:15.002Z"
   },
   {
    "duration": 5,
    "start_time": "2022-11-25T19:57:18.737Z"
   },
   {
    "duration": 5,
    "start_time": "2022-11-25T19:57:41.162Z"
   },
   {
    "duration": 26,
    "start_time": "2022-11-25T19:57:48.755Z"
   },
   {
    "duration": 18,
    "start_time": "2022-11-25T19:58:09.442Z"
   },
   {
    "duration": 25,
    "start_time": "2022-11-25T19:58:22.427Z"
   },
   {
    "duration": 8,
    "start_time": "2022-11-25T19:58:36.970Z"
   },
   {
    "duration": 5,
    "start_time": "2022-11-25T19:58:42.274Z"
   },
   {
    "duration": 4,
    "start_time": "2022-11-25T19:58:56.889Z"
   },
   {
    "duration": 21,
    "start_time": "2022-11-25T19:59:30.898Z"
   },
   {
    "duration": 29,
    "start_time": "2022-11-25T19:59:40.114Z"
   },
   {
    "duration": 6,
    "start_time": "2022-11-25T20:00:02.010Z"
   },
   {
    "duration": 6,
    "start_time": "2022-11-25T20:00:06.394Z"
   },
   {
    "duration": 4,
    "start_time": "2022-11-25T20:00:10.378Z"
   },
   {
    "duration": 5,
    "start_time": "2022-11-25T20:00:13.297Z"
   },
   {
    "duration": 4,
    "start_time": "2022-11-25T20:00:16.986Z"
   },
   {
    "duration": 17,
    "start_time": "2022-11-25T20:00:50.010Z"
   },
   {
    "duration": 16,
    "start_time": "2022-11-25T20:00:58.298Z"
   },
   {
    "duration": 4,
    "start_time": "2022-11-25T20:01:56.225Z"
   },
   {
    "duration": 4,
    "start_time": "2022-11-25T20:02:13.465Z"
   },
   {
    "duration": 16,
    "start_time": "2022-11-25T20:02:35.500Z"
   },
   {
    "duration": 19,
    "start_time": "2022-11-25T20:02:51.393Z"
   },
   {
    "duration": 23,
    "start_time": "2022-11-25T20:03:06.554Z"
   },
   {
    "duration": 11,
    "start_time": "2022-11-25T20:03:46.890Z"
   },
   {
    "duration": 10,
    "start_time": "2022-11-25T20:03:58.857Z"
   },
   {
    "duration": 8,
    "start_time": "2022-11-25T20:06:05.897Z"
   },
   {
    "duration": 5,
    "start_time": "2022-11-25T20:08:43.265Z"
   },
   {
    "duration": 276,
    "start_time": "2022-11-25T20:08:54.247Z"
   },
   {
    "duration": 127,
    "start_time": "2022-11-25T20:10:45.920Z"
   },
   {
    "duration": 5,
    "start_time": "2022-11-25T20:19:17.447Z"
   },
   {
    "duration": 18,
    "start_time": "2022-11-25T20:19:24.088Z"
   },
   {
    "duration": 7,
    "start_time": "2022-11-25T20:27:31.328Z"
   },
   {
    "duration": 695,
    "start_time": "2022-11-25T20:28:11.160Z"
   },
   {
    "duration": 7,
    "start_time": "2022-11-25T20:28:16.385Z"
   },
   {
    "duration": 679,
    "start_time": "2022-11-25T20:28:31.100Z"
   },
   {
    "duration": 7,
    "start_time": "2022-11-25T20:28:37.832Z"
   },
   {
    "duration": 5,
    "start_time": "2022-11-25T20:28:52.320Z"
   },
   {
    "duration": 7,
    "start_time": "2022-11-25T20:29:35.328Z"
   },
   {
    "duration": 133,
    "start_time": "2022-11-25T20:30:04.704Z"
   },
   {
    "duration": 126,
    "start_time": "2022-11-25T20:30:47.720Z"
   },
   {
    "duration": 133,
    "start_time": "2022-11-25T20:33:10.576Z"
   },
   {
    "duration": 131,
    "start_time": "2022-11-25T20:33:33.568Z"
   },
   {
    "duration": 49,
    "start_time": "2022-11-25T20:34:27.240Z"
   },
   {
    "duration": 5506,
    "start_time": "2022-11-25T20:35:40.152Z"
   },
   {
    "duration": 79,
    "start_time": "2022-11-25T20:36:01.440Z"
   },
   {
    "duration": 46,
    "start_time": "2022-11-25T20:36:15.704Z"
   },
   {
    "duration": 233,
    "start_time": "2022-11-25T20:36:22.304Z"
   },
   {
    "duration": 125,
    "start_time": "2022-11-25T20:36:36.592Z"
   },
   {
    "duration": 127,
    "start_time": "2022-11-25T20:36:50.736Z"
   },
   {
    "duration": 123,
    "start_time": "2022-11-25T20:37:17.656Z"
   },
   {
    "duration": 151,
    "start_time": "2022-11-25T20:38:04.096Z"
   },
   {
    "duration": 263,
    "start_time": "2022-11-25T20:41:31.377Z"
   },
   {
    "duration": 173,
    "start_time": "2022-11-25T20:41:50.984Z"
   },
   {
    "duration": 166,
    "start_time": "2022-11-25T20:43:07.047Z"
   },
   {
    "duration": 7,
    "start_time": "2022-11-25T20:43:40.560Z"
   },
   {
    "duration": 23,
    "start_time": "2022-11-25T20:45:27.272Z"
   },
   {
    "duration": 50,
    "start_time": "2022-11-25T20:48:20.240Z"
   },
   {
    "duration": 22,
    "start_time": "2022-11-25T20:48:27.479Z"
   },
   {
    "duration": 22,
    "start_time": "2022-11-25T20:49:08.247Z"
   },
   {
    "duration": 21,
    "start_time": "2022-11-25T20:49:40.823Z"
   },
   {
    "duration": 1613,
    "start_time": "2022-11-25T21:12:37.236Z"
   },
   {
    "duration": 2,
    "start_time": "2022-11-25T21:12:38.852Z"
   },
   {
    "duration": 7,
    "start_time": "2022-11-25T21:12:38.855Z"
   },
   {
    "duration": 5093,
    "start_time": "2022-11-25T21:12:38.864Z"
   },
   {
    "duration": 4,
    "start_time": "2022-11-25T21:12:43.958Z"
   },
   {
    "duration": 18158,
    "start_time": "2022-11-25T21:12:43.963Z"
   },
   {
    "duration": 11441,
    "start_time": "2022-11-25T21:13:02.123Z"
   },
   {
    "duration": 3300,
    "start_time": "2022-11-25T21:13:13.566Z"
   },
   {
    "duration": 3488,
    "start_time": "2022-11-25T21:13:16.868Z"
   },
   {
    "duration": 3,
    "start_time": "2022-11-25T21:13:20.358Z"
   },
   {
    "duration": 2893,
    "start_time": "2022-11-25T21:13:20.363Z"
   },
   {
    "duration": 9,
    "start_time": "2022-11-25T21:13:23.257Z"
   },
   {
    "duration": 279,
    "start_time": "2022-11-25T21:13:23.267Z"
   },
   {
    "duration": 229,
    "start_time": "2022-11-25T21:13:23.548Z"
   },
   {
    "duration": 3,
    "start_time": "2022-11-25T21:13:23.778Z"
   },
   {
    "duration": 511,
    "start_time": "2022-11-25T21:13:23.782Z"
   },
   {
    "duration": 4,
    "start_time": "2022-11-25T21:13:24.295Z"
   },
   {
    "duration": 1092,
    "start_time": "2022-11-25T21:13:24.300Z"
   },
   {
    "duration": 4,
    "start_time": "2022-11-25T21:13:25.394Z"
   },
   {
    "duration": 617,
    "start_time": "2022-11-25T21:13:25.400Z"
   },
   {
    "duration": 4,
    "start_time": "2022-11-25T21:13:26.019Z"
   },
   {
    "duration": 201,
    "start_time": "2022-11-25T21:13:26.025Z"
   },
   {
    "duration": 4593,
    "start_time": "2022-11-25T21:13:26.228Z"
   },
   {
    "duration": 3,
    "start_time": "2022-11-25T21:13:30.823Z"
   },
   {
    "duration": 11435,
    "start_time": "2022-11-25T21:13:30.828Z"
   },
   {
    "duration": 136,
    "start_time": "2022-11-25T21:13:42.264Z"
   },
   {
    "duration": 11,
    "start_time": "2022-11-25T21:13:42.402Z"
   },
   {
    "duration": 27,
    "start_time": "2022-11-25T21:13:42.417Z"
   },
   {
    "duration": 25,
    "start_time": "2022-11-25T21:13:42.446Z"
   },
   {
    "duration": 49,
    "start_time": "2022-11-25T21:13:42.472Z"
   },
   {
    "duration": 15,
    "start_time": "2022-11-25T21:13:42.522Z"
   },
   {
    "duration": 21,
    "start_time": "2022-11-25T21:13:42.539Z"
   },
   {
    "duration": 20,
    "start_time": "2022-11-25T21:13:42.562Z"
   },
   {
    "duration": 39,
    "start_time": "2022-11-25T21:13:42.583Z"
   },
   {
    "duration": 34,
    "start_time": "2022-11-25T21:13:42.624Z"
   },
   {
    "duration": 12,
    "start_time": "2022-11-25T21:13:42.659Z"
   },
   {
    "duration": 12,
    "start_time": "2022-11-25T21:13:42.673Z"
   },
   {
    "duration": 28,
    "start_time": "2022-11-25T21:13:42.687Z"
   },
   {
    "duration": 10,
    "start_time": "2022-11-25T21:13:42.717Z"
   },
   {
    "duration": 131,
    "start_time": "2022-11-25T21:13:42.729Z"
   },
   {
    "duration": 65,
    "start_time": "2022-11-25T21:13:42.862Z"
   },
   {
    "duration": 4,
    "start_time": "2022-11-25T21:13:42.930Z"
   },
   {
    "duration": 123,
    "start_time": "2022-11-25T21:13:42.935Z"
   },
   {
    "duration": 175,
    "start_time": "2022-11-25T21:13:43.060Z"
   },
   {
    "duration": 62,
    "start_time": "2022-11-25T21:13:43.237Z"
   },
   {
    "duration": 72,
    "start_time": "2022-11-25T21:13:43.300Z"
   },
   {
    "duration": 9,
    "start_time": "2022-11-25T21:13:43.373Z"
   },
   {
    "duration": 29,
    "start_time": "2022-11-25T21:13:43.383Z"
   },
   {
    "duration": 8,
    "start_time": "2022-11-25T21:13:43.414Z"
   },
   {
    "duration": 24,
    "start_time": "2022-11-25T21:13:43.423Z"
   },
   {
    "duration": 22,
    "start_time": "2022-11-25T21:13:43.449Z"
   },
   {
    "duration": 56,
    "start_time": "2022-11-25T21:13:43.472Z"
   },
   {
    "duration": 27,
    "start_time": "2022-11-25T21:13:43.530Z"
   },
   {
    "duration": 21,
    "start_time": "2022-11-25T21:13:43.559Z"
   },
   {
    "duration": 7,
    "start_time": "2022-11-25T21:13:43.581Z"
   },
   {
    "duration": 697,
    "start_time": "2022-11-25T21:13:43.590Z"
   },
   {
    "duration": 10,
    "start_time": "2022-11-25T21:13:44.289Z"
   },
   {
    "duration": 12,
    "start_time": "2022-11-25T21:13:44.301Z"
   },
   {
    "duration": 16,
    "start_time": "2022-11-25T21:13:44.315Z"
   },
   {
    "duration": 28,
    "start_time": "2022-11-25T21:13:44.333Z"
   },
   {
    "duration": 20,
    "start_time": "2022-11-25T21:13:44.363Z"
   },
   {
    "duration": 3632,
    "start_time": "2022-11-25T21:13:44.385Z"
   },
   {
    "duration": 28952,
    "start_time": "2022-11-25T21:13:48.019Z"
   },
   {
    "duration": 2068295,
    "start_time": "2022-11-25T21:14:16.973Z"
   },
   {
    "duration": 10359,
    "start_time": "2022-11-25T21:48:45.270Z"
   },
   {
    "duration": 64406,
    "start_time": "2022-11-25T21:48:55.631Z"
   },
   {
    "duration": 24,
    "start_time": "2022-11-25T21:50:00.039Z"
   },
   {
    "duration": 303,
    "start_time": "2022-11-25T21:50:00.065Z"
   },
   {
    "duration": 9,
    "start_time": "2022-11-25T21:50:00.370Z"
   },
   {
    "duration": 155,
    "start_time": "2022-11-25T21:50:00.381Z"
   },
   {
    "duration": 8,
    "start_time": "2022-11-25T21:50:00.538Z"
   },
   {
    "duration": 196,
    "start_time": "2022-11-25T21:50:00.548Z"
   },
   {
    "duration": 1908,
    "start_time": "2022-11-26T06:37:11.341Z"
   },
   {
    "duration": 3,
    "start_time": "2022-11-26T06:37:16.015Z"
   },
   {
    "duration": 3,
    "start_time": "2022-11-26T06:37:17.278Z"
   },
   {
    "duration": 8076,
    "start_time": "2022-11-26T06:37:19.334Z"
   },
   {
    "duration": 3,
    "start_time": "2022-11-26T06:37:28.631Z"
   },
   {
    "duration": 16819,
    "start_time": "2022-11-26T06:37:34.615Z"
   },
   {
    "duration": 10925,
    "start_time": "2022-11-26T06:37:51.436Z"
   },
   {
    "duration": 3048,
    "start_time": "2022-11-26T06:38:05.775Z"
   },
   {
    "duration": 3114,
    "start_time": "2022-11-26T06:38:08.825Z"
   },
   {
    "duration": 3,
    "start_time": "2022-11-26T06:38:17.198Z"
   },
   {
    "duration": 2773,
    "start_time": "2022-11-26T06:38:18.127Z"
   },
   {
    "duration": 9,
    "start_time": "2022-11-26T06:38:24.751Z"
   },
   {
    "duration": 244,
    "start_time": "2022-11-26T06:38:27.487Z"
   },
   {
    "duration": 217,
    "start_time": "2022-11-26T06:38:30.318Z"
   },
   {
    "duration": 3,
    "start_time": "2022-11-26T06:38:36.486Z"
   },
   {
    "duration": 481,
    "start_time": "2022-11-26T06:38:36.982Z"
   },
   {
    "duration": 3,
    "start_time": "2022-11-26T06:38:38.887Z"
   },
   {
    "duration": 1063,
    "start_time": "2022-11-26T06:38:49.830Z"
   },
   {
    "duration": 251,
    "start_time": "2022-11-26T06:38:54.950Z"
   },
   {
    "duration": 6,
    "start_time": "2022-11-26T06:39:21.039Z"
   },
   {
    "duration": 128,
    "start_time": "2022-11-26T06:41:14.591Z"
   },
   {
    "duration": 230,
    "start_time": "2022-11-26T06:43:04.214Z"
   },
   {
    "duration": 120,
    "start_time": "2022-11-26T06:43:14.157Z"
   },
   {
    "duration": 147,
    "start_time": "2022-11-26T06:54:59.052Z"
   },
   {
    "duration": 86,
    "start_time": "2022-11-26T06:56:55.140Z"
   },
   {
    "duration": 262,
    "start_time": "2022-11-26T06:57:09.613Z"
   },
   {
    "duration": 178,
    "start_time": "2022-11-26T06:57:51.197Z"
   },
   {
    "duration": 2196,
    "start_time": "2022-11-26T07:27:14.337Z"
   },
   {
    "duration": 3069,
    "start_time": "2022-11-26T07:34:08.594Z"
   },
   {
    "duration": 3,
    "start_time": "2022-11-26T07:38:49.610Z"
   },
   {
    "duration": 266,
    "start_time": "2022-11-26T07:39:21.985Z"
   },
   {
    "duration": 2,
    "start_time": "2022-11-26T07:39:59.657Z"
   },
   {
    "duration": 166,
    "start_time": "2022-11-26T07:40:01.713Z"
   },
   {
    "duration": 3,
    "start_time": "2022-11-26T07:40:11.065Z"
   },
   {
    "duration": 256,
    "start_time": "2022-11-26T07:40:13.144Z"
   },
   {
    "duration": 9,
    "start_time": "2022-11-26T07:41:38.408Z"
   },
   {
    "duration": 42,
    "start_time": "2022-11-26T07:41:54.729Z"
   },
   {
    "duration": 454,
    "start_time": "2022-11-26T07:42:23.520Z"
   },
   {
    "duration": 13,
    "start_time": "2022-11-26T07:46:53.114Z"
   },
   {
    "duration": 346,
    "start_time": "2022-11-26T07:46:54.681Z"
   },
   {
    "duration": 110,
    "start_time": "2022-11-26T07:47:20.319Z"
   },
   {
    "duration": 491,
    "start_time": "2022-11-26T07:48:49.640Z"
   },
   {
    "duration": 467,
    "start_time": "2022-11-26T07:48:55.480Z"
   },
   {
    "duration": 568,
    "start_time": "2022-11-26T07:50:50.367Z"
   },
   {
    "duration": 248,
    "start_time": "2022-11-26T07:55:41.084Z"
   },
   {
    "duration": 9,
    "start_time": "2022-11-26T07:57:17.367Z"
   },
   {
    "duration": 13,
    "start_time": "2022-11-26T07:58:00.359Z"
   },
   {
    "duration": 629,
    "start_time": "2022-11-26T07:58:28.350Z"
   },
   {
    "duration": 2,
    "start_time": "2022-11-26T07:59:05.272Z"
   },
   {
    "duration": 5,
    "start_time": "2022-11-26T07:59:07.704Z"
   },
   {
    "duration": 2,
    "start_time": "2022-11-26T07:59:41.687Z"
   },
   {
    "duration": 5,
    "start_time": "2022-11-26T07:59:44.158Z"
   },
   {
    "duration": 2,
    "start_time": "2022-11-26T08:00:29.003Z"
   },
   {
    "duration": 386,
    "start_time": "2022-11-26T08:00:31.286Z"
   },
   {
    "duration": 16,
    "start_time": "2022-11-26T08:00:37.480Z"
   },
   {
    "duration": 11,
    "start_time": "2022-11-26T08:00:56.991Z"
   },
   {
    "duration": 445,
    "start_time": "2022-11-26T08:00:59.551Z"
   },
   {
    "duration": 75,
    "start_time": "2022-11-26T08:01:47.127Z"
   },
   {
    "duration": 1703,
    "start_time": "2022-11-26T08:10:01.694Z"
   },
   {
    "duration": 2,
    "start_time": "2022-11-26T08:10:03.399Z"
   },
   {
    "duration": 43,
    "start_time": "2022-11-26T08:10:03.404Z"
   },
   {
    "duration": 7901,
    "start_time": "2022-11-26T08:10:03.449Z"
   },
   {
    "duration": 3,
    "start_time": "2022-11-26T08:10:11.352Z"
   },
   {
    "duration": 17246,
    "start_time": "2022-11-26T08:10:11.356Z"
   },
   {
    "duration": 10613,
    "start_time": "2022-11-26T08:10:28.604Z"
   },
   {
    "duration": 2995,
    "start_time": "2022-11-26T08:10:39.219Z"
   },
   {
    "duration": 3187,
    "start_time": "2022-11-26T08:10:42.216Z"
   },
   {
    "duration": 4,
    "start_time": "2022-11-26T08:10:45.405Z"
   },
   {
    "duration": 2925,
    "start_time": "2022-11-26T08:10:45.411Z"
   },
   {
    "duration": 15,
    "start_time": "2022-11-26T08:10:48.338Z"
   },
   {
    "duration": 258,
    "start_time": "2022-11-26T08:10:48.356Z"
   },
   {
    "duration": 221,
    "start_time": "2022-11-26T08:10:48.616Z"
   },
   {
    "duration": 13,
    "start_time": "2022-11-26T08:10:48.839Z"
   },
   {
    "duration": 488,
    "start_time": "2022-11-26T08:10:48.854Z"
   },
   {
    "duration": 4,
    "start_time": "2022-11-26T08:10:49.344Z"
   },
   {
    "duration": 1074,
    "start_time": "2022-11-26T08:10:49.349Z"
   },
   {
    "duration": 6,
    "start_time": "2022-11-26T08:10:50.425Z"
   },
   {
    "duration": 214,
    "start_time": "2022-11-26T08:10:50.432Z"
   },
   {
    "duration": 6,
    "start_time": "2022-11-26T08:10:50.648Z"
   },
   {
    "duration": 593,
    "start_time": "2022-11-26T08:10:50.656Z"
   },
   {
    "duration": 3,
    "start_time": "2022-11-26T08:10:51.252Z"
   },
   {
    "duration": 189,
    "start_time": "2022-11-26T08:10:51.256Z"
   },
   {
    "duration": 3,
    "start_time": "2022-11-26T08:10:51.447Z"
   },
   {
    "duration": 263,
    "start_time": "2022-11-26T08:10:51.451Z"
   },
   {
    "duration": 14,
    "start_time": "2022-11-26T08:10:51.715Z"
   },
   {
    "duration": 588,
    "start_time": "2022-11-26T08:10:51.731Z"
   },
   {
    "duration": 3,
    "start_time": "2022-11-26T08:10:52.321Z"
   },
   {
    "duration": 275,
    "start_time": "2022-11-26T08:10:52.326Z"
   },
   {
    "duration": 12,
    "start_time": "2022-11-26T08:10:52.603Z"
   },
   {
    "duration": 562,
    "start_time": "2022-11-26T08:10:52.617Z"
   },
   {
    "duration": 4988,
    "start_time": "2022-11-26T08:10:53.181Z"
   },
   {
    "duration": 3652,
    "start_time": "2022-11-26T08:10:58.171Z"
   },
   {
    "duration": 2130,
    "start_time": "2022-11-26T08:11:01.825Z"
   },
   {
    "duration": 3,
    "start_time": "2022-11-26T08:11:03.957Z"
   },
   {
    "duration": 11312,
    "start_time": "2022-11-26T08:11:03.961Z"
   },
   {
    "duration": 132,
    "start_time": "2022-11-26T08:11:15.275Z"
   },
   {
    "duration": 40,
    "start_time": "2022-11-26T08:11:15.408Z"
   },
   {
    "duration": 34,
    "start_time": "2022-11-26T08:11:15.452Z"
   },
   {
    "duration": 48,
    "start_time": "2022-11-26T08:11:15.488Z"
   },
   {
    "duration": 43,
    "start_time": "2022-11-26T08:11:15.538Z"
   },
   {
    "duration": 38,
    "start_time": "2022-11-26T08:11:15.583Z"
   },
   {
    "duration": 45,
    "start_time": "2022-11-26T08:11:15.622Z"
   },
   {
    "duration": 37,
    "start_time": "2022-11-26T08:11:15.669Z"
   },
   {
    "duration": 39,
    "start_time": "2022-11-26T08:11:15.708Z"
   },
   {
    "duration": 43,
    "start_time": "2022-11-26T08:11:15.748Z"
   },
   {
    "duration": 31,
    "start_time": "2022-11-26T08:11:15.793Z"
   },
   {
    "duration": 22,
    "start_time": "2022-11-26T08:11:15.825Z"
   },
   {
    "duration": 29,
    "start_time": "2022-11-26T08:11:15.849Z"
   },
   {
    "duration": 25,
    "start_time": "2022-11-26T08:11:15.880Z"
   },
   {
    "duration": 126,
    "start_time": "2022-11-26T08:11:15.906Z"
   },
   {
    "duration": 60,
    "start_time": "2022-11-26T08:11:16.034Z"
   },
   {
    "duration": 4,
    "start_time": "2022-11-26T08:11:16.096Z"
   },
   {
    "duration": 142,
    "start_time": "2022-11-26T08:11:16.101Z"
   },
   {
    "duration": 167,
    "start_time": "2022-11-26T08:11:16.245Z"
   },
   {
    "duration": 57,
    "start_time": "2022-11-26T08:11:16.414Z"
   },
   {
    "duration": 58,
    "start_time": "2022-11-26T08:11:16.472Z"
   },
   {
    "duration": 20,
    "start_time": "2022-11-26T08:11:16.532Z"
   },
   {
    "duration": 9,
    "start_time": "2022-11-26T08:11:16.554Z"
   },
   {
    "duration": 19,
    "start_time": "2022-11-26T08:11:16.565Z"
   },
   {
    "duration": 47,
    "start_time": "2022-11-26T08:11:16.585Z"
   },
   {
    "duration": 58,
    "start_time": "2022-11-26T08:11:16.633Z"
   },
   {
    "duration": 34,
    "start_time": "2022-11-26T08:11:16.693Z"
   },
   {
    "duration": 26,
    "start_time": "2022-11-26T08:11:16.729Z"
   },
   {
    "duration": 24,
    "start_time": "2022-11-26T08:11:16.757Z"
   },
   {
    "duration": 10,
    "start_time": "2022-11-26T08:11:16.783Z"
   },
   {
    "duration": 669,
    "start_time": "2022-11-26T08:11:16.794Z"
   },
   {
    "duration": 9,
    "start_time": "2022-11-26T08:11:17.466Z"
   },
   {
    "duration": 3,
    "start_time": "2022-11-26T08:11:17.477Z"
   },
   {
    "duration": 21,
    "start_time": "2022-11-26T08:11:17.481Z"
   },
   {
    "duration": 26,
    "start_time": "2022-11-26T08:11:17.504Z"
   },
   {
    "duration": 36,
    "start_time": "2022-11-26T08:11:17.532Z"
   },
   {
    "duration": 3684,
    "start_time": "2022-11-26T08:11:17.570Z"
   },
   {
    "duration": 28136,
    "start_time": "2022-11-26T08:11:21.256Z"
   },
   {
    "duration": 1990566,
    "start_time": "2022-11-26T08:11:49.394Z"
   },
   {
    "duration": 12811,
    "start_time": "2022-11-26T08:44:59.961Z"
   },
   {
    "duration": 68204,
    "start_time": "2022-11-26T08:45:12.774Z"
   },
   {
    "duration": 4,
    "start_time": "2022-11-26T08:46:20.980Z"
   },
   {
    "duration": 44401,
    "start_time": "2022-11-26T08:46:20.986Z"
   },
   {
    "duration": 0,
    "start_time": "2022-11-26T08:47:05.389Z"
   },
   {
    "duration": 0,
    "start_time": "2022-11-26T08:47:05.390Z"
   },
   {
    "duration": 0,
    "start_time": "2022-11-26T08:47:05.392Z"
   },
   {
    "duration": 0,
    "start_time": "2022-11-26T08:47:05.393Z"
   },
   {
    "duration": 0,
    "start_time": "2022-11-26T08:47:05.394Z"
   },
   {
    "duration": 0,
    "start_time": "2022-11-26T08:47:05.395Z"
   },
   {
    "duration": 22,
    "start_time": "2022-11-26T08:47:09.395Z"
   },
   {
    "duration": 249,
    "start_time": "2022-11-26T08:47:23.068Z"
   },
   {
    "duration": 9,
    "start_time": "2022-11-26T08:47:27.187Z"
   },
   {
    "duration": 122,
    "start_time": "2022-11-26T08:47:28.605Z"
   },
   {
    "duration": 7,
    "start_time": "2022-11-26T08:47:33.428Z"
   },
   {
    "duration": 261,
    "start_time": "2022-11-26T08:47:34.500Z"
   }
  ],
  "kernelspec": {
   "display_name": "Python 3",
   "language": "python",
   "name": "python3"
  },
  "language_info": {
   "codemirror_mode": {
    "name": "ipython",
    "version": 3
   },
   "file_extension": ".py",
   "mimetype": "text/x-python",
   "name": "python",
   "nbconvert_exporter": "python",
   "pygments_lexer": "ipython3",
   "version": "3.9.2"
  },
  "toc": {
   "base_numbering": 1,
   "nav_menu": {},
   "number_sections": false,
   "sideBar": true,
   "skip_h1_title": false,
   "title_cell": "Table of Contents",
   "title_sidebar": "Contents",
   "toc_cell": false,
   "toc_position": {},
   "toc_section_display": true,
   "toc_window_display": false
  },
  "varInspector": {
   "cols": {
    "lenName": 16,
    "lenType": 16,
    "lenVar": 40
   },
   "kernels_config": {
    "python": {
     "delete_cmd_postfix": "",
     "delete_cmd_prefix": "del ",
     "library": "var_list.py",
     "varRefreshCmd": "print(var_dic_list())"
    },
    "r": {
     "delete_cmd_postfix": ") ",
     "delete_cmd_prefix": "rm(",
     "library": "var_list.r",
     "varRefreshCmd": "cat(var_dic_list()) "
    }
   },
   "types_to_exclude": [
    "module",
    "function",
    "builtin_function_or_method",
    "instance",
    "_Feature"
   ],
   "window_display": false
  }
 },
 "nbformat": 4,
 "nbformat_minor": 5
}
