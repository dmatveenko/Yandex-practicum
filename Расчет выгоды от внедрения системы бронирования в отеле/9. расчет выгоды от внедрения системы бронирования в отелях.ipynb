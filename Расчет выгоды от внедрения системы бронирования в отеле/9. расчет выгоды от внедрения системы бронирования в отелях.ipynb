{
 "cells": [
  {
   "cell_type": "markdown",
   "metadata": {},
   "source": [
    "<font color='blue' size=5><b>Комментарий ревьюера</b></font>\n",
    "\n",
    "<font color='blue'>Привет! Меня зовут Никита Бережнов, и я буду проверять твой проект. Спасибо за проделанную работу! Предлагаю общаться на «ты». Моя основная цель поделиться своим опытом и помочь тебе стать профессионалом в IT сфере.</font>\n",
    "\n",
    "<font color='blue'>Я буду использовать различные цвета, чтобы было удобнее воспринимать мои комментарии:</font>\n",
    "\n",
    "\n",
    "---\n",
    "\n",
    "<div class=\"alert alert-block alert-success\">\n",
    "<b>✔️ Комментарий ревьюера: </b> Все отлично\n",
    "</div>\n",
    "\n",
    "<div class=\"alert alert-block alert-warning\">\n",
    "<b>⚠️ Комментарий ревьюера: </b> Сделано все правильно, однако есть рекомендации, на что стоит обратить внимание\n",
    "</div>\n",
    "\n",
    "<div class=\"alert alert-block alert-danger\">\n",
    "<b>❌ Комментарий ревьюера: </b> Есть недочеты, без их отработки проект не будет принят\n",
    "</div>\n",
    "\n",
    "---\n",
    "\n",
    "<font color='blue'>Пожалуйста, не удаляй мои комментарии в случае возврата работы, так будет проще разобраться, какие были недочеты, а также сразу увидеть исправленное. </font>\n",
    "\n",
    "<font color='blue'>Давай работать над проектом в диалоге: если ты что-то меняешь в проекте или отвечаешь на мои комментарии - пиши об этом. Мне будет легче отследить изменения, если ты выделишь свои комментарии:</font>\n",
    "\n",
    "<div class=\"alert alert-block alert-info\">\n",
    "<b>Комментарий студента:</b> Например, вот так.\n",
    "</div>\n",
    "\n",
    "<font color='blue'><b>Давай смотреть, что получилось!</b></font>\n"
   ]
  },
  {
   "cell_type": "markdown",
   "metadata": {},
   "source": [
    "<div class=\"alert alert-block alert-success\">\n",
    "<b>✔️ Комментарий ревьюера: </b> Хорошая работа. Использованы различные модели машинного обучения и проведено их сравнение. Увидел выводы к каждому этапу работы. Но есть маленькие недочёты. Их нужно исправить. \n",
    "Осталось совсем чуть-чуть. Всегда готов ответить на твои вопросы.\n",
    "</div>"
   ]
  },
  {
   "cell_type": "markdown",
   "metadata": {},
   "source": [
    "<div class=\"alert alert-block alert-info\">\n",
    "<b>Комментарий студента:</b> Здравствуй, Никита! Благодарю тебя за твое ревью, годные статьи и объяснения. Постарался поправить все ошибки/недочеты, хотя кое-что по-прежнему не понимаю. Жду твоей обратной связи на мои исправления.\n",
    "</div>"
   ]
  },
  {
   "cell_type": "markdown",
   "metadata": {},
   "source": [
    "<div class=\"alert alert-block alert-success\">\n",
    "<b>✔️ Комментарий ревьюера v2: </b>Спасибо за интерес к проекту. Недочёты исправлены, работа принята. Желаю дальнейших успехов и карьерного роста!\n",
    "</div>"
   ]
  },
  {
   "cell_type": "markdown",
   "metadata": {},
   "source": [
    "<div class=\"alert alert-block alert-info\">\n",
    "<b>Комментарий студента:</b> При всем уважении к Яндексу, теории маловато. Приходится многое дочитывать. Например, не до конца понял, почему нельзя сравнивать метрики на тестовых и тренировочных данных. И еще: думал, кросс-валидация обучает модель, а оказалость - нет. я скорее всего где-то ошибаюсь. Далее по тексту написал, в своих комментариях к твоему критическому замечанию. Я вот что думаю: у тебя, опытного бойца, наверняка есть в арсенале еще статьи, в том числе и по метрикам. насыпь мне их немного, а? И статьям по другим темам буду рад тоже. И еще вопрос: при составлении типичного портрета нерадивого бронировщика номера я пользовался примитивным частотным анализом, но наверняка у дата-сайентистов есть арсенал более продвинутых методов! Подскажи, пожалуйста, куда мне здесь копать. Спасибо! Денис.\n",
    "</div>"
   ]
  },
  {
   "cell_type": "markdown",
   "metadata": {},
   "source": [
    "<div class=\"alert alert-block alert-success\">\n",
    "<b>✔️ Комментарий ревьюера v2: </b> Начнём по-порядку.\n",
    "\n",
    "Согласен, что иногда теории не хватает или же она дана кусками и поверхностно. Для полноценной картины предлагаю несколько ссылок на электронные ресурсы и учебники:\n",
    "\n",
    "От себя реокмендую: Машинное обучение с использованием Python. Сборник рецептов\n",
    "    \n",
    "Целый пост на хабре со списком литературы: https://habr.com/ru/post/464871/\n",
    "    \n",
    "Учебник ШАД: https://ml-handbook.ru\n",
    "    \n",
    "Пригодится в дальнейшем Франсуа Шолле, Глубокое обучение на python https://vk.com/wall-51126445_44259 \n",
    "\n",
    "<b>Метрики</b> Одна из основных проблем машинного обучения - переобучение. Модель подстраивается под обучающие данные и выдаёт на них хороший результат. Однако в реальных условиях, на незнакомых данных модель может выдать очень низкую точность. \n",
    "\n",
    "Именно поэтому данные разделяются на три выборки:\n",
    "\n",
    "Обучающая используется, понятное дело, для обучения.\n",
    "\n",
    "Валидационная для подбора и настройки параметров модели (в данном случае вместо неё у тебя используется кросс-валидация)\n",
    "\n",
    "Тестовая выборка - совершенно не знакомые для модели данные. Она не используется при обучении и подборе параметров. Только с помощью неё можно определять эффективность работы модели и сравнивать различные модели между собой.\n",
    "    \n",
    "Метрики, как ты понял, бывают разные. Они различны для задач регрессии и классификации. Кидаю пару статей на эту тему, обычно достаточно их в 90 процентах случаев:\n",
    "    \n",
    "https://nplus1.ru/material/2020/03/27/course-data-science-chapter-6\n",
    " \n",
    "https://habr.com/ru/company/ods/blog/328372/\n",
    "    \n",
    "<b>По поводу нерадивого бронировщика.</b> Считаю, что данная задача относиться больше к анализу данных. Здесь не нужно ничего классифицировать и предсказывать, только анализировать сами данные. Предлагаю усилить исследование статистическим анализом, корреляционным анализом, визуальным анализом: построить графики распределений и сравнить их между собой. \n",
    "Вот несколько статей о том, как это делают другие:\n",
    "    \n",
    "https://tproger.ru/translations/feature-engineering-in-machine-learning/\n",
    "    \n",
    "https://newtechaudit.ru/osobennosti-sozdaniya-priznakov-v-ml/\n",
    "    \n",
    "https://habr.com/ru/post/550978/   \n",
    "</div>"
   ]
  },
  {
   "cell_type": "markdown",
   "metadata": {},
   "source": [
    "# Прогнозирование оттока клиентов в сети отелей «Как в гостях»"
   ]
  },
  {
   "cell_type": "markdown",
   "metadata": {},
   "source": [
    "Цель данного исследования - используя исторические данные, определить целесообразность внедрения модели машинного обучения, предсказывающей отмену потенциальным клиентом бронирования номера в сети отелей \"Как в гостях\". Клиентам, которых модель определит как потенциальных \"отказников\" от брони, будет предложено внести депозит, который останется на счету отеля в случае реальной отмены брони клиентом. Для определения целесообразности обучена прогнозирующая модель, определена разность прибылей с внедрением системы и без внедрения системы. Данная разность прибылей, рассчитанная на реальных исторических данных, с лихвой превысила затраты на разработку и внедрение системы, что позволяет рекомендовать внедрение модели в вышеобозначенной сети отелей."
   ]
  },
  {
   "cell_type": "markdown",
   "metadata": {},
   "source": [
    "<div class=\"alert alert-block alert-danger\">\n",
    "<b>❌ Комментарий ревьюера: </b> Хоть это и учебный проект, предлагаю оформлять его максимально приближенно к реальным бизнес-задачам. \n",
    "Нужно как минимум описание и постановка задачи (будет круто, если ты опишешь ее своими словами) и обозначение целей. \n",
    "</div>"
   ]
  },
  {
   "cell_type": "markdown",
   "metadata": {},
   "source": [
    "<div class=\"alert alert-block alert-info\">\n",
    "<b>Комментарий студента:</b> Выполнено.\n",
    "</div>\n"
   ]
  },
  {
   "cell_type": "markdown",
   "metadata": {},
   "source": [
    "<div class=\"alert alert-block alert-success\">\n",
    "<b>✔️ Комментарий ревьюера v2: </b> 👍\n",
    "</div>\n"
   ]
  },
  {
   "cell_type": "markdown",
   "metadata": {},
   "source": [
    "### Шаг 1. Откройте файлы с данными"
   ]
  },
  {
   "cell_type": "markdown",
   "metadata": {},
   "source": [
    "Импорт необходимых библиотек:"
   ]
  },
  {
   "cell_type": "code",
   "execution_count": 1,
   "metadata": {},
   "outputs": [],
   "source": [
    "import pandas as pd\n",
    "import datetime\n",
    "from datetime import timedelta\n",
    "from sklearn.linear_model import LogisticRegression\n",
    "from sklearn.ensemble import RandomForestClassifier\n",
    "from sklearn.tree import DecisionTreeClassifier\n",
    "from sklearn.model_selection import cross_val_score\n",
    "from sklearn.metrics import f1_score\n",
    "from sklearn.metrics import accuracy_score\n",
    "from sklearn.utils import shuffle\n",
    "from sklearn.preprocessing import OrdinalEncoder\n",
    "from sklearn.preprocessing import OneHotEncoder\n",
    "from sklearn.preprocessing import StandardScaler"
   ]
  },
  {
   "cell_type": "code",
   "execution_count": 2,
   "metadata": {},
   "outputs": [],
   "source": [
    "import numpy as np"
   ]
  },
  {
   "cell_type": "code",
   "execution_count": 3,
   "metadata": {},
   "outputs": [],
   "source": [
    "features_train = np.load('/datasets/fashion_mnist/train_features.npy')\n",
    "target_train = np.load('/datasets/fashion_mnist/train_target.npy')\n",
    "features_test = np.load('/datasets/fashion_mnist/test_features.npy')\n",
    "target_test = np.load('/datasets/fashion_mnist/test_target.npy')"
   ]
  },
  {
   "cell_type": "markdown",
   "metadata": {},
   "source": [
    "data_train и data_test будут использоваться для обработки, кодирования, масштабирования и последующего обучения модели. train и test будут использоваться для расчета прибылей и подготовки выводов."
   ]
  },
  {
   "cell_type": "code",
   "execution_count": 4,
   "metadata": {},
   "outputs": [],
   "source": [
    "try:\n",
    "    train = pd.read_csv('/datasets/hotel_train.csv')\n",
    "    data_train = pd.read_csv('/datasets/hotel_train.csv')\n",
    "    test = pd.read_csv('/datasets/hotel_test.csv')\n",
    "    data_test = pd.read_csv('/datasets/hotel_test.csv')\n",
    "except Exception as e:\n",
    "    print('ERROR:',e.args)"
   ]
  },
  {
   "cell_type": "markdown",
   "metadata": {},
   "source": [
    "ddd = pd.read_csv('./datasets/test_data.csv')\n",
    "ddd.to_csv('./datasets/test_data1.csv')"
   ]
  },
  {
   "cell_type": "markdown",
   "metadata": {},
   "source": [
    "<div class=\"alert alert-block alert-warning\">\n",
    "<b>⚠️ Комментарий ревьюера: </b> Лучше в блоке except бросать исключение. Так как сейчас будет, выведен ERROR и программа свалиться  ошибкой где-то дальше. В некоторых случаях отследить это будет трудно\n",
    "</div>"
   ]
  },
  {
   "cell_type": "markdown",
   "metadata": {},
   "source": [
    "<div class=\"alert alert-block alert-info\">\n",
    "<b>Комментарий студента:</b> Выполнено.\n",
    "</div>"
   ]
  },
  {
   "cell_type": "markdown",
   "metadata": {},
   "source": [
    "Функция для первичного изучения датафреймов:"
   ]
  },
  {
   "cell_type": "code",
   "execution_count": 5,
   "metadata": {},
   "outputs": [],
   "source": [
    "def first_description(data):\n",
    "    print('==================Первые 5 строк данных====================')\n",
    "    print(data.head())\n",
    "    print('===========Первичная информация о данных данных============')\n",
    "    print(data.info())\n",
    "    print('==============Первичная статистика по данным===============')\n",
    "    print(data.describe().T)"
   ]
  },
  {
   "cell_type": "markdown",
   "metadata": {},
   "source": [
    "<div class=\"alert alert-block alert-success\">\n",
    "<b>✔️ Комментарий ревьюера: </b> Правильно, что используешь функцию\n",
    "</div>"
   ]
  },
  {
   "cell_type": "code",
   "execution_count": 6,
   "metadata": {
    "scrolled": true
   },
   "outputs": [
    {
     "name": "stdout",
     "output_type": "stream",
     "text": [
      "==================Первые 5 строк данных====================\n",
      "   id  is_canceled  lead_time  arrival_date_year arrival_date_month  \\\n",
      "0   0            0        7.0               2015               July   \n",
      "1   1            0       14.0               2015               July   \n",
      "2   2            0        0.0               2015               July   \n",
      "3   3            0        9.0               2015               July   \n",
      "4   4            1       85.0               2015               July   \n",
      "\n",
      "   arrival_date_week_number  arrival_date_day_of_month  \\\n",
      "0                        27                          1   \n",
      "1                        27                          1   \n",
      "2                        27                          1   \n",
      "3                        27                          1   \n",
      "4                        27                          1   \n",
      "\n",
      "   stays_in_weekend_nights  stays_in_week_nights  adults  ...  \\\n",
      "0                        0                     1     1.0  ...   \n",
      "1                        0                     2     2.0  ...   \n",
      "2                        0                     2     2.0  ...   \n",
      "3                        0                     2     2.0  ...   \n",
      "4                        0                     3     2.0  ...   \n",
      "\n",
      "   is_repeated_guest  previous_cancellations previous_bookings_not_canceled  \\\n",
      "0                  0                       0                              0   \n",
      "1                  0                       0                              0   \n",
      "2                  0                       0                              0   \n",
      "3                  0                       0                              0   \n",
      "4                  0                       0                              0   \n",
      "\n",
      "  reserved_room_type booking_changes  days_in_waiting_list  customer_type  \\\n",
      "0   A                              0                     0      Transient   \n",
      "1   A                              0                     0      Transient   \n",
      "2   C                              0                     0      Transient   \n",
      "3   C                              0                     0      Transient   \n",
      "4   A                              0                     0      Transient   \n",
      "\n",
      "   required_car_parking_spaces total_of_special_requests  total_nights  \n",
      "0                            0                         0             1  \n",
      "1                            0                         1             2  \n",
      "2                            0                         0             2  \n",
      "3                            0                         1             2  \n",
      "4                            0                         1             3  \n",
      "\n",
      "[5 rows x 25 columns]\n",
      "===========Первичная информация о данных данных============\n",
      "<class 'pandas.core.frame.DataFrame'>\n",
      "RangeIndex: 65229 entries, 0 to 65228\n",
      "Data columns (total 25 columns):\n",
      " #   Column                          Non-Null Count  Dtype  \n",
      "---  ------                          --------------  -----  \n",
      " 0   id                              65229 non-null  int64  \n",
      " 1   is_canceled                     65229 non-null  int64  \n",
      " 2   lead_time                       65229 non-null  float64\n",
      " 3   arrival_date_year               65229 non-null  int64  \n",
      " 4   arrival_date_month              65229 non-null  object \n",
      " 5   arrival_date_week_number        65229 non-null  int64  \n",
      " 6   arrival_date_day_of_month       65229 non-null  int64  \n",
      " 7   stays_in_weekend_nights         65229 non-null  int64  \n",
      " 8   stays_in_week_nights            65229 non-null  int64  \n",
      " 9   adults                          65229 non-null  float64\n",
      " 10  children                        65229 non-null  float64\n",
      " 11  babies                          65229 non-null  float64\n",
      " 12  meal                            65229 non-null  object \n",
      " 13  country                         65229 non-null  object \n",
      " 14  distribution_channel            65229 non-null  object \n",
      " 15  is_repeated_guest               65229 non-null  int64  \n",
      " 16  previous_cancellations          65229 non-null  int64  \n",
      " 17  previous_bookings_not_canceled  65229 non-null  int64  \n",
      " 18  reserved_room_type              65229 non-null  object \n",
      " 19  booking_changes                 65229 non-null  int64  \n",
      " 20  days_in_waiting_list            65229 non-null  int64  \n",
      " 21  customer_type                   65229 non-null  object \n",
      " 22  required_car_parking_spaces     65229 non-null  int64  \n",
      " 23  total_of_special_requests       65229 non-null  int64  \n",
      " 24  total_nights                    65229 non-null  int64  \n",
      "dtypes: float64(4), int64(15), object(6)\n",
      "memory usage: 12.4+ MB\n",
      "None\n",
      "==============Первичная статистика по данным===============\n",
      "                                  count          mean           std     min  \\\n",
      "id                              65229.0  43544.069172  25614.858971     0.0   \n",
      "is_canceled                     65229.0      0.368609      0.482431     0.0   \n",
      "lead_time                       65229.0     96.337917     96.127545     0.0   \n",
      "arrival_date_year               65229.0   2015.719021      0.449481  2015.0   \n",
      "arrival_date_week_number        65229.0     31.339772     13.464024     1.0   \n",
      "arrival_date_day_of_month       65229.0     15.847813      8.748182     1.0   \n",
      "stays_in_weekend_nights         65229.0      0.825185      0.853477     0.0   \n",
      "stays_in_week_nights            65229.0      2.224793      1.354992     0.0   \n",
      "adults                          65229.0      1.836576      0.480245     0.0   \n",
      "children                        65229.0      0.074890      0.334243     0.0   \n",
      "babies                          65229.0      0.007236      0.098790     0.0   \n",
      "is_repeated_guest               65229.0      0.027151      0.162523     0.0   \n",
      "previous_cancellations          65229.0      0.128915      0.965326     0.0   \n",
      "previous_bookings_not_canceled  65229.0      0.107713      1.326638     0.0   \n",
      "booking_changes                 65229.0      0.194269      0.593838     0.0   \n",
      "days_in_waiting_list            65229.0      3.334422     18.239606     0.0   \n",
      "required_car_parking_spaces     65229.0      0.056647      0.232094     0.0   \n",
      "total_of_special_requests       65229.0      0.512763      0.752590     0.0   \n",
      "total_nights                    65229.0      3.049978      1.738108     1.0   \n",
      "\n",
      "                                    25%      50%      75%      max  \n",
      "id                              19108.0  40554.0  67414.0  84121.0  \n",
      "is_canceled                         0.0      0.0      1.0      1.0  \n",
      "lead_time                          17.0     64.0    151.0    374.0  \n",
      "arrival_date_year                2015.0   2016.0   2016.0   2016.0  \n",
      "arrival_date_week_number           21.0     34.0     42.0     53.0  \n",
      "arrival_date_day_of_month           8.0     16.0     23.0     31.0  \n",
      "stays_in_weekend_nights             0.0      1.0      2.0      4.0  \n",
      "stays_in_week_nights                1.0      2.0      3.0      6.0  \n",
      "adults                              2.0      2.0      2.0      4.0  \n",
      "children                            0.0      0.0      0.0      3.0  \n",
      "babies                              0.0      0.0      0.0     10.0  \n",
      "is_repeated_guest                   0.0      0.0      0.0      1.0  \n",
      "previous_cancellations              0.0      0.0      0.0     26.0  \n",
      "previous_bookings_not_canceled      0.0      0.0      0.0     58.0  \n",
      "booking_changes                     0.0      0.0      0.0     17.0  \n",
      "days_in_waiting_list                0.0      0.0      0.0    259.0  \n",
      "required_car_parking_spaces         0.0      0.0      0.0      3.0  \n",
      "total_of_special_requests           0.0      0.0      1.0      5.0  \n",
      "total_nights                        2.0      3.0      4.0     10.0  \n"
     ]
    }
   ],
   "source": [
    "first_description(train)"
   ]
  },
  {
   "cell_type": "code",
   "execution_count": 7,
   "metadata": {
    "scrolled": true
   },
   "outputs": [
    {
     "name": "stdout",
     "output_type": "stream",
     "text": [
      "==================Первые 5 строк данных====================\n",
      "     id  is_canceled  lead_time  arrival_date_year arrival_date_month  \\\n",
      "0  6086            1       74.0               2017            January   \n",
      "1  6087            1       62.0               2017            January   \n",
      "2  6088            1       62.0               2017            January   \n",
      "3  6089            1       71.0               2017            January   \n",
      "4  6090            1      172.0               2017            January   \n",
      "\n",
      "   arrival_date_week_number  arrival_date_day_of_month  \\\n",
      "0                         1                          1   \n",
      "1                         1                          1   \n",
      "2                         1                          1   \n",
      "3                         1                          1   \n",
      "4                         1                          1   \n",
      "\n",
      "   stays_in_weekend_nights  stays_in_week_nights  adults  ...  \\\n",
      "0                        1                     0     2.0  ...   \n",
      "1                        2                     2     2.0  ...   \n",
      "2                        2                     2     2.0  ...   \n",
      "3                        2                     2     1.0  ...   \n",
      "4                        2                     5     2.0  ...   \n",
      "\n",
      "   is_repeated_guest  previous_cancellations previous_bookings_not_canceled  \\\n",
      "0                  0                       0                              0   \n",
      "1                  0                       0                              0   \n",
      "2                  0                       0                              0   \n",
      "3                  0                       0                              0   \n",
      "4                  0                       0                              0   \n",
      "\n",
      "  reserved_room_type booking_changes  days_in_waiting_list  customer_type  \\\n",
      "0   A                              0                     0      Transient   \n",
      "1   A                              0                     0      Transient   \n",
      "2   A                              0                     0      Transient   \n",
      "3   A                              0                     0      Transient   \n",
      "4   A                              0                     0      Transient   \n",
      "\n",
      "   required_car_parking_spaces total_of_special_requests  total_nights  \n",
      "0                            0                         0             1  \n",
      "1                            0                         1             4  \n",
      "2                            0                         1             4  \n",
      "3                            0                         1             4  \n",
      "4                            0                         0             7  \n",
      "\n",
      "[5 rows x 25 columns]\n",
      "===========Первичная информация о данных данных============\n",
      "<class 'pandas.core.frame.DataFrame'>\n",
      "RangeIndex: 32412 entries, 0 to 32411\n",
      "Data columns (total 25 columns):\n",
      " #   Column                          Non-Null Count  Dtype  \n",
      "---  ------                          --------------  -----  \n",
      " 0   id                              32412 non-null  int64  \n",
      " 1   is_canceled                     32412 non-null  int64  \n",
      " 2   lead_time                       32412 non-null  float64\n",
      " 3   arrival_date_year               32412 non-null  int64  \n",
      " 4   arrival_date_month              32412 non-null  object \n",
      " 5   arrival_date_week_number        32412 non-null  int64  \n",
      " 6   arrival_date_day_of_month       32412 non-null  int64  \n",
      " 7   stays_in_weekend_nights         32412 non-null  int64  \n",
      " 8   stays_in_week_nights            32412 non-null  int64  \n",
      " 9   adults                          32412 non-null  float64\n",
      " 10  children                        32412 non-null  float64\n",
      " 11  babies                          32412 non-null  float64\n",
      " 12  meal                            32412 non-null  object \n",
      " 13  country                         32412 non-null  object \n",
      " 14  distribution_channel            32412 non-null  object \n",
      " 15  is_repeated_guest               32412 non-null  int64  \n",
      " 16  previous_cancellations          32412 non-null  int64  \n",
      " 17  previous_bookings_not_canceled  32412 non-null  int64  \n",
      " 18  reserved_room_type              32412 non-null  object \n",
      " 19  booking_changes                 32412 non-null  int64  \n",
      " 20  days_in_waiting_list            32412 non-null  int64  \n",
      " 21  customer_type                   32412 non-null  object \n",
      " 22  required_car_parking_spaces     32412 non-null  int64  \n",
      " 23  total_of_special_requests       32412 non-null  int64  \n",
      " 24  total_nights                    32412 non-null  int64  \n",
      "dtypes: float64(4), int64(15), object(6)\n",
      "memory usage: 6.2+ MB\n",
      "None\n",
      "==============Первичная статистика по данным===============\n",
      "                                  count          mean           std     min  \\\n",
      "id                              32412.0  60131.505183  29953.586177  6086.0   \n",
      "is_canceled                     32412.0      0.388467      0.487409     0.0   \n",
      "lead_time                       32412.0     97.587869     86.507146     0.0   \n",
      "arrival_date_year               32412.0   2017.000000      0.000000  2017.0   \n",
      "arrival_date_week_number        32412.0     17.804054      9.177384     1.0   \n",
      "arrival_date_day_of_month       32412.0     15.656948      8.766429     1.0   \n",
      "stays_in_weekend_nights         32412.0      0.867888      0.853394     0.0   \n",
      "stays_in_week_nights            32412.0      2.340090      1.375170     0.0   \n",
      "adults                          32412.0      1.858602      0.489341     0.0   \n",
      "children                        32412.0      0.083765      0.343470     0.0   \n",
      "babies                          32412.0      0.005523      0.075757     0.0   \n",
      "is_repeated_guest               32412.0      0.031377      0.174338     0.0   \n",
      "previous_cancellations          32412.0      0.011601      0.180473     0.0   \n",
      "previous_bookings_not_canceled  32412.0      0.171418      1.875170     0.0   \n",
      "booking_changes                 32412.0      0.216741      0.640551     0.0   \n",
      "days_in_waiting_list            32412.0      0.262341      4.733027     0.0   \n",
      "required_car_parking_spaces     32412.0      0.046248      0.219367     0.0   \n",
      "total_of_special_requests       32412.0      0.657781      0.834341     0.0   \n",
      "total_nights                    32412.0      3.207979      1.738683     1.0   \n",
      "\n",
      "                                     25%      50%       75%      max  \n",
      "id                              45291.75  53394.5  89800.25  97903.0  \n",
      "is_canceled                         0.00      0.0      1.00      1.0  \n",
      "lead_time                          23.00     76.0    155.00    373.0  \n",
      "arrival_date_year                2017.00   2017.0   2017.00   2017.0  \n",
      "arrival_date_week_number           10.00     18.0     25.00     35.0  \n",
      "arrival_date_day_of_month           8.00     15.5     23.00     31.0  \n",
      "stays_in_weekend_nights             0.00      1.0      2.00      4.0  \n",
      "stays_in_week_nights                1.00      2.0      3.00      6.0  \n",
      "adults                              2.00      2.0      2.00      4.0  \n",
      "children                            0.00      0.0      0.00      3.0  \n",
      "babies                              0.00      0.0      0.00      2.0  \n",
      "is_repeated_guest                   0.00      0.0      0.00      1.0  \n",
      "previous_cancellations              0.00      0.0      0.00      6.0  \n",
      "previous_bookings_not_canceled      0.00      0.0      0.00     72.0  \n",
      "booking_changes                     0.00      0.0      0.00     18.0  \n",
      "days_in_waiting_list                0.00      0.0      0.00    223.0  \n",
      "required_car_parking_spaces         0.00      0.0      0.00      8.0  \n",
      "total_of_special_requests           0.00      0.0      1.00      5.0  \n",
      "total_nights                        2.00      3.0      4.00     10.0  \n"
     ]
    }
   ],
   "source": [
    "first_description(test)"
   ]
  },
  {
   "cell_type": "markdown",
   "metadata": {},
   "source": [
    "### Шаг 2. Предобработка и исследовательский анализ данных"
   ]
  },
  {
   "cell_type": "markdown",
   "metadata": {},
   "source": [
    "В столбце 'reserved_room_type' - лишние пробелы. С ними мои функции расчета прибыли, определенные далее, не работают. Предлагается лишние пробелы удалить в обоих датафреймах."
   ]
  },
  {
   "cell_type": "code",
   "execution_count": 8,
   "metadata": {},
   "outputs": [],
   "source": [
    "data_train['reserved_room_type'] = data_train['reserved_room_type'].str.strip()\n",
    "data_test['reserved_room_type'] = data_test['reserved_room_type'].str.strip()\n",
    "train['reserved_room_type'] = train['reserved_room_type'].str.strip()\n",
    "test['reserved_room_type'] = test['reserved_room_type'].str.strip()"
   ]
  },
  {
   "cell_type": "markdown",
   "metadata": {},
   "source": [
    "удаление id как не несущего для целей обучения информации:"
   ]
  },
  {
   "cell_type": "code",
   "execution_count": 9,
   "metadata": {
    "scrolled": false
   },
   "outputs": [
    {
     "data": {
      "text/html": [
       "<div>\n",
       "<style scoped>\n",
       "    .dataframe tbody tr th:only-of-type {\n",
       "        vertical-align: middle;\n",
       "    }\n",
       "\n",
       "    .dataframe tbody tr th {\n",
       "        vertical-align: top;\n",
       "    }\n",
       "\n",
       "    .dataframe thead th {\n",
       "        text-align: right;\n",
       "    }\n",
       "</style>\n",
       "<table border=\"1\" class=\"dataframe\">\n",
       "  <thead>\n",
       "    <tr style=\"text-align: right;\">\n",
       "      <th></th>\n",
       "      <th>is_canceled</th>\n",
       "      <th>lead_time</th>\n",
       "      <th>arrival_date_year</th>\n",
       "      <th>arrival_date_month</th>\n",
       "      <th>arrival_date_week_number</th>\n",
       "      <th>arrival_date_day_of_month</th>\n",
       "      <th>stays_in_weekend_nights</th>\n",
       "      <th>stays_in_week_nights</th>\n",
       "      <th>adults</th>\n",
       "      <th>children</th>\n",
       "      <th>...</th>\n",
       "      <th>is_repeated_guest</th>\n",
       "      <th>previous_cancellations</th>\n",
       "      <th>previous_bookings_not_canceled</th>\n",
       "      <th>reserved_room_type</th>\n",
       "      <th>booking_changes</th>\n",
       "      <th>days_in_waiting_list</th>\n",
       "      <th>customer_type</th>\n",
       "      <th>required_car_parking_spaces</th>\n",
       "      <th>total_of_special_requests</th>\n",
       "      <th>total_nights</th>\n",
       "    </tr>\n",
       "  </thead>\n",
       "  <tbody>\n",
       "    <tr>\n",
       "      <th>0</th>\n",
       "      <td>0</td>\n",
       "      <td>7.0</td>\n",
       "      <td>2015</td>\n",
       "      <td>July</td>\n",
       "      <td>27</td>\n",
       "      <td>1</td>\n",
       "      <td>0</td>\n",
       "      <td>1</td>\n",
       "      <td>1.0</td>\n",
       "      <td>0.0</td>\n",
       "      <td>...</td>\n",
       "      <td>0</td>\n",
       "      <td>0</td>\n",
       "      <td>0</td>\n",
       "      <td>A</td>\n",
       "      <td>0</td>\n",
       "      <td>0</td>\n",
       "      <td>Transient</td>\n",
       "      <td>0</td>\n",
       "      <td>0</td>\n",
       "      <td>1</td>\n",
       "    </tr>\n",
       "    <tr>\n",
       "      <th>1</th>\n",
       "      <td>0</td>\n",
       "      <td>14.0</td>\n",
       "      <td>2015</td>\n",
       "      <td>July</td>\n",
       "      <td>27</td>\n",
       "      <td>1</td>\n",
       "      <td>0</td>\n",
       "      <td>2</td>\n",
       "      <td>2.0</td>\n",
       "      <td>0.0</td>\n",
       "      <td>...</td>\n",
       "      <td>0</td>\n",
       "      <td>0</td>\n",
       "      <td>0</td>\n",
       "      <td>A</td>\n",
       "      <td>0</td>\n",
       "      <td>0</td>\n",
       "      <td>Transient</td>\n",
       "      <td>0</td>\n",
       "      <td>1</td>\n",
       "      <td>2</td>\n",
       "    </tr>\n",
       "    <tr>\n",
       "      <th>2</th>\n",
       "      <td>0</td>\n",
       "      <td>0.0</td>\n",
       "      <td>2015</td>\n",
       "      <td>July</td>\n",
       "      <td>27</td>\n",
       "      <td>1</td>\n",
       "      <td>0</td>\n",
       "      <td>2</td>\n",
       "      <td>2.0</td>\n",
       "      <td>0.0</td>\n",
       "      <td>...</td>\n",
       "      <td>0</td>\n",
       "      <td>0</td>\n",
       "      <td>0</td>\n",
       "      <td>C</td>\n",
       "      <td>0</td>\n",
       "      <td>0</td>\n",
       "      <td>Transient</td>\n",
       "      <td>0</td>\n",
       "      <td>0</td>\n",
       "      <td>2</td>\n",
       "    </tr>\n",
       "    <tr>\n",
       "      <th>3</th>\n",
       "      <td>0</td>\n",
       "      <td>9.0</td>\n",
       "      <td>2015</td>\n",
       "      <td>July</td>\n",
       "      <td>27</td>\n",
       "      <td>1</td>\n",
       "      <td>0</td>\n",
       "      <td>2</td>\n",
       "      <td>2.0</td>\n",
       "      <td>0.0</td>\n",
       "      <td>...</td>\n",
       "      <td>0</td>\n",
       "      <td>0</td>\n",
       "      <td>0</td>\n",
       "      <td>C</td>\n",
       "      <td>0</td>\n",
       "      <td>0</td>\n",
       "      <td>Transient</td>\n",
       "      <td>0</td>\n",
       "      <td>1</td>\n",
       "      <td>2</td>\n",
       "    </tr>\n",
       "    <tr>\n",
       "      <th>4</th>\n",
       "      <td>1</td>\n",
       "      <td>85.0</td>\n",
       "      <td>2015</td>\n",
       "      <td>July</td>\n",
       "      <td>27</td>\n",
       "      <td>1</td>\n",
       "      <td>0</td>\n",
       "      <td>3</td>\n",
       "      <td>2.0</td>\n",
       "      <td>0.0</td>\n",
       "      <td>...</td>\n",
       "      <td>0</td>\n",
       "      <td>0</td>\n",
       "      <td>0</td>\n",
       "      <td>A</td>\n",
       "      <td>0</td>\n",
       "      <td>0</td>\n",
       "      <td>Transient</td>\n",
       "      <td>0</td>\n",
       "      <td>1</td>\n",
       "      <td>3</td>\n",
       "    </tr>\n",
       "    <tr>\n",
       "      <th>...</th>\n",
       "      <td>...</td>\n",
       "      <td>...</td>\n",
       "      <td>...</td>\n",
       "      <td>...</td>\n",
       "      <td>...</td>\n",
       "      <td>...</td>\n",
       "      <td>...</td>\n",
       "      <td>...</td>\n",
       "      <td>...</td>\n",
       "      <td>...</td>\n",
       "      <td>...</td>\n",
       "      <td>...</td>\n",
       "      <td>...</td>\n",
       "      <td>...</td>\n",
       "      <td>...</td>\n",
       "      <td>...</td>\n",
       "      <td>...</td>\n",
       "      <td>...</td>\n",
       "      <td>...</td>\n",
       "      <td>...</td>\n",
       "      <td>...</td>\n",
       "    </tr>\n",
       "    <tr>\n",
       "      <th>65224</th>\n",
       "      <td>0</td>\n",
       "      <td>23.0</td>\n",
       "      <td>2016</td>\n",
       "      <td>December</td>\n",
       "      <td>53</td>\n",
       "      <td>30</td>\n",
       "      <td>2</td>\n",
       "      <td>4</td>\n",
       "      <td>2.0</td>\n",
       "      <td>0.0</td>\n",
       "      <td>...</td>\n",
       "      <td>0</td>\n",
       "      <td>0</td>\n",
       "      <td>0</td>\n",
       "      <td>D</td>\n",
       "      <td>0</td>\n",
       "      <td>0</td>\n",
       "      <td>Transient</td>\n",
       "      <td>0</td>\n",
       "      <td>2</td>\n",
       "      <td>6</td>\n",
       "    </tr>\n",
       "    <tr>\n",
       "      <th>65225</th>\n",
       "      <td>0</td>\n",
       "      <td>53.0</td>\n",
       "      <td>2016</td>\n",
       "      <td>December</td>\n",
       "      <td>53</td>\n",
       "      <td>31</td>\n",
       "      <td>2</td>\n",
       "      <td>3</td>\n",
       "      <td>2.0</td>\n",
       "      <td>0.0</td>\n",
       "      <td>...</td>\n",
       "      <td>0</td>\n",
       "      <td>0</td>\n",
       "      <td>0</td>\n",
       "      <td>D</td>\n",
       "      <td>0</td>\n",
       "      <td>0</td>\n",
       "      <td>Transient</td>\n",
       "      <td>0</td>\n",
       "      <td>3</td>\n",
       "      <td>5</td>\n",
       "    </tr>\n",
       "    <tr>\n",
       "      <th>65226</th>\n",
       "      <td>0</td>\n",
       "      <td>7.0</td>\n",
       "      <td>2016</td>\n",
       "      <td>December</td>\n",
       "      <td>53</td>\n",
       "      <td>31</td>\n",
       "      <td>2</td>\n",
       "      <td>4</td>\n",
       "      <td>2.0</td>\n",
       "      <td>0.0</td>\n",
       "      <td>...</td>\n",
       "      <td>0</td>\n",
       "      <td>0</td>\n",
       "      <td>0</td>\n",
       "      <td>D</td>\n",
       "      <td>0</td>\n",
       "      <td>0</td>\n",
       "      <td>Transient</td>\n",
       "      <td>0</td>\n",
       "      <td>1</td>\n",
       "      <td>6</td>\n",
       "    </tr>\n",
       "    <tr>\n",
       "      <th>65227</th>\n",
       "      <td>0</td>\n",
       "      <td>17.0</td>\n",
       "      <td>2016</td>\n",
       "      <td>December</td>\n",
       "      <td>53</td>\n",
       "      <td>30</td>\n",
       "      <td>2</td>\n",
       "      <td>5</td>\n",
       "      <td>2.0</td>\n",
       "      <td>0.0</td>\n",
       "      <td>...</td>\n",
       "      <td>0</td>\n",
       "      <td>0</td>\n",
       "      <td>0</td>\n",
       "      <td>A</td>\n",
       "      <td>0</td>\n",
       "      <td>0</td>\n",
       "      <td>Transient</td>\n",
       "      <td>0</td>\n",
       "      <td>1</td>\n",
       "      <td>7</td>\n",
       "    </tr>\n",
       "    <tr>\n",
       "      <th>65228</th>\n",
       "      <td>0</td>\n",
       "      <td>107.0</td>\n",
       "      <td>2016</td>\n",
       "      <td>December</td>\n",
       "      <td>53</td>\n",
       "      <td>31</td>\n",
       "      <td>2</td>\n",
       "      <td>5</td>\n",
       "      <td>2.0</td>\n",
       "      <td>0.0</td>\n",
       "      <td>...</td>\n",
       "      <td>0</td>\n",
       "      <td>0</td>\n",
       "      <td>0</td>\n",
       "      <td>A</td>\n",
       "      <td>0</td>\n",
       "      <td>0</td>\n",
       "      <td>Transient</td>\n",
       "      <td>0</td>\n",
       "      <td>0</td>\n",
       "      <td>7</td>\n",
       "    </tr>\n",
       "  </tbody>\n",
       "</table>\n",
       "<p>65229 rows × 24 columns</p>\n",
       "</div>"
      ],
      "text/plain": [
       "       is_canceled  lead_time  arrival_date_year arrival_date_month  \\\n",
       "0                0        7.0               2015               July   \n",
       "1                0       14.0               2015               July   \n",
       "2                0        0.0               2015               July   \n",
       "3                0        9.0               2015               July   \n",
       "4                1       85.0               2015               July   \n",
       "...            ...        ...                ...                ...   \n",
       "65224            0       23.0               2016           December   \n",
       "65225            0       53.0               2016           December   \n",
       "65226            0        7.0               2016           December   \n",
       "65227            0       17.0               2016           December   \n",
       "65228            0      107.0               2016           December   \n",
       "\n",
       "       arrival_date_week_number  arrival_date_day_of_month  \\\n",
       "0                            27                          1   \n",
       "1                            27                          1   \n",
       "2                            27                          1   \n",
       "3                            27                          1   \n",
       "4                            27                          1   \n",
       "...                         ...                        ...   \n",
       "65224                        53                         30   \n",
       "65225                        53                         31   \n",
       "65226                        53                         31   \n",
       "65227                        53                         30   \n",
       "65228                        53                         31   \n",
       "\n",
       "       stays_in_weekend_nights  stays_in_week_nights  adults  children  ...  \\\n",
       "0                            0                     1     1.0       0.0  ...   \n",
       "1                            0                     2     2.0       0.0  ...   \n",
       "2                            0                     2     2.0       0.0  ...   \n",
       "3                            0                     2     2.0       0.0  ...   \n",
       "4                            0                     3     2.0       0.0  ...   \n",
       "...                        ...                   ...     ...       ...  ...   \n",
       "65224                        2                     4     2.0       0.0  ...   \n",
       "65225                        2                     3     2.0       0.0  ...   \n",
       "65226                        2                     4     2.0       0.0  ...   \n",
       "65227                        2                     5     2.0       0.0  ...   \n",
       "65228                        2                     5     2.0       0.0  ...   \n",
       "\n",
       "       is_repeated_guest previous_cancellations  \\\n",
       "0                      0                      0   \n",
       "1                      0                      0   \n",
       "2                      0                      0   \n",
       "3                      0                      0   \n",
       "4                      0                      0   \n",
       "...                  ...                    ...   \n",
       "65224                  0                      0   \n",
       "65225                  0                      0   \n",
       "65226                  0                      0   \n",
       "65227                  0                      0   \n",
       "65228                  0                      0   \n",
       "\n",
       "      previous_bookings_not_canceled reserved_room_type  booking_changes  \\\n",
       "0                                  0                  A                0   \n",
       "1                                  0                  A                0   \n",
       "2                                  0                  C                0   \n",
       "3                                  0                  C                0   \n",
       "4                                  0                  A                0   \n",
       "...                              ...                ...              ...   \n",
       "65224                              0                  D                0   \n",
       "65225                              0                  D                0   \n",
       "65226                              0                  D                0   \n",
       "65227                              0                  A                0   \n",
       "65228                              0                  A                0   \n",
       "\n",
       "       days_in_waiting_list  customer_type required_car_parking_spaces  \\\n",
       "0                         0      Transient                           0   \n",
       "1                         0      Transient                           0   \n",
       "2                         0      Transient                           0   \n",
       "3                         0      Transient                           0   \n",
       "4                         0      Transient                           0   \n",
       "...                     ...            ...                         ...   \n",
       "65224                     0      Transient                           0   \n",
       "65225                     0      Transient                           0   \n",
       "65226                     0      Transient                           0   \n",
       "65227                     0      Transient                           0   \n",
       "65228                     0      Transient                           0   \n",
       "\n",
       "       total_of_special_requests  total_nights  \n",
       "0                              0             1  \n",
       "1                              1             2  \n",
       "2                              0             2  \n",
       "3                              1             2  \n",
       "4                              1             3  \n",
       "...                          ...           ...  \n",
       "65224                          2             6  \n",
       "65225                          3             5  \n",
       "65226                          1             6  \n",
       "65227                          1             7  \n",
       "65228                          0             7  \n",
       "\n",
       "[65229 rows x 24 columns]"
      ]
     },
     "execution_count": 9,
     "metadata": {},
     "output_type": "execute_result"
    }
   ],
   "source": [
    "data_train.drop('id', axis = 1)"
   ]
  },
  {
   "cell_type": "code",
   "execution_count": 10,
   "metadata": {},
   "outputs": [
    {
     "data": {
      "text/html": [
       "<div>\n",
       "<style scoped>\n",
       "    .dataframe tbody tr th:only-of-type {\n",
       "        vertical-align: middle;\n",
       "    }\n",
       "\n",
       "    .dataframe tbody tr th {\n",
       "        vertical-align: top;\n",
       "    }\n",
       "\n",
       "    .dataframe thead th {\n",
       "        text-align: right;\n",
       "    }\n",
       "</style>\n",
       "<table border=\"1\" class=\"dataframe\">\n",
       "  <thead>\n",
       "    <tr style=\"text-align: right;\">\n",
       "      <th></th>\n",
       "      <th>is_canceled</th>\n",
       "      <th>lead_time</th>\n",
       "      <th>arrival_date_year</th>\n",
       "      <th>arrival_date_month</th>\n",
       "      <th>arrival_date_week_number</th>\n",
       "      <th>arrival_date_day_of_month</th>\n",
       "      <th>stays_in_weekend_nights</th>\n",
       "      <th>stays_in_week_nights</th>\n",
       "      <th>adults</th>\n",
       "      <th>children</th>\n",
       "      <th>...</th>\n",
       "      <th>is_repeated_guest</th>\n",
       "      <th>previous_cancellations</th>\n",
       "      <th>previous_bookings_not_canceled</th>\n",
       "      <th>reserved_room_type</th>\n",
       "      <th>booking_changes</th>\n",
       "      <th>days_in_waiting_list</th>\n",
       "      <th>customer_type</th>\n",
       "      <th>required_car_parking_spaces</th>\n",
       "      <th>total_of_special_requests</th>\n",
       "      <th>total_nights</th>\n",
       "    </tr>\n",
       "  </thead>\n",
       "  <tbody>\n",
       "    <tr>\n",
       "      <th>0</th>\n",
       "      <td>1</td>\n",
       "      <td>74.0</td>\n",
       "      <td>2017</td>\n",
       "      <td>January</td>\n",
       "      <td>1</td>\n",
       "      <td>1</td>\n",
       "      <td>1</td>\n",
       "      <td>0</td>\n",
       "      <td>2.0</td>\n",
       "      <td>0.0</td>\n",
       "      <td>...</td>\n",
       "      <td>0</td>\n",
       "      <td>0</td>\n",
       "      <td>0</td>\n",
       "      <td>A</td>\n",
       "      <td>0</td>\n",
       "      <td>0</td>\n",
       "      <td>Transient</td>\n",
       "      <td>0</td>\n",
       "      <td>0</td>\n",
       "      <td>1</td>\n",
       "    </tr>\n",
       "    <tr>\n",
       "      <th>1</th>\n",
       "      <td>1</td>\n",
       "      <td>62.0</td>\n",
       "      <td>2017</td>\n",
       "      <td>January</td>\n",
       "      <td>1</td>\n",
       "      <td>1</td>\n",
       "      <td>2</td>\n",
       "      <td>2</td>\n",
       "      <td>2.0</td>\n",
       "      <td>0.0</td>\n",
       "      <td>...</td>\n",
       "      <td>0</td>\n",
       "      <td>0</td>\n",
       "      <td>0</td>\n",
       "      <td>A</td>\n",
       "      <td>0</td>\n",
       "      <td>0</td>\n",
       "      <td>Transient</td>\n",
       "      <td>0</td>\n",
       "      <td>1</td>\n",
       "      <td>4</td>\n",
       "    </tr>\n",
       "    <tr>\n",
       "      <th>2</th>\n",
       "      <td>1</td>\n",
       "      <td>62.0</td>\n",
       "      <td>2017</td>\n",
       "      <td>January</td>\n",
       "      <td>1</td>\n",
       "      <td>1</td>\n",
       "      <td>2</td>\n",
       "      <td>2</td>\n",
       "      <td>2.0</td>\n",
       "      <td>0.0</td>\n",
       "      <td>...</td>\n",
       "      <td>0</td>\n",
       "      <td>0</td>\n",
       "      <td>0</td>\n",
       "      <td>A</td>\n",
       "      <td>0</td>\n",
       "      <td>0</td>\n",
       "      <td>Transient</td>\n",
       "      <td>0</td>\n",
       "      <td>1</td>\n",
       "      <td>4</td>\n",
       "    </tr>\n",
       "    <tr>\n",
       "      <th>3</th>\n",
       "      <td>1</td>\n",
       "      <td>71.0</td>\n",
       "      <td>2017</td>\n",
       "      <td>January</td>\n",
       "      <td>1</td>\n",
       "      <td>1</td>\n",
       "      <td>2</td>\n",
       "      <td>2</td>\n",
       "      <td>1.0</td>\n",
       "      <td>0.0</td>\n",
       "      <td>...</td>\n",
       "      <td>0</td>\n",
       "      <td>0</td>\n",
       "      <td>0</td>\n",
       "      <td>A</td>\n",
       "      <td>0</td>\n",
       "      <td>0</td>\n",
       "      <td>Transient</td>\n",
       "      <td>0</td>\n",
       "      <td>1</td>\n",
       "      <td>4</td>\n",
       "    </tr>\n",
       "    <tr>\n",
       "      <th>4</th>\n",
       "      <td>1</td>\n",
       "      <td>172.0</td>\n",
       "      <td>2017</td>\n",
       "      <td>January</td>\n",
       "      <td>1</td>\n",
       "      <td>1</td>\n",
       "      <td>2</td>\n",
       "      <td>5</td>\n",
       "      <td>2.0</td>\n",
       "      <td>0.0</td>\n",
       "      <td>...</td>\n",
       "      <td>0</td>\n",
       "      <td>0</td>\n",
       "      <td>0</td>\n",
       "      <td>A</td>\n",
       "      <td>0</td>\n",
       "      <td>0</td>\n",
       "      <td>Transient</td>\n",
       "      <td>0</td>\n",
       "      <td>0</td>\n",
       "      <td>7</td>\n",
       "    </tr>\n",
       "    <tr>\n",
       "      <th>...</th>\n",
       "      <td>...</td>\n",
       "      <td>...</td>\n",
       "      <td>...</td>\n",
       "      <td>...</td>\n",
       "      <td>...</td>\n",
       "      <td>...</td>\n",
       "      <td>...</td>\n",
       "      <td>...</td>\n",
       "      <td>...</td>\n",
       "      <td>...</td>\n",
       "      <td>...</td>\n",
       "      <td>...</td>\n",
       "      <td>...</td>\n",
       "      <td>...</td>\n",
       "      <td>...</td>\n",
       "      <td>...</td>\n",
       "      <td>...</td>\n",
       "      <td>...</td>\n",
       "      <td>...</td>\n",
       "      <td>...</td>\n",
       "      <td>...</td>\n",
       "    </tr>\n",
       "    <tr>\n",
       "      <th>32407</th>\n",
       "      <td>0</td>\n",
       "      <td>164.0</td>\n",
       "      <td>2017</td>\n",
       "      <td>August</td>\n",
       "      <td>35</td>\n",
       "      <td>31</td>\n",
       "      <td>2</td>\n",
       "      <td>4</td>\n",
       "      <td>2.0</td>\n",
       "      <td>0.0</td>\n",
       "      <td>...</td>\n",
       "      <td>0</td>\n",
       "      <td>0</td>\n",
       "      <td>0</td>\n",
       "      <td>A</td>\n",
       "      <td>0</td>\n",
       "      <td>0</td>\n",
       "      <td>Transient</td>\n",
       "      <td>0</td>\n",
       "      <td>0</td>\n",
       "      <td>6</td>\n",
       "    </tr>\n",
       "    <tr>\n",
       "      <th>32408</th>\n",
       "      <td>0</td>\n",
       "      <td>21.0</td>\n",
       "      <td>2017</td>\n",
       "      <td>August</td>\n",
       "      <td>35</td>\n",
       "      <td>30</td>\n",
       "      <td>2</td>\n",
       "      <td>5</td>\n",
       "      <td>2.0</td>\n",
       "      <td>0.0</td>\n",
       "      <td>...</td>\n",
       "      <td>0</td>\n",
       "      <td>0</td>\n",
       "      <td>0</td>\n",
       "      <td>A</td>\n",
       "      <td>0</td>\n",
       "      <td>0</td>\n",
       "      <td>Transient</td>\n",
       "      <td>0</td>\n",
       "      <td>2</td>\n",
       "      <td>7</td>\n",
       "    </tr>\n",
       "    <tr>\n",
       "      <th>32409</th>\n",
       "      <td>0</td>\n",
       "      <td>23.0</td>\n",
       "      <td>2017</td>\n",
       "      <td>August</td>\n",
       "      <td>35</td>\n",
       "      <td>30</td>\n",
       "      <td>2</td>\n",
       "      <td>5</td>\n",
       "      <td>2.0</td>\n",
       "      <td>0.0</td>\n",
       "      <td>...</td>\n",
       "      <td>0</td>\n",
       "      <td>0</td>\n",
       "      <td>0</td>\n",
       "      <td>A</td>\n",
       "      <td>0</td>\n",
       "      <td>0</td>\n",
       "      <td>Transient</td>\n",
       "      <td>0</td>\n",
       "      <td>0</td>\n",
       "      <td>7</td>\n",
       "    </tr>\n",
       "    <tr>\n",
       "      <th>32410</th>\n",
       "      <td>0</td>\n",
       "      <td>34.0</td>\n",
       "      <td>2017</td>\n",
       "      <td>August</td>\n",
       "      <td>35</td>\n",
       "      <td>31</td>\n",
       "      <td>2</td>\n",
       "      <td>5</td>\n",
       "      <td>2.0</td>\n",
       "      <td>0.0</td>\n",
       "      <td>...</td>\n",
       "      <td>0</td>\n",
       "      <td>0</td>\n",
       "      <td>0</td>\n",
       "      <td>D</td>\n",
       "      <td>0</td>\n",
       "      <td>0</td>\n",
       "      <td>Transient</td>\n",
       "      <td>0</td>\n",
       "      <td>4</td>\n",
       "      <td>7</td>\n",
       "    </tr>\n",
       "    <tr>\n",
       "      <th>32411</th>\n",
       "      <td>0</td>\n",
       "      <td>109.0</td>\n",
       "      <td>2017</td>\n",
       "      <td>August</td>\n",
       "      <td>35</td>\n",
       "      <td>31</td>\n",
       "      <td>2</td>\n",
       "      <td>5</td>\n",
       "      <td>2.0</td>\n",
       "      <td>0.0</td>\n",
       "      <td>...</td>\n",
       "      <td>0</td>\n",
       "      <td>0</td>\n",
       "      <td>0</td>\n",
       "      <td>A</td>\n",
       "      <td>0</td>\n",
       "      <td>0</td>\n",
       "      <td>Transient</td>\n",
       "      <td>0</td>\n",
       "      <td>0</td>\n",
       "      <td>7</td>\n",
       "    </tr>\n",
       "  </tbody>\n",
       "</table>\n",
       "<p>32412 rows × 24 columns</p>\n",
       "</div>"
      ],
      "text/plain": [
       "       is_canceled  lead_time  arrival_date_year arrival_date_month  \\\n",
       "0                1       74.0               2017            January   \n",
       "1                1       62.0               2017            January   \n",
       "2                1       62.0               2017            January   \n",
       "3                1       71.0               2017            January   \n",
       "4                1      172.0               2017            January   \n",
       "...            ...        ...                ...                ...   \n",
       "32407            0      164.0               2017             August   \n",
       "32408            0       21.0               2017             August   \n",
       "32409            0       23.0               2017             August   \n",
       "32410            0       34.0               2017             August   \n",
       "32411            0      109.0               2017             August   \n",
       "\n",
       "       arrival_date_week_number  arrival_date_day_of_month  \\\n",
       "0                             1                          1   \n",
       "1                             1                          1   \n",
       "2                             1                          1   \n",
       "3                             1                          1   \n",
       "4                             1                          1   \n",
       "...                         ...                        ...   \n",
       "32407                        35                         31   \n",
       "32408                        35                         30   \n",
       "32409                        35                         30   \n",
       "32410                        35                         31   \n",
       "32411                        35                         31   \n",
       "\n",
       "       stays_in_weekend_nights  stays_in_week_nights  adults  children  ...  \\\n",
       "0                            1                     0     2.0       0.0  ...   \n",
       "1                            2                     2     2.0       0.0  ...   \n",
       "2                            2                     2     2.0       0.0  ...   \n",
       "3                            2                     2     1.0       0.0  ...   \n",
       "4                            2                     5     2.0       0.0  ...   \n",
       "...                        ...                   ...     ...       ...  ...   \n",
       "32407                        2                     4     2.0       0.0  ...   \n",
       "32408                        2                     5     2.0       0.0  ...   \n",
       "32409                        2                     5     2.0       0.0  ...   \n",
       "32410                        2                     5     2.0       0.0  ...   \n",
       "32411                        2                     5     2.0       0.0  ...   \n",
       "\n",
       "       is_repeated_guest previous_cancellations  \\\n",
       "0                      0                      0   \n",
       "1                      0                      0   \n",
       "2                      0                      0   \n",
       "3                      0                      0   \n",
       "4                      0                      0   \n",
       "...                  ...                    ...   \n",
       "32407                  0                      0   \n",
       "32408                  0                      0   \n",
       "32409                  0                      0   \n",
       "32410                  0                      0   \n",
       "32411                  0                      0   \n",
       "\n",
       "      previous_bookings_not_canceled reserved_room_type  booking_changes  \\\n",
       "0                                  0                  A                0   \n",
       "1                                  0                  A                0   \n",
       "2                                  0                  A                0   \n",
       "3                                  0                  A                0   \n",
       "4                                  0                  A                0   \n",
       "...                              ...                ...              ...   \n",
       "32407                              0                  A                0   \n",
       "32408                              0                  A                0   \n",
       "32409                              0                  A                0   \n",
       "32410                              0                  D                0   \n",
       "32411                              0                  A                0   \n",
       "\n",
       "       days_in_waiting_list  customer_type required_car_parking_spaces  \\\n",
       "0                         0      Transient                           0   \n",
       "1                         0      Transient                           0   \n",
       "2                         0      Transient                           0   \n",
       "3                         0      Transient                           0   \n",
       "4                         0      Transient                           0   \n",
       "...                     ...            ...                         ...   \n",
       "32407                     0      Transient                           0   \n",
       "32408                     0      Transient                           0   \n",
       "32409                     0      Transient                           0   \n",
       "32410                     0      Transient                           0   \n",
       "32411                     0      Transient                           0   \n",
       "\n",
       "       total_of_special_requests  total_nights  \n",
       "0                              0             1  \n",
       "1                              1             4  \n",
       "2                              1             4  \n",
       "3                              1             4  \n",
       "4                              0             7  \n",
       "...                          ...           ...  \n",
       "32407                          0             6  \n",
       "32408                          2             7  \n",
       "32409                          0             7  \n",
       "32410                          4             7  \n",
       "32411                          0             7  \n",
       "\n",
       "[32412 rows x 24 columns]"
      ]
     },
     "execution_count": 10,
     "metadata": {},
     "output_type": "execute_result"
    }
   ],
   "source": [
    "data_test.drop('id', axis = 1)"
   ]
  },
  {
   "cell_type": "markdown",
   "metadata": {},
   "source": [
    "применение порядкового кодирования к датафрейму:"
   ]
  },
  {
   "cell_type": "code",
   "execution_count": 11,
   "metadata": {
    "scrolled": false
   },
   "outputs": [],
   "source": [
    "#смысл - склеить датасеты, применить порядковое кодирование к категориальным столбцам, грамотно разделить датасеты\n",
    "#чтобы разделить правильно - установлен новый признак sign, который принимает значения 'train' и 'test' соответственно\n",
    "#для data_train и data_test\n",
    "#\n",
    "#установка признаков\n",
    "data_train['sign'] = 'train'\n",
    "data_test['sign'] = 'test'\n",
    "#слияние\n",
    "whole_data = pd.concat([data_train, data_test])\n",
    "#порядковое кодирование\n",
    "encoder = OrdinalEncoder() \n",
    "encoder.fit(whole_data[['arrival_date_month','country','customer_type','distribution_channel','meal','reserved_room_type']])\n",
    "whole_data[['arrival_date_month','country','customer_type','distribution_channel','meal','reserved_room_type']] = pd.DataFrame(encoder.transform(whole_data[['arrival_date_month','country','customer_type','distribution_channel','meal','reserved_room_type']]))\n",
    "#разделение\n",
    "data_train = whole_data[whole_data['sign']=='train']\n",
    "data_test = whole_data[whole_data['sign']=='test']"
   ]
  },
  {
   "cell_type": "markdown",
   "metadata": {},
   "source": [
    "Удаление вспомогательных признаков после разделения:"
   ]
  },
  {
   "cell_type": "code",
   "execution_count": 12,
   "metadata": {},
   "outputs": [],
   "source": [
    "data_train = data_train.drop('sign', axis = 1)"
   ]
  },
  {
   "cell_type": "code",
   "execution_count": 13,
   "metadata": {},
   "outputs": [],
   "source": [
    "data_test = data_test.drop('sign', axis = 1)"
   ]
  },
  {
   "cell_type": "markdown",
   "metadata": {},
   "source": [
    "<div class=\"alert alert-block alert-danger\">\n",
    "<b>❌ Комментарий ревьюера: </b> Изменились не только категориальные данные, но числовые. Теперь закодировано всё. Так делать нельзя. Теряются взаимосвязи между данными. Пусть есть клиенты с зарплатами [10, 20 ... 9000, 10000, ....]. Если произвести кодирование, то получим, например, значения: [0,1,....100,101,...]. Отсюда изменились соотношения между зарплатами было 9000/1000, стало 100/101. \n",
    "\n",
    "Также изменилась шкала измерений: была шкала отношений, а стала порядковой шкалой. Привожу ссылку для более подробного ознакомления:\n",
    "\n",
    "https://wiki.loginom.ru/articles/scale-type.html\n",
    "</div>"
   ]
  },
  {
   "cell_type": "markdown",
   "metadata": {},
   "source": [
    "<div class=\"alert alert-block alert-info\">\n",
    "<b>Комментарий студента:</b> Выполнено выше.\n",
    "</div>"
   ]
  },
  {
   "cell_type": "markdown",
   "metadata": {},
   "source": [
    "<div class=\"alert alert-block alert-success\">\n",
    "<b>✔️ Комментарий ревьюера v2: </b> Да, теперь верно\n",
    "</div>"
   ]
  },
  {
   "cell_type": "markdown",
   "metadata": {},
   "source": [
    "применение масштабирования к датафрейму:"
   ]
  },
  {
   "cell_type": "code",
   "execution_count": 14,
   "metadata": {
    "scrolled": true
   },
   "outputs": [],
   "source": [
    "numeric = ['lead_time']\n",
    "scaler = StandardScaler()\n",
    "scaler.fit(data_train[numeric])\n",
    "data_train[numeric] = scaler.transform(data_train[numeric])\n",
    "#\n",
    "data_test[numeric] = scaler.transform(data_test[numeric])"
   ]
  },
  {
   "cell_type": "markdown",
   "metadata": {},
   "source": [
    "<div class=\"alert alert-block alert-danger\">\n",
    "<b>❌ Комментарий ревьюера: </b> scaler.fit делается только на обучающей выборке на остальных только transform. Иначе может произойти утечка данных. \n",
    "Приведу пример. После выхода модели в продакшн. Тебе будет приходить запрос с данными нескольких клентов (часто данные только клиента)) и нужно сказать уйдут ли они или нет. \n",
    "Так как клиентов мало, то нормировать их по собственным значениям будет некорректно. Предположим, что нужно сделать прогноз для одного клиента с возрастом 20. Если осуществить обычную нормировку, то нормированный возраст станет равным 1.0. А на обучающей выборки было не так (пусть максимальный возраст был равен 85). Следовательно, когда на вход модели будет подаваться этот клиент, то она будет считать, что ему не 20, а 85 лет в соответствии с обучающей выборкой. Вот это и есть утечка данных.\n",
    "</div>"
   ]
  },
  {
   "cell_type": "markdown",
   "metadata": {},
   "source": [
    "<div class=\"alert alert-block alert-info\">\n",
    "<b>Комментарий студента:</b> Выполнено выше.\n",
    "</div>"
   ]
  },
  {
   "cell_type": "markdown",
   "metadata": {},
   "source": [
    "<div class=\"alert alert-block alert-success\">\n",
    "<b>✔️ Комментарий ревьюера v2: </b> Да, теперь верно\n",
    "</div>"
   ]
  },
  {
   "cell_type": "markdown",
   "metadata": {},
   "source": [
    "\n",
    " "
   ]
  },
  {
   "cell_type": "markdown",
   "metadata": {},
   "source": [
    "### Шаг 3. Формулировка ML-задачи на основе бизнес-задачи"
   ]
  },
  {
   "cell_type": "markdown",
   "metadata": {},
   "source": [
    "Для решения задачи о целесообразности внедрения ML модели предлагается на тренировочных данных обучить три конкурирующих модели - логистической регрессии, случайного дерева и случайного леса. Из моделей предлагается выбрать ту, которая наилучшим образом предсказывает отказ клиента от брони на тестовых данных. Далее предлагается на тестовых данных рассчитать прибыль до внедрения модели (без депозитов) и после внедрения модели. Для этого в тестовые данные будут добавлены соответствующие столбцы - с прибылью до внедрения модели, после внедрения модели, а также столбец с предсказанными значениями отказа клиента от брони (необходим для расчета прибыли после внедрения модели)."
   ]
  },
  {
   "cell_type": "markdown",
   "metadata": {},
   "source": [
    "Функция для расчета прибыли до внедрения модели, без учета депозитов:"
   ]
  },
  {
   "cell_type": "code",
   "execution_count": 15,
   "metadata": {},
   "outputs": [],
   "source": [
    "#функция считает стоимость дня проживания в зависимости от времени года\n",
    "def _price_room(arrival_date, reserved_room_type):\n",
    "    prices_room = {'A':1000,'B':800, 'C':600, 'D':550, 'E':500, 'F':450, 'G':350}\n",
    "    price_room = prices_room[reserved_room_type]\n",
    "    if arrival_date.month in[3, 4, 5, 9, 10, 11]:\n",
    "        price_room *= 1.2\n",
    "    elif arrival_date.month in[6, 7, 8]:\n",
    "        price_room *= 1.4\n",
    "    return price_room"
   ]
  },
  {
   "cell_type": "code",
   "execution_count": 16,
   "metadata": {},
   "outputs": [],
   "source": [
    "def str_profit_without_deposit(data_frame):\n",
    "    price_room = 0\n",
    "    price_clean = 0\n",
    "    #упаковка стоимостей в словарь:\n",
    "    prices_clean = {'A':400,'B':350, 'C':350, 'D':150, 'E':150, 'F':150, 'G':150}\n",
    "    #упаковка месяцев в словарь:\n",
    "    months = {'January':1, 'February':2, 'March':3, 'April':4, 'May':5, 'June':6, 'July':7, 'August':8, 'September':9, 'October':10, 'November':11, 'December':12}\n",
    "    #\n",
    "    price_clean = prices_clean[data_frame['reserved_room_type']]\n",
    "    arrival_year = data_frame['arrival_date_year']\n",
    "    arrival_month = data_frame['arrival_date_month']\n",
    "    arrival_day = data_frame['arrival_date_day_of_month']\n",
    "    arrival_date = datetime.date(arrival_year, months[arrival_month], arrival_day)\n",
    "    total_nights = data_frame['total_nights']\n",
    "    guest_profit = 0\n",
    "    if data_frame['is_canceled'] == 1:\n",
    "        return 0\n",
    "    for i in range(total_nights):\n",
    "        price_room = _price_room(arrival_date, data_frame['reserved_room_type'])\n",
    "        if i != 0 and i%2 == 0:\n",
    "            guest_profit += price_room - price_clean\n",
    "        elif i == 0 or i%2 != 0:\n",
    "            guest_profit += price_room\n",
    "        arrival_date = arrival_date + timedelta(1)\n",
    "    return guest_profit"
   ]
  },
  {
   "cell_type": "markdown",
   "metadata": {},
   "source": [
    "Функция для создания столбца с ценой комнаты в зависимости от ее типа в датасете:"
   ]
  },
  {
   "cell_type": "code",
   "execution_count": 17,
   "metadata": {},
   "outputs": [],
   "source": [
    "def set_price_room(data):   \n",
    "    prices_room = {'A':1000,'B':800, 'C':600, 'D':550, 'E':500, 'F':450, 'G':350}\n",
    "    return prices_room[data['reserved_room_type']]"
   ]
  },
  {
   "cell_type": "code",
   "execution_count": 18,
   "metadata": {},
   "outputs": [],
   "source": [
    "train['price_room'] = train.apply(set_price_room, axis = 1)"
   ]
  },
  {
   "cell_type": "code",
   "execution_count": 19,
   "metadata": {},
   "outputs": [],
   "source": [
    "test['price_room'] = test.apply(set_price_room, axis = 1)"
   ]
  },
  {
   "cell_type": "markdown",
   "metadata": {},
   "source": [
    "Функция для создания столбца с ценой обслуживания комнаты в зависимости от ее типа в датасете:"
   ]
  },
  {
   "cell_type": "code",
   "execution_count": 20,
   "metadata": {},
   "outputs": [],
   "source": [
    "def set_price_clean(data):   \n",
    "    prices_clean = {'A':400,'B':350, 'C':350, 'D':150, 'E':150, 'F':150, 'G':150}\n",
    "    return prices_clean[data['reserved_room_type']]"
   ]
  },
  {
   "cell_type": "code",
   "execution_count": 21,
   "metadata": {},
   "outputs": [],
   "source": [
    "train['price_clean'] = train.apply(set_price_clean, axis = 1)"
   ]
  },
  {
   "cell_type": "code",
   "execution_count": 22,
   "metadata": {},
   "outputs": [],
   "source": [
    "test['price_clean'] = test.apply(set_price_clean, axis = 1)"
   ]
  },
  {
   "cell_type": "markdown",
   "metadata": {},
   "source": [
    "Функция для создания столбца номером месяца в зависимости от его названия в датасете:"
   ]
  },
  {
   "cell_type": "code",
   "execution_count": 23,
   "metadata": {},
   "outputs": [],
   "source": [
    "def set_month(data):   \n",
    "    months = {'January':1, 'February':2, 'March':3, 'April':4, 'May':5, 'June':6, 'July':7, 'August':8, 'September':9, 'October':10, 'November':11, 'December':12}\n",
    "    return months[data['arrival_date_month']]"
   ]
  },
  {
   "cell_type": "code",
   "execution_count": 24,
   "metadata": {},
   "outputs": [],
   "source": [
    "train['month_number'] = train.apply(set_month, axis = 1)"
   ]
  },
  {
   "cell_type": "code",
   "execution_count": 25,
   "metadata": {},
   "outputs": [],
   "source": [
    "test['month_number'] = test.apply(set_month, axis = 1)"
   ]
  },
  {
   "cell_type": "code",
   "execution_count": 26,
   "metadata": {},
   "outputs": [
    {
     "data": {
      "text/html": [
       "<div>\n",
       "<style scoped>\n",
       "    .dataframe tbody tr th:only-of-type {\n",
       "        vertical-align: middle;\n",
       "    }\n",
       "\n",
       "    .dataframe tbody tr th {\n",
       "        vertical-align: top;\n",
       "    }\n",
       "\n",
       "    .dataframe thead th {\n",
       "        text-align: right;\n",
       "    }\n",
       "</style>\n",
       "<table border=\"1\" class=\"dataframe\">\n",
       "  <thead>\n",
       "    <tr style=\"text-align: right;\">\n",
       "      <th></th>\n",
       "      <th>id</th>\n",
       "      <th>is_canceled</th>\n",
       "      <th>lead_time</th>\n",
       "      <th>arrival_date_year</th>\n",
       "      <th>arrival_date_month</th>\n",
       "      <th>arrival_date_week_number</th>\n",
       "      <th>arrival_date_day_of_month</th>\n",
       "      <th>stays_in_weekend_nights</th>\n",
       "      <th>stays_in_week_nights</th>\n",
       "      <th>adults</th>\n",
       "      <th>...</th>\n",
       "      <th>reserved_room_type</th>\n",
       "      <th>booking_changes</th>\n",
       "      <th>days_in_waiting_list</th>\n",
       "      <th>customer_type</th>\n",
       "      <th>required_car_parking_spaces</th>\n",
       "      <th>total_of_special_requests</th>\n",
       "      <th>total_nights</th>\n",
       "      <th>price_room</th>\n",
       "      <th>price_clean</th>\n",
       "      <th>month_number</th>\n",
       "    </tr>\n",
       "  </thead>\n",
       "  <tbody>\n",
       "    <tr>\n",
       "      <th>0</th>\n",
       "      <td>0</td>\n",
       "      <td>0</td>\n",
       "      <td>7.0</td>\n",
       "      <td>2015</td>\n",
       "      <td>July</td>\n",
       "      <td>27</td>\n",
       "      <td>1</td>\n",
       "      <td>0</td>\n",
       "      <td>1</td>\n",
       "      <td>1.0</td>\n",
       "      <td>...</td>\n",
       "      <td>A</td>\n",
       "      <td>0</td>\n",
       "      <td>0</td>\n",
       "      <td>Transient</td>\n",
       "      <td>0</td>\n",
       "      <td>0</td>\n",
       "      <td>1</td>\n",
       "      <td>1000</td>\n",
       "      <td>400</td>\n",
       "      <td>7</td>\n",
       "    </tr>\n",
       "    <tr>\n",
       "      <th>1</th>\n",
       "      <td>1</td>\n",
       "      <td>0</td>\n",
       "      <td>14.0</td>\n",
       "      <td>2015</td>\n",
       "      <td>July</td>\n",
       "      <td>27</td>\n",
       "      <td>1</td>\n",
       "      <td>0</td>\n",
       "      <td>2</td>\n",
       "      <td>2.0</td>\n",
       "      <td>...</td>\n",
       "      <td>A</td>\n",
       "      <td>0</td>\n",
       "      <td>0</td>\n",
       "      <td>Transient</td>\n",
       "      <td>0</td>\n",
       "      <td>1</td>\n",
       "      <td>2</td>\n",
       "      <td>1000</td>\n",
       "      <td>400</td>\n",
       "      <td>7</td>\n",
       "    </tr>\n",
       "    <tr>\n",
       "      <th>2</th>\n",
       "      <td>2</td>\n",
       "      <td>0</td>\n",
       "      <td>0.0</td>\n",
       "      <td>2015</td>\n",
       "      <td>July</td>\n",
       "      <td>27</td>\n",
       "      <td>1</td>\n",
       "      <td>0</td>\n",
       "      <td>2</td>\n",
       "      <td>2.0</td>\n",
       "      <td>...</td>\n",
       "      <td>C</td>\n",
       "      <td>0</td>\n",
       "      <td>0</td>\n",
       "      <td>Transient</td>\n",
       "      <td>0</td>\n",
       "      <td>0</td>\n",
       "      <td>2</td>\n",
       "      <td>600</td>\n",
       "      <td>350</td>\n",
       "      <td>7</td>\n",
       "    </tr>\n",
       "    <tr>\n",
       "      <th>3</th>\n",
       "      <td>3</td>\n",
       "      <td>0</td>\n",
       "      <td>9.0</td>\n",
       "      <td>2015</td>\n",
       "      <td>July</td>\n",
       "      <td>27</td>\n",
       "      <td>1</td>\n",
       "      <td>0</td>\n",
       "      <td>2</td>\n",
       "      <td>2.0</td>\n",
       "      <td>...</td>\n",
       "      <td>C</td>\n",
       "      <td>0</td>\n",
       "      <td>0</td>\n",
       "      <td>Transient</td>\n",
       "      <td>0</td>\n",
       "      <td>1</td>\n",
       "      <td>2</td>\n",
       "      <td>600</td>\n",
       "      <td>350</td>\n",
       "      <td>7</td>\n",
       "    </tr>\n",
       "    <tr>\n",
       "      <th>4</th>\n",
       "      <td>4</td>\n",
       "      <td>1</td>\n",
       "      <td>85.0</td>\n",
       "      <td>2015</td>\n",
       "      <td>July</td>\n",
       "      <td>27</td>\n",
       "      <td>1</td>\n",
       "      <td>0</td>\n",
       "      <td>3</td>\n",
       "      <td>2.0</td>\n",
       "      <td>...</td>\n",
       "      <td>A</td>\n",
       "      <td>0</td>\n",
       "      <td>0</td>\n",
       "      <td>Transient</td>\n",
       "      <td>0</td>\n",
       "      <td>1</td>\n",
       "      <td>3</td>\n",
       "      <td>1000</td>\n",
       "      <td>400</td>\n",
       "      <td>7</td>\n",
       "    </tr>\n",
       "  </tbody>\n",
       "</table>\n",
       "<p>5 rows × 28 columns</p>\n",
       "</div>"
      ],
      "text/plain": [
       "   id  is_canceled  lead_time  arrival_date_year arrival_date_month  \\\n",
       "0   0            0        7.0               2015               July   \n",
       "1   1            0       14.0               2015               July   \n",
       "2   2            0        0.0               2015               July   \n",
       "3   3            0        9.0               2015               July   \n",
       "4   4            1       85.0               2015               July   \n",
       "\n",
       "   arrival_date_week_number  arrival_date_day_of_month  \\\n",
       "0                        27                          1   \n",
       "1                        27                          1   \n",
       "2                        27                          1   \n",
       "3                        27                          1   \n",
       "4                        27                          1   \n",
       "\n",
       "   stays_in_weekend_nights  stays_in_week_nights  adults  ...  \\\n",
       "0                        0                     1     1.0  ...   \n",
       "1                        0                     2     2.0  ...   \n",
       "2                        0                     2     2.0  ...   \n",
       "3                        0                     2     2.0  ...   \n",
       "4                        0                     3     2.0  ...   \n",
       "\n",
       "   reserved_room_type  booking_changes days_in_waiting_list customer_type  \\\n",
       "0                   A                0                    0     Transient   \n",
       "1                   A                0                    0     Transient   \n",
       "2                   C                0                    0     Transient   \n",
       "3                   C                0                    0     Transient   \n",
       "4                   A                0                    0     Transient   \n",
       "\n",
       "  required_car_parking_spaces  total_of_special_requests  total_nights  \\\n",
       "0                           0                          0             1   \n",
       "1                           0                          1             2   \n",
       "2                           0                          0             2   \n",
       "3                           0                          1             2   \n",
       "4                           0                          1             3   \n",
       "\n",
       "   price_room price_clean  month_number  \n",
       "0        1000         400             7  \n",
       "1        1000         400             7  \n",
       "2         600         350             7  \n",
       "3         600         350             7  \n",
       "4        1000         400             7  \n",
       "\n",
       "[5 rows x 28 columns]"
      ]
     },
     "execution_count": 26,
     "metadata": {},
     "output_type": "execute_result"
    }
   ],
   "source": [
    "train.head()"
   ]
  },
  {
   "cell_type": "code",
   "execution_count": 27,
   "metadata": {
    "scrolled": false
   },
   "outputs": [
    {
     "data": {
      "text/html": [
       "<div>\n",
       "<style scoped>\n",
       "    .dataframe tbody tr th:only-of-type {\n",
       "        vertical-align: middle;\n",
       "    }\n",
       "\n",
       "    .dataframe tbody tr th {\n",
       "        vertical-align: top;\n",
       "    }\n",
       "\n",
       "    .dataframe thead th {\n",
       "        text-align: right;\n",
       "    }\n",
       "</style>\n",
       "<table border=\"1\" class=\"dataframe\">\n",
       "  <thead>\n",
       "    <tr style=\"text-align: right;\">\n",
       "      <th></th>\n",
       "      <th>id</th>\n",
       "      <th>is_canceled</th>\n",
       "      <th>lead_time</th>\n",
       "      <th>arrival_date_year</th>\n",
       "      <th>arrival_date_month</th>\n",
       "      <th>arrival_date_week_number</th>\n",
       "      <th>arrival_date_day_of_month</th>\n",
       "      <th>stays_in_weekend_nights</th>\n",
       "      <th>stays_in_week_nights</th>\n",
       "      <th>adults</th>\n",
       "      <th>...</th>\n",
       "      <th>reserved_room_type</th>\n",
       "      <th>booking_changes</th>\n",
       "      <th>days_in_waiting_list</th>\n",
       "      <th>customer_type</th>\n",
       "      <th>required_car_parking_spaces</th>\n",
       "      <th>total_of_special_requests</th>\n",
       "      <th>total_nights</th>\n",
       "      <th>price_room</th>\n",
       "      <th>price_clean</th>\n",
       "      <th>month_number</th>\n",
       "    </tr>\n",
       "  </thead>\n",
       "  <tbody>\n",
       "    <tr>\n",
       "      <th>0</th>\n",
       "      <td>6086</td>\n",
       "      <td>1</td>\n",
       "      <td>74.0</td>\n",
       "      <td>2017</td>\n",
       "      <td>January</td>\n",
       "      <td>1</td>\n",
       "      <td>1</td>\n",
       "      <td>1</td>\n",
       "      <td>0</td>\n",
       "      <td>2.0</td>\n",
       "      <td>...</td>\n",
       "      <td>A</td>\n",
       "      <td>0</td>\n",
       "      <td>0</td>\n",
       "      <td>Transient</td>\n",
       "      <td>0</td>\n",
       "      <td>0</td>\n",
       "      <td>1</td>\n",
       "      <td>1000</td>\n",
       "      <td>400</td>\n",
       "      <td>1</td>\n",
       "    </tr>\n",
       "    <tr>\n",
       "      <th>1</th>\n",
       "      <td>6087</td>\n",
       "      <td>1</td>\n",
       "      <td>62.0</td>\n",
       "      <td>2017</td>\n",
       "      <td>January</td>\n",
       "      <td>1</td>\n",
       "      <td>1</td>\n",
       "      <td>2</td>\n",
       "      <td>2</td>\n",
       "      <td>2.0</td>\n",
       "      <td>...</td>\n",
       "      <td>A</td>\n",
       "      <td>0</td>\n",
       "      <td>0</td>\n",
       "      <td>Transient</td>\n",
       "      <td>0</td>\n",
       "      <td>1</td>\n",
       "      <td>4</td>\n",
       "      <td>1000</td>\n",
       "      <td>400</td>\n",
       "      <td>1</td>\n",
       "    </tr>\n",
       "    <tr>\n",
       "      <th>2</th>\n",
       "      <td>6088</td>\n",
       "      <td>1</td>\n",
       "      <td>62.0</td>\n",
       "      <td>2017</td>\n",
       "      <td>January</td>\n",
       "      <td>1</td>\n",
       "      <td>1</td>\n",
       "      <td>2</td>\n",
       "      <td>2</td>\n",
       "      <td>2.0</td>\n",
       "      <td>...</td>\n",
       "      <td>A</td>\n",
       "      <td>0</td>\n",
       "      <td>0</td>\n",
       "      <td>Transient</td>\n",
       "      <td>0</td>\n",
       "      <td>1</td>\n",
       "      <td>4</td>\n",
       "      <td>1000</td>\n",
       "      <td>400</td>\n",
       "      <td>1</td>\n",
       "    </tr>\n",
       "    <tr>\n",
       "      <th>3</th>\n",
       "      <td>6089</td>\n",
       "      <td>1</td>\n",
       "      <td>71.0</td>\n",
       "      <td>2017</td>\n",
       "      <td>January</td>\n",
       "      <td>1</td>\n",
       "      <td>1</td>\n",
       "      <td>2</td>\n",
       "      <td>2</td>\n",
       "      <td>1.0</td>\n",
       "      <td>...</td>\n",
       "      <td>A</td>\n",
       "      <td>0</td>\n",
       "      <td>0</td>\n",
       "      <td>Transient</td>\n",
       "      <td>0</td>\n",
       "      <td>1</td>\n",
       "      <td>4</td>\n",
       "      <td>1000</td>\n",
       "      <td>400</td>\n",
       "      <td>1</td>\n",
       "    </tr>\n",
       "    <tr>\n",
       "      <th>4</th>\n",
       "      <td>6090</td>\n",
       "      <td>1</td>\n",
       "      <td>172.0</td>\n",
       "      <td>2017</td>\n",
       "      <td>January</td>\n",
       "      <td>1</td>\n",
       "      <td>1</td>\n",
       "      <td>2</td>\n",
       "      <td>5</td>\n",
       "      <td>2.0</td>\n",
       "      <td>...</td>\n",
       "      <td>A</td>\n",
       "      <td>0</td>\n",
       "      <td>0</td>\n",
       "      <td>Transient</td>\n",
       "      <td>0</td>\n",
       "      <td>0</td>\n",
       "      <td>7</td>\n",
       "      <td>1000</td>\n",
       "      <td>400</td>\n",
       "      <td>1</td>\n",
       "    </tr>\n",
       "  </tbody>\n",
       "</table>\n",
       "<p>5 rows × 28 columns</p>\n",
       "</div>"
      ],
      "text/plain": [
       "     id  is_canceled  lead_time  arrival_date_year arrival_date_month  \\\n",
       "0  6086            1       74.0               2017            January   \n",
       "1  6087            1       62.0               2017            January   \n",
       "2  6088            1       62.0               2017            January   \n",
       "3  6089            1       71.0               2017            January   \n",
       "4  6090            1      172.0               2017            January   \n",
       "\n",
       "   arrival_date_week_number  arrival_date_day_of_month  \\\n",
       "0                         1                          1   \n",
       "1                         1                          1   \n",
       "2                         1                          1   \n",
       "3                         1                          1   \n",
       "4                         1                          1   \n",
       "\n",
       "   stays_in_weekend_nights  stays_in_week_nights  adults  ...  \\\n",
       "0                        1                     0     2.0  ...   \n",
       "1                        2                     2     2.0  ...   \n",
       "2                        2                     2     2.0  ...   \n",
       "3                        2                     2     1.0  ...   \n",
       "4                        2                     5     2.0  ...   \n",
       "\n",
       "   reserved_room_type  booking_changes days_in_waiting_list customer_type  \\\n",
       "0                   A                0                    0     Transient   \n",
       "1                   A                0                    0     Transient   \n",
       "2                   A                0                    0     Transient   \n",
       "3                   A                0                    0     Transient   \n",
       "4                   A                0                    0     Transient   \n",
       "\n",
       "  required_car_parking_spaces  total_of_special_requests  total_nights  \\\n",
       "0                           0                          0             1   \n",
       "1                           0                          1             4   \n",
       "2                           0                          1             4   \n",
       "3                           0                          1             4   \n",
       "4                           0                          0             7   \n",
       "\n",
       "   price_room price_clean  month_number  \n",
       "0        1000         400             1  \n",
       "1        1000         400             1  \n",
       "2        1000         400             1  \n",
       "3        1000         400             1  \n",
       "4        1000         400             1  \n",
       "\n",
       "[5 rows x 28 columns]"
      ]
     },
     "execution_count": 27,
     "metadata": {},
     "output_type": "execute_result"
    }
   ],
   "source": [
    "test.head()"
   ]
  },
  {
   "cell_type": "markdown",
   "metadata": {},
   "source": [
    "Новая функция, считающая цены из датасета:"
   ]
  },
  {
   "cell_type": "code",
   "execution_count": 28,
   "metadata": {},
   "outputs": [],
   "source": [
    "def str_profit_without_deposit_1(data_frame):\n",
    "    price_room = 0\n",
    "    price_clean = 0\n",
    "    price_clean = data_frame['price_clean']\n",
    "    arrival_year = data_frame['arrival_date_year']\n",
    "    arrival_month = data_frame['arrival_date_month']\n",
    "    arrival_day = data_frame['arrival_date_day_of_month']\n",
    "    arrival_date = datetime.date(arrival_year, data_frame['month_number'], arrival_day)\n",
    "    total_nights = data_frame['total_nights']\n",
    "    guest_profit = 0\n",
    "    if data_frame['is_canceled'] == 1:\n",
    "        return 0\n",
    "    for i in range(total_nights):\n",
    "        price_room = data_frame['price_room']\n",
    "        if i != 0 and i%2 == 0:\n",
    "            guest_profit += price_room - price_clean\n",
    "        elif i == 0 or i%2 != 0:\n",
    "            guest_profit += price_room\n",
    "        arrival_date = arrival_date + timedelta(1)\n",
    "    return guest_profit"
   ]
  },
  {
   "cell_type": "markdown",
   "metadata": {},
   "source": [
    "<div class=\"alert alert-block alert-warning\">\n",
    "<b>⚠️ Комментарий ревьюера: </b>  Ок. Слишком много захардкоженных чисел в коде. Предлагаю prices_clean и months вычислять непосредственно из датафрейма.\n",
    "</div>"
   ]
  },
  {
   "cell_type": "markdown",
   "metadata": {},
   "source": [
    "<div class=\"alert alert-block alert-info\">\n",
    "<b>Комментарий студента:</b> Выполнено выше и ниже. Создал дополнительные столбцы и новые функции, использующие эти столбцы. Использовал их в расчетах прибыли.\n",
    "</div>"
   ]
  },
  {
   "cell_type": "markdown",
   "metadata": {},
   "source": [
    "<div class=\"alert alert-block alert-success\">\n",
    "<b>✔️ Комментарий ревьюера v2: </b> Ок\n",
    "</div>"
   ]
  },
  {
   "cell_type": "markdown",
   "metadata": {},
   "source": [
    "Функция для расчета прибыли после внедрения модели, с учетом депозитов, со вспомогательной функцией расчета стоимости номера в зависимости от даты проживания:"
   ]
  },
  {
   "cell_type": "code",
   "execution_count": 29,
   "metadata": {},
   "outputs": [],
   "source": [
    "#расчет прибыли, учитывая депозит:\n",
    "def str_profit_with_deposit(data_frame):\n",
    "    #начальные обнуления\n",
    "    price_room = 0\n",
    "    price_clean = 0\n",
    "    #упаковка стоимостей обслуживания в словарь:\n",
    "    prices_clean = {'A':400,'B':350, 'C':350, 'D':150, 'E':150, 'F':150, 'G':150}\n",
    "    #упаковка месяцев в словарь:\n",
    "    months = {'January':1, 'February':2, 'March':3, 'April':4, 'May':5, 'June':6, 'July':7, 'August':8, 'September':9, 'October':10, 'November':11, 'December':12}\n",
    "    #упаковка года, месяца, дня в дату прибытия:\n",
    "    arrival_year = data_frame['arrival_date_year']\n",
    "    arrival_month = data_frame['arrival_date_month']\n",
    "    arrival_day = data_frame['arrival_date_day_of_month']\n",
    "    arrival_date = datetime.date(arrival_year, months[arrival_month], arrival_day)\n",
    "    #установление расценок на номера и обслуживание в зависимости от категории и времени года:\n",
    "    price_room = _price_room(arrival_date, data_frame['reserved_room_type'])\n",
    "    price_clean = prices_clean[data_frame['reserved_room_type']]\n",
    "    #сколько ночей провел постоялец в номере:\n",
    "    total_nights = data_frame['total_nights']\n",
    "    #расчет прибыли:\n",
    "    guest_profit = 0\n",
    "    #если бронь отменена:\n",
    "    if data_frame['is_canceled'] == 1:\n",
    "        #при этом если система предсказала отмену:\n",
    "        if data_frame['predicted_canceled'] == 1:\n",
    "            #то получаем депозит\n",
    "            #потом сумма данных депозитов за год покажет эффект от внедрения системы\n",
    "            return (price_room+price_clean)*.8\n",
    "        elif data_frame['predicted_canceled'] == 0:\n",
    "            #а если система не предсказала отмену, то ничего не получаем:\n",
    "            return 0\n",
    "    elif data_frame['is_canceled'] == 0:\n",
    "        #а если отмены нет, постоялец приехал и просто считаем прибыль по дням:\n",
    "        for i in range(total_nights):\n",
    "            if i != 0 and i%2 == 0:\n",
    "                #это исключаются затраты на обслуживание каждый второй день\n",
    "                guest_profit += price_room - price_clean\n",
    "            elif i == 0 or i%2 != 0:\n",
    "                guest_profit += price_room\n",
    "            #теоретически здесь можем на другое время года перескочить, а это - другие расценки\n",
    "            arrival_date = arrival_date + timedelta(1)\n",
    "            price_room = _price_room(arrival_date, data_frame['reserved_room_type'])\n",
    "    return guest_profit"
   ]
  },
  {
   "cell_type": "markdown",
   "metadata": {},
   "source": [
    "Новая функция, считающая цены из датасета:"
   ]
  },
  {
   "cell_type": "code",
   "execution_count": 30,
   "metadata": {},
   "outputs": [],
   "source": [
    "#расчет прибыли, учитывая депозит (вариант):\n",
    "def str_profit_with_deposit_1(data_frame):\n",
    "    #начальные обнуления\n",
    "    price_room = 0\n",
    "    price_clean = 0\n",
    "    #упаковка года, месяца, дня в дату прибытия:\n",
    "    arrival_year = data_frame['arrival_date_year']\n",
    "    arrival_month = data_frame['arrival_date_month']\n",
    "    arrival_day = data_frame['arrival_date_day_of_month']\n",
    "    arrival_date = datetime.date(arrival_year, data_frame['month_number'], arrival_day)\n",
    "    #установление расценок на номера и обслуживание в зависимости от категории и времени года:\n",
    "    price_room = data_frame['price_room']\n",
    "    price_clean = data_frame['price_clean']\n",
    "    #сколько ночей провел постоялец в номере:\n",
    "    total_nights = data_frame['total_nights']\n",
    "    #расчет прибыли:\n",
    "    guest_profit = 0\n",
    "    #если бронь отменена:\n",
    "    if data_frame['is_canceled'] == 1:\n",
    "        #при этом если система предсказала отмену:\n",
    "        if data_frame['predicted_canceled'] == 1:\n",
    "            #то получаем депозит\n",
    "            #потом сумма данных депозитов за год покажет эффект от внедрения системы\n",
    "            return (price_room+price_clean)*.8\n",
    "        elif data_frame['predicted_canceled'] == 0:\n",
    "            #а если система не предсказала отмену, то ничего не получаем:\n",
    "            return 0\n",
    "    elif data_frame['is_canceled'] == 0:\n",
    "        #а если отмены нет, постоялец приехал и просто считаем прибыль по дням:\n",
    "        for i in range(total_nights):\n",
    "            if i != 0 and i%2 == 0:\n",
    "                #это исключаются затраты на обслуживание каждый второй день\n",
    "                guest_profit += price_room - price_clean\n",
    "            elif i == 0 or i%2 != 0:\n",
    "                guest_profit += price_room\n",
    "            #теоретически здесь можем на другое время года перескочить, а это - другие расценки\n",
    "            arrival_date = arrival_date + timedelta(1)\n",
    "            price_room = data_frame['price_room']\n",
    "    return guest_profit"
   ]
  },
  {
   "cell_type": "markdown",
   "metadata": {},
   "source": [
    "### Шаг 4. Разработка модели ML"
   ]
  },
  {
   "cell_type": "markdown",
   "metadata": {},
   "source": [
    "Балансировка тренировочных данных:"
   ]
  },
  {
   "cell_type": "code",
   "execution_count": 31,
   "metadata": {},
   "outputs": [
    {
     "data": {
      "text/plain": [
       "0    0.631391\n",
       "1    0.368609\n",
       "Name: is_canceled, dtype: float64"
      ]
     },
     "execution_count": 31,
     "metadata": {},
     "output_type": "execute_result"
    }
   ],
   "source": [
    "data_train['is_canceled'].value_counts(normalize = True)"
   ]
  },
  {
   "cell_type": "code",
   "execution_count": 32,
   "metadata": {},
   "outputs": [
    {
     "data": {
      "text/plain": [
       "1    0.538662\n",
       "0    0.461338\n",
       "Name: is_canceled, dtype: float64"
      ]
     },
     "execution_count": 32,
     "metadata": {},
     "output_type": "execute_result"
    }
   ],
   "source": [
    "zeros = data_train[data_train['is_canceled'] == 0]\n",
    "ones = data_train[data_train['is_canceled'] == 1]\n",
    "repeat = 2\n",
    "data_train = pd.concat([zeros] + [ones] * repeat)\n",
    "data_train = shuffle(data_train, random_state = 12345)\n",
    "data_train['is_canceled'].value_counts(normalize = True)"
   ]
  },
  {
   "cell_type": "markdown",
   "metadata": {},
   "source": [
    "<div class=\"alert alert-block alert-success\">\n",
    "<b>✔️ Комментарий ревьюера: </b> Верно. Есть дисбаланс\n",
    "</div>"
   ]
  },
  {
   "cell_type": "markdown",
   "metadata": {},
   "source": [
    "Разделение данных на обучающие и целевые признаки:"
   ]
  },
  {
   "cell_type": "code",
   "execution_count": 33,
   "metadata": {},
   "outputs": [],
   "source": [
    "target_train = data_train['is_canceled']\n",
    "features_train = data_train.drop('is_canceled', axis=1)\n",
    "target_test = data_test['is_canceled']\n",
    "features_test = data_test.drop('is_canceled', axis=1)"
   ]
  },
  {
   "cell_type": "code",
   "execution_count": 34,
   "metadata": {},
   "outputs": [
    {
     "data": {
      "text/html": [
       "<div>\n",
       "<style scoped>\n",
       "    .dataframe tbody tr th:only-of-type {\n",
       "        vertical-align: middle;\n",
       "    }\n",
       "\n",
       "    .dataframe tbody tr th {\n",
       "        vertical-align: top;\n",
       "    }\n",
       "\n",
       "    .dataframe thead th {\n",
       "        text-align: right;\n",
       "    }\n",
       "</style>\n",
       "<table border=\"1\" class=\"dataframe\">\n",
       "  <thead>\n",
       "    <tr style=\"text-align: right;\">\n",
       "      <th></th>\n",
       "      <th>id</th>\n",
       "      <th>lead_time</th>\n",
       "      <th>arrival_date_year</th>\n",
       "      <th>arrival_date_month</th>\n",
       "      <th>arrival_date_week_number</th>\n",
       "      <th>arrival_date_day_of_month</th>\n",
       "      <th>stays_in_weekend_nights</th>\n",
       "      <th>stays_in_week_nights</th>\n",
       "      <th>adults</th>\n",
       "      <th>children</th>\n",
       "      <th>...</th>\n",
       "      <th>is_repeated_guest</th>\n",
       "      <th>previous_cancellations</th>\n",
       "      <th>previous_bookings_not_canceled</th>\n",
       "      <th>reserved_room_type</th>\n",
       "      <th>booking_changes</th>\n",
       "      <th>days_in_waiting_list</th>\n",
       "      <th>customer_type</th>\n",
       "      <th>required_car_parking_spaces</th>\n",
       "      <th>total_of_special_requests</th>\n",
       "      <th>total_nights</th>\n",
       "    </tr>\n",
       "  </thead>\n",
       "  <tbody>\n",
       "    <tr>\n",
       "      <th>34495</th>\n",
       "      <td>42435</td>\n",
       "      <td>0.090111</td>\n",
       "      <td>2016</td>\n",
       "      <td>10.0</td>\n",
       "      <td>44</td>\n",
       "      <td>26</td>\n",
       "      <td>0</td>\n",
       "      <td>3</td>\n",
       "      <td>3.0</td>\n",
       "      <td>0.0</td>\n",
       "      <td>...</td>\n",
       "      <td>0</td>\n",
       "      <td>0</td>\n",
       "      <td>0</td>\n",
       "      <td>3.0</td>\n",
       "      <td>2</td>\n",
       "      <td>0</td>\n",
       "      <td>2.0</td>\n",
       "      <td>0</td>\n",
       "      <td>0</td>\n",
       "      <td>3</td>\n",
       "    </tr>\n",
       "    <tr>\n",
       "      <th>38778</th>\n",
       "      <td>57133</td>\n",
       "      <td>1.921026</td>\n",
       "      <td>2015</td>\n",
       "      <td>5.0</td>\n",
       "      <td>30</td>\n",
       "      <td>25</td>\n",
       "      <td>2</td>\n",
       "      <td>2</td>\n",
       "      <td>2.0</td>\n",
       "      <td>0.0</td>\n",
       "      <td>...</td>\n",
       "      <td>0</td>\n",
       "      <td>1</td>\n",
       "      <td>0</td>\n",
       "      <td>0.0</td>\n",
       "      <td>0</td>\n",
       "      <td>0</td>\n",
       "      <td>3.0</td>\n",
       "      <td>0</td>\n",
       "      <td>0</td>\n",
       "      <td>4</td>\n",
       "    </tr>\n",
       "    <tr>\n",
       "      <th>34964</th>\n",
       "      <td>42904</td>\n",
       "      <td>2.160293</td>\n",
       "      <td>2016</td>\n",
       "      <td>9.0</td>\n",
       "      <td>45</td>\n",
       "      <td>3</td>\n",
       "      <td>0</td>\n",
       "      <td>3</td>\n",
       "      <td>2.0</td>\n",
       "      <td>0.0</td>\n",
       "      <td>...</td>\n",
       "      <td>0</td>\n",
       "      <td>0</td>\n",
       "      <td>0</td>\n",
       "      <td>0.0</td>\n",
       "      <td>0</td>\n",
       "      <td>0</td>\n",
       "      <td>2.0</td>\n",
       "      <td>0</td>\n",
       "      <td>0</td>\n",
       "      <td>3</td>\n",
       "    </tr>\n",
       "    <tr>\n",
       "      <th>57152</th>\n",
       "      <td>75787</td>\n",
       "      <td>-0.565273</td>\n",
       "      <td>2016</td>\n",
       "      <td>1.0</td>\n",
       "      <td>34</td>\n",
       "      <td>14</td>\n",
       "      <td>2</td>\n",
       "      <td>2</td>\n",
       "      <td>2.0</td>\n",
       "      <td>0.0</td>\n",
       "      <td>...</td>\n",
       "      <td>0</td>\n",
       "      <td>0</td>\n",
       "      <td>0</td>\n",
       "      <td>0.0</td>\n",
       "      <td>0</td>\n",
       "      <td>0</td>\n",
       "      <td>2.0</td>\n",
       "      <td>0</td>\n",
       "      <td>1</td>\n",
       "      <td>4</td>\n",
       "    </tr>\n",
       "    <tr>\n",
       "      <th>64980</th>\n",
       "      <td>83710</td>\n",
       "      <td>1.650550</td>\n",
       "      <td>2016</td>\n",
       "      <td>2.0</td>\n",
       "      <td>53</td>\n",
       "      <td>27</td>\n",
       "      <td>0</td>\n",
       "      <td>3</td>\n",
       "      <td>0.0</td>\n",
       "      <td>0.0</td>\n",
       "      <td>...</td>\n",
       "      <td>0</td>\n",
       "      <td>0</td>\n",
       "      <td>0</td>\n",
       "      <td>0.0</td>\n",
       "      <td>3</td>\n",
       "      <td>0</td>\n",
       "      <td>2.0</td>\n",
       "      <td>0</td>\n",
       "      <td>0</td>\n",
       "      <td>3</td>\n",
       "    </tr>\n",
       "    <tr>\n",
       "      <th>...</th>\n",
       "      <td>...</td>\n",
       "      <td>...</td>\n",
       "      <td>...</td>\n",
       "      <td>...</td>\n",
       "      <td>...</td>\n",
       "      <td>...</td>\n",
       "      <td>...</td>\n",
       "      <td>...</td>\n",
       "      <td>...</td>\n",
       "      <td>...</td>\n",
       "      <td>...</td>\n",
       "      <td>...</td>\n",
       "      <td>...</td>\n",
       "      <td>...</td>\n",
       "      <td>...</td>\n",
       "      <td>...</td>\n",
       "      <td>...</td>\n",
       "      <td>...</td>\n",
       "      <td>...</td>\n",
       "      <td>...</td>\n",
       "      <td>...</td>\n",
       "    </tr>\n",
       "    <tr>\n",
       "      <th>8275</th>\n",
       "      <td>10693</td>\n",
       "      <td>-0.825346</td>\n",
       "      <td>2015</td>\n",
       "      <td>10.0</td>\n",
       "      <td>44</td>\n",
       "      <td>29</td>\n",
       "      <td>1</td>\n",
       "      <td>3</td>\n",
       "      <td>2.0</td>\n",
       "      <td>0.0</td>\n",
       "      <td>...</td>\n",
       "      <td>0</td>\n",
       "      <td>0</td>\n",
       "      <td>0</td>\n",
       "      <td>4.0</td>\n",
       "      <td>0</td>\n",
       "      <td>0</td>\n",
       "      <td>2.0</td>\n",
       "      <td>0</td>\n",
       "      <td>1</td>\n",
       "      <td>4</td>\n",
       "    </tr>\n",
       "    <tr>\n",
       "      <th>37994</th>\n",
       "      <td>56349</td>\n",
       "      <td>2.482784</td>\n",
       "      <td>2015</td>\n",
       "      <td>11.0</td>\n",
       "      <td>38</td>\n",
       "      <td>17</td>\n",
       "      <td>0</td>\n",
       "      <td>1</td>\n",
       "      <td>2.0</td>\n",
       "      <td>0.0</td>\n",
       "      <td>...</td>\n",
       "      <td>0</td>\n",
       "      <td>1</td>\n",
       "      <td>0</td>\n",
       "      <td>0.0</td>\n",
       "      <td>0</td>\n",
       "      <td>0</td>\n",
       "      <td>2.0</td>\n",
       "      <td>0</td>\n",
       "      <td>0</td>\n",
       "      <td>1</td>\n",
       "    </tr>\n",
       "    <tr>\n",
       "      <th>5021</th>\n",
       "      <td>5079</td>\n",
       "      <td>2.493187</td>\n",
       "      <td>2016</td>\n",
       "      <td>11.0</td>\n",
       "      <td>38</td>\n",
       "      <td>15</td>\n",
       "      <td>0</td>\n",
       "      <td>3</td>\n",
       "      <td>1.0</td>\n",
       "      <td>0.0</td>\n",
       "      <td>...</td>\n",
       "      <td>0</td>\n",
       "      <td>0</td>\n",
       "      <td>0</td>\n",
       "      <td>0.0</td>\n",
       "      <td>1</td>\n",
       "      <td>0</td>\n",
       "      <td>3.0</td>\n",
       "      <td>0</td>\n",
       "      <td>0</td>\n",
       "      <td>3</td>\n",
       "    </tr>\n",
       "    <tr>\n",
       "      <th>29678</th>\n",
       "      <td>37618</td>\n",
       "      <td>1.837802</td>\n",
       "      <td>2016</td>\n",
       "      <td>6.0</td>\n",
       "      <td>26</td>\n",
       "      <td>24</td>\n",
       "      <td>1</td>\n",
       "      <td>2</td>\n",
       "      <td>2.0</td>\n",
       "      <td>0.0</td>\n",
       "      <td>...</td>\n",
       "      <td>0</td>\n",
       "      <td>0</td>\n",
       "      <td>0</td>\n",
       "      <td>0.0</td>\n",
       "      <td>1</td>\n",
       "      <td>0</td>\n",
       "      <td>2.0</td>\n",
       "      <td>0</td>\n",
       "      <td>0</td>\n",
       "      <td>3</td>\n",
       "    </tr>\n",
       "    <tr>\n",
       "      <th>39142</th>\n",
       "      <td>57497</td>\n",
       "      <td>2.129084</td>\n",
       "      <td>2015</td>\n",
       "      <td>1.0</td>\n",
       "      <td>33</td>\n",
       "      <td>14</td>\n",
       "      <td>0</td>\n",
       "      <td>2</td>\n",
       "      <td>2.0</td>\n",
       "      <td>0.0</td>\n",
       "      <td>...</td>\n",
       "      <td>0</td>\n",
       "      <td>1</td>\n",
       "      <td>0</td>\n",
       "      <td>0.0</td>\n",
       "      <td>0</td>\n",
       "      <td>0</td>\n",
       "      <td>3.0</td>\n",
       "      <td>0</td>\n",
       "      <td>0</td>\n",
       "      <td>2</td>\n",
       "    </tr>\n",
       "  </tbody>\n",
       "</table>\n",
       "<p>89273 rows × 24 columns</p>\n",
       "</div>"
      ],
      "text/plain": [
       "          id  lead_time  arrival_date_year  arrival_date_month  \\\n",
       "34495  42435   0.090111               2016                10.0   \n",
       "38778  57133   1.921026               2015                 5.0   \n",
       "34964  42904   2.160293               2016                 9.0   \n",
       "57152  75787  -0.565273               2016                 1.0   \n",
       "64980  83710   1.650550               2016                 2.0   \n",
       "...      ...        ...                ...                 ...   \n",
       "8275   10693  -0.825346               2015                10.0   \n",
       "37994  56349   2.482784               2015                11.0   \n",
       "5021    5079   2.493187               2016                11.0   \n",
       "29678  37618   1.837802               2016                 6.0   \n",
       "39142  57497   2.129084               2015                 1.0   \n",
       "\n",
       "       arrival_date_week_number  arrival_date_day_of_month  \\\n",
       "34495                        44                         26   \n",
       "38778                        30                         25   \n",
       "34964                        45                          3   \n",
       "57152                        34                         14   \n",
       "64980                        53                         27   \n",
       "...                         ...                        ...   \n",
       "8275                         44                         29   \n",
       "37994                        38                         17   \n",
       "5021                         38                         15   \n",
       "29678                        26                         24   \n",
       "39142                        33                         14   \n",
       "\n",
       "       stays_in_weekend_nights  stays_in_week_nights  adults  children  ...  \\\n",
       "34495                        0                     3     3.0       0.0  ...   \n",
       "38778                        2                     2     2.0       0.0  ...   \n",
       "34964                        0                     3     2.0       0.0  ...   \n",
       "57152                        2                     2     2.0       0.0  ...   \n",
       "64980                        0                     3     0.0       0.0  ...   \n",
       "...                        ...                   ...     ...       ...  ...   \n",
       "8275                         1                     3     2.0       0.0  ...   \n",
       "37994                        0                     1     2.0       0.0  ...   \n",
       "5021                         0                     3     1.0       0.0  ...   \n",
       "29678                        1                     2     2.0       0.0  ...   \n",
       "39142                        0                     2     2.0       0.0  ...   \n",
       "\n",
       "       is_repeated_guest  previous_cancellations  \\\n",
       "34495                  0                       0   \n",
       "38778                  0                       1   \n",
       "34964                  0                       0   \n",
       "57152                  0                       0   \n",
       "64980                  0                       0   \n",
       "...                  ...                     ...   \n",
       "8275                   0                       0   \n",
       "37994                  0                       1   \n",
       "5021                   0                       0   \n",
       "29678                  0                       0   \n",
       "39142                  0                       1   \n",
       "\n",
       "       previous_bookings_not_canceled  reserved_room_type  booking_changes  \\\n",
       "34495                               0                 3.0                2   \n",
       "38778                               0                 0.0                0   \n",
       "34964                               0                 0.0                0   \n",
       "57152                               0                 0.0                0   \n",
       "64980                               0                 0.0                3   \n",
       "...                               ...                 ...              ...   \n",
       "8275                                0                 4.0                0   \n",
       "37994                               0                 0.0                0   \n",
       "5021                                0                 0.0                1   \n",
       "29678                               0                 0.0                1   \n",
       "39142                               0                 0.0                0   \n",
       "\n",
       "       days_in_waiting_list  customer_type  required_car_parking_spaces  \\\n",
       "34495                     0            2.0                            0   \n",
       "38778                     0            3.0                            0   \n",
       "34964                     0            2.0                            0   \n",
       "57152                     0            2.0                            0   \n",
       "64980                     0            2.0                            0   \n",
       "...                     ...            ...                          ...   \n",
       "8275                      0            2.0                            0   \n",
       "37994                     0            2.0                            0   \n",
       "5021                      0            3.0                            0   \n",
       "29678                     0            2.0                            0   \n",
       "39142                     0            3.0                            0   \n",
       "\n",
       "       total_of_special_requests  total_nights  \n",
       "34495                          0             3  \n",
       "38778                          0             4  \n",
       "34964                          0             3  \n",
       "57152                          1             4  \n",
       "64980                          0             3  \n",
       "...                          ...           ...  \n",
       "8275                           1             4  \n",
       "37994                          0             1  \n",
       "5021                           0             3  \n",
       "29678                          0             3  \n",
       "39142                          0             2  \n",
       "\n",
       "[89273 rows x 24 columns]"
      ]
     },
     "execution_count": 34,
     "metadata": {},
     "output_type": "execute_result"
    }
   ],
   "source": [
    "features_train"
   ]
  },
  {
   "cell_type": "markdown",
   "metadata": {},
   "source": [
    "1. Использование модели логистической регрессии:"
   ]
  },
  {
   "cell_type": "code",
   "execution_count": 35,
   "metadata": {},
   "outputs": [
    {
     "name": "stdout",
     "output_type": "stream",
     "text": [
      "метрика качества, оцененная методом кросс-валидации, для модели логистической регрессии:0.7971966363042673\n",
      "метрика f1 для модели логистической регрессии на тестовых данных:0.5373559129073574\n"
     ]
    }
   ],
   "source": [
    "model_logregression = LogisticRegression(random_state=12345, solver='liblinear')\n",
    "model_logregression.fit(features_train, target_train)\n",
    "predicted_test = model_logregression.predict(features_test)\n",
    "#score = accuracy_score(target_test, predicted_test)\n",
    "score_f1 = f1_score(target_test, predicted_test)\n",
    "scores = cross_val_score(model_logregression, features_train, target_train, cv=5, scoring = 'f1')\n",
    "temp_score = sum(scores)/len(scores)\n",
    "print(f'метрика качества, оцененная методом кросс-валидации, для модели логистической регрессии:{temp_score}')\n",
    "print(f'метрика f1 для модели логистической регрессии на тестовых данных:{score_f1}')"
   ]
  },
  {
   "cell_type": "markdown",
   "metadata": {},
   "source": [
    "<div class=\"alert alert-block alert-success\">\n",
    "<b>✔️ Комментарий ревьюера: </b> Ок, предлагаю вместо accuracy оценить f1-меру для кросс-валидации. Есть параметр scoring = \"f1\"\n",
    "</div>"
   ]
  },
  {
   "cell_type": "markdown",
   "metadata": {},
   "source": [
    "2. Использование модели случайного дерева с поиском оптимальной глубины по метрике кросс-валидации:"
   ]
  },
  {
   "cell_type": "code",
   "execution_count": 36,
   "metadata": {},
   "outputs": [
    {
     "name": "stdout",
     "output_type": "stream",
     "text": [
      "depth=1, temp_score=0.816627190592557\n",
      "depth=2, temp_score=0.7908189751180201\n",
      "depth=3, temp_score=0.8700405744457615\n",
      "depth=4, temp_score=0.9095973015679025\n",
      "depth=5, temp_score=0.9454396050898562\n",
      "depth=6, temp_score=0.9510145334752422\n",
      "depth=7, temp_score=0.9570917757476675\n",
      "depth=8, temp_score=0.959761493121343\n",
      "depth=9, temp_score=0.9627559881333546\n",
      "depth=10, temp_score=0.9665817362304931\n",
      "depth=11, temp_score=0.9691371727615821\n",
      "depth=12, temp_score=0.9720853084771269\n",
      "depth=13, temp_score=0.9733211684449115\n",
      "depth=14, temp_score=0.9748989246896546\n",
      "depth=15, temp_score=0.976647766984445\n",
      "depth=16, temp_score=0.9778392846260127\n",
      "depth=17, temp_score=0.9790729509749072\n",
      "depth=18, temp_score=0.9801695676285371\n",
      "depth=19, temp_score=0.9805890745767023\n",
      "depth=20, temp_score=0.9812546927722161\n",
      "depth=21, temp_score=0.9818601257060632\n",
      "depth=22, temp_score=0.9819478912879497\n",
      "depth=23, temp_score=0.9820352956032388\n",
      "depth=24, temp_score=0.982656604338823\n",
      "depth=25, temp_score=0.9827477616891587\n",
      "depth=26, temp_score=0.9829872375931419\n",
      "depth=27, temp_score=0.982750959384272\n",
      "depth=28, temp_score=0.9828744132863246\n",
      "depth=29, temp_score=0.9830971585673833\n",
      "depth=30, temp_score=0.9832353041706485\n",
      "depth=31, temp_score=0.9832631484912167\n",
      "depth=32, temp_score=0.9833446761659562\n",
      "depth=33, temp_score=0.9833102144484469\n",
      "depth=34, temp_score=0.9835357791943732\n",
      "depth=35, temp_score=0.983443184599303\n",
      "depth=36, temp_score=0.9835357825633327\n",
      "depth=37, temp_score=0.9835061393842993\n",
      "depth=38, temp_score=0.9835459577324368\n",
      "depth=39, temp_score=0.983502256599879\n",
      "depth=40, temp_score=0.9834527336634394\n",
      "depth=41, temp_score=0.9836066995746432\n",
      "depth=42, temp_score=0.9835232234313838\n",
      "depth=43, temp_score=0.983523936758451\n",
      "depth=44, temp_score=0.9834635769271645\n",
      "depth=45, temp_score=0.9834635769271645\n",
      "depth=46, temp_score=0.9834635769271645\n",
      "depth=47, temp_score=0.9834635769271645\n",
      "depth=48, temp_score=0.9834635769271645\n",
      "depth=49, temp_score=0.9834635769271645\n",
      "depth=50, temp_score=0.9834635769271645\n",
      "depth=51, temp_score=0.9834635769271645\n",
      "depth=52, temp_score=0.9834635769271645\n",
      "depth=53, temp_score=0.9834635769271645\n",
      "depth=54, temp_score=0.9834635769271645\n",
      "depth=55, temp_score=0.9834635769271645\n",
      "depth=56, temp_score=0.9834635769271645\n",
      "depth=57, temp_score=0.9834635769271645\n",
      "depth=58, temp_score=0.9834635769271645\n",
      "depth=59, temp_score=0.9834635769271645\n",
      "depth=60, temp_score=0.9834635769271645\n",
      "depth=61, temp_score=0.9834635769271645\n",
      "depth=62, temp_score=0.9834635769271645\n",
      "depth=63, temp_score=0.9834635769271645\n",
      "depth=64, temp_score=0.9834635769271645\n",
      "depth=65, temp_score=0.9834635769271645\n",
      "depth=66, temp_score=0.9834635769271645\n",
      "depth=67, temp_score=0.9834635769271645\n",
      "depth=68, temp_score=0.9834635769271645\n",
      "depth=69, temp_score=0.9834635769271645\n",
      "depth=70, temp_score=0.9834635769271645\n",
      "depth=71, temp_score=0.9834635769271645\n",
      "depth=72, temp_score=0.9834635769271645\n",
      "depth=73, temp_score=0.9834635769271645\n",
      "depth=74, temp_score=0.9834635769271645\n",
      "depth=75, temp_score=0.9834635769271645\n",
      "depth=76, temp_score=0.9834635769271645\n",
      "depth=77, temp_score=0.9834635769271645\n",
      "depth=78, temp_score=0.9834635769271645\n",
      "depth=79, temp_score=0.9834635769271645\n",
      "depth=80, temp_score=0.9834635769271645\n",
      "depth=81, temp_score=0.9834635769271645\n",
      "depth=82, temp_score=0.9834635769271645\n",
      "depth=83, temp_score=0.9834635769271645\n",
      "depth=84, temp_score=0.9834635769271645\n",
      "depth=85, temp_score=0.9834635769271645\n",
      "depth=86, temp_score=0.9834635769271645\n",
      "depth=87, temp_score=0.9834635769271645\n",
      "depth=88, temp_score=0.9834635769271645\n",
      "depth=89, temp_score=0.9834635769271645\n",
      "depth=90, temp_score=0.9834635769271645\n",
      "depth=91, temp_score=0.9834635769271645\n",
      "depth=92, temp_score=0.9834635769271645\n",
      "depth=93, temp_score=0.9834635769271645\n",
      "depth=94, temp_score=0.9834635769271645\n",
      "depth=95, temp_score=0.9834635769271645\n",
      "depth=96, temp_score=0.9834635769271645\n",
      "depth=97, temp_score=0.9834635769271645\n",
      "depth=98, temp_score=0.9834635769271645\n",
      "depth=99, temp_score=0.9834635769271645\n",
      "depth=100, temp_score=0.9834635769271645\n",
      "=======================\n",
      "best_depth= 41\n"
     ]
    }
   ],
   "source": [
    "best_score = 0\n",
    "best_depth = 0\n",
    "best_model_tree = None\n",
    "for depth in range(1, 101, 1):\n",
    "    model = DecisionTreeClassifier(max_depth = depth, random_state = 12345)\n",
    "    scores = cross_val_score(model, features_train, target_train, cv=5, scoring = 'f1')\n",
    "    temp_score = sum(scores)/len(scores)\n",
    "    print(f'depth={depth}, temp_score={temp_score}')\n",
    "    if temp_score > best_score:\n",
    "        best_score = temp_score\n",
    "        best_depth = depth\n",
    "        best_model_tree = model\n",
    "print('=======================')\n",
    "print('best_depth=', best_depth)"
   ]
  },
  {
   "cell_type": "markdown",
   "metadata": {},
   "source": [
    "<div class=\"alert alert-block alert-success\">\n",
    "<b>✔️ Комментарий ревьюера:</b> Отлично. Перебор параметров лучше осуществлять через GridSearchCV в библиотеке sklearn.\n",
    "https://vc.ru/ml/147132-kak-avtomaticheski-podobrat-parametry-dlya-modeli-mashinnogo-obucheniya-ispolzuem-gridsearchcv\n",
    "</div>"
   ]
  },
  {
   "cell_type": "markdown",
   "metadata": {},
   "source": [
    "<div class=\"alert alert-block alert-danger\">\n",
    "<b>❌ Комментарий ревьюера: </b> Нельзя сравнивать метрики на обучающих данных и метрики на тестовых данных. best_model_tree нет смыла использовать в кросс валидации, так как модель уже обучена. Предлагаю это поправить и модель, обученную на кросс-валидации проверить на тестовой выборке\n",
    "</div>"
   ]
  },
  {
   "cell_type": "code",
   "execution_count": 37,
   "metadata": {},
   "outputs": [
    {
     "name": "stdout",
     "output_type": "stream",
     "text": [
      "f1_score=0.87\n"
     ]
    }
   ],
   "source": [
    "best_model_tree.fit(features_train, target_train)\n",
    "predicted_test = best_model_tree.predict(features_test)\n",
    "score_f1 = f1_score(target_test, predicted_test)\n",
    "print(f'f1_score={score_f1:.2f}')"
   ]
  },
  {
   "cell_type": "markdown",
   "metadata": {},
   "source": [
    "<div class=\"alert alert-block alert-info\">\n",
    "<b>Комментарий студента:</b> не получается. Перебором мне выдается модель best_model_tree. Однако при попытке predict на тестовых данных выдает ошибку: 'This DecisionTreeClassifier instance is not fitted yet. Call 'fit' with appropriate arguments before using this estimator'. Пришлось ее fit на train дате.\n",
    "</div>"
   ]
  },
  {
   "cell_type": "markdown",
   "metadata": {},
   "source": [
    "<div class=\"alert alert-block alert-success\">\n",
    "<b>✔️ Комментарий ревьюера v2: </b> Да, так. Кросс-валидация нужна для определения гиперпараметров модели. И используется в случае, когда мало данных и сложно выделить отдельную валидационную выборку. Но есть обратная сторона - скорость. Кросс-валидация довольно медленная.\n",
    "\n",
    "По поводу: instance is not fitted yet. Если залесть в исходный код cross_val_score, то там видно, что происходит обучение не с переданной моделью, а с её копией. Поэтому исходная модель не обучается.\n",
    "    \n",
    "Несколько практических примеров:\n",
    "    \n",
    "https://scikit-learn.ru/3-1-cross-validation-evaluating-estimator-performance/\n",
    "</div>"
   ]
  },
  {
   "cell_type": "markdown",
   "metadata": {},
   "source": [
    "3. Поиск наилучшей по критерию кросс-валидации модели случайного леса с переменным количетвом деревьев и глубиной отдельного дерева:"
   ]
  },
  {
   "cell_type": "code",
   "execution_count": 38,
   "metadata": {},
   "outputs": [
    {
     "name": "stdout",
     "output_type": "stream",
     "text": [
      "depth=1, est:1, temp_score=0.64\n",
      "depth=1, est:2, temp_score=0.64\n",
      "depth=1, est:3, temp_score=0.78\n",
      "depth=1, est:4, temp_score=0.78\n",
      "depth=1, est:5, temp_score=0.78\n",
      "depth=1, est:6, temp_score=0.79\n",
      "depth=1, est:7, temp_score=0.78\n",
      "depth=1, est:8, temp_score=0.78\n",
      "depth=1, est:9, temp_score=0.78\n",
      "depth=1, est:10, temp_score=0.78\n",
      "depth=1, est:11, temp_score=0.79\n",
      "depth=1, est:12, temp_score=0.80\n",
      "depth=1, est:13, temp_score=0.80\n",
      "depth=1, est:14, temp_score=0.80\n",
      "depth=1, est:15, temp_score=0.79\n",
      "depth=1, est:16, temp_score=0.80\n",
      "depth=1, est:17, temp_score=0.79\n",
      "depth=1, est:18, temp_score=0.79\n",
      "depth=1, est:19, temp_score=0.78\n",
      "depth=2, est:1, temp_score=0.66\n",
      "depth=2, est:2, temp_score=0.73\n",
      "depth=2, est:3, temp_score=0.79\n",
      "depth=2, est:4, temp_score=0.77\n",
      "depth=2, est:5, temp_score=0.79\n",
      "depth=2, est:6, temp_score=0.80\n",
      "depth=2, est:7, temp_score=0.80\n",
      "depth=2, est:8, temp_score=0.80\n",
      "depth=2, est:9, temp_score=0.81\n",
      "depth=2, est:10, temp_score=0.81\n",
      "depth=2, est:11, temp_score=0.81\n",
      "depth=2, est:12, temp_score=0.82\n",
      "depth=2, est:13, temp_score=0.82\n",
      "depth=2, est:14, temp_score=0.82\n",
      "depth=2, est:15, temp_score=0.81\n",
      "depth=2, est:16, temp_score=0.82\n",
      "depth=2, est:17, temp_score=0.82\n",
      "depth=2, est:18, temp_score=0.82\n",
      "depth=2, est:19, temp_score=0.82\n",
      "depth=3, est:1, temp_score=0.73\n",
      "depth=3, est:2, temp_score=0.80\n",
      "depth=3, est:3, temp_score=0.81\n",
      "depth=3, est:4, temp_score=0.82\n",
      "depth=3, est:5, temp_score=0.82\n",
      "depth=3, est:6, temp_score=0.83\n",
      "depth=3, est:7, temp_score=0.83\n",
      "depth=3, est:8, temp_score=0.85\n",
      "depth=3, est:9, temp_score=0.86\n",
      "depth=3, est:10, temp_score=0.86\n",
      "depth=3, est:11, temp_score=0.86\n",
      "depth=3, est:12, temp_score=0.86\n",
      "depth=3, est:13, temp_score=0.86\n",
      "depth=3, est:14, temp_score=0.86\n",
      "depth=3, est:15, temp_score=0.85\n",
      "depth=3, est:16, temp_score=0.87\n",
      "depth=3, est:17, temp_score=0.88\n",
      "depth=3, est:18, temp_score=0.88\n",
      "depth=3, est:19, temp_score=0.88\n",
      "depth=4, est:1, temp_score=0.80\n",
      "depth=4, est:2, temp_score=0.83\n",
      "depth=4, est:3, temp_score=0.84\n",
      "depth=4, est:4, temp_score=0.86\n",
      "depth=4, est:5, temp_score=0.85\n",
      "depth=4, est:6, temp_score=0.88\n",
      "depth=4, est:7, temp_score=0.87\n",
      "depth=4, est:8, temp_score=0.88\n",
      "depth=4, est:9, temp_score=0.89\n",
      "depth=4, est:10, temp_score=0.89\n",
      "depth=4, est:11, temp_score=0.88\n",
      "depth=4, est:12, temp_score=0.87\n",
      "depth=4, est:13, temp_score=0.88\n",
      "depth=4, est:14, temp_score=0.88\n",
      "depth=4, est:15, temp_score=0.88\n",
      "depth=4, est:16, temp_score=0.89\n",
      "depth=4, est:17, temp_score=0.90\n",
      "depth=4, est:18, temp_score=0.90\n",
      "depth=4, est:19, temp_score=0.90\n",
      "depth=5, est:1, temp_score=0.81\n",
      "depth=5, est:2, temp_score=0.84\n",
      "depth=5, est:3, temp_score=0.85\n",
      "depth=5, est:4, temp_score=0.86\n",
      "depth=5, est:5, temp_score=0.86\n",
      "depth=5, est:6, temp_score=0.87\n",
      "depth=5, est:7, temp_score=0.87\n",
      "depth=5, est:8, temp_score=0.88\n",
      "depth=5, est:9, temp_score=0.90\n",
      "depth=5, est:10, temp_score=0.89\n",
      "depth=5, est:11, temp_score=0.89\n",
      "depth=5, est:12, temp_score=0.89\n",
      "depth=5, est:13, temp_score=0.89\n",
      "depth=5, est:14, temp_score=0.89\n",
      "depth=5, est:15, temp_score=0.89\n",
      "depth=5, est:16, temp_score=0.90\n",
      "depth=5, est:17, temp_score=0.90\n",
      "depth=5, est:18, temp_score=0.90\n",
      "depth=5, est:19, temp_score=0.90\n",
      "depth=6, est:1, temp_score=0.81\n",
      "depth=6, est:2, temp_score=0.85\n",
      "depth=6, est:3, temp_score=0.87\n",
      "depth=6, est:4, temp_score=0.87\n",
      "depth=6, est:5, temp_score=0.88\n",
      "depth=6, est:6, temp_score=0.89\n",
      "depth=6, est:7, temp_score=0.89\n",
      "depth=6, est:8, temp_score=0.89\n",
      "depth=6, est:9, temp_score=0.91\n",
      "depth=6, est:10, temp_score=0.91\n",
      "depth=6, est:11, temp_score=0.91\n",
      "depth=6, est:12, temp_score=0.91\n",
      "depth=6, est:13, temp_score=0.91\n",
      "depth=6, est:14, temp_score=0.91\n",
      "depth=6, est:15, temp_score=0.91\n",
      "depth=6, est:16, temp_score=0.92\n",
      "depth=6, est:17, temp_score=0.92\n",
      "depth=6, est:18, temp_score=0.92\n",
      "depth=6, est:19, temp_score=0.92\n",
      "depth=7, est:1, temp_score=0.83\n",
      "depth=7, est:2, temp_score=0.88\n",
      "depth=7, est:3, temp_score=0.90\n",
      "depth=7, est:4, temp_score=0.90\n",
      "depth=7, est:5, temp_score=0.91\n",
      "depth=7, est:6, temp_score=0.91\n",
      "depth=7, est:7, temp_score=0.91\n",
      "depth=7, est:8, temp_score=0.92\n",
      "depth=7, est:9, temp_score=0.92\n",
      "depth=7, est:10, temp_score=0.92\n",
      "depth=7, est:11, temp_score=0.92\n",
      "depth=7, est:12, temp_score=0.92\n",
      "depth=7, est:13, temp_score=0.92\n",
      "depth=7, est:14, temp_score=0.93\n",
      "depth=7, est:15, temp_score=0.93\n",
      "depth=7, est:16, temp_score=0.93\n",
      "depth=7, est:17, temp_score=0.93\n",
      "depth=7, est:18, temp_score=0.93\n",
      "depth=7, est:19, temp_score=0.93\n",
      "depth=8, est:1, temp_score=0.81\n",
      "depth=8, est:2, temp_score=0.88\n",
      "depth=8, est:3, temp_score=0.92\n",
      "depth=8, est:4, temp_score=0.92\n",
      "depth=8, est:5, temp_score=0.92\n",
      "depth=8, est:6, temp_score=0.92\n",
      "depth=8, est:7, temp_score=0.93\n",
      "depth=8, est:8, temp_score=0.93\n",
      "depth=8, est:9, temp_score=0.94\n",
      "depth=8, est:10, temp_score=0.94\n",
      "depth=8, est:11, temp_score=0.93\n",
      "depth=8, est:12, temp_score=0.93\n",
      "depth=8, est:13, temp_score=0.94\n",
      "depth=8, est:14, temp_score=0.94\n",
      "depth=8, est:15, temp_score=0.94\n",
      "depth=8, est:16, temp_score=0.94\n",
      "depth=8, est:17, temp_score=0.94\n",
      "depth=8, est:18, temp_score=0.94\n",
      "depth=8, est:19, temp_score=0.94\n",
      "depth=9, est:1, temp_score=0.84\n",
      "depth=9, est:2, temp_score=0.91\n",
      "depth=9, est:3, temp_score=0.93\n",
      "depth=9, est:4, temp_score=0.94\n",
      "depth=9, est:5, temp_score=0.94\n",
      "depth=9, est:6, temp_score=0.94\n",
      "depth=9, est:7, temp_score=0.94\n",
      "depth=9, est:8, temp_score=0.94\n",
      "depth=9, est:9, temp_score=0.95\n",
      "depth=9, est:10, temp_score=0.95\n",
      "depth=9, est:11, temp_score=0.95\n",
      "depth=9, est:12, temp_score=0.95\n",
      "depth=9, est:13, temp_score=0.95\n",
      "depth=9, est:14, temp_score=0.95\n",
      "depth=9, est:15, temp_score=0.95\n",
      "depth=9, est:16, temp_score=0.95\n",
      "depth=9, est:17, temp_score=0.95\n",
      "depth=9, est:18, temp_score=0.95\n",
      "depth=9, est:19, temp_score=0.94\n",
      "depth=10, est:1, temp_score=0.88\n",
      "depth=10, est:2, temp_score=0.93\n",
      "depth=10, est:3, temp_score=0.94\n",
      "depth=10, est:4, temp_score=0.94\n",
      "depth=10, est:5, temp_score=0.94\n",
      "depth=10, est:6, temp_score=0.95\n",
      "depth=10, est:7, temp_score=0.95\n",
      "depth=10, est:8, temp_score=0.95\n",
      "depth=10, est:9, temp_score=0.95\n",
      "depth=10, est:10, temp_score=0.95\n",
      "depth=10, est:11, temp_score=0.95\n",
      "depth=10, est:12, temp_score=0.95\n",
      "depth=10, est:13, temp_score=0.95\n",
      "depth=10, est:14, temp_score=0.95\n",
      "depth=10, est:15, temp_score=0.95\n",
      "depth=10, est:16, temp_score=0.95\n",
      "depth=10, est:17, temp_score=0.95\n",
      "depth=10, est:18, temp_score=0.95\n",
      "depth=10, est:19, temp_score=0.95\n",
      "depth=11, est:1, temp_score=0.91\n",
      "depth=11, est:2, temp_score=0.93\n",
      "depth=11, est:3, temp_score=0.94\n",
      "depth=11, est:4, temp_score=0.95\n",
      "depth=11, est:5, temp_score=0.95\n",
      "depth=11, est:6, temp_score=0.95\n",
      "depth=11, est:7, temp_score=0.95\n",
      "depth=11, est:8, temp_score=0.95\n",
      "depth=11, est:9, temp_score=0.96\n",
      "depth=11, est:10, temp_score=0.96\n",
      "depth=11, est:11, temp_score=0.95\n",
      "depth=11, est:12, temp_score=0.95\n",
      "depth=11, est:13, temp_score=0.95\n",
      "depth=11, est:14, temp_score=0.96\n",
      "depth=11, est:15, temp_score=0.96\n",
      "depth=11, est:16, temp_score=0.96\n",
      "depth=11, est:17, temp_score=0.96\n",
      "depth=11, est:18, temp_score=0.96\n",
      "depth=11, est:19, temp_score=0.96\n",
      "depth=12, est:1, temp_score=0.90\n",
      "depth=12, est:2, temp_score=0.93\n",
      "depth=12, est:3, temp_score=0.94\n",
      "depth=12, est:4, temp_score=0.95\n",
      "depth=12, est:5, temp_score=0.95\n",
      "depth=12, est:6, temp_score=0.96\n",
      "depth=12, est:7, temp_score=0.96\n",
      "depth=12, est:8, temp_score=0.96\n",
      "depth=12, est:9, temp_score=0.96\n",
      "depth=12, est:10, temp_score=0.96\n",
      "depth=12, est:11, temp_score=0.96\n",
      "depth=12, est:12, temp_score=0.96\n",
      "depth=12, est:13, temp_score=0.96\n",
      "depth=12, est:14, temp_score=0.96\n",
      "depth=12, est:15, temp_score=0.96\n",
      "depth=12, est:16, temp_score=0.96\n",
      "depth=12, est:17, temp_score=0.96\n",
      "depth=12, est:18, temp_score=0.96\n",
      "depth=12, est:19, temp_score=0.96\n",
      "depth=13, est:1, temp_score=0.91\n",
      "depth=13, est:2, temp_score=0.94\n",
      "depth=13, est:3, temp_score=0.95\n",
      "depth=13, est:4, temp_score=0.95\n",
      "depth=13, est:5, temp_score=0.96\n",
      "depth=13, est:6, temp_score=0.96\n",
      "depth=13, est:7, temp_score=0.96\n",
      "depth=13, est:8, temp_score=0.96\n",
      "depth=13, est:9, temp_score=0.97\n",
      "depth=13, est:10, temp_score=0.96\n",
      "depth=13, est:11, temp_score=0.96\n",
      "depth=13, est:12, temp_score=0.96\n",
      "depth=13, est:13, temp_score=0.96\n",
      "depth=13, est:14, temp_score=0.96\n",
      "depth=13, est:15, temp_score=0.97\n",
      "depth=13, est:16, temp_score=0.97\n",
      "depth=13, est:17, temp_score=0.97\n",
      "depth=13, est:18, temp_score=0.97\n",
      "depth=13, est:19, temp_score=0.97\n",
      "depth=14, est:1, temp_score=0.93\n",
      "depth=14, est:2, temp_score=0.95\n",
      "depth=14, est:3, temp_score=0.96\n"
     ]
    },
    {
     "name": "stdout",
     "output_type": "stream",
     "text": [
      "depth=14, est:4, temp_score=0.96\n",
      "depth=14, est:5, temp_score=0.96\n",
      "depth=14, est:6, temp_score=0.96\n",
      "depth=14, est:7, temp_score=0.96\n",
      "depth=14, est:8, temp_score=0.97\n",
      "depth=14, est:9, temp_score=0.97\n",
      "depth=14, est:10, temp_score=0.97\n",
      "depth=14, est:11, temp_score=0.97\n",
      "depth=14, est:12, temp_score=0.97\n",
      "depth=14, est:13, temp_score=0.97\n",
      "depth=14, est:14, temp_score=0.97\n",
      "depth=14, est:15, temp_score=0.97\n",
      "depth=14, est:16, temp_score=0.97\n",
      "depth=14, est:17, temp_score=0.97\n",
      "depth=14, est:18, temp_score=0.97\n",
      "depth=14, est:19, temp_score=0.97\n",
      "depth=15, est:1, temp_score=0.94\n",
      "depth=15, est:2, temp_score=0.96\n",
      "depth=15, est:3, temp_score=0.96\n",
      "depth=15, est:4, temp_score=0.97\n",
      "depth=15, est:5, temp_score=0.97\n",
      "depth=15, est:6, temp_score=0.97\n",
      "depth=15, est:7, temp_score=0.97\n",
      "depth=15, est:8, temp_score=0.97\n",
      "depth=15, est:9, temp_score=0.97\n",
      "depth=15, est:10, temp_score=0.97\n",
      "depth=15, est:11, temp_score=0.97\n",
      "depth=15, est:12, temp_score=0.97\n",
      "depth=15, est:13, temp_score=0.97\n",
      "depth=15, est:14, temp_score=0.97\n",
      "depth=15, est:15, temp_score=0.97\n",
      "depth=15, est:16, temp_score=0.97\n",
      "depth=15, est:17, temp_score=0.97\n",
      "depth=15, est:18, temp_score=0.97\n",
      "depth=15, est:19, temp_score=0.97\n",
      "depth=16, est:1, temp_score=0.93\n",
      "depth=16, est:2, temp_score=0.95\n",
      "depth=16, est:3, temp_score=0.96\n",
      "depth=16, est:4, temp_score=0.97\n",
      "depth=16, est:5, temp_score=0.97\n",
      "depth=16, est:6, temp_score=0.97\n",
      "depth=16, est:7, temp_score=0.97\n",
      "depth=16, est:8, temp_score=0.97\n",
      "depth=16, est:9, temp_score=0.97\n",
      "depth=16, est:10, temp_score=0.97\n",
      "depth=16, est:11, temp_score=0.97\n",
      "depth=16, est:12, temp_score=0.97\n",
      "depth=16, est:13, temp_score=0.98\n",
      "depth=16, est:14, temp_score=0.98\n",
      "depth=16, est:15, temp_score=0.98\n",
      "depth=16, est:16, temp_score=0.98\n",
      "depth=16, est:17, temp_score=0.98\n",
      "depth=16, est:18, temp_score=0.98\n",
      "depth=16, est:19, temp_score=0.98\n",
      "depth=17, est:1, temp_score=0.95\n",
      "depth=17, est:2, temp_score=0.96\n",
      "depth=17, est:3, temp_score=0.97\n",
      "depth=17, est:4, temp_score=0.97\n",
      "depth=17, est:5, temp_score=0.97\n",
      "depth=17, est:6, temp_score=0.97\n",
      "depth=17, est:7, temp_score=0.97\n",
      "depth=17, est:8, temp_score=0.98\n",
      "depth=17, est:9, temp_score=0.98\n",
      "depth=17, est:10, temp_score=0.98\n",
      "depth=17, est:11, temp_score=0.98\n",
      "depth=17, est:12, temp_score=0.98\n",
      "depth=17, est:13, temp_score=0.98\n",
      "depth=17, est:14, temp_score=0.98\n",
      "depth=17, est:15, temp_score=0.98\n",
      "depth=17, est:16, temp_score=0.98\n",
      "depth=17, est:17, temp_score=0.98\n",
      "depth=17, est:18, temp_score=0.98\n",
      "depth=17, est:19, temp_score=0.98\n",
      "depth=18, est:1, temp_score=0.94\n",
      "depth=18, est:2, temp_score=0.96\n",
      "depth=18, est:3, temp_score=0.97\n",
      "depth=18, est:4, temp_score=0.97\n",
      "depth=18, est:5, temp_score=0.97\n",
      "depth=18, est:6, temp_score=0.97\n",
      "depth=18, est:7, temp_score=0.98\n",
      "depth=18, est:8, temp_score=0.98\n",
      "depth=18, est:9, temp_score=0.98\n",
      "depth=18, est:10, temp_score=0.98\n",
      "depth=18, est:11, temp_score=0.98\n",
      "depth=18, est:12, temp_score=0.98\n",
      "depth=18, est:13, temp_score=0.98\n",
      "depth=18, est:14, temp_score=0.98\n",
      "depth=18, est:15, temp_score=0.98\n",
      "depth=18, est:16, temp_score=0.98\n",
      "depth=18, est:17, temp_score=0.98\n",
      "depth=18, est:18, temp_score=0.98\n",
      "depth=18, est:19, temp_score=0.98\n",
      "depth=19, est:1, temp_score=0.95\n",
      "depth=19, est:2, temp_score=0.96\n",
      "depth=19, est:3, temp_score=0.97\n",
      "depth=19, est:4, temp_score=0.97\n",
      "depth=19, est:5, temp_score=0.97\n",
      "depth=19, est:6, temp_score=0.98\n",
      "depth=19, est:7, temp_score=0.98\n",
      "depth=19, est:8, temp_score=0.98\n",
      "depth=19, est:9, temp_score=0.98\n",
      "depth=19, est:10, temp_score=0.98\n",
      "depth=19, est:11, temp_score=0.98\n",
      "depth=19, est:12, temp_score=0.98\n",
      "depth=19, est:13, temp_score=0.98\n",
      "depth=19, est:14, temp_score=0.98\n",
      "depth=19, est:15, temp_score=0.98\n",
      "depth=19, est:16, temp_score=0.98\n",
      "depth=19, est:17, temp_score=0.98\n",
      "depth=19, est:18, temp_score=0.98\n",
      "depth=19, est:19, temp_score=0.98\n",
      "==================ИТОГО==================\n",
      "opt_depth: 19\n",
      "opt_est: 18\n",
      "score: 0.9808676969991861\n"
     ]
    }
   ],
   "source": [
    "score = 0\n",
    "best_model_forest = None\n",
    "opt_depth = 1\n",
    "opt_est = 1\n",
    "for depth in range(1, 20, 1):\n",
    "    for est in range(1, 20, 1):\n",
    "        model = RandomForestClassifier(n_estimators = est, max_depth = depth, random_state = 12345)\n",
    "        scores = cross_val_score(model, features_train, target_train, cv=5)\n",
    "        temp_score = sum(scores)/len(scores)\n",
    "        print(f'depth={depth}, est:{est}, temp_score={temp_score:.2f}')\n",
    "        if temp_score > score:\n",
    "            score = temp_score\n",
    "            opt_depth = depth\n",
    "            opt_est = est\n",
    "            best_model_forest = model\n",
    "print('==================ИТОГО==================')\n",
    "print('opt_depth:', opt_depth)\n",
    "print('opt_est:', opt_est)\n",
    "print('score:', score)"
   ]
  },
  {
   "cell_type": "markdown",
   "metadata": {},
   "source": [
    "Перебором найдены оптимальная глубина дерева (19) и количество деревьев (18), сообщающие максимум среднему коэффициенту кросс-валидации."
   ]
  },
  {
   "cell_type": "markdown",
   "metadata": {},
   "source": [
    "<div class=\"alert alert-block alert-success\">\n",
    "<b>✔️ Комментарий ревьюера️:</b> Да, хорошо\n",
    "</div>"
   ]
  },
  {
   "cell_type": "code",
   "execution_count": 39,
   "metadata": {},
   "outputs": [
    {
     "name": "stdout",
     "output_type": "stream",
     "text": [
      "f1_score для модели случайного леса:0.8293078586878153\n"
     ]
    }
   ],
   "source": [
    "best_model_forest.fit(features_train, target_train)\n",
    "predicted_test = best_model_forest.predict(features_test)\n",
    "score_f1 = f1_score(target_test, predicted_test)\n",
    "print(f'f1_score для модели случайного леса:{score_f1}')"
   ]
  },
  {
   "cell_type": "markdown",
   "metadata": {},
   "source": [
    "<div class=\"alert alert-block alert-danger\">\n",
    "<b>❌ Комментарий ревьюера: </b> Нельзя сравнивать метрики на обучающих данных с метриками на тестовых данных.\n",
    "</div>"
   ]
  },
  {
   "cell_type": "markdown",
   "metadata": {},
   "source": [
    "<div class=\"alert alert-block alert-info\">\n",
    "<b>Комментарий студента:</b> Убрал расчеты метрик на тестовых данных при подборе оптимальной модели.\n",
    "</div>"
   ]
  },
  {
   "cell_type": "markdown",
   "metadata": {},
   "source": [
    "<div class=\"alert alert-block alert-success\">\n",
    "<b>✔️ Комментарий ревьюера v2:</b> Да, стало лучше\n",
    "</div>"
   ]
  },
  {
   "cell_type": "markdown",
   "metadata": {},
   "source": [
    "расчеты прибыли:"
   ]
  },
  {
   "cell_type": "code",
   "execution_count": 40,
   "metadata": {},
   "outputs": [],
   "source": [
    "test['clear_profit'] = test.apply(str_profit_without_deposit_1, axis = 1)"
   ]
  },
  {
   "cell_type": "code",
   "execution_count": 41,
   "metadata": {},
   "outputs": [
    {
     "data": {
      "text/html": [
       "<div>\n",
       "<style scoped>\n",
       "    .dataframe tbody tr th:only-of-type {\n",
       "        vertical-align: middle;\n",
       "    }\n",
       "\n",
       "    .dataframe tbody tr th {\n",
       "        vertical-align: top;\n",
       "    }\n",
       "\n",
       "    .dataframe thead th {\n",
       "        text-align: right;\n",
       "    }\n",
       "</style>\n",
       "<table border=\"1\" class=\"dataframe\">\n",
       "  <thead>\n",
       "    <tr style=\"text-align: right;\">\n",
       "      <th></th>\n",
       "      <th>id</th>\n",
       "      <th>is_canceled</th>\n",
       "      <th>lead_time</th>\n",
       "      <th>arrival_date_year</th>\n",
       "      <th>arrival_date_month</th>\n",
       "      <th>arrival_date_week_number</th>\n",
       "      <th>arrival_date_day_of_month</th>\n",
       "      <th>stays_in_weekend_nights</th>\n",
       "      <th>stays_in_week_nights</th>\n",
       "      <th>adults</th>\n",
       "      <th>...</th>\n",
       "      <th>days_in_waiting_list</th>\n",
       "      <th>customer_type</th>\n",
       "      <th>required_car_parking_spaces</th>\n",
       "      <th>total_of_special_requests</th>\n",
       "      <th>total_nights</th>\n",
       "      <th>price_room</th>\n",
       "      <th>price_clean</th>\n",
       "      <th>month_number</th>\n",
       "      <th>clear_profit</th>\n",
       "      <th>predicted_canceled</th>\n",
       "    </tr>\n",
       "  </thead>\n",
       "  <tbody>\n",
       "    <tr>\n",
       "      <th>0</th>\n",
       "      <td>6086</td>\n",
       "      <td>1</td>\n",
       "      <td>74.0</td>\n",
       "      <td>2017</td>\n",
       "      <td>January</td>\n",
       "      <td>1</td>\n",
       "      <td>1</td>\n",
       "      <td>1</td>\n",
       "      <td>0</td>\n",
       "      <td>2.0</td>\n",
       "      <td>...</td>\n",
       "      <td>0</td>\n",
       "      <td>Transient</td>\n",
       "      <td>0</td>\n",
       "      <td>0</td>\n",
       "      <td>1</td>\n",
       "      <td>1000</td>\n",
       "      <td>400</td>\n",
       "      <td>1</td>\n",
       "      <td>0</td>\n",
       "      <td>0</td>\n",
       "    </tr>\n",
       "    <tr>\n",
       "      <th>1</th>\n",
       "      <td>6087</td>\n",
       "      <td>1</td>\n",
       "      <td>62.0</td>\n",
       "      <td>2017</td>\n",
       "      <td>January</td>\n",
       "      <td>1</td>\n",
       "      <td>1</td>\n",
       "      <td>2</td>\n",
       "      <td>2</td>\n",
       "      <td>2.0</td>\n",
       "      <td>...</td>\n",
       "      <td>0</td>\n",
       "      <td>Transient</td>\n",
       "      <td>0</td>\n",
       "      <td>1</td>\n",
       "      <td>4</td>\n",
       "      <td>1000</td>\n",
       "      <td>400</td>\n",
       "      <td>1</td>\n",
       "      <td>0</td>\n",
       "      <td>0</td>\n",
       "    </tr>\n",
       "    <tr>\n",
       "      <th>2</th>\n",
       "      <td>6088</td>\n",
       "      <td>1</td>\n",
       "      <td>62.0</td>\n",
       "      <td>2017</td>\n",
       "      <td>January</td>\n",
       "      <td>1</td>\n",
       "      <td>1</td>\n",
       "      <td>2</td>\n",
       "      <td>2</td>\n",
       "      <td>2.0</td>\n",
       "      <td>...</td>\n",
       "      <td>0</td>\n",
       "      <td>Transient</td>\n",
       "      <td>0</td>\n",
       "      <td>1</td>\n",
       "      <td>4</td>\n",
       "      <td>1000</td>\n",
       "      <td>400</td>\n",
       "      <td>1</td>\n",
       "      <td>0</td>\n",
       "      <td>1</td>\n",
       "    </tr>\n",
       "    <tr>\n",
       "      <th>3</th>\n",
       "      <td>6089</td>\n",
       "      <td>1</td>\n",
       "      <td>71.0</td>\n",
       "      <td>2017</td>\n",
       "      <td>January</td>\n",
       "      <td>1</td>\n",
       "      <td>1</td>\n",
       "      <td>2</td>\n",
       "      <td>2</td>\n",
       "      <td>1.0</td>\n",
       "      <td>...</td>\n",
       "      <td>0</td>\n",
       "      <td>Transient</td>\n",
       "      <td>0</td>\n",
       "      <td>1</td>\n",
       "      <td>4</td>\n",
       "      <td>1000</td>\n",
       "      <td>400</td>\n",
       "      <td>1</td>\n",
       "      <td>0</td>\n",
       "      <td>1</td>\n",
       "    </tr>\n",
       "    <tr>\n",
       "      <th>4</th>\n",
       "      <td>6090</td>\n",
       "      <td>1</td>\n",
       "      <td>172.0</td>\n",
       "      <td>2017</td>\n",
       "      <td>January</td>\n",
       "      <td>1</td>\n",
       "      <td>1</td>\n",
       "      <td>2</td>\n",
       "      <td>5</td>\n",
       "      <td>2.0</td>\n",
       "      <td>...</td>\n",
       "      <td>0</td>\n",
       "      <td>Transient</td>\n",
       "      <td>0</td>\n",
       "      <td>0</td>\n",
       "      <td>7</td>\n",
       "      <td>1000</td>\n",
       "      <td>400</td>\n",
       "      <td>1</td>\n",
       "      <td>0</td>\n",
       "      <td>1</td>\n",
       "    </tr>\n",
       "    <tr>\n",
       "      <th>...</th>\n",
       "      <td>...</td>\n",
       "      <td>...</td>\n",
       "      <td>...</td>\n",
       "      <td>...</td>\n",
       "      <td>...</td>\n",
       "      <td>...</td>\n",
       "      <td>...</td>\n",
       "      <td>...</td>\n",
       "      <td>...</td>\n",
       "      <td>...</td>\n",
       "      <td>...</td>\n",
       "      <td>...</td>\n",
       "      <td>...</td>\n",
       "      <td>...</td>\n",
       "      <td>...</td>\n",
       "      <td>...</td>\n",
       "      <td>...</td>\n",
       "      <td>...</td>\n",
       "      <td>...</td>\n",
       "      <td>...</td>\n",
       "      <td>...</td>\n",
       "    </tr>\n",
       "    <tr>\n",
       "      <th>32407</th>\n",
       "      <td>97899</td>\n",
       "      <td>0</td>\n",
       "      <td>164.0</td>\n",
       "      <td>2017</td>\n",
       "      <td>August</td>\n",
       "      <td>35</td>\n",
       "      <td>31</td>\n",
       "      <td>2</td>\n",
       "      <td>4</td>\n",
       "      <td>2.0</td>\n",
       "      <td>...</td>\n",
       "      <td>0</td>\n",
       "      <td>Transient</td>\n",
       "      <td>0</td>\n",
       "      <td>0</td>\n",
       "      <td>6</td>\n",
       "      <td>1000</td>\n",
       "      <td>400</td>\n",
       "      <td>8</td>\n",
       "      <td>5200</td>\n",
       "      <td>0</td>\n",
       "    </tr>\n",
       "    <tr>\n",
       "      <th>32408</th>\n",
       "      <td>97900</td>\n",
       "      <td>0</td>\n",
       "      <td>21.0</td>\n",
       "      <td>2017</td>\n",
       "      <td>August</td>\n",
       "      <td>35</td>\n",
       "      <td>30</td>\n",
       "      <td>2</td>\n",
       "      <td>5</td>\n",
       "      <td>2.0</td>\n",
       "      <td>...</td>\n",
       "      <td>0</td>\n",
       "      <td>Transient</td>\n",
       "      <td>0</td>\n",
       "      <td>2</td>\n",
       "      <td>7</td>\n",
       "      <td>1000</td>\n",
       "      <td>400</td>\n",
       "      <td>8</td>\n",
       "      <td>5800</td>\n",
       "      <td>0</td>\n",
       "    </tr>\n",
       "    <tr>\n",
       "      <th>32409</th>\n",
       "      <td>97901</td>\n",
       "      <td>0</td>\n",
       "      <td>23.0</td>\n",
       "      <td>2017</td>\n",
       "      <td>August</td>\n",
       "      <td>35</td>\n",
       "      <td>30</td>\n",
       "      <td>2</td>\n",
       "      <td>5</td>\n",
       "      <td>2.0</td>\n",
       "      <td>...</td>\n",
       "      <td>0</td>\n",
       "      <td>Transient</td>\n",
       "      <td>0</td>\n",
       "      <td>0</td>\n",
       "      <td>7</td>\n",
       "      <td>1000</td>\n",
       "      <td>400</td>\n",
       "      <td>8</td>\n",
       "      <td>5800</td>\n",
       "      <td>0</td>\n",
       "    </tr>\n",
       "    <tr>\n",
       "      <th>32410</th>\n",
       "      <td>97902</td>\n",
       "      <td>0</td>\n",
       "      <td>34.0</td>\n",
       "      <td>2017</td>\n",
       "      <td>August</td>\n",
       "      <td>35</td>\n",
       "      <td>31</td>\n",
       "      <td>2</td>\n",
       "      <td>5</td>\n",
       "      <td>2.0</td>\n",
       "      <td>...</td>\n",
       "      <td>0</td>\n",
       "      <td>Transient</td>\n",
       "      <td>0</td>\n",
       "      <td>4</td>\n",
       "      <td>7</td>\n",
       "      <td>550</td>\n",
       "      <td>150</td>\n",
       "      <td>8</td>\n",
       "      <td>3400</td>\n",
       "      <td>0</td>\n",
       "    </tr>\n",
       "    <tr>\n",
       "      <th>32411</th>\n",
       "      <td>97903</td>\n",
       "      <td>0</td>\n",
       "      <td>109.0</td>\n",
       "      <td>2017</td>\n",
       "      <td>August</td>\n",
       "      <td>35</td>\n",
       "      <td>31</td>\n",
       "      <td>2</td>\n",
       "      <td>5</td>\n",
       "      <td>2.0</td>\n",
       "      <td>...</td>\n",
       "      <td>0</td>\n",
       "      <td>Transient</td>\n",
       "      <td>0</td>\n",
       "      <td>0</td>\n",
       "      <td>7</td>\n",
       "      <td>1000</td>\n",
       "      <td>400</td>\n",
       "      <td>8</td>\n",
       "      <td>5800</td>\n",
       "      <td>0</td>\n",
       "    </tr>\n",
       "  </tbody>\n",
       "</table>\n",
       "<p>32412 rows × 30 columns</p>\n",
       "</div>"
      ],
      "text/plain": [
       "          id  is_canceled  lead_time  arrival_date_year arrival_date_month  \\\n",
       "0       6086            1       74.0               2017            January   \n",
       "1       6087            1       62.0               2017            January   \n",
       "2       6088            1       62.0               2017            January   \n",
       "3       6089            1       71.0               2017            January   \n",
       "4       6090            1      172.0               2017            January   \n",
       "...      ...          ...        ...                ...                ...   \n",
       "32407  97899            0      164.0               2017             August   \n",
       "32408  97900            0       21.0               2017             August   \n",
       "32409  97901            0       23.0               2017             August   \n",
       "32410  97902            0       34.0               2017             August   \n",
       "32411  97903            0      109.0               2017             August   \n",
       "\n",
       "       arrival_date_week_number  arrival_date_day_of_month  \\\n",
       "0                             1                          1   \n",
       "1                             1                          1   \n",
       "2                             1                          1   \n",
       "3                             1                          1   \n",
       "4                             1                          1   \n",
       "...                         ...                        ...   \n",
       "32407                        35                         31   \n",
       "32408                        35                         30   \n",
       "32409                        35                         30   \n",
       "32410                        35                         31   \n",
       "32411                        35                         31   \n",
       "\n",
       "       stays_in_weekend_nights  stays_in_week_nights  adults  ...  \\\n",
       "0                            1                     0     2.0  ...   \n",
       "1                            2                     2     2.0  ...   \n",
       "2                            2                     2     2.0  ...   \n",
       "3                            2                     2     1.0  ...   \n",
       "4                            2                     5     2.0  ...   \n",
       "...                        ...                   ...     ...  ...   \n",
       "32407                        2                     4     2.0  ...   \n",
       "32408                        2                     5     2.0  ...   \n",
       "32409                        2                     5     2.0  ...   \n",
       "32410                        2                     5     2.0  ...   \n",
       "32411                        2                     5     2.0  ...   \n",
       "\n",
       "       days_in_waiting_list  customer_type required_car_parking_spaces  \\\n",
       "0                         0      Transient                           0   \n",
       "1                         0      Transient                           0   \n",
       "2                         0      Transient                           0   \n",
       "3                         0      Transient                           0   \n",
       "4                         0      Transient                           0   \n",
       "...                     ...            ...                         ...   \n",
       "32407                     0      Transient                           0   \n",
       "32408                     0      Transient                           0   \n",
       "32409                     0      Transient                           0   \n",
       "32410                     0      Transient                           0   \n",
       "32411                     0      Transient                           0   \n",
       "\n",
       "      total_of_special_requests total_nights  price_room  price_clean  \\\n",
       "0                             0            1        1000          400   \n",
       "1                             1            4        1000          400   \n",
       "2                             1            4        1000          400   \n",
       "3                             1            4        1000          400   \n",
       "4                             0            7        1000          400   \n",
       "...                         ...          ...         ...          ...   \n",
       "32407                         0            6        1000          400   \n",
       "32408                         2            7        1000          400   \n",
       "32409                         0            7        1000          400   \n",
       "32410                         4            7         550          150   \n",
       "32411                         0            7        1000          400   \n",
       "\n",
       "       month_number clear_profit  predicted_canceled  \n",
       "0                 1            0                   0  \n",
       "1                 1            0                   0  \n",
       "2                 1            0                   1  \n",
       "3                 1            0                   1  \n",
       "4                 1            0                   1  \n",
       "...             ...          ...                 ...  \n",
       "32407             8         5200                   0  \n",
       "32408             8         5800                   0  \n",
       "32409             8         5800                   0  \n",
       "32410             8         3400                   0  \n",
       "32411             8         5800                   0  \n",
       "\n",
       "[32412 rows x 30 columns]"
      ]
     },
     "execution_count": 41,
     "metadata": {},
     "output_type": "execute_result"
    }
   ],
   "source": [
    "test['predicted_canceled'] = pd.Series(predicted_test).apply(int)\n",
    "test"
   ]
  },
  {
   "cell_type": "code",
   "execution_count": 42,
   "metadata": {},
   "outputs": [],
   "source": [
    "test['deposit_profit'] = test.apply(str_profit_with_deposit_1, axis = 1)"
   ]
  },
  {
   "cell_type": "code",
   "execution_count": 43,
   "metadata": {},
   "outputs": [
    {
     "data": {
      "text/html": [
       "<div>\n",
       "<style scoped>\n",
       "    .dataframe tbody tr th:only-of-type {\n",
       "        vertical-align: middle;\n",
       "    }\n",
       "\n",
       "    .dataframe tbody tr th {\n",
       "        vertical-align: top;\n",
       "    }\n",
       "\n",
       "    .dataframe thead th {\n",
       "        text-align: right;\n",
       "    }\n",
       "</style>\n",
       "<table border=\"1\" class=\"dataframe\">\n",
       "  <thead>\n",
       "    <tr style=\"text-align: right;\">\n",
       "      <th></th>\n",
       "      <th>id</th>\n",
       "      <th>is_canceled</th>\n",
       "      <th>lead_time</th>\n",
       "      <th>arrival_date_year</th>\n",
       "      <th>arrival_date_month</th>\n",
       "      <th>arrival_date_week_number</th>\n",
       "      <th>arrival_date_day_of_month</th>\n",
       "      <th>stays_in_weekend_nights</th>\n",
       "      <th>stays_in_week_nights</th>\n",
       "      <th>adults</th>\n",
       "      <th>...</th>\n",
       "      <th>customer_type</th>\n",
       "      <th>required_car_parking_spaces</th>\n",
       "      <th>total_of_special_requests</th>\n",
       "      <th>total_nights</th>\n",
       "      <th>price_room</th>\n",
       "      <th>price_clean</th>\n",
       "      <th>month_number</th>\n",
       "      <th>clear_profit</th>\n",
       "      <th>predicted_canceled</th>\n",
       "      <th>deposit_profit</th>\n",
       "    </tr>\n",
       "  </thead>\n",
       "  <tbody>\n",
       "    <tr>\n",
       "      <th>0</th>\n",
       "      <td>6086</td>\n",
       "      <td>1</td>\n",
       "      <td>74.0</td>\n",
       "      <td>2017</td>\n",
       "      <td>January</td>\n",
       "      <td>1</td>\n",
       "      <td>1</td>\n",
       "      <td>1</td>\n",
       "      <td>0</td>\n",
       "      <td>2.0</td>\n",
       "      <td>...</td>\n",
       "      <td>Transient</td>\n",
       "      <td>0</td>\n",
       "      <td>0</td>\n",
       "      <td>1</td>\n",
       "      <td>1000</td>\n",
       "      <td>400</td>\n",
       "      <td>1</td>\n",
       "      <td>0</td>\n",
       "      <td>0</td>\n",
       "      <td>0.0</td>\n",
       "    </tr>\n",
       "    <tr>\n",
       "      <th>1</th>\n",
       "      <td>6087</td>\n",
       "      <td>1</td>\n",
       "      <td>62.0</td>\n",
       "      <td>2017</td>\n",
       "      <td>January</td>\n",
       "      <td>1</td>\n",
       "      <td>1</td>\n",
       "      <td>2</td>\n",
       "      <td>2</td>\n",
       "      <td>2.0</td>\n",
       "      <td>...</td>\n",
       "      <td>Transient</td>\n",
       "      <td>0</td>\n",
       "      <td>1</td>\n",
       "      <td>4</td>\n",
       "      <td>1000</td>\n",
       "      <td>400</td>\n",
       "      <td>1</td>\n",
       "      <td>0</td>\n",
       "      <td>0</td>\n",
       "      <td>0.0</td>\n",
       "    </tr>\n",
       "    <tr>\n",
       "      <th>2</th>\n",
       "      <td>6088</td>\n",
       "      <td>1</td>\n",
       "      <td>62.0</td>\n",
       "      <td>2017</td>\n",
       "      <td>January</td>\n",
       "      <td>1</td>\n",
       "      <td>1</td>\n",
       "      <td>2</td>\n",
       "      <td>2</td>\n",
       "      <td>2.0</td>\n",
       "      <td>...</td>\n",
       "      <td>Transient</td>\n",
       "      <td>0</td>\n",
       "      <td>1</td>\n",
       "      <td>4</td>\n",
       "      <td>1000</td>\n",
       "      <td>400</td>\n",
       "      <td>1</td>\n",
       "      <td>0</td>\n",
       "      <td>1</td>\n",
       "      <td>1120.0</td>\n",
       "    </tr>\n",
       "    <tr>\n",
       "      <th>3</th>\n",
       "      <td>6089</td>\n",
       "      <td>1</td>\n",
       "      <td>71.0</td>\n",
       "      <td>2017</td>\n",
       "      <td>January</td>\n",
       "      <td>1</td>\n",
       "      <td>1</td>\n",
       "      <td>2</td>\n",
       "      <td>2</td>\n",
       "      <td>1.0</td>\n",
       "      <td>...</td>\n",
       "      <td>Transient</td>\n",
       "      <td>0</td>\n",
       "      <td>1</td>\n",
       "      <td>4</td>\n",
       "      <td>1000</td>\n",
       "      <td>400</td>\n",
       "      <td>1</td>\n",
       "      <td>0</td>\n",
       "      <td>1</td>\n",
       "      <td>1120.0</td>\n",
       "    </tr>\n",
       "    <tr>\n",
       "      <th>4</th>\n",
       "      <td>6090</td>\n",
       "      <td>1</td>\n",
       "      <td>172.0</td>\n",
       "      <td>2017</td>\n",
       "      <td>January</td>\n",
       "      <td>1</td>\n",
       "      <td>1</td>\n",
       "      <td>2</td>\n",
       "      <td>5</td>\n",
       "      <td>2.0</td>\n",
       "      <td>...</td>\n",
       "      <td>Transient</td>\n",
       "      <td>0</td>\n",
       "      <td>0</td>\n",
       "      <td>7</td>\n",
       "      <td>1000</td>\n",
       "      <td>400</td>\n",
       "      <td>1</td>\n",
       "      <td>0</td>\n",
       "      <td>1</td>\n",
       "      <td>1120.0</td>\n",
       "    </tr>\n",
       "    <tr>\n",
       "      <th>...</th>\n",
       "      <td>...</td>\n",
       "      <td>...</td>\n",
       "      <td>...</td>\n",
       "      <td>...</td>\n",
       "      <td>...</td>\n",
       "      <td>...</td>\n",
       "      <td>...</td>\n",
       "      <td>...</td>\n",
       "      <td>...</td>\n",
       "      <td>...</td>\n",
       "      <td>...</td>\n",
       "      <td>...</td>\n",
       "      <td>...</td>\n",
       "      <td>...</td>\n",
       "      <td>...</td>\n",
       "      <td>...</td>\n",
       "      <td>...</td>\n",
       "      <td>...</td>\n",
       "      <td>...</td>\n",
       "      <td>...</td>\n",
       "      <td>...</td>\n",
       "    </tr>\n",
       "    <tr>\n",
       "      <th>32407</th>\n",
       "      <td>97899</td>\n",
       "      <td>0</td>\n",
       "      <td>164.0</td>\n",
       "      <td>2017</td>\n",
       "      <td>August</td>\n",
       "      <td>35</td>\n",
       "      <td>31</td>\n",
       "      <td>2</td>\n",
       "      <td>4</td>\n",
       "      <td>2.0</td>\n",
       "      <td>...</td>\n",
       "      <td>Transient</td>\n",
       "      <td>0</td>\n",
       "      <td>0</td>\n",
       "      <td>6</td>\n",
       "      <td>1000</td>\n",
       "      <td>400</td>\n",
       "      <td>8</td>\n",
       "      <td>5200</td>\n",
       "      <td>0</td>\n",
       "      <td>5200.0</td>\n",
       "    </tr>\n",
       "    <tr>\n",
       "      <th>32408</th>\n",
       "      <td>97900</td>\n",
       "      <td>0</td>\n",
       "      <td>21.0</td>\n",
       "      <td>2017</td>\n",
       "      <td>August</td>\n",
       "      <td>35</td>\n",
       "      <td>30</td>\n",
       "      <td>2</td>\n",
       "      <td>5</td>\n",
       "      <td>2.0</td>\n",
       "      <td>...</td>\n",
       "      <td>Transient</td>\n",
       "      <td>0</td>\n",
       "      <td>2</td>\n",
       "      <td>7</td>\n",
       "      <td>1000</td>\n",
       "      <td>400</td>\n",
       "      <td>8</td>\n",
       "      <td>5800</td>\n",
       "      <td>0</td>\n",
       "      <td>5800.0</td>\n",
       "    </tr>\n",
       "    <tr>\n",
       "      <th>32409</th>\n",
       "      <td>97901</td>\n",
       "      <td>0</td>\n",
       "      <td>23.0</td>\n",
       "      <td>2017</td>\n",
       "      <td>August</td>\n",
       "      <td>35</td>\n",
       "      <td>30</td>\n",
       "      <td>2</td>\n",
       "      <td>5</td>\n",
       "      <td>2.0</td>\n",
       "      <td>...</td>\n",
       "      <td>Transient</td>\n",
       "      <td>0</td>\n",
       "      <td>0</td>\n",
       "      <td>7</td>\n",
       "      <td>1000</td>\n",
       "      <td>400</td>\n",
       "      <td>8</td>\n",
       "      <td>5800</td>\n",
       "      <td>0</td>\n",
       "      <td>5800.0</td>\n",
       "    </tr>\n",
       "    <tr>\n",
       "      <th>32410</th>\n",
       "      <td>97902</td>\n",
       "      <td>0</td>\n",
       "      <td>34.0</td>\n",
       "      <td>2017</td>\n",
       "      <td>August</td>\n",
       "      <td>35</td>\n",
       "      <td>31</td>\n",
       "      <td>2</td>\n",
       "      <td>5</td>\n",
       "      <td>2.0</td>\n",
       "      <td>...</td>\n",
       "      <td>Transient</td>\n",
       "      <td>0</td>\n",
       "      <td>4</td>\n",
       "      <td>7</td>\n",
       "      <td>550</td>\n",
       "      <td>150</td>\n",
       "      <td>8</td>\n",
       "      <td>3400</td>\n",
       "      <td>0</td>\n",
       "      <td>3400.0</td>\n",
       "    </tr>\n",
       "    <tr>\n",
       "      <th>32411</th>\n",
       "      <td>97903</td>\n",
       "      <td>0</td>\n",
       "      <td>109.0</td>\n",
       "      <td>2017</td>\n",
       "      <td>August</td>\n",
       "      <td>35</td>\n",
       "      <td>31</td>\n",
       "      <td>2</td>\n",
       "      <td>5</td>\n",
       "      <td>2.0</td>\n",
       "      <td>...</td>\n",
       "      <td>Transient</td>\n",
       "      <td>0</td>\n",
       "      <td>0</td>\n",
       "      <td>7</td>\n",
       "      <td>1000</td>\n",
       "      <td>400</td>\n",
       "      <td>8</td>\n",
       "      <td>5800</td>\n",
       "      <td>0</td>\n",
       "      <td>5800.0</td>\n",
       "    </tr>\n",
       "  </tbody>\n",
       "</table>\n",
       "<p>32412 rows × 31 columns</p>\n",
       "</div>"
      ],
      "text/plain": [
       "          id  is_canceled  lead_time  arrival_date_year arrival_date_month  \\\n",
       "0       6086            1       74.0               2017            January   \n",
       "1       6087            1       62.0               2017            January   \n",
       "2       6088            1       62.0               2017            January   \n",
       "3       6089            1       71.0               2017            January   \n",
       "4       6090            1      172.0               2017            January   \n",
       "...      ...          ...        ...                ...                ...   \n",
       "32407  97899            0      164.0               2017             August   \n",
       "32408  97900            0       21.0               2017             August   \n",
       "32409  97901            0       23.0               2017             August   \n",
       "32410  97902            0       34.0               2017             August   \n",
       "32411  97903            0      109.0               2017             August   \n",
       "\n",
       "       arrival_date_week_number  arrival_date_day_of_month  \\\n",
       "0                             1                          1   \n",
       "1                             1                          1   \n",
       "2                             1                          1   \n",
       "3                             1                          1   \n",
       "4                             1                          1   \n",
       "...                         ...                        ...   \n",
       "32407                        35                         31   \n",
       "32408                        35                         30   \n",
       "32409                        35                         30   \n",
       "32410                        35                         31   \n",
       "32411                        35                         31   \n",
       "\n",
       "       stays_in_weekend_nights  stays_in_week_nights  adults  ...  \\\n",
       "0                            1                     0     2.0  ...   \n",
       "1                            2                     2     2.0  ...   \n",
       "2                            2                     2     2.0  ...   \n",
       "3                            2                     2     1.0  ...   \n",
       "4                            2                     5     2.0  ...   \n",
       "...                        ...                   ...     ...  ...   \n",
       "32407                        2                     4     2.0  ...   \n",
       "32408                        2                     5     2.0  ...   \n",
       "32409                        2                     5     2.0  ...   \n",
       "32410                        2                     5     2.0  ...   \n",
       "32411                        2                     5     2.0  ...   \n",
       "\n",
       "       customer_type  required_car_parking_spaces total_of_special_requests  \\\n",
       "0          Transient                            0                         0   \n",
       "1          Transient                            0                         1   \n",
       "2          Transient                            0                         1   \n",
       "3          Transient                            0                         1   \n",
       "4          Transient                            0                         0   \n",
       "...              ...                          ...                       ...   \n",
       "32407      Transient                            0                         0   \n",
       "32408      Transient                            0                         2   \n",
       "32409      Transient                            0                         0   \n",
       "32410      Transient                            0                         4   \n",
       "32411      Transient                            0                         0   \n",
       "\n",
       "      total_nights price_room  price_clean  month_number  clear_profit  \\\n",
       "0                1       1000          400             1             0   \n",
       "1                4       1000          400             1             0   \n",
       "2                4       1000          400             1             0   \n",
       "3                4       1000          400             1             0   \n",
       "4                7       1000          400             1             0   \n",
       "...            ...        ...          ...           ...           ...   \n",
       "32407            6       1000          400             8          5200   \n",
       "32408            7       1000          400             8          5800   \n",
       "32409            7       1000          400             8          5800   \n",
       "32410            7        550          150             8          3400   \n",
       "32411            7       1000          400             8          5800   \n",
       "\n",
       "      predicted_canceled  deposit_profit  \n",
       "0                      0             0.0  \n",
       "1                      0             0.0  \n",
       "2                      1          1120.0  \n",
       "3                      1          1120.0  \n",
       "4                      1          1120.0  \n",
       "...                  ...             ...  \n",
       "32407                  0          5200.0  \n",
       "32408                  0          5800.0  \n",
       "32409                  0          5800.0  \n",
       "32410                  0          3400.0  \n",
       "32411                  0          5800.0  \n",
       "\n",
       "[32412 rows x 31 columns]"
      ]
     },
     "execution_count": 43,
     "metadata": {},
     "output_type": "execute_result"
    }
   ],
   "source": [
    "test"
   ]
  },
  {
   "cell_type": "code",
   "execution_count": 44,
   "metadata": {},
   "outputs": [
    {
     "name": "stdout",
     "output_type": "stream",
     "text": [
      "9094160.0\n"
     ]
    }
   ],
   "source": [
    "print(test['deposit_profit'].sum() - test['clear_profit'].sum())"
   ]
  },
  {
   "cell_type": "code",
   "execution_count": 45,
   "metadata": {},
   "outputs": [
    {
     "data": {
      "text/plain": [
       "array([2017])"
      ]
     },
     "execution_count": 45,
     "metadata": {},
     "output_type": "execute_result"
    }
   ],
   "source": [
    "test['arrival_date_year'].unique()"
   ]
  },
  {
   "cell_type": "markdown",
   "metadata": {},
   "source": [
    "видно, что общая прибыль от внедрения ситемы предсказания отказа от брони на тестовых данных за 2017 год дает 9.1 млн. руб., что значительно превышает 400 тыс. руб. - расходы на разработку системы. Это позволяет рекомендовать систему к внедрению в использование."
   ]
  },
  {
   "cell_type": "markdown",
   "metadata": {},
   "source": [
    "<div class=\"alert alert-block alert-success\">\n",
    "<b>✔️ Комментарий ревьюера️:</b> Круто!\n",
    "</div>"
   ]
  },
  {
   "cell_type": "markdown",
   "metadata": {},
   "source": [
    "### Шаг 5. Опишите портрет «ненадёжного» клиента"
   ]
  },
  {
   "cell_type": "markdown",
   "metadata": {},
   "source": [
    "Предлагается отфильтровать отказников и посмотреть, какие признаки преобладают в качественных столбцах:"
   ]
  },
  {
   "cell_type": "code",
   "execution_count": 46,
   "metadata": {
    "scrolled": true
   },
   "outputs": [
    {
     "data": {
      "text/html": [
       "<div>\n",
       "<style scoped>\n",
       "    .dataframe tbody tr th:only-of-type {\n",
       "        vertical-align: middle;\n",
       "    }\n",
       "\n",
       "    .dataframe tbody tr th {\n",
       "        vertical-align: top;\n",
       "    }\n",
       "\n",
       "    .dataframe thead th {\n",
       "        text-align: right;\n",
       "    }\n",
       "</style>\n",
       "<table border=\"1\" class=\"dataframe\">\n",
       "  <thead>\n",
       "    <tr style=\"text-align: right;\">\n",
       "      <th></th>\n",
       "      <th>id</th>\n",
       "      <th>is_canceled</th>\n",
       "      <th>lead_time</th>\n",
       "      <th>arrival_date_year</th>\n",
       "      <th>arrival_date_month</th>\n",
       "      <th>arrival_date_week_number</th>\n",
       "      <th>arrival_date_day_of_month</th>\n",
       "      <th>stays_in_weekend_nights</th>\n",
       "      <th>stays_in_week_nights</th>\n",
       "      <th>adults</th>\n",
       "      <th>...</th>\n",
       "      <th>customer_type</th>\n",
       "      <th>required_car_parking_spaces</th>\n",
       "      <th>total_of_special_requests</th>\n",
       "      <th>total_nights</th>\n",
       "      <th>price_room</th>\n",
       "      <th>price_clean</th>\n",
       "      <th>month_number</th>\n",
       "      <th>clear_profit</th>\n",
       "      <th>predicted_canceled</th>\n",
       "      <th>deposit_profit</th>\n",
       "    </tr>\n",
       "  </thead>\n",
       "  <tbody>\n",
       "    <tr>\n",
       "      <th>0</th>\n",
       "      <td>6086</td>\n",
       "      <td>1</td>\n",
       "      <td>74.0</td>\n",
       "      <td>2017</td>\n",
       "      <td>January</td>\n",
       "      <td>1</td>\n",
       "      <td>1</td>\n",
       "      <td>1</td>\n",
       "      <td>0</td>\n",
       "      <td>2.0</td>\n",
       "      <td>...</td>\n",
       "      <td>Transient</td>\n",
       "      <td>0</td>\n",
       "      <td>0</td>\n",
       "      <td>1</td>\n",
       "      <td>1000</td>\n",
       "      <td>400</td>\n",
       "      <td>1</td>\n",
       "      <td>0</td>\n",
       "      <td>0</td>\n",
       "      <td>0.0</td>\n",
       "    </tr>\n",
       "    <tr>\n",
       "      <th>1</th>\n",
       "      <td>6087</td>\n",
       "      <td>1</td>\n",
       "      <td>62.0</td>\n",
       "      <td>2017</td>\n",
       "      <td>January</td>\n",
       "      <td>1</td>\n",
       "      <td>1</td>\n",
       "      <td>2</td>\n",
       "      <td>2</td>\n",
       "      <td>2.0</td>\n",
       "      <td>...</td>\n",
       "      <td>Transient</td>\n",
       "      <td>0</td>\n",
       "      <td>1</td>\n",
       "      <td>4</td>\n",
       "      <td>1000</td>\n",
       "      <td>400</td>\n",
       "      <td>1</td>\n",
       "      <td>0</td>\n",
       "      <td>0</td>\n",
       "      <td>0.0</td>\n",
       "    </tr>\n",
       "    <tr>\n",
       "      <th>2</th>\n",
       "      <td>6088</td>\n",
       "      <td>1</td>\n",
       "      <td>62.0</td>\n",
       "      <td>2017</td>\n",
       "      <td>January</td>\n",
       "      <td>1</td>\n",
       "      <td>1</td>\n",
       "      <td>2</td>\n",
       "      <td>2</td>\n",
       "      <td>2.0</td>\n",
       "      <td>...</td>\n",
       "      <td>Transient</td>\n",
       "      <td>0</td>\n",
       "      <td>1</td>\n",
       "      <td>4</td>\n",
       "      <td>1000</td>\n",
       "      <td>400</td>\n",
       "      <td>1</td>\n",
       "      <td>0</td>\n",
       "      <td>1</td>\n",
       "      <td>1120.0</td>\n",
       "    </tr>\n",
       "    <tr>\n",
       "      <th>3</th>\n",
       "      <td>6089</td>\n",
       "      <td>1</td>\n",
       "      <td>71.0</td>\n",
       "      <td>2017</td>\n",
       "      <td>January</td>\n",
       "      <td>1</td>\n",
       "      <td>1</td>\n",
       "      <td>2</td>\n",
       "      <td>2</td>\n",
       "      <td>1.0</td>\n",
       "      <td>...</td>\n",
       "      <td>Transient</td>\n",
       "      <td>0</td>\n",
       "      <td>1</td>\n",
       "      <td>4</td>\n",
       "      <td>1000</td>\n",
       "      <td>400</td>\n",
       "      <td>1</td>\n",
       "      <td>0</td>\n",
       "      <td>1</td>\n",
       "      <td>1120.0</td>\n",
       "    </tr>\n",
       "    <tr>\n",
       "      <th>4</th>\n",
       "      <td>6090</td>\n",
       "      <td>1</td>\n",
       "      <td>172.0</td>\n",
       "      <td>2017</td>\n",
       "      <td>January</td>\n",
       "      <td>1</td>\n",
       "      <td>1</td>\n",
       "      <td>2</td>\n",
       "      <td>5</td>\n",
       "      <td>2.0</td>\n",
       "      <td>...</td>\n",
       "      <td>Transient</td>\n",
       "      <td>0</td>\n",
       "      <td>0</td>\n",
       "      <td>7</td>\n",
       "      <td>1000</td>\n",
       "      <td>400</td>\n",
       "      <td>1</td>\n",
       "      <td>0</td>\n",
       "      <td>1</td>\n",
       "      <td>1120.0</td>\n",
       "    </tr>\n",
       "    <tr>\n",
       "      <th>...</th>\n",
       "      <td>...</td>\n",
       "      <td>...</td>\n",
       "      <td>...</td>\n",
       "      <td>...</td>\n",
       "      <td>...</td>\n",
       "      <td>...</td>\n",
       "      <td>...</td>\n",
       "      <td>...</td>\n",
       "      <td>...</td>\n",
       "      <td>...</td>\n",
       "      <td>...</td>\n",
       "      <td>...</td>\n",
       "      <td>...</td>\n",
       "      <td>...</td>\n",
       "      <td>...</td>\n",
       "      <td>...</td>\n",
       "      <td>...</td>\n",
       "      <td>...</td>\n",
       "      <td>...</td>\n",
       "      <td>...</td>\n",
       "      <td>...</td>\n",
       "    </tr>\n",
       "    <tr>\n",
       "      <th>23163</th>\n",
       "      <td>88655</td>\n",
       "      <td>1</td>\n",
       "      <td>25.0</td>\n",
       "      <td>2017</td>\n",
       "      <td>May</td>\n",
       "      <td>18</td>\n",
       "      <td>6</td>\n",
       "      <td>2</td>\n",
       "      <td>1</td>\n",
       "      <td>1.0</td>\n",
       "      <td>...</td>\n",
       "      <td>Transient</td>\n",
       "      <td>0</td>\n",
       "      <td>0</td>\n",
       "      <td>3</td>\n",
       "      <td>500</td>\n",
       "      <td>150</td>\n",
       "      <td>5</td>\n",
       "      <td>0</td>\n",
       "      <td>0</td>\n",
       "      <td>0.0</td>\n",
       "    </tr>\n",
       "    <tr>\n",
       "      <th>25548</th>\n",
       "      <td>91040</td>\n",
       "      <td>1</td>\n",
       "      <td>4.0</td>\n",
       "      <td>2017</td>\n",
       "      <td>June</td>\n",
       "      <td>23</td>\n",
       "      <td>5</td>\n",
       "      <td>1</td>\n",
       "      <td>0</td>\n",
       "      <td>1.0</td>\n",
       "      <td>...</td>\n",
       "      <td>Transient</td>\n",
       "      <td>0</td>\n",
       "      <td>0</td>\n",
       "      <td>1</td>\n",
       "      <td>1000</td>\n",
       "      <td>400</td>\n",
       "      <td>6</td>\n",
       "      <td>0</td>\n",
       "      <td>0</td>\n",
       "      <td>0.0</td>\n",
       "    </tr>\n",
       "    <tr>\n",
       "      <th>26084</th>\n",
       "      <td>91576</td>\n",
       "      <td>1</td>\n",
       "      <td>7.0</td>\n",
       "      <td>2017</td>\n",
       "      <td>May</td>\n",
       "      <td>22</td>\n",
       "      <td>31</td>\n",
       "      <td>0</td>\n",
       "      <td>1</td>\n",
       "      <td>1.0</td>\n",
       "      <td>...</td>\n",
       "      <td>Transient</td>\n",
       "      <td>0</td>\n",
       "      <td>0</td>\n",
       "      <td>1</td>\n",
       "      <td>1000</td>\n",
       "      <td>400</td>\n",
       "      <td>5</td>\n",
       "      <td>0</td>\n",
       "      <td>0</td>\n",
       "      <td>0.0</td>\n",
       "    </tr>\n",
       "    <tr>\n",
       "      <th>26085</th>\n",
       "      <td>91577</td>\n",
       "      <td>1</td>\n",
       "      <td>6.0</td>\n",
       "      <td>2017</td>\n",
       "      <td>July</td>\n",
       "      <td>29</td>\n",
       "      <td>17</td>\n",
       "      <td>1</td>\n",
       "      <td>0</td>\n",
       "      <td>1.0</td>\n",
       "      <td>...</td>\n",
       "      <td>Transient</td>\n",
       "      <td>0</td>\n",
       "      <td>0</td>\n",
       "      <td>1</td>\n",
       "      <td>1000</td>\n",
       "      <td>400</td>\n",
       "      <td>7</td>\n",
       "      <td>0</td>\n",
       "      <td>0</td>\n",
       "      <td>0.0</td>\n",
       "    </tr>\n",
       "    <tr>\n",
       "      <th>30673</th>\n",
       "      <td>96165</td>\n",
       "      <td>1</td>\n",
       "      <td>0.0</td>\n",
       "      <td>2017</td>\n",
       "      <td>August</td>\n",
       "      <td>31</td>\n",
       "      <td>2</td>\n",
       "      <td>0</td>\n",
       "      <td>2</td>\n",
       "      <td>1.0</td>\n",
       "      <td>...</td>\n",
       "      <td>Transient</td>\n",
       "      <td>0</td>\n",
       "      <td>1</td>\n",
       "      <td>2</td>\n",
       "      <td>1000</td>\n",
       "      <td>400</td>\n",
       "      <td>8</td>\n",
       "      <td>0</td>\n",
       "      <td>0</td>\n",
       "      <td>0.0</td>\n",
       "    </tr>\n",
       "  </tbody>\n",
       "</table>\n",
       "<p>12591 rows × 31 columns</p>\n",
       "</div>"
      ],
      "text/plain": [
       "          id  is_canceled  lead_time  arrival_date_year arrival_date_month  \\\n",
       "0       6086            1       74.0               2017            January   \n",
       "1       6087            1       62.0               2017            January   \n",
       "2       6088            1       62.0               2017            January   \n",
       "3       6089            1       71.0               2017            January   \n",
       "4       6090            1      172.0               2017            January   \n",
       "...      ...          ...        ...                ...                ...   \n",
       "23163  88655            1       25.0               2017                May   \n",
       "25548  91040            1        4.0               2017               June   \n",
       "26084  91576            1        7.0               2017                May   \n",
       "26085  91577            1        6.0               2017               July   \n",
       "30673  96165            1        0.0               2017             August   \n",
       "\n",
       "       arrival_date_week_number  arrival_date_day_of_month  \\\n",
       "0                             1                          1   \n",
       "1                             1                          1   \n",
       "2                             1                          1   \n",
       "3                             1                          1   \n",
       "4                             1                          1   \n",
       "...                         ...                        ...   \n",
       "23163                        18                          6   \n",
       "25548                        23                          5   \n",
       "26084                        22                         31   \n",
       "26085                        29                         17   \n",
       "30673                        31                          2   \n",
       "\n",
       "       stays_in_weekend_nights  stays_in_week_nights  adults  ...  \\\n",
       "0                            1                     0     2.0  ...   \n",
       "1                            2                     2     2.0  ...   \n",
       "2                            2                     2     2.0  ...   \n",
       "3                            2                     2     1.0  ...   \n",
       "4                            2                     5     2.0  ...   \n",
       "...                        ...                   ...     ...  ...   \n",
       "23163                        2                     1     1.0  ...   \n",
       "25548                        1                     0     1.0  ...   \n",
       "26084                        0                     1     1.0  ...   \n",
       "26085                        1                     0     1.0  ...   \n",
       "30673                        0                     2     1.0  ...   \n",
       "\n",
       "       customer_type  required_car_parking_spaces total_of_special_requests  \\\n",
       "0          Transient                            0                         0   \n",
       "1          Transient                            0                         1   \n",
       "2          Transient                            0                         1   \n",
       "3          Transient                            0                         1   \n",
       "4          Transient                            0                         0   \n",
       "...              ...                          ...                       ...   \n",
       "23163      Transient                            0                         0   \n",
       "25548      Transient                            0                         0   \n",
       "26084      Transient                            0                         0   \n",
       "26085      Transient                            0                         0   \n",
       "30673      Transient                            0                         1   \n",
       "\n",
       "      total_nights price_room  price_clean  month_number  clear_profit  \\\n",
       "0                1       1000          400             1             0   \n",
       "1                4       1000          400             1             0   \n",
       "2                4       1000          400             1             0   \n",
       "3                4       1000          400             1             0   \n",
       "4                7       1000          400             1             0   \n",
       "...            ...        ...          ...           ...           ...   \n",
       "23163            3        500          150             5             0   \n",
       "25548            1       1000          400             6             0   \n",
       "26084            1       1000          400             5             0   \n",
       "26085            1       1000          400             7             0   \n",
       "30673            2       1000          400             8             0   \n",
       "\n",
       "      predicted_canceled  deposit_profit  \n",
       "0                      0             0.0  \n",
       "1                      0             0.0  \n",
       "2                      1          1120.0  \n",
       "3                      1          1120.0  \n",
       "4                      1          1120.0  \n",
       "...                  ...             ...  \n",
       "23163                  0             0.0  \n",
       "25548                  0             0.0  \n",
       "26084                  0             0.0  \n",
       "26085                  0             0.0  \n",
       "30673                  0             0.0  \n",
       "\n",
       "[12591 rows x 31 columns]"
      ]
     },
     "execution_count": 46,
     "metadata": {},
     "output_type": "execute_result"
    }
   ],
   "source": [
    "test[test['is_canceled']==1]"
   ]
  },
  {
   "cell_type": "code",
   "execution_count": 47,
   "metadata": {},
   "outputs": [
    {
     "data": {
      "text/plain": [
       "Transient          0.847248\n",
       "Transient-Party    0.136585\n",
       "Contract           0.011076\n",
       "Group              0.005091\n",
       "Name: customer_type, dtype: float64"
      ]
     },
     "execution_count": 47,
     "metadata": {},
     "output_type": "execute_result"
    }
   ],
   "source": [
    "test['customer_type'].value_counts(normalize = True)"
   ]
  },
  {
   "cell_type": "code",
   "execution_count": 48,
   "metadata": {},
   "outputs": [
    {
     "data": {
      "text/plain": [
       "A    0.724145\n",
       "D    0.188912\n",
       "E    0.050722\n",
       "F    0.015519\n",
       "G    0.008577\n",
       "C    0.006201\n",
       "B    0.005924\n",
       "Name: reserved_room_type, dtype: float64"
      ]
     },
     "execution_count": 48,
     "metadata": {},
     "output_type": "execute_result"
    }
   ],
   "source": [
    "test['reserved_room_type'].value_counts(normalize = True)"
   ]
  },
  {
   "cell_type": "code",
   "execution_count": 49,
   "metadata": {},
   "outputs": [
    {
     "data": {
      "text/plain": [
       "2.0    0.747779\n",
       "1.0    0.193755\n",
       "3.0    0.056059\n",
       "0.0    0.002129\n",
       "4.0    0.000278\n",
       "Name: adults, dtype: float64"
      ]
     },
     "execution_count": 49,
     "metadata": {},
     "output_type": "execute_result"
    }
   ],
   "source": [
    "test['adults'].value_counts(normalize = True)"
   ]
  },
  {
   "cell_type": "code",
   "execution_count": 50,
   "metadata": {
    "scrolled": true
   },
   "outputs": [
    {
     "data": {
      "text/plain": [
       "0.0    0.936690\n",
       "1.0    0.043009\n",
       "2.0    0.020147\n",
       "3.0    0.000154\n",
       "Name: children, dtype: float64"
      ]
     },
     "execution_count": 50,
     "metadata": {},
     "output_type": "execute_result"
    }
   ],
   "source": [
    "test['children'].value_counts(normalize = True)"
   ]
  },
  {
   "cell_type": "code",
   "execution_count": 51,
   "metadata": {},
   "outputs": [
    {
     "data": {
      "text/plain": [
       "0    0.968623\n",
       "1    0.031377\n",
       "Name: is_repeated_guest, dtype: float64"
      ]
     },
     "execution_count": 51,
     "metadata": {},
     "output_type": "execute_result"
    }
   ],
   "source": [
    "test['is_repeated_guest'].value_counts(normalize = True)"
   ]
  },
  {
   "cell_type": "code",
   "execution_count": 52,
   "metadata": {},
   "outputs": [
    {
     "data": {
      "text/plain": [
       "0    0.993027\n",
       "1    0.005091\n",
       "2    0.000895\n",
       "6    0.000463\n",
       "4    0.000309\n",
       "3    0.000185\n",
       "5    0.000031\n",
       "Name: previous_cancellations, dtype: float64"
      ]
     },
     "execution_count": 52,
     "metadata": {},
     "output_type": "execute_result"
    }
   ],
   "source": [
    "test['previous_cancellations'].value_counts(normalize = True)"
   ]
  },
  {
   "cell_type": "code",
   "execution_count": 53,
   "metadata": {},
   "outputs": [
    {
     "data": {
      "text/plain": [
       "BB           0.761570\n",
       "SC           0.155344\n",
       "HB           0.074016\n",
       "SC           0.007960\n",
       "FB           0.001111\n",
       "Name: meal, dtype: float64"
      ]
     },
     "execution_count": 53,
     "metadata": {},
     "output_type": "execute_result"
    }
   ],
   "source": [
    "test['meal'].value_counts(normalize = True)"
   ]
  },
  {
   "cell_type": "code",
   "execution_count": 54,
   "metadata": {},
   "outputs": [
    {
     "data": {
      "text/plain": [
       "TA/TO        0.835586\n",
       "Direct       0.112366\n",
       "Corporate    0.049426\n",
       "GDS          0.002622\n",
       "Name: distribution_channel, dtype: float64"
      ]
     },
     "execution_count": 54,
     "metadata": {},
     "output_type": "execute_result"
    }
   ],
   "source": [
    "test['distribution_channel'].value_counts(normalize = True)"
   ]
  },
  {
   "cell_type": "code",
   "execution_count": 55,
   "metadata": {
    "scrolled": true
   },
   "outputs": [
    {
     "data": {
      "text/plain": [
       "0      0.994539\n",
       "59     0.000185\n",
       "71     0.000185\n",
       "60     0.000185\n",
       "25     0.000185\n",
       "         ...   \n",
       "57     0.000031\n",
       "73     0.000031\n",
       "105    0.000031\n",
       "121    0.000031\n",
       "223    0.000031\n",
       "Name: days_in_waiting_list, Length: 75, dtype: float64"
      ]
     },
     "execution_count": 55,
     "metadata": {},
     "output_type": "execute_result"
    }
   ],
   "source": [
    "test['days_in_waiting_list'].value_counts(normalize = True)"
   ]
  },
  {
   "cell_type": "markdown",
   "metadata": {},
   "source": [
    "Итак, типичный отказник от брони в основном: не связан с договором или групповым заездом, бронирует номер типа 'A' с включенным завтраком, двое взрослых без детей (легкие на подъем), которые никогда не были в данной сети отелей (соответственно не отменяли бронь ранее), используют канал дистрибьюции TA/TO (что бы это не значило). Отменяют бронь прктически сразу (days_in_wishing_list=0).\n"
   ]
  },
  {
   "cell_type": "markdown",
   "metadata": {},
   "source": [
    "### Шаг 6. Напишите общий вывод"
   ]
  },
  {
   "cell_type": "markdown",
   "metadata": {},
   "source": [
    "<p>Данное исследование позволяет ответить на вопрос о целесообразности внедрения в сеть отелей \"как в гостях\" системы депозитов. Система прогнозирует отказ клиента от бронирования номера в отеле и предоагает внести депозит. В случае истинного отказа клиента от брони депозит перечисляется в систему отелей.</p>\n",
    "<p>Для системы прогноза выбрана модель случайного леса с количеством деревьев - 19 и максимальной глубиной - 18. Составлен портрет типичного отказника от брони.</p>\n",
    "<p>По результатам расчета разности прибылей после внедрения системы и до внедрения системы (9.1 млн.руб., превышает зараты на разработку и внедрение системы - .4 млн.руб.) рекомендуется внедрить систему в эксплуатацию.</p>"
   ]
  },
  {
   "cell_type": "markdown",
   "metadata": {},
   "source": [
    "<div class=\"alert alert-block alert-success\">\n",
    "<b>✔️ Комментарий ревьюера️:</b> Круто. Спасибо за хороший подробный вывод!\n",
    "</div>"
   ]
  },
  {
   "cell_type": "markdown",
   "metadata": {},
   "source": [
    "<font color='blue'><b>Итоговый комментарий ревьюера</b></font>\n",
    "<div class=\"alert alert-block alert-success\">\n",
    "<b>✔️ Комментарий ревьюера:</b>\n",
    "Мне очень понравилась твоя работа. Спасибо тебе большое, за хорошее оформление проекта и выводы к каждому этапу работы.\n",
    "Чувствуется понимание глубокий анализ и задачи. \n",
    "</div>\n",
    "<font color='blue'><b>Но нужно кое-что поправить:</b></font>:\n",
    "<div class=\"alert alert-block alert-danger\">\n",
    "<ul>1) Сформулировать цель работы</ul>\n",
    "<ul>2) Исправить масштабирование</ul>\n",
    "<ul>3) Сравнивать метрики на одной выборке, исправить кросс-валидацию</ul>\n",
    "</div>\n",
    "\n",
    "<font color='blue'><b>Осталось совсем немного, буду ждать твою работу на повторное ревью 🙂</b></font>"
   ]
  },
  {
   "cell_type": "markdown",
   "metadata": {},
   "source": [
    "<div class=\"alert alert-block alert-info\">\n",
    "<b>Комментарий студента:</b> Это тебе большое спасибо за годное ревью! Жду обратной связи на исправления.\n",
    "</div>"
   ]
  },
  {
   "cell_type": "markdown",
   "metadata": {},
   "source": [
    "<div class=\"alert alert-block alert-success\">\n",
    "<b>✔️ Комментарий ревьюера v2: </b>Всегда рад помочь 😊.\n",
    "</div>"
   ]
  },
  {
   "cell_type": "markdown",
   "metadata": {},
   "source": [
    "<div class=\"alert alert-block alert-success\">\n",
    "<b>✔️ Комментарий ревьюера v2: </b>Спасибо за интерес к проекту. Недочёты исправлены, работа принята. Желаю дальнейших успехов и карьерного роста!\n",
    "</div>"
   ]
  },
  {
   "cell_type": "code",
   "execution_count": null,
   "metadata": {},
   "outputs": [],
   "source": []
  }
 ],
 "metadata": {
  "ExecuteTimeLog": [
   {
    "duration": 618,
    "start_time": "2022-03-13T18:35:58.521Z"
   },
   {
    "duration": 1295,
    "start_time": "2022-03-13T18:37:13.323Z"
   },
   {
    "duration": 3,
    "start_time": "2022-03-13T18:43:04.469Z"
   },
   {
    "duration": 100,
    "start_time": "2022-03-13T18:43:30.638Z"
   },
   {
    "duration": 80,
    "start_time": "2022-03-13T18:44:22.645Z"
   },
   {
    "duration": 7852,
    "start_time": "2022-03-13T19:07:43.010Z"
   },
   {
    "duration": 9,
    "start_time": "2022-03-13T19:07:53.282Z"
   },
   {
    "duration": 312,
    "start_time": "2022-03-13T19:58:36.785Z"
   },
   {
    "duration": 297,
    "start_time": "2022-03-13T20:00:25.862Z"
   },
   {
    "duration": 2,
    "start_time": "2022-03-13T20:00:58.426Z"
   },
   {
    "duration": 309,
    "start_time": "2022-03-13T20:01:05.083Z"
   },
   {
    "duration": 325,
    "start_time": "2022-03-13T20:03:56.978Z"
   },
   {
    "duration": 215,
    "start_time": "2022-03-15T19:23:51.524Z"
   },
   {
    "duration": 716,
    "start_time": "2022-03-15T19:24:02.328Z"
   },
   {
    "duration": 316,
    "start_time": "2022-03-15T19:24:03.047Z"
   },
   {
    "duration": 5,
    "start_time": "2022-03-15T19:24:03.366Z"
   },
   {
    "duration": 164,
    "start_time": "2022-03-15T19:24:03.373Z"
   },
   {
    "duration": 150,
    "start_time": "2022-03-15T19:24:03.539Z"
   },
   {
    "duration": 14,
    "start_time": "2022-03-15T19:24:03.691Z"
   },
   {
    "duration": 281,
    "start_time": "2022-03-15T19:24:03.707Z"
   },
   {
    "duration": 168,
    "start_time": "2022-03-15T19:24:56.756Z"
   },
   {
    "duration": 414,
    "start_time": "2022-03-15T19:25:08.560Z"
   },
   {
    "duration": 4,
    "start_time": "2022-03-15T19:25:43.434Z"
   },
   {
    "duration": 3,
    "start_time": "2022-03-15T19:25:51.275Z"
   },
   {
    "duration": 148,
    "start_time": "2022-03-15T19:26:08.284Z"
   },
   {
    "duration": 181,
    "start_time": "2022-03-15T19:26:14.659Z"
   },
   {
    "duration": 172,
    "start_time": "2022-03-15T19:28:32.705Z"
   },
   {
    "duration": 8,
    "start_time": "2022-03-15T19:28:59.858Z"
   },
   {
    "duration": 181,
    "start_time": "2022-03-15T19:29:32.127Z"
   },
   {
    "duration": 190,
    "start_time": "2022-03-15T19:31:56.910Z"
   },
   {
    "duration": 4,
    "start_time": "2022-03-15T19:32:21.092Z"
   },
   {
    "duration": 213,
    "start_time": "2022-03-15T19:32:29.895Z"
   },
   {
    "duration": 3,
    "start_time": "2022-03-15T19:32:58.206Z"
   },
   {
    "duration": 205,
    "start_time": "2022-03-15T19:33:03.206Z"
   },
   {
    "duration": 172,
    "start_time": "2022-03-15T19:34:07.723Z"
   },
   {
    "duration": 178,
    "start_time": "2022-03-15T19:34:46.579Z"
   },
   {
    "duration": 3,
    "start_time": "2022-03-15T19:35:07.203Z"
   },
   {
    "duration": 7,
    "start_time": "2022-03-15T19:35:13.064Z"
   },
   {
    "duration": 14,
    "start_time": "2022-03-15T19:35:25.634Z"
   },
   {
    "duration": 535,
    "start_time": "2022-03-16T19:20:42.394Z"
   },
   {
    "duration": 450,
    "start_time": "2022-03-16T19:20:42.931Z"
   },
   {
    "duration": 3,
    "start_time": "2022-03-16T19:20:43.383Z"
   },
   {
    "duration": 115,
    "start_time": "2022-03-16T19:20:43.388Z"
   },
   {
    "duration": 96,
    "start_time": "2022-03-16T19:20:43.505Z"
   },
   {
    "duration": 10,
    "start_time": "2022-03-16T19:20:43.603Z"
   },
   {
    "duration": 12,
    "start_time": "2022-03-16T19:20:43.615Z"
   },
   {
    "duration": 177,
    "start_time": "2022-03-16T19:20:43.629Z"
   },
   {
    "duration": 22,
    "start_time": "2022-03-16T19:21:02.123Z"
   },
   {
    "duration": 436,
    "start_time": "2022-03-16T19:25:53.662Z"
   },
   {
    "duration": 258,
    "start_time": "2022-03-16T19:28:32.678Z"
   },
   {
    "duration": 3,
    "start_time": "2022-03-16T19:55:57.202Z"
   },
   {
    "duration": 106,
    "start_time": "2022-03-16T19:56:00.657Z"
   },
   {
    "duration": 90,
    "start_time": "2022-03-16T19:57:20.063Z"
   },
   {
    "duration": 45,
    "start_time": "2022-03-19T07:20:19.411Z"
   },
   {
    "duration": 1066,
    "start_time": "2022-03-19T07:20:26.779Z"
   },
   {
    "duration": 668,
    "start_time": "2022-03-19T07:20:27.847Z"
   },
   {
    "duration": 3,
    "start_time": "2022-03-19T07:20:28.517Z"
   },
   {
    "duration": 104,
    "start_time": "2022-03-19T07:20:28.522Z"
   },
   {
    "duration": 73,
    "start_time": "2022-03-19T07:20:28.627Z"
   },
   {
    "duration": 9,
    "start_time": "2022-03-19T07:20:28.702Z"
   },
   {
    "duration": 27,
    "start_time": "2022-03-19T07:20:28.712Z"
   },
   {
    "duration": 19,
    "start_time": "2022-03-19T07:20:28.740Z"
   },
   {
    "duration": 106,
    "start_time": "2022-03-19T07:20:28.761Z"
   },
   {
    "duration": 0,
    "start_time": "2022-03-19T07:20:28.868Z"
   },
   {
    "duration": 41,
    "start_time": "2022-03-19T07:20:48.598Z"
   },
   {
    "duration": 26,
    "start_time": "2022-03-19T07:21:38.579Z"
   },
   {
    "duration": 6,
    "start_time": "2022-03-19T07:21:51.082Z"
   },
   {
    "duration": 8,
    "start_time": "2022-03-19T07:22:03.484Z"
   },
   {
    "duration": 6,
    "start_time": "2022-03-19T07:22:11.746Z"
   },
   {
    "duration": 6,
    "start_time": "2022-03-19T07:22:22.949Z"
   },
   {
    "duration": 201,
    "start_time": "2022-03-19T07:35:36.517Z"
   },
   {
    "duration": 12,
    "start_time": "2022-03-19T07:47:42.554Z"
   },
   {
    "duration": 55,
    "start_time": "2022-03-19T07:53:56.098Z"
   },
   {
    "duration": 17,
    "start_time": "2022-03-19T07:54:47.249Z"
   },
   {
    "duration": 13,
    "start_time": "2022-03-19T07:55:08.823Z"
   },
   {
    "duration": 60,
    "start_time": "2022-03-19T08:00:06.513Z"
   },
   {
    "duration": 19,
    "start_time": "2022-03-19T08:04:59.950Z"
   },
   {
    "duration": 42,
    "start_time": "2022-03-19T08:16:13.536Z"
   },
   {
    "duration": 237,
    "start_time": "2022-03-19T08:20:13.822Z"
   },
   {
    "duration": 22,
    "start_time": "2022-03-19T08:20:46.283Z"
   },
   {
    "duration": 21,
    "start_time": "2022-03-19T08:21:00.753Z"
   },
   {
    "duration": 20,
    "start_time": "2022-03-19T08:26:24.757Z"
   },
   {
    "duration": 9,
    "start_time": "2022-03-19T08:31:46.274Z"
   },
   {
    "duration": 4,
    "start_time": "2022-03-19T08:32:15.321Z"
   },
   {
    "duration": 20,
    "start_time": "2022-03-19T08:33:09.113Z"
   },
   {
    "duration": 4,
    "start_time": "2022-03-19T08:33:14.063Z"
   },
   {
    "duration": 21,
    "start_time": "2022-03-19T08:33:21.909Z"
   },
   {
    "duration": 19,
    "start_time": "2022-03-19T08:33:38.479Z"
   },
   {
    "duration": 13,
    "start_time": "2022-03-19T08:33:50.095Z"
   },
   {
    "duration": 2390,
    "start_time": "2022-03-19T08:33:53.202Z"
   },
   {
    "duration": 3,
    "start_time": "2022-03-19T08:34:14.007Z"
   },
   {
    "duration": 1363,
    "start_time": "2022-03-19T08:37:02.709Z"
   },
   {
    "duration": 224,
    "start_time": "2022-03-19T08:37:04.075Z"
   },
   {
    "duration": 3,
    "start_time": "2022-03-19T08:37:04.304Z"
   },
   {
    "duration": 109,
    "start_time": "2022-03-19T08:37:04.309Z"
   },
   {
    "duration": 86,
    "start_time": "2022-03-19T08:37:04.420Z"
   },
   {
    "duration": 60,
    "start_time": "2022-03-19T08:37:04.508Z"
   },
   {
    "duration": 243,
    "start_time": "2022-03-19T08:37:04.569Z"
   },
   {
    "duration": 27,
    "start_time": "2022-03-19T08:37:04.814Z"
   },
   {
    "duration": 17,
    "start_time": "2022-03-19T08:37:04.843Z"
   },
   {
    "duration": 12,
    "start_time": "2022-03-19T08:37:04.862Z"
   },
   {
    "duration": 2456,
    "start_time": "2022-03-19T08:37:04.876Z"
   },
   {
    "duration": 3,
    "start_time": "2022-03-19T08:37:07.334Z"
   },
   {
    "duration": 23,
    "start_time": "2022-03-19T08:37:07.339Z"
   },
   {
    "duration": 5232,
    "start_time": "2022-03-19T08:38:24.763Z"
   },
   {
    "duration": 2,
    "start_time": "2022-03-19T08:38:34.356Z"
   },
   {
    "duration": 552,
    "start_time": "2022-03-19T08:38:52.345Z"
   },
   {
    "duration": 3,
    "start_time": "2022-03-19T08:38:54.594Z"
   },
   {
    "duration": 444,
    "start_time": "2022-03-19T08:39:00.373Z"
   },
   {
    "duration": 4,
    "start_time": "2022-03-19T08:39:02.461Z"
   },
   {
    "duration": 80,
    "start_time": "2022-03-19T08:39:12.340Z"
   },
   {
    "duration": 3,
    "start_time": "2022-03-19T08:39:14.378Z"
   },
   {
    "duration": 4,
    "start_time": "2022-03-19T08:39:46.264Z"
   },
   {
    "duration": 5,
    "start_time": "2022-03-19T08:39:55.874Z"
   },
   {
    "duration": 4,
    "start_time": "2022-03-19T08:40:12.684Z"
   },
   {
    "duration": 990,
    "start_time": "2022-03-19T08:40:39.669Z"
   },
   {
    "duration": 3,
    "start_time": "2022-03-19T08:40:42.612Z"
   },
   {
    "duration": 109,
    "start_time": "2022-03-19T08:42:56.890Z"
   },
   {
    "duration": 305335,
    "start_time": "2022-03-19T08:46:38.932Z"
   },
   {
    "duration": 46863,
    "start_time": "2022-03-19T08:52:51.408Z"
   },
   {
    "duration": 119465,
    "start_time": "2022-03-19T08:55:50.239Z"
   },
   {
    "duration": 105,
    "start_time": "2022-03-19T09:01:09.624Z"
   },
   {
    "duration": 3,
    "start_time": "2022-03-19T09:01:13.706Z"
   },
   {
    "duration": 4,
    "start_time": "2022-03-19T09:04:36.927Z"
   },
   {
    "duration": 212,
    "start_time": "2022-03-19T09:08:10.321Z"
   },
   {
    "duration": 206,
    "start_time": "2022-03-19T09:08:35.972Z"
   },
   {
    "duration": 414688,
    "start_time": "2022-03-19T09:10:04.444Z"
   },
   {
    "duration": 609484,
    "start_time": "2022-03-19T09:20:13.127Z"
   },
   {
    "duration": 83,
    "start_time": "2022-03-19T09:34:48.895Z"
   },
   {
    "duration": 74,
    "start_time": "2022-03-19T09:54:57.729Z"
   },
   {
    "duration": 332,
    "start_time": "2022-03-19T10:10:21.630Z"
   },
   {
    "duration": 3,
    "start_time": "2022-03-19T10:10:24.847Z"
   },
   {
    "duration": 7,
    "start_time": "2022-03-19T10:23:54.898Z"
   },
   {
    "duration": 5,
    "start_time": "2022-03-19T10:24:06.554Z"
   },
   {
    "duration": 7,
    "start_time": "2022-03-19T10:26:12.826Z"
   },
   {
    "duration": 6,
    "start_time": "2022-03-19T10:27:17.633Z"
   },
   {
    "duration": 6,
    "start_time": "2022-03-19T10:27:55.870Z"
   },
   {
    "duration": 7,
    "start_time": "2022-03-19T10:28:31.022Z"
   },
   {
    "duration": 3688,
    "start_time": "2022-03-19T10:32:21.996Z"
   },
   {
    "duration": 2267,
    "start_time": "2022-03-19T10:33:47.977Z"
   },
   {
    "duration": 32110,
    "start_time": "2022-03-19T10:33:55.994Z"
   },
   {
    "duration": 4359,
    "start_time": "2022-03-19T10:35:13.133Z"
   },
   {
    "duration": 1104,
    "start_time": "2022-03-19T10:35:53.042Z"
   },
   {
    "duration": 223,
    "start_time": "2022-03-19T10:35:54.148Z"
   },
   {
    "duration": 3,
    "start_time": "2022-03-19T10:35:54.373Z"
   },
   {
    "duration": 114,
    "start_time": "2022-03-19T10:35:54.378Z"
   },
   {
    "duration": 79,
    "start_time": "2022-03-19T10:35:54.493Z"
   },
   {
    "duration": 4361,
    "start_time": "2022-03-19T10:35:54.573Z"
   },
   {
    "duration": 52,
    "start_time": "2022-03-19T10:35:58.936Z"
   },
   {
    "duration": 262,
    "start_time": "2022-03-19T10:35:58.989Z"
   },
   {
    "duration": 22,
    "start_time": "2022-03-19T10:35:59.253Z"
   },
   {
    "duration": 18,
    "start_time": "2022-03-19T10:35:59.278Z"
   },
   {
    "duration": 12,
    "start_time": "2022-03-19T10:35:59.298Z"
   },
   {
    "duration": 305,
    "start_time": "2022-03-19T10:35:59.332Z"
   },
   {
    "duration": 0,
    "start_time": "2022-03-19T10:35:59.639Z"
   },
   {
    "duration": 0,
    "start_time": "2022-03-19T10:35:59.640Z"
   },
   {
    "duration": 0,
    "start_time": "2022-03-19T10:35:59.642Z"
   },
   {
    "duration": 0,
    "start_time": "2022-03-19T10:35:59.643Z"
   },
   {
    "duration": 0,
    "start_time": "2022-03-19T10:35:59.644Z"
   },
   {
    "duration": 0,
    "start_time": "2022-03-19T10:35:59.645Z"
   },
   {
    "duration": 7,
    "start_time": "2022-03-19T11:20:45.654Z"
   },
   {
    "duration": 1196,
    "start_time": "2022-03-19T11:20:56.073Z"
   },
   {
    "duration": 230,
    "start_time": "2022-03-19T11:20:57.271Z"
   },
   {
    "duration": 3,
    "start_time": "2022-03-19T11:20:57.503Z"
   },
   {
    "duration": 125,
    "start_time": "2022-03-19T11:20:57.508Z"
   },
   {
    "duration": 71,
    "start_time": "2022-03-19T11:20:57.635Z"
   },
   {
    "duration": 27,
    "start_time": "2022-03-19T11:20:57.708Z"
   },
   {
    "duration": 128,
    "start_time": "2022-03-19T11:20:57.737Z"
   },
   {
    "duration": 0,
    "start_time": "2022-03-19T11:20:57.867Z"
   },
   {
    "duration": 0,
    "start_time": "2022-03-19T11:20:57.868Z"
   },
   {
    "duration": 0,
    "start_time": "2022-03-19T11:20:57.869Z"
   },
   {
    "duration": 0,
    "start_time": "2022-03-19T11:20:57.871Z"
   },
   {
    "duration": 0,
    "start_time": "2022-03-19T11:20:57.872Z"
   },
   {
    "duration": 0,
    "start_time": "2022-03-19T11:20:57.873Z"
   },
   {
    "duration": 0,
    "start_time": "2022-03-19T11:20:57.874Z"
   },
   {
    "duration": 0,
    "start_time": "2022-03-19T11:20:57.875Z"
   },
   {
    "duration": 0,
    "start_time": "2022-03-19T11:20:57.876Z"
   },
   {
    "duration": 0,
    "start_time": "2022-03-19T11:20:57.877Z"
   },
   {
    "duration": 0,
    "start_time": "2022-03-19T11:20:57.878Z"
   },
   {
    "duration": 0,
    "start_time": "2022-03-19T11:20:57.879Z"
   },
   {
    "duration": 32,
    "start_time": "2022-03-19T11:22:19.413Z"
   },
   {
    "duration": 4951,
    "start_time": "2022-03-19T11:36:47.741Z"
   },
   {
    "duration": 12,
    "start_time": "2022-03-19T12:06:47.964Z"
   },
   {
    "duration": 11,
    "start_time": "2022-03-19T12:09:48.725Z"
   },
   {
    "duration": 24,
    "start_time": "2022-03-19T12:10:30.498Z"
   },
   {
    "duration": 12,
    "start_time": "2022-03-19T12:10:35.590Z"
   },
   {
    "duration": 19,
    "start_time": "2022-03-19T12:10:44.462Z"
   },
   {
    "duration": 28,
    "start_time": "2022-03-19T12:11:08.985Z"
   },
   {
    "duration": 15,
    "start_time": "2022-03-19T12:11:11.436Z"
   },
   {
    "duration": 5656,
    "start_time": "2022-03-19T12:11:51.788Z"
   },
   {
    "duration": 5644,
    "start_time": "2022-03-19T12:23:14.531Z"
   },
   {
    "duration": 15482,
    "start_time": "2022-03-19T12:31:05.792Z"
   },
   {
    "duration": 8,
    "start_time": "2022-03-19T16:56:44.498Z"
   },
   {
    "duration": 3,
    "start_time": "2022-03-19T17:00:36.177Z"
   },
   {
    "duration": 45,
    "start_time": "2022-03-19T17:00:38.736Z"
   },
   {
    "duration": 1195,
    "start_time": "2022-03-19T17:00:46.545Z"
   },
   {
    "duration": 216,
    "start_time": "2022-03-19T17:00:48.655Z"
   },
   {
    "duration": 1206,
    "start_time": "2022-03-19T17:00:57.709Z"
   },
   {
    "duration": 219,
    "start_time": "2022-03-19T17:00:58.917Z"
   },
   {
    "duration": 3,
    "start_time": "2022-03-19T17:00:59.138Z"
   },
   {
    "duration": 111,
    "start_time": "2022-03-19T17:00:59.143Z"
   },
   {
    "duration": 83,
    "start_time": "2022-03-19T17:00:59.256Z"
   },
   {
    "duration": 12,
    "start_time": "2022-03-19T17:00:59.341Z"
   },
   {
    "duration": 30,
    "start_time": "2022-03-19T17:00:59.355Z"
   },
   {
    "duration": 9919,
    "start_time": "2022-03-19T17:00:59.387Z"
   },
   {
    "duration": 30,
    "start_time": "2022-03-19T17:01:09.308Z"
   },
   {
    "duration": 120,
    "start_time": "2022-03-19T17:01:09.341Z"
   },
   {
    "duration": 0,
    "start_time": "2022-03-19T17:01:09.463Z"
   },
   {
    "duration": 0,
    "start_time": "2022-03-19T17:01:09.464Z"
   },
   {
    "duration": 0,
    "start_time": "2022-03-19T17:01:09.465Z"
   },
   {
    "duration": 0,
    "start_time": "2022-03-19T17:01:09.466Z"
   },
   {
    "duration": 0,
    "start_time": "2022-03-19T17:01:09.467Z"
   },
   {
    "duration": 0,
    "start_time": "2022-03-19T17:01:09.467Z"
   },
   {
    "duration": 0,
    "start_time": "2022-03-19T17:01:09.469Z"
   },
   {
    "duration": 0,
    "start_time": "2022-03-19T17:01:09.470Z"
   },
   {
    "duration": 0,
    "start_time": "2022-03-19T17:01:09.471Z"
   },
   {
    "duration": 0,
    "start_time": "2022-03-19T17:01:09.471Z"
   },
   {
    "duration": 0,
    "start_time": "2022-03-19T17:01:09.472Z"
   },
   {
    "duration": 0,
    "start_time": "2022-03-19T17:01:09.473Z"
   },
   {
    "duration": 0,
    "start_time": "2022-03-19T17:01:09.474Z"
   },
   {
    "duration": 24,
    "start_time": "2022-03-19T17:01:27.910Z"
   },
   {
    "duration": 4,
    "start_time": "2022-03-19T17:02:49.781Z"
   },
   {
    "duration": 19,
    "start_time": "2022-03-19T17:02:52.087Z"
   },
   {
    "duration": 4,
    "start_time": "2022-03-19T17:03:23.389Z"
   },
   {
    "duration": 12,
    "start_time": "2022-03-19T17:03:26.102Z"
   },
   {
    "duration": 13,
    "start_time": "2022-03-19T17:04:25.236Z"
   },
   {
    "duration": 3,
    "start_time": "2022-03-19T17:04:27.890Z"
   },
   {
    "duration": 13,
    "start_time": "2022-03-19T17:04:29.860Z"
   },
   {
    "duration": 3,
    "start_time": "2022-03-19T17:08:33.427Z"
   },
   {
    "duration": 16,
    "start_time": "2022-03-19T17:08:35.242Z"
   },
   {
    "duration": 3,
    "start_time": "2022-03-19T17:09:44.685Z"
   },
   {
    "duration": 18,
    "start_time": "2022-03-19T17:09:46.272Z"
   },
   {
    "duration": 382,
    "start_time": "2022-03-19T17:11:57.093Z"
   },
   {
    "duration": 6,
    "start_time": "2022-03-19T17:12:11.451Z"
   },
   {
    "duration": 6,
    "start_time": "2022-03-19T17:19:17.455Z"
   },
   {
    "duration": 7,
    "start_time": "2022-03-19T17:20:36.261Z"
   },
   {
    "duration": 718,
    "start_time": "2022-03-19T17:20:38.240Z"
   },
   {
    "duration": 6,
    "start_time": "2022-03-19T17:20:59.005Z"
   },
   {
    "duration": 105,
    "start_time": "2022-03-19T17:26:56.571Z"
   },
   {
    "duration": 71,
    "start_time": "2022-03-19T17:27:11.439Z"
   },
   {
    "duration": 19,
    "start_time": "2022-03-19T17:28:19.022Z"
   },
   {
    "duration": 10,
    "start_time": "2022-03-19T17:30:16.606Z"
   },
   {
    "duration": 12,
    "start_time": "2022-03-19T17:30:28.213Z"
   },
   {
    "duration": 13,
    "start_time": "2022-03-19T17:36:45.623Z"
   },
   {
    "duration": 1096,
    "start_time": "2022-03-19T17:52:49.503Z"
   },
   {
    "duration": 254,
    "start_time": "2022-03-19T17:52:50.601Z"
   },
   {
    "duration": 3,
    "start_time": "2022-03-19T17:52:50.857Z"
   },
   {
    "duration": 99,
    "start_time": "2022-03-19T17:52:50.862Z"
   },
   {
    "duration": 85,
    "start_time": "2022-03-19T17:52:50.963Z"
   },
   {
    "duration": 10,
    "start_time": "2022-03-19T17:52:51.050Z"
   },
   {
    "duration": 30,
    "start_time": "2022-03-19T17:52:51.062Z"
   },
   {
    "duration": 9500,
    "start_time": "2022-03-19T17:52:51.093Z"
   },
   {
    "duration": 3,
    "start_time": "2022-03-19T17:53:00.595Z"
   },
   {
    "duration": 441,
    "start_time": "2022-03-19T17:53:00.600Z"
   },
   {
    "duration": 6,
    "start_time": "2022-03-19T17:53:01.043Z"
   },
   {
    "duration": 14,
    "start_time": "2022-03-19T17:53:01.051Z"
   },
   {
    "duration": 815,
    "start_time": "2022-03-19T17:53:01.068Z"
   },
   {
    "duration": 20,
    "start_time": "2022-03-19T17:53:01.885Z"
   },
   {
    "duration": 49,
    "start_time": "2022-03-19T17:53:01.907Z"
   },
   {
    "duration": 54,
    "start_time": "2022-03-19T17:53:01.958Z"
   },
   {
    "duration": 278,
    "start_time": "2022-03-19T17:53:02.014Z"
   },
   {
    "duration": 22,
    "start_time": "2022-03-19T17:53:02.294Z"
   },
   {
    "duration": 34,
    "start_time": "2022-03-19T17:53:02.318Z"
   },
   {
    "duration": 14,
    "start_time": "2022-03-19T17:53:02.354Z"
   },
   {
    "duration": 104,
    "start_time": "2022-03-19T17:53:02.370Z"
   },
   {
    "duration": 0,
    "start_time": "2022-03-19T17:53:02.476Z"
   },
   {
    "duration": 0,
    "start_time": "2022-03-19T17:53:02.477Z"
   },
   {
    "duration": 0,
    "start_time": "2022-03-19T17:53:02.478Z"
   },
   {
    "duration": 0,
    "start_time": "2022-03-19T17:53:02.480Z"
   },
   {
    "duration": 331,
    "start_time": "2022-03-19T17:53:35.702Z"
   },
   {
    "duration": 467,
    "start_time": "2022-03-19T18:08:32.285Z"
   },
   {
    "duration": 1201,
    "start_time": "2022-03-19T18:21:18.208Z"
   },
   {
    "duration": 434,
    "start_time": "2022-03-19T18:21:19.411Z"
   },
   {
    "duration": 3,
    "start_time": "2022-03-19T18:21:19.847Z"
   },
   {
    "duration": 107,
    "start_time": "2022-03-19T18:21:19.852Z"
   },
   {
    "duration": 80,
    "start_time": "2022-03-19T18:21:19.960Z"
   },
   {
    "duration": 30,
    "start_time": "2022-03-19T18:21:20.042Z"
   },
   {
    "duration": 69,
    "start_time": "2022-03-19T18:21:20.074Z"
   },
   {
    "duration": 263,
    "start_time": "2022-03-19T18:21:20.145Z"
   },
   {
    "duration": 29,
    "start_time": "2022-03-19T18:21:20.410Z"
   },
   {
    "duration": 22,
    "start_time": "2022-03-19T18:21:20.442Z"
   },
   {
    "duration": 14,
    "start_time": "2022-03-19T18:21:20.466Z"
   },
   {
    "duration": 390,
    "start_time": "2022-03-19T18:21:20.482Z"
   },
   {
    "duration": 4,
    "start_time": "2022-03-19T18:21:20.873Z"
   },
   {
    "duration": 32,
    "start_time": "2022-03-19T18:21:20.879Z"
   },
   {
    "duration": 111,
    "start_time": "2022-03-19T18:21:20.913Z"
   },
   {
    "duration": 0,
    "start_time": "2022-03-19T18:21:21.026Z"
   },
   {
    "duration": 0,
    "start_time": "2022-03-19T18:21:21.027Z"
   },
   {
    "duration": 0,
    "start_time": "2022-03-19T18:21:21.028Z"
   },
   {
    "duration": 0,
    "start_time": "2022-03-19T18:21:21.038Z"
   },
   {
    "duration": 14,
    "start_time": "2022-03-19T18:22:32.653Z"
   },
   {
    "duration": 16,
    "start_time": "2022-03-19T18:23:12.948Z"
   },
   {
    "duration": 1236,
    "start_time": "2022-03-19T18:24:00.717Z"
   },
   {
    "duration": 573,
    "start_time": "2022-03-19T18:24:01.955Z"
   },
   {
    "duration": 3,
    "start_time": "2022-03-19T18:24:02.530Z"
   },
   {
    "duration": 134,
    "start_time": "2022-03-19T18:24:02.536Z"
   },
   {
    "duration": 99,
    "start_time": "2022-03-19T18:24:02.672Z"
   },
   {
    "duration": 66,
    "start_time": "2022-03-19T18:24:02.772Z"
   },
   {
    "duration": 57,
    "start_time": "2022-03-19T18:24:02.839Z"
   },
   {
    "duration": 279,
    "start_time": "2022-03-19T18:24:02.898Z"
   },
   {
    "duration": 24,
    "start_time": "2022-03-19T18:24:03.179Z"
   },
   {
    "duration": 36,
    "start_time": "2022-03-19T18:24:03.205Z"
   },
   {
    "duration": 15,
    "start_time": "2022-03-19T18:24:03.243Z"
   },
   {
    "duration": 396,
    "start_time": "2022-03-19T18:24:03.259Z"
   },
   {
    "duration": 4,
    "start_time": "2022-03-19T18:24:03.657Z"
   },
   {
    "duration": 38,
    "start_time": "2022-03-19T18:24:03.662Z"
   },
   {
    "duration": 124,
    "start_time": "2022-03-19T18:24:03.702Z"
   },
   {
    "duration": 0,
    "start_time": "2022-03-19T18:24:03.828Z"
   },
   {
    "duration": 0,
    "start_time": "2022-03-19T18:24:03.829Z"
   },
   {
    "duration": 0,
    "start_time": "2022-03-19T18:24:03.830Z"
   },
   {
    "duration": 0,
    "start_time": "2022-03-19T18:24:03.831Z"
   },
   {
    "duration": 4,
    "start_time": "2022-03-19T18:25:08.869Z"
   },
   {
    "duration": 3,
    "start_time": "2022-03-19T18:25:21.579Z"
   },
   {
    "duration": 14,
    "start_time": "2022-03-19T18:25:57.595Z"
   },
   {
    "duration": 6,
    "start_time": "2022-03-19T18:34:03.806Z"
   },
   {
    "duration": 21,
    "start_time": "2022-03-19T18:34:07.829Z"
   },
   {
    "duration": 735,
    "start_time": "2022-03-19T18:37:58.834Z"
   },
   {
    "duration": 20,
    "start_time": "2022-03-19T18:38:03.073Z"
   },
   {
    "duration": 13,
    "start_time": "2022-03-19T18:38:06.225Z"
   },
   {
    "duration": 12,
    "start_time": "2022-03-19T18:40:41.795Z"
   },
   {
    "duration": 12,
    "start_time": "2022-03-19T18:41:14.596Z"
   },
   {
    "duration": 4,
    "start_time": "2022-03-19T18:42:14.408Z"
   },
   {
    "duration": 20,
    "start_time": "2022-03-19T18:42:22.519Z"
   },
   {
    "duration": 113,
    "start_time": "2022-03-19T18:42:28.350Z"
   },
   {
    "duration": 77,
    "start_time": "2022-03-19T18:44:01.099Z"
   },
   {
    "duration": 1151,
    "start_time": "2022-03-19T18:44:11.089Z"
   },
   {
    "duration": 463,
    "start_time": "2022-03-19T18:44:12.242Z"
   },
   {
    "duration": 4,
    "start_time": "2022-03-19T18:44:12.706Z"
   },
   {
    "duration": 135,
    "start_time": "2022-03-19T18:44:12.713Z"
   },
   {
    "duration": 89,
    "start_time": "2022-03-19T18:44:12.850Z"
   },
   {
    "duration": 54,
    "start_time": "2022-03-19T18:44:12.941Z"
   },
   {
    "duration": 75,
    "start_time": "2022-03-19T18:44:12.997Z"
   },
   {
    "duration": 263,
    "start_time": "2022-03-19T18:44:13.074Z"
   },
   {
    "duration": 22,
    "start_time": "2022-03-19T18:44:13.339Z"
   },
   {
    "duration": 22,
    "start_time": "2022-03-19T18:44:13.363Z"
   },
   {
    "duration": 20,
    "start_time": "2022-03-19T18:44:13.387Z"
   },
   {
    "duration": 382,
    "start_time": "2022-03-19T18:44:13.409Z"
   },
   {
    "duration": 3,
    "start_time": "2022-03-19T18:44:13.793Z"
   },
   {
    "duration": 7,
    "start_time": "2022-03-19T18:44:13.798Z"
   },
   {
    "duration": 14,
    "start_time": "2022-03-19T18:44:13.806Z"
   },
   {
    "duration": 815,
    "start_time": "2022-03-19T18:44:13.822Z"
   },
   {
    "duration": 19,
    "start_time": "2022-03-19T18:44:14.639Z"
   },
   {
    "duration": 13,
    "start_time": "2022-03-19T18:44:14.660Z"
   },
   {
    "duration": 3,
    "start_time": "2022-03-19T18:44:14.675Z"
   },
   {
    "duration": 67,
    "start_time": "2022-03-19T18:44:14.680Z"
   },
   {
    "duration": 96,
    "start_time": "2022-03-19T18:44:41.767Z"
   },
   {
    "duration": 12,
    "start_time": "2022-03-19T18:45:27.099Z"
   },
   {
    "duration": 38,
    "start_time": "2022-03-19T18:45:33.019Z"
   },
   {
    "duration": 6,
    "start_time": "2022-03-19T18:46:06.505Z"
   },
   {
    "duration": 5,
    "start_time": "2022-03-19T18:46:15.378Z"
   },
   {
    "duration": 5,
    "start_time": "2022-03-19T18:46:52.265Z"
   },
   {
    "duration": 49,
    "start_time": "2022-03-19T18:48:05.355Z"
   },
   {
    "duration": 4,
    "start_time": "2022-03-19T18:48:08.442Z"
   },
   {
    "duration": 4,
    "start_time": "2022-03-19T18:48:11.154Z"
   },
   {
    "duration": 1675,
    "start_time": "2022-03-19T18:49:27.736Z"
   },
   {
    "duration": 4,
    "start_time": "2022-03-19T18:49:45.335Z"
   },
   {
    "duration": 4,
    "start_time": "2022-03-19T18:50:07.383Z"
   },
   {
    "duration": 4,
    "start_time": "2022-03-19T18:50:18.448Z"
   },
   {
    "duration": 4,
    "start_time": "2022-03-19T18:56:28.039Z"
   },
   {
    "duration": 5,
    "start_time": "2022-03-19T18:56:41.183Z"
   },
   {
    "duration": 1690,
    "start_time": "2022-03-19T18:57:42.541Z"
   },
   {
    "duration": 4,
    "start_time": "2022-03-19T18:57:46.039Z"
   },
   {
    "duration": 4,
    "start_time": "2022-03-19T18:57:48.556Z"
   },
   {
    "duration": 5,
    "start_time": "2022-03-19T18:57:50.515Z"
   },
   {
    "duration": 5901,
    "start_time": "2022-03-19T18:58:09.762Z"
   },
   {
    "duration": 4,
    "start_time": "2022-03-19T18:58:17.718Z"
   },
   {
    "duration": 4,
    "start_time": "2022-03-19T18:58:19.361Z"
   },
   {
    "duration": 5,
    "start_time": "2022-03-19T18:58:21.162Z"
   },
   {
    "duration": 1627,
    "start_time": "2022-03-19T18:58:32.462Z"
   },
   {
    "duration": 5,
    "start_time": "2022-03-19T18:58:35.441Z"
   },
   {
    "duration": 4,
    "start_time": "2022-03-19T18:58:37.190Z"
   },
   {
    "duration": 6,
    "start_time": "2022-03-19T18:58:39.489Z"
   },
   {
    "duration": 10,
    "start_time": "2022-03-19T19:01:39.956Z"
   },
   {
    "duration": 4,
    "start_time": "2022-03-19T19:02:12.136Z"
   },
   {
    "duration": 1710,
    "start_time": "2022-03-19T19:02:23.187Z"
   },
   {
    "duration": 3,
    "start_time": "2022-03-19T19:02:34.435Z"
   },
   {
    "duration": 3,
    "start_time": "2022-03-19T19:02:39.653Z"
   },
   {
    "duration": 4,
    "start_time": "2022-03-19T19:02:48.301Z"
   },
   {
    "duration": 5,
    "start_time": "2022-03-19T19:04:45.246Z"
   },
   {
    "duration": 2415,
    "start_time": "2022-03-19T19:08:24.318Z"
   },
   {
    "duration": 3,
    "start_time": "2022-03-19T19:08:28.601Z"
   },
   {
    "duration": 3,
    "start_time": "2022-03-19T19:08:31.825Z"
   },
   {
    "duration": 4528,
    "start_time": "2022-03-19T19:08:44.710Z"
   },
   {
    "duration": 5,
    "start_time": "2022-03-19T19:08:49.241Z"
   },
   {
    "duration": 3,
    "start_time": "2022-03-19T19:08:51.082Z"
   },
   {
    "duration": 4,
    "start_time": "2022-03-19T19:08:55.510Z"
   },
   {
    "duration": 4,
    "start_time": "2022-03-19T19:08:58.105Z"
   },
   {
    "duration": 7565,
    "start_time": "2022-03-19T19:31:45.095Z"
   },
   {
    "duration": 141237,
    "start_time": "2022-03-19T19:33:08.972Z"
   },
   {
    "duration": 405,
    "start_time": "2022-03-19T19:42:11.230Z"
   },
   {
    "duration": 418,
    "start_time": "2022-03-19T19:42:31.487Z"
   },
   {
    "duration": 8,
    "start_time": "2022-03-19T19:43:05.390Z"
   },
   {
    "duration": 4,
    "start_time": "2022-03-19T19:43:29.389Z"
   },
   {
    "duration": 6,
    "start_time": "2022-03-19T19:44:14.916Z"
   },
   {
    "duration": 11,
    "start_time": "2022-03-19T19:44:40.380Z"
   },
   {
    "duration": 5,
    "start_time": "2022-03-19T19:44:43.397Z"
   },
   {
    "duration": 6,
    "start_time": "2022-03-19T19:44:44.933Z"
   },
   {
    "duration": 111099,
    "start_time": "2022-03-19T19:47:43.435Z"
   },
   {
    "duration": 11,
    "start_time": "2022-03-19T19:50:18.377Z"
   },
   {
    "duration": 78,
    "start_time": "2022-03-19T19:51:28.714Z"
   },
   {
    "duration": 4,
    "start_time": "2022-03-19T19:51:32.366Z"
   },
   {
    "duration": 5,
    "start_time": "2022-03-19T19:51:34.169Z"
   },
   {
    "duration": 30195,
    "start_time": "2022-03-19T19:54:39.309Z"
   },
   {
    "duration": 470,
    "start_time": "2022-03-19T19:55:24.588Z"
   },
   {
    "duration": 599,
    "start_time": "2022-03-19T19:56:05.492Z"
   },
   {
    "duration": 597,
    "start_time": "2022-03-19T19:57:56.379Z"
   },
   {
    "duration": 5,
    "start_time": "2022-03-19T19:58:13.001Z"
   },
   {
    "duration": 4,
    "start_time": "2022-03-19T19:58:39.289Z"
   },
   {
    "duration": 5,
    "start_time": "2022-03-19T19:58:56.993Z"
   },
   {
    "duration": 5,
    "start_time": "2022-03-19T19:59:05.042Z"
   },
   {
    "duration": 4,
    "start_time": "2022-03-19T19:59:44.153Z"
   },
   {
    "duration": 6,
    "start_time": "2022-03-19T19:59:57.616Z"
   },
   {
    "duration": 1315,
    "start_time": "2022-03-20T07:26:31.465Z"
   },
   {
    "duration": 1250,
    "start_time": "2022-03-20T07:33:54.553Z"
   },
   {
    "duration": 653,
    "start_time": "2022-03-20T07:33:55.805Z"
   },
   {
    "duration": 3,
    "start_time": "2022-03-20T07:33:56.460Z"
   },
   {
    "duration": 102,
    "start_time": "2022-03-20T07:33:56.465Z"
   },
   {
    "duration": 74,
    "start_time": "2022-03-20T07:33:56.569Z"
   },
   {
    "duration": 110,
    "start_time": "2022-03-20T07:33:56.644Z"
   },
   {
    "duration": 66,
    "start_time": "2022-03-20T07:33:56.763Z"
   },
   {
    "duration": 244,
    "start_time": "2022-03-20T07:33:56.831Z"
   },
   {
    "duration": 22,
    "start_time": "2022-03-20T07:33:57.076Z"
   },
   {
    "duration": 19,
    "start_time": "2022-03-20T07:33:57.101Z"
   },
   {
    "duration": 119,
    "start_time": "2022-03-20T07:33:57.122Z"
   },
   {
    "duration": 0,
    "start_time": "2022-03-20T07:33:57.244Z"
   },
   {
    "duration": 0,
    "start_time": "2022-03-20T07:33:57.245Z"
   },
   {
    "duration": 0,
    "start_time": "2022-03-20T07:33:57.246Z"
   },
   {
    "duration": 0,
    "start_time": "2022-03-20T07:33:57.247Z"
   },
   {
    "duration": 0,
    "start_time": "2022-03-20T07:33:57.248Z"
   },
   {
    "duration": 0,
    "start_time": "2022-03-20T07:33:57.249Z"
   },
   {
    "duration": 0,
    "start_time": "2022-03-20T07:33:57.263Z"
   },
   {
    "duration": 0,
    "start_time": "2022-03-20T07:33:57.264Z"
   },
   {
    "duration": 0,
    "start_time": "2022-03-20T07:33:57.265Z"
   },
   {
    "duration": 0,
    "start_time": "2022-03-20T07:33:57.266Z"
   },
   {
    "duration": 0,
    "start_time": "2022-03-20T07:33:57.267Z"
   },
   {
    "duration": 0,
    "start_time": "2022-03-20T07:33:57.268Z"
   },
   {
    "duration": 0,
    "start_time": "2022-03-20T07:33:57.268Z"
   },
   {
    "duration": 0,
    "start_time": "2022-03-20T07:33:57.269Z"
   },
   {
    "duration": 0,
    "start_time": "2022-03-20T07:33:57.270Z"
   },
   {
    "duration": 0,
    "start_time": "2022-03-20T07:33:57.271Z"
   },
   {
    "duration": 0,
    "start_time": "2022-03-20T07:33:57.272Z"
   },
   {
    "duration": 0,
    "start_time": "2022-03-20T07:33:57.273Z"
   },
   {
    "duration": 0,
    "start_time": "2022-03-20T07:33:57.274Z"
   },
   {
    "duration": 0,
    "start_time": "2022-03-20T07:33:57.275Z"
   },
   {
    "duration": 0,
    "start_time": "2022-03-20T07:33:57.275Z"
   },
   {
    "duration": 0,
    "start_time": "2022-03-20T07:33:57.279Z"
   },
   {
    "duration": 0,
    "start_time": "2022-03-20T07:33:57.280Z"
   },
   {
    "duration": 0,
    "start_time": "2022-03-20T07:33:57.281Z"
   },
   {
    "duration": 0,
    "start_time": "2022-03-20T07:33:57.282Z"
   },
   {
    "duration": 0,
    "start_time": "2022-03-20T07:33:57.283Z"
   },
   {
    "duration": 0,
    "start_time": "2022-03-20T07:33:57.284Z"
   },
   {
    "duration": 0,
    "start_time": "2022-03-20T07:33:57.284Z"
   },
   {
    "duration": 49,
    "start_time": "2022-03-20T07:34:59.085Z"
   },
   {
    "duration": 16,
    "start_time": "2022-03-20T07:35:03.164Z"
   },
   {
    "duration": 2548,
    "start_time": "2022-03-20T07:35:06.828Z"
   },
   {
    "duration": 4,
    "start_time": "2022-03-20T07:35:12.521Z"
   },
   {
    "duration": 4,
    "start_time": "2022-03-20T07:35:14.545Z"
   },
   {
    "duration": 5,
    "start_time": "2022-03-20T07:35:16.561Z"
   },
   {
    "duration": 1213,
    "start_time": "2022-03-20T07:35:36.007Z"
   },
   {
    "duration": 430,
    "start_time": "2022-03-20T07:35:37.221Z"
   },
   {
    "duration": 3,
    "start_time": "2022-03-20T07:35:37.653Z"
   },
   {
    "duration": 104,
    "start_time": "2022-03-20T07:35:37.662Z"
   },
   {
    "duration": 76,
    "start_time": "2022-03-20T07:35:37.768Z"
   },
   {
    "duration": 63,
    "start_time": "2022-03-20T07:35:37.845Z"
   },
   {
    "duration": 65,
    "start_time": "2022-03-20T07:35:37.910Z"
   },
   {
    "duration": 255,
    "start_time": "2022-03-20T07:35:37.977Z"
   },
   {
    "duration": 22,
    "start_time": "2022-03-20T07:35:38.233Z"
   },
   {
    "duration": 18,
    "start_time": "2022-03-20T07:35:38.264Z"
   },
   {
    "duration": 53,
    "start_time": "2022-03-20T07:35:38.284Z"
   },
   {
    "duration": 30,
    "start_time": "2022-03-20T07:35:38.339Z"
   },
   {
    "duration": 3662,
    "start_time": "2022-03-20T07:35:38.371Z"
   },
   {
    "duration": 5,
    "start_time": "2022-03-20T07:35:42.035Z"
   },
   {
    "duration": 22,
    "start_time": "2022-03-20T07:35:42.042Z"
   },
   {
    "duration": 9,
    "start_time": "2022-03-20T07:35:42.065Z"
   },
   {
    "duration": 4,
    "start_time": "2022-03-20T07:35:42.076Z"
   },
   {
    "duration": 7,
    "start_time": "2022-03-20T07:35:42.081Z"
   },
   {
    "duration": 6,
    "start_time": "2022-03-20T07:35:42.090Z"
   },
   {
    "duration": 8765,
    "start_time": "2022-03-20T07:35:42.098Z"
   },
   {
    "duration": 4,
    "start_time": "2022-03-20T07:35:50.866Z"
   },
   {
    "duration": 105,
    "start_time": "2022-03-20T07:35:50.871Z"
   },
   {
    "duration": 9,
    "start_time": "2022-03-20T07:35:50.978Z"
   },
   {
    "duration": 8,
    "start_time": "2022-03-20T07:35:50.989Z"
   },
   {
    "duration": 184131,
    "start_time": "2022-03-20T07:35:50.998Z"
   },
   {
    "duration": 44362,
    "start_time": "2022-03-20T07:38:55.131Z"
   },
   {
    "duration": 983,
    "start_time": "2022-03-20T07:39:39.495Z"
   },
   {
    "duration": 3,
    "start_time": "2022-03-20T07:39:40.482Z"
   },
   {
    "duration": 7,
    "start_time": "2022-03-20T07:39:40.487Z"
   },
   {
    "duration": 188,
    "start_time": "2022-03-20T07:39:40.495Z"
   },
   {
    "duration": 5,
    "start_time": "2022-03-20T07:39:40.685Z"
   },
   {
    "duration": 25,
    "start_time": "2022-03-20T07:39:40.691Z"
   },
   {
    "duration": 17,
    "start_time": "2022-03-20T07:39:40.718Z"
   },
   {
    "duration": 744,
    "start_time": "2022-03-20T07:39:40.737Z"
   },
   {
    "duration": 18,
    "start_time": "2022-03-20T07:39:41.483Z"
   },
   {
    "duration": 12,
    "start_time": "2022-03-20T07:39:41.502Z"
   },
   {
    "duration": 65,
    "start_time": "2022-03-20T07:39:41.516Z"
   },
   {
    "duration": 4,
    "start_time": "2022-03-20T07:39:41.583Z"
   },
   {
    "duration": 9,
    "start_time": "2022-03-20T07:39:41.588Z"
   },
   {
    "duration": 4,
    "start_time": "2022-03-20T07:53:48.427Z"
   },
   {
    "duration": 6,
    "start_time": "2022-03-20T08:01:07.044Z"
   },
   {
    "duration": 97,
    "start_time": "2022-03-20T08:07:42.255Z"
   },
   {
    "duration": 19,
    "start_time": "2022-03-20T08:07:46.592Z"
   },
   {
    "duration": 7,
    "start_time": "2022-03-20T08:44:39.310Z"
   },
   {
    "duration": 4,
    "start_time": "2022-03-20T08:44:43.065Z"
   },
   {
    "duration": 9,
    "start_time": "2022-03-20T08:52:18.450Z"
   },
   {
    "duration": 10,
    "start_time": "2022-03-20T08:52:21.092Z"
   },
   {
    "duration": 35,
    "start_time": "2022-03-20T08:52:23.363Z"
   },
   {
    "duration": 4,
    "start_time": "2022-03-20T08:54:33.072Z"
   },
   {
    "duration": 6,
    "start_time": "2022-03-20T08:54:35.800Z"
   },
   {
    "duration": 2632,
    "start_time": "2022-03-20T08:54:37.562Z"
   },
   {
    "duration": 46,
    "start_time": "2022-03-20T08:56:12.040Z"
   },
   {
    "duration": 37,
    "start_time": "2022-03-20T08:56:27.274Z"
   },
   {
    "duration": 37,
    "start_time": "2022-03-20T08:56:30.032Z"
   },
   {
    "duration": 18,
    "start_time": "2022-03-20T08:57:52.628Z"
   },
   {
    "duration": 960,
    "start_time": "2022-03-20T08:57:55.713Z"
   },
   {
    "duration": 20,
    "start_time": "2022-03-20T08:58:06.276Z"
   },
   {
    "duration": 4,
    "start_time": "2022-03-20T08:59:22.287Z"
   },
   {
    "duration": 153,
    "start_time": "2022-03-20T09:07:24.982Z"
   },
   {
    "duration": 378,
    "start_time": "2022-03-20T09:07:59.286Z"
   },
   {
    "duration": 74,
    "start_time": "2022-03-20T09:13:42.409Z"
   },
   {
    "duration": 13,
    "start_time": "2022-03-20T09:13:58.775Z"
   },
   {
    "duration": 1265,
    "start_time": "2022-03-20T09:14:11.396Z"
   },
   {
    "duration": 415,
    "start_time": "2022-03-20T09:14:12.664Z"
   },
   {
    "duration": 3,
    "start_time": "2022-03-20T09:14:13.081Z"
   },
   {
    "duration": 159,
    "start_time": "2022-03-20T09:14:13.087Z"
   },
   {
    "duration": 129,
    "start_time": "2022-03-20T09:14:13.248Z"
   },
   {
    "duration": 110,
    "start_time": "2022-03-20T09:14:13.379Z"
   },
   {
    "duration": 77,
    "start_time": "2022-03-20T09:14:13.491Z"
   },
   {
    "duration": 398,
    "start_time": "2022-03-20T09:14:13.570Z"
   },
   {
    "duration": 25,
    "start_time": "2022-03-20T09:14:13.971Z"
   },
   {
    "duration": 12,
    "start_time": "2022-03-20T09:14:13.999Z"
   },
   {
    "duration": 64,
    "start_time": "2022-03-20T09:14:14.012Z"
   },
   {
    "duration": 17,
    "start_time": "2022-03-20T09:14:14.077Z"
   },
   {
    "duration": 2856,
    "start_time": "2022-03-20T09:14:14.097Z"
   },
   {
    "duration": 9,
    "start_time": "2022-03-20T09:14:16.954Z"
   },
   {
    "duration": 4,
    "start_time": "2022-03-20T09:14:16.965Z"
   },
   {
    "duration": 6,
    "start_time": "2022-03-20T09:14:16.970Z"
   },
   {
    "duration": 12,
    "start_time": "2022-03-20T09:14:16.978Z"
   },
   {
    "duration": 7,
    "start_time": "2022-03-20T09:14:16.991Z"
   },
   {
    "duration": 16,
    "start_time": "2022-03-20T09:14:17.000Z"
   },
   {
    "duration": 9461,
    "start_time": "2022-03-20T09:14:17.018Z"
   },
   {
    "duration": 86,
    "start_time": "2022-03-20T09:14:26.481Z"
   },
   {
    "duration": 95,
    "start_time": "2022-03-20T09:14:26.569Z"
   },
   {
    "duration": 8,
    "start_time": "2022-03-20T09:14:26.666Z"
   },
   {
    "duration": 6,
    "start_time": "2022-03-20T09:14:26.676Z"
   },
   {
    "duration": 182279,
    "start_time": "2022-03-20T09:14:26.684Z"
   },
   {
    "duration": 47621,
    "start_time": "2022-03-20T09:17:28.965Z"
   },
   {
    "duration": 985,
    "start_time": "2022-03-20T09:18:16.587Z"
   },
   {
    "duration": 5,
    "start_time": "2022-03-20T09:18:17.576Z"
   },
   {
    "duration": 11,
    "start_time": "2022-03-20T09:18:17.582Z"
   },
   {
    "duration": 247,
    "start_time": "2022-03-20T09:18:17.594Z"
   },
   {
    "duration": 5,
    "start_time": "2022-03-20T09:18:17.843Z"
   },
   {
    "duration": 18,
    "start_time": "2022-03-20T09:18:17.849Z"
   },
   {
    "duration": 6,
    "start_time": "2022-03-20T09:18:17.869Z"
   },
   {
    "duration": 817,
    "start_time": "2022-03-20T09:18:17.877Z"
   },
   {
    "duration": 21,
    "start_time": "2022-03-20T09:18:18.696Z"
   },
   {
    "duration": 14,
    "start_time": "2022-03-20T09:18:18.718Z"
   },
   {
    "duration": 73,
    "start_time": "2022-03-20T09:18:18.733Z"
   },
   {
    "duration": 5,
    "start_time": "2022-03-20T09:18:18.808Z"
   },
   {
    "duration": 2689,
    "start_time": "2022-03-20T09:18:18.814Z"
   },
   {
    "duration": 0,
    "start_time": "2022-03-20T09:18:21.504Z"
   },
   {
    "duration": 0,
    "start_time": "2022-03-20T09:18:21.506Z"
   },
   {
    "duration": 0,
    "start_time": "2022-03-20T09:18:21.507Z"
   },
   {
    "duration": 0,
    "start_time": "2022-03-20T09:18:21.509Z"
   },
   {
    "duration": 0,
    "start_time": "2022-03-20T09:18:21.510Z"
   },
   {
    "duration": 0,
    "start_time": "2022-03-20T09:18:21.512Z"
   },
   {
    "duration": 0,
    "start_time": "2022-03-20T09:18:21.513Z"
   },
   {
    "duration": 5,
    "start_time": "2022-03-20T09:25:29.166Z"
   },
   {
    "duration": 3,
    "start_time": "2022-03-20T09:26:58.258Z"
   },
   {
    "duration": 21,
    "start_time": "2022-03-20T09:26:59.875Z"
   },
   {
    "duration": 4,
    "start_time": "2022-03-20T09:27:02.729Z"
   },
   {
    "duration": 11,
    "start_time": "2022-03-20T09:27:05.634Z"
   },
   {
    "duration": 1755,
    "start_time": "2022-03-20T09:27:10.378Z"
   },
   {
    "duration": 34,
    "start_time": "2022-03-20T09:27:13.746Z"
   },
   {
    "duration": 5,
    "start_time": "2022-03-20T09:27:16.156Z"
   },
   {
    "duration": 8457,
    "start_time": "2022-03-20T09:51:13.664Z"
   },
   {
    "duration": 8530,
    "start_time": "2022-03-20T09:55:16.533Z"
   },
   {
    "duration": 181552,
    "start_time": "2022-03-20T10:04:50.518Z"
   },
   {
    "duration": 17,
    "start_time": "2022-03-20T10:09:36.360Z"
   },
   {
    "duration": 508,
    "start_time": "2022-03-20T10:10:11.529Z"
   },
   {
    "duration": 5,
    "start_time": "2022-03-20T10:10:48.682Z"
   },
   {
    "duration": 6,
    "start_time": "2022-03-20T10:10:51.543Z"
   },
   {
    "duration": 509,
    "start_time": "2022-03-20T10:11:03.407Z"
   },
   {
    "duration": 5,
    "start_time": "2022-03-20T10:11:08.064Z"
   },
   {
    "duration": 5,
    "start_time": "2022-03-20T10:11:10.487Z"
   },
   {
    "duration": 473,
    "start_time": "2022-03-20T10:13:56.261Z"
   },
   {
    "duration": 3,
    "start_time": "2022-03-20T10:13:59.332Z"
   },
   {
    "duration": 6,
    "start_time": "2022-03-20T10:14:00.971Z"
   },
   {
    "duration": 4,
    "start_time": "2022-03-20T10:14:07.004Z"
   },
   {
    "duration": 5,
    "start_time": "2022-03-20T10:14:09.354Z"
   },
   {
    "duration": 1258,
    "start_time": "2022-03-20T10:15:22.567Z"
   },
   {
    "duration": 428,
    "start_time": "2022-03-20T10:15:23.827Z"
   },
   {
    "duration": 8,
    "start_time": "2022-03-20T10:15:24.256Z"
   },
   {
    "duration": 99,
    "start_time": "2022-03-20T10:15:24.267Z"
   },
   {
    "duration": 76,
    "start_time": "2022-03-20T10:15:24.368Z"
   },
   {
    "duration": 58,
    "start_time": "2022-03-20T10:15:24.462Z"
   },
   {
    "duration": 68,
    "start_time": "2022-03-20T10:15:24.522Z"
   },
   {
    "duration": 242,
    "start_time": "2022-03-20T10:15:24.592Z"
   },
   {
    "duration": 28,
    "start_time": "2022-03-20T10:15:24.835Z"
   },
   {
    "duration": 11,
    "start_time": "2022-03-20T10:15:24.866Z"
   },
   {
    "duration": 46,
    "start_time": "2022-03-20T10:15:24.878Z"
   },
   {
    "duration": 17,
    "start_time": "2022-03-20T10:15:24.925Z"
   },
   {
    "duration": 7,
    "start_time": "2022-03-20T10:15:24.962Z"
   },
   {
    "duration": 9,
    "start_time": "2022-03-20T10:15:24.970Z"
   },
   {
    "duration": 8,
    "start_time": "2022-03-20T10:15:24.980Z"
   },
   {
    "duration": 8275,
    "start_time": "2022-03-20T10:15:24.989Z"
   },
   {
    "duration": 5,
    "start_time": "2022-03-20T10:15:33.268Z"
   },
   {
    "duration": 7,
    "start_time": "2022-03-20T10:15:33.364Z"
   },
   {
    "duration": 178093,
    "start_time": "2022-03-20T10:15:33.372Z"
   },
   {
    "duration": 533,
    "start_time": "2022-03-20T10:18:31.467Z"
   },
   {
    "duration": 4,
    "start_time": "2022-03-20T10:18:32.002Z"
   },
   {
    "duration": 12,
    "start_time": "2022-03-20T10:18:32.008Z"
   },
   {
    "duration": 494,
    "start_time": "2022-03-20T10:18:32.022Z"
   },
   {
    "duration": 3,
    "start_time": "2022-03-20T10:18:32.518Z"
   },
   {
    "duration": 7,
    "start_time": "2022-03-20T10:18:32.523Z"
   },
   {
    "duration": 2697,
    "start_time": "2022-03-20T10:18:32.532Z"
   },
   {
    "duration": 4,
    "start_time": "2022-03-20T10:18:35.231Z"
   },
   {
    "duration": 4,
    "start_time": "2022-03-20T10:18:35.238Z"
   },
   {
    "duration": 19,
    "start_time": "2022-03-20T10:18:35.244Z"
   },
   {
    "duration": 4,
    "start_time": "2022-03-20T10:18:35.265Z"
   },
   {
    "duration": 9,
    "start_time": "2022-03-20T10:18:35.271Z"
   },
   {
    "duration": 6,
    "start_time": "2022-03-20T10:18:35.281Z"
   },
   {
    "duration": 2552,
    "start_time": "2022-03-20T10:18:35.288Z"
   },
   {
    "duration": 0,
    "start_time": "2022-03-20T10:18:37.842Z"
   },
   {
    "duration": 0,
    "start_time": "2022-03-20T10:18:37.843Z"
   },
   {
    "duration": 0,
    "start_time": "2022-03-20T10:18:37.844Z"
   },
   {
    "duration": 0,
    "start_time": "2022-03-20T10:18:37.845Z"
   },
   {
    "duration": 1,
    "start_time": "2022-03-20T10:18:37.846Z"
   },
   {
    "duration": 0,
    "start_time": "2022-03-20T10:18:37.847Z"
   },
   {
    "duration": 0,
    "start_time": "2022-03-20T10:18:37.848Z"
   },
   {
    "duration": 0,
    "start_time": "2022-03-20T10:18:37.849Z"
   },
   {
    "duration": 0,
    "start_time": "2022-03-20T10:18:37.850Z"
   },
   {
    "duration": 0,
    "start_time": "2022-03-20T10:18:37.851Z"
   },
   {
    "duration": 61,
    "start_time": "2022-03-20T10:19:16.508Z"
   },
   {
    "duration": 16,
    "start_time": "2022-03-20T10:19:18.873Z"
   },
   {
    "duration": 15781,
    "start_time": "2022-03-20T10:19:24.710Z"
   },
   {
    "duration": 3,
    "start_time": "2022-03-20T10:19:43.480Z"
   },
   {
    "duration": 5,
    "start_time": "2022-03-20T10:19:45.500Z"
   },
   {
    "duration": 775,
    "start_time": "2022-03-20T10:19:56.303Z"
   },
   {
    "duration": 4,
    "start_time": "2022-03-20T10:20:00.128Z"
   },
   {
    "duration": 7,
    "start_time": "2022-03-20T10:20:02.057Z"
   },
   {
    "duration": 821,
    "start_time": "2022-03-20T10:20:05.007Z"
   },
   {
    "duration": 5,
    "start_time": "2022-03-20T10:20:08.247Z"
   },
   {
    "duration": 6,
    "start_time": "2022-03-20T10:20:09.619Z"
   },
   {
    "duration": 5,
    "start_time": "2022-03-20T10:21:37.910Z"
   },
   {
    "duration": 5,
    "start_time": "2022-03-20T10:21:41.741Z"
   },
   {
    "duration": 812,
    "start_time": "2022-03-20T10:21:50.183Z"
   },
   {
    "duration": 4,
    "start_time": "2022-03-20T10:21:53.653Z"
   },
   {
    "duration": 7,
    "start_time": "2022-03-20T10:21:56.750Z"
   },
   {
    "duration": 1294,
    "start_time": "2022-03-20T10:22:14.951Z"
   },
   {
    "duration": 399,
    "start_time": "2022-03-20T10:22:16.247Z"
   },
   {
    "duration": 3,
    "start_time": "2022-03-20T10:22:16.648Z"
   },
   {
    "duration": 130,
    "start_time": "2022-03-20T10:22:16.653Z"
   },
   {
    "duration": 93,
    "start_time": "2022-03-20T10:22:16.785Z"
   },
   {
    "duration": 59,
    "start_time": "2022-03-20T10:22:16.880Z"
   },
   {
    "duration": 75,
    "start_time": "2022-03-20T10:22:16.941Z"
   },
   {
    "duration": 282,
    "start_time": "2022-03-20T10:22:17.018Z"
   },
   {
    "duration": 20,
    "start_time": "2022-03-20T10:22:17.302Z"
   },
   {
    "duration": 25,
    "start_time": "2022-03-20T10:22:17.324Z"
   },
   {
    "duration": 56,
    "start_time": "2022-03-20T10:22:17.350Z"
   },
   {
    "duration": 17,
    "start_time": "2022-03-20T10:22:17.408Z"
   },
   {
    "duration": 18,
    "start_time": "2022-03-20T10:22:17.427Z"
   },
   {
    "duration": 22,
    "start_time": "2022-03-20T10:22:17.447Z"
   },
   {
    "duration": 35,
    "start_time": "2022-03-20T10:22:17.471Z"
   },
   {
    "duration": 9473,
    "start_time": "2022-03-20T10:22:17.508Z"
   },
   {
    "duration": 4,
    "start_time": "2022-03-20T10:22:27.063Z"
   },
   {
    "duration": 96,
    "start_time": "2022-03-20T10:22:27.070Z"
   },
   {
    "duration": 639,
    "start_time": "2022-03-20T10:22:27.168Z"
   },
   {
    "duration": 0,
    "start_time": "2022-03-20T10:22:27.809Z"
   },
   {
    "duration": 0,
    "start_time": "2022-03-20T10:22:27.810Z"
   },
   {
    "duration": 0,
    "start_time": "2022-03-20T10:22:27.811Z"
   },
   {
    "duration": 0,
    "start_time": "2022-03-20T10:22:27.812Z"
   },
   {
    "duration": 0,
    "start_time": "2022-03-20T10:22:27.813Z"
   },
   {
    "duration": 0,
    "start_time": "2022-03-20T10:22:27.814Z"
   },
   {
    "duration": 0,
    "start_time": "2022-03-20T10:22:27.815Z"
   },
   {
    "duration": 0,
    "start_time": "2022-03-20T10:22:27.816Z"
   },
   {
    "duration": 0,
    "start_time": "2022-03-20T10:22:27.817Z"
   },
   {
    "duration": 0,
    "start_time": "2022-03-20T10:22:27.818Z"
   },
   {
    "duration": 0,
    "start_time": "2022-03-20T10:22:27.819Z"
   },
   {
    "duration": 0,
    "start_time": "2022-03-20T10:22:27.820Z"
   },
   {
    "duration": 0,
    "start_time": "2022-03-20T10:22:27.821Z"
   },
   {
    "duration": 0,
    "start_time": "2022-03-20T10:22:27.821Z"
   },
   {
    "duration": 0,
    "start_time": "2022-03-20T10:22:27.822Z"
   },
   {
    "duration": 0,
    "start_time": "2022-03-20T10:22:27.823Z"
   },
   {
    "duration": 0,
    "start_time": "2022-03-20T10:22:27.824Z"
   },
   {
    "duration": 0,
    "start_time": "2022-03-20T10:22:27.825Z"
   },
   {
    "duration": 0,
    "start_time": "2022-03-20T10:22:27.826Z"
   },
   {
    "duration": 0,
    "start_time": "2022-03-20T10:22:27.827Z"
   },
   {
    "duration": 0,
    "start_time": "2022-03-20T10:22:27.827Z"
   },
   {
    "duration": 0,
    "start_time": "2022-03-20T10:22:27.828Z"
   },
   {
    "duration": 0,
    "start_time": "2022-03-20T10:22:27.829Z"
   },
   {
    "duration": 489,
    "start_time": "2022-03-20T10:23:20.470Z"
   },
   {
    "duration": 2584,
    "start_time": "2022-03-20T10:23:39.873Z"
   },
   {
    "duration": 3,
    "start_time": "2022-03-20T10:23:46.208Z"
   },
   {
    "duration": 6,
    "start_time": "2022-03-20T10:23:48.319Z"
   },
   {
    "duration": 4,
    "start_time": "2022-03-20T10:23:52.427Z"
   },
   {
    "duration": 6,
    "start_time": "2022-03-20T10:23:54.281Z"
   },
   {
    "duration": 467,
    "start_time": "2022-03-20T10:24:14.142Z"
   },
   {
    "duration": 4,
    "start_time": "2022-03-20T10:24:16.601Z"
   },
   {
    "duration": 5,
    "start_time": "2022-03-20T10:24:18.652Z"
   },
   {
    "duration": 9807,
    "start_time": "2022-03-20T10:25:33.963Z"
   },
   {
    "duration": 5,
    "start_time": "2022-03-20T10:25:48.398Z"
   },
   {
    "duration": 5,
    "start_time": "2022-03-20T10:25:50.050Z"
   },
   {
    "duration": 4,
    "start_time": "2022-03-20T10:25:51.820Z"
   },
   {
    "duration": 2,
    "start_time": "2022-03-20T10:25:53.919Z"
   },
   {
    "duration": 4,
    "start_time": "2022-03-20T10:25:55.378Z"
   },
   {
    "duration": 1263,
    "start_time": "2022-03-20T10:26:21.021Z"
   },
   {
    "duration": 403,
    "start_time": "2022-03-20T10:26:22.286Z"
   },
   {
    "duration": 3,
    "start_time": "2022-03-20T10:26:22.691Z"
   },
   {
    "duration": 97,
    "start_time": "2022-03-20T10:26:22.696Z"
   },
   {
    "duration": 80,
    "start_time": "2022-03-20T10:26:22.795Z"
   },
   {
    "duration": 54,
    "start_time": "2022-03-20T10:26:22.876Z"
   },
   {
    "duration": 59,
    "start_time": "2022-03-20T10:26:22.932Z"
   },
   {
    "duration": 302,
    "start_time": "2022-03-20T10:26:22.992Z"
   },
   {
    "duration": 18,
    "start_time": "2022-03-20T10:26:23.296Z"
   },
   {
    "duration": 8,
    "start_time": "2022-03-20T10:26:23.317Z"
   },
   {
    "duration": 67,
    "start_time": "2022-03-20T10:26:23.326Z"
   },
   {
    "duration": 16,
    "start_time": "2022-03-20T10:26:23.394Z"
   },
   {
    "duration": 8,
    "start_time": "2022-03-20T10:26:23.412Z"
   },
   {
    "duration": 7,
    "start_time": "2022-03-20T10:26:23.421Z"
   },
   {
    "duration": 6,
    "start_time": "2022-03-20T10:26:23.429Z"
   },
   {
    "duration": 7851,
    "start_time": "2022-03-20T10:26:23.437Z"
   },
   {
    "duration": 76,
    "start_time": "2022-03-20T10:26:31.291Z"
   },
   {
    "duration": 96,
    "start_time": "2022-03-20T10:26:31.370Z"
   },
   {
    "duration": 2375,
    "start_time": "2022-03-20T10:26:31.468Z"
   },
   {
    "duration": 4,
    "start_time": "2022-03-20T10:26:33.844Z"
   },
   {
    "duration": 17,
    "start_time": "2022-03-20T10:26:33.850Z"
   },
   {
    "duration": 502,
    "start_time": "2022-03-20T10:26:33.868Z"
   },
   {
    "duration": 4,
    "start_time": "2022-03-20T10:26:34.372Z"
   },
   {
    "duration": 6,
    "start_time": "2022-03-20T10:26:34.378Z"
   },
   {
    "duration": 9968,
    "start_time": "2022-03-20T10:26:34.386Z"
   },
   {
    "duration": 6,
    "start_time": "2022-03-20T10:26:44.356Z"
   },
   {
    "duration": 5,
    "start_time": "2022-03-20T10:26:44.364Z"
   },
   {
    "duration": 5,
    "start_time": "2022-03-20T10:26:44.373Z"
   },
   {
    "duration": 3,
    "start_time": "2022-03-20T10:26:44.379Z"
   },
   {
    "duration": 6,
    "start_time": "2022-03-20T10:26:44.383Z"
   },
   {
    "duration": 4,
    "start_time": "2022-03-20T10:26:44.391Z"
   },
   {
    "duration": 2544,
    "start_time": "2022-03-20T10:26:44.396Z"
   },
   {
    "duration": 0,
    "start_time": "2022-03-20T10:26:46.943Z"
   },
   {
    "duration": 0,
    "start_time": "2022-03-20T10:26:46.944Z"
   },
   {
    "duration": 0,
    "start_time": "2022-03-20T10:26:46.945Z"
   },
   {
    "duration": 0,
    "start_time": "2022-03-20T10:26:46.946Z"
   },
   {
    "duration": 0,
    "start_time": "2022-03-20T10:26:46.947Z"
   },
   {
    "duration": 0,
    "start_time": "2022-03-20T10:26:46.948Z"
   },
   {
    "duration": 0,
    "start_time": "2022-03-20T10:26:46.949Z"
   },
   {
    "duration": 0,
    "start_time": "2022-03-20T10:26:46.950Z"
   },
   {
    "duration": 0,
    "start_time": "2022-03-20T10:26:46.951Z"
   },
   {
    "duration": 0,
    "start_time": "2022-03-20T10:26:46.953Z"
   },
   {
    "duration": 1239,
    "start_time": "2022-03-20T10:27:39.200Z"
   },
   {
    "duration": 425,
    "start_time": "2022-03-20T10:27:40.441Z"
   },
   {
    "duration": 4,
    "start_time": "2022-03-20T10:27:40.867Z"
   },
   {
    "duration": 116,
    "start_time": "2022-03-20T10:27:40.873Z"
   },
   {
    "duration": 86,
    "start_time": "2022-03-20T10:27:40.990Z"
   },
   {
    "duration": 59,
    "start_time": "2022-03-20T10:27:41.077Z"
   },
   {
    "duration": 63,
    "start_time": "2022-03-20T10:27:41.138Z"
   },
   {
    "duration": 251,
    "start_time": "2022-03-20T10:27:41.202Z"
   },
   {
    "duration": 26,
    "start_time": "2022-03-20T10:27:41.455Z"
   },
   {
    "duration": 8,
    "start_time": "2022-03-20T10:27:41.483Z"
   },
   {
    "duration": 23,
    "start_time": "2022-03-20T10:27:41.493Z"
   },
   {
    "duration": 19,
    "start_time": "2022-03-20T10:27:41.518Z"
   },
   {
    "duration": 45,
    "start_time": "2022-03-20T10:27:41.538Z"
   },
   {
    "duration": 56,
    "start_time": "2022-03-20T10:27:41.585Z"
   },
   {
    "duration": 16,
    "start_time": "2022-03-20T10:27:41.642Z"
   },
   {
    "duration": 8225,
    "start_time": "2022-03-20T10:27:41.660Z"
   },
   {
    "duration": 6,
    "start_time": "2022-03-20T10:27:49.964Z"
   },
   {
    "duration": 99,
    "start_time": "2022-03-20T10:27:49.972Z"
   },
   {
    "duration": 2351,
    "start_time": "2022-03-20T10:27:50.073Z"
   },
   {
    "duration": 3,
    "start_time": "2022-03-20T10:27:52.426Z"
   },
   {
    "duration": 9,
    "start_time": "2022-03-20T10:27:52.431Z"
   },
   {
    "duration": 503,
    "start_time": "2022-03-20T10:27:52.441Z"
   },
   {
    "duration": 4,
    "start_time": "2022-03-20T10:27:52.946Z"
   },
   {
    "duration": 4,
    "start_time": "2022-03-20T10:27:52.962Z"
   },
   {
    "duration": 9995,
    "start_time": "2022-03-20T10:27:52.968Z"
   },
   {
    "duration": 4,
    "start_time": "2022-03-20T10:28:02.964Z"
   },
   {
    "duration": 6,
    "start_time": "2022-03-20T10:28:02.970Z"
   },
   {
    "duration": 6,
    "start_time": "2022-03-20T10:28:02.980Z"
   },
   {
    "duration": 4,
    "start_time": "2022-03-20T10:28:02.987Z"
   },
   {
    "duration": 5,
    "start_time": "2022-03-20T10:28:02.993Z"
   },
   {
    "duration": 8,
    "start_time": "2022-03-20T10:28:02.999Z"
   },
   {
    "duration": 2813,
    "start_time": "2022-03-20T10:28:03.008Z"
   },
   {
    "duration": 0,
    "start_time": "2022-03-20T10:28:05.823Z"
   },
   {
    "duration": 0,
    "start_time": "2022-03-20T10:28:05.824Z"
   },
   {
    "duration": 0,
    "start_time": "2022-03-20T10:28:05.825Z"
   },
   {
    "duration": 0,
    "start_time": "2022-03-20T10:28:05.826Z"
   },
   {
    "duration": 0,
    "start_time": "2022-03-20T10:28:05.827Z"
   },
   {
    "duration": 0,
    "start_time": "2022-03-20T10:28:05.828Z"
   },
   {
    "duration": 0,
    "start_time": "2022-03-20T10:28:05.829Z"
   },
   {
    "duration": 0,
    "start_time": "2022-03-20T10:28:05.830Z"
   },
   {
    "duration": 0,
    "start_time": "2022-03-20T10:28:05.831Z"
   },
   {
    "duration": 0,
    "start_time": "2022-03-20T10:28:05.832Z"
   },
   {
    "duration": 1269,
    "start_time": "2022-03-20T10:29:43.311Z"
   },
   {
    "duration": 464,
    "start_time": "2022-03-20T10:29:44.582Z"
   },
   {
    "duration": 4,
    "start_time": "2022-03-20T10:29:45.048Z"
   },
   {
    "duration": 116,
    "start_time": "2022-03-20T10:29:45.054Z"
   },
   {
    "duration": 118,
    "start_time": "2022-03-20T10:29:45.172Z"
   },
   {
    "duration": 112,
    "start_time": "2022-03-20T10:29:45.292Z"
   },
   {
    "duration": 71,
    "start_time": "2022-03-20T10:29:45.406Z"
   },
   {
    "duration": 392,
    "start_time": "2022-03-20T10:29:45.479Z"
   },
   {
    "duration": 26,
    "start_time": "2022-03-20T10:29:45.874Z"
   },
   {
    "duration": 8,
    "start_time": "2022-03-20T10:29:45.903Z"
   },
   {
    "duration": 5,
    "start_time": "2022-03-20T10:29:45.913Z"
   },
   {
    "duration": 7,
    "start_time": "2022-03-20T10:29:45.920Z"
   },
   {
    "duration": 37,
    "start_time": "2022-03-20T10:29:45.929Z"
   },
   {
    "duration": 47,
    "start_time": "2022-03-20T10:29:45.968Z"
   },
   {
    "duration": 18,
    "start_time": "2022-03-20T10:29:46.017Z"
   },
   {
    "duration": 9671,
    "start_time": "2022-03-20T10:29:46.037Z"
   },
   {
    "duration": 5,
    "start_time": "2022-03-20T10:29:55.764Z"
   },
   {
    "duration": 97,
    "start_time": "2022-03-20T10:29:55.772Z"
   },
   {
    "duration": 2566,
    "start_time": "2022-03-20T10:29:55.871Z"
   },
   {
    "duration": 5,
    "start_time": "2022-03-20T10:29:58.440Z"
   },
   {
    "duration": 33,
    "start_time": "2022-03-20T10:29:58.447Z"
   },
   {
    "duration": 730,
    "start_time": "2022-03-20T10:29:58.482Z"
   },
   {
    "duration": 5,
    "start_time": "2022-03-20T10:29:59.215Z"
   },
   {
    "duration": 15,
    "start_time": "2022-03-20T10:29:59.222Z"
   },
   {
    "duration": 11685,
    "start_time": "2022-03-20T10:29:59.239Z"
   },
   {
    "duration": 4,
    "start_time": "2022-03-20T10:30:10.926Z"
   },
   {
    "duration": 8,
    "start_time": "2022-03-20T10:30:10.932Z"
   },
   {
    "duration": 20,
    "start_time": "2022-03-20T10:30:10.943Z"
   },
   {
    "duration": 3,
    "start_time": "2022-03-20T10:30:10.965Z"
   },
   {
    "duration": 4,
    "start_time": "2022-03-20T10:30:10.970Z"
   },
   {
    "duration": 7,
    "start_time": "2022-03-20T10:30:10.975Z"
   },
   {
    "duration": 2445,
    "start_time": "2022-03-20T10:30:10.984Z"
   },
   {
    "duration": 0,
    "start_time": "2022-03-20T10:30:13.431Z"
   },
   {
    "duration": 0,
    "start_time": "2022-03-20T10:30:13.432Z"
   },
   {
    "duration": 0,
    "start_time": "2022-03-20T10:30:13.434Z"
   },
   {
    "duration": 0,
    "start_time": "2022-03-20T10:30:13.435Z"
   },
   {
    "duration": 0,
    "start_time": "2022-03-20T10:30:13.436Z"
   },
   {
    "duration": 0,
    "start_time": "2022-03-20T10:30:13.437Z"
   },
   {
    "duration": 0,
    "start_time": "2022-03-20T10:30:13.439Z"
   },
   {
    "duration": 0,
    "start_time": "2022-03-20T10:30:13.440Z"
   },
   {
    "duration": 0,
    "start_time": "2022-03-20T10:30:13.441Z"
   },
   {
    "duration": 0,
    "start_time": "2022-03-20T10:30:13.443Z"
   },
   {
    "duration": 8877,
    "start_time": "2022-03-20T10:30:21.186Z"
   },
   {
    "duration": 4,
    "start_time": "2022-03-20T10:30:32.798Z"
   },
   {
    "duration": 5,
    "start_time": "2022-03-20T10:30:35.121Z"
   },
   {
    "duration": 2284,
    "start_time": "2022-03-20T10:30:42.086Z"
   },
   {
    "duration": 4,
    "start_time": "2022-03-20T10:30:47.524Z"
   },
   {
    "duration": 6,
    "start_time": "2022-03-20T10:30:49.125Z"
   },
   {
    "duration": 4,
    "start_time": "2022-03-20T10:30:52.486Z"
   },
   {
    "duration": 5,
    "start_time": "2022-03-20T10:30:54.773Z"
   },
   {
    "duration": 454,
    "start_time": "2022-03-20T10:31:08.686Z"
   },
   {
    "duration": 5,
    "start_time": "2022-03-20T10:31:12.340Z"
   },
   {
    "duration": 5,
    "start_time": "2022-03-20T10:31:13.805Z"
   },
   {
    "duration": 1274,
    "start_time": "2022-03-20T10:37:18.552Z"
   },
   {
    "duration": 457,
    "start_time": "2022-03-20T10:37:19.828Z"
   },
   {
    "duration": 5,
    "start_time": "2022-03-20T10:37:20.286Z"
   },
   {
    "duration": 108,
    "start_time": "2022-03-20T10:37:20.293Z"
   },
   {
    "duration": 91,
    "start_time": "2022-03-20T10:37:20.403Z"
   },
   {
    "duration": 67,
    "start_time": "2022-03-20T10:37:20.496Z"
   },
   {
    "duration": 53,
    "start_time": "2022-03-20T10:37:20.566Z"
   },
   {
    "duration": 269,
    "start_time": "2022-03-20T10:37:20.621Z"
   },
   {
    "duration": 20,
    "start_time": "2022-03-20T10:37:20.892Z"
   },
   {
    "duration": 12,
    "start_time": "2022-03-20T10:37:20.914Z"
   },
   {
    "duration": 66,
    "start_time": "2022-03-20T10:37:20.928Z"
   },
   {
    "duration": 19,
    "start_time": "2022-03-20T10:37:20.996Z"
   },
   {
    "duration": 9248,
    "start_time": "2022-03-20T10:37:21.017Z"
   },
   {
    "duration": 5,
    "start_time": "2022-03-20T10:37:30.267Z"
   },
   {
    "duration": 102,
    "start_time": "2022-03-20T10:37:30.274Z"
   },
   {
    "duration": 2298,
    "start_time": "2022-03-20T10:37:30.378Z"
   },
   {
    "duration": 4,
    "start_time": "2022-03-20T10:37:32.677Z"
   },
   {
    "duration": 9,
    "start_time": "2022-03-20T10:37:32.683Z"
   },
   {
    "duration": 474,
    "start_time": "2022-03-20T10:37:32.694Z"
   },
   {
    "duration": 4,
    "start_time": "2022-03-20T10:37:33.170Z"
   },
   {
    "duration": 9,
    "start_time": "2022-03-20T10:37:33.176Z"
   },
   {
    "duration": 10162,
    "start_time": "2022-03-20T10:37:33.186Z"
   },
   {
    "duration": 12,
    "start_time": "2022-03-20T10:37:43.350Z"
   },
   {
    "duration": 5,
    "start_time": "2022-03-20T10:37:43.364Z"
   },
   {
    "duration": 6,
    "start_time": "2022-03-20T10:37:43.370Z"
   },
   {
    "duration": 3,
    "start_time": "2022-03-20T10:37:43.377Z"
   },
   {
    "duration": 5,
    "start_time": "2022-03-20T10:37:43.382Z"
   },
   {
    "duration": 4,
    "start_time": "2022-03-20T10:37:43.392Z"
   },
   {
    "duration": 2599,
    "start_time": "2022-03-20T10:37:43.398Z"
   },
   {
    "duration": 0,
    "start_time": "2022-03-20T10:37:45.999Z"
   },
   {
    "duration": 0,
    "start_time": "2022-03-20T10:37:46.001Z"
   },
   {
    "duration": 0,
    "start_time": "2022-03-20T10:37:46.003Z"
   },
   {
    "duration": 0,
    "start_time": "2022-03-20T10:37:46.004Z"
   },
   {
    "duration": 0,
    "start_time": "2022-03-20T10:37:46.005Z"
   },
   {
    "duration": 0,
    "start_time": "2022-03-20T10:37:46.007Z"
   },
   {
    "duration": 0,
    "start_time": "2022-03-20T10:37:46.009Z"
   },
   {
    "duration": 0,
    "start_time": "2022-03-20T10:37:46.010Z"
   },
   {
    "duration": 0,
    "start_time": "2022-03-20T10:37:46.012Z"
   },
   {
    "duration": 0,
    "start_time": "2022-03-20T10:37:46.013Z"
   },
   {
    "duration": 0,
    "start_time": "2022-03-20T10:37:46.015Z"
   },
   {
    "duration": 0,
    "start_time": "2022-03-20T10:37:46.016Z"
   },
   {
    "duration": 0,
    "start_time": "2022-03-20T10:37:46.018Z"
   },
   {
    "duration": 5,
    "start_time": "2022-03-20T10:43:30.023Z"
   },
   {
    "duration": 369,
    "start_time": "2022-03-20T10:43:32.596Z"
   },
   {
    "duration": 57,
    "start_time": "2022-03-20T10:43:37.631Z"
   },
   {
    "duration": 48,
    "start_time": "2022-03-20T10:43:39.624Z"
   },
   {
    "duration": 226,
    "start_time": "2022-03-20T10:43:42.663Z"
   },
   {
    "duration": 20,
    "start_time": "2022-03-20T10:43:44.827Z"
   },
   {
    "duration": 38,
    "start_time": "2022-03-20T10:43:57.135Z"
   },
   {
    "duration": 2353,
    "start_time": "2022-03-20T10:44:06.056Z"
   },
   {
    "duration": 4,
    "start_time": "2022-03-20T10:44:14.708Z"
   },
   {
    "duration": 6,
    "start_time": "2022-03-20T10:44:16.780Z"
   },
   {
    "duration": 5,
    "start_time": "2022-03-20T10:44:18.384Z"
   },
   {
    "duration": 5,
    "start_time": "2022-03-20T10:44:19.910Z"
   },
   {
    "duration": 1284,
    "start_time": "2022-03-20T10:44:38.452Z"
   },
   {
    "duration": 419,
    "start_time": "2022-03-20T10:44:39.738Z"
   },
   {
    "duration": 4,
    "start_time": "2022-03-20T10:44:40.158Z"
   },
   {
    "duration": 102,
    "start_time": "2022-03-20T10:44:40.165Z"
   },
   {
    "duration": 77,
    "start_time": "2022-03-20T10:44:40.268Z"
   },
   {
    "duration": 55,
    "start_time": "2022-03-20T10:44:40.363Z"
   },
   {
    "duration": 62,
    "start_time": "2022-03-20T10:44:40.420Z"
   },
   {
    "duration": 255,
    "start_time": "2022-03-20T10:44:40.484Z"
   },
   {
    "duration": 28,
    "start_time": "2022-03-20T10:44:40.740Z"
   },
   {
    "duration": 11,
    "start_time": "2022-03-20T10:44:40.771Z"
   },
   {
    "duration": 41,
    "start_time": "2022-03-20T10:44:40.783Z"
   },
   {
    "duration": 16,
    "start_time": "2022-03-20T10:44:40.826Z"
   },
   {
    "duration": 7722,
    "start_time": "2022-03-20T10:44:40.844Z"
   },
   {
    "duration": 96,
    "start_time": "2022-03-20T10:44:48.568Z"
   },
   {
    "duration": 99,
    "start_time": "2022-03-20T10:44:48.667Z"
   },
   {
    "duration": 2231,
    "start_time": "2022-03-20T10:44:48.768Z"
   },
   {
    "duration": 4,
    "start_time": "2022-03-20T10:44:51.001Z"
   },
   {
    "duration": 35,
    "start_time": "2022-03-20T10:44:51.008Z"
   },
   {
    "duration": 33,
    "start_time": "2022-03-20T10:44:51.045Z"
   },
   {
    "duration": 22,
    "start_time": "2022-03-20T10:44:51.080Z"
   },
   {
    "duration": 10214,
    "start_time": "2022-03-20T10:44:51.103Z"
   },
   {
    "duration": 5,
    "start_time": "2022-03-20T10:45:01.318Z"
   },
   {
    "duration": 16,
    "start_time": "2022-03-20T10:45:01.325Z"
   },
   {
    "duration": 13,
    "start_time": "2022-03-20T10:45:01.343Z"
   },
   {
    "duration": 18,
    "start_time": "2022-03-20T10:45:01.358Z"
   },
   {
    "duration": 8,
    "start_time": "2022-03-20T10:45:01.378Z"
   },
   {
    "duration": 16,
    "start_time": "2022-03-20T10:45:01.387Z"
   },
   {
    "duration": 2715,
    "start_time": "2022-03-20T10:45:01.407Z"
   },
   {
    "duration": 0,
    "start_time": "2022-03-20T10:45:04.124Z"
   },
   {
    "duration": 0,
    "start_time": "2022-03-20T10:45:04.125Z"
   },
   {
    "duration": 0,
    "start_time": "2022-03-20T10:45:04.126Z"
   },
   {
    "duration": 0,
    "start_time": "2022-03-20T10:45:04.127Z"
   },
   {
    "duration": 0,
    "start_time": "2022-03-20T10:45:04.128Z"
   },
   {
    "duration": 0,
    "start_time": "2022-03-20T10:45:04.129Z"
   },
   {
    "duration": 0,
    "start_time": "2022-03-20T10:45:04.130Z"
   },
   {
    "duration": 0,
    "start_time": "2022-03-20T10:45:04.132Z"
   },
   {
    "duration": 0,
    "start_time": "2022-03-20T10:45:04.133Z"
   },
   {
    "duration": 0,
    "start_time": "2022-03-20T10:45:04.134Z"
   },
   {
    "duration": 0,
    "start_time": "2022-03-20T10:45:04.135Z"
   },
   {
    "duration": 0,
    "start_time": "2022-03-20T10:45:04.136Z"
   },
   {
    "duration": 0,
    "start_time": "2022-03-20T10:45:04.137Z"
   },
   {
    "duration": 46355,
    "start_time": "2022-03-20T10:50:49.694Z"
   },
   {
    "duration": 46407,
    "start_time": "2022-03-20T10:52:01.921Z"
   },
   {
    "duration": 726,
    "start_time": "2022-03-20T10:53:17.320Z"
   },
   {
    "duration": 5,
    "start_time": "2022-03-20T10:53:20.243Z"
   },
   {
    "duration": 7,
    "start_time": "2022-03-20T10:53:21.831Z"
   },
   {
    "duration": 6,
    "start_time": "2022-03-20T10:53:24.080Z"
   },
   {
    "duration": 5,
    "start_time": "2022-03-20T10:53:25.727Z"
   },
   {
    "duration": 9,
    "start_time": "2022-03-20T11:05:03.600Z"
   },
   {
    "duration": 1249,
    "start_time": "2022-03-20T11:05:11.721Z"
   },
   {
    "duration": 399,
    "start_time": "2022-03-20T11:05:12.972Z"
   },
   {
    "duration": 3,
    "start_time": "2022-03-20T11:05:13.373Z"
   },
   {
    "duration": 121,
    "start_time": "2022-03-20T11:05:13.379Z"
   },
   {
    "duration": 90,
    "start_time": "2022-03-20T11:05:13.502Z"
   },
   {
    "duration": 69,
    "start_time": "2022-03-20T11:05:13.594Z"
   },
   {
    "duration": 56,
    "start_time": "2022-03-20T11:05:13.665Z"
   },
   {
    "duration": 268,
    "start_time": "2022-03-20T11:05:13.723Z"
   },
   {
    "duration": 20,
    "start_time": "2022-03-20T11:05:13.993Z"
   },
   {
    "duration": 45,
    "start_time": "2022-03-20T11:05:14.016Z"
   },
   {
    "duration": 44,
    "start_time": "2022-03-20T11:05:14.062Z"
   },
   {
    "duration": 16,
    "start_time": "2022-03-20T11:05:14.108Z"
   },
   {
    "duration": 7537,
    "start_time": "2022-03-20T11:05:14.126Z"
   },
   {
    "duration": 5,
    "start_time": "2022-03-20T11:05:21.666Z"
   },
   {
    "duration": 101,
    "start_time": "2022-03-20T11:05:21.673Z"
   },
   {
    "duration": 45126,
    "start_time": "2022-03-20T11:05:21.775Z"
   },
   {
    "duration": 783,
    "start_time": "2022-03-20T11:06:06.902Z"
   },
   {
    "duration": 3,
    "start_time": "2022-03-20T11:06:07.687Z"
   },
   {
    "duration": 7,
    "start_time": "2022-03-20T11:06:07.692Z"
   },
   {
    "duration": 3,
    "start_time": "2022-03-20T11:06:07.701Z"
   },
   {
    "duration": 7,
    "start_time": "2022-03-20T11:06:07.705Z"
   },
   {
    "duration": 9509,
    "start_time": "2022-03-20T11:06:07.714Z"
   },
   {
    "duration": 4,
    "start_time": "2022-03-20T11:06:17.225Z"
   },
   {
    "duration": 6,
    "start_time": "2022-03-20T11:06:17.230Z"
   },
   {
    "duration": 25,
    "start_time": "2022-03-20T11:06:17.238Z"
   },
   {
    "duration": 3,
    "start_time": "2022-03-20T11:06:17.265Z"
   },
   {
    "duration": 7,
    "start_time": "2022-03-20T11:06:17.270Z"
   },
   {
    "duration": 9,
    "start_time": "2022-03-20T11:06:17.281Z"
   },
   {
    "duration": 3109,
    "start_time": "2022-03-20T11:06:17.293Z"
   },
   {
    "duration": 0,
    "start_time": "2022-03-20T11:06:20.404Z"
   },
   {
    "duration": 0,
    "start_time": "2022-03-20T11:06:20.406Z"
   },
   {
    "duration": 0,
    "start_time": "2022-03-20T11:06:20.407Z"
   },
   {
    "duration": 0,
    "start_time": "2022-03-20T11:06:20.408Z"
   },
   {
    "duration": 0,
    "start_time": "2022-03-20T11:06:20.410Z"
   },
   {
    "duration": 0,
    "start_time": "2022-03-20T11:06:20.411Z"
   },
   {
    "duration": 0,
    "start_time": "2022-03-20T11:06:20.412Z"
   },
   {
    "duration": 0,
    "start_time": "2022-03-20T11:06:20.414Z"
   },
   {
    "duration": 0,
    "start_time": "2022-03-20T11:06:20.415Z"
   },
   {
    "duration": 0,
    "start_time": "2022-03-20T11:06:20.416Z"
   },
   {
    "duration": 0,
    "start_time": "2022-03-20T11:06:20.417Z"
   },
   {
    "duration": 0,
    "start_time": "2022-03-20T11:06:20.418Z"
   },
   {
    "duration": 0,
    "start_time": "2022-03-20T11:06:20.419Z"
   },
   {
    "duration": 1370,
    "start_time": "2022-03-20T11:11:11.728Z"
   },
   {
    "duration": 408,
    "start_time": "2022-03-20T11:11:13.101Z"
   },
   {
    "duration": 5,
    "start_time": "2022-03-20T11:11:13.510Z"
   },
   {
    "duration": 119,
    "start_time": "2022-03-20T11:11:13.518Z"
   },
   {
    "duration": 89,
    "start_time": "2022-03-20T11:11:13.638Z"
   },
   {
    "duration": 73,
    "start_time": "2022-03-20T11:11:13.729Z"
   },
   {
    "duration": 67,
    "start_time": "2022-03-20T11:11:13.804Z"
   },
   {
    "duration": 259,
    "start_time": "2022-03-20T11:11:13.873Z"
   },
   {
    "duration": 34,
    "start_time": "2022-03-20T11:11:14.134Z"
   },
   {
    "duration": 13,
    "start_time": "2022-03-20T11:11:14.171Z"
   },
   {
    "duration": 42,
    "start_time": "2022-03-20T11:11:14.186Z"
   },
   {
    "duration": 39,
    "start_time": "2022-03-20T11:11:14.230Z"
   },
   {
    "duration": 8119,
    "start_time": "2022-03-20T11:11:14.270Z"
   },
   {
    "duration": 99,
    "start_time": "2022-03-20T11:11:22.464Z"
   },
   {
    "duration": 15,
    "start_time": "2022-03-20T11:11:22.565Z"
   },
   {
    "duration": 172046,
    "start_time": "2022-03-20T11:11:22.582Z"
   },
   {
    "duration": 829,
    "start_time": "2022-03-20T11:14:14.630Z"
   },
   {
    "duration": 3,
    "start_time": "2022-03-20T11:14:15.463Z"
   },
   {
    "duration": 7,
    "start_time": "2022-03-20T11:14:15.468Z"
   },
   {
    "duration": 4,
    "start_time": "2022-03-20T11:14:15.477Z"
   },
   {
    "duration": 6,
    "start_time": "2022-03-20T11:14:15.482Z"
   },
   {
    "duration": 9540,
    "start_time": "2022-03-20T11:14:15.489Z"
   },
   {
    "duration": 5,
    "start_time": "2022-03-20T11:14:25.031Z"
   },
   {
    "duration": 9,
    "start_time": "2022-03-20T11:14:25.037Z"
   },
   {
    "duration": 4,
    "start_time": "2022-03-20T11:14:25.063Z"
   },
   {
    "duration": 3,
    "start_time": "2022-03-20T11:14:25.069Z"
   },
   {
    "duration": 5,
    "start_time": "2022-03-20T11:14:25.074Z"
   },
   {
    "duration": 4,
    "start_time": "2022-03-20T11:14:25.082Z"
   },
   {
    "duration": 2558,
    "start_time": "2022-03-20T11:14:25.087Z"
   },
   {
    "duration": 0,
    "start_time": "2022-03-20T11:14:27.646Z"
   },
   {
    "duration": 0,
    "start_time": "2022-03-20T11:14:27.647Z"
   },
   {
    "duration": 0,
    "start_time": "2022-03-20T11:14:27.648Z"
   },
   {
    "duration": 0,
    "start_time": "2022-03-20T11:14:27.649Z"
   },
   {
    "duration": 0,
    "start_time": "2022-03-20T11:14:27.650Z"
   },
   {
    "duration": 0,
    "start_time": "2022-03-20T11:14:27.652Z"
   },
   {
    "duration": 0,
    "start_time": "2022-03-20T11:14:27.652Z"
   },
   {
    "duration": 0,
    "start_time": "2022-03-20T11:14:27.653Z"
   },
   {
    "duration": 0,
    "start_time": "2022-03-20T11:14:27.654Z"
   },
   {
    "duration": 0,
    "start_time": "2022-03-20T11:14:27.655Z"
   },
   {
    "duration": 0,
    "start_time": "2022-03-20T11:14:27.656Z"
   },
   {
    "duration": 0,
    "start_time": "2022-03-20T11:14:27.657Z"
   },
   {
    "duration": 0,
    "start_time": "2022-03-20T11:14:27.658Z"
   },
   {
    "duration": 2227,
    "start_time": "2022-03-20T11:15:01.664Z"
   },
   {
    "duration": 4,
    "start_time": "2022-03-20T11:15:08.382Z"
   },
   {
    "duration": 7,
    "start_time": "2022-03-20T11:15:10.444Z"
   },
   {
    "duration": 4,
    "start_time": "2022-03-20T11:15:12.341Z"
   },
   {
    "duration": 5,
    "start_time": "2022-03-20T11:15:14.216Z"
   },
   {
    "duration": 2313,
    "start_time": "2022-03-20T11:16:03.383Z"
   },
   {
    "duration": 4,
    "start_time": "2022-03-20T11:16:13.363Z"
   },
   {
    "duration": 6,
    "start_time": "2022-03-20T11:16:15.412Z"
   },
   {
    "duration": 4,
    "start_time": "2022-03-20T11:16:17.065Z"
   },
   {
    "duration": 7,
    "start_time": "2022-03-20T11:16:18.518Z"
   },
   {
    "duration": 8411,
    "start_time": "2022-03-20T11:17:36.807Z"
   },
   {
    "duration": 130548,
    "start_time": "2022-03-20T11:17:51.367Z"
   },
   {
    "duration": 1280,
    "start_time": "2022-03-20T11:45:45.387Z"
   },
   {
    "duration": 844,
    "start_time": "2022-03-20T11:45:46.669Z"
   },
   {
    "duration": 4,
    "start_time": "2022-03-20T11:45:47.516Z"
   },
   {
    "duration": 125,
    "start_time": "2022-03-20T11:45:47.523Z"
   },
   {
    "duration": 131,
    "start_time": "2022-03-20T11:45:47.650Z"
   },
   {
    "duration": 93,
    "start_time": "2022-03-20T11:45:47.783Z"
   },
   {
    "duration": 69,
    "start_time": "2022-03-20T11:45:47.878Z"
   },
   {
    "duration": 272,
    "start_time": "2022-03-20T11:45:47.949Z"
   },
   {
    "duration": 24,
    "start_time": "2022-03-20T11:45:48.223Z"
   },
   {
    "duration": 24,
    "start_time": "2022-03-20T11:45:48.250Z"
   },
   {
    "duration": 60,
    "start_time": "2022-03-20T11:45:48.276Z"
   },
   {
    "duration": 34,
    "start_time": "2022-03-20T11:45:48.338Z"
   },
   {
    "duration": 10889,
    "start_time": "2022-03-20T11:45:48.375Z"
   },
   {
    "duration": 6,
    "start_time": "2022-03-20T11:45:59.266Z"
   },
   {
    "duration": 96,
    "start_time": "2022-03-20T11:45:59.274Z"
   },
   {
    "duration": 186950,
    "start_time": "2022-03-20T11:45:59.376Z"
   },
   {
    "duration": 2889,
    "start_time": "2022-03-20T11:49:06.328Z"
   },
   {
    "duration": 5,
    "start_time": "2022-03-20T11:49:09.219Z"
   },
   {
    "duration": 8,
    "start_time": "2022-03-20T11:49:09.226Z"
   },
   {
    "duration": 16,
    "start_time": "2022-03-20T11:49:09.236Z"
   },
   {
    "duration": 6,
    "start_time": "2022-03-20T11:49:09.264Z"
   },
   {
    "duration": 35430,
    "start_time": "2022-03-20T11:49:09.272Z"
   },
   {
    "duration": 5,
    "start_time": "2022-03-20T11:49:44.704Z"
   },
   {
    "duration": 6,
    "start_time": "2022-03-20T11:49:44.712Z"
   },
   {
    "duration": 6,
    "start_time": "2022-03-20T11:49:44.720Z"
   },
   {
    "duration": 6,
    "start_time": "2022-03-20T11:49:44.727Z"
   },
   {
    "duration": 7,
    "start_time": "2022-03-20T11:49:44.734Z"
   },
   {
    "duration": 24,
    "start_time": "2022-03-20T11:49:44.744Z"
   },
   {
    "duration": 2594,
    "start_time": "2022-03-20T11:49:44.769Z"
   },
   {
    "duration": 0,
    "start_time": "2022-03-20T11:49:47.365Z"
   },
   {
    "duration": 0,
    "start_time": "2022-03-20T11:49:47.366Z"
   },
   {
    "duration": 0,
    "start_time": "2022-03-20T11:49:47.367Z"
   },
   {
    "duration": 0,
    "start_time": "2022-03-20T11:49:47.369Z"
   },
   {
    "duration": 0,
    "start_time": "2022-03-20T11:49:47.370Z"
   },
   {
    "duration": 0,
    "start_time": "2022-03-20T11:49:47.371Z"
   },
   {
    "duration": 0,
    "start_time": "2022-03-20T11:49:47.372Z"
   },
   {
    "duration": 0,
    "start_time": "2022-03-20T11:49:47.373Z"
   },
   {
    "duration": 0,
    "start_time": "2022-03-20T11:49:47.374Z"
   },
   {
    "duration": 0,
    "start_time": "2022-03-20T11:49:47.375Z"
   },
   {
    "duration": 0,
    "start_time": "2022-03-20T11:49:47.376Z"
   },
   {
    "duration": 0,
    "start_time": "2022-03-20T11:49:47.377Z"
   },
   {
    "duration": 0,
    "start_time": "2022-03-20T11:49:47.378Z"
   },
   {
    "duration": 6,
    "start_time": "2022-03-20T12:01:14.000Z"
   },
   {
    "duration": 27475,
    "start_time": "2022-03-20T12:01:37.697Z"
   },
   {
    "duration": 26529,
    "start_time": "2022-03-20T12:04:13.421Z"
   },
   {
    "duration": 5,
    "start_time": "2022-03-20T12:04:44.569Z"
   },
   {
    "duration": 4,
    "start_time": "2022-03-20T12:04:46.380Z"
   },
   {
    "duration": 5,
    "start_time": "2022-03-20T12:04:48.347Z"
   },
   {
    "duration": 22225,
    "start_time": "2022-03-20T12:05:35.176Z"
   },
   {
    "duration": 26821,
    "start_time": "2022-03-20T12:06:14.951Z"
   },
   {
    "duration": 5,
    "start_time": "2022-03-20T12:07:16.251Z"
   },
   {
    "duration": 5,
    "start_time": "2022-03-20T12:07:18.474Z"
   },
   {
    "duration": 5,
    "start_time": "2022-03-20T12:07:23.627Z"
   },
   {
    "duration": 6,
    "start_time": "2022-03-20T12:07:25.994Z"
   },
   {
    "duration": 1303,
    "start_time": "2022-03-20T12:08:31.597Z"
   },
   {
    "duration": 395,
    "start_time": "2022-03-20T12:08:32.902Z"
   },
   {
    "duration": 4,
    "start_time": "2022-03-20T12:08:33.299Z"
   },
   {
    "duration": 102,
    "start_time": "2022-03-20T12:08:33.305Z"
   },
   {
    "duration": 87,
    "start_time": "2022-03-20T12:08:33.409Z"
   },
   {
    "duration": 66,
    "start_time": "2022-03-20T12:08:33.497Z"
   },
   {
    "duration": 51,
    "start_time": "2022-03-20T12:08:33.564Z"
   },
   {
    "duration": 250,
    "start_time": "2022-03-20T12:08:33.617Z"
   },
   {
    "duration": 19,
    "start_time": "2022-03-20T12:08:33.869Z"
   },
   {
    "duration": 12,
    "start_time": "2022-03-20T12:08:33.891Z"
   },
   {
    "duration": 59,
    "start_time": "2022-03-20T12:08:33.904Z"
   },
   {
    "duration": 16,
    "start_time": "2022-03-20T12:08:33.965Z"
   },
   {
    "duration": 7883,
    "start_time": "2022-03-20T12:08:33.983Z"
   },
   {
    "duration": 95,
    "start_time": "2022-03-20T12:08:41.869Z"
   },
   {
    "duration": 100,
    "start_time": "2022-03-20T12:08:41.966Z"
   },
   {
    "duration": 2306,
    "start_time": "2022-03-20T12:08:42.069Z"
   },
   {
    "duration": 3,
    "start_time": "2022-03-20T12:08:44.377Z"
   },
   {
    "duration": 8,
    "start_time": "2022-03-20T12:08:44.382Z"
   },
   {
    "duration": 6,
    "start_time": "2022-03-20T12:08:44.392Z"
   },
   {
    "duration": 9,
    "start_time": "2022-03-20T12:08:44.399Z"
   },
   {
    "duration": 26938,
    "start_time": "2022-03-20T12:08:44.409Z"
   },
   {
    "duration": 4,
    "start_time": "2022-03-20T12:09:11.349Z"
   },
   {
    "duration": 4,
    "start_time": "2022-03-20T12:09:11.363Z"
   },
   {
    "duration": 5,
    "start_time": "2022-03-20T12:09:11.368Z"
   },
   {
    "duration": 3,
    "start_time": "2022-03-20T12:09:11.375Z"
   },
   {
    "duration": 5,
    "start_time": "2022-03-20T12:09:11.380Z"
   },
   {
    "duration": 7,
    "start_time": "2022-03-20T12:09:11.387Z"
   },
   {
    "duration": 2593,
    "start_time": "2022-03-20T12:09:11.397Z"
   },
   {
    "duration": 0,
    "start_time": "2022-03-20T12:09:13.991Z"
   },
   {
    "duration": 0,
    "start_time": "2022-03-20T12:09:13.992Z"
   },
   {
    "duration": 0,
    "start_time": "2022-03-20T12:09:13.994Z"
   },
   {
    "duration": 0,
    "start_time": "2022-03-20T12:09:13.995Z"
   },
   {
    "duration": 0,
    "start_time": "2022-03-20T12:09:13.996Z"
   },
   {
    "duration": 0,
    "start_time": "2022-03-20T12:09:13.996Z"
   },
   {
    "duration": 0,
    "start_time": "2022-03-20T12:09:13.997Z"
   },
   {
    "duration": 0,
    "start_time": "2022-03-20T12:09:13.999Z"
   },
   {
    "duration": 0,
    "start_time": "2022-03-20T12:09:14.000Z"
   },
   {
    "duration": 0,
    "start_time": "2022-03-20T12:09:14.001Z"
   },
   {
    "duration": 0,
    "start_time": "2022-03-20T12:09:14.003Z"
   },
   {
    "duration": 0,
    "start_time": "2022-03-20T12:09:14.004Z"
   },
   {
    "duration": 0,
    "start_time": "2022-03-20T12:09:14.005Z"
   },
   {
    "duration": 428,
    "start_time": "2022-03-20T12:11:12.057Z"
   },
   {
    "duration": 63,
    "start_time": "2022-03-20T12:11:16.624Z"
   },
   {
    "duration": 49,
    "start_time": "2022-03-20T12:11:18.327Z"
   },
   {
    "duration": 242,
    "start_time": "2022-03-20T12:11:23.595Z"
   },
   {
    "duration": 19,
    "start_time": "2022-03-20T12:11:25.349Z"
   },
   {
    "duration": 40,
    "start_time": "2022-03-20T12:11:29.870Z"
   },
   {
    "duration": 11,
    "start_time": "2022-03-20T12:11:39.082Z"
   },
   {
    "duration": 5329,
    "start_time": "2022-03-20T12:11:54.996Z"
   },
   {
    "duration": 5,
    "start_time": "2022-03-20T12:12:04.010Z"
   },
   {
    "duration": 5,
    "start_time": "2022-03-20T12:12:05.594Z"
   },
   {
    "duration": 1332,
    "start_time": "2022-03-20T12:16:51.569Z"
   },
   {
    "duration": 642,
    "start_time": "2022-03-20T12:16:52.903Z"
   },
   {
    "duration": 5,
    "start_time": "2022-03-20T12:16:53.547Z"
   },
   {
    "duration": 142,
    "start_time": "2022-03-20T12:16:53.562Z"
   },
   {
    "duration": 97,
    "start_time": "2022-03-20T12:16:53.706Z"
   },
   {
    "duration": 73,
    "start_time": "2022-03-20T12:16:53.805Z"
   },
   {
    "duration": 56,
    "start_time": "2022-03-20T12:16:53.880Z"
   },
   {
    "duration": 295,
    "start_time": "2022-03-20T12:16:53.938Z"
   },
   {
    "duration": 28,
    "start_time": "2022-03-20T12:16:54.235Z"
   },
   {
    "duration": 12,
    "start_time": "2022-03-20T12:16:54.267Z"
   },
   {
    "duration": 44,
    "start_time": "2022-03-20T12:16:54.280Z"
   },
   {
    "duration": 37,
    "start_time": "2022-03-20T12:16:54.326Z"
   },
   {
    "duration": 9439,
    "start_time": "2022-03-20T12:16:54.365Z"
   },
   {
    "duration": 5,
    "start_time": "2022-03-20T12:17:03.864Z"
   },
   {
    "duration": 112,
    "start_time": "2022-03-20T12:17:03.871Z"
   },
   {
    "duration": 2349,
    "start_time": "2022-03-20T12:17:03.985Z"
   },
   {
    "duration": 4,
    "start_time": "2022-03-20T12:17:06.336Z"
   },
   {
    "duration": 24,
    "start_time": "2022-03-20T12:17:06.342Z"
   },
   {
    "duration": 5,
    "start_time": "2022-03-20T12:17:06.368Z"
   },
   {
    "duration": 8,
    "start_time": "2022-03-20T12:17:06.375Z"
   },
   {
    "duration": 934683,
    "start_time": "2022-03-20T12:17:06.384Z"
   },
   {
    "duration": 4,
    "start_time": "2022-03-20T12:32:41.069Z"
   },
   {
    "duration": 5,
    "start_time": "2022-03-20T12:32:41.076Z"
   },
   {
    "duration": 6,
    "start_time": "2022-03-20T12:32:41.083Z"
   },
   {
    "duration": 3,
    "start_time": "2022-03-20T12:32:41.091Z"
   },
   {
    "duration": 4,
    "start_time": "2022-03-20T12:32:41.103Z"
   },
   {
    "duration": 5,
    "start_time": "2022-03-20T12:32:41.109Z"
   },
   {
    "duration": 2676,
    "start_time": "2022-03-20T12:32:41.119Z"
   },
   {
    "duration": 0,
    "start_time": "2022-03-20T12:32:43.797Z"
   },
   {
    "duration": 0,
    "start_time": "2022-03-20T12:32:43.798Z"
   },
   {
    "duration": 0,
    "start_time": "2022-03-20T12:32:43.799Z"
   },
   {
    "duration": 0,
    "start_time": "2022-03-20T12:32:43.800Z"
   },
   {
    "duration": 0,
    "start_time": "2022-03-20T12:32:43.801Z"
   },
   {
    "duration": 0,
    "start_time": "2022-03-20T12:32:43.802Z"
   },
   {
    "duration": 0,
    "start_time": "2022-03-20T12:32:43.804Z"
   },
   {
    "duration": 0,
    "start_time": "2022-03-20T12:32:43.805Z"
   },
   {
    "duration": 0,
    "start_time": "2022-03-20T12:32:43.806Z"
   },
   {
    "duration": 0,
    "start_time": "2022-03-20T12:32:43.807Z"
   },
   {
    "duration": 0,
    "start_time": "2022-03-20T12:32:43.809Z"
   },
   {
    "duration": 0,
    "start_time": "2022-03-20T12:32:43.810Z"
   },
   {
    "duration": 0,
    "start_time": "2022-03-20T12:32:43.812Z"
   },
   {
    "duration": 10355,
    "start_time": "2022-03-20T12:34:28.584Z"
   },
   {
    "duration": 4,
    "start_time": "2022-03-20T12:34:43.163Z"
   },
   {
    "duration": 7,
    "start_time": "2022-03-20T12:34:44.872Z"
   },
   {
    "duration": 10661,
    "start_time": "2022-03-20T12:38:21.912Z"
   },
   {
    "duration": 10459,
    "start_time": "2022-03-20T12:39:26.304Z"
   },
   {
    "duration": 10000,
    "start_time": "2022-03-20T12:39:46.459Z"
   },
   {
    "duration": 5556,
    "start_time": "2022-03-20T12:42:35.583Z"
   },
   {
    "duration": 26218,
    "start_time": "2022-03-20T12:43:06.493Z"
   },
   {
    "duration": 218988,
    "start_time": "2022-03-20T12:43:45.860Z"
   },
   {
    "duration": 1905,
    "start_time": "2022-03-20T12:48:45.303Z"
   },
   {
    "duration": 1906,
    "start_time": "2022-03-20T12:50:08.762Z"
   },
   {
    "duration": 2008,
    "start_time": "2022-03-20T12:51:15.840Z"
   },
   {
    "duration": 10892,
    "start_time": "2022-03-20T12:53:51.143Z"
   },
   {
    "duration": 2424,
    "start_time": "2022-03-20T12:54:55.638Z"
   },
   {
    "duration": 3124,
    "start_time": "2022-03-20T13:04:17.975Z"
   },
   {
    "duration": 2979,
    "start_time": "2022-03-20T13:05:29.984Z"
   },
   {
    "duration": 4763,
    "start_time": "2022-03-20T13:23:01.938Z"
   },
   {
    "duration": 162192,
    "start_time": "2022-03-20T13:23:16.290Z"
   },
   {
    "duration": 0,
    "start_time": "2022-03-20T13:25:58.485Z"
   },
   {
    "duration": 1293,
    "start_time": "2022-03-20T13:26:05.371Z"
   },
   {
    "duration": 766,
    "start_time": "2022-03-20T13:26:06.666Z"
   },
   {
    "duration": 4,
    "start_time": "2022-03-20T13:26:07.433Z"
   },
   {
    "duration": 98,
    "start_time": "2022-03-20T13:26:07.439Z"
   },
   {
    "duration": 78,
    "start_time": "2022-03-20T13:26:07.539Z"
   },
   {
    "duration": 62,
    "start_time": "2022-03-20T13:26:07.619Z"
   },
   {
    "duration": 45,
    "start_time": "2022-03-20T13:26:07.683Z"
   },
   {
    "duration": 252,
    "start_time": "2022-03-20T13:26:07.729Z"
   },
   {
    "duration": 19,
    "start_time": "2022-03-20T13:26:07.982Z"
   },
   {
    "duration": 10,
    "start_time": "2022-03-20T13:26:08.004Z"
   },
   {
    "duration": 65,
    "start_time": "2022-03-20T13:26:08.015Z"
   },
   {
    "duration": 17,
    "start_time": "2022-03-20T13:26:08.082Z"
   },
   {
    "duration": 7563,
    "start_time": "2022-03-20T13:26:08.101Z"
   },
   {
    "duration": 7,
    "start_time": "2022-03-20T13:26:15.666Z"
   },
   {
    "duration": 97,
    "start_time": "2022-03-20T13:26:15.675Z"
   },
   {
    "duration": 172084,
    "start_time": "2022-03-20T13:26:15.773Z"
   },
   {
    "duration": 0,
    "start_time": "2022-03-20T13:29:07.863Z"
   },
   {
    "duration": 0,
    "start_time": "2022-03-20T13:29:07.864Z"
   },
   {
    "duration": 0,
    "start_time": "2022-03-20T13:29:07.864Z"
   },
   {
    "duration": 0,
    "start_time": "2022-03-20T13:29:07.865Z"
   },
   {
    "duration": 0,
    "start_time": "2022-03-20T13:29:07.866Z"
   },
   {
    "duration": 0,
    "start_time": "2022-03-20T13:29:07.867Z"
   },
   {
    "duration": 0,
    "start_time": "2022-03-20T13:29:07.868Z"
   },
   {
    "duration": 0,
    "start_time": "2022-03-20T13:29:07.869Z"
   },
   {
    "duration": 0,
    "start_time": "2022-03-20T13:29:07.870Z"
   },
   {
    "duration": 0,
    "start_time": "2022-03-20T13:29:07.870Z"
   },
   {
    "duration": 0,
    "start_time": "2022-03-20T13:29:07.871Z"
   },
   {
    "duration": 0,
    "start_time": "2022-03-20T13:29:07.872Z"
   },
   {
    "duration": 0,
    "start_time": "2022-03-20T13:29:07.873Z"
   },
   {
    "duration": 0,
    "start_time": "2022-03-20T13:29:07.873Z"
   },
   {
    "duration": 0,
    "start_time": "2022-03-20T13:29:07.874Z"
   },
   {
    "duration": 0,
    "start_time": "2022-03-20T13:29:07.876Z"
   },
   {
    "duration": 0,
    "start_time": "2022-03-20T13:29:07.876Z"
   },
   {
    "duration": 0,
    "start_time": "2022-03-20T13:29:07.877Z"
   },
   {
    "duration": 0,
    "start_time": "2022-03-20T13:29:07.878Z"
   },
   {
    "duration": 0,
    "start_time": "2022-03-20T13:29:07.879Z"
   },
   {
    "duration": 0,
    "start_time": "2022-03-20T13:29:07.880Z"
   },
   {
    "duration": 0,
    "start_time": "2022-03-20T13:29:07.881Z"
   },
   {
    "duration": 1,
    "start_time": "2022-03-20T13:29:07.881Z"
   },
   {
    "duration": 0,
    "start_time": "2022-03-20T13:29:07.883Z"
   },
   {
    "duration": 0,
    "start_time": "2022-03-20T13:29:07.884Z"
   },
   {
    "duration": 0,
    "start_time": "2022-03-20T13:29:07.884Z"
   },
   {
    "duration": 0,
    "start_time": "2022-03-20T13:29:07.886Z"
   },
   {
    "duration": 211701,
    "start_time": "2022-03-20T13:29:09.226Z"
   },
   {
    "duration": 2893,
    "start_time": "2022-03-20T13:43:21.839Z"
   },
   {
    "duration": 4,
    "start_time": "2022-03-20T13:45:03.353Z"
   },
   {
    "duration": 1238,
    "start_time": "2022-03-20T13:45:22.370Z"
   },
   {
    "duration": 408,
    "start_time": "2022-03-20T13:45:23.610Z"
   },
   {
    "duration": 3,
    "start_time": "2022-03-20T13:45:24.020Z"
   },
   {
    "duration": 111,
    "start_time": "2022-03-20T13:45:24.026Z"
   },
   {
    "duration": 85,
    "start_time": "2022-03-20T13:45:24.139Z"
   },
   {
    "duration": 69,
    "start_time": "2022-03-20T13:45:24.226Z"
   },
   {
    "duration": 52,
    "start_time": "2022-03-20T13:45:24.297Z"
   },
   {
    "duration": 265,
    "start_time": "2022-03-20T13:45:24.351Z"
   },
   {
    "duration": 19,
    "start_time": "2022-03-20T13:45:24.618Z"
   },
   {
    "duration": 10,
    "start_time": "2022-03-20T13:45:24.640Z"
   },
   {
    "duration": 53,
    "start_time": "2022-03-20T13:45:24.651Z"
   },
   {
    "duration": 16,
    "start_time": "2022-03-20T13:45:24.705Z"
   },
   {
    "duration": 7860,
    "start_time": "2022-03-20T13:45:24.723Z"
   },
   {
    "duration": 7,
    "start_time": "2022-03-20T13:45:32.662Z"
   },
   {
    "duration": 97,
    "start_time": "2022-03-20T13:45:32.672Z"
   },
   {
    "duration": 112767,
    "start_time": "2022-03-20T13:45:32.771Z"
   },
   {
    "duration": 0,
    "start_time": "2022-03-20T13:47:25.540Z"
   },
   {
    "duration": 0,
    "start_time": "2022-03-20T13:47:25.541Z"
   },
   {
    "duration": 0,
    "start_time": "2022-03-20T13:47:25.542Z"
   },
   {
    "duration": 0,
    "start_time": "2022-03-20T13:47:25.543Z"
   },
   {
    "duration": 0,
    "start_time": "2022-03-20T13:47:25.544Z"
   },
   {
    "duration": 0,
    "start_time": "2022-03-20T13:47:25.545Z"
   },
   {
    "duration": 0,
    "start_time": "2022-03-20T13:47:25.546Z"
   },
   {
    "duration": 0,
    "start_time": "2022-03-20T13:47:25.562Z"
   },
   {
    "duration": 0,
    "start_time": "2022-03-20T13:47:25.563Z"
   },
   {
    "duration": 0,
    "start_time": "2022-03-20T13:47:25.564Z"
   },
   {
    "duration": 0,
    "start_time": "2022-03-20T13:47:25.565Z"
   },
   {
    "duration": 0,
    "start_time": "2022-03-20T13:47:25.566Z"
   },
   {
    "duration": 0,
    "start_time": "2022-03-20T13:47:25.567Z"
   },
   {
    "duration": 0,
    "start_time": "2022-03-20T13:47:25.568Z"
   },
   {
    "duration": 0,
    "start_time": "2022-03-20T13:47:25.569Z"
   },
   {
    "duration": 0,
    "start_time": "2022-03-20T13:47:25.570Z"
   },
   {
    "duration": 0,
    "start_time": "2022-03-20T13:47:25.571Z"
   },
   {
    "duration": 0,
    "start_time": "2022-03-20T13:47:25.572Z"
   },
   {
    "duration": 0,
    "start_time": "2022-03-20T13:47:25.573Z"
   },
   {
    "duration": 0,
    "start_time": "2022-03-20T13:47:25.574Z"
   },
   {
    "duration": 0,
    "start_time": "2022-03-20T13:47:25.575Z"
   },
   {
    "duration": 0,
    "start_time": "2022-03-20T13:47:25.576Z"
   },
   {
    "duration": 0,
    "start_time": "2022-03-20T13:47:25.577Z"
   },
   {
    "duration": 0,
    "start_time": "2022-03-20T13:47:25.578Z"
   },
   {
    "duration": 0,
    "start_time": "2022-03-20T13:47:25.578Z"
   },
   {
    "duration": 0,
    "start_time": "2022-03-20T13:47:25.579Z"
   },
   {
    "duration": 0,
    "start_time": "2022-03-20T13:47:25.580Z"
   },
   {
    "duration": 0,
    "start_time": "2022-03-20T13:47:25.581Z"
   },
   {
    "duration": 7717,
    "start_time": "2022-03-20T13:47:41.651Z"
   },
   {
    "duration": 224841,
    "start_time": "2022-03-20T13:48:31.454Z"
   },
   {
    "duration": 1104991,
    "start_time": "2022-03-20T13:55:50.200Z"
   },
   {
    "duration": 6676,
    "start_time": "2022-03-20T14:52:51.149Z"
   },
   {
    "duration": 3064,
    "start_time": "2022-03-20T14:53:15.435Z"
   },
   {
    "duration": 2442,
    "start_time": "2022-03-20T14:55:25.250Z"
   },
   {
    "duration": 2908,
    "start_time": "2022-03-20T15:10:30.143Z"
   },
   {
    "duration": 49,
    "start_time": "2022-03-20T15:17:49.757Z"
   },
   {
    "duration": 1491,
    "start_time": "2022-03-20T15:17:56.923Z"
   },
   {
    "duration": 697,
    "start_time": "2022-03-20T15:17:58.417Z"
   },
   {
    "duration": 4,
    "start_time": "2022-03-20T15:17:59.116Z"
   },
   {
    "duration": 115,
    "start_time": "2022-03-20T15:17:59.122Z"
   },
   {
    "duration": 81,
    "start_time": "2022-03-20T15:17:59.238Z"
   },
   {
    "duration": 63,
    "start_time": "2022-03-20T15:17:59.321Z"
   },
   {
    "duration": 51,
    "start_time": "2022-03-20T15:17:59.386Z"
   },
   {
    "duration": 274,
    "start_time": "2022-03-20T15:17:59.439Z"
   },
   {
    "duration": 21,
    "start_time": "2022-03-20T15:17:59.714Z"
   },
   {
    "duration": 8,
    "start_time": "2022-03-20T15:17:59.738Z"
   },
   {
    "duration": 4,
    "start_time": "2022-03-20T15:17:59.762Z"
   },
   {
    "duration": 7,
    "start_time": "2022-03-20T15:17:59.768Z"
   },
   {
    "duration": 21,
    "start_time": "2022-03-20T15:17:59.777Z"
   },
   {
    "duration": 43,
    "start_time": "2022-03-20T15:17:59.802Z"
   },
   {
    "duration": 29,
    "start_time": "2022-03-20T15:17:59.846Z"
   },
   {
    "duration": 8487,
    "start_time": "2022-03-20T15:17:59.877Z"
   },
   {
    "duration": 224370,
    "start_time": "2022-03-20T15:18:08.367Z"
   },
   {
    "duration": 2307,
    "start_time": "2022-03-20T15:21:52.739Z"
   },
   {
    "duration": 1213288,
    "start_time": "2022-03-20T15:21:55.048Z"
   },
   {
    "duration": 3081,
    "start_time": "2022-03-20T15:42:08.338Z"
   },
   {
    "duration": 829,
    "start_time": "2022-03-20T15:42:11.420Z"
   },
   {
    "duration": 24,
    "start_time": "2022-03-20T15:42:12.251Z"
   },
   {
    "duration": 12,
    "start_time": "2022-03-20T15:42:12.277Z"
   },
   {
    "duration": 51,
    "start_time": "2022-03-20T15:42:12.291Z"
   },
   {
    "duration": 5,
    "start_time": "2022-03-20T15:42:12.363Z"
   },
   {
    "duration": 31,
    "start_time": "2022-03-20T15:42:12.370Z"
   },
   {
    "duration": 32,
    "start_time": "2022-03-20T15:42:12.403Z"
   },
   {
    "duration": 27,
    "start_time": "2022-03-20T15:42:12.439Z"
   },
   {
    "duration": 1057,
    "start_time": "2022-03-20T15:42:12.471Z"
   },
   {
    "duration": 21,
    "start_time": "2022-03-20T15:42:13.530Z"
   },
   {
    "duration": 7,
    "start_time": "2022-03-20T15:42:13.563Z"
   },
   {
    "duration": 90,
    "start_time": "2022-03-20T15:45:27.732Z"
   },
   {
    "duration": 5,
    "start_time": "2022-03-20T15:45:44.002Z"
   },
   {
    "duration": 35,
    "start_time": "2022-03-20T15:49:24.542Z"
   },
   {
    "duration": 100,
    "start_time": "2022-03-20T15:50:30.157Z"
   },
   {
    "duration": 7,
    "start_time": "2022-03-20T15:50:45.093Z"
   },
   {
    "duration": 7,
    "start_time": "2022-03-20T15:51:01.652Z"
   },
   {
    "duration": 4,
    "start_time": "2022-03-20T15:53:42.491Z"
   },
   {
    "duration": 7,
    "start_time": "2022-03-20T15:54:44.104Z"
   },
   {
    "duration": 6,
    "start_time": "2022-03-20T15:54:47.729Z"
   },
   {
    "duration": 7,
    "start_time": "2022-03-20T15:55:45.900Z"
   },
   {
    "duration": 820,
    "start_time": "2022-03-20T15:56:11.768Z"
   },
   {
    "duration": 50,
    "start_time": "2022-03-20T15:56:15.363Z"
   },
   {
    "duration": 1105,
    "start_time": "2022-03-20T15:56:19.935Z"
   },
   {
    "duration": 4,
    "start_time": "2022-03-20T15:56:23.640Z"
   },
   {
    "duration": 1393,
    "start_time": "2022-03-20T15:57:23.680Z"
   },
   {
    "duration": 689,
    "start_time": "2022-03-20T15:57:25.074Z"
   },
   {
    "duration": 3,
    "start_time": "2022-03-20T15:57:25.765Z"
   },
   {
    "duration": 100,
    "start_time": "2022-03-20T15:57:25.771Z"
   },
   {
    "duration": 90,
    "start_time": "2022-03-20T15:57:25.873Z"
   },
   {
    "duration": 62,
    "start_time": "2022-03-20T15:57:25.965Z"
   },
   {
    "duration": 73,
    "start_time": "2022-03-20T15:57:26.028Z"
   },
   {
    "duration": 260,
    "start_time": "2022-03-20T15:57:26.103Z"
   },
   {
    "duration": 22,
    "start_time": "2022-03-20T15:57:26.365Z"
   },
   {
    "duration": 7,
    "start_time": "2022-03-20T15:57:26.391Z"
   },
   {
    "duration": 8,
    "start_time": "2022-03-20T15:57:26.400Z"
   },
   {
    "duration": 8,
    "start_time": "2022-03-20T15:57:26.410Z"
   },
   {
    "duration": 19,
    "start_time": "2022-03-20T15:57:26.419Z"
   },
   {
    "duration": 62,
    "start_time": "2022-03-20T15:57:26.441Z"
   },
   {
    "duration": 18,
    "start_time": "2022-03-20T15:57:26.505Z"
   },
   {
    "duration": 7842,
    "start_time": "2022-03-20T15:57:26.524Z"
   },
   {
    "duration": 2548,
    "start_time": "2022-03-20T15:57:34.371Z"
   },
   {
    "duration": 3080,
    "start_time": "2022-03-20T15:57:36.921Z"
   },
   {
    "duration": 811,
    "start_time": "2022-03-20T15:57:40.003Z"
   },
   {
    "duration": 59,
    "start_time": "2022-03-20T15:57:40.815Z"
   },
   {
    "duration": 1235,
    "start_time": "2022-03-20T15:57:40.876Z"
   },
   {
    "duration": 5,
    "start_time": "2022-03-20T15:57:42.113Z"
   },
   {
    "duration": 11,
    "start_time": "2022-03-20T15:57:42.119Z"
   },
   {
    "duration": 50,
    "start_time": "2022-03-20T15:57:42.132Z"
   },
   {
    "duration": 8,
    "start_time": "2022-03-20T15:57:42.185Z"
   },
   {
    "duration": 8,
    "start_time": "2022-03-20T15:57:42.196Z"
   },
   {
    "duration": 40,
    "start_time": "2022-03-20T16:00:46.389Z"
   },
   {
    "duration": 13,
    "start_time": "2022-03-20T16:04:49.073Z"
   },
   {
    "duration": 6,
    "start_time": "2022-03-20T16:05:10.704Z"
   },
   {
    "duration": 9,
    "start_time": "2022-03-20T16:05:19.065Z"
   },
   {
    "duration": 4,
    "start_time": "2022-03-20T16:05:21.513Z"
   },
   {
    "duration": 6,
    "start_time": "2022-03-20T16:05:23.167Z"
   },
   {
    "duration": 11,
    "start_time": "2022-03-20T16:05:26.916Z"
   },
   {
    "duration": 1105,
    "start_time": "2022-03-20T16:05:39.631Z"
   },
   {
    "duration": 55,
    "start_time": "2022-03-20T16:05:44.372Z"
   },
   {
    "duration": 1306,
    "start_time": "2022-03-20T16:05:47.534Z"
   },
   {
    "duration": 68,
    "start_time": "2022-03-20T16:05:50.053Z"
   },
   {
    "duration": 5,
    "start_time": "2022-03-20T16:06:08.255Z"
   },
   {
    "duration": 14,
    "start_time": "2022-03-20T16:08:41.364Z"
   },
   {
    "duration": 9,
    "start_time": "2022-03-20T16:09:38.997Z"
   },
   {
    "duration": 7,
    "start_time": "2022-03-20T16:14:40.055Z"
   },
   {
    "duration": 7,
    "start_time": "2022-03-20T16:15:04.888Z"
   },
   {
    "duration": 7,
    "start_time": "2022-03-20T16:15:41.352Z"
   },
   {
    "duration": 10,
    "start_time": "2022-03-20T16:16:28.528Z"
   },
   {
    "duration": 7,
    "start_time": "2022-03-20T16:17:18.272Z"
   },
   {
    "duration": 8,
    "start_time": "2022-03-20T16:18:30.774Z"
   },
   {
    "duration": 9,
    "start_time": "2022-03-20T16:20:13.499Z"
   },
   {
    "duration": 9,
    "start_time": "2022-03-20T16:21:12.206Z"
   },
   {
    "duration": 7,
    "start_time": "2022-03-20T16:21:37.747Z"
   },
   {
    "duration": 6,
    "start_time": "2022-03-20T16:27:49.744Z"
   },
   {
    "duration": 6,
    "start_time": "2022-03-20T16:29:13.301Z"
   },
   {
    "duration": 6,
    "start_time": "2022-03-20T16:36:57.582Z"
   },
   {
    "duration": 136,
    "start_time": "2022-03-20T16:40:56.171Z"
   },
   {
    "duration": 1211,
    "start_time": "2022-03-20T16:50:49.501Z"
   },
   {
    "duration": 672,
    "start_time": "2022-03-20T16:50:50.714Z"
   },
   {
    "duration": 3,
    "start_time": "2022-03-20T16:50:51.388Z"
   },
   {
    "duration": 114,
    "start_time": "2022-03-20T16:50:51.394Z"
   },
   {
    "duration": 130,
    "start_time": "2022-03-20T16:50:51.510Z"
   },
   {
    "duration": 68,
    "start_time": "2022-03-20T16:50:51.642Z"
   },
   {
    "duration": 59,
    "start_time": "2022-03-20T16:50:51.712Z"
   },
   {
    "duration": 323,
    "start_time": "2022-03-20T16:50:51.773Z"
   },
   {
    "duration": 27,
    "start_time": "2022-03-20T16:50:52.098Z"
   },
   {
    "duration": 7,
    "start_time": "2022-03-20T16:50:52.128Z"
   },
   {
    "duration": 26,
    "start_time": "2022-03-20T16:50:52.137Z"
   },
   {
    "duration": 10,
    "start_time": "2022-03-20T16:50:52.166Z"
   },
   {
    "duration": 20,
    "start_time": "2022-03-20T16:50:52.179Z"
   },
   {
    "duration": 68,
    "start_time": "2022-03-20T16:50:52.201Z"
   },
   {
    "duration": 18,
    "start_time": "2022-03-20T16:50:52.271Z"
   },
   {
    "duration": 10371,
    "start_time": "2022-03-20T16:50:52.292Z"
   },
   {
    "duration": 227742,
    "start_time": "2022-03-20T16:51:02.666Z"
   },
   {
    "duration": 2306,
    "start_time": "2022-03-20T16:54:50.410Z"
   },
   {
    "duration": 1145836,
    "start_time": "2022-03-20T16:54:52.718Z"
   },
   {
    "duration": 4301,
    "start_time": "2022-03-20T17:13:58.562Z"
   },
   {
    "duration": 974,
    "start_time": "2022-03-20T17:14:02.865Z"
   },
   {
    "duration": 56,
    "start_time": "2022-03-20T17:14:03.841Z"
   },
   {
    "duration": 1099,
    "start_time": "2022-03-20T17:14:03.898Z"
   },
   {
    "duration": 42,
    "start_time": "2022-03-20T17:14:04.999Z"
   },
   {
    "duration": 5,
    "start_time": "2022-03-20T17:14:05.042Z"
   },
   {
    "duration": 5,
    "start_time": "2022-03-20T17:14:05.063Z"
   },
   {
    "duration": 39,
    "start_time": "2022-03-20T17:14:05.070Z"
   },
   {
    "duration": 13,
    "start_time": "2022-03-20T17:14:05.114Z"
   },
   {
    "duration": 34,
    "start_time": "2022-03-20T17:14:05.130Z"
   },
   {
    "duration": 6,
    "start_time": "2022-03-20T17:14:05.166Z"
   },
   {
    "duration": 9,
    "start_time": "2022-03-20T17:14:05.173Z"
   },
   {
    "duration": 6,
    "start_time": "2022-03-20T17:14:05.184Z"
   },
   {
    "duration": 15,
    "start_time": "2022-03-20T17:14:05.192Z"
   },
   {
    "duration": 9,
    "start_time": "2022-03-20T17:14:05.209Z"
   },
   {
    "duration": 11,
    "start_time": "2022-03-20T17:14:05.220Z"
   },
   {
    "duration": 6,
    "start_time": "2022-03-20T17:14:05.264Z"
   },
   {
    "duration": 1713,
    "start_time": "2022-03-21T17:38:56.888Z"
   },
   {
    "duration": 566,
    "start_time": "2022-03-21T17:38:58.604Z"
   },
   {
    "duration": 5,
    "start_time": "2022-03-21T17:38:59.172Z"
   },
   {
    "duration": 163,
    "start_time": "2022-03-21T17:38:59.183Z"
   },
   {
    "duration": 142,
    "start_time": "2022-03-21T17:38:59.349Z"
   },
   {
    "duration": 94,
    "start_time": "2022-03-21T17:38:59.493Z"
   },
   {
    "duration": 96,
    "start_time": "2022-03-21T17:38:59.589Z"
   },
   {
    "duration": 374,
    "start_time": "2022-03-21T17:38:59.687Z"
   },
   {
    "duration": 33,
    "start_time": "2022-03-21T17:39:00.063Z"
   },
   {
    "duration": 5,
    "start_time": "2022-03-21T17:39:00.100Z"
   },
   {
    "duration": 28,
    "start_time": "2022-03-21T17:39:00.108Z"
   },
   {
    "duration": 23,
    "start_time": "2022-03-21T17:39:00.138Z"
   },
   {
    "duration": 45,
    "start_time": "2022-03-21T17:39:00.163Z"
   },
   {
    "duration": 56,
    "start_time": "2022-03-21T17:39:00.210Z"
   },
   {
    "duration": 23,
    "start_time": "2022-03-21T17:39:00.268Z"
   },
   {
    "duration": 15694,
    "start_time": "2022-03-21T17:39:00.294Z"
   },
   {
    "duration": 404365,
    "start_time": "2022-03-21T17:39:15.993Z"
   },
   {
    "duration": 4212,
    "start_time": "2022-03-21T17:46:00.360Z"
   },
   {
    "duration": 1905155,
    "start_time": "2022-03-21T17:46:04.575Z"
   },
   {
    "duration": 4909,
    "start_time": "2022-03-21T18:17:49.732Z"
   },
   {
    "duration": 1681,
    "start_time": "2022-03-21T18:17:54.643Z"
   },
   {
    "duration": 90,
    "start_time": "2022-03-21T18:17:56.327Z"
   },
   {
    "duration": 2330,
    "start_time": "2022-03-21T18:17:56.419Z"
   },
   {
    "duration": 72,
    "start_time": "2022-03-21T18:17:58.752Z"
   },
   {
    "duration": 7,
    "start_time": "2022-03-21T18:17:58.826Z"
   },
   {
    "duration": 8,
    "start_time": "2022-03-21T18:17:58.836Z"
   },
   {
    "duration": 115,
    "start_time": "2022-03-21T18:17:58.847Z"
   },
   {
    "duration": 26,
    "start_time": "2022-03-21T18:17:58.970Z"
   },
   {
    "duration": 16,
    "start_time": "2022-03-21T18:17:58.998Z"
   },
   {
    "duration": 11,
    "start_time": "2022-03-21T18:17:59.016Z"
   },
   {
    "duration": 8,
    "start_time": "2022-03-21T18:17:59.030Z"
   },
   {
    "duration": 51,
    "start_time": "2022-03-21T18:17:59.041Z"
   },
   {
    "duration": 11,
    "start_time": "2022-03-21T18:17:59.095Z"
   },
   {
    "duration": 15,
    "start_time": "2022-03-21T18:17:59.109Z"
   },
   {
    "duration": 15,
    "start_time": "2022-03-21T18:17:59.127Z"
   },
   {
    "duration": 44,
    "start_time": "2022-03-21T18:17:59.145Z"
   },
   {
    "duration": 1267,
    "start_time": "2022-03-22T18:17:10.917Z"
   },
   {
    "duration": 422,
    "start_time": "2022-03-22T18:17:13.911Z"
   },
   {
    "duration": 59,
    "start_time": "2022-03-22T18:17:18.385Z"
   },
   {
    "duration": 56,
    "start_time": "2022-03-22T18:17:20.350Z"
   },
   {
    "duration": 114,
    "start_time": "2022-03-22T18:17:27.074Z"
   },
   {
    "duration": 90,
    "start_time": "2022-03-22T18:18:00.976Z"
   },
   {
    "duration": 4224,
    "start_time": "2022-03-22T18:21:40.747Z"
   },
   {
    "duration": 4089,
    "start_time": "2022-03-22T18:24:33.275Z"
   },
   {
    "duration": 3,
    "start_time": "2022-03-22T18:24:46.314Z"
   },
   {
    "duration": 502,
    "start_time": "2022-03-22T18:24:48.590Z"
   },
   {
    "duration": 54,
    "start_time": "2022-03-22T18:24:55.629Z"
   },
   {
    "duration": 46,
    "start_time": "2022-03-22T18:24:58.521Z"
   },
   {
    "duration": 4799,
    "start_time": "2022-03-22T18:25:02.125Z"
   },
   {
    "duration": 5,
    "start_time": "2022-03-22T18:25:28.462Z"
   },
   {
    "duration": 7551,
    "start_time": "2022-03-22T18:25:36.043Z"
   },
   {
    "duration": 4036,
    "start_time": "2022-03-22T18:25:45.192Z"
   },
   {
    "duration": 15,
    "start_time": "2022-03-22T18:25:55.086Z"
   },
   {
    "duration": 4646,
    "start_time": "2022-03-22T18:26:18.479Z"
   },
   {
    "duration": 4,
    "start_time": "2022-03-22T18:26:54.357Z"
   },
   {
    "duration": 404,
    "start_time": "2022-03-22T18:26:57.011Z"
   },
   {
    "duration": 54,
    "start_time": "2022-03-22T18:27:04.203Z"
   },
   {
    "duration": 44,
    "start_time": "2022-03-22T18:27:06.350Z"
   },
   {
    "duration": 14,
    "start_time": "2022-03-22T18:27:10.701Z"
   },
   {
    "duration": 49,
    "start_time": "2022-03-22T18:27:14.019Z"
   },
   {
    "duration": 104,
    "start_time": "2022-03-22T18:28:39.960Z"
   },
   {
    "duration": 14,
    "start_time": "2022-03-22T18:28:52.662Z"
   },
   {
    "duration": 29,
    "start_time": "2022-03-22T18:30:13.660Z"
   },
   {
    "duration": 4,
    "start_time": "2022-03-22T18:33:58.073Z"
   },
   {
    "duration": 388,
    "start_time": "2022-03-22T18:34:00.758Z"
   },
   {
    "duration": 3,
    "start_time": "2022-03-22T18:34:04.118Z"
   },
   {
    "duration": 61,
    "start_time": "2022-03-22T18:34:07.854Z"
   },
   {
    "duration": 46,
    "start_time": "2022-03-22T18:34:10.269Z"
   },
   {
    "duration": 95,
    "start_time": "2022-03-22T18:34:21.106Z"
   },
   {
    "duration": 26,
    "start_time": "2022-03-22T18:34:28.320Z"
   },
   {
    "duration": 40,
    "start_time": "2022-03-22T18:34:33.408Z"
   },
   {
    "duration": 10,
    "start_time": "2022-03-22T18:39:24.935Z"
   },
   {
    "duration": 3,
    "start_time": "2022-03-22T18:39:55.846Z"
   },
   {
    "duration": 442,
    "start_time": "2022-03-22T18:39:58.591Z"
   },
   {
    "duration": 3,
    "start_time": "2022-03-22T18:40:01.141Z"
   },
   {
    "duration": 56,
    "start_time": "2022-03-22T18:40:05.070Z"
   },
   {
    "duration": 42,
    "start_time": "2022-03-22T18:40:07.625Z"
   },
   {
    "duration": 2481,
    "start_time": "2022-03-22T18:40:15.315Z"
   },
   {
    "duration": 10,
    "start_time": "2022-03-22T18:44:20.086Z"
   },
   {
    "duration": 11,
    "start_time": "2022-03-22T18:44:27.353Z"
   },
   {
    "duration": 10,
    "start_time": "2022-03-22T18:46:30.671Z"
   },
   {
    "duration": 3,
    "start_time": "2022-03-22T18:46:52.781Z"
   },
   {
    "duration": 383,
    "start_time": "2022-03-22T18:46:55.043Z"
   },
   {
    "duration": 5,
    "start_time": "2022-03-22T18:46:57.788Z"
   },
   {
    "duration": 56,
    "start_time": "2022-03-22T18:47:01.964Z"
   },
   {
    "duration": 45,
    "start_time": "2022-03-22T18:47:03.911Z"
   },
   {
    "duration": 10,
    "start_time": "2022-03-22T18:47:07.492Z"
   },
   {
    "duration": 2578,
    "start_time": "2022-03-22T18:47:34.213Z"
   },
   {
    "duration": 11,
    "start_time": "2022-03-22T18:47:43.723Z"
   },
   {
    "duration": 188,
    "start_time": "2022-03-22T18:47:57.420Z"
   },
   {
    "duration": 68,
    "start_time": "2022-03-22T18:48:00.228Z"
   },
   {
    "duration": 5,
    "start_time": "2022-03-22T18:50:25.196Z"
   },
   {
    "duration": 194,
    "start_time": "2022-03-22T18:50:48.773Z"
   },
   {
    "duration": 3,
    "start_time": "2022-03-22T18:50:55.376Z"
   },
   {
    "duration": 199,
    "start_time": "2022-03-22T18:51:05.527Z"
   },
   {
    "duration": 189,
    "start_time": "2022-03-22T18:51:11.976Z"
   },
   {
    "duration": 4,
    "start_time": "2022-03-22T18:51:15.440Z"
   },
   {
    "duration": 187,
    "start_time": "2022-03-22T18:53:42.903Z"
   },
   {
    "duration": 3,
    "start_time": "2022-03-22T18:53:45.458Z"
   },
   {
    "duration": 187,
    "start_time": "2022-03-22T18:53:51.094Z"
   },
   {
    "duration": 4,
    "start_time": "2022-03-22T18:53:57.367Z"
   },
   {
    "duration": 65,
    "start_time": "2022-03-22T18:54:05.119Z"
   },
   {
    "duration": 2528,
    "start_time": "2022-03-22T18:55:16.270Z"
   },
   {
    "duration": 12,
    "start_time": "2022-03-22T18:55:20.225Z"
   },
   {
    "duration": 2434,
    "start_time": "2022-03-22T18:55:52.206Z"
   },
   {
    "duration": 2634,
    "start_time": "2022-03-22T18:56:02.170Z"
   },
   {
    "duration": 11,
    "start_time": "2022-03-22T18:56:06.151Z"
   },
   {
    "duration": 98,
    "start_time": "2022-03-22T19:01:54.927Z"
   },
   {
    "duration": 45,
    "start_time": "2022-03-22T19:02:05.339Z"
   },
   {
    "duration": 61,
    "start_time": "2022-03-22T19:02:32.916Z"
   },
   {
    "duration": 4,
    "start_time": "2022-03-22T19:04:02.570Z"
   },
   {
    "duration": 43,
    "start_time": "2022-03-22T19:04:09.171Z"
   },
   {
    "duration": 12,
    "start_time": "2022-03-22T19:05:06.115Z"
   },
   {
    "duration": 10,
    "start_time": "2022-03-22T19:05:58.026Z"
   },
   {
    "duration": 10,
    "start_time": "2022-03-22T19:06:04.689Z"
   },
   {
    "duration": 140,
    "start_time": "2022-03-22T19:06:31.328Z"
   },
   {
    "duration": 117,
    "start_time": "2022-03-22T19:08:26.083Z"
   },
   {
    "duration": 4,
    "start_time": "2022-03-22T19:08:57.217Z"
   },
   {
    "duration": 399,
    "start_time": "2022-03-22T19:08:59.430Z"
   },
   {
    "duration": 4,
    "start_time": "2022-03-22T19:09:02.373Z"
   },
   {
    "duration": 58,
    "start_time": "2022-03-22T19:09:07.014Z"
   },
   {
    "duration": 45,
    "start_time": "2022-03-22T19:09:08.690Z"
   },
   {
    "duration": 205,
    "start_time": "2022-03-22T19:09:12.048Z"
   },
   {
    "duration": 53,
    "start_time": "2022-03-22T19:09:30.170Z"
   },
   {
    "duration": 4,
    "start_time": "2022-03-22T19:17:00.895Z"
   },
   {
    "duration": 389,
    "start_time": "2022-03-22T19:17:02.799Z"
   },
   {
    "duration": 3,
    "start_time": "2022-03-22T19:17:05.487Z"
   },
   {
    "duration": 58,
    "start_time": "2022-03-22T19:17:09.198Z"
   },
   {
    "duration": 41,
    "start_time": "2022-03-22T19:17:11.394Z"
   },
   {
    "duration": 260,
    "start_time": "2022-03-22T19:17:15.530Z"
   },
   {
    "duration": 38,
    "start_time": "2022-03-22T19:17:21.779Z"
   },
   {
    "duration": 262,
    "start_time": "2022-03-22T19:17:53.089Z"
   },
   {
    "duration": 7,
    "start_time": "2022-03-22T19:17:57.302Z"
   },
   {
    "duration": 39,
    "start_time": "2022-03-22T19:18:51.167Z"
   },
   {
    "duration": 35,
    "start_time": "2022-03-22T19:19:03.837Z"
   },
   {
    "duration": 27,
    "start_time": "2022-03-22T19:22:56.919Z"
   },
   {
    "duration": 4,
    "start_time": "2022-03-22T19:24:33.273Z"
   },
   {
    "duration": 407,
    "start_time": "2022-03-22T19:24:35.728Z"
   },
   {
    "duration": 3,
    "start_time": "2022-03-22T19:24:38.943Z"
   },
   {
    "duration": 55,
    "start_time": "2022-03-22T19:24:43.432Z"
   },
   {
    "duration": 40,
    "start_time": "2022-03-22T19:24:45.764Z"
   },
   {
    "duration": 271,
    "start_time": "2022-03-22T19:24:49.396Z"
   },
   {
    "duration": 14,
    "start_time": "2022-03-22T19:24:57.656Z"
   },
   {
    "duration": 41,
    "start_time": "2022-03-22T19:25:09.122Z"
   },
   {
    "duration": 6,
    "start_time": "2022-03-22T19:25:44.258Z"
   },
   {
    "duration": 3,
    "start_time": "2022-03-22T19:26:22.733Z"
   },
   {
    "duration": 401,
    "start_time": "2022-03-22T19:26:24.789Z"
   },
   {
    "duration": 3,
    "start_time": "2022-03-22T19:26:26.957Z"
   },
   {
    "duration": 55,
    "start_time": "2022-03-22T19:26:30.621Z"
   },
   {
    "duration": 43,
    "start_time": "2022-03-22T19:26:32.065Z"
   },
   {
    "duration": 251,
    "start_time": "2022-03-22T19:26:34.442Z"
   },
   {
    "duration": 6,
    "start_time": "2022-03-22T19:26:39.053Z"
   },
   {
    "duration": 16,
    "start_time": "2022-03-22T19:26:45.968Z"
   },
   {
    "duration": 6,
    "start_time": "2022-03-22T19:26:48.389Z"
   },
   {
    "duration": 6,
    "start_time": "2022-03-22T19:26:50.621Z"
   },
   {
    "duration": 371,
    "start_time": "2022-03-22T19:27:06.165Z"
   },
   {
    "duration": 4,
    "start_time": "2022-03-22T19:27:08.326Z"
   },
   {
    "duration": 57,
    "start_time": "2022-03-22T19:27:12.853Z"
   },
   {
    "duration": 42,
    "start_time": "2022-03-22T19:27:14.916Z"
   },
   {
    "duration": 258,
    "start_time": "2022-03-22T19:27:18.064Z"
   },
   {
    "duration": 6,
    "start_time": "2022-03-22T19:27:22.230Z"
   },
   {
    "duration": 26,
    "start_time": "2022-03-22T19:27:25.398Z"
   },
   {
    "duration": 6,
    "start_time": "2022-03-22T19:27:28.678Z"
   },
   {
    "duration": 5,
    "start_time": "2022-03-22T19:27:30.989Z"
   },
   {
    "duration": 389,
    "start_time": "2022-03-22T19:31:11.756Z"
   },
   {
    "duration": 4,
    "start_time": "2022-03-22T19:31:22.900Z"
   },
   {
    "duration": 96,
    "start_time": "2022-03-22T19:31:27.453Z"
   },
   {
    "duration": 70,
    "start_time": "2022-03-22T19:31:29.605Z"
   },
   {
    "duration": 58,
    "start_time": "2022-03-22T19:31:33.108Z"
   },
   {
    "duration": 42,
    "start_time": "2022-03-22T19:31:34.789Z"
   },
   {
    "duration": 255,
    "start_time": "2022-03-22T19:31:38.486Z"
   },
   {
    "duration": 23,
    "start_time": "2022-03-22T19:31:48.268Z"
   },
   {
    "duration": 10,
    "start_time": "2022-03-22T19:39:46.142Z"
   },
   {
    "duration": 3,
    "start_time": "2022-03-22T19:39:58.111Z"
   },
   {
    "duration": 394,
    "start_time": "2022-03-22T19:40:01.030Z"
   },
   {
    "duration": 3,
    "start_time": "2022-03-22T19:40:03.854Z"
   },
   {
    "duration": 92,
    "start_time": "2022-03-22T19:40:06.414Z"
   },
   {
    "duration": 80,
    "start_time": "2022-03-22T19:40:08.654Z"
   },
   {
    "duration": 53,
    "start_time": "2022-03-22T19:40:11.967Z"
   },
   {
    "duration": 42,
    "start_time": "2022-03-22T19:40:13.930Z"
   },
   {
    "duration": 256,
    "start_time": "2022-03-22T19:40:17.465Z"
   },
   {
    "duration": 27,
    "start_time": "2022-03-22T19:40:24.420Z"
   },
   {
    "duration": 4,
    "start_time": "2022-03-22T19:40:30.599Z"
   },
   {
    "duration": 6,
    "start_time": "2022-03-22T19:40:33.997Z"
   },
   {
    "duration": 7,
    "start_time": "2022-03-22T19:40:39.174Z"
   },
   {
    "duration": 7,
    "start_time": "2022-03-22T19:40:44.703Z"
   },
   {
    "duration": 56,
    "start_time": "2022-03-22T19:40:47.533Z"
   },
   {
    "duration": 12,
    "start_time": "2022-03-22T19:40:50.389Z"
   },
   {
    "duration": 132,
    "start_time": "2022-03-22T19:40:53.381Z"
   },
   {
    "duration": 215,
    "start_time": "2022-03-22T19:41:44.696Z"
   },
   {
    "duration": 116,
    "start_time": "2022-03-22T19:42:03.458Z"
   },
   {
    "duration": 42,
    "start_time": "2022-03-22T19:42:34.716Z"
   },
   {
    "duration": 11,
    "start_time": "2022-03-22T19:43:02.406Z"
   },
   {
    "duration": 79,
    "start_time": "2022-03-22T19:43:25.721Z"
   },
   {
    "duration": 1206,
    "start_time": "2022-03-22T19:43:56.706Z"
   },
   {
    "duration": 453,
    "start_time": "2022-03-22T19:43:57.914Z"
   },
   {
    "duration": 3,
    "start_time": "2022-03-22T19:43:58.369Z"
   },
   {
    "duration": 108,
    "start_time": "2022-03-22T19:43:58.374Z"
   },
   {
    "duration": 83,
    "start_time": "2022-03-22T19:43:58.483Z"
   },
   {
    "duration": 66,
    "start_time": "2022-03-22T19:43:58.567Z"
   },
   {
    "duration": 19,
    "start_time": "2022-03-22T19:43:58.634Z"
   },
   {
    "duration": 179,
    "start_time": "2022-03-22T19:43:58.654Z"
   },
   {
    "duration": 23,
    "start_time": "2022-03-22T19:43:58.835Z"
   },
   {
    "duration": 4,
    "start_time": "2022-03-22T19:43:58.862Z"
   },
   {
    "duration": 8,
    "start_time": "2022-03-22T19:43:58.867Z"
   },
   {
    "duration": 17,
    "start_time": "2022-03-22T19:43:58.877Z"
   },
   {
    "duration": 19,
    "start_time": "2022-03-22T19:43:58.896Z"
   },
   {
    "duration": 48,
    "start_time": "2022-03-22T19:43:58.916Z"
   },
   {
    "duration": 8,
    "start_time": "2022-03-22T19:43:58.966Z"
   },
   {
    "duration": 58,
    "start_time": "2022-03-22T19:43:58.975Z"
   },
   {
    "duration": 120,
    "start_time": "2022-03-22T19:43:59.034Z"
   },
   {
    "duration": 0,
    "start_time": "2022-03-22T19:43:59.156Z"
   },
   {
    "duration": 0,
    "start_time": "2022-03-22T19:43:59.158Z"
   },
   {
    "duration": 0,
    "start_time": "2022-03-22T19:43:59.159Z"
   },
   {
    "duration": 0,
    "start_time": "2022-03-22T19:43:59.160Z"
   },
   {
    "duration": 0,
    "start_time": "2022-03-22T19:43:59.161Z"
   },
   {
    "duration": 0,
    "start_time": "2022-03-22T19:43:59.162Z"
   },
   {
    "duration": 0,
    "start_time": "2022-03-22T19:43:59.163Z"
   },
   {
    "duration": 0,
    "start_time": "2022-03-22T19:43:59.164Z"
   },
   {
    "duration": 0,
    "start_time": "2022-03-22T19:43:59.165Z"
   },
   {
    "duration": 0,
    "start_time": "2022-03-22T19:43:59.165Z"
   },
   {
    "duration": 0,
    "start_time": "2022-03-22T19:43:59.166Z"
   },
   {
    "duration": 0,
    "start_time": "2022-03-22T19:43:59.167Z"
   },
   {
    "duration": 0,
    "start_time": "2022-03-22T19:43:59.168Z"
   },
   {
    "duration": 0,
    "start_time": "2022-03-22T19:43:59.169Z"
   },
   {
    "duration": 0,
    "start_time": "2022-03-22T19:43:59.170Z"
   },
   {
    "duration": 0,
    "start_time": "2022-03-22T19:43:59.171Z"
   },
   {
    "duration": 0,
    "start_time": "2022-03-22T19:43:59.171Z"
   },
   {
    "duration": 0,
    "start_time": "2022-03-22T19:43:59.172Z"
   },
   {
    "duration": 0,
    "start_time": "2022-03-22T19:43:59.173Z"
   },
   {
    "duration": 0,
    "start_time": "2022-03-22T19:43:59.174Z"
   },
   {
    "duration": 37,
    "start_time": "2022-03-22T19:45:16.084Z"
   },
   {
    "duration": 35,
    "start_time": "2022-03-22T19:45:43.388Z"
   },
   {
    "duration": 42,
    "start_time": "2022-03-22T19:45:54.933Z"
   },
   {
    "duration": 41,
    "start_time": "2022-03-22T19:45:58.432Z"
   },
   {
    "duration": 36,
    "start_time": "2022-03-22T19:46:10.473Z"
   },
   {
    "duration": 3,
    "start_time": "2022-03-22T19:46:56.715Z"
   },
   {
    "duration": 1253,
    "start_time": "2022-03-22T19:47:02.713Z"
   },
   {
    "duration": 455,
    "start_time": "2022-03-22T19:47:03.968Z"
   },
   {
    "duration": 8,
    "start_time": "2022-03-22T19:47:04.425Z"
   },
   {
    "duration": 101,
    "start_time": "2022-03-22T19:47:04.435Z"
   },
   {
    "duration": 73,
    "start_time": "2022-03-22T19:47:04.537Z"
   },
   {
    "duration": 68,
    "start_time": "2022-03-22T19:47:04.612Z"
   },
   {
    "duration": 86,
    "start_time": "2022-03-22T19:47:04.682Z"
   },
   {
    "duration": 44,
    "start_time": "2022-03-22T19:47:04.769Z"
   },
   {
    "duration": 72,
    "start_time": "2022-03-22T19:47:04.815Z"
   },
   {
    "duration": 282,
    "start_time": "2022-03-22T19:47:04.889Z"
   },
   {
    "duration": 23,
    "start_time": "2022-03-22T19:47:05.173Z"
   },
   {
    "duration": 4,
    "start_time": "2022-03-22T19:47:05.198Z"
   },
   {
    "duration": 8,
    "start_time": "2022-03-22T19:47:05.203Z"
   },
   {
    "duration": 22,
    "start_time": "2022-03-22T19:47:05.213Z"
   },
   {
    "duration": 12,
    "start_time": "2022-03-22T19:47:05.236Z"
   },
   {
    "duration": 56,
    "start_time": "2022-03-22T19:47:05.249Z"
   },
   {
    "duration": 28,
    "start_time": "2022-03-22T19:47:05.307Z"
   },
   {
    "duration": 66,
    "start_time": "2022-03-22T19:47:05.337Z"
   },
   {
    "duration": 9736,
    "start_time": "2022-03-22T19:47:05.405Z"
   },
   {
    "duration": 0,
    "start_time": "2022-03-22T19:47:15.143Z"
   },
   {
    "duration": 0,
    "start_time": "2022-03-22T19:47:15.144Z"
   },
   {
    "duration": 0,
    "start_time": "2022-03-22T19:47:15.145Z"
   },
   {
    "duration": 0,
    "start_time": "2022-03-22T19:47:15.147Z"
   },
   {
    "duration": 0,
    "start_time": "2022-03-22T19:47:15.148Z"
   },
   {
    "duration": 0,
    "start_time": "2022-03-22T19:47:15.149Z"
   },
   {
    "duration": 0,
    "start_time": "2022-03-22T19:47:15.151Z"
   },
   {
    "duration": 0,
    "start_time": "2022-03-22T19:47:15.152Z"
   },
   {
    "duration": 0,
    "start_time": "2022-03-22T19:47:15.153Z"
   },
   {
    "duration": 0,
    "start_time": "2022-03-22T19:47:15.154Z"
   },
   {
    "duration": 0,
    "start_time": "2022-03-22T19:47:15.155Z"
   },
   {
    "duration": 0,
    "start_time": "2022-03-22T19:47:15.156Z"
   },
   {
    "duration": 0,
    "start_time": "2022-03-22T19:47:15.157Z"
   },
   {
    "duration": 0,
    "start_time": "2022-03-22T19:47:15.158Z"
   },
   {
    "duration": 0,
    "start_time": "2022-03-22T19:47:15.159Z"
   },
   {
    "duration": 0,
    "start_time": "2022-03-22T19:47:15.161Z"
   },
   {
    "duration": 0,
    "start_time": "2022-03-22T19:47:15.162Z"
   },
   {
    "duration": 0,
    "start_time": "2022-03-22T19:47:15.163Z"
   },
   {
    "duration": 0,
    "start_time": "2022-03-22T19:47:15.164Z"
   },
   {
    "duration": 0,
    "start_time": "2022-03-22T19:47:15.165Z"
   },
   {
    "duration": 1294,
    "start_time": "2022-03-22T19:48:00.132Z"
   },
   {
    "duration": 471,
    "start_time": "2022-03-22T19:48:01.427Z"
   },
   {
    "duration": 3,
    "start_time": "2022-03-22T19:48:01.900Z"
   },
   {
    "duration": 111,
    "start_time": "2022-03-22T19:48:01.905Z"
   },
   {
    "duration": 83,
    "start_time": "2022-03-22T19:48:02.017Z"
   },
   {
    "duration": 68,
    "start_time": "2022-03-22T19:48:02.102Z"
   },
   {
    "duration": 95,
    "start_time": "2022-03-22T19:48:02.172Z"
   },
   {
    "duration": 48,
    "start_time": "2022-03-22T19:48:02.269Z"
   },
   {
    "duration": 63,
    "start_time": "2022-03-22T19:48:02.332Z"
   },
   {
    "duration": 279,
    "start_time": "2022-03-22T19:48:02.398Z"
   },
   {
    "duration": 10,
    "start_time": "2022-03-22T19:48:02.678Z"
   },
   {
    "duration": 16,
    "start_time": "2022-03-22T19:48:02.690Z"
   },
   {
    "duration": 35,
    "start_time": "2022-03-22T19:48:02.708Z"
   },
   {
    "duration": 4,
    "start_time": "2022-03-22T19:48:02.745Z"
   },
   {
    "duration": 7,
    "start_time": "2022-03-22T19:48:02.751Z"
   },
   {
    "duration": 12,
    "start_time": "2022-03-22T19:48:02.760Z"
   },
   {
    "duration": 12,
    "start_time": "2022-03-22T19:48:02.773Z"
   },
   {
    "duration": 77,
    "start_time": "2022-03-22T19:48:02.787Z"
   },
   {
    "duration": 14,
    "start_time": "2022-03-22T19:48:02.866Z"
   },
   {
    "duration": 79,
    "start_time": "2022-03-22T19:48:02.882Z"
   },
   {
    "duration": 9643,
    "start_time": "2022-03-22T19:48:02.963Z"
   },
   {
    "duration": 0,
    "start_time": "2022-03-22T19:48:12.608Z"
   },
   {
    "duration": 0,
    "start_time": "2022-03-22T19:48:12.609Z"
   },
   {
    "duration": 0,
    "start_time": "2022-03-22T19:48:12.610Z"
   },
   {
    "duration": 0,
    "start_time": "2022-03-22T19:48:12.611Z"
   },
   {
    "duration": 0,
    "start_time": "2022-03-22T19:48:12.612Z"
   },
   {
    "duration": 0,
    "start_time": "2022-03-22T19:48:12.633Z"
   },
   {
    "duration": 0,
    "start_time": "2022-03-22T19:48:12.634Z"
   },
   {
    "duration": 0,
    "start_time": "2022-03-22T19:48:12.635Z"
   },
   {
    "duration": 0,
    "start_time": "2022-03-22T19:48:12.636Z"
   },
   {
    "duration": 0,
    "start_time": "2022-03-22T19:48:12.637Z"
   },
   {
    "duration": 0,
    "start_time": "2022-03-22T19:48:12.638Z"
   },
   {
    "duration": 0,
    "start_time": "2022-03-22T19:48:12.639Z"
   },
   {
    "duration": 0,
    "start_time": "2022-03-22T19:48:12.640Z"
   },
   {
    "duration": 0,
    "start_time": "2022-03-22T19:48:12.641Z"
   },
   {
    "duration": 0,
    "start_time": "2022-03-22T19:48:12.642Z"
   },
   {
    "duration": 0,
    "start_time": "2022-03-22T19:48:12.642Z"
   },
   {
    "duration": 0,
    "start_time": "2022-03-22T19:48:12.643Z"
   },
   {
    "duration": 0,
    "start_time": "2022-03-22T19:48:12.644Z"
   },
   {
    "duration": 0,
    "start_time": "2022-03-22T19:48:12.645Z"
   },
   {
    "duration": 0,
    "start_time": "2022-03-22T19:48:12.646Z"
   },
   {
    "duration": 9709,
    "start_time": "2022-03-22T19:48:53.925Z"
   },
   {
    "duration": 4,
    "start_time": "2022-03-22T19:49:38.949Z"
   },
   {
    "duration": 4,
    "start_time": "2022-03-22T19:49:50.651Z"
   },
   {
    "duration": 313,
    "start_time": "2022-03-22T19:55:22.119Z"
   },
   {
    "duration": 170428,
    "start_time": "2022-03-22T19:56:10.199Z"
   },
   {
    "duration": 12,
    "start_time": "2022-03-22T20:07:06.019Z"
   },
   {
    "duration": 444,
    "start_time": "2022-03-22T20:07:19.520Z"
   },
   {
    "duration": 471,
    "start_time": "2022-03-22T20:07:33.301Z"
   },
   {
    "duration": 5,
    "start_time": "2022-03-22T20:07:53.620Z"
   },
   {
    "duration": 5,
    "start_time": "2022-03-22T20:08:10.502Z"
   },
   {
    "duration": 8,
    "start_time": "2022-03-22T20:11:56.819Z"
   },
   {
    "duration": 989241,
    "start_time": "2022-03-22T20:12:06.268Z"
   },
   {
    "duration": 1334,
    "start_time": "2022-03-22T20:45:04.920Z"
   },
   {
    "duration": 4,
    "start_time": "2022-03-22T20:46:00.184Z"
   },
   {
    "duration": 4,
    "start_time": "2022-03-22T20:46:08.609Z"
   },
   {
    "duration": 4,
    "start_time": "2022-03-22T20:46:14.355Z"
   },
   {
    "duration": 1426,
    "start_time": "2022-03-22T20:47:17.544Z"
   },
   {
    "duration": 4,
    "start_time": "2022-03-22T20:47:30.664Z"
   },
   {
    "duration": 4,
    "start_time": "2022-03-22T20:47:41.766Z"
   },
   {
    "duration": 844,
    "start_time": "2022-03-22T20:48:06.351Z"
   },
   {
    "duration": 46,
    "start_time": "2022-03-22T20:48:08.591Z"
   },
   {
    "duration": 1037,
    "start_time": "2022-03-22T20:48:11.655Z"
   },
   {
    "duration": 36,
    "start_time": "2022-03-22T20:48:14.384Z"
   },
   {
    "duration": 4,
    "start_time": "2022-03-22T20:48:17.485Z"
   },
   {
    "duration": 4,
    "start_time": "2022-03-22T20:48:21.118Z"
   },
   {
    "duration": 32,
    "start_time": "2022-03-22T20:48:39.510Z"
   },
   {
    "duration": 8,
    "start_time": "2022-03-22T20:48:44.286Z"
   },
   {
    "duration": 8,
    "start_time": "2022-03-22T20:48:46.557Z"
   },
   {
    "duration": 54,
    "start_time": "2022-03-23T18:17:11.379Z"
   },
   {
    "duration": 3,
    "start_time": "2022-03-23T18:29:18.157Z"
   },
   {
    "duration": 4,
    "start_time": "2022-03-23T18:30:46.470Z"
   },
   {
    "duration": 7,
    "start_time": "2022-03-23T18:35:21.861Z"
   },
   {
    "duration": 1281,
    "start_time": "2022-03-23T18:35:32.847Z"
   },
   {
    "duration": 596,
    "start_time": "2022-03-23T18:35:35.144Z"
   },
   {
    "duration": 3,
    "start_time": "2022-03-23T18:35:44.335Z"
   },
   {
    "duration": 125,
    "start_time": "2022-03-23T18:35:46.513Z"
   },
   {
    "duration": 17,
    "start_time": "2022-03-23T18:37:02.580Z"
   },
   {
    "duration": 67,
    "start_time": "2022-03-23T18:37:09.966Z"
   },
   {
    "duration": 48,
    "start_time": "2022-03-23T18:38:52.832Z"
   },
   {
    "duration": 52,
    "start_time": "2022-03-23T18:38:58.515Z"
   },
   {
    "duration": 2561,
    "start_time": "2022-03-23T18:42:03.890Z"
   },
   {
    "duration": 676,
    "start_time": "2022-03-23T18:42:13.072Z"
   },
   {
    "duration": 723,
    "start_time": "2022-03-23T18:42:24.602Z"
   },
   {
    "duration": 3,
    "start_time": "2022-03-23T18:44:29.166Z"
   },
   {
    "duration": 19,
    "start_time": "2022-03-23T18:44:31.449Z"
   },
   {
    "duration": 58,
    "start_time": "2022-03-23T18:44:40.201Z"
   },
   {
    "duration": 70,
    "start_time": "2022-03-23T18:45:01.772Z"
   },
   {
    "duration": 466,
    "start_time": "2022-03-23T18:45:08.615Z"
   },
   {
    "duration": 30,
    "start_time": "2022-03-23T18:45:18.830Z"
   },
   {
    "duration": 227,
    "start_time": "2022-03-23T18:47:49.417Z"
   },
   {
    "duration": 20,
    "start_time": "2022-03-23T18:48:05.186Z"
   },
   {
    "duration": 3,
    "start_time": "2022-03-23T18:55:19.758Z"
   },
   {
    "duration": 459,
    "start_time": "2022-03-23T18:55:22.648Z"
   },
   {
    "duration": 228,
    "start_time": "2022-03-23T18:55:24.863Z"
   },
   {
    "duration": 4,
    "start_time": "2022-03-23T18:55:54.941Z"
   },
   {
    "duration": 3,
    "start_time": "2022-03-23T18:57:07.024Z"
   },
   {
    "duration": 476,
    "start_time": "2022-03-23T18:57:09.548Z"
   },
   {
    "duration": 234,
    "start_time": "2022-03-23T18:57:11.572Z"
   },
   {
    "duration": 3,
    "start_time": "2022-03-23T18:57:13.855Z"
   },
   {
    "duration": 454,
    "start_time": "2022-03-23T18:57:15.708Z"
   },
   {
    "duration": 232,
    "start_time": "2022-03-23T18:57:17.471Z"
   },
   {
    "duration": 3,
    "start_time": "2022-03-23T18:57:19.604Z"
   },
   {
    "duration": 474,
    "start_time": "2022-03-23T18:57:21.610Z"
   },
   {
    "duration": 280,
    "start_time": "2022-03-23T18:57:23.184Z"
   },
   {
    "duration": 22,
    "start_time": "2022-03-23T18:57:39.245Z"
   },
   {
    "duration": 1204,
    "start_time": "2022-03-23T18:58:35.459Z"
   },
   {
    "duration": 795,
    "start_time": "2022-03-23T18:58:36.665Z"
   },
   {
    "duration": 3,
    "start_time": "2022-03-23T18:58:37.462Z"
   },
   {
    "duration": 124,
    "start_time": "2022-03-23T18:58:37.467Z"
   },
   {
    "duration": 99,
    "start_time": "2022-03-23T18:58:37.592Z"
   },
   {
    "duration": 76,
    "start_time": "2022-03-23T18:58:37.693Z"
   },
   {
    "duration": 92,
    "start_time": "2022-03-23T18:58:37.770Z"
   },
   {
    "duration": 50,
    "start_time": "2022-03-23T18:58:37.864Z"
   },
   {
    "duration": 305,
    "start_time": "2022-03-23T18:58:37.915Z"
   },
   {
    "duration": 13,
    "start_time": "2022-03-23T18:58:38.223Z"
   },
   {
    "duration": 10,
    "start_time": "2022-03-23T18:58:38.238Z"
   },
   {
    "duration": 31,
    "start_time": "2022-03-23T18:58:38.250Z"
   },
   {
    "duration": 4,
    "start_time": "2022-03-23T18:58:38.283Z"
   },
   {
    "duration": 7,
    "start_time": "2022-03-23T18:58:38.289Z"
   },
   {
    "duration": 9,
    "start_time": "2022-03-23T18:58:38.298Z"
   },
   {
    "duration": 485,
    "start_time": "2022-03-23T18:58:38.308Z"
   },
   {
    "duration": 233,
    "start_time": "2022-03-23T18:58:38.795Z"
   },
   {
    "duration": 3,
    "start_time": "2022-03-23T18:58:39.032Z"
   },
   {
    "duration": 482,
    "start_time": "2022-03-23T18:58:39.036Z"
   },
   {
    "duration": 245,
    "start_time": "2022-03-23T18:58:39.520Z"
   },
   {
    "duration": 3,
    "start_time": "2022-03-23T18:58:39.767Z"
   },
   {
    "duration": 2865,
    "start_time": "2022-03-23T18:58:39.772Z"
   },
   {
    "duration": 0,
    "start_time": "2022-03-23T18:58:42.640Z"
   },
   {
    "duration": 0,
    "start_time": "2022-03-23T18:58:42.641Z"
   },
   {
    "duration": 0,
    "start_time": "2022-03-23T18:58:42.642Z"
   },
   {
    "duration": 0,
    "start_time": "2022-03-23T18:58:42.644Z"
   },
   {
    "duration": 0,
    "start_time": "2022-03-23T18:58:42.645Z"
   },
   {
    "duration": 0,
    "start_time": "2022-03-23T18:58:42.645Z"
   },
   {
    "duration": 0,
    "start_time": "2022-03-23T18:58:42.647Z"
   },
   {
    "duration": 0,
    "start_time": "2022-03-23T18:58:42.648Z"
   },
   {
    "duration": 0,
    "start_time": "2022-03-23T18:58:42.649Z"
   },
   {
    "duration": 0,
    "start_time": "2022-03-23T18:58:42.651Z"
   },
   {
    "duration": 0,
    "start_time": "2022-03-23T18:58:42.652Z"
   },
   {
    "duration": 0,
    "start_time": "2022-03-23T18:58:42.653Z"
   },
   {
    "duration": 0,
    "start_time": "2022-03-23T18:58:42.654Z"
   },
   {
    "duration": 0,
    "start_time": "2022-03-23T18:58:42.655Z"
   },
   {
    "duration": 0,
    "start_time": "2022-03-23T18:58:42.656Z"
   },
   {
    "duration": 0,
    "start_time": "2022-03-23T18:58:42.657Z"
   },
   {
    "duration": 0,
    "start_time": "2022-03-23T18:58:42.657Z"
   },
   {
    "duration": 0,
    "start_time": "2022-03-23T18:58:42.658Z"
   },
   {
    "duration": 0,
    "start_time": "2022-03-23T18:58:42.659Z"
   },
   {
    "duration": 0,
    "start_time": "2022-03-23T18:58:42.661Z"
   },
   {
    "duration": 0,
    "start_time": "2022-03-23T18:58:42.662Z"
   },
   {
    "duration": 0,
    "start_time": "2022-03-23T18:58:42.663Z"
   },
   {
    "duration": 0,
    "start_time": "2022-03-23T18:58:42.664Z"
   },
   {
    "duration": 0,
    "start_time": "2022-03-23T18:58:42.665Z"
   },
   {
    "duration": 0,
    "start_time": "2022-03-23T18:58:42.666Z"
   },
   {
    "duration": 0,
    "start_time": "2022-03-23T18:58:42.667Z"
   },
   {
    "duration": 0,
    "start_time": "2022-03-23T18:58:42.668Z"
   },
   {
    "duration": 0,
    "start_time": "2022-03-23T18:58:42.669Z"
   },
   {
    "duration": 0,
    "start_time": "2022-03-23T18:58:42.671Z"
   },
   {
    "duration": 0,
    "start_time": "2022-03-23T18:58:42.672Z"
   },
   {
    "duration": 0,
    "start_time": "2022-03-23T18:58:42.674Z"
   },
   {
    "duration": 0,
    "start_time": "2022-03-23T18:58:42.675Z"
   },
   {
    "duration": 0,
    "start_time": "2022-03-23T18:58:42.676Z"
   },
   {
    "duration": 3,
    "start_time": "2022-03-23T18:59:30.160Z"
   },
   {
    "duration": 484,
    "start_time": "2022-03-23T18:59:32.257Z"
   },
   {
    "duration": 232,
    "start_time": "2022-03-23T18:59:35.071Z"
   },
   {
    "duration": 21,
    "start_time": "2022-03-23T18:59:36.590Z"
   },
   {
    "duration": 20,
    "start_time": "2022-03-23T18:59:39.138Z"
   },
   {
    "duration": 6,
    "start_time": "2022-03-23T19:12:13.968Z"
   },
   {
    "duration": 1256,
    "start_time": "2022-03-23T19:15:31.711Z"
   },
   {
    "duration": 1709,
    "start_time": "2022-03-23T19:15:32.969Z"
   },
   {
    "duration": 3,
    "start_time": "2022-03-23T19:15:34.680Z"
   },
   {
    "duration": 123,
    "start_time": "2022-03-23T19:15:34.685Z"
   },
   {
    "duration": 97,
    "start_time": "2022-03-23T19:15:34.809Z"
   },
   {
    "duration": 66,
    "start_time": "2022-03-23T19:15:34.908Z"
   },
   {
    "duration": 102,
    "start_time": "2022-03-23T19:15:34.976Z"
   },
   {
    "duration": 60,
    "start_time": "2022-03-23T19:15:35.080Z"
   },
   {
    "duration": 285,
    "start_time": "2022-03-23T19:15:35.142Z"
   },
   {
    "duration": 8,
    "start_time": "2022-03-23T19:15:35.430Z"
   },
   {
    "duration": 11,
    "start_time": "2022-03-23T19:15:35.440Z"
   },
   {
    "duration": 31,
    "start_time": "2022-03-23T19:15:35.452Z"
   },
   {
    "duration": 4,
    "start_time": "2022-03-23T19:15:35.485Z"
   },
   {
    "duration": 10,
    "start_time": "2022-03-23T19:15:35.491Z"
   },
   {
    "duration": 8,
    "start_time": "2022-03-23T19:15:35.502Z"
   },
   {
    "duration": 486,
    "start_time": "2022-03-23T19:15:35.512Z"
   },
   {
    "duration": 238,
    "start_time": "2022-03-23T19:15:36.000Z"
   },
   {
    "duration": 3,
    "start_time": "2022-03-23T19:15:36.240Z"
   },
   {
    "duration": 478,
    "start_time": "2022-03-23T19:15:36.245Z"
   },
   {
    "duration": 242,
    "start_time": "2022-03-23T19:15:36.724Z"
   },
   {
    "duration": 4,
    "start_time": "2022-03-23T19:15:36.968Z"
   },
   {
    "duration": 489,
    "start_time": "2022-03-23T19:15:36.974Z"
   },
   {
    "duration": 251,
    "start_time": "2022-03-23T19:15:37.464Z"
   },
   {
    "duration": 27,
    "start_time": "2022-03-23T19:15:37.716Z"
   },
   {
    "duration": 20,
    "start_time": "2022-03-23T19:15:37.745Z"
   },
   {
    "duration": 166,
    "start_time": "2022-03-23T19:15:37.767Z"
   },
   {
    "duration": 0,
    "start_time": "2022-03-23T19:15:37.936Z"
   },
   {
    "duration": 0,
    "start_time": "2022-03-23T19:15:37.938Z"
   },
   {
    "duration": 0,
    "start_time": "2022-03-23T19:15:37.939Z"
   },
   {
    "duration": 0,
    "start_time": "2022-03-23T19:15:37.940Z"
   },
   {
    "duration": 0,
    "start_time": "2022-03-23T19:15:37.941Z"
   },
   {
    "duration": 0,
    "start_time": "2022-03-23T19:15:37.942Z"
   },
   {
    "duration": 0,
    "start_time": "2022-03-23T19:15:37.943Z"
   },
   {
    "duration": 0,
    "start_time": "2022-03-23T19:15:37.944Z"
   },
   {
    "duration": 0,
    "start_time": "2022-03-23T19:15:37.945Z"
   },
   {
    "duration": 0,
    "start_time": "2022-03-23T19:15:37.947Z"
   },
   {
    "duration": 0,
    "start_time": "2022-03-23T19:15:37.948Z"
   },
   {
    "duration": 0,
    "start_time": "2022-03-23T19:15:37.949Z"
   },
   {
    "duration": 0,
    "start_time": "2022-03-23T19:15:37.950Z"
   },
   {
    "duration": 0,
    "start_time": "2022-03-23T19:15:37.951Z"
   },
   {
    "duration": 0,
    "start_time": "2022-03-23T19:15:37.952Z"
   },
   {
    "duration": 0,
    "start_time": "2022-03-23T19:15:37.953Z"
   },
   {
    "duration": 0,
    "start_time": "2022-03-23T19:15:37.954Z"
   },
   {
    "duration": 0,
    "start_time": "2022-03-23T19:15:37.955Z"
   },
   {
    "duration": 0,
    "start_time": "2022-03-23T19:15:37.956Z"
   },
   {
    "duration": 0,
    "start_time": "2022-03-23T19:15:37.957Z"
   },
   {
    "duration": 0,
    "start_time": "2022-03-23T19:15:37.958Z"
   },
   {
    "duration": 0,
    "start_time": "2022-03-23T19:15:37.959Z"
   },
   {
    "duration": 0,
    "start_time": "2022-03-23T19:15:37.960Z"
   },
   {
    "duration": 0,
    "start_time": "2022-03-23T19:15:37.961Z"
   },
   {
    "duration": 0,
    "start_time": "2022-03-23T19:15:37.962Z"
   },
   {
    "duration": 0,
    "start_time": "2022-03-23T19:15:37.963Z"
   },
   {
    "duration": 0,
    "start_time": "2022-03-23T19:15:37.964Z"
   },
   {
    "duration": 0,
    "start_time": "2022-03-23T19:15:37.965Z"
   },
   {
    "duration": 0,
    "start_time": "2022-03-23T19:15:37.967Z"
   },
   {
    "duration": 0,
    "start_time": "2022-03-23T19:15:37.968Z"
   },
   {
    "duration": 0,
    "start_time": "2022-03-23T19:15:37.969Z"
   },
   {
    "duration": 179,
    "start_time": "2022-03-23T19:16:18.923Z"
   },
   {
    "duration": 165,
    "start_time": "2022-03-23T19:16:23.900Z"
   },
   {
    "duration": 173,
    "start_time": "2022-03-23T19:16:43.230Z"
   },
   {
    "duration": 4,
    "start_time": "2022-03-23T19:17:10.917Z"
   },
   {
    "duration": 1243,
    "start_time": "2022-03-23T19:17:25.630Z"
   },
   {
    "duration": 452,
    "start_time": "2022-03-23T19:17:26.876Z"
   },
   {
    "duration": 4,
    "start_time": "2022-03-23T19:17:27.329Z"
   },
   {
    "duration": 128,
    "start_time": "2022-03-23T19:17:27.335Z"
   },
   {
    "duration": 108,
    "start_time": "2022-03-23T19:17:27.465Z"
   },
   {
    "duration": 79,
    "start_time": "2022-03-23T19:17:27.575Z"
   },
   {
    "duration": 93,
    "start_time": "2022-03-23T19:17:27.655Z"
   },
   {
    "duration": 52,
    "start_time": "2022-03-23T19:17:27.750Z"
   },
   {
    "duration": 306,
    "start_time": "2022-03-23T19:17:27.804Z"
   },
   {
    "duration": 7,
    "start_time": "2022-03-23T19:17:28.113Z"
   },
   {
    "duration": 13,
    "start_time": "2022-03-23T19:17:28.122Z"
   },
   {
    "duration": 31,
    "start_time": "2022-03-23T19:17:28.137Z"
   },
   {
    "duration": 6,
    "start_time": "2022-03-23T19:17:28.170Z"
   },
   {
    "duration": 9,
    "start_time": "2022-03-23T19:17:28.178Z"
   },
   {
    "duration": 10,
    "start_time": "2022-03-23T19:17:28.189Z"
   },
   {
    "duration": 493,
    "start_time": "2022-03-23T19:17:28.201Z"
   },
   {
    "duration": 238,
    "start_time": "2022-03-23T19:17:28.696Z"
   },
   {
    "duration": 4,
    "start_time": "2022-03-23T19:17:28.936Z"
   },
   {
    "duration": 490,
    "start_time": "2022-03-23T19:17:28.942Z"
   },
   {
    "duration": 245,
    "start_time": "2022-03-23T19:17:29.434Z"
   },
   {
    "duration": 4,
    "start_time": "2022-03-23T19:17:29.681Z"
   },
   {
    "duration": 500,
    "start_time": "2022-03-23T19:17:29.687Z"
   },
   {
    "duration": 238,
    "start_time": "2022-03-23T19:17:30.189Z"
   },
   {
    "duration": 22,
    "start_time": "2022-03-23T19:17:30.429Z"
   },
   {
    "duration": 34,
    "start_time": "2022-03-23T19:17:30.453Z"
   },
   {
    "duration": 24,
    "start_time": "2022-03-23T19:17:30.488Z"
   },
   {
    "duration": 23,
    "start_time": "2022-03-23T19:17:30.514Z"
   },
   {
    "duration": 31,
    "start_time": "2022-03-23T19:17:30.543Z"
   },
   {
    "duration": 46,
    "start_time": "2022-03-23T19:17:30.576Z"
   },
   {
    "duration": 72,
    "start_time": "2022-03-23T19:17:30.624Z"
   },
   {
    "duration": 10,
    "start_time": "2022-03-23T19:17:30.698Z"
   },
   {
    "duration": 97,
    "start_time": "2022-03-23T19:17:30.709Z"
   },
   {
    "duration": 10532,
    "start_time": "2022-03-23T19:17:30.808Z"
   },
   {
    "duration": 189072,
    "start_time": "2022-03-23T19:17:41.435Z"
   },
   {
    "duration": 523,
    "start_time": "2022-03-23T19:20:50.508Z"
   },
   {
    "duration": 4,
    "start_time": "2022-03-23T19:20:51.033Z"
   },
   {
    "duration": 17,
    "start_time": "2022-03-23T19:20:51.039Z"
   },
   {
    "duration": 191050,
    "start_time": "2022-03-23T19:20:51.058Z"
   },
   {
    "duration": 0,
    "start_time": "2022-03-23T19:24:02.111Z"
   },
   {
    "duration": 0,
    "start_time": "2022-03-23T19:24:02.112Z"
   },
   {
    "duration": 0,
    "start_time": "2022-03-23T19:24:02.113Z"
   },
   {
    "duration": 0,
    "start_time": "2022-03-23T19:24:02.115Z"
   },
   {
    "duration": 0,
    "start_time": "2022-03-23T19:24:02.116Z"
   },
   {
    "duration": 0,
    "start_time": "2022-03-23T19:24:02.117Z"
   },
   {
    "duration": 0,
    "start_time": "2022-03-23T19:24:02.118Z"
   },
   {
    "duration": 0,
    "start_time": "2022-03-23T19:24:02.132Z"
   },
   {
    "duration": 0,
    "start_time": "2022-03-23T19:24:02.133Z"
   },
   {
    "duration": 0,
    "start_time": "2022-03-23T19:24:02.134Z"
   },
   {
    "duration": 0,
    "start_time": "2022-03-23T19:24:02.135Z"
   },
   {
    "duration": 0,
    "start_time": "2022-03-23T19:24:02.136Z"
   },
   {
    "duration": 0,
    "start_time": "2022-03-23T19:24:02.137Z"
   },
   {
    "duration": 0,
    "start_time": "2022-03-23T19:24:02.138Z"
   },
   {
    "duration": 0,
    "start_time": "2022-03-23T19:24:02.139Z"
   },
   {
    "duration": 0,
    "start_time": "2022-03-23T19:24:02.140Z"
   },
   {
    "duration": 0,
    "start_time": "2022-03-23T19:24:02.141Z"
   },
   {
    "duration": 0,
    "start_time": "2022-03-23T19:24:02.142Z"
   },
   {
    "duration": 0,
    "start_time": "2022-03-23T19:24:02.143Z"
   },
   {
    "duration": 0,
    "start_time": "2022-03-23T19:24:02.144Z"
   },
   {
    "duration": 10546,
    "start_time": "2022-03-23T19:24:04.495Z"
   },
   {
    "duration": 12849,
    "start_time": "2022-03-23T19:25:23.257Z"
   },
   {
    "duration": 25793,
    "start_time": "2022-03-23T19:25:38.132Z"
   },
   {
    "duration": 404,
    "start_time": "2022-03-23T19:26:04.979Z"
   },
   {
    "duration": 234014,
    "start_time": "2022-03-23T19:26:41.101Z"
   },
   {
    "duration": 19555,
    "start_time": "2022-03-23T19:35:46.688Z"
   },
   {
    "duration": 68694,
    "start_time": "2022-03-23T19:36:20.903Z"
   },
   {
    "duration": 14203,
    "start_time": "2022-03-23T19:37:43.889Z"
   },
   {
    "duration": 179406,
    "start_time": "2022-03-23T19:38:47.734Z"
   },
   {
    "duration": 168,
    "start_time": "2022-03-23T19:42:04.882Z"
   },
   {
    "duration": 11,
    "start_time": "2022-03-23T19:42:32.316Z"
   },
   {
    "duration": 10,
    "start_time": "2022-03-23T19:45:56.358Z"
   },
   {
    "duration": 510,
    "start_time": "2022-03-23T19:46:21.601Z"
   },
   {
    "duration": 161,
    "start_time": "2022-03-23T19:46:41.200Z"
   },
   {
    "duration": 489,
    "start_time": "2022-03-23T19:46:49.586Z"
   },
   {
    "duration": 12200,
    "start_time": "2022-03-23T19:47:40.656Z"
   },
   {
    "duration": 1176,
    "start_time": "2022-03-23T20:11:15.275Z"
   },
   {
    "duration": 469,
    "start_time": "2022-03-23T20:11:16.453Z"
   },
   {
    "duration": 4,
    "start_time": "2022-03-23T20:11:16.924Z"
   },
   {
    "duration": 130,
    "start_time": "2022-03-23T20:11:16.930Z"
   },
   {
    "duration": 101,
    "start_time": "2022-03-23T20:11:17.062Z"
   },
   {
    "duration": 74,
    "start_time": "2022-03-23T20:11:17.165Z"
   },
   {
    "duration": 91,
    "start_time": "2022-03-23T20:11:17.241Z"
   },
   {
    "duration": 50,
    "start_time": "2022-03-23T20:11:17.333Z"
   },
   {
    "duration": 296,
    "start_time": "2022-03-23T20:11:17.384Z"
   },
   {
    "duration": 8,
    "start_time": "2022-03-23T20:11:17.683Z"
   },
   {
    "duration": 9,
    "start_time": "2022-03-23T20:11:17.693Z"
   },
   {
    "duration": 38,
    "start_time": "2022-03-23T20:11:17.703Z"
   },
   {
    "duration": 4,
    "start_time": "2022-03-23T20:11:17.743Z"
   },
   {
    "duration": 7,
    "start_time": "2022-03-23T20:11:17.748Z"
   },
   {
    "duration": 9,
    "start_time": "2022-03-23T20:11:17.756Z"
   },
   {
    "duration": 457,
    "start_time": "2022-03-23T20:11:17.766Z"
   },
   {
    "duration": 224,
    "start_time": "2022-03-23T20:11:18.224Z"
   },
   {
    "duration": 4,
    "start_time": "2022-03-23T20:11:18.449Z"
   },
   {
    "duration": 462,
    "start_time": "2022-03-23T20:11:18.454Z"
   },
   {
    "duration": 241,
    "start_time": "2022-03-23T20:11:18.918Z"
   },
   {
    "duration": 4,
    "start_time": "2022-03-23T20:11:19.161Z"
   },
   {
    "duration": 478,
    "start_time": "2022-03-23T20:11:19.166Z"
   },
   {
    "duration": 232,
    "start_time": "2022-03-23T20:11:19.646Z"
   },
   {
    "duration": 20,
    "start_time": "2022-03-23T20:11:19.880Z"
   },
   {
    "duration": 36,
    "start_time": "2022-03-23T20:11:19.902Z"
   },
   {
    "duration": 4,
    "start_time": "2022-03-23T20:11:19.940Z"
   },
   {
    "duration": 8,
    "start_time": "2022-03-23T20:11:19.946Z"
   },
   {
    "duration": 7,
    "start_time": "2022-03-23T20:11:19.958Z"
   },
   {
    "duration": 14,
    "start_time": "2022-03-23T20:11:19.967Z"
   },
   {
    "duration": 78,
    "start_time": "2022-03-23T20:11:19.983Z"
   },
   {
    "duration": 11,
    "start_time": "2022-03-23T20:11:20.063Z"
   },
   {
    "duration": 67,
    "start_time": "2022-03-23T20:11:20.077Z"
   },
   {
    "duration": 10191,
    "start_time": "2022-03-23T20:11:20.146Z"
   },
   {
    "duration": 179424,
    "start_time": "2022-03-23T20:11:30.339Z"
   },
   {
    "duration": 507,
    "start_time": "2022-03-23T20:14:29.765Z"
   },
   {
    "duration": 847539,
    "start_time": "2022-03-23T20:14:30.274Z"
   },
   {
    "duration": 1459,
    "start_time": "2022-03-23T20:28:37.815Z"
   },
   {
    "duration": 137,
    "start_time": "2022-03-23T20:28:39.275Z"
   },
   {
    "duration": 0,
    "start_time": "2022-03-23T20:28:39.414Z"
   },
   {
    "duration": 0,
    "start_time": "2022-03-23T20:28:39.415Z"
   },
   {
    "duration": 0,
    "start_time": "2022-03-23T20:28:39.416Z"
   },
   {
    "duration": 0,
    "start_time": "2022-03-23T20:28:39.417Z"
   },
   {
    "duration": 0,
    "start_time": "2022-03-23T20:28:39.418Z"
   },
   {
    "duration": 0,
    "start_time": "2022-03-23T20:28:39.432Z"
   },
   {
    "duration": 0,
    "start_time": "2022-03-23T20:28:39.433Z"
   },
   {
    "duration": 0,
    "start_time": "2022-03-23T20:28:39.434Z"
   },
   {
    "duration": 0,
    "start_time": "2022-03-23T20:28:39.434Z"
   },
   {
    "duration": 0,
    "start_time": "2022-03-23T20:28:39.435Z"
   },
   {
    "duration": 0,
    "start_time": "2022-03-23T20:28:39.436Z"
   },
   {
    "duration": 0,
    "start_time": "2022-03-23T20:28:39.437Z"
   },
   {
    "duration": 0,
    "start_time": "2022-03-23T20:28:39.438Z"
   },
   {
    "duration": 0,
    "start_time": "2022-03-23T20:28:39.439Z"
   },
   {
    "duration": 0,
    "start_time": "2022-03-23T20:28:39.440Z"
   },
   {
    "duration": 5,
    "start_time": "2022-03-23T20:34:20.676Z"
   },
   {
    "duration": 7,
    "start_time": "2022-03-23T20:34:34.219Z"
   },
   {
    "duration": 947,
    "start_time": "2022-03-23T20:34:50.171Z"
   },
   {
    "duration": 45,
    "start_time": "2022-03-23T20:34:54.216Z"
   },
   {
    "duration": 1110,
    "start_time": "2022-03-23T20:34:58.315Z"
   },
   {
    "duration": 36,
    "start_time": "2022-03-23T20:35:01.952Z"
   },
   {
    "duration": 5,
    "start_time": "2022-03-23T20:35:04.898Z"
   },
   {
    "duration": 5,
    "start_time": "2022-03-23T20:35:09.087Z"
   },
   {
    "duration": 34,
    "start_time": "2022-03-23T20:35:49.264Z"
   },
   {
    "duration": 10,
    "start_time": "2022-03-23T20:35:51.965Z"
   },
   {
    "duration": 9,
    "start_time": "2022-03-23T20:35:53.789Z"
   },
   {
    "duration": 7,
    "start_time": "2022-03-23T20:35:55.799Z"
   },
   {
    "duration": 6,
    "start_time": "2022-03-23T20:35:58.026Z"
   },
   {
    "duration": 6,
    "start_time": "2022-03-23T20:36:00.498Z"
   },
   {
    "duration": 6,
    "start_time": "2022-03-23T20:36:02.208Z"
   },
   {
    "duration": 9,
    "start_time": "2022-03-23T20:36:04.888Z"
   },
   {
    "duration": 9,
    "start_time": "2022-03-23T20:36:07.223Z"
   },
   {
    "duration": 7,
    "start_time": "2022-03-23T20:36:09.768Z"
   },
   {
    "duration": 1816,
    "start_time": "2022-03-23T21:10:41.663Z"
   },
   {
    "duration": 830,
    "start_time": "2022-03-23T21:10:43.533Z"
   },
   {
    "duration": 4,
    "start_time": "2022-03-23T21:10:44.365Z"
   },
   {
    "duration": 306,
    "start_time": "2022-03-23T21:10:44.371Z"
   },
   {
    "duration": 214,
    "start_time": "2022-03-23T21:10:44.735Z"
   },
   {
    "duration": 117,
    "start_time": "2022-03-23T21:10:44.951Z"
   },
   {
    "duration": 201,
    "start_time": "2022-03-23T21:10:45.070Z"
   },
   {
    "duration": 159,
    "start_time": "2022-03-23T21:10:45.273Z"
   },
   {
    "duration": 742,
    "start_time": "2022-03-23T21:10:45.435Z"
   },
   {
    "duration": 5,
    "start_time": "2022-03-23T21:10:53.064Z"
   },
   {
    "duration": 2105,
    "start_time": "2022-03-23T21:11:03.137Z"
   },
   {
    "duration": 1130,
    "start_time": "2022-03-23T21:11:05.244Z"
   },
   {
    "duration": 57,
    "start_time": "2022-03-23T21:11:06.376Z"
   },
   {
    "duration": 211,
    "start_time": "2022-03-23T21:11:06.434Z"
   },
   {
    "duration": 133,
    "start_time": "2022-03-23T21:11:06.647Z"
   },
   {
    "duration": 162,
    "start_time": "2022-03-23T21:11:06.781Z"
   },
   {
    "duration": 189,
    "start_time": "2022-03-23T21:11:06.945Z"
   },
   {
    "duration": 102,
    "start_time": "2022-03-23T21:11:07.137Z"
   },
   {
    "duration": 515,
    "start_time": "2022-03-23T21:11:07.241Z"
   },
   {
    "duration": 9,
    "start_time": "2022-03-23T21:11:07.757Z"
   },
   {
    "duration": 65,
    "start_time": "2022-03-23T21:11:07.768Z"
   },
   {
    "duration": 36,
    "start_time": "2022-03-23T21:11:07.835Z"
   },
   {
    "duration": 4,
    "start_time": "2022-03-23T21:11:07.873Z"
   },
   {
    "duration": 6,
    "start_time": "2022-03-23T21:11:07.934Z"
   },
   {
    "duration": 24,
    "start_time": "2022-03-23T21:11:07.942Z"
   },
   {
    "duration": 887,
    "start_time": "2022-03-23T21:11:07.967Z"
   },
   {
    "duration": 411,
    "start_time": "2022-03-23T21:11:08.855Z"
   },
   {
    "duration": 4,
    "start_time": "2022-03-23T21:11:09.267Z"
   },
   {
    "duration": 960,
    "start_time": "2022-03-23T21:11:09.273Z"
   },
   {
    "duration": 421,
    "start_time": "2022-03-23T21:11:10.235Z"
   },
   {
    "duration": 4,
    "start_time": "2022-03-23T21:11:10.658Z"
   },
   {
    "duration": 978,
    "start_time": "2022-03-23T21:11:10.663Z"
   },
   {
    "duration": 427,
    "start_time": "2022-03-23T21:11:11.643Z"
   },
   {
    "duration": 74,
    "start_time": "2022-03-23T21:11:12.072Z"
   },
   {
    "duration": 17,
    "start_time": "2022-03-23T21:11:12.148Z"
   },
   {
    "duration": 66,
    "start_time": "2022-03-23T21:11:12.166Z"
   },
   {
    "duration": 6,
    "start_time": "2022-03-23T21:11:12.235Z"
   },
   {
    "duration": 12,
    "start_time": "2022-03-23T21:11:12.243Z"
   },
   {
    "duration": 17,
    "start_time": "2022-03-23T21:11:12.257Z"
   },
   {
    "duration": 169,
    "start_time": "2022-03-23T21:11:12.276Z"
   },
   {
    "duration": 11,
    "start_time": "2022-03-23T21:11:12.447Z"
   },
   {
    "duration": 105,
    "start_time": "2022-03-23T21:11:12.460Z"
   },
   {
    "duration": 22167,
    "start_time": "2022-03-23T21:11:12.567Z"
   },
   {
    "duration": 360311,
    "start_time": "2022-03-23T21:11:34.736Z"
   },
   {
    "duration": 997,
    "start_time": "2022-03-23T21:17:35.049Z"
   },
   {
    "duration": 1694331,
    "start_time": "2022-03-23T21:17:36.047Z"
   },
   {
    "duration": 2903,
    "start_time": "2022-03-23T21:45:50.432Z"
   },
   {
    "duration": 1796,
    "start_time": "2022-03-23T21:45:53.337Z"
   },
   {
    "duration": 40,
    "start_time": "2022-03-23T21:45:55.135Z"
   },
   {
    "duration": 2099,
    "start_time": "2022-03-23T21:45:55.177Z"
   },
   {
    "duration": 29,
    "start_time": "2022-03-23T21:45:57.333Z"
   },
   {
    "duration": 4,
    "start_time": "2022-03-23T21:45:57.364Z"
   },
   {
    "duration": 65,
    "start_time": "2022-03-23T21:45:57.369Z"
   },
   {
    "duration": 35,
    "start_time": "2022-03-23T21:45:57.436Z"
   },
   {
    "duration": 65,
    "start_time": "2022-03-23T21:45:57.472Z"
   },
   {
    "duration": 15,
    "start_time": "2022-03-23T21:45:57.538Z"
   },
   {
    "duration": 10,
    "start_time": "2022-03-23T21:45:57.555Z"
   },
   {
    "duration": 66,
    "start_time": "2022-03-23T21:45:57.567Z"
   },
   {
    "duration": 7,
    "start_time": "2022-03-23T21:45:57.634Z"
   },
   {
    "duration": 9,
    "start_time": "2022-03-23T21:45:57.643Z"
   },
   {
    "duration": 8,
    "start_time": "2022-03-23T21:45:57.653Z"
   },
   {
    "duration": 71,
    "start_time": "2022-03-23T21:45:57.663Z"
   },
   {
    "duration": 8,
    "start_time": "2022-03-23T21:45:57.736Z"
   },
   {
    "duration": 79,
    "start_time": "2022-10-23T16:29:52.000Z"
   },
   {
    "duration": 40,
    "start_time": "2022-10-23T16:30:07.188Z"
   },
   {
    "duration": 4,
    "start_time": "2022-10-23T16:30:12.299Z"
   },
   {
    "duration": 156,
    "start_time": "2022-10-23T16:30:16.034Z"
   },
   {
    "duration": 58,
    "start_time": "2022-10-23T16:30:24.578Z"
   },
   {
    "duration": 77,
    "start_time": "2022-10-23T16:30:40.000Z"
   },
   {
    "duration": 262,
    "start_time": "2023-01-27T20:07:00.199Z"
   },
   {
    "duration": 872,
    "start_time": "2023-01-27T20:07:02.463Z"
   },
   {
    "duration": 1122,
    "start_time": "2023-02-08T19:41:20.449Z"
   },
   {
    "duration": 3,
    "start_time": "2023-02-08T19:41:23.745Z"
   },
   {
    "duration": 765,
    "start_time": "2023-02-08T19:41:24.339Z"
   },
   {
    "duration": 181,
    "start_time": "2023-02-08T19:41:27.426Z"
   },
   {
    "duration": 680,
    "start_time": "2023-02-08T19:41:39.179Z"
   },
   {
    "duration": 1130,
    "start_time": "2023-02-08T19:42:09.300Z"
   },
   {
    "duration": 3,
    "start_time": "2023-02-08T19:42:10.432Z"
   },
   {
    "duration": 107,
    "start_time": "2023-02-08T19:42:10.436Z"
   },
   {
    "duration": 354,
    "start_time": "2023-02-08T19:42:10.545Z"
   },
   {
    "duration": 9,
    "start_time": "2023-02-08T19:42:10.901Z"
   },
   {
    "duration": 121,
    "start_time": "2023-02-08T19:42:10.912Z"
   },
   {
    "duration": 82,
    "start_time": "2023-02-08T19:42:11.035Z"
   },
   {
    "duration": 52,
    "start_time": "2023-02-08T19:42:11.119Z"
   },
   {
    "duration": 110,
    "start_time": "2023-02-08T19:42:11.173Z"
   },
   {
    "duration": 62,
    "start_time": "2023-02-08T19:42:11.287Z"
   },
   {
    "duration": 250,
    "start_time": "2023-02-08T19:42:11.350Z"
   },
   {
    "duration": 9,
    "start_time": "2023-02-08T19:42:11.602Z"
   },
   {
    "duration": 10,
    "start_time": "2023-02-08T19:42:11.613Z"
   },
   {
    "duration": 31,
    "start_time": "2023-02-08T19:42:11.625Z"
   },
   {
    "duration": 4,
    "start_time": "2023-02-08T19:42:11.658Z"
   },
   {
    "duration": 9,
    "start_time": "2023-02-08T19:42:11.663Z"
   },
   {
    "duration": 9,
    "start_time": "2023-02-08T19:42:11.673Z"
   },
   {
    "duration": 520,
    "start_time": "2023-02-08T19:42:11.683Z"
   },
   {
    "duration": 297,
    "start_time": "2023-02-08T19:42:12.205Z"
   },
   {
    "duration": 3,
    "start_time": "2023-02-08T19:42:12.504Z"
   },
   {
    "duration": 512,
    "start_time": "2023-02-08T19:42:12.510Z"
   },
   {
    "duration": 259,
    "start_time": "2023-02-08T19:42:13.024Z"
   },
   {
    "duration": 3,
    "start_time": "2023-02-08T19:42:13.285Z"
   },
   {
    "duration": 545,
    "start_time": "2023-02-08T19:42:13.290Z"
   },
   {
    "duration": 254,
    "start_time": "2023-02-08T19:42:13.837Z"
   },
   {
    "duration": 24,
    "start_time": "2023-02-08T19:42:14.093Z"
   },
   {
    "duration": 19,
    "start_time": "2023-02-08T19:42:14.119Z"
   },
   {
    "duration": 7,
    "start_time": "2023-02-08T19:42:14.143Z"
   },
   {
    "duration": 12,
    "start_time": "2023-02-08T19:42:14.151Z"
   },
   {
    "duration": 22,
    "start_time": "2023-02-08T19:42:14.165Z"
   },
   {
    "duration": 34,
    "start_time": "2023-02-08T19:42:14.191Z"
   },
   {
    "duration": 49,
    "start_time": "2023-02-08T19:42:14.227Z"
   },
   {
    "duration": 11,
    "start_time": "2023-02-08T19:42:14.278Z"
   },
   {
    "duration": 50,
    "start_time": "2023-02-08T19:42:14.290Z"
   },
   {
    "duration": 8668,
    "start_time": "2023-02-08T19:42:14.342Z"
   },
   {
    "duration": 174416,
    "start_time": "2023-02-08T19:42:23.012Z"
   },
   {
    "duration": 468,
    "start_time": "2023-02-08T19:45:17.430Z"
   },
   {
    "duration": 803718,
    "start_time": "2023-02-08T19:45:17.900Z"
   },
   {
    "duration": 1424,
    "start_time": "2023-02-08T19:58:41.619Z"
   },
   {
    "duration": 1141,
    "start_time": "2023-02-08T19:58:43.045Z"
   },
   {
    "duration": 42,
    "start_time": "2023-02-08T19:58:44.187Z"
   },
   {
    "duration": 1272,
    "start_time": "2023-02-08T19:58:44.231Z"
   },
   {
    "duration": 33,
    "start_time": "2023-02-08T19:58:45.505Z"
   },
   {
    "duration": 4,
    "start_time": "2023-02-08T19:58:45.540Z"
   },
   {
    "duration": 10,
    "start_time": "2023-02-08T19:58:45.546Z"
   },
   {
    "duration": 29,
    "start_time": "2023-02-08T19:58:45.558Z"
   },
   {
    "duration": 26,
    "start_time": "2023-02-08T19:58:45.590Z"
   },
   {
    "duration": 16,
    "start_time": "2023-02-08T19:58:45.618Z"
   },
   {
    "duration": 9,
    "start_time": "2023-02-08T19:58:45.636Z"
   },
   {
    "duration": 6,
    "start_time": "2023-02-08T19:58:45.646Z"
   },
   {
    "duration": 11,
    "start_time": "2023-02-08T19:58:45.653Z"
   },
   {
    "duration": 5,
    "start_time": "2023-02-08T19:58:45.665Z"
   },
   {
    "duration": 15,
    "start_time": "2023-02-08T19:58:45.672Z"
   },
   {
    "duration": 38,
    "start_time": "2023-02-08T19:58:45.689Z"
   },
   {
    "duration": 16,
    "start_time": "2023-02-08T19:58:45.729Z"
   }
  ],
  "kernelspec": {
   "display_name": "Python 3 (ipykernel)",
   "language": "python",
   "name": "python3"
  },
  "language_info": {
   "codemirror_mode": {
    "name": "ipython",
    "version": 3
   },
   "file_extension": ".py",
   "mimetype": "text/x-python",
   "name": "python",
   "nbconvert_exporter": "python",
   "pygments_lexer": "ipython3",
   "version": "3.9.5"
  },
  "toc": {
   "base_numbering": 1,
   "nav_menu": {},
   "number_sections": true,
   "sideBar": true,
   "skip_h1_title": true,
   "title_cell": "Table of Contents",
   "title_sidebar": "Contents",
   "toc_cell": false,
   "toc_position": {},
   "toc_section_display": true,
   "toc_window_display": false
  }
 },
 "nbformat": 4,
 "nbformat_minor": 2
}
